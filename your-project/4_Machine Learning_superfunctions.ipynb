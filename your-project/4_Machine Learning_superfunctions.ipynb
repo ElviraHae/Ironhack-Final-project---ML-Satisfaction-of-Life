{
 "cells": [
  {
   "cell_type": "markdown",
   "metadata": {},
   "source": [
    "# Machine Learning Models"
   ]
  },
  {
   "cell_type": "code",
   "execution_count": 1,
   "metadata": {},
   "outputs": [],
   "source": [
    "import numpy as np\n",
    "import pandas as pd\n",
    "import matplotlib.pyplot as plt\n",
    "import seaborn as sns\n",
    "\n",
    "from pandas_profiling import ProfileReport"
   ]
  },
  {
   "cell_type": "code",
   "execution_count": 2,
   "metadata": {},
   "outputs": [],
   "source": [
    "## classification ml:\n",
    "from sklearn.linear_model import LogisticRegression\n",
    "from sklearn.model_selection import train_test_split\n",
    "from sklearn.metrics import accuracy_score\n",
    "from sklearn.tree import DecisionTreeClassifier\n",
    "from sklearn.svm import SVC\n",
    "from sklearn.neighbors import KNeighborsClassifier\n",
    "from sklearn.metrics import confusion_matrix"
   ]
  },
  {
   "cell_type": "code",
   "execution_count": 3,
   "metadata": {},
   "outputs": [],
   "source": [
    "## regression ml\n",
    "from sklearn.linear_model import LinearRegression\n",
    "from sklearn.datasets import load_boston\n",
    "from sklearn.preprocessing import PolynomialFeatures, StandardScaler\n",
    "from sklearn.preprocessing import MinMaxScaler\n",
    "from sklearn.preprocessing import Normalizer\n",
    "from sklearn.model_selection import train_test_split\n",
    "from sklearn.pipeline import make_pipeline\n",
    "from sklearn.tree import DecisionTreeRegressor\n",
    "from sklearn.tree.export import export_text\n",
    "from sklearn.neighbors import KNeighborsRegressor"
   ]
  },
  {
   "cell_type": "code",
   "execution_count": 4,
   "metadata": {},
   "outputs": [],
   "source": [
    "### evaluation\n",
    "from sklearn.metrics import mean_absolute_error\n",
    "from sklearn.metrics import mean_squared_error\n",
    "from sklearn.metrics import r2_score"
   ]
  },
  {
   "cell_type": "code",
   "execution_count": 5,
   "metadata": {},
   "outputs": [],
   "source": [
    "### optimize model\n",
    "from sklearn.feature_selection import RFE\n",
    "from sklearn.decomposition import PCA, FastICA"
   ]
  },
  {
   "cell_type": "code",
   "execution_count": 153,
   "metadata": {},
   "outputs": [],
   "source": [
    "ds = pd.read_csv('./data/datamax_cleaned.csv', index_col=0)"
   ]
  },
  {
   "cell_type": "code",
   "execution_count": 155,
   "metadata": {},
   "outputs": [
    {
     "data": {
      "text/html": [
       "<div>\n",
       "<style scoped>\n",
       "    .dataframe tbody tr th:only-of-type {\n",
       "        vertical-align: middle;\n",
       "    }\n",
       "\n",
       "    .dataframe tbody tr th {\n",
       "        vertical-align: top;\n",
       "    }\n",
       "\n",
       "    .dataframe thead th {\n",
       "        text-align: right;\n",
       "    }\n",
       "</style>\n",
       "<table border=\"1\" class=\"dataframe\">\n",
       "  <thead>\n",
       "    <tr style=\"text-align: right;\">\n",
       "      <th></th>\n",
       "      <th>PB030: PERSONAL ID</th>\n",
       "      <th>PB020: COUNTRY</th>\n",
       "      <th>PB010: YEAR OF THE SURVEY</th>\n",
       "      <th>PB140: YEAR OF BIRTH</th>\n",
       "      <th>PB150: SEX</th>\n",
       "      <th>PB190: MARITAL STATUS</th>\n",
       "      <th>PB200: CONSENSUAL UNION</th>\n",
       "      <th>PB220A: CITIZENSHIP</th>\n",
       "      <th>PE010: CURRENT EDUCATION ACTIVITY</th>\n",
       "      <th>PE040: HIGHEST ISCED LEVEL ATTAINED</th>\n",
       "      <th>...</th>\n",
       "      <th>PW130: TRUST IN THE POLITICAL SYSTEM</th>\n",
       "      <th>PW140: TRUST IN THE LEGAL SYSTEM</th>\n",
       "      <th>PW150: TRUST IN THE POLICE</th>\n",
       "      <th>PW160: SATISFACTION WITH PERSONAL RELATIONSHIPS</th>\n",
       "      <th>PW170: PERSONAL MATTERS (ANYONE TO DISCUSS WITH)</th>\n",
       "      <th>PW180: HELP FROM OTHERS</th>\n",
       "      <th>PW190: TRUST IN OTHERS</th>\n",
       "      <th>PW200: SATISFACTION WITH RECREATIONAL OR GREEN AREAS</th>\n",
       "      <th>PW210: SATISFACTION WITH LIVING ENVIRONMENT</th>\n",
       "      <th>PW220: PHYSICAL SECURITY</th>\n",
       "    </tr>\n",
       "  </thead>\n",
       "  <tbody>\n",
       "    <tr>\n",
       "      <td>0</td>\n",
       "      <td>35601</td>\n",
       "      <td>DE</td>\n",
       "      <td>2013</td>\n",
       "      <td>1977</td>\n",
       "      <td>1</td>\n",
       "      <td>2.0</td>\n",
       "      <td>3</td>\n",
       "      <td>0</td>\n",
       "      <td>2</td>\n",
       "      <td>3.0</td>\n",
       "      <td>...</td>\n",
       "      <td>3.0</td>\n",
       "      <td>6.0</td>\n",
       "      <td>10.0</td>\n",
       "      <td>8.0</td>\n",
       "      <td>2.0</td>\n",
       "      <td>1.0</td>\n",
       "      <td>-1.0</td>\n",
       "      <td>7.0</td>\n",
       "      <td>8.0</td>\n",
       "      <td>-1.0</td>\n",
       "    </tr>\n",
       "    <tr>\n",
       "      <td>1</td>\n",
       "      <td>44701</td>\n",
       "      <td>DE</td>\n",
       "      <td>2013</td>\n",
       "      <td>1936</td>\n",
       "      <td>1</td>\n",
       "      <td>2.0</td>\n",
       "      <td>1</td>\n",
       "      <td>0</td>\n",
       "      <td>2</td>\n",
       "      <td>2.0</td>\n",
       "      <td>...</td>\n",
       "      <td>7.0</td>\n",
       "      <td>4.0</td>\n",
       "      <td>-1.0</td>\n",
       "      <td>8.0</td>\n",
       "      <td>1.0</td>\n",
       "      <td>1.0</td>\n",
       "      <td>8.0</td>\n",
       "      <td>0.0</td>\n",
       "      <td>6.0</td>\n",
       "      <td>2.0</td>\n",
       "    </tr>\n",
       "    <tr>\n",
       "      <td>2</td>\n",
       "      <td>59901</td>\n",
       "      <td>DE</td>\n",
       "      <td>2013</td>\n",
       "      <td>1952</td>\n",
       "      <td>2</td>\n",
       "      <td>2.0</td>\n",
       "      <td>3</td>\n",
       "      <td>0</td>\n",
       "      <td>1</td>\n",
       "      <td>5.0</td>\n",
       "      <td>...</td>\n",
       "      <td>3.0</td>\n",
       "      <td>8.0</td>\n",
       "      <td>9.0</td>\n",
       "      <td>10.0</td>\n",
       "      <td>1.0</td>\n",
       "      <td>1.0</td>\n",
       "      <td>-1.0</td>\n",
       "      <td>10.0</td>\n",
       "      <td>6.0</td>\n",
       "      <td>2.0</td>\n",
       "    </tr>\n",
       "    <tr>\n",
       "      <td>3</td>\n",
       "      <td>71101</td>\n",
       "      <td>DE</td>\n",
       "      <td>2013</td>\n",
       "      <td>1938</td>\n",
       "      <td>2</td>\n",
       "      <td>2.0</td>\n",
       "      <td>3</td>\n",
       "      <td>0</td>\n",
       "      <td>2</td>\n",
       "      <td>2.0</td>\n",
       "      <td>...</td>\n",
       "      <td>5.0</td>\n",
       "      <td>7.0</td>\n",
       "      <td>5.0</td>\n",
       "      <td>8.0</td>\n",
       "      <td>1.0</td>\n",
       "      <td>-1.0</td>\n",
       "      <td>6.0</td>\n",
       "      <td>9.0</td>\n",
       "      <td>5.0</td>\n",
       "      <td>3.0</td>\n",
       "    </tr>\n",
       "    <tr>\n",
       "      <td>4</td>\n",
       "      <td>79501</td>\n",
       "      <td>DE</td>\n",
       "      <td>2013</td>\n",
       "      <td>1950</td>\n",
       "      <td>2</td>\n",
       "      <td>5.0</td>\n",
       "      <td>3</td>\n",
       "      <td>0</td>\n",
       "      <td>2</td>\n",
       "      <td>3.0</td>\n",
       "      <td>...</td>\n",
       "      <td>0.0</td>\n",
       "      <td>2.0</td>\n",
       "      <td>-1.0</td>\n",
       "      <td>2.0</td>\n",
       "      <td>1.0</td>\n",
       "      <td>-1.0</td>\n",
       "      <td>5.0</td>\n",
       "      <td>2.0</td>\n",
       "      <td>10.0</td>\n",
       "      <td>1.0</td>\n",
       "    </tr>\n",
       "  </tbody>\n",
       "</table>\n",
       "<p>5 rows × 55 columns</p>\n",
       "</div>"
      ],
      "text/plain": [
       "   PB030: PERSONAL ID PB020: COUNTRY  PB010: YEAR OF THE SURVEY  \\\n",
       "0               35601             DE                       2013   \n",
       "1               44701             DE                       2013   \n",
       "2               59901             DE                       2013   \n",
       "3               71101             DE                       2013   \n",
       "4               79501             DE                       2013   \n",
       "\n",
       "   PB140: YEAR OF BIRTH  PB150: SEX  PB190: MARITAL STATUS  \\\n",
       "0                  1977           1                    2.0   \n",
       "1                  1936           1                    2.0   \n",
       "2                  1952           2                    2.0   \n",
       "3                  1938           2                    2.0   \n",
       "4                  1950           2                    5.0   \n",
       "\n",
       "   PB200: CONSENSUAL UNION  PB220A: CITIZENSHIP  \\\n",
       "0                        3                    0   \n",
       "1                        1                    0   \n",
       "2                        3                    0   \n",
       "3                        3                    0   \n",
       "4                        3                    0   \n",
       "\n",
       "   PE010: CURRENT EDUCATION ACTIVITY  PE040: HIGHEST ISCED LEVEL ATTAINED  \\\n",
       "0                                  2                                  3.0   \n",
       "1                                  2                                  2.0   \n",
       "2                                  1                                  5.0   \n",
       "3                                  2                                  2.0   \n",
       "4                                  2                                  3.0   \n",
       "\n",
       "   ...  PW130: TRUST IN THE POLITICAL SYSTEM  \\\n",
       "0  ...                                   3.0   \n",
       "1  ...                                   7.0   \n",
       "2  ...                                   3.0   \n",
       "3  ...                                   5.0   \n",
       "4  ...                                   0.0   \n",
       "\n",
       "   PW140: TRUST IN THE LEGAL SYSTEM  PW150: TRUST IN THE POLICE  \\\n",
       "0                               6.0                        10.0   \n",
       "1                               4.0                        -1.0   \n",
       "2                               8.0                         9.0   \n",
       "3                               7.0                         5.0   \n",
       "4                               2.0                        -1.0   \n",
       "\n",
       "   PW160: SATISFACTION WITH PERSONAL RELATIONSHIPS  \\\n",
       "0                                              8.0   \n",
       "1                                              8.0   \n",
       "2                                             10.0   \n",
       "3                                              8.0   \n",
       "4                                              2.0   \n",
       "\n",
       "   PW170: PERSONAL MATTERS (ANYONE TO DISCUSS WITH)  PW180: HELP FROM OTHERS  \\\n",
       "0                                               2.0                      1.0   \n",
       "1                                               1.0                      1.0   \n",
       "2                                               1.0                      1.0   \n",
       "3                                               1.0                     -1.0   \n",
       "4                                               1.0                     -1.0   \n",
       "\n",
       "   PW190: TRUST IN OTHERS  \\\n",
       "0                    -1.0   \n",
       "1                     8.0   \n",
       "2                    -1.0   \n",
       "3                     6.0   \n",
       "4                     5.0   \n",
       "\n",
       "   PW200: SATISFACTION WITH RECREATIONAL OR GREEN AREAS  \\\n",
       "0                                                7.0      \n",
       "1                                                0.0      \n",
       "2                                               10.0      \n",
       "3                                                9.0      \n",
       "4                                                2.0      \n",
       "\n",
       "   PW210: SATISFACTION WITH LIVING ENVIRONMENT  PW220: PHYSICAL SECURITY  \n",
       "0                                          8.0                      -1.0  \n",
       "1                                          6.0                       2.0  \n",
       "2                                          6.0                       2.0  \n",
       "3                                          5.0                       3.0  \n",
       "4                                         10.0                       1.0  \n",
       "\n",
       "[5 rows x 55 columns]"
      ]
     },
     "execution_count": 155,
     "metadata": {},
     "output_type": "execute_result"
    }
   ],
   "source": [
    "ds.head()"
   ]
  },
  {
   "cell_type": "code",
   "execution_count": 156,
   "metadata": {},
   "outputs": [
    {
     "data": {
      "text/plain": [
       "['PB140: YEAR OF BIRTH',\n",
       " 'PB150: SEX',\n",
       " 'PB190: MARITAL STATUS',\n",
       " 'PB200: CONSENSUAL UNION',\n",
       " 'PB220A: CITIZENSHIP',\n",
       " 'PE010: CURRENT EDUCATION ACTIVITY',\n",
       " 'PE040: HIGHEST ISCED LEVEL ATTAINED',\n",
       " 'PL031: SELF-DEFINED CURRENT ECONOMIC STATUS',\n",
       " 'PL035: WORKED AT LEAST 1 HOUR DURING THE PREVIOUS WEEK',\n",
       " 'PL051: OCCUPATION (ISCO-08 (COM))',\n",
       " 'PL150: MANAGERIAL POSITION',\n",
       " 'PH010: GENERAL HEALTH',\n",
       " 'PH020: SUFFER FROM ANY A CHRONIC (LONG-STANDING) ILLNESS OR CONDITION',\n",
       " 'PH030: LIMITATION IN ACTIVITIES BECAUSE OF HEALTH PROBLEMS',\n",
       " 'PH040: UNMET NEED FOR MEDICAL EXAMINATION OR TREATMENT',\n",
       " 'PH060: UNMET NEED FOR DENTAL EXAMINATION OR TREATMENT',\n",
       " 'PY010G_PY020G_PY021G_PY050G: EMPLOYEE INCOME',\n",
       " 'PY035G: CONTRIBUTIONS TO INDIVIDUAL PRIVATE PENSION PLANS',\n",
       " 'PY080G: PENSION FROM INDIVIDUAL PRIVATE PLANS',\n",
       " 'PY090G++: SOCIAL BENEFITS',\n",
       " 'PD020: Replace worn-out clothes by some new (not second-hand) ones',\n",
       " 'PD030: Two pairs of properly fitting shoes',\n",
       " 'PD050: Get-together with friends/family (relatives) for a drink/meal at least once a month',\n",
       " 'PD060: Regularly participate in a leisure activity',\n",
       " 'PD070: Spend a small amount of money each week on yourself',\n",
       " 'PD080: Internet connection for personal use at home',\n",
       " 'PW010: OVERALL LIFE SATISFACTION',\n",
       " 'PW020: MEANING OF LIFE',\n",
       " 'PW030: SATISFACTION WITH FINANCIAL SITUATION',\n",
       " 'PW040: SATISFACTION WITH ACCOMMODATION',\n",
       " 'PW050: BEING VERY NERVOUS',\n",
       " 'PW060: FEELING DOWN IN THE DUMPS',\n",
       " 'PW070: FEELING CALM AND PEACEFUL',\n",
       " 'PW080: FEELING DOWNHEARTED OR DEPRESSED',\n",
       " 'PW090: BEING HAPPY',\n",
       " 'PW120: SATISFACTION WITH TIME USE',\n",
       " 'PW130: TRUST IN THE POLITICAL SYSTEM',\n",
       " 'PW140: TRUST IN THE LEGAL SYSTEM',\n",
       " 'PW150: TRUST IN THE POLICE',\n",
       " 'PW160: SATISFACTION WITH PERSONAL RELATIONSHIPS',\n",
       " 'PW170: PERSONAL MATTERS (ANYONE TO DISCUSS WITH)',\n",
       " 'PW180: HELP FROM OTHERS',\n",
       " 'PW190: TRUST IN OTHERS',\n",
       " 'PW200: SATISFACTION WITH RECREATIONAL OR GREEN AREAS',\n",
       " 'PW210: SATISFACTION WITH LIVING ENVIRONMENT',\n",
       " 'PW220: PHYSICAL SECURITY']"
      ]
     },
     "execution_count": 156,
     "metadata": {},
     "output_type": "execute_result"
    }
   ],
   "source": [
    "#subsets\n",
    "background = ['PB140: YEAR OF BIRTH','PB150: SEX','PB190: MARITAL STATUS','PB200: CONSENSUAL UNION', 'PB220A: CITIZENSHIP']\n",
    "\n",
    "education = ['PE010: CURRENT EDUCATION ACTIVITY', 'PE040: HIGHEST ISCED LEVEL ATTAINED']\n",
    "\n",
    "work = ['PL031: SELF-DEFINED CURRENT ECONOMIC STATUS', 'PL035: WORKED AT LEAST 1 HOUR DURING THE PREVIOUS WEEK', 'PL051: OCCUPATION (ISCO-08 (COM))', 'PL150: MANAGERIAL POSITION']\n",
    "\n",
    "health = ['PH010: GENERAL HEALTH',\n",
    " 'PH020: SUFFER FROM ANY A CHRONIC (LONG-STANDING) ILLNESS OR CONDITION',\n",
    " 'PH030: LIMITATION IN ACTIVITIES BECAUSE OF HEALTH PROBLEMS',\n",
    " 'PH040: UNMET NEED FOR MEDICAL EXAMINATION OR TREATMENT',\n",
    " 'PH060: UNMET NEED FOR DENTAL EXAMINATION OR TREATMENT']\n",
    "\n",
    "job= ['PY010G_PY020G_PY021G_PY050G: EMPLOYEE INCOME',\n",
    "       'PY035G: CONTRIBUTIONS TO INDIVIDUAL PRIVATE PENSION PLANS',\n",
    "      'PY080G: PENSION FROM INDIVIDUAL PRIVATE PLANS',\n",
    "      \"PY090G++: SOCIAL BENEFITS\"]\n",
    "jobdiff=['PY010G_PY020G_PY021G_PY050G: EMPLOYEE INCOME',\n",
    "       'PY035G: CONTRIBUTIONS TO INDIVIDUAL PRIVATE PENSION PLANS',\n",
    "      'PY080G: PENSION FROM INDIVIDUAL PRIVATE PLANS',\n",
    "       'PY090G: UNEMPLOYMENT BENEFITS', 'PY100G: OLD-AGE BENEFITS',\n",
    "       'PY110G: SURVIVOR’ BENEFITS', 'PY120G: SICKNESS BENEFITS',\n",
    "       'PY130G: DISABILITY BENEFITS', 'PY140G: EDUCATION-RELATED ALLOWANCES']\n",
    "\n",
    "\n",
    "bneeds= ['PD020: Replace worn-out clothes by some new (not second-hand) ones',\n",
    "       'PD030: Two pairs of properly fitting shoes',\n",
    "       'PD050: Get-together with friends/family (relatives) for a drink/meal at least once a month',\n",
    "       'PD060: Regularly participate in a leisure activity',\n",
    "       'PD070: Spend a small amount of money each week on yourself',\n",
    "       'PD080: Internet connection for personal use at home']\n",
    "\n",
    "\n",
    "sat =['PW010: OVERALL LIFE SATISFACTION', 'PW020: MEANING OF LIFE',\n",
    "       'PW030: SATISFACTION WITH FINANCIAL SITUATION',\n",
    "       'PW040: SATISFACTION WITH ACCOMMODATION', 'PW050: BEING VERY NERVOUS',\n",
    "       'PW060: FEELING DOWN IN THE DUMPS', 'PW070: FEELING CALM AND PEACEFUL',\n",
    "       'PW080: FEELING DOWNHEARTED OR DEPRESSED', 'PW090: BEING HAPPY',\n",
    "       'PW120: SATISFACTION WITH TIME USE',\n",
    "       'PW130: TRUST IN THE POLITICAL SYSTEM',\n",
    "       'PW140: TRUST IN THE LEGAL SYSTEM', 'PW150: TRUST IN THE POLICE',\n",
    "       'PW160: SATISFACTION WITH PERSONAL RELATIONSHIPS',\n",
    "       'PW170: PERSONAL MATTERS (ANYONE TO DISCUSS WITH)',\n",
    "       'PW180: HELP FROM OTHERS', 'PW190: TRUST IN OTHERS',\n",
    "       'PW200: SATISFACTION WITH RECREATIONAL OR GREEN AREAS',\n",
    "       'PW210: SATISFACTION WITH LIVING ENVIRONMENT',\n",
    "       'PW220: PHYSICAL SECURITY']\n",
    "\n",
    "subsets= [background,education,work,health,job,bneeds, sat]\n",
    "columns = []\n",
    "for x in subsets:\n",
    "    for y in x:\n",
    "        columns.append (y)\n",
    "columns"
   ]
  },
  {
   "cell_type": "markdown",
   "metadata": {},
   "source": [
    "# 0 Superfunctions"
   ]
  },
  {
   "cell_type": "code",
   "execution_count": 8,
   "metadata": {},
   "outputs": [],
   "source": [
    "# refresh ds\n",
    "def reload():\n",
    "    return pd.read_csv('./data/datamax_cleaned.csv', index_col=0)"
   ]
  },
  {
   "cell_type": "markdown",
   "metadata": {},
   "source": [
    "## 0.1 binning"
   ]
  },
  {
   "cell_type": "code",
   "execution_count": 9,
   "metadata": {},
   "outputs": [],
   "source": [
    "def pbin(column_to_bin, x):\n",
    "    bin_labels = [x for x in range(0,x)]\n",
    "\n",
    "    equal_bins = pd.cut(ds[column_to_bin], x, labels = bin_labels)\n",
    "    return equal_bins\n",
    "\n",
    "def qbin(column_to_bin, x):\n",
    "    bin_labels = [x for x in range(0,x)]\n",
    "\n",
    "    equal_bins = pd.qcut(ds[column_to_bin], x, labels = bin_labels)\n",
    "    return equal_bins"
   ]
  },
  {
   "cell_type": "code",
   "execution_count": 10,
   "metadata": {},
   "outputs": [],
   "source": [
    "binned =pbin('PY010G_PY020G_PY021G_PY050G: EMPLOYEE INCOME',5)"
   ]
  },
  {
   "cell_type": "code",
   "execution_count": 11,
   "metadata": {
    "scrolled": false
   },
   "outputs": [
    {
     "data": {
      "text/plain": [
       "<matplotlib.axes._subplots.AxesSubplot at 0x19c4df66788>"
      ]
     },
     "execution_count": 11,
     "metadata": {},
     "output_type": "execute_result"
    },
    {
     "data": {
      "image/png": "[encoded data removed]",
      "text/plain": [
       "<Figure size 432x288 with 1 Axes>"
      ]
     },
     "metadata": {
      "needs_background": "light"
     },
     "output_type": "display_data"
    }
   ],
   "source": [
    "binned.hist()"
   ]
  },
  {
   "cell_type": "markdown",
   "metadata": {},
   "source": [
    "## 0.2 generate train and test"
   ]
  },
  {
   "cell_type": "code",
   "execution_count": 12,
   "metadata": {},
   "outputs": [],
   "source": [
    "### generate tests with several binning\n",
    "# binning first\n",
    "def generateTest (X_interested,y_interested, dummy, drop_na_in_y, scalertouse):\n",
    "    outcome = ds[y_interested]\n",
    "    features = ds[X_interested]\n",
    "    outcomelist=y_interested\n",
    "    featureslist=X_interested\n",
    "    data =pd.merge(features, outcome, left_index=True, right_index=True)\n",
    "    \n",
    "    # create dummy\n",
    "    categorical= ['PB150: SEX', 'PB190: MARITAL STATUS',\n",
    "       'PB200: CONSENSUAL UNION', 'PB220A: CITIZENSHIP',\n",
    "       'PE010: CURRENT EDUCATION ACTIVITY',\n",
    "       'PL031: SELF-DEFINED CURRENT ECONOMIC STATUS',\n",
    "       'PL035: WORKED AT LEAST 1 HOUR DURING THE PREVIOUS WEEK',\n",
    "       'PL051: OCCUPATION (ISCO-08 (COM))', 'PL150: MANAGERIAL POSITION',\n",
    "        'PH030: LIMITATION IN ACTIVITIES BECAUSE OF HEALTH PROBLEMS',\n",
    "       'PH040: UNMET NEED FOR MEDICAL EXAMINATION OR TREATMENT',\n",
    "       'PH060: UNMET NEED FOR DENTAL EXAMINATION OR TREATMENT',\n",
    "       'PD020: Replace worn-out clothes by some new (not second-hand) ones',\n",
    "       'PD030: Two pairs of properly fitting shoes',\n",
    "       'PD050: Get-together with friends/family (relatives) for a drink/meal at least once a month',\n",
    "       'PD060: Regularly participate in a leisure activity',\n",
    "       'PD070: Spend a small amount of money each week on yourself',\n",
    "       'PD080: Internet connection for personal use at home',\n",
    "      ]\n",
    "    \n",
    "\n",
    "\n",
    "    create_dummy=set(featureslist).intersection(categorical)\n",
    "    data_dummy = pd.get_dummies(data, columns=create_dummy, drop_first=True)\n",
    "    if dummy=='yes':\n",
    "        data = data_dummy\n",
    "    \n",
    "    ## drop na in outcome\n",
    "    if drop_na_in_y == 'yes':\n",
    "        data = data[data[outcomelist]>=0]\n",
    "    \n",
    "    ## split dataset again in x and y\n",
    "    XCol=list(data.columns)\n",
    "    XCol.remove(outcomelist)\n",
    "    YCol=outcomelist\n",
    "    Xtouse = data[XCol]\n",
    "    y= data[YCol]\n",
    "\n",
    "    \n",
    "    # scaler\n",
    "    if scalertouse == \"Standard\":\n",
    "        scaler = StandardScaler()\n",
    "        X_ = scaler.fit_transform(Xtouse)\n",
    "    elif scalertouse == \"MinMax\":\n",
    "        scaler = MinMaxScaler(feature_range=(0, 1))\n",
    "        X_ = scaler.fit_transform(Xtouse)\n",
    "        X_.shape\n",
    "    elif scalertouse == \"Normalizer\":\n",
    "        scaler = Normalizer()\n",
    "        X_ = scaler.fit_transform(Xtouse)\n",
    "        X_.shape\n",
    "    else: \n",
    "        X_ = Xtouse\n",
    "    \n",
    "    X_train, X_test, y_train, y_test = train_test_split(X_, y, test_size=0.2)\n",
    "    return X_train, X_test, y_train, y_test"
   ]
  },
  {
   "cell_type": "markdown",
   "metadata": {},
   "source": [
    "## 0.2  Regression"
   ]
  },
  {
   "cell_type": "code",
   "execution_count": 13,
   "metadata": {},
   "outputs": [],
   "source": [
    "# maxximize function to split and run all the models:\n",
    "\n",
    "def regmodel (X_interested,y_interested, dummy, drop_na_in_y, scalertouse):\n",
    "\n",
    "    X_train = generateTest (X_interested,y_interested, dummy, drop_na_in_y, scalertouse)[0]\n",
    "    X_test = generateTest (X_interested,y_interested, dummy, drop_na_in_y, scalertouse)[1]\n",
    "    y_train = generateTest (X_interested,y_interested, dummy, drop_na_in_y,  scalertouse)[2]\n",
    "    y_test = generateTest (X_interested,y_interested, dummy, drop_na_in_y, scalertouse)[3]\n",
    "\n",
    "    \n",
    "    print(\"X: \", X_interested)\n",
    "    print(\"Y: \", y_interested,\"\\n\")\n",
    "    \n",
    "    # Linear Regression\n",
    "    lm = LinearRegression()\n",
    "    model = lm.fit(X_train,y_train)\n",
    "\n",
    "    print(\"Intercept: \", lm.intercept_)\n",
    "    print(\"Coef: \", lm.coef_)\n",
    "\n",
    "    y_pred  = lm.predict(X_test)\n",
    "    print (\"linear aMSE: \", mean_absolute_error(y_test, y_pred))\n",
    "    print (\"linear MSE: \",mean_squared_error(y_test, y_pred))\n",
    "    print (\"linear R2: \",r2_score(y_test, y_pred), \"\\n\")\n",
    "    \n",
    "    \n",
    "    ### Regression Tree\n",
    "    regr = DecisionTreeRegressor(random_state = 29)\n",
    "    model = regr.fit(X_train, y_train)\n",
    "    y_pred  = regr.predict(X_test)\n",
    "    regr.score(X_test, y_test)\n",
    "    print (\"Regression Tree aMSE: \", mean_absolute_error(y_test, y_pred))\n",
    "    print (\"Regression Tree MSE: \",mean_squared_error(y_test, y_pred))\n",
    "    print (\"Regression Tree R2: \",r2_score(y_test, y_pred),\"\\n\")\n",
    "    \n",
    "    ### KNeighborsRegressor\n",
    "    knnr = KNeighborsRegressor(n_neighbors = 3)\n",
    "    model = knnr.fit(X_train, y_train)  #fit the model\n",
    "    y_pred = knnr.predict(X_test)\n",
    "    print (\"KNeighbores aMSE: \", mean_absolute_error(y_test, y_pred))\n",
    "    print (\"KNeighbores MSE: \",mean_squared_error(y_test, y_pred))\n",
    "    print (\"KNeighbores R2: \",r2_score(y_test, y_pred))"
   ]
  },
  {
   "cell_type": "code",
   "execution_count": 14,
   "metadata": {},
   "outputs": [
    {
     "name": "stdout",
     "output_type": "stream",
     "text": [
      "X:  ['PD020: Replace worn-out clothes by some new (not second-hand) ones', 'PD030: Two pairs of properly fitting shoes', 'PD050: Get-together with friends/family (relatives) for a drink/meal at least once a month', 'PD060: Regularly participate in a leisure activity', 'PD070: Spend a small amount of money each week on yourself', 'PD080: Internet connection for personal use at home']\n",
      "Y:  PW130: TRUST IN THE POLITICAL SYSTEM \n",
      "\n",
      "Intercept:  4.933521752072671\n",
      "Coef:  [-0.01747555 -0.00796025 -0.05523585  0.12822046  0.00334765  0.04670668]\n",
      "linear aMSE:  2.1416127503146623\n",
      "linear MSE:  6.891784291438494\n",
      "linear R2:  -0.0008918391105221524 \n",
      "\n",
      "Regression Tree aMSE:  2.146796240068245\n",
      "Regression Tree MSE:  6.906458185110223\n",
      "Regression Tree R2:  -0.0030229244438595426 \n",
      "\n",
      "KNeighbores aMSE:  2.5636055502595063\n",
      "KNeighbores MSE:  9.90802527980793\n",
      "KNeighbores R2:  -0.4389396453658594\n"
     ]
    }
   ],
   "source": [
    "regmodel(bneeds,'PW130: TRUST IN THE POLITICAL SYSTEM', 'yes', 'yes', 'no')"
   ]
  },
  {
   "cell_type": "markdown",
   "metadata": {},
   "source": [
    "## 0.4  Classification"
   ]
  },
  {
   "cell_type": "code",
   "execution_count": 15,
   "metadata": {},
   "outputs": [],
   "source": [
    "# maxximize function to split and run all the models:\n",
    "## y binning first\n",
    "def class_bin (X_interested,y_interested, dummy, drop_na_in_y, scalertouse):\n",
    "\n",
    "    X_train = generateTest (X_interested,y_interested, dummy, drop_na_in_y, scalertouse)[0]\n",
    "    X_test = generateTest (X_interested,y_interested, dummy, drop_na_in_y,  scalertouse)[1]\n",
    "    y_train = generateTest (X_interested,y_interested, dummy, drop_na_in_y,  scalertouse)[2]\n",
    "    y_test = generateTest (X_interested,y_interested, dummy, drop_na_in_y,  scalertouse)[3]\n",
    "\n",
    "    \n",
    "    print(\"X: \", X_interested)\n",
    "    print(\"Y: \", y_interested, \"\\n\")\n",
    "    \n",
    "    # logistic regression\n",
    "    lr = LogisticRegression()\n",
    "    lr.fit(X_train,y_train)\n",
    "    y_pred=lr.predict(X_test)\n",
    "    conf=confusion_matrix(y_test, y_pred)\n",
    "    #tn,fp,fn,tp = confusion_matrix(y_test, y_pred).ravel()\n",
    "    #matrix = pd.DataFrame([[tp, tn, (tp+tn),round((tp+tn)/(tp+tn+fp+fn)*100,2)],[fp, fn, (fp+fn), ]], index = [\"true\", \"false\"], columns=['positive', 'negative', 'total','accuracy'])\n",
    "    #print(matrix)\n",
    "    print( \"Logistic regression - accuracy: \", str(round(lr.score(X_test, y_test)*100,2)))\n",
    "    print( \"Logistic regression - precision\", str(round((conf[0,0])/ (conf[1,0]+conf[0,0])*100,2)), \"\\n\")\n",
    "\n",
    "    # Decision Tree classyier\n",
    "    dtc = DecisionTreeClassifier()\n",
    "    dtc.fit(X_train, y_train)\n",
    "    y_pred = dtc.predict(X_test)\n",
    "    conf=confusion_matrix(y_test, y_pred)\n",
    "    #tn,fp,fn,tp = confusion_matrix(y_test, y_pred).ravel()\n",
    "    #matrix = pd.DataFrame([[tp, tn, (tp+tn),round((tp+tn)/(tp+tn+fp+fn)*100,2)],[fp, fn, (fp+fn), ]], index = [\"true\", \"false\"], columns=['positive', 'negative', 'total','accuracy'])\n",
    "    #print(matrix)\n",
    "    print( \"Decision tree - accuracy  \", str(round(dtc.score(X_test, y_test)*100,2)))\n",
    "    print( \"Decision tree - precision\", str(round((conf[0,0])/ (conf[1,0]+conf[0,0])*100,2)), \"\\n\")  \n",
    "      \n",
    "    # super vector machine (takes too much time)                                          \n",
    "                                                   \n",
    "    # KNeighborsClassifier\n",
    "    knn = KNeighborsClassifier(n_neighbors = 2)  # n_neighbors means k\n",
    "    knn.fit(X_train, y_train)\n",
    "    y_pred = knn.predict(X_test)\n",
    "    conf=confusion_matrix(y_test, y_pred)\n",
    "    #tn,fp,fn,tp = confusion_matrix(y_test, y_pred).ravel()\n",
    "    #matrix = pd.DataFrame([[tp, tn, (tp+tn),round((tp+tn)/(tp+tn+fp+fn)*100,2)],[fp, fn, (fp+fn), ]], index = [\"true\", \"false\"], columns=['positive', 'negative', 'total','accuracy'])\n",
    "    print(conf)\n",
    "    print( \"KNeighborsClassifier - accuracy  \", str(round(knn.score(X_test, y_test)*100,2)))\n",
    "    print( \"KNeighborsClassifier - precision\", str(round((conf[0,0])/ (conf[1,0]+conf[0,0])*100,2)), \"\\n\") "
   ]
  },
  {
   "cell_type": "code",
   "execution_count": 16,
   "metadata": {},
   "outputs": [
    {
     "name": "stdout",
     "output_type": "stream",
     "text": [
      "X:  ['PB140: YEAR OF BIRTH', 'PB150: SEX', 'PB190: MARITAL STATUS', 'PB200: CONSENSUAL UNION', 'PB220A: CITIZENSHIP']\n",
      "Y:  PW130: TRUST IN THE POLITICAL SYSTEM \n",
      "\n",
      "Logistic regression - accuracy:  17.73\n",
      "Logistic regression - precision nan \n",
      "\n",
      "Decision tree - accuracy   13.09\n",
      "Decision tree - precision 60.87 \n",
      "\n"
     ]
    },
    {
     "name": "stderr",
     "output_type": "stream",
     "text": [
      "C:\\Users\\haenni\\AppData\\Local\\Continuum\\anaconda3\\lib\\site-packages\\sklearn\\linear_model\\logistic.py:432: FutureWarning: Default solver will be changed to 'lbfgs' in 0.22. Specify a solver to silence this warning.\n",
      "  FutureWarning)\n",
      "C:\\Users\\haenni\\AppData\\Local\\Continuum\\anaconda3\\lib\\site-packages\\sklearn\\linear_model\\logistic.py:469: FutureWarning: Default multi_class will be changed to 'auto' in 0.22. Specify the multi_class option to silence this warning.\n",
      "  \"this warning.\", FutureWarning)\n",
      "C:\\Users\\haenni\\AppData\\Local\\Continuum\\anaconda3\\lib\\site-packages\\ipykernel_launcher.py:23: RuntimeWarning: invalid value encountered in longlong_scalars\n"
     ]
    },
    {
     "name": "stdout",
     "output_type": "stream",
     "text": [
      "[[ 38  27  38  29  29  41  21  10   6   0   0]\n",
      " [ 28  20  22  18  18  29  21   8   5   0   0]\n",
      " [ 45  19  40  35  24  60  37  16  14   0   0]\n",
      " [ 48  34  38  36  34  51  37  14   9   2   0]\n",
      " [ 35  23  48  31  29  67  22  15   9   2   0]\n",
      " [ 80  57  87  76  56 110  47  25  20   0   0]\n",
      " [ 45  34  51  63  58  55  31  19   5   1   0]\n",
      " [ 73  34  60  39  47  58  26  18  11   1   0]\n",
      " [ 48  42  62  48  47  80  33  22   6   1   0]\n",
      " [ 17  14  21  19  15  33   8   3   3   0   0]\n",
      " [ 10   4   9  12   4  11   1   4   1   0   0]]\n",
      "KNeighborsClassifier - accuracy   10.42\n",
      "KNeighborsClassifier - precision 57.58 \n",
      "\n"
     ]
    }
   ],
   "source": [
    "class_bin(background, 'PW130: TRUST IN THE POLITICAL SYSTEM', 'yes' , 'yes', 'MaxMin')"
   ]
  },
  {
   "cell_type": "code",
   "execution_count": 17,
   "metadata": {},
   "outputs": [],
   "source": [
    "def tryclass_bin(xes,yli,nrbinx, dummy, drop_na_in_y, scalertouse):\n",
    "    ds=reload()\n",
    "    # x biningfor x in try1:\n",
    "    for x in xes:\n",
    "        if len(ds[x].unique())>nrbinx:\n",
    "               ds[x]=pbin(x,nrbinx)\n",
    "    # y binning\n",
    "    for x in xes: \n",
    "        print(x, ds[x].unique())\n",
    "    ds['binned_y']= pbin(yli,2)\n",
    "    print(ds['binned_y'].unique())\n",
    "    \n",
    "    # run\n",
    "    class_bin (xes,yli, dummy, drop_na_in_y, scalertouse)"
   ]
  },
  {
   "cell_type": "markdown",
   "metadata": {},
   "source": [
    "mulit class"
   ]
  },
  {
   "cell_type": "code",
   "execution_count": 18,
   "metadata": {},
   "outputs": [],
   "source": [
    "## target multi\n",
    "# binning first\n",
    "def class_mul (X_interested,y_interested, dummy, drop_na_in_y, scalertouse):\n",
    "    \n",
    "    X_train = generateTest (X_interested,y_interested, dummy, drop_na_in_y, scalertouse)[0]\n",
    "    X_test = generateTest (X_interested,y_interested, dummy, drop_na_in_y, scalertouse)[1]\n",
    "    y_train = generateTest (X_interested,y_interested, dummy, drop_na_in_y,  scalertouse)[2]\n",
    "    y_test = generateTest (X_interested,y_interested, dummy, drop_na_in_y,  scalertouse)[3]\n",
    "\n",
    "    \n",
    "    print(\"X: \", X_interested)\n",
    "    print(\"X: \", y_interested)\n",
    "    \n",
    "    #### b) DecisionTree Classify\n",
    "\n",
    "    dtc = DecisionTreeClassifier()#class_weight='balanced')#max_features=10,\n",
    "    dtc.fit(X_train, y_train)\n",
    "    y_pred = dtc.predict(X_test)\n",
    "\n",
    "    acc = dtc.score(X_test, y_test)*100\n",
    "    print(f\"Decision Tree Test Accuracy {round(acc, 2)}%\")\n",
    " \n",
    "\n",
    "    #### c) Support Vector Maschine\n",
    "    svm = SVC(decision_function_shape='ovo')\n",
    "    svm.fit(X_train, y_train)\n",
    "    y_pred = svm.predict(X_test)\n",
    "    acc = svm.score(X_test,y_test)*100\n",
    "    print(f\"SVM Algorithm Test Accuracy {round(acc, 2)}%\")"
   ]
  },
  {
   "cell_type": "code",
   "execution_count": 19,
   "metadata": {
    "scrolled": true
   },
   "outputs": [
    {
     "name": "stdout",
     "output_type": "stream",
     "text": [
      "X:  ['PB140: YEAR OF BIRTH', 'PB150: SEX', 'PB190: MARITAL STATUS', 'PB200: CONSENSUAL UNION', 'PB220A: CITIZENSHIP']\n",
      "X:  PW010: OVERALL LIFE SATISFACTION\n",
      "Decision Tree Test Accuracy 21.45%\n"
     ]
    },
    {
     "name": "stderr",
     "output_type": "stream",
     "text": [
      "C:\\Users\\haenni\\AppData\\Local\\Continuum\\anaconda3\\lib\\site-packages\\sklearn\\svm\\base.py:193: FutureWarning: The default value of gamma will change from 'auto' to 'scale' in version 0.22 to account better for unscaled features. Set gamma explicitly to 'auto' or 'scale' to avoid this warning.\n",
      "  \"avoid this warning.\", FutureWarning)\n"
     ]
    },
    {
     "name": "stdout",
     "output_type": "stream",
     "text": [
      "SVM Algorithm Test Accuracy 25.87%\n"
     ]
    }
   ],
   "source": [
    "# test\n",
    "class_mul(background, sat[0], 'yes' , 'no', 'MaxMin')"
   ]
  },
  {
   "cell_type": "code",
   "execution_count": 59,
   "metadata": {},
   "outputs": [],
   "source": [
    "# combine binnen y and run modell\n",
    "def tryclass_multi(xes,yli,nrbinx, nrbiny,dummy, drop_na_in_y, scalertouse):\n",
    "    ds=reload()\n",
    "    # x biningfor x in try1:\n",
    "    for x in xes:\n",
    "        if len(ds[x].unique())>nrbinx:\n",
    "               ds[x]=pbin(x,nrbinx)\n",
    "    # y binning\n",
    "    for x in xes: \n",
    "        print(x, ds[x].unique())\n",
    "    ds['binned_y']= pbin(yli,nrbiny)\n",
    "    print(ds['binned_y'].unique())\n",
    "    \n",
    "    # run\n",
    "    class_mul(xes, ['binned_y'], dummy, drop_na_in_y, scalertouse)"
   ]
  },
  {
   "cell_type": "code",
   "execution_count": null,
   "metadata": {},
   "outputs": [],
   "source": []
  },
  {
   "cell_type": "code",
   "execution_count": 61,
   "metadata": {},
   "outputs": [],
   "source": [
    "#tryclass_multi(background, sat[3], 2,2,  'yes' , 'no', 'MaxMin')"
   ]
  },
  {
   "cell_type": "markdown",
   "metadata": {},
   "source": [
    "## 0.4 RFE"
   ]
  },
  {
   "cell_type": "code",
   "execution_count": 23,
   "metadata": {},
   "outputs": [],
   "source": [
    "def generateRFE (X_train, y_train, limit): \n",
    "    auto_model = LinearRegression()\n",
    "    selector = RFE(auto_model, 5, step=1)\n",
    "    model = selector.fit(X_train,y_train)\n",
    "    selector.ranking_\n",
    "    rfe_col = []\n",
    "    for x in range(len(X_train.columns)):\n",
    "        if selector.ranking_[x]<=limit:\n",
    "            rfe_col.append(X_train.columns[x])\n",
    "    print(len(rfe_col))\n",
    "    return rfe_col"
   ]
  },
  {
   "cell_type": "markdown",
   "metadata": {},
   "source": [
    "# 1. apply to models"
   ]
  },
  {
   "cell_type": "markdown",
   "metadata": {},
   "source": [
    "## 1.1 model 1 \"political satisfaction\""
   ]
  },
  {
   "cell_type": "code",
   "execution_count": null,
   "metadata": {},
   "outputs": [],
   "source": [
    "columns"
   ]
  },
  {
   "cell_type": "markdown",
   "metadata": {},
   "source": [
    "#### a) selection of features by logic"
   ]
  },
  {
   "cell_type": "code",
   "execution_count": 24,
   "metadata": {},
   "outputs": [],
   "source": [
    "ds = reload()\n",
    "## selection of features by logic\n",
    "try1 = ['PB140: YEAR OF BIRTH',\n",
    " 'PB150: SEX',\n",
    " 'PB190: MARITAL STATUS',\n",
    " 'PE040: HIGHEST ISCED LEVEL ATTAINED',\n",
    " 'PL031: SELF-DEFINED CURRENT ECONOMIC STATUS',\n",
    " 'PH010: GENERAL HEALTH',\n",
    " 'PY010G_PY020G_PY021G_PY050G: EMPLOYEE INCOME',\n",
    " 'PY090G++: SOCIAL BENEFITS',\n",
    " 'PD080: Internet connection for personal use at home','PW010: OVERALL LIFE SATISFACTION']"
   ]
  },
  {
   "cell_type": "code",
   "execution_count": 25,
   "metadata": {},
   "outputs": [
    {
     "name": "stdout",
     "output_type": "stream",
     "text": [
      "X:  ['PB140: YEAR OF BIRTH', 'PB150: SEX', 'PB190: MARITAL STATUS', 'PE040: HIGHEST ISCED LEVEL ATTAINED', 'PL031: SELF-DEFINED CURRENT ECONOMIC STATUS', 'PH010: GENERAL HEALTH', 'PY010G_PY020G_PY021G_PY050G: EMPLOYEE INCOME', 'PY090G++: SOCIAL BENEFITS', 'PD080: Internet connection for personal use at home', 'PW010: OVERALL LIFE SATISFACTION']\n",
      "Y:  PW130: TRUST IN THE POLITICAL SYSTEM \n",
      "\n",
      "Intercept:  4.952653368784059\n",
      "Coef:  [ 8.06377726e-02  1.46578543e+02 -1.18880198e+02 -8.06340207e-02\n",
      " -7.40067718e-02  1.82278017e+01  6.97300758e+02  7.04278703e+01\n",
      "  4.79192766e+02  7.06332966e+02  1.28502856e+02  1.24739392e+02\n",
      " -1.28271848e+03  2.56378947e+02 -1.50771545e+03 -7.95693908e+02\n",
      " -2.71502437e+02 -9.57585670e+02 -2.46064833e+03 -1.63958978e+03\n",
      " -1.00446919e+03]\n",
      "linear aMSE:  2.1695107736954338\n",
      "linear MSE:  6.938111277383431\n",
      "linear R2:  -0.001758627721360817 \n",
      "\n",
      "Regression Tree aMSE:  2.965443279313632\n",
      "Regression Tree MSE:  13.653146294530947\n",
      "Regression Tree R2:  -0.9713084079052658 \n",
      "\n",
      "KNeighbores aMSE:  2.4817286304416903\n",
      "KNeighbores MSE:  9.273735126928646\n",
      "KNeighbores R2:  -0.33898748567015935\n"
     ]
    }
   ],
   "source": [
    "regmodel (try1,'PW130: TRUST IN THE POLITICAL SYSTEM','yes' , 'yes', 'Normalizer')"
   ]
  },
  {
   "cell_type": "code",
   "execution_count": 35,
   "metadata": {},
   "outputs": [
    {
     "name": "stdout",
     "output_type": "stream",
     "text": [
      "PB140: YEAR OF BIRTH [2, 0, 1]\n",
      "Categories (3, int64): [0 < 1 < 2]\n",
      "PB150: SEX [1 2]\n",
      "PB190: MARITAL STATUS [0, 2, 1]\n",
      "Categories (3, int64): [0 < 1 < 2]\n",
      "PE040: HIGHEST ISCED LEVEL ATTAINED [1, 0, 2]\n",
      "Categories (3, int64): [0 < 1 < 2]\n",
      "PL031: SELF-DEFINED CURRENT ECONOMIC STATUS [0, 1, 2]\n",
      "Categories (3, int64): [0 < 1 < 2]\n",
      "PH010: GENERAL HEALTH [0, 1, 2]\n",
      "Categories (3, int64): [0 < 1 < 2]\n",
      "PY010G_PY020G_PY021G_PY050G: EMPLOYEE INCOME [0, 1, 2]\n",
      "Categories (3, int64): [0 < 1 < 2]\n",
      "PY090G++: SOCIAL BENEFITS [0, 1, 2]\n",
      "Categories (3, int64): [0 < 1 < 2]\n",
      "PD080: Internet connection for personal use at home [1. 2.]\n",
      "PW010: OVERALL LIFE SATISFACTION [2, 1, 0]\n",
      "Categories (3, int64): [0 < 1 < 2]\n",
      "[0, 1]\n",
      "Categories (2, int64): [0 < 1]\n",
      "X:  ['PB140: YEAR OF BIRTH', 'PB150: SEX', 'PB190: MARITAL STATUS', 'PE040: HIGHEST ISCED LEVEL ATTAINED', 'PL031: SELF-DEFINED CURRENT ECONOMIC STATUS', 'PH010: GENERAL HEALTH', 'PY010G_PY020G_PY021G_PY050G: EMPLOYEE INCOME', 'PY090G++: SOCIAL BENEFITS', 'PD080: Internet connection for personal use at home', 'PW010: OVERALL LIFE SATISFACTION']\n",
      "Y:  PW130: TRUST IN THE POLITICAL SYSTEM \n",
      "\n"
     ]
    },
    {
     "name": "stderr",
     "output_type": "stream",
     "text": [
      "C:\\Users\\haenni\\AppData\\Local\\Continuum\\anaconda3\\lib\\site-packages\\sklearn\\linear_model\\logistic.py:432: FutureWarning: Default solver will be changed to 'lbfgs' in 0.22. Specify a solver to silence this warning.\n",
      "  FutureWarning)\n",
      "C:\\Users\\haenni\\AppData\\Local\\Continuum\\anaconda3\\lib\\site-packages\\sklearn\\linear_model\\logistic.py:469: FutureWarning: Default multi_class will be changed to 'auto' in 0.22. Specify the multi_class option to silence this warning.\n",
      "  \"this warning.\", FutureWarning)\n"
     ]
    },
    {
     "name": "stdout",
     "output_type": "stream",
     "text": [
      "Logistic regression - accuracy:  17.67\n",
      "Logistic regression - precision nan \n",
      "\n"
     ]
    },
    {
     "name": "stderr",
     "output_type": "stream",
     "text": [
      "C:\\Users\\haenni\\AppData\\Local\\Continuum\\anaconda3\\lib\\site-packages\\ipykernel_launcher.py:23: RuntimeWarning: invalid value encountered in longlong_scalars\n"
     ]
    },
    {
     "name": "stdout",
     "output_type": "stream",
     "text": [
      "Decision tree - accuracy   11.25\n",
      "Decision tree - precision 59.09 \n",
      "\n",
      "[[ 25  20  31  25  23  35  20  11   3   1   0]\n",
      " [ 22  18  26  22  17  37   9  12  14   1   0]\n",
      " [ 41  23  50  52  32  49  14  15   5   3   0]\n",
      " [ 38  38  42  42  38  55  27  21  10   0   0]\n",
      " [ 36  15  37  42  29  43  24  18   7   0   0]\n",
      " [ 78  53  66  79  59 111  51  37  20   2   0]\n",
      " [ 54  37  56  68  27  76  29  19   8   3   0]\n",
      " [ 47  40  62  60  55  76  36  30  14   3   0]\n",
      " [ 50  40  57  61  29  78  27  34  12   0   0]\n",
      " [ 20  15  21  15   9  24   6   7   2   0   0]\n",
      " [  7   7   8   8   6  16   6   4   3   1   0]]\n",
      "KNeighborsClassifier - accuracy   10.99\n",
      "KNeighborsClassifier - precision 53.19 \n",
      "\n"
     ]
    }
   ],
   "source": [
    "yli='PW130: TRUST IN THE POLITICAL SYSTEM'\n",
    "tryclass_bin(try1,'PW130: TRUST IN THE POLITICAL SYSTEM',3, 'yes' , 'yes', 'Normalizer')"
   ]
  },
  {
   "cell_type": "code",
   "execution_count": 27,
   "metadata": {},
   "outputs": [],
   "source": [
    "#tryclass_multi(xes,yli,nrbinx, nrbiny)\n",
    "#tryclass_multi(try1,'PW130: TRUST IN THE POLITICAL SYSTEM',4,4, 'yes' , 'yes', 'Normalizer')"
   ]
  },
  {
   "cell_type": "code",
   "execution_count": 28,
   "metadata": {},
   "outputs": [],
   "source": [
    "###  try2 only with prior features based on RFE"
   ]
  },
  {
   "cell_type": "code",
   "execution_count": 29,
   "metadata": {
    "scrolled": true
   },
   "outputs": [
    {
     "name": "stdout",
     "output_type": "stream",
     "text": [
      "6\n"
     ]
    }
   ],
   "source": [
    "ds=reload()\n",
    "try2 =generateRFE (ds[try1], ds['PW130: TRUST IN THE POLITICAL SYSTEM'], 2)"
   ]
  },
  {
   "cell_type": "code",
   "execution_count": null,
   "metadata": {},
   "outputs": [],
   "source": []
  },
  {
   "cell_type": "markdown",
   "metadata": {},
   "source": [
    "other way of binning:\n",
    "\n",
    "\n",
    "ds=reload()\n",
    "ds[yli]=ds[yli].apply(lambda x: 2 if (x <=2) & (x!=-1) else x)\n",
    "ds[yli]=ds[yli].apply(lambda x: 4 if (x ==3) & (x==4) else x)\n",
    "ds[yli]=ds[yli].apply(lambda x: 4 if (x ==3) & (x==4) else x)\n",
    "ds[yli] =ds[yli].apply(lambda x: 6 if ((x ==6) | (x==7)) else x)\n",
    "ds[yli].unique()\n",
    "ds[yli].hist()"
   ]
  },
  {
   "cell_type": "code",
   "execution_count": null,
   "metadata": {},
   "outputs": [],
   "source": []
  },
  {
   "cell_type": "code",
   "execution_count": null,
   "metadata": {},
   "outputs": [],
   "source": []
  },
  {
   "cell_type": "markdown",
   "metadata": {},
   "source": [
    "#### b) based on RFE- all"
   ]
  },
  {
   "cell_type": "code",
   "execution_count": null,
   "metadata": {},
   "outputs": [],
   "source": []
  },
  {
   "cell_type": "code",
   "execution_count": null,
   "metadata": {},
   "outputs": [],
   "source": []
  },
  {
   "cell_type": "code",
   "execution_count": null,
   "metadata": {},
   "outputs": [],
   "source": []
  },
  {
   "cell_type": "code",
   "execution_count": null,
   "metadata": {},
   "outputs": [],
   "source": []
  },
  {
   "cell_type": "markdown",
   "metadata": {},
   "source": [
    "#### c) based on RFE- all"
   ]
  },
  {
   "cell_type": "code",
   "execution_count": 36,
   "metadata": {},
   "outputs": [
    {
     "name": "stdout",
     "output_type": "stream",
     "text": [
      "12\n"
     ]
    }
   ],
   "source": [
    "## based on RFE all columns\n",
    "try3 = ['PE010: CURRENT EDUCATION ACTIVITY',\n",
    " 'PL150: MANAGERIAL POSITION',\n",
    " 'PD050: Get-together with friends/family (relatives) for a drink/meal at least once a month',\n",
    " 'PD070: Spend a small amount of money each week on yourself',\n",
    " 'PW070: FEELING CALM AND PEACEFUL',\n",
    " 'PW220: PHYSICAL SECURITY']\n",
    "\n",
    "#try3\n",
    "xes = generateRFE(ds[columns], ds[yli], 8)"
   ]
  },
  {
   "cell_type": "code",
   "execution_count": null,
   "metadata": {},
   "outputs": [],
   "source": [
    "## multi clas\n",
    "#class_mul(xes, yli, 'yes','no','Normalizer')"
   ]
  },
  {
   "cell_type": "code",
   "execution_count": null,
   "metadata": {},
   "outputs": [],
   "source": []
  },
  {
   "cell_type": "markdown",
   "metadata": {},
   "source": [
    "RFE with Dummy-Features"
   ]
  },
  {
   "cell_type": "code",
   "execution_count": 37,
   "metadata": {},
   "outputs": [
    {
     "data": {
      "text/plain": [
       "{'PB150: SEX',\n",
       " 'PB190: MARITAL STATUS',\n",
       " 'PB200: CONSENSUAL UNION',\n",
       " 'PB220A: CITIZENSHIP',\n",
       " 'PD020: Replace worn-out clothes by some new (not second-hand) ones',\n",
       " 'PD030: Two pairs of properly fitting shoes',\n",
       " 'PD050: Get-together with friends/family (relatives) for a drink/meal at least once a month',\n",
       " 'PD060: Regularly participate in a leisure activity',\n",
       " 'PD070: Spend a small amount of money each week on yourself',\n",
       " 'PD080: Internet connection for personal use at home',\n",
       " 'PE010: CURRENT EDUCATION ACTIVITY',\n",
       " 'PH030: LIMITATION IN ACTIVITIES BECAUSE OF HEALTH PROBLEMS',\n",
       " 'PH040: UNMET NEED FOR MEDICAL EXAMINATION OR TREATMENT',\n",
       " 'PH060: UNMET NEED FOR DENTAL EXAMINATION OR TREATMENT',\n",
       " 'PL031: SELF-DEFINED CURRENT ECONOMIC STATUS',\n",
       " 'PL035: WORKED AT LEAST 1 HOUR DURING THE PREVIOUS WEEK',\n",
       " 'PL051: OCCUPATION (ISCO-08 (COM))',\n",
       " 'PL150: MANAGERIAL POSITION'}"
      ]
     },
     "execution_count": 37,
     "metadata": {},
     "output_type": "execute_result"
    }
   ],
   "source": [
    "## do rfe with dummy-features\n",
    "ds=reload()\n",
    "categorical= ['PB150: SEX', 'PB190: MARITAL STATUS',\n",
    "       'PB200: CONSENSUAL UNION', 'PB220A: CITIZENSHIP',\n",
    "       'PE010: CURRENT EDUCATION ACTIVITY',\n",
    "       'PL031: SELF-DEFINED CURRENT ECONOMIC STATUS',\n",
    "       'PL035: WORKED AT LEAST 1 HOUR DURING THE PREVIOUS WEEK',\n",
    "       'PL051: OCCUPATION (ISCO-08 (COM))', 'PL150: MANAGERIAL POSITION',\n",
    "        'PH030: LIMITATION IN ACTIVITIES BECAUSE OF HEALTH PROBLEMS',\n",
    "       'PH040: UNMET NEED FOR MEDICAL EXAMINATION OR TREATMENT',\n",
    "       'PH060: UNMET NEED FOR DENTAL EXAMINATION OR TREATMENT',\n",
    "       'PD020: Replace worn-out clothes by some new (not second-hand) ones',\n",
    "       'PD030: Two pairs of properly fitting shoes',\n",
    "       'PD050: Get-together with friends/family (relatives) for a drink/meal at least once a month',\n",
    "       'PD060: Regularly participate in a leisure activity',\n",
    "       'PD070: Spend a small amount of money each week on yourself',\n",
    "       'PD080: Internet connection for personal use at home',\n",
    "      ]\n",
    "#columns.remove(yli)\n",
    "create_dummy=set(columns).intersection(categorical)\n",
    "create_dummy"
   ]
  },
  {
   "cell_type": "code",
   "execution_count": 38,
   "metadata": {},
   "outputs": [
    {
     "name": "stdout",
     "output_type": "stream",
     "text": [
      "14\n"
     ]
    },
    {
     "data": {
      "text/plain": [
       "['PW130: TRUST IN THE POLITICAL SYSTEM',\n",
       " 'PB220A: CITIZENSHIP_1',\n",
       " 'PD050: Get-together with friends/family (relatives) for a drink/meal at least once a month_2.0',\n",
       " 'PB200: CONSENSUAL UNION_3',\n",
       " 'PL051: OCCUPATION (ISCO-08 (COM))_25.0',\n",
       " 'PL051: OCCUPATION (ISCO-08 (COM))_26.0',\n",
       " 'PL051: OCCUPATION (ISCO-08 (COM))_35.0',\n",
       " 'PL051: OCCUPATION (ISCO-08 (COM))_62.0',\n",
       " 'PL031: SELF-DEFINED CURRENT ECONOMIC STATUS_3.0',\n",
       " 'PL031: SELF-DEFINED CURRENT ECONOMIC STATUS_4.0',\n",
       " 'PL031: SELF-DEFINED CURRENT ECONOMIC STATUS_7.0',\n",
       " 'PB190: MARITAL STATUS_5.0',\n",
       " 'PH030: LIMITATION IN ACTIVITIES BECAUSE OF HEALTH PROBLEMS_2.0',\n",
       " 'PL150: MANAGERIAL POSITION_1.0']"
      ]
     },
     "execution_count": 38,
     "metadata": {},
     "output_type": "execute_result"
    }
   ],
   "source": [
    "data_dummy = pd.get_dummies(ds[columns], columns=create_dummy, drop_first=True)\n",
    "data_dummy.columns\n",
    "data_dummy\n",
    "generateRFE(data_dummy, ds[yli], 10)"
   ]
  },
  {
   "cell_type": "code",
   "execution_count": 39,
   "metadata": {},
   "outputs": [
    {
     "name": "stdout",
     "output_type": "stream",
     "text": [
      "14\n"
     ]
    }
   ],
   "source": [
    "try4 = generateRFE(data_dummy, ds[yli], 10)"
   ]
  },
  {
   "cell_type": "code",
   "execution_count": 40,
   "metadata": {},
   "outputs": [],
   "source": [
    "X = data_dummy[try4]\n",
    "y= ds[yli]\n",
    "X_train, X_test, y_train, y_test = train_test_split(X, y, test_size=0.2)"
   ]
  },
  {
   "cell_type": "code",
   "execution_count": null,
   "metadata": {
    "scrolled": true
   },
   "outputs": [],
   "source": [
    "#### b) DecisionTree Classify\n",
    "\n",
    "dtc = DecisionTreeClassifier()#class_weight='balanced')#max_features=10,\n",
    "dtc.fit(X_train, y_train)\n",
    "y_pred = dtc.predict(X_test)\n",
    "\n",
    "acc = dtc.score(X_test, y_test)*100\n",
    "print(f\"Decision Tree Test Accuracy {round(acc, 2)}%\")\n",
    " \n",
    "\n",
    "#### c) Support Vector Maschine\n",
    "svm = SVC(decision_function_shape='ovo')\n",
    "svm.fit(X_train, y_train)\n",
    "y_pred = svm.predict(X_test)\n",
    "acc = svm.score(X_test,y_test)*100\n",
    "print(f\"SVM Algorithm Test Accuracy {round(acc, 2)}%\")"
   ]
  },
  {
   "cell_type": "markdown",
   "metadata": {},
   "source": [
    "#### <span style=\"color:red\"> Conclusion: No Model with accuracy</span>"
   ]
  },
  {
   "cell_type": "code",
   "execution_count": null,
   "metadata": {},
   "outputs": [],
   "source": []
  },
  {
   "cell_type": "code",
   "execution_count": null,
   "metadata": {},
   "outputs": [],
   "source": []
  },
  {
   "cell_type": "markdown",
   "metadata": {},
   "source": [
    "## 1.2 model 1 income"
   ]
  },
  {
   "cell_type": "code",
   "execution_count": null,
   "metadata": {},
   "outputs": [],
   "source": [
    "columns"
   ]
  },
  {
   "cell_type": "code",
   "execution_count": null,
   "metadata": {},
   "outputs": [],
   "source": []
  },
  {
   "cell_type": "markdown",
   "metadata": {},
   "source": [
    "#### a) selection of features by logic"
   ]
  },
  {
   "cell_type": "code",
   "execution_count": null,
   "metadata": {},
   "outputs": [],
   "source": []
  },
  {
   "cell_type": "code",
   "execution_count": 62,
   "metadata": {},
   "outputs": [],
   "source": [
    "ds = reload()\n",
    "## selection of features by logic\n",
    "try1 = ['PB140: YEAR OF BIRTH',\n",
    " 'PB150: SEX',\n",
    " 'PB190: MARITAL STATUS',\n",
    " 'PE040: HIGHEST ISCED LEVEL ATTAINED',\n",
    " 'PL031: SELF-DEFINED CURRENT ECONOMIC STATUS',\n",
    " 'PL035: WORKED AT LEAST 1 HOUR DURING THE PREVIOUS WEEK',\n",
    " 'PL051: OCCUPATION (ISCO-08 (COM))',\n",
    " 'PL150: MANAGERIAL POSITION',\n",
    " 'PH010: GENERAL HEALTH',\n",
    " 'PW010: OVERALL LIFE SATISFACTION',\n",
    " 'PW080: FEELING DOWNHEARTED OR DEPRESSED',\n",
    " 'PW090: BEING HAPPY',\n",
    " 'PW180: HELP FROM OTHERS',\n",
    " 'PW190: TRUST IN OTHERS']\n",
    "\n",
    "ds=ds[ds['PY010G_PY020G_PY021G_PY050G: EMPLOYEE INCOME']!=0]"
   ]
  },
  {
   "cell_type": "code",
   "execution_count": 63,
   "metadata": {},
   "outputs": [
    {
     "data": {
      "text/plain": [
       "count     11612.000000\n",
       "mean      28091.727496\n",
       "std       23105.753157\n",
       "min           0.060000\n",
       "25%        9524.870000\n",
       "50%       24430.210000\n",
       "75%       39745.797500\n",
       "max      149760.620000\n",
       "Name: PY010G_PY020G_PY021G_PY050G: EMPLOYEE INCOME, dtype: float64"
      ]
     },
     "execution_count": 63,
     "metadata": {},
     "output_type": "execute_result"
    },
    {
     "data": {
      "image/png": "[encoded data removed]",
      "text/plain": [
       "<Figure size 432x288 with 1 Axes>"
      ]
     },
     "metadata": {
      "needs_background": "light"
     },
     "output_type": "display_data"
    }
   ],
   "source": [
    "plt.scatter(ds['PB140: YEAR OF BIRTH'],ds['PY010G_PY020G_PY021G_PY050G: EMPLOYEE INCOME'])\n",
    "ds['PY010G_PY020G_PY021G_PY050G: EMPLOYEE INCOME'].describe()"
   ]
  },
  {
   "cell_type": "code",
   "execution_count": 65,
   "metadata": {},
   "outputs": [
    {
     "name": "stdout",
     "output_type": "stream",
     "text": [
      "X:  PB140: YEAR OF BIRTH\n",
      "Y:  PY010G_PY020G_PY021G_PY050G: EMPLOYEE INCOME \n",
      "\n",
      "Intercept:  28179.879347615457\n",
      "Coef:  [0.]\n",
      "linear aMSE:  17668.988270099653\n",
      "linear MSE:  521178569.1354263\n",
      "linear R2:  -0.002247920906583989 \n",
      "\n",
      "Regression Tree aMSE:  17668.98827009966\n",
      "Regression Tree MSE:  521178569.13542634\n",
      "Regression Tree R2:  -0.002247920906584211 \n",
      "\n",
      "KNeighbores aMSE:  25890.620744726646\n",
      "KNeighbores MSE:  907436659.3850724\n",
      "KNeighbores R2:  -0.7450381866848803\n"
     ]
    }
   ],
   "source": [
    "regmodel('PB140: YEAR OF BIRTH','PY010G_PY020G_PY021G_PY050G: EMPLOYEE INCOME','yes' , 'no', 'Normalizer')"
   ]
  },
  {
   "cell_type": "code",
   "execution_count": 66,
   "metadata": {},
   "outputs": [
    {
     "name": "stdout",
     "output_type": "stream",
     "text": [
      "PB140: YEAR OF BIRTH [2, NaN, 0, 1]\n",
      "Categories (3, int64): [0 < 1 < 2]\n",
      "PB150: SEX [1 2]\n",
      "PB190: MARITAL STATUS [0, NaN, 2, 1]\n",
      "Categories (3, int64): [0 < 1 < 2]\n",
      "PE040: HIGHEST ISCED LEVEL ATTAINED [1, NaN, 2, 0]\n",
      "Categories (3, int64): [0 < 1 < 2]\n",
      "PL031: SELF-DEFINED CURRENT ECONOMIC STATUS [0, NaN, 1, 2]\n",
      "Categories (3, int64): [0 < 1 < 2]\n",
      "PL035: WORKED AT LEAST 1 HOUR DURING THE PREVIOUS WEEK [2 1]\n",
      "PL051: OCCUPATION (ISCO-08 (COM)) [1, NaN, 0, 2]\n",
      "Categories (3, int64): [0 < 1 < 2]\n",
      "PL150: MANAGERIAL POSITION [ 1.  2. -1.]\n",
      "PH010: GENERAL HEALTH [0, NaN, 1, 2]\n",
      "Categories (3, int64): [0 < 1 < 2]\n",
      "PW010: OVERALL LIFE SATISFACTION [2, NaN, 0, 1]\n",
      "Categories (3, int64): [0 < 1 < 2]\n",
      "PW080: FEELING DOWNHEARTED OR DEPRESSED [1, NaN, 0, 2]\n",
      "Categories (3, int64): [0 < 1 < 2]\n",
      "PW090: BEING HAPPY [0, NaN, 1, 2]\n",
      "Categories (3, int64): [0 < 1 < 2]\n",
      "PW180: HELP FROM OTHERS [0, NaN, 2]\n",
      "Categories (2, int64): [0 < 2]\n",
      "PW190: TRUST IN OTHERS [0, NaN, 1, 2]\n",
      "Categories (3, int64): [0 < 1 < 2]\n",
      "[0, NaN, 1]\n",
      "Categories (2, int64): [0 < 1]\n",
      "X:  ['PB140: YEAR OF BIRTH', 'PB150: SEX', 'PB190: MARITAL STATUS', 'PE040: HIGHEST ISCED LEVEL ATTAINED', 'PL031: SELF-DEFINED CURRENT ECONOMIC STATUS', 'PL035: WORKED AT LEAST 1 HOUR DURING THE PREVIOUS WEEK', 'PL051: OCCUPATION (ISCO-08 (COM))', 'PL150: MANAGERIAL POSITION', 'PH010: GENERAL HEALTH', 'PW010: OVERALL LIFE SATISFACTION', 'PW080: FEELING DOWNHEARTED OR DEPRESSED', 'PW090: BEING HAPPY', 'PW180: HELP FROM OTHERS', 'PW190: TRUST IN OTHERS']\n",
      "Y:  PW130: TRUST IN THE POLITICAL SYSTEM \n",
      "\n",
      "Logistic regression - accuracy:  19.67\n",
      "Logistic regression - precision 79.9 \n",
      "\n"
     ]
    },
    {
     "name": "stderr",
     "output_type": "stream",
     "text": [
      "C:\\Users\\haenni\\AppData\\Local\\Continuum\\anaconda3\\lib\\site-packages\\sklearn\\linear_model\\logistic.py:432: FutureWarning: Default solver will be changed to 'lbfgs' in 0.22. Specify a solver to silence this warning.\n",
      "  FutureWarning)\n",
      "C:\\Users\\haenni\\AppData\\Local\\Continuum\\anaconda3\\lib\\site-packages\\sklearn\\linear_model\\logistic.py:469: FutureWarning: Default multi_class will be changed to 'auto' in 0.22. Specify the multi_class option to silence this warning.\n",
      "  \"this warning.\", FutureWarning)\n"
     ]
    },
    {
     "name": "stdout",
     "output_type": "stream",
     "text": [
      "Decision tree - accuracy   10.46\n",
      "Decision tree - precision 78.79 \n",
      "\n",
      "[[155  54  31  46  43  26  55  26  16   5   0   0]\n",
      " [ 33  13   6  18  10   7  16   9   3   0   0   0]\n",
      " [ 28   7   3  11   9   9  12   6   4   2   0   0]\n",
      " [ 67  12  12  11  17  11  24  10   5   5   0   0]\n",
      " [ 65  14  13  19  17  15  34  12   9   4   0   0]\n",
      " [ 43  14  10  14  15  18  25   8   7   2   0   0]\n",
      " [129  31  16  40  36  19  47  20  10   8   0   0]\n",
      " [ 66  15  17  13  19  19  16  11   5   3   0   0]\n",
      " [ 74  26  14  21  24  17  33  15  12   5   0   0]\n",
      " [ 78  20  15  21  24  17  28  10  13   2   0   0]\n",
      " [ 36   9   4  10   5   6   5   2   1   2   0   0]\n",
      " [ 12   4   2   3   4   2   5   3   1   3   0   0]]\n",
      "KNeighborsClassifier - accuracy   12.44\n",
      "KNeighborsClassifier - precision 82.45 \n",
      "\n"
     ]
    }
   ],
   "source": [
    "tryclass_bin(try1,'PW130: TRUST IN THE POLITICAL SYSTEM',3, 'yes' , 'no', 'Normalizer')"
   ]
  },
  {
   "cell_type": "code",
   "execution_count": 67,
   "metadata": {},
   "outputs": [],
   "source": [
    "#tryclass_multi(xes,yli,nrbinx, nrbiny)\n",
    "#tryclass_multi(try1,'PW130: TRUST IN THE POLITICAL SYSTEM',4,4, 'yes' , 'yes', 'Normalizer')"
   ]
  },
  {
   "cell_type": "code",
   "execution_count": 68,
   "metadata": {},
   "outputs": [],
   "source": [
    "###  try2 only with prior features based on RFE"
   ]
  },
  {
   "cell_type": "code",
   "execution_count": 69,
   "metadata": {
    "scrolled": true
   },
   "outputs": [
    {
     "name": "stdout",
     "output_type": "stream",
     "text": [
      "6\n"
     ]
    }
   ],
   "source": [
    "ds=reload()\n",
    "try2 =generateRFE (ds[try1], ds['PW130: TRUST IN THE POLITICAL SYSTEM'], 2)"
   ]
  },
  {
   "cell_type": "code",
   "execution_count": 70,
   "metadata": {},
   "outputs": [],
   "source": [
    "#for x in range(2,6):\n",
    " #   tryclass_multi(try1,'PW130: TRUST IN THE POLITICAL SYSTEM',x,x, 'yes' , 'yes', 'Normalizer')\n"
   ]
  },
  {
   "cell_type": "markdown",
   "metadata": {},
   "source": [
    "other way of binning:\n",
    "\n",
    "\n",
    "ds=reload()\n",
    "ds[yli]=ds[yli].apply(lambda x: 2 if (x <=2) & (x!=-1) else x)\n",
    "ds[yli]=ds[yli].apply(lambda x: 4 if (x ==3) & (x==4) else x)\n",
    "ds[yli]=ds[yli].apply(lambda x: 4 if (x ==3) & (x==4) else x)\n",
    "ds[yli] =ds[yli].apply(lambda x: 6 if ((x ==6) | (x==7)) else x)\n",
    "ds[yli].unique()\n",
    "ds[yli].hist()"
   ]
  },
  {
   "cell_type": "code",
   "execution_count": null,
   "metadata": {},
   "outputs": [],
   "source": []
  },
  {
   "cell_type": "code",
   "execution_count": null,
   "metadata": {},
   "outputs": [],
   "source": []
  },
  {
   "cell_type": "markdown",
   "metadata": {},
   "source": [
    "#### b) based on RFE- all"
   ]
  },
  {
   "cell_type": "code",
   "execution_count": null,
   "metadata": {},
   "outputs": [],
   "source": []
  },
  {
   "cell_type": "code",
   "execution_count": null,
   "metadata": {},
   "outputs": [],
   "source": []
  },
  {
   "cell_type": "code",
   "execution_count": null,
   "metadata": {},
   "outputs": [],
   "source": []
  },
  {
   "cell_type": "code",
   "execution_count": null,
   "metadata": {},
   "outputs": [],
   "source": []
  },
  {
   "cell_type": "markdown",
   "metadata": {},
   "source": [
    "#### c) based on RFE- all"
   ]
  },
  {
   "cell_type": "code",
   "execution_count": 71,
   "metadata": {},
   "outputs": [
    {
     "name": "stdout",
     "output_type": "stream",
     "text": [
      "12\n"
     ]
    }
   ],
   "source": [
    "## based on RFE all columns\n",
    "try3 = ['PE010: CURRENT EDUCATION ACTIVITY',\n",
    " 'PL150: MANAGERIAL POSITION',\n",
    " 'PD050: Get-together with friends/family (relatives) for a drink/meal at least once a month',\n",
    " 'PD070: Spend a small amount of money each week on yourself',\n",
    " 'PW070: FEELING CALM AND PEACEFUL',\n",
    " 'PW220: PHYSICAL SECURITY']\n",
    "\n",
    "#try3\n",
    "xes = generateRFE(ds[columns], ds[yli], 8)"
   ]
  },
  {
   "cell_type": "code",
   "execution_count": null,
   "metadata": {},
   "outputs": [],
   "source": []
  },
  {
   "cell_type": "code",
   "execution_count": null,
   "metadata": {},
   "outputs": [],
   "source": []
  },
  {
   "cell_type": "markdown",
   "metadata": {},
   "source": [
    "RFE with Dummy-Features"
   ]
  },
  {
   "cell_type": "code",
   "execution_count": 75,
   "metadata": {},
   "outputs": [
    {
     "data": {
      "text/plain": [
       "{'PB150: SEX',\n",
       " 'PB190: MARITAL STATUS',\n",
       " 'PB200: CONSENSUAL UNION',\n",
       " 'PB220A: CITIZENSHIP',\n",
       " 'PD020: Replace worn-out clothes by some new (not second-hand) ones',\n",
       " 'PD030: Two pairs of properly fitting shoes',\n",
       " 'PD050: Get-together with friends/family (relatives) for a drink/meal at least once a month',\n",
       " 'PD060: Regularly participate in a leisure activity',\n",
       " 'PD070: Spend a small amount of money each week on yourself',\n",
       " 'PD080: Internet connection for personal use at home',\n",
       " 'PE010: CURRENT EDUCATION ACTIVITY',\n",
       " 'PH030: LIMITATION IN ACTIVITIES BECAUSE OF HEALTH PROBLEMS',\n",
       " 'PH040: UNMET NEED FOR MEDICAL EXAMINATION OR TREATMENT',\n",
       " 'PH060: UNMET NEED FOR DENTAL EXAMINATION OR TREATMENT',\n",
       " 'PL031: SELF-DEFINED CURRENT ECONOMIC STATUS',\n",
       " 'PL035: WORKED AT LEAST 1 HOUR DURING THE PREVIOUS WEEK',\n",
       " 'PL051: OCCUPATION (ISCO-08 (COM))',\n",
       " 'PL150: MANAGERIAL POSITION'}"
      ]
     },
     "execution_count": 75,
     "metadata": {},
     "output_type": "execute_result"
    }
   ],
   "source": [
    "## do rfe with dummy-features\n",
    "ds=reload()\n",
    "categorical= ['PB150: SEX', 'PB190: MARITAL STATUS',\n",
    "       'PB200: CONSENSUAL UNION', 'PB220A: CITIZENSHIP',\n",
    "       'PE010: CURRENT EDUCATION ACTIVITY',\n",
    "       'PL031: SELF-DEFINED CURRENT ECONOMIC STATUS',\n",
    "       'PL035: WORKED AT LEAST 1 HOUR DURING THE PREVIOUS WEEK',\n",
    "       'PL051: OCCUPATION (ISCO-08 (COM))', 'PL150: MANAGERIAL POSITION',\n",
    "        'PH030: LIMITATION IN ACTIVITIES BECAUSE OF HEALTH PROBLEMS',\n",
    "       'PH040: UNMET NEED FOR MEDICAL EXAMINATION OR TREATMENT',\n",
    "       'PH060: UNMET NEED FOR DENTAL EXAMINATION OR TREATMENT',\n",
    "       'PD020: Replace worn-out clothes by some new (not second-hand) ones',\n",
    "       'PD030: Two pairs of properly fitting shoes',\n",
    "       'PD050: Get-together with friends/family (relatives) for a drink/meal at least once a month',\n",
    "       'PD060: Regularly participate in a leisure activity',\n",
    "       'PD070: Spend a small amount of money each week on yourself',\n",
    "       'PD080: Internet connection for personal use at home',\n",
    "      ]\n",
    "#columns.remove(yli)\n",
    "create_dummy=set(columns).intersection(categorical)\n",
    "create_dummy"
   ]
  },
  {
   "cell_type": "code",
   "execution_count": 76,
   "metadata": {},
   "outputs": [
    {
     "name": "stdout",
     "output_type": "stream",
     "text": [
      "14\n"
     ]
    },
    {
     "data": {
      "text/plain": [
       "['PW130: TRUST IN THE POLITICAL SYSTEM',\n",
       " 'PB220A: CITIZENSHIP_1',\n",
       " 'PD050: Get-together with friends/family (relatives) for a drink/meal at least once a month_2.0',\n",
       " 'PB200: CONSENSUAL UNION_3',\n",
       " 'PL051: OCCUPATION (ISCO-08 (COM))_25.0',\n",
       " 'PL051: OCCUPATION (ISCO-08 (COM))_26.0',\n",
       " 'PL051: OCCUPATION (ISCO-08 (COM))_35.0',\n",
       " 'PL051: OCCUPATION (ISCO-08 (COM))_62.0',\n",
       " 'PL031: SELF-DEFINED CURRENT ECONOMIC STATUS_3.0',\n",
       " 'PL031: SELF-DEFINED CURRENT ECONOMIC STATUS_4.0',\n",
       " 'PL031: SELF-DEFINED CURRENT ECONOMIC STATUS_7.0',\n",
       " 'PB190: MARITAL STATUS_5.0',\n",
       " 'PH030: LIMITATION IN ACTIVITIES BECAUSE OF HEALTH PROBLEMS_2.0',\n",
       " 'PL150: MANAGERIAL POSITION_1.0']"
      ]
     },
     "execution_count": 76,
     "metadata": {},
     "output_type": "execute_result"
    }
   ],
   "source": [
    "data_dummy = pd.get_dummies(ds[columns], columns=create_dummy, drop_first=True)\n",
    "data_dummy.columns\n",
    "data_dummy\n",
    "generateRFE(data_dummy, ds[yli], 10)"
   ]
  },
  {
   "cell_type": "code",
   "execution_count": 77,
   "metadata": {},
   "outputs": [
    {
     "name": "stdout",
     "output_type": "stream",
     "text": [
      "14\n"
     ]
    }
   ],
   "source": [
    "try4 = generateRFE(data_dummy, ds[yli], 10)"
   ]
  },
  {
   "cell_type": "code",
   "execution_count": 78,
   "metadata": {},
   "outputs": [],
   "source": [
    "X = data_dummy[try4]\n",
    "y= ds[yli]\n",
    "X_train, X_test, y_train, y_test = train_test_split(X, y, test_size=0.2)"
   ]
  },
  {
   "cell_type": "code",
   "execution_count": 79,
   "metadata": {
    "scrolled": true
   },
   "outputs": [
    {
     "name": "stdout",
     "output_type": "stream",
     "text": [
      "Decision Tree Test Accuracy 100.0%\n"
     ]
    },
    {
     "name": "stderr",
     "output_type": "stream",
     "text": [
      "C:\\Users\\haenni\\AppData\\Local\\Continuum\\anaconda3\\lib\\site-packages\\sklearn\\svm\\base.py:193: FutureWarning: The default value of gamma will change from 'auto' to 'scale' in version 0.22 to account better for unscaled features. Set gamma explicitly to 'auto' or 'scale' to avoid this warning.\n",
      "  \"avoid this warning.\", FutureWarning)\n"
     ]
    },
    {
     "name": "stdout",
     "output_type": "stream",
     "text": [
      "SVM Algorithm Test Accuracy 100.0%\n"
     ]
    }
   ],
   "source": [
    "#### b) DecisionTree Classify\n",
    "\n",
    "dtc = DecisionTreeClassifier()#class_weight='balanced')#max_features=10,\n",
    "dtc.fit(X_train, y_train)\n",
    "y_pred = dtc.predict(X_test)\n",
    "\n",
    "acc = dtc.score(X_test, y_test)*100\n",
    "print(f\"Decision Tree Test Accuracy {round(acc, 2)}%\")\n",
    " \n",
    "\n",
    "#### c) Support Vector Maschine\n",
    "svm = SVC(decision_function_shape='ovo')\n",
    "svm.fit(X_train, y_train)\n",
    "y_pred = svm.predict(X_test)\n",
    "acc = svm.score(X_test,y_test)*100\n",
    "print(f\"SVM Algorithm Test Accuracy {round(acc, 2)}%\")"
   ]
  },
  {
   "cell_type": "markdown",
   "metadata": {},
   "source": [
    "#### <span style=\"color:red\"> Conclusion: No Model with accuracy</span>"
   ]
  },
  {
   "cell_type": "code",
   "execution_count": null,
   "metadata": {},
   "outputs": [],
   "source": []
  },
  {
   "cell_type": "code",
   "execution_count": null,
   "metadata": {},
   "outputs": [],
   "source": []
  },
  {
   "cell_type": "code",
   "execution_count": null,
   "metadata": {},
   "outputs": [],
   "source": []
  },
  {
   "cell_type": "code",
   "execution_count": null,
   "metadata": {},
   "outputs": [],
   "source": []
  },
  {
   "cell_type": "code",
   "execution_count": null,
   "metadata": {},
   "outputs": [],
   "source": []
  },
  {
   "cell_type": "code",
   "execution_count": null,
   "metadata": {},
   "outputs": [],
   "source": []
  },
  {
   "cell_type": "code",
   "execution_count": null,
   "metadata": {},
   "outputs": [],
   "source": []
  },
  {
   "cell_type": "code",
   "execution_count": null,
   "metadata": {},
   "outputs": [],
   "source": []
  },
  {
   "cell_type": "code",
   "execution_count": null,
   "metadata": {},
   "outputs": [],
   "source": []
  },
  {
   "cell_type": "code",
   "execution_count": null,
   "metadata": {},
   "outputs": [],
   "source": []
  },
  {
   "cell_type": "code",
   "execution_count": null,
   "metadata": {},
   "outputs": [],
   "source": []
  },
  {
   "cell_type": "code",
   "execution_count": null,
   "metadata": {},
   "outputs": [],
   "source": []
  },
  {
   "cell_type": "code",
   "execution_count": null,
   "metadata": {},
   "outputs": [],
   "source": []
  },
  {
   "cell_type": "code",
   "execution_count": null,
   "metadata": {},
   "outputs": [],
   "source": []
  },
  {
   "cell_type": "code",
   "execution_count": null,
   "metadata": {},
   "outputs": [],
   "source": []
  },
  {
   "cell_type": "code",
   "execution_count": null,
   "metadata": {},
   "outputs": [],
   "source": []
  },
  {
   "cell_type": "code",
   "execution_count": null,
   "metadata": {},
   "outputs": [],
   "source": []
  },
  {
   "cell_type": "code",
   "execution_count": null,
   "metadata": {},
   "outputs": [],
   "source": []
  },
  {
   "cell_type": "code",
   "execution_count": null,
   "metadata": {},
   "outputs": [],
   "source": []
  },
  {
   "cell_type": "code",
   "execution_count": null,
   "metadata": {},
   "outputs": [],
   "source": []
  },
  {
   "cell_type": "code",
   "execution_count": null,
   "metadata": {},
   "outputs": [],
   "source": []
  },
  {
   "cell_type": "code",
   "execution_count": null,
   "metadata": {},
   "outputs": [],
   "source": []
  },
  {
   "cell_type": "code",
   "execution_count": null,
   "metadata": {},
   "outputs": [],
   "source": []
  },
  {
   "cell_type": "code",
   "execution_count": null,
   "metadata": {},
   "outputs": [],
   "source": []
  },
  {
   "cell_type": "code",
   "execution_count": null,
   "metadata": {},
   "outputs": [],
   "source": []
  },
  {
   "cell_type": "code",
   "execution_count": null,
   "metadata": {},
   "outputs": [],
   "source": []
  },
  {
   "cell_type": "code",
   "execution_count": null,
   "metadata": {},
   "outputs": [],
   "source": []
  },
  {
   "cell_type": "code",
   "execution_count": null,
   "metadata": {},
   "outputs": [],
   "source": []
  },
  {
   "cell_type": "code",
   "execution_count": null,
   "metadata": {},
   "outputs": [],
   "source": []
  },
  {
   "cell_type": "code",
   "execution_count": null,
   "metadata": {},
   "outputs": [],
   "source": []
  },
  {
   "cell_type": "code",
   "execution_count": null,
   "metadata": {},
   "outputs": [],
   "source": []
  },
  {
   "cell_type": "code",
   "execution_count": null,
   "metadata": {},
   "outputs": [],
   "source": []
  },
  {
   "cell_type": "markdown",
   "metadata": {},
   "source": [
    "# Stepwise as Backup\n",
    "# 1 Data Selection and Preperation"
   ]
  },
  {
   "cell_type": "markdown",
   "metadata": {},
   "source": [
    "#### 1.1. define features and Y"
   ]
  },
  {
   "cell_type": "code",
   "execution_count": 157,
   "metadata": {},
   "outputs": [],
   "source": [
    "outcome = ds['PW010: OVERALL LIFE SATISFACTION']\n",
    "features = ds[background]\n",
    "outcomelist='PW010: OVERALL LIFE SATISFACTION'\n",
    "featureslist=background"
   ]
  },
  {
   "cell_type": "code",
   "execution_count": 81,
   "metadata": {},
   "outputs": [],
   "source": [
    "data =pd.merge(features, outcome, left_index=True, right_index=True)"
   ]
  },
  {
   "cell_type": "code",
   "execution_count": 82,
   "metadata": {},
   "outputs": [
    {
     "data": {
      "text/html": [
       "<div>\n",
       "<style scoped>\n",
       "    .dataframe tbody tr th:only-of-type {\n",
       "        vertical-align: middle;\n",
       "    }\n",
       "\n",
       "    .dataframe tbody tr th {\n",
       "        vertical-align: top;\n",
       "    }\n",
       "\n",
       "    .dataframe thead th {\n",
       "        text-align: right;\n",
       "    }\n",
       "</style>\n",
       "<table border=\"1\" class=\"dataframe\">\n",
       "  <thead>\n",
       "    <tr style=\"text-align: right;\">\n",
       "      <th></th>\n",
       "      <th>PB140: YEAR OF BIRTH</th>\n",
       "      <th>PB150: SEX</th>\n",
       "      <th>PB190: MARITAL STATUS</th>\n",
       "      <th>PB200: CONSENSUAL UNION</th>\n",
       "      <th>PB220A: CITIZENSHIP</th>\n",
       "      <th>PW010: OVERALL LIFE SATISFACTION</th>\n",
       "    </tr>\n",
       "  </thead>\n",
       "  <tbody>\n",
       "    <tr>\n",
       "      <td>0</td>\n",
       "      <td>1977</td>\n",
       "      <td>1</td>\n",
       "      <td>2.0</td>\n",
       "      <td>3</td>\n",
       "      <td>0</td>\n",
       "      <td>8.0</td>\n",
       "    </tr>\n",
       "    <tr>\n",
       "      <td>1</td>\n",
       "      <td>1936</td>\n",
       "      <td>1</td>\n",
       "      <td>2.0</td>\n",
       "      <td>1</td>\n",
       "      <td>0</td>\n",
       "      <td>7.0</td>\n",
       "    </tr>\n",
       "    <tr>\n",
       "      <td>2</td>\n",
       "      <td>1952</td>\n",
       "      <td>2</td>\n",
       "      <td>2.0</td>\n",
       "      <td>3</td>\n",
       "      <td>0</td>\n",
       "      <td>7.0</td>\n",
       "    </tr>\n",
       "    <tr>\n",
       "      <td>3</td>\n",
       "      <td>1938</td>\n",
       "      <td>2</td>\n",
       "      <td>2.0</td>\n",
       "      <td>3</td>\n",
       "      <td>0</td>\n",
       "      <td>6.0</td>\n",
       "    </tr>\n",
       "    <tr>\n",
       "      <td>4</td>\n",
       "      <td>1950</td>\n",
       "      <td>2</td>\n",
       "      <td>5.0</td>\n",
       "      <td>3</td>\n",
       "      <td>0</td>\n",
       "      <td>10.0</td>\n",
       "    </tr>\n",
       "  </tbody>\n",
       "</table>\n",
       "</div>"
      ],
      "text/plain": [
       "   PB140: YEAR OF BIRTH  PB150: SEX  PB190: MARITAL STATUS  \\\n",
       "0                  1977           1                    2.0   \n",
       "1                  1936           1                    2.0   \n",
       "2                  1952           2                    2.0   \n",
       "3                  1938           2                    2.0   \n",
       "4                  1950           2                    5.0   \n",
       "\n",
       "   PB200: CONSENSUAL UNION  PB220A: CITIZENSHIP  \\\n",
       "0                        3                    0   \n",
       "1                        1                    0   \n",
       "2                        3                    0   \n",
       "3                        3                    0   \n",
       "4                        3                    0   \n",
       "\n",
       "   PW010: OVERALL LIFE SATISFACTION  \n",
       "0                               8.0  \n",
       "1                               7.0  \n",
       "2                               7.0  \n",
       "3                               6.0  \n",
       "4                              10.0  "
      ]
     },
     "execution_count": 82,
     "metadata": {},
     "output_type": "execute_result"
    }
   ],
   "source": [
    "data.head()"
   ]
  },
  {
   "cell_type": "markdown",
   "metadata": {},
   "source": [
    "#### 1.2 make lefts skewed X categorical"
   ]
  },
  {
   "cell_type": "code",
   "execution_count": 83,
   "metadata": {},
   "outputs": [],
   "source": [
    "shouldbecategorical= main_list = list(set(data.columns)-set(categorical)-set([outcomelist]))"
   ]
  },
  {
   "cell_type": "markdown",
   "metadata": {},
   "source": [
    "#### 1.3 create dummies"
   ]
  },
  {
   "cell_type": "code",
   "execution_count": null,
   "metadata": {
    "scrolled": true
   },
   "outputs": [],
   "source": [
    "categorical= ['PB150: SEX', 'PB190: MARITAL STATUS',\n",
    "       'PB200: CONSENSUAL UNION', 'PB220A: CITIZENSHIP',\n",
    "       'PE010: CURRENT EDUCATION ACTIVITY',\n",
    "       'PL031: SELF-DEFINED CURRENT ECONOMIC STATUS',\n",
    "       'PL035: WORKED AT LEAST 1 HOUR DURING THE PREVIOUS WEEK',\n",
    "       'PL051: OCCUPATION (ISCO-08 (COM))', 'PL150: MANAGERIAL POSITION',\n",
    "        'PH030: LIMITATION IN ACTIVITIES BECAUSE OF HEALTH PROBLEMS',\n",
    "       'PH040: UNMET NEED FOR MEDICAL EXAMINATION OR TREATMENT',\n",
    "       'PH060: UNMET NEED FOR DENTAL EXAMINATION OR TREATMENT',\n",
    "       'PD020: Replace worn-out clothes by some new (not second-hand) ones',\n",
    "       'PD030: Two pairs of properly fitting shoes',\n",
    "       'PD050: Get-together with friends/family (relatives) for a drink/meal at least once a month',\n",
    "       'PD060: Regularly participate in a leisure activity',\n",
    "       'PD070: Spend a small amount of money each week on yourself',\n",
    "       'PD080: Internet connection for personal use at home',\n",
    "      ]\n",
    "\n",
    "create_dummy=set(featureslist).intersection(categorical)\n",
    "\n",
    "data_dummy = pd.get_dummies(data, columns=create_dummy, drop_first=True)\n",
    "data_dummy.columns"
   ]
  },
  {
   "cell_type": "code",
   "execution_count": 84,
   "metadata": {},
   "outputs": [],
   "source": [
    "# use dummy:\n",
    "data = data_dummy\n",
    "\n",
    "# not use dummy:\n",
    "#data = data =pd.merge(features, outcome, left_index=True, right_index=True)"
   ]
  },
  {
   "cell_type": "code",
   "execution_count": null,
   "metadata": {},
   "outputs": [],
   "source": []
  },
  {
   "cell_type": "code",
   "execution_count": null,
   "metadata": {},
   "outputs": [],
   "source": []
  },
  {
   "cell_type": "code",
   "execution_count": null,
   "metadata": {},
   "outputs": [],
   "source": []
  },
  {
   "cell_type": "code",
   "execution_count": null,
   "metadata": {},
   "outputs": [],
   "source": []
  },
  {
   "cell_type": "markdown",
   "metadata": {},
   "source": [
    "# 2. Regression"
   ]
  },
  {
   "cell_type": "markdown",
   "metadata": {},
   "source": [
    "#### <font color=red>here decide to keep or drop nan in the outcome: </font>"
   ]
  },
  {
   "cell_type": "code",
   "execution_count": null,
   "metadata": {},
   "outputs": [],
   "source": [
    "## drop nan\n",
    "#data = data[data[outcomelist]>=0]\n",
    "\n",
    "#reset \n",
    "#data = data =pd.merge(features, outcome, left_index=True, right_index=True)"
   ]
  },
  {
   "cell_type": "code",
   "execution_count": 85,
   "metadata": {},
   "outputs": [],
   "source": [
    "XCol=list(data.columns)\n",
    "XCol.remove(outcomelist)\n",
    "YCol=outcomelist"
   ]
  },
  {
   "cell_type": "code",
   "execution_count": 86,
   "metadata": {},
   "outputs": [],
   "source": [
    "X = data[XCol]\n",
    "y= data[YCol]"
   ]
  },
  {
   "cell_type": "markdown",
   "metadata": {},
   "source": [
    "•\timbalance checking (undersampling, oversamplingML umbalanced data lib)\n",
    "\n",
    "•\tSplit --> X_tr, y_tr, / X_ts,  y_ts\n",
    "\n",
    "•\tTry few models (with different algorithms) (<-- pipeline)\n",
    "\n",
    "    –\tInitialization\n",
    "\n",
    "    –\tFit / predict\n",
    "\n",
    "    –\tEvaluation (overfitting / underfitting)\n",
    "\n",
    "•\tChoose best option based on requirements\n",
    "\n",
    "•\tOptimize the model\n",
    "\n",
    "    –\tCross -validation\n",
    "\n",
    "    –\tTry few models (with same way to approach problem)\n",
    "\n",
    "        o\tInit\n",
    "\n",
    "        o\tFit.(predict)\n",
    "\n",
    "        o\tEvaluation\n",
    "\n",
    "    –\tHpyertuning\n"
   ]
  },
  {
   "cell_type": "markdown",
   "metadata": {},
   "source": [
    "### 2.1 Test for imbalancing in Y"
   ]
  },
  {
   "cell_type": "code",
   "execution_count": 87,
   "metadata": {},
   "outputs": [
    {
     "data": {
      "text/plain": [
       "'PW010: OVERALL LIFE SATISFACTION'"
      ]
     },
     "execution_count": 87,
     "metadata": {},
     "output_type": "execute_result"
    }
   ],
   "source": [
    "YCol"
   ]
  },
  {
   "cell_type": "code",
   "execution_count": 88,
   "metadata": {
    "scrolled": true
   },
   "outputs": [
    {
     "data": {
      "text/plain": [
       "<matplotlib.axes._subplots.AxesSubplot at 0x19c50075dc8>"
      ]
     },
     "execution_count": 88,
     "metadata": {},
     "output_type": "execute_result"
    },
    {
     "data": {
      "image/png": "[encoded data removed]",
      "text/plain": [
       "<Figure size 432x288 with 1 Axes>"
      ]
     },
     "metadata": {
      "needs_background": "light"
     },
     "output_type": "display_data"
    }
   ],
   "source": [
    "y.hist()\n",
    "\n",
    "## it is very imbalanced  --> bin the values bellow 5 and change *dont know\" to other value"
   ]
  },
  {
   "cell_type": "code",
   "execution_count": null,
   "metadata": {},
   "outputs": [],
   "source": [
    "#y.loc[(y['PW130: TRUST IN THE POLITICAL SYSTEM']==-1), 'PW130: TRUST IN THE POLITICAL SYSTEM']= X"
   ]
  },
  {
   "cell_type": "markdown",
   "metadata": {},
   "source": [
    "#### <font color=red>here decide how to bin y: </font>"
   ]
  },
  {
   "cell_type": "code",
   "execution_count": 91,
   "metadata": {
    "scrolled": true
   },
   "outputs": [
    {
     "data": {
      "text/plain": [
       "array([1, 0], dtype=int64)"
      ]
     },
     "execution_count": 91,
     "metadata": {},
     "output_type": "execute_result"
    }
   ],
   "source": [
    "y_binned=y.apply(lambda x: 0if (x <=5) & (x!=-1) else 1)\n",
    "y_binned.unique()"
   ]
  },
  {
   "cell_type": "code",
   "execution_count": 90,
   "metadata": {
    "scrolled": true
   },
   "outputs": [
    {
     "data": {
      "text/plain": [
       "<matplotlib.axes._subplots.AxesSubplot at 0x19c5126de08>"
      ]
     },
     "execution_count": 90,
     "metadata": {},
     "output_type": "execute_result"
    },
    {
     "data": {
      "image/png": "[encoded data removed]",
      "text/plain": [
       "<Figure size 432x288 with 1 Axes>"
      ]
     },
     "metadata": {
      "needs_background": "light"
     },
     "output_type": "display_data"
    }
   ],
   "source": [
    "y_binned.hist()\n"
   ]
  },
  {
   "cell_type": "code",
   "execution_count": 92,
   "metadata": {},
   "outputs": [
    {
     "data": {
      "text/plain": [
       "<matplotlib.axes._subplots.AxesSubplot at 0x19c5133ee88>"
      ]
     },
     "execution_count": 92,
     "metadata": {},
     "output_type": "execute_result"
    },
    {
     "data": {
      "image/png": "[encoded data removed]",
      "text/plain": [
       "<Figure size 720x360 with 2 Axes>"
      ]
     },
     "metadata": {
      "needs_background": "light"
     },
     "output_type": "display_data"
    }
   ],
   "source": [
    "### just to check correlation\n",
    "dset = pd.merge(X, y, left_index=True, right_index=True)\n",
    "\n",
    "\n",
    "plt.figure(figsize =(10,5))\n",
    "corr = dset.corr()\n",
    "mask = np.triu(np.ones_like(corr, dtype=np.bool))\n",
    "sns.heatmap(corr, cmap='coolwarm', annot = False, linewidth=0.5, mask=mask)"
   ]
  },
  {
   "cell_type": "code",
   "execution_count": null,
   "metadata": {},
   "outputs": [],
   "source": []
  },
  {
   "cell_type": "code",
   "execution_count": null,
   "metadata": {},
   "outputs": [],
   "source": []
  },
  {
   "cell_type": "markdown",
   "metadata": {},
   "source": [
    "## 2.2. Scale"
   ]
  },
  {
   "cell_type": "markdown",
   "metadata": {},
   "source": [
    "#### <font color=red>here decide to scale x or not and if yes which one: </font>"
   ]
  },
  {
   "cell_type": "code",
   "execution_count": 93,
   "metadata": {},
   "outputs": [
    {
     "data": {
      "text/plain": [
       "Index(['PB140: YEAR OF BIRTH', 'PE040: HIGHEST ISCED LEVEL ATTAINED',\n",
       "       'PH010: GENERAL HEALTH',\n",
       "       'PH020: SUFFER FROM ANY A CHRONIC (LONG-STANDING) ILLNESS OR CONDITION',\n",
       "       'PY010G_PY020G_PY021G_PY050G: EMPLOYEE INCOME',\n",
       "       'PY035G: CONTRIBUTIONS TO INDIVIDUAL PRIVATE PENSION PLANS',\n",
       "       'PY080G: PENSION FROM INDIVIDUAL PRIVATE PLANS',\n",
       "       'PY090G++: SOCIAL BENEFITS', 'PW020: MEANING OF LIFE',\n",
       "       'PW030: SATISFACTION WITH FINANCIAL SITUATION',\n",
       "       'PW040: SATISFACTION WITH ACCOMMODATION', 'PW050: BEING VERY NERVOUS',\n",
       "       'PW060: FEELING DOWN IN THE DUMPS', 'PW070: FEELING CALM AND PEACEFUL',\n",
       "       'PW080: FEELING DOWNHEARTED OR DEPRESSED', 'PW090: BEING HAPPY',\n",
       "       'PW120: SATISFACTION WITH TIME USE',\n",
       "       'PW130: TRUST IN THE POLITICAL SYSTEM',\n",
       "       'PW140: TRUST IN THE LEGAL SYSTEM', 'PW150: TRUST IN THE POLICE',\n",
       "       'PW160: SATISFACTION WITH PERSONAL RELATIONSHIPS',\n",
       "       'PW170: PERSONAL MATTERS (ANYONE TO DISCUSS WITH)',\n",
       "       'PW180: HELP FROM OTHERS', 'PW190: TRUST IN OTHERS',\n",
       "       'PW200: SATISFACTION WITH RECREATIONAL OR GREEN AREAS',\n",
       "       'PW210: SATISFACTION WITH LIVING ENVIRONMENT',\n",
       "       'PW220: PHYSICAL SECURITY',\n",
       "       'PD080: Internet connection for personal use at home_2.0',\n",
       "       'PB220A: CITIZENSHIP_1', 'PB150: SEX_2',\n",
       "       'PD050: Get-together with friends/family (relatives) for a drink/meal at least once a month_2.0',\n",
       "       'PD070: Spend a small amount of money each week on yourself_2.0',\n",
       "       'PB200: CONSENSUAL UNION_2', 'PB200: CONSENSUAL UNION_3',\n",
       "       'PD030: Two pairs of properly fitting shoes_2.0',\n",
       "       'PE010: CURRENT EDUCATION ACTIVITY_2',\n",
       "       'PD060: Regularly participate in a leisure activity_2.0',\n",
       "       'PH040: UNMET NEED FOR MEDICAL EXAMINATION OR TREATMENT_1',\n",
       "       'PH040: UNMET NEED FOR MEDICAL EXAMINATION OR TREATMENT_2',\n",
       "       'PL035: WORKED AT LEAST 1 HOUR DURING THE PREVIOUS WEEK_2',\n",
       "       'PL051: OCCUPATION (ISCO-08 (COM))_11.0',\n",
       "       'PL051: OCCUPATION (ISCO-08 (COM))_12.0',\n",
       "       'PL051: OCCUPATION (ISCO-08 (COM))_13.0',\n",
       "       'PL051: OCCUPATION (ISCO-08 (COM))_14.0',\n",
       "       'PL051: OCCUPATION (ISCO-08 (COM))_21.0',\n",
       "       'PL051: OCCUPATION (ISCO-08 (COM))_22.0',\n",
       "       'PL051: OCCUPATION (ISCO-08 (COM))_23.0',\n",
       "       'PL051: OCCUPATION (ISCO-08 (COM))_24.0',\n",
       "       'PL051: OCCUPATION (ISCO-08 (COM))_25.0',\n",
       "       'PL051: OCCUPATION (ISCO-08 (COM))_26.0',\n",
       "       'PL051: OCCUPATION (ISCO-08 (COM))_31.0',\n",
       "       'PL051: OCCUPATION (ISCO-08 (COM))_32.0',\n",
       "       'PL051: OCCUPATION (ISCO-08 (COM))_33.0',\n",
       "       'PL051: OCCUPATION (ISCO-08 (COM))_34.0',\n",
       "       'PL051: OCCUPATION (ISCO-08 (COM))_35.0',\n",
       "       'PL051: OCCUPATION (ISCO-08 (COM))_41.0',\n",
       "       'PL051: OCCUPATION (ISCO-08 (COM))_42.0',\n",
       "       'PL051: OCCUPATION (ISCO-08 (COM))_43.0',\n",
       "       'PL051: OCCUPATION (ISCO-08 (COM))_44.0',\n",
       "       'PL051: OCCUPATION (ISCO-08 (COM))_51.0',\n",
       "       'PL051: OCCUPATION (ISCO-08 (COM))_52.0',\n",
       "       'PL051: OCCUPATION (ISCO-08 (COM))_53.0',\n",
       "       'PL051: OCCUPATION (ISCO-08 (COM))_54.0',\n",
       "       'PL051: OCCUPATION (ISCO-08 (COM))_61.0',\n",
       "       'PL051: OCCUPATION (ISCO-08 (COM))_62.0',\n",
       "       'PL051: OCCUPATION (ISCO-08 (COM))_71.0',\n",
       "       'PL051: OCCUPATION (ISCO-08 (COM))_72.0',\n",
       "       'PL051: OCCUPATION (ISCO-08 (COM))_73.0',\n",
       "       'PL051: OCCUPATION (ISCO-08 (COM))_74.0',\n",
       "       'PL051: OCCUPATION (ISCO-08 (COM))_75.0',\n",
       "       'PL051: OCCUPATION (ISCO-08 (COM))_81.0',\n",
       "       'PL051: OCCUPATION (ISCO-08 (COM))_82.0',\n",
       "       'PL051: OCCUPATION (ISCO-08 (COM))_83.0',\n",
       "       'PL051: OCCUPATION (ISCO-08 (COM))_91.0',\n",
       "       'PL051: OCCUPATION (ISCO-08 (COM))_92.0',\n",
       "       'PL051: OCCUPATION (ISCO-08 (COM))_93.0',\n",
       "       'PL051: OCCUPATION (ISCO-08 (COM))_94.0',\n",
       "       'PL051: OCCUPATION (ISCO-08 (COM))_96.0',\n",
       "       'PL031: SELF-DEFINED CURRENT ECONOMIC STATUS_2.0',\n",
       "       'PL031: SELF-DEFINED CURRENT ECONOMIC STATUS_3.0',\n",
       "       'PL031: SELF-DEFINED CURRENT ECONOMIC STATUS_4.0',\n",
       "       'PL031: SELF-DEFINED CURRENT ECONOMIC STATUS_5.0',\n",
       "       'PL031: SELF-DEFINED CURRENT ECONOMIC STATUS_6.0',\n",
       "       'PL031: SELF-DEFINED CURRENT ECONOMIC STATUS_7.0',\n",
       "       'PL031: SELF-DEFINED CURRENT ECONOMIC STATUS_8.0',\n",
       "       'PL031: SELF-DEFINED CURRENT ECONOMIC STATUS_10.0',\n",
       "       'PL031: SELF-DEFINED CURRENT ECONOMIC STATUS_11.0',\n",
       "       'PH060: UNMET NEED FOR DENTAL EXAMINATION OR TREATMENT_1',\n",
       "       'PH060: UNMET NEED FOR DENTAL EXAMINATION OR TREATMENT_2',\n",
       "       'PD020: Replace worn-out clothes by some new (not second-hand) ones_2.0',\n",
       "       'PB190: MARITAL STATUS_2.0', 'PB190: MARITAL STATUS_3.0',\n",
       "       'PB190: MARITAL STATUS_4.0', 'PB190: MARITAL STATUS_5.0',\n",
       "       'PH030: LIMITATION IN ACTIVITIES BECAUSE OF HEALTH PROBLEMS_1.0',\n",
       "       'PH030: LIMITATION IN ACTIVITIES BECAUSE OF HEALTH PROBLEMS_2.0',\n",
       "       'PH030: LIMITATION IN ACTIVITIES BECAUSE OF HEALTH PROBLEMS_3.0',\n",
       "       'PL150: MANAGERIAL POSITION_1.0', 'PL150: MANAGERIAL POSITION_2.0'],\n",
       "      dtype='object')"
      ]
     },
     "execution_count": 93,
     "metadata": {},
     "output_type": "execute_result"
    }
   ],
   "source": [
    "### scaler\n",
    "scaler = StandardScaler()\n",
    "X_std = scaler.fit_transform(X)\n",
    "X_std.shape\n",
    "X.columns"
   ]
  },
  {
   "cell_type": "code",
   "execution_count": 95,
   "metadata": {
    "scrolled": true
   },
   "outputs": [
    {
     "data": {
      "text/plain": [
       "(19463, 99)"
      ]
     },
     "execution_count": 95,
     "metadata": {},
     "output_type": "execute_result"
    }
   ],
   "source": [
    "scaler = MinMaxScaler(feature_range=(0, 1))\n",
    "X_minmax = scaler.fit_transform(X)\n",
    "X_minmax.shape\n"
   ]
  },
  {
   "cell_type": "code",
   "execution_count": null,
   "metadata": {},
   "outputs": [],
   "source": []
  },
  {
   "cell_type": "code",
   "execution_count": null,
   "metadata": {},
   "outputs": [],
   "source": []
  },
  {
   "cell_type": "markdown",
   "metadata": {},
   "source": [
    "## 2.3 Split"
   ]
  },
  {
   "cell_type": "code",
   "execution_count": 96,
   "metadata": {},
   "outputs": [],
   "source": [
    "X_train, X_test, y_train, y_test = train_test_split(X_minmax, y, test_size=0.2)"
   ]
  },
  {
   "cell_type": "markdown",
   "metadata": {},
   "source": [
    "## 2.4 run different models"
   ]
  },
  {
   "cell_type": "markdown",
   "metadata": {},
   "source": [
    "#### a) Prepare Model "
   ]
  },
  {
   "cell_type": "code",
   "execution_count": 98,
   "metadata": {},
   "outputs": [],
   "source": [
    "## prepare interaction term\n",
    "for d in range(2):\n",
    "    interaction = PolynomialFeatures(degree = d, include_bias = False, interaction_only = True)\n",
    "    X_inter = interaction.fit_transform(X_train)"
   ]
  },
  {
   "cell_type": "markdown",
   "metadata": {},
   "source": [
    "#### b)  Linear Regression Model"
   ]
  },
  {
   "cell_type": "code",
   "execution_count": 97,
   "metadata": {},
   "outputs": [
    {
     "name": "stdout",
     "output_type": "stream",
     "text": [
      "Intercept:  5.635005074759052\n",
      "Coef:  [ 0.17323    -0.18354642  0.10601402  0.21214741  0.3484948   0.21087569\n",
      "  0.9285585   0.55956203 -0.0187821   0.06179104  0.10113871 -0.04264662\n",
      "  0.06679993  0.04000088 -0.0550339   0.01907754 -0.10650816 -0.01134233\n",
      "  0.02974048 -0.21552201 -0.02715986  0.30687196  0.20235886 -0.10945601\n",
      "  0.02222903  0.07755857 -0.15023106  0.11259127  0.21099614 -0.09627632\n",
      "  0.01357028  0.03033189 -0.05852049 -0.0806264  -0.23189393 -0.17442927\n",
      " -0.01357279 -0.13153181 -0.12503497 -0.03944136  0.08980568  0.15032548\n",
      "  0.03258417 -0.04404632 -0.1709415   0.09702074  0.19293252  0.03819362\n",
      "  0.17144281 -0.03810242  0.05655999  0.09766972 -0.07150842 -0.06487215\n",
      "  1.35776487  0.01653293 -0.0832945   0.06201789 -0.25440013 -0.13220963\n",
      " -0.15652796 -0.04208652 -0.22714026  0.2685615   0.30210183 -0.09004317\n",
      " -0.11595968  0.09367781  0.0505635   0.00424185 -0.25881393 -0.01689576\n",
      "  0.01204463  0.09842288 -0.49856765 -0.06626063  0.42409382  0.45828791\n",
      "  0.0708416  -0.17666445 -0.11174615  0.12279825  0.24000757  0.22155937\n",
      "  0.10246035  0.27449239  0.38366572 -0.06075735  0.01706403 -0.14294927\n",
      "  0.0924898   0.39269405  0.16925567  0.15732234  0.06525254 -0.10831744\n",
      "  0.03180554  0.18273972  0.22981292]\n"
     ]
    }
   ],
   "source": [
    "\n",
    "lm = LinearRegression()\n",
    "model = lm.fit(X_train,y_train)\n",
    "\n",
    "print(\"Intercept: \", lm.intercept_)\n",
    "print(\"Coef: \", lm.coef_)\n",
    "\n",
    "y_pred  = lm.predict(X_test)\n"
   ]
  },
  {
   "cell_type": "code",
   "execution_count": 99,
   "metadata": {},
   "outputs": [
    {
     "data": {
      "text/plain": [
       "2.9421490350647725"
      ]
     },
     "execution_count": 99,
     "metadata": {},
     "output_type": "execute_result"
    }
   ],
   "source": [
    "mean_absolute_error(y_test, y_pred)"
   ]
  },
  {
   "cell_type": "code",
   "execution_count": 100,
   "metadata": {},
   "outputs": [
    {
     "data": {
      "text/plain": [
       "13.090202513154837"
      ]
     },
     "execution_count": 100,
     "metadata": {},
     "output_type": "execute_result"
    }
   ],
   "source": [
    "mean_squared_error(y_test, y_pred)"
   ]
  },
  {
   "cell_type": "code",
   "execution_count": 101,
   "metadata": {},
   "outputs": [
    {
     "data": {
      "text/plain": [
       "-0.0073406639835613685"
      ]
     },
     "execution_count": 101,
     "metadata": {},
     "output_type": "execute_result"
    }
   ],
   "source": [
    "r2_score(y_test, y_pred)"
   ]
  },
  {
   "cell_type": "markdown",
   "metadata": {},
   "source": [
    "#### c)  Taylor (pipeline)"
   ]
  },
  {
   "cell_type": "markdown",
   "metadata": {},
   "source": [
    "#for k in range(1,8):\n",
    "poly_model = make_pipeline (StandardScaler(), PolynomialFeatures(degree=3, include_bias = False, interaction_only = True), LinearRegression())\n",
    "\n",
    "model = poly_model.fit(X_train, y_train)\n",
    "\n",
    "    \n",
    "print(poly_model.score(X_test, y_test))\n",
    "\n",
    "y_pred  = poly_model.predict(X_test)\n"
   ]
  },
  {
   "cell_type": "code",
   "execution_count": null,
   "metadata": {},
   "outputs": [],
   "source": [
    "mean_absolute_error(y_test, y_pred)"
   ]
  },
  {
   "cell_type": "code",
   "execution_count": null,
   "metadata": {
    "scrolled": true
   },
   "outputs": [],
   "source": [
    "mean_squared_error(y_test, y_pred)"
   ]
  },
  {
   "cell_type": "code",
   "execution_count": null,
   "metadata": {},
   "outputs": [],
   "source": [
    "r2_score(y_test, y_pred)"
   ]
  },
  {
   "cell_type": "markdown",
   "metadata": {},
   "source": [
    "#### c)  Regression Tree"
   ]
  },
  {
   "cell_type": "code",
   "execution_count": 103,
   "metadata": {},
   "outputs": [
    {
     "data": {
      "text/plain": [
       "-1.0698651447041243"
      ]
     },
     "execution_count": 103,
     "metadata": {},
     "output_type": "execute_result"
    }
   ],
   "source": [
    "regr = DecisionTreeRegressor(random_state = 29)\n",
    "\n",
    "model = regr.fit(X_train, y_train)\n",
    "\n",
    "y_pred  = regr.predict(X_test)\n",
    "regr.score(X_test, y_test)"
   ]
  },
  {
   "cell_type": "code",
   "execution_count": null,
   "metadata": {},
   "outputs": [],
   "source": [
    "#r = export_text(regr, feature_names=list(X.columns))\n",
    "#print(r)"
   ]
  },
  {
   "cell_type": "code",
   "execution_count": 104,
   "metadata": {},
   "outputs": [
    {
     "data": {
      "text/plain": [
       "3.914204983303365"
      ]
     },
     "execution_count": 104,
     "metadata": {},
     "output_type": "execute_result"
    }
   ],
   "source": [
    "mean_absolute_error(y_test, y_pred)"
   ]
  },
  {
   "cell_type": "code",
   "execution_count": 105,
   "metadata": {},
   "outputs": [
    {
     "data": {
      "text/plain": [
       "26.897508348317494"
      ]
     },
     "execution_count": 105,
     "metadata": {},
     "output_type": "execute_result"
    }
   ],
   "source": [
    "mean_squared_error(y_test, y_pred)"
   ]
  },
  {
   "cell_type": "code",
   "execution_count": 106,
   "metadata": {},
   "outputs": [
    {
     "data": {
      "text/plain": [
       "-1.0698651447041243"
      ]
     },
     "execution_count": 106,
     "metadata": {},
     "output_type": "execute_result"
    }
   ],
   "source": [
    "r2_score(y_test, y_pred)\n"
   ]
  },
  {
   "cell_type": "markdown",
   "metadata": {},
   "source": [
    "In the rare cases you get a negative r squared value, you should probably rethink your regression analysis, especially if you are forcing an intercept."
   ]
  },
  {
   "cell_type": "markdown",
   "metadata": {},
   "source": [
    "#### d)  KNeighborsRegressor"
   ]
  },
  {
   "cell_type": "code",
   "execution_count": 107,
   "metadata": {},
   "outputs": [],
   "source": [
    "knnr = KNeighborsRegressor(n_neighbors = 3)\n",
    "\n",
    "model = knnr.fit(X_train, y_train)  #fit the model\n",
    "y_pred = knnr.predict(X_test)\n"
   ]
  },
  {
   "cell_type": "code",
   "execution_count": 108,
   "metadata": {},
   "outputs": [
    {
     "data": {
      "text/plain": [
       "3.25815566401233"
      ]
     },
     "execution_count": 108,
     "metadata": {},
     "output_type": "execute_result"
    }
   ],
   "source": [
    "mean_absolute_error(y_test, y_pred)"
   ]
  },
  {
   "cell_type": "code",
   "execution_count": 109,
   "metadata": {},
   "outputs": [
    {
     "data": {
      "text/plain": [
       "17.25946856180609"
      ]
     },
     "execution_count": 109,
     "metadata": {},
     "output_type": "execute_result"
    }
   ],
   "source": [
    "mean_squared_error(y_test, y_pred)"
   ]
  },
  {
   "cell_type": "code",
   "execution_count": 110,
   "metadata": {},
   "outputs": [
    {
     "data": {
      "text/plain": [
       "-0.328181477985626"
      ]
     },
     "execution_count": 110,
     "metadata": {},
     "output_type": "execute_result"
    }
   ],
   "source": [
    "r2_score(y_test, y_pred)"
   ]
  },
  {
   "cell_type": "markdown",
   "metadata": {},
   "source": [
    "#### <font color=red>huge means squared_error and negative r squared for binned and unbinned y\n",
    "     also failed with drop nan, but way better!\n",
    "    also failed with feature elimination\n",
    "\n",
    "</font>"
   ]
  },
  {
   "cell_type": "markdown",
   "metadata": {},
   "source": [
    "# 3. optimize recursive feature elimination (RFE)"
   ]
  },
  {
   "cell_type": "code",
   "execution_count": 111,
   "metadata": {},
   "outputs": [],
   "source": [
    "## recursive feature elimination.\n",
    "# initialize an RFE model using the `auto_model` linear regression model. Set `n_features_to_select=3`"
   ]
  },
  {
   "cell_type": "code",
   "execution_count": 126,
   "metadata": {},
   "outputs": [
    {
     "data": {
      "text/html": [
       "<div>\n",
       "<style scoped>\n",
       "    .dataframe tbody tr th:only-of-type {\n",
       "        vertical-align: middle;\n",
       "    }\n",
       "\n",
       "    .dataframe tbody tr th {\n",
       "        vertical-align: top;\n",
       "    }\n",
       "\n",
       "    .dataframe thead th {\n",
       "        text-align: right;\n",
       "    }\n",
       "</style>\n",
       "<table border=\"1\" class=\"dataframe\">\n",
       "  <thead>\n",
       "    <tr style=\"text-align: right;\">\n",
       "      <th></th>\n",
       "      <th>PB140: YEAR OF BIRTH</th>\n",
       "      <th>PE040: HIGHEST ISCED LEVEL ATTAINED</th>\n",
       "      <th>PH010: GENERAL HEALTH</th>\n",
       "      <th>PH020: SUFFER FROM ANY A CHRONIC (LONG-STANDING) ILLNESS OR CONDITION</th>\n",
       "      <th>PY010G_PY020G_PY021G_PY050G: EMPLOYEE INCOME</th>\n",
       "      <th>PY035G: CONTRIBUTIONS TO INDIVIDUAL PRIVATE PENSION PLANS</th>\n",
       "      <th>PY080G: PENSION FROM INDIVIDUAL PRIVATE PLANS</th>\n",
       "      <th>PY090G++: SOCIAL BENEFITS</th>\n",
       "      <th>PD080: Internet connection for personal use at home_2.0</th>\n",
       "      <th>PB220A: CITIZENSHIP_1</th>\n",
       "      <th>...</th>\n",
       "      <th>PD020: Replace worn-out clothes by some new (not second-hand) ones_2.0</th>\n",
       "      <th>PB190: MARITAL STATUS_2.0</th>\n",
       "      <th>PB190: MARITAL STATUS_3.0</th>\n",
       "      <th>PB190: MARITAL STATUS_4.0</th>\n",
       "      <th>PB190: MARITAL STATUS_5.0</th>\n",
       "      <th>PH030: LIMITATION IN ACTIVITIES BECAUSE OF HEALTH PROBLEMS_1.0</th>\n",
       "      <th>PH030: LIMITATION IN ACTIVITIES BECAUSE OF HEALTH PROBLEMS_2.0</th>\n",
       "      <th>PH030: LIMITATION IN ACTIVITIES BECAUSE OF HEALTH PROBLEMS_3.0</th>\n",
       "      <th>PL150: MANAGERIAL POSITION_1.0</th>\n",
       "      <th>PL150: MANAGERIAL POSITION_2.0</th>\n",
       "    </tr>\n",
       "  </thead>\n",
       "  <tbody>\n",
       "    <tr>\n",
       "      <td>9527</td>\n",
       "      <td>1993</td>\n",
       "      <td>3.0</td>\n",
       "      <td>3.0</td>\n",
       "      <td>2.0</td>\n",
       "      <td>7917.66</td>\n",
       "      <td>1170</td>\n",
       "      <td>0.0</td>\n",
       "      <td>0.00</td>\n",
       "      <td>0</td>\n",
       "      <td>0</td>\n",
       "      <td>...</td>\n",
       "      <td>0</td>\n",
       "      <td>0</td>\n",
       "      <td>0</td>\n",
       "      <td>0</td>\n",
       "      <td>0</td>\n",
       "      <td>1</td>\n",
       "      <td>0</td>\n",
       "      <td>0</td>\n",
       "      <td>0</td>\n",
       "      <td>1</td>\n",
       "    </tr>\n",
       "    <tr>\n",
       "      <td>4075</td>\n",
       "      <td>1990</td>\n",
       "      <td>3.0</td>\n",
       "      <td>1.0</td>\n",
       "      <td>2.0</td>\n",
       "      <td>35163.34</td>\n",
       "      <td>0</td>\n",
       "      <td>0.0</td>\n",
       "      <td>0.00</td>\n",
       "      <td>0</td>\n",
       "      <td>0</td>\n",
       "      <td>...</td>\n",
       "      <td>0</td>\n",
       "      <td>0</td>\n",
       "      <td>0</td>\n",
       "      <td>0</td>\n",
       "      <td>0</td>\n",
       "      <td>1</td>\n",
       "      <td>0</td>\n",
       "      <td>0</td>\n",
       "      <td>0</td>\n",
       "      <td>1</td>\n",
       "    </tr>\n",
       "    <tr>\n",
       "      <td>16283</td>\n",
       "      <td>1955</td>\n",
       "      <td>3.0</td>\n",
       "      <td>2.0</td>\n",
       "      <td>2.0</td>\n",
       "      <td>0.00</td>\n",
       "      <td>2000</td>\n",
       "      <td>0.0</td>\n",
       "      <td>0.00</td>\n",
       "      <td>1</td>\n",
       "      <td>0</td>\n",
       "      <td>...</td>\n",
       "      <td>0</td>\n",
       "      <td>1</td>\n",
       "      <td>0</td>\n",
       "      <td>0</td>\n",
       "      <td>0</td>\n",
       "      <td>0</td>\n",
       "      <td>0</td>\n",
       "      <td>0</td>\n",
       "      <td>1</td>\n",
       "      <td>0</td>\n",
       "    </tr>\n",
       "    <tr>\n",
       "      <td>6217</td>\n",
       "      <td>1958</td>\n",
       "      <td>5.0</td>\n",
       "      <td>1.0</td>\n",
       "      <td>1.0</td>\n",
       "      <td>28704.62</td>\n",
       "      <td>0</td>\n",
       "      <td>0.0</td>\n",
       "      <td>0.00</td>\n",
       "      <td>0</td>\n",
       "      <td>0</td>\n",
       "      <td>...</td>\n",
       "      <td>0</td>\n",
       "      <td>0</td>\n",
       "      <td>0</td>\n",
       "      <td>0</td>\n",
       "      <td>1</td>\n",
       "      <td>0</td>\n",
       "      <td>0</td>\n",
       "      <td>1</td>\n",
       "      <td>0</td>\n",
       "      <td>1</td>\n",
       "    </tr>\n",
       "    <tr>\n",
       "      <td>2241</td>\n",
       "      <td>1994</td>\n",
       "      <td>5.0</td>\n",
       "      <td>1.0</td>\n",
       "      <td>1.0</td>\n",
       "      <td>0.00</td>\n",
       "      <td>0</td>\n",
       "      <td>0.0</td>\n",
       "      <td>0.00</td>\n",
       "      <td>0</td>\n",
       "      <td>0</td>\n",
       "      <td>...</td>\n",
       "      <td>0</td>\n",
       "      <td>0</td>\n",
       "      <td>0</td>\n",
       "      <td>0</td>\n",
       "      <td>0</td>\n",
       "      <td>0</td>\n",
       "      <td>1</td>\n",
       "      <td>0</td>\n",
       "      <td>0</td>\n",
       "      <td>1</td>\n",
       "    </tr>\n",
       "    <tr>\n",
       "      <td>...</td>\n",
       "      <td>...</td>\n",
       "      <td>...</td>\n",
       "      <td>...</td>\n",
       "      <td>...</td>\n",
       "      <td>...</td>\n",
       "      <td>...</td>\n",
       "      <td>...</td>\n",
       "      <td>...</td>\n",
       "      <td>...</td>\n",
       "      <td>...</td>\n",
       "      <td>...</td>\n",
       "      <td>...</td>\n",
       "      <td>...</td>\n",
       "      <td>...</td>\n",
       "      <td>...</td>\n",
       "      <td>...</td>\n",
       "      <td>...</td>\n",
       "      <td>...</td>\n",
       "      <td>...</td>\n",
       "      <td>...</td>\n",
       "      <td>...</td>\n",
       "    </tr>\n",
       "    <tr>\n",
       "      <td>4788</td>\n",
       "      <td>1988</td>\n",
       "      <td>3.0</td>\n",
       "      <td>1.0</td>\n",
       "      <td>2.0</td>\n",
       "      <td>5353.00</td>\n",
       "      <td>4560</td>\n",
       "      <td>0.0</td>\n",
       "      <td>3170.94</td>\n",
       "      <td>0</td>\n",
       "      <td>0</td>\n",
       "      <td>...</td>\n",
       "      <td>0</td>\n",
       "      <td>0</td>\n",
       "      <td>0</td>\n",
       "      <td>0</td>\n",
       "      <td>0</td>\n",
       "      <td>0</td>\n",
       "      <td>0</td>\n",
       "      <td>1</td>\n",
       "      <td>0</td>\n",
       "      <td>1</td>\n",
       "    </tr>\n",
       "    <tr>\n",
       "      <td>5085</td>\n",
       "      <td>1943</td>\n",
       "      <td>5.0</td>\n",
       "      <td>2.0</td>\n",
       "      <td>1.0</td>\n",
       "      <td>0.00</td>\n",
       "      <td>4700</td>\n",
       "      <td>0.0</td>\n",
       "      <td>16246.53</td>\n",
       "      <td>1</td>\n",
       "      <td>0</td>\n",
       "      <td>...</td>\n",
       "      <td>0</td>\n",
       "      <td>1</td>\n",
       "      <td>0</td>\n",
       "      <td>0</td>\n",
       "      <td>0</td>\n",
       "      <td>1</td>\n",
       "      <td>0</td>\n",
       "      <td>0</td>\n",
       "      <td>0</td>\n",
       "      <td>1</td>\n",
       "    </tr>\n",
       "    <tr>\n",
       "      <td>21856</td>\n",
       "      <td>1970</td>\n",
       "      <td>5.0</td>\n",
       "      <td>1.0</td>\n",
       "      <td>1.0</td>\n",
       "      <td>32707.83</td>\n",
       "      <td>0</td>\n",
       "      <td>0.0</td>\n",
       "      <td>0.00</td>\n",
       "      <td>0</td>\n",
       "      <td>0</td>\n",
       "      <td>...</td>\n",
       "      <td>1</td>\n",
       "      <td>1</td>\n",
       "      <td>0</td>\n",
       "      <td>0</td>\n",
       "      <td>0</td>\n",
       "      <td>0</td>\n",
       "      <td>0</td>\n",
       "      <td>1</td>\n",
       "      <td>0</td>\n",
       "      <td>1</td>\n",
       "    </tr>\n",
       "    <tr>\n",
       "      <td>9017</td>\n",
       "      <td>1951</td>\n",
       "      <td>3.0</td>\n",
       "      <td>2.0</td>\n",
       "      <td>2.0</td>\n",
       "      <td>0.00</td>\n",
       "      <td>2160</td>\n",
       "      <td>0.0</td>\n",
       "      <td>7726.97</td>\n",
       "      <td>0</td>\n",
       "      <td>0</td>\n",
       "      <td>...</td>\n",
       "      <td>0</td>\n",
       "      <td>1</td>\n",
       "      <td>0</td>\n",
       "      <td>0</td>\n",
       "      <td>0</td>\n",
       "      <td>0</td>\n",
       "      <td>1</td>\n",
       "      <td>0</td>\n",
       "      <td>0</td>\n",
       "      <td>1</td>\n",
       "    </tr>\n",
       "    <tr>\n",
       "      <td>5430</td>\n",
       "      <td>1978</td>\n",
       "      <td>3.0</td>\n",
       "      <td>2.0</td>\n",
       "      <td>2.0</td>\n",
       "      <td>5535.41</td>\n",
       "      <td>0</td>\n",
       "      <td>0.0</td>\n",
       "      <td>0.00</td>\n",
       "      <td>0</td>\n",
       "      <td>0</td>\n",
       "      <td>...</td>\n",
       "      <td>0</td>\n",
       "      <td>1</td>\n",
       "      <td>0</td>\n",
       "      <td>0</td>\n",
       "      <td>0</td>\n",
       "      <td>0</td>\n",
       "      <td>0</td>\n",
       "      <td>1</td>\n",
       "      <td>1</td>\n",
       "      <td>0</td>\n",
       "    </tr>\n",
       "  </tbody>\n",
       "</table>\n",
       "<p>12932 rows × 80 columns</p>\n",
       "</div>"
      ],
      "text/plain": [
       "       PB140: YEAR OF BIRTH  PE040: HIGHEST ISCED LEVEL ATTAINED  \\\n",
       "9527                   1993                                  3.0   \n",
       "4075                   1990                                  3.0   \n",
       "16283                  1955                                  3.0   \n",
       "6217                   1958                                  5.0   \n",
       "2241                   1994                                  5.0   \n",
       "...                     ...                                  ...   \n",
       "4788                   1988                                  3.0   \n",
       "5085                   1943                                  5.0   \n",
       "21856                  1970                                  5.0   \n",
       "9017                   1951                                  3.0   \n",
       "5430                   1978                                  3.0   \n",
       "\n",
       "       PH010: GENERAL HEALTH  \\\n",
       "9527                     3.0   \n",
       "4075                     1.0   \n",
       "16283                    2.0   \n",
       "6217                     1.0   \n",
       "2241                     1.0   \n",
       "...                      ...   \n",
       "4788                     1.0   \n",
       "5085                     2.0   \n",
       "21856                    1.0   \n",
       "9017                     2.0   \n",
       "5430                     2.0   \n",
       "\n",
       "       PH020: SUFFER FROM ANY A CHRONIC (LONG-STANDING) ILLNESS OR CONDITION  \\\n",
       "9527                                                 2.0                       \n",
       "4075                                                 2.0                       \n",
       "16283                                                2.0                       \n",
       "6217                                                 1.0                       \n",
       "2241                                                 1.0                       \n",
       "...                                                  ...                       \n",
       "4788                                                 2.0                       \n",
       "5085                                                 1.0                       \n",
       "21856                                                1.0                       \n",
       "9017                                                 2.0                       \n",
       "5430                                                 2.0                       \n",
       "\n",
       "       PY010G_PY020G_PY021G_PY050G: EMPLOYEE INCOME  \\\n",
       "9527                                        7917.66   \n",
       "4075                                       35163.34   \n",
       "16283                                          0.00   \n",
       "6217                                       28704.62   \n",
       "2241                                           0.00   \n",
       "...                                             ...   \n",
       "4788                                        5353.00   \n",
       "5085                                           0.00   \n",
       "21856                                      32707.83   \n",
       "9017                                           0.00   \n",
       "5430                                        5535.41   \n",
       "\n",
       "       PY035G: CONTRIBUTIONS TO INDIVIDUAL PRIVATE PENSION PLANS  \\\n",
       "9527                                                1170           \n",
       "4075                                                   0           \n",
       "16283                                               2000           \n",
       "6217                                                   0           \n",
       "2241                                                   0           \n",
       "...                                                  ...           \n",
       "4788                                                4560           \n",
       "5085                                                4700           \n",
       "21856                                                  0           \n",
       "9017                                                2160           \n",
       "5430                                                   0           \n",
       "\n",
       "       PY080G: PENSION FROM INDIVIDUAL PRIVATE PLANS  \\\n",
       "9527                                             0.0   \n",
       "4075                                             0.0   \n",
       "16283                                            0.0   \n",
       "6217                                             0.0   \n",
       "2241                                             0.0   \n",
       "...                                              ...   \n",
       "4788                                             0.0   \n",
       "5085                                             0.0   \n",
       "21856                                            0.0   \n",
       "9017                                             0.0   \n",
       "5430                                             0.0   \n",
       "\n",
       "       PY090G++: SOCIAL BENEFITS  \\\n",
       "9527                        0.00   \n",
       "4075                        0.00   \n",
       "16283                       0.00   \n",
       "6217                        0.00   \n",
       "2241                        0.00   \n",
       "...                          ...   \n",
       "4788                     3170.94   \n",
       "5085                    16246.53   \n",
       "21856                       0.00   \n",
       "9017                     7726.97   \n",
       "5430                        0.00   \n",
       "\n",
       "       PD080: Internet connection for personal use at home_2.0  \\\n",
       "9527                                                   0         \n",
       "4075                                                   0         \n",
       "16283                                                  1         \n",
       "6217                                                   0         \n",
       "2241                                                   0         \n",
       "...                                                  ...         \n",
       "4788                                                   0         \n",
       "5085                                                   1         \n",
       "21856                                                  0         \n",
       "9017                                                   0         \n",
       "5430                                                   0         \n",
       "\n",
       "       PB220A: CITIZENSHIP_1  ...  \\\n",
       "9527                       0  ...   \n",
       "4075                       0  ...   \n",
       "16283                      0  ...   \n",
       "6217                       0  ...   \n",
       "2241                       0  ...   \n",
       "...                      ...  ...   \n",
       "4788                       0  ...   \n",
       "5085                       0  ...   \n",
       "21856                      0  ...   \n",
       "9017                       0  ...   \n",
       "5430                       0  ...   \n",
       "\n",
       "       PD020: Replace worn-out clothes by some new (not second-hand) ones_2.0  \\\n",
       "9527                                                   0                        \n",
       "4075                                                   0                        \n",
       "16283                                                  0                        \n",
       "6217                                                   0                        \n",
       "2241                                                   0                        \n",
       "...                                                  ...                        \n",
       "4788                                                   0                        \n",
       "5085                                                   0                        \n",
       "21856                                                  1                        \n",
       "9017                                                   0                        \n",
       "5430                                                   0                        \n",
       "\n",
       "       PB190: MARITAL STATUS_2.0  PB190: MARITAL STATUS_3.0  \\\n",
       "9527                           0                          0   \n",
       "4075                           0                          0   \n",
       "16283                          1                          0   \n",
       "6217                           0                          0   \n",
       "2241                           0                          0   \n",
       "...                          ...                        ...   \n",
       "4788                           0                          0   \n",
       "5085                           1                          0   \n",
       "21856                          1                          0   \n",
       "9017                           1                          0   \n",
       "5430                           1                          0   \n",
       "\n",
       "       PB190: MARITAL STATUS_4.0  PB190: MARITAL STATUS_5.0  \\\n",
       "9527                           0                          0   \n",
       "4075                           0                          0   \n",
       "16283                          0                          0   \n",
       "6217                           0                          1   \n",
       "2241                           0                          0   \n",
       "...                          ...                        ...   \n",
       "4788                           0                          0   \n",
       "5085                           0                          0   \n",
       "21856                          0                          0   \n",
       "9017                           0                          0   \n",
       "5430                           0                          0   \n",
       "\n",
       "       PH030: LIMITATION IN ACTIVITIES BECAUSE OF HEALTH PROBLEMS_1.0  \\\n",
       "9527                                                   1                \n",
       "4075                                                   1                \n",
       "16283                                                  0                \n",
       "6217                                                   0                \n",
       "2241                                                   0                \n",
       "...                                                  ...                \n",
       "4788                                                   0                \n",
       "5085                                                   1                \n",
       "21856                                                  0                \n",
       "9017                                                   0                \n",
       "5430                                                   0                \n",
       "\n",
       "       PH030: LIMITATION IN ACTIVITIES BECAUSE OF HEALTH PROBLEMS_2.0  \\\n",
       "9527                                                   0                \n",
       "4075                                                   0                \n",
       "16283                                                  0                \n",
       "6217                                                   0                \n",
       "2241                                                   1                \n",
       "...                                                  ...                \n",
       "4788                                                   0                \n",
       "5085                                                   0                \n",
       "21856                                                  0                \n",
       "9017                                                   1                \n",
       "5430                                                   0                \n",
       "\n",
       "       PH030: LIMITATION IN ACTIVITIES BECAUSE OF HEALTH PROBLEMS_3.0  \\\n",
       "9527                                                   0                \n",
       "4075                                                   0                \n",
       "16283                                                  0                \n",
       "6217                                                   1                \n",
       "2241                                                   0                \n",
       "...                                                  ...                \n",
       "4788                                                   1                \n",
       "5085                                                   0                \n",
       "21856                                                  1                \n",
       "9017                                                   0                \n",
       "5430                                                   1                \n",
       "\n",
       "       PL150: MANAGERIAL POSITION_1.0  PL150: MANAGERIAL POSITION_2.0  \n",
       "9527                                0                               1  \n",
       "4075                                0                               1  \n",
       "16283                               1                               0  \n",
       "6217                                0                               1  \n",
       "2241                                0                               1  \n",
       "...                               ...                             ...  \n",
       "4788                                0                               1  \n",
       "5085                                0                               1  \n",
       "21856                               0                               1  \n",
       "9017                                0                               1  \n",
       "5430                                1                               0  \n",
       "\n",
       "[12932 rows x 80 columns]"
      ]
     },
     "execution_count": 126,
     "metadata": {},
     "output_type": "execute_result"
    }
   ],
   "source": [
    "generateTest(columns[:-20],outcomelist, 'yes',  'yes', 'no')[0]"
   ]
  },
  {
   "cell_type": "markdown",
   "metadata": {},
   "source": [
    "Fit the model and print the ranking"
   ]
  },
  {
   "cell_type": "code",
   "execution_count": 130,
   "metadata": {},
   "outputs": [],
   "source": [
    "# Your code here:\n",
    "auto_model = LinearRegression()\n",
    "selector = RFE(auto_model, 5, step=1)\n",
    "model = selector.fit(generateTest(columns[:-20],outcomelist, 'yes',  'yes', 'no')[0],generateTest(columns[:-20],outcomelist, 'yes',  'yes', 'no')[2])"
   ]
  },
  {
   "cell_type": "code",
   "execution_count": 131,
   "metadata": {},
   "outputs": [
    {
     "data": {
      "text/plain": [
       "array([72, 61, 53, 67, 76, 73, 74, 75, 56, 46, 66, 58, 60,  7, 49, 62, 68,\n",
       "       40, 41, 42, 70, 17,  4, 10, 65, 18, 14, 23, 16, 28, 64, 29, 32, 22,\n",
       "        8, 13,  6, 20, 39, 38, 30, 36,  1, 69,  1, 71, 33, 34,  5, 15,  1,\n",
       "       21,  1, 31, 25, 59, 24, 57, 35, 52, 19,  2, 11, 37, 27,  9, 26,  3,\n",
       "        1, 51, 50, 55, 54, 12, 44, 63, 45, 48, 47, 43])"
      ]
     },
     "execution_count": 131,
     "metadata": {},
     "output_type": "execute_result"
    }
   ],
   "source": [
    "# Your code here:\n",
    "selector.ranking_\n",
    "#selector.support_"
   ]
  },
  {
   "cell_type": "code",
   "execution_count": 133,
   "metadata": {},
   "outputs": [
    {
     "name": "stdout",
     "output_type": "stream",
     "text": [
      "14\n"
     ]
    },
    {
     "data": {
      "text/plain": [
       "['PB200: CONSENSUAL UNION_2',\n",
       " 'PL051: OCCUPATION (ISCO-08 (COM))_12.0',\n",
       " 'PL051: OCCUPATION (ISCO-08 (COM))_13.0',\n",
       " 'PL051: OCCUPATION (ISCO-08 (COM))_34.0',\n",
       " 'PL051: OCCUPATION (ISCO-08 (COM))_41.0',\n",
       " 'PL051: OCCUPATION (ISCO-08 (COM))_53.0',\n",
       " 'PL051: OCCUPATION (ISCO-08 (COM))_61.0',\n",
       " 'PL051: OCCUPATION (ISCO-08 (COM))_73.0',\n",
       " 'PL051: OCCUPATION (ISCO-08 (COM))_75.0',\n",
       " 'PL051: OCCUPATION (ISCO-08 (COM))_82.0',\n",
       " 'PL031: SELF-DEFINED CURRENT ECONOMIC STATUS_4.0',\n",
       " 'PL031: SELF-DEFINED CURRENT ECONOMIC STATUS_8.0',\n",
       " 'PL031: SELF-DEFINED CURRENT ECONOMIC STATUS_11.0',\n",
       " 'PH060: UNMET NEED FOR DENTAL EXAMINATION OR TREATMENT_1']"
      ]
     },
     "execution_count": 133,
     "metadata": {},
     "output_type": "execute_result"
    }
   ],
   "source": [
    "Xhere = generateTest(columns[:-20],outcomelist,  'yes', 'yes', 'no')[0]\n",
    "rfe_col = []\n",
    "for x in range(len(Xhere.columns)):\n",
    "    if selector.ranking_[x]<=10:\n",
    "        rfe_col.append(Xhere.columns[x])\n",
    "print(len(rfe_col))\n",
    "rfe_col"
   ]
  },
  {
   "cell_type": "code",
   "execution_count": 134,
   "metadata": {},
   "outputs": [
    {
     "data": {
      "text/plain": [
       "Index(['PB140: YEAR OF BIRTH', 'PB150: SEX', 'PB190: MARITAL STATUS',\n",
       "       'PB200: CONSENSUAL UNION', 'PB220A: CITIZENSHIP',\n",
       "       'PE010: CURRENT EDUCATION ACTIVITY',\n",
       "       'PE040: HIGHEST ISCED LEVEL ATTAINED',\n",
       "       'PL031: SELF-DEFINED CURRENT ECONOMIC STATUS',\n",
       "       'PL035: WORKED AT LEAST 1 HOUR DURING THE PREVIOUS WEEK',\n",
       "       'PL051: OCCUPATION (ISCO-08 (COM))', 'PL150: MANAGERIAL POSITION',\n",
       "       'PH010: GENERAL HEALTH',\n",
       "       'PH020: SUFFER FROM ANY A CHRONIC (LONG-STANDING) ILLNESS OR CONDITION',\n",
       "       'PH030: LIMITATION IN ACTIVITIES BECAUSE OF HEALTH PROBLEMS',\n",
       "       'PH040: UNMET NEED FOR MEDICAL EXAMINATION OR TREATMENT',\n",
       "       'PH060: UNMET NEED FOR DENTAL EXAMINATION OR TREATMENT',\n",
       "       'PY010G_PY020G_PY021G_PY050G: EMPLOYEE INCOME',\n",
       "       'PY035G: CONTRIBUTIONS TO INDIVIDUAL PRIVATE PENSION PLANS',\n",
       "       'PY080G: PENSION FROM INDIVIDUAL PRIVATE PLANS',\n",
       "       'PY090G++: SOCIAL BENEFITS',\n",
       "       'PD020: Replace worn-out clothes by some new (not second-hand) ones',\n",
       "       'PD030: Two pairs of properly fitting shoes',\n",
       "       'PD050: Get-together with friends/family (relatives) for a drink/meal at least once a month',\n",
       "       'PD060: Regularly participate in a leisure activity',\n",
       "       'PD070: Spend a small amount of money each week on yourself',\n",
       "       'PD080: Internet connection for personal use at home',\n",
       "       'PW010: OVERALL LIFE SATISFACTION', 'PW020: MEANING OF LIFE',\n",
       "       'PW030: SATISFACTION WITH FINANCIAL SITUATION',\n",
       "       'PW040: SATISFACTION WITH ACCOMMODATION', 'PW050: BEING VERY NERVOUS',\n",
       "       'PW060: FEELING DOWN IN THE DUMPS', 'PW070: FEELING CALM AND PEACEFUL',\n",
       "       'PW080: FEELING DOWNHEARTED OR DEPRESSED', 'PW090: BEING HAPPY',\n",
       "       'PW120: SATISFACTION WITH TIME USE',\n",
       "       'PW130: TRUST IN THE POLITICAL SYSTEM',\n",
       "       'PW140: TRUST IN THE LEGAL SYSTEM', 'PW150: TRUST IN THE POLICE',\n",
       "       'PW160: SATISFACTION WITH PERSONAL RELATIONSHIPS',\n",
       "       'PW170: PERSONAL MATTERS (ANYONE TO DISCUSS WITH)',\n",
       "       'PW180: HELP FROM OTHERS', 'PW190: TRUST IN OTHERS',\n",
       "       'PW200: SATISFACTION WITH RECREATIONAL OR GREEN AREAS',\n",
       "       'PW210: SATISFACTION WITH LIVING ENVIRONMENT',\n",
       "       'PW220: PHYSICAL SECURITY'],\n",
       "      dtype='object')"
      ]
     },
     "execution_count": 134,
     "metadata": {},
     "output_type": "execute_result"
    }
   ],
   "source": [
    "X=data[columns]\n",
    "X.columns"
   ]
  },
  {
   "cell_type": "code",
   "execution_count": null,
   "metadata": {},
   "outputs": [],
   "source": []
  },
  {
   "cell_type": "markdown",
   "metadata": {},
   "source": [
    "## 2.3 PCA"
   ]
  },
  {
   "cell_type": "code",
   "execution_count": 115,
   "metadata": {},
   "outputs": [
    {
     "data": {
      "text/plain": [
       "(19463, 99)"
      ]
     },
     "execution_count": 115,
     "metadata": {},
     "output_type": "execute_result"
    }
   ],
   "source": [
    "X = data[XCol]\n",
    "X.shape"
   ]
  },
  {
   "cell_type": "code",
   "execution_count": 113,
   "metadata": {},
   "outputs": [],
   "source": [
    "# Create a PCA that will retain 99% of variance\n",
    "pca = PCA(n_components=0.99, whiten=True)\n",
    "# ica = FastI-CA(n_components=0.99, whit-en=True)\n",
    "\n",
    "# Conduct PCA\n",
    "features_pca = pca.fit_transform(X)"
   ]
  },
  {
   "cell_type": "code",
   "execution_count": 114,
   "metadata": {},
   "outputs": [
    {
     "data": {
      "text/plain": [
       "(19463, 2)"
      ]
     },
     "execution_count": 114,
     "metadata": {},
     "output_type": "execute_result"
    }
   ],
   "source": [
    "X= features_pca\n",
    "X.shape\n",
    "## --> run 2.2 split and 2.3 models again"
   ]
  },
  {
   "cell_type": "code",
   "execution_count": null,
   "metadata": {},
   "outputs": [],
   "source": []
  },
  {
   "cell_type": "code",
   "execution_count": null,
   "metadata": {},
   "outputs": [],
   "source": []
  },
  {
   "cell_type": "code",
   "execution_count": null,
   "metadata": {},
   "outputs": [],
   "source": []
  },
  {
   "cell_type": "markdown",
   "metadata": {},
   "source": [
    "## 2. Classification"
   ]
  },
  {
   "cell_type": "markdown",
   "metadata": {},
   "source": [
    "### 2.1.1 prepare data"
   ]
  },
  {
   "cell_type": "code",
   "execution_count": 158,
   "metadata": {},
   "outputs": [
    {
     "data": {
      "text/html": [
       "<div>\n",
       "<style scoped>\n",
       "    .dataframe tbody tr th:only-of-type {\n",
       "        vertical-align: middle;\n",
       "    }\n",
       "\n",
       "    .dataframe tbody tr th {\n",
       "        vertical-align: top;\n",
       "    }\n",
       "\n",
       "    .dataframe thead th {\n",
       "        text-align: right;\n",
       "    }\n",
       "</style>\n",
       "<table border=\"1\" class=\"dataframe\">\n",
       "  <thead>\n",
       "    <tr style=\"text-align: right;\">\n",
       "      <th></th>\n",
       "      <th>PB140: YEAR OF BIRTH</th>\n",
       "      <th>PB150: SEX</th>\n",
       "      <th>PB190: MARITAL STATUS</th>\n",
       "      <th>PB200: CONSENSUAL UNION</th>\n",
       "      <th>PB220A: CITIZENSHIP</th>\n",
       "      <th>PE010: CURRENT EDUCATION ACTIVITY</th>\n",
       "      <th>PE040: HIGHEST ISCED LEVEL ATTAINED</th>\n",
       "      <th>PL031: SELF-DEFINED CURRENT ECONOMIC STATUS</th>\n",
       "      <th>PL035: WORKED AT LEAST 1 HOUR DURING THE PREVIOUS WEEK</th>\n",
       "      <th>PL051: OCCUPATION (ISCO-08 (COM))</th>\n",
       "      <th>...</th>\n",
       "      <th>PW130: TRUST IN THE POLITICAL SYSTEM</th>\n",
       "      <th>PW140: TRUST IN THE LEGAL SYSTEM</th>\n",
       "      <th>PW150: TRUST IN THE POLICE</th>\n",
       "      <th>PW160: SATISFACTION WITH PERSONAL RELATIONSHIPS</th>\n",
       "      <th>PW170: PERSONAL MATTERS (ANYONE TO DISCUSS WITH)</th>\n",
       "      <th>PW180: HELP FROM OTHERS</th>\n",
       "      <th>PW190: TRUST IN OTHERS</th>\n",
       "      <th>PW200: SATISFACTION WITH RECREATIONAL OR GREEN AREAS</th>\n",
       "      <th>PW210: SATISFACTION WITH LIVING ENVIRONMENT</th>\n",
       "      <th>PW220: PHYSICAL SECURITY</th>\n",
       "    </tr>\n",
       "  </thead>\n",
       "  <tbody>\n",
       "    <tr>\n",
       "      <td>0</td>\n",
       "      <td>1977</td>\n",
       "      <td>1</td>\n",
       "      <td>2.0</td>\n",
       "      <td>3</td>\n",
       "      <td>0</td>\n",
       "      <td>2</td>\n",
       "      <td>3.0</td>\n",
       "      <td>1.0</td>\n",
       "      <td>2</td>\n",
       "      <td>52.0</td>\n",
       "      <td>...</td>\n",
       "      <td>3.0</td>\n",
       "      <td>6.0</td>\n",
       "      <td>10.0</td>\n",
       "      <td>8.0</td>\n",
       "      <td>2.0</td>\n",
       "      <td>1.0</td>\n",
       "      <td>-1.0</td>\n",
       "      <td>7.0</td>\n",
       "      <td>8.0</td>\n",
       "      <td>-1.0</td>\n",
       "    </tr>\n",
       "    <tr>\n",
       "      <td>1</td>\n",
       "      <td>1936</td>\n",
       "      <td>1</td>\n",
       "      <td>2.0</td>\n",
       "      <td>1</td>\n",
       "      <td>0</td>\n",
       "      <td>2</td>\n",
       "      <td>2.0</td>\n",
       "      <td>7.0</td>\n",
       "      <td>1</td>\n",
       "      <td>62.0</td>\n",
       "      <td>...</td>\n",
       "      <td>7.0</td>\n",
       "      <td>4.0</td>\n",
       "      <td>-1.0</td>\n",
       "      <td>8.0</td>\n",
       "      <td>1.0</td>\n",
       "      <td>1.0</td>\n",
       "      <td>8.0</td>\n",
       "      <td>0.0</td>\n",
       "      <td>6.0</td>\n",
       "      <td>2.0</td>\n",
       "    </tr>\n",
       "    <tr>\n",
       "      <td>2</td>\n",
       "      <td>1952</td>\n",
       "      <td>2</td>\n",
       "      <td>2.0</td>\n",
       "      <td>3</td>\n",
       "      <td>0</td>\n",
       "      <td>1</td>\n",
       "      <td>5.0</td>\n",
       "      <td>11.0</td>\n",
       "      <td>2</td>\n",
       "      <td>23.0</td>\n",
       "      <td>...</td>\n",
       "      <td>3.0</td>\n",
       "      <td>8.0</td>\n",
       "      <td>9.0</td>\n",
       "      <td>10.0</td>\n",
       "      <td>1.0</td>\n",
       "      <td>1.0</td>\n",
       "      <td>-1.0</td>\n",
       "      <td>10.0</td>\n",
       "      <td>6.0</td>\n",
       "      <td>2.0</td>\n",
       "    </tr>\n",
       "    <tr>\n",
       "      <td>3</td>\n",
       "      <td>1938</td>\n",
       "      <td>2</td>\n",
       "      <td>2.0</td>\n",
       "      <td>3</td>\n",
       "      <td>0</td>\n",
       "      <td>2</td>\n",
       "      <td>2.0</td>\n",
       "      <td>7.0</td>\n",
       "      <td>1</td>\n",
       "      <td>51.0</td>\n",
       "      <td>...</td>\n",
       "      <td>5.0</td>\n",
       "      <td>7.0</td>\n",
       "      <td>5.0</td>\n",
       "      <td>8.0</td>\n",
       "      <td>1.0</td>\n",
       "      <td>-1.0</td>\n",
       "      <td>6.0</td>\n",
       "      <td>9.0</td>\n",
       "      <td>5.0</td>\n",
       "      <td>3.0</td>\n",
       "    </tr>\n",
       "    <tr>\n",
       "      <td>4</td>\n",
       "      <td>1950</td>\n",
       "      <td>2</td>\n",
       "      <td>5.0</td>\n",
       "      <td>3</td>\n",
       "      <td>0</td>\n",
       "      <td>2</td>\n",
       "      <td>3.0</td>\n",
       "      <td>1.0</td>\n",
       "      <td>1</td>\n",
       "      <td>44.0</td>\n",
       "      <td>...</td>\n",
       "      <td>0.0</td>\n",
       "      <td>2.0</td>\n",
       "      <td>-1.0</td>\n",
       "      <td>2.0</td>\n",
       "      <td>1.0</td>\n",
       "      <td>-1.0</td>\n",
       "      <td>5.0</td>\n",
       "      <td>2.0</td>\n",
       "      <td>10.0</td>\n",
       "      <td>1.0</td>\n",
       "    </tr>\n",
       "  </tbody>\n",
       "</table>\n",
       "<p>5 rows × 46 columns</p>\n",
       "</div>"
      ],
      "text/plain": [
       "   PB140: YEAR OF BIRTH  PB150: SEX  PB190: MARITAL STATUS  \\\n",
       "0                  1977           1                    2.0   \n",
       "1                  1936           1                    2.0   \n",
       "2                  1952           2                    2.0   \n",
       "3                  1938           2                    2.0   \n",
       "4                  1950           2                    5.0   \n",
       "\n",
       "   PB200: CONSENSUAL UNION  PB220A: CITIZENSHIP  \\\n",
       "0                        3                    0   \n",
       "1                        1                    0   \n",
       "2                        3                    0   \n",
       "3                        3                    0   \n",
       "4                        3                    0   \n",
       "\n",
       "   PE010: CURRENT EDUCATION ACTIVITY  PE040: HIGHEST ISCED LEVEL ATTAINED  \\\n",
       "0                                  2                                  3.0   \n",
       "1                                  2                                  2.0   \n",
       "2                                  1                                  5.0   \n",
       "3                                  2                                  2.0   \n",
       "4                                  2                                  3.0   \n",
       "\n",
       "   PL031: SELF-DEFINED CURRENT ECONOMIC STATUS  \\\n",
       "0                                          1.0   \n",
       "1                                          7.0   \n",
       "2                                         11.0   \n",
       "3                                          7.0   \n",
       "4                                          1.0   \n",
       "\n",
       "   PL035: WORKED AT LEAST 1 HOUR DURING THE PREVIOUS WEEK  \\\n",
       "0                                                  2        \n",
       "1                                                  1        \n",
       "2                                                  2        \n",
       "3                                                  1        \n",
       "4                                                  1        \n",
       "\n",
       "   PL051: OCCUPATION (ISCO-08 (COM))  ...  \\\n",
       "0                               52.0  ...   \n",
       "1                               62.0  ...   \n",
       "2                               23.0  ...   \n",
       "3                               51.0  ...   \n",
       "4                               44.0  ...   \n",
       "\n",
       "   PW130: TRUST IN THE POLITICAL SYSTEM  PW140: TRUST IN THE LEGAL SYSTEM  \\\n",
       "0                                   3.0                               6.0   \n",
       "1                                   7.0                               4.0   \n",
       "2                                   3.0                               8.0   \n",
       "3                                   5.0                               7.0   \n",
       "4                                   0.0                               2.0   \n",
       "\n",
       "   PW150: TRUST IN THE POLICE  \\\n",
       "0                        10.0   \n",
       "1                        -1.0   \n",
       "2                         9.0   \n",
       "3                         5.0   \n",
       "4                        -1.0   \n",
       "\n",
       "   PW160: SATISFACTION WITH PERSONAL RELATIONSHIPS  \\\n",
       "0                                              8.0   \n",
       "1                                              8.0   \n",
       "2                                             10.0   \n",
       "3                                              8.0   \n",
       "4                                              2.0   \n",
       "\n",
       "   PW170: PERSONAL MATTERS (ANYONE TO DISCUSS WITH)  PW180: HELP FROM OTHERS  \\\n",
       "0                                               2.0                      1.0   \n",
       "1                                               1.0                      1.0   \n",
       "2                                               1.0                      1.0   \n",
       "3                                               1.0                     -1.0   \n",
       "4                                               1.0                     -1.0   \n",
       "\n",
       "   PW190: TRUST IN OTHERS  \\\n",
       "0                    -1.0   \n",
       "1                     8.0   \n",
       "2                    -1.0   \n",
       "3                     6.0   \n",
       "4                     5.0   \n",
       "\n",
       "   PW200: SATISFACTION WITH RECREATIONAL OR GREEN AREAS  \\\n",
       "0                                                7.0      \n",
       "1                                                0.0      \n",
       "2                                               10.0      \n",
       "3                                                9.0      \n",
       "4                                                2.0      \n",
       "\n",
       "   PW210: SATISFACTION WITH LIVING ENVIRONMENT  PW220: PHYSICAL SECURITY  \n",
       "0                                          8.0                      -1.0  \n",
       "1                                          6.0                       2.0  \n",
       "2                                          6.0                       2.0  \n",
       "3                                          5.0                       3.0  \n",
       "4                                         10.0                       1.0  \n",
       "\n",
       "[5 rows x 46 columns]"
      ]
     },
     "execution_count": 158,
     "metadata": {},
     "output_type": "execute_result"
    }
   ],
   "source": [
    "data[columns].head()"
   ]
  },
  {
   "cell_type": "code",
   "execution_count": 161,
   "metadata": {},
   "outputs": [],
   "source": [
    "XCol=list(columns)\n",
    "YCol=outcomelist\n",
    "XCol.remove(outcomelist)\n",
    "\n",
    "\n",
    "X = data[XCol]\n",
    "y= data[YCol]"
   ]
  },
  {
   "cell_type": "code",
   "execution_count": 162,
   "metadata": {},
   "outputs": [
    {
     "data": {
      "text/html": [
       "<div>\n",
       "<style scoped>\n",
       "    .dataframe tbody tr th:only-of-type {\n",
       "        vertical-align: middle;\n",
       "    }\n",
       "\n",
       "    .dataframe tbody tr th {\n",
       "        vertical-align: top;\n",
       "    }\n",
       "\n",
       "    .dataframe thead th {\n",
       "        text-align: right;\n",
       "    }\n",
       "</style>\n",
       "<table border=\"1\" class=\"dataframe\">\n",
       "  <thead>\n",
       "    <tr style=\"text-align: right;\">\n",
       "      <th></th>\n",
       "      <th>PB140: YEAR OF BIRTH</th>\n",
       "      <th>PB150: SEX</th>\n",
       "      <th>PB190: MARITAL STATUS</th>\n",
       "      <th>PB200: CONSENSUAL UNION</th>\n",
       "      <th>PB220A: CITIZENSHIP</th>\n",
       "      <th>PE010: CURRENT EDUCATION ACTIVITY</th>\n",
       "      <th>PE040: HIGHEST ISCED LEVEL ATTAINED</th>\n",
       "      <th>PL031: SELF-DEFINED CURRENT ECONOMIC STATUS</th>\n",
       "      <th>PL035: WORKED AT LEAST 1 HOUR DURING THE PREVIOUS WEEK</th>\n",
       "      <th>PL051: OCCUPATION (ISCO-08 (COM))</th>\n",
       "      <th>...</th>\n",
       "      <th>PW130: TRUST IN THE POLITICAL SYSTEM</th>\n",
       "      <th>PW140: TRUST IN THE LEGAL SYSTEM</th>\n",
       "      <th>PW150: TRUST IN THE POLICE</th>\n",
       "      <th>PW160: SATISFACTION WITH PERSONAL RELATIONSHIPS</th>\n",
       "      <th>PW170: PERSONAL MATTERS (ANYONE TO DISCUSS WITH)</th>\n",
       "      <th>PW180: HELP FROM OTHERS</th>\n",
       "      <th>PW190: TRUST IN OTHERS</th>\n",
       "      <th>PW200: SATISFACTION WITH RECREATIONAL OR GREEN AREAS</th>\n",
       "      <th>PW210: SATISFACTION WITH LIVING ENVIRONMENT</th>\n",
       "      <th>PW220: PHYSICAL SECURITY</th>\n",
       "    </tr>\n",
       "  </thead>\n",
       "  <tbody>\n",
       "    <tr>\n",
       "      <td>0</td>\n",
       "      <td>1977</td>\n",
       "      <td>1</td>\n",
       "      <td>2.0</td>\n",
       "      <td>3</td>\n",
       "      <td>0</td>\n",
       "      <td>2</td>\n",
       "      <td>3.0</td>\n",
       "      <td>1.0</td>\n",
       "      <td>2</td>\n",
       "      <td>52.0</td>\n",
       "      <td>...</td>\n",
       "      <td>3.0</td>\n",
       "      <td>6.0</td>\n",
       "      <td>10.0</td>\n",
       "      <td>8.0</td>\n",
       "      <td>2.0</td>\n",
       "      <td>1.0</td>\n",
       "      <td>-1.0</td>\n",
       "      <td>7.0</td>\n",
       "      <td>8.0</td>\n",
       "      <td>-1.0</td>\n",
       "    </tr>\n",
       "    <tr>\n",
       "      <td>1</td>\n",
       "      <td>1936</td>\n",
       "      <td>1</td>\n",
       "      <td>2.0</td>\n",
       "      <td>1</td>\n",
       "      <td>0</td>\n",
       "      <td>2</td>\n",
       "      <td>2.0</td>\n",
       "      <td>7.0</td>\n",
       "      <td>1</td>\n",
       "      <td>62.0</td>\n",
       "      <td>...</td>\n",
       "      <td>7.0</td>\n",
       "      <td>4.0</td>\n",
       "      <td>-1.0</td>\n",
       "      <td>8.0</td>\n",
       "      <td>1.0</td>\n",
       "      <td>1.0</td>\n",
       "      <td>8.0</td>\n",
       "      <td>0.0</td>\n",
       "      <td>6.0</td>\n",
       "      <td>2.0</td>\n",
       "    </tr>\n",
       "    <tr>\n",
       "      <td>2</td>\n",
       "      <td>1952</td>\n",
       "      <td>2</td>\n",
       "      <td>2.0</td>\n",
       "      <td>3</td>\n",
       "      <td>0</td>\n",
       "      <td>1</td>\n",
       "      <td>5.0</td>\n",
       "      <td>11.0</td>\n",
       "      <td>2</td>\n",
       "      <td>23.0</td>\n",
       "      <td>...</td>\n",
       "      <td>3.0</td>\n",
       "      <td>8.0</td>\n",
       "      <td>9.0</td>\n",
       "      <td>10.0</td>\n",
       "      <td>1.0</td>\n",
       "      <td>1.0</td>\n",
       "      <td>-1.0</td>\n",
       "      <td>10.0</td>\n",
       "      <td>6.0</td>\n",
       "      <td>2.0</td>\n",
       "    </tr>\n",
       "    <tr>\n",
       "      <td>3</td>\n",
       "      <td>1938</td>\n",
       "      <td>2</td>\n",
       "      <td>2.0</td>\n",
       "      <td>3</td>\n",
       "      <td>0</td>\n",
       "      <td>2</td>\n",
       "      <td>2.0</td>\n",
       "      <td>7.0</td>\n",
       "      <td>1</td>\n",
       "      <td>51.0</td>\n",
       "      <td>...</td>\n",
       "      <td>5.0</td>\n",
       "      <td>7.0</td>\n",
       "      <td>5.0</td>\n",
       "      <td>8.0</td>\n",
       "      <td>1.0</td>\n",
       "      <td>-1.0</td>\n",
       "      <td>6.0</td>\n",
       "      <td>9.0</td>\n",
       "      <td>5.0</td>\n",
       "      <td>3.0</td>\n",
       "    </tr>\n",
       "    <tr>\n",
       "      <td>4</td>\n",
       "      <td>1950</td>\n",
       "      <td>2</td>\n",
       "      <td>5.0</td>\n",
       "      <td>3</td>\n",
       "      <td>0</td>\n",
       "      <td>2</td>\n",
       "      <td>3.0</td>\n",
       "      <td>1.0</td>\n",
       "      <td>1</td>\n",
       "      <td>44.0</td>\n",
       "      <td>...</td>\n",
       "      <td>0.0</td>\n",
       "      <td>2.0</td>\n",
       "      <td>-1.0</td>\n",
       "      <td>2.0</td>\n",
       "      <td>1.0</td>\n",
       "      <td>-1.0</td>\n",
       "      <td>5.0</td>\n",
       "      <td>2.0</td>\n",
       "      <td>10.0</td>\n",
       "      <td>1.0</td>\n",
       "    </tr>\n",
       "  </tbody>\n",
       "</table>\n",
       "<p>5 rows × 45 columns</p>\n",
       "</div>"
      ],
      "text/plain": [
       "   PB140: YEAR OF BIRTH  PB150: SEX  PB190: MARITAL STATUS  \\\n",
       "0                  1977           1                    2.0   \n",
       "1                  1936           1                    2.0   \n",
       "2                  1952           2                    2.0   \n",
       "3                  1938           2                    2.0   \n",
       "4                  1950           2                    5.0   \n",
       "\n",
       "   PB200: CONSENSUAL UNION  PB220A: CITIZENSHIP  \\\n",
       "0                        3                    0   \n",
       "1                        1                    0   \n",
       "2                        3                    0   \n",
       "3                        3                    0   \n",
       "4                        3                    0   \n",
       "\n",
       "   PE010: CURRENT EDUCATION ACTIVITY  PE040: HIGHEST ISCED LEVEL ATTAINED  \\\n",
       "0                                  2                                  3.0   \n",
       "1                                  2                                  2.0   \n",
       "2                                  1                                  5.0   \n",
       "3                                  2                                  2.0   \n",
       "4                                  2                                  3.0   \n",
       "\n",
       "   PL031: SELF-DEFINED CURRENT ECONOMIC STATUS  \\\n",
       "0                                          1.0   \n",
       "1                                          7.0   \n",
       "2                                         11.0   \n",
       "3                                          7.0   \n",
       "4                                          1.0   \n",
       "\n",
       "   PL035: WORKED AT LEAST 1 HOUR DURING THE PREVIOUS WEEK  \\\n",
       "0                                                  2        \n",
       "1                                                  1        \n",
       "2                                                  2        \n",
       "3                                                  1        \n",
       "4                                                  1        \n",
       "\n",
       "   PL051: OCCUPATION (ISCO-08 (COM))  ...  \\\n",
       "0                               52.0  ...   \n",
       "1                               62.0  ...   \n",
       "2                               23.0  ...   \n",
       "3                               51.0  ...   \n",
       "4                               44.0  ...   \n",
       "\n",
       "   PW130: TRUST IN THE POLITICAL SYSTEM  PW140: TRUST IN THE LEGAL SYSTEM  \\\n",
       "0                                   3.0                               6.0   \n",
       "1                                   7.0                               4.0   \n",
       "2                                   3.0                               8.0   \n",
       "3                                   5.0                               7.0   \n",
       "4                                   0.0                               2.0   \n",
       "\n",
       "   PW150: TRUST IN THE POLICE  \\\n",
       "0                        10.0   \n",
       "1                        -1.0   \n",
       "2                         9.0   \n",
       "3                         5.0   \n",
       "4                        -1.0   \n",
       "\n",
       "   PW160: SATISFACTION WITH PERSONAL RELATIONSHIPS  \\\n",
       "0                                              8.0   \n",
       "1                                              8.0   \n",
       "2                                             10.0   \n",
       "3                                              8.0   \n",
       "4                                              2.0   \n",
       "\n",
       "   PW170: PERSONAL MATTERS (ANYONE TO DISCUSS WITH)  PW180: HELP FROM OTHERS  \\\n",
       "0                                               2.0                      1.0   \n",
       "1                                               1.0                      1.0   \n",
       "2                                               1.0                      1.0   \n",
       "3                                               1.0                     -1.0   \n",
       "4                                               1.0                     -1.0   \n",
       "\n",
       "   PW190: TRUST IN OTHERS  \\\n",
       "0                    -1.0   \n",
       "1                     8.0   \n",
       "2                    -1.0   \n",
       "3                     6.0   \n",
       "4                     5.0   \n",
       "\n",
       "   PW200: SATISFACTION WITH RECREATIONAL OR GREEN AREAS  \\\n",
       "0                                                7.0      \n",
       "1                                                0.0      \n",
       "2                                               10.0      \n",
       "3                                                9.0      \n",
       "4                                                2.0      \n",
       "\n",
       "   PW210: SATISFACTION WITH LIVING ENVIRONMENT  PW220: PHYSICAL SECURITY  \n",
       "0                                          8.0                      -1.0  \n",
       "1                                          6.0                       2.0  \n",
       "2                                          6.0                       2.0  \n",
       "3                                          5.0                       3.0  \n",
       "4                                         10.0                       1.0  \n",
       "\n",
       "[5 rows x 45 columns]"
      ]
     },
     "execution_count": 162,
     "metadata": {},
     "output_type": "execute_result"
    }
   ],
   "source": [
    "X.head()"
   ]
  },
  {
   "cell_type": "code",
   "execution_count": 163,
   "metadata": {},
   "outputs": [],
   "source": [
    "data['Y_class']= data[YCol].apply(lambda x: 1 if x>=8 else 0)"
   ]
  },
  {
   "cell_type": "code",
   "execution_count": 186,
   "metadata": {},
   "outputs": [
    {
     "data": {
      "image/png": "[encoded data removed]",
      "text/plain": [
       "<Figure size 432x288 with 1 Axes>"
      ]
     },
     "metadata": {
      "needs_background": "light"
     },
     "output_type": "display_data"
    }
   ],
   "source": [
    "data['Y_class'].hist()\n",
    "data['Y_class'].value_counts()\n",
    "y=data['Y_class']\n",
    "## --> balanced more or less"
   ]
  },
  {
   "cell_type": "code",
   "execution_count": 187,
   "metadata": {},
   "outputs": [
    {
     "name": "stdout",
     "output_type": "stream",
     "text": [
      "54\n",
      "Y_class\n"
     ]
    }
   ],
   "source": [
    "print(len(XCol))\n",
    "print(YCol)"
   ]
  },
  {
   "cell_type": "code",
   "execution_count": 191,
   "metadata": {},
   "outputs": [
    {
     "data": {
      "text/plain": [
       "0        1\n",
       "1        0\n",
       "2        0\n",
       "3        0\n",
       "4        1\n",
       "        ..\n",
       "22037    0\n",
       "22038    1\n",
       "22039    1\n",
       "22040    0\n",
       "22041    1\n",
       "Name: Y_class, Length: 15732, dtype: int64"
      ]
     },
     "execution_count": 191,
     "metadata": {},
     "output_type": "execute_result"
    }
   ],
   "source": [
    "X_train, X_test, y_train, y_test = train_test_split(X, y, test_size=0.3)\n",
    "X_train.shape\n",
    "X_test.shape\n"
   ]
  },
  {
   "cell_type": "markdown",
   "metadata": {},
   "source": [
    "#### a) Logistic Regression"
   ]
  },
  {
   "cell_type": "code",
   "execution_count": 192,
   "metadata": {},
   "outputs": [
    {
     "name": "stderr",
     "output_type": "stream",
     "text": [
      "C:\\Users\\haenni\\AppData\\Local\\Continuum\\anaconda3\\lib\\site-packages\\sklearn\\linear_model\\logistic.py:432: FutureWarning: Default solver will be changed to 'lbfgs' in 0.22. Specify a solver to silence this warning.\n",
      "  FutureWarning)\n"
     ]
    }
   ],
   "source": [
    "lr = LogisticRegression()\n",
    "lr.fit(X_train,y_train)\n",
    "\n",
    "\n",
    "y_pred=lr.predict(X_test)"
   ]
  },
  {
   "cell_type": "code",
   "execution_count": 193,
   "metadata": {},
   "outputs": [
    {
     "data": {
      "text/plain": [
       "0.511864406779661"
      ]
     },
     "execution_count": 193,
     "metadata": {},
     "output_type": "execute_result"
    }
   ],
   "source": [
    "acc = lr.score(X_test,y_test)\n",
    "acc"
   ]
  },
  {
   "cell_type": "code",
   "execution_count": 194,
   "metadata": {},
   "outputs": [
    {
     "name": "stdout",
     "output_type": "stream",
     "text": [
      "accuracy: 51.19\n",
      "precision: 51.52\n"
     ]
    },
    {
     "data": {
      "text/plain": [
       "array([[2208,  226],\n",
       "       [2078,  208]], dtype=int64)"
      ]
     },
     "execution_count": 194,
     "metadata": {},
     "output_type": "execute_result"
    }
   ],
   "source": [
    "conf=confusion_matrix(y_test, y_pred)\n",
    "\n",
    "print( \"accuracy: \"  + str(round((conf[1,1]+conf[0,0])/ conf.sum()*100,2)))\n",
    "print( \"precision: \" +str(round((conf[0,0])/ (conf[1,0]+conf[0,0])*100,2)))\n",
    "\n",
    "conf\n",
    "\n",
    "#tn,fp,fn,tp = confusion_matrix(y_test, y_pred).flatten()\n",
    "### it predicts all as 1..."
   ]
  },
  {
   "cell_type": "markdown",
   "metadata": {},
   "source": [
    "#### b) DecisionTree Classify"
   ]
  },
  {
   "cell_type": "code",
   "execution_count": 195,
   "metadata": {},
   "outputs": [],
   "source": [
    "dtc = DecisionTreeClassifier()\n",
    "dtc.fit(X_train, y_train)\n",
    "y_pred = dtc.predict(X_test)"
   ]
  },
  {
   "cell_type": "code",
   "execution_count": 196,
   "metadata": {},
   "outputs": [
    {
     "name": "stdout",
     "output_type": "stream",
     "text": [
      "Decision Tree Test Accuracy 50.06%\n"
     ]
    }
   ],
   "source": [
    "acc = dtc.score(X_test, y_test)*100\n",
    "print(f\"Decision Tree Test Accuracy {round(acc, 2)}%\")"
   ]
  },
  {
   "cell_type": "code",
   "execution_count": 197,
   "metadata": {},
   "outputs": [
    {
     "name": "stdout",
     "output_type": "stream",
     "text": [
      "accuracy: 50.06\n",
      "precision: 51.49\n"
     ]
    },
    {
     "data": {
      "text/plain": [
       "array([[1330, 1104],\n",
       "       [1253, 1033]], dtype=int64)"
      ]
     },
     "execution_count": 197,
     "metadata": {},
     "output_type": "execute_result"
    }
   ],
   "source": [
    "conf=confusion_matrix(y_test, y_pred)\n",
    "\n",
    "print( \"accuracy: \"  + str(round((conf[1,1]+conf[0,0])/ conf.sum()*100,2)))\n",
    "print( \"precision: \" +str(round((conf[0,0])/ (conf[1,0]+conf[0,0])*100,2)))\n",
    "\n",
    "conf"
   ]
  },
  {
   "cell_type": "code",
   "execution_count": 198,
   "metadata": {},
   "outputs": [],
   "source": [
    "## overfitting!!!"
   ]
  },
  {
   "cell_type": "code",
   "execution_count": null,
   "metadata": {},
   "outputs": [],
   "source": []
  },
  {
   "cell_type": "markdown",
   "metadata": {},
   "source": [
    "#### c) Support Vector Maschine"
   ]
  },
  {
   "cell_type": "code",
   "execution_count": 199,
   "metadata": {},
   "outputs": [
    {
     "name": "stderr",
     "output_type": "stream",
     "text": [
      "C:\\Users\\haenni\\AppData\\Local\\Continuum\\anaconda3\\lib\\site-packages\\sklearn\\svm\\base.py:193: FutureWarning: The default value of gamma will change from 'auto' to 'scale' in version 0.22 to account better for unscaled features. Set gamma explicitly to 'auto' or 'scale' to avoid this warning.\n",
      "  \"avoid this warning.\", FutureWarning)\n"
     ]
    }
   ],
   "source": [
    "svm = SVC()\n",
    "svm.fit(X_train, y_train)\n",
    "y_pred = svm.predict(X_test)"
   ]
  },
  {
   "cell_type": "code",
   "execution_count": 200,
   "metadata": {},
   "outputs": [
    {
     "name": "stdout",
     "output_type": "stream",
     "text": [
      "SVM Algorithm Test Accuracy 51.59%\n"
     ]
    }
   ],
   "source": [
    "acc = svm.score(X_test,y_test)*100\n",
    "print(f\"SVM Algorithm Test Accuracy {round(acc, 2)}%\")"
   ]
  },
  {
   "cell_type": "code",
   "execution_count": 201,
   "metadata": {},
   "outputs": [
    {
     "name": "stdout",
     "output_type": "stream",
     "text": [
      "accuracy: 51.59\n",
      "precision: 51.58\n"
     ]
    }
   ],
   "source": [
    "conf=confusion_matrix(y_test, y_pred)\n",
    "\n",
    "print( \"accuracy: \"  + str(round((conf[1,1]+conf[0,0])/ conf.sum()*100,2)))\n",
    "print( \"precision: \" +str(round((conf[0,0])/ (conf[1,0]+conf[0,0])*100,2)))"
   ]
  },
  {
   "cell_type": "code",
   "execution_count": null,
   "metadata": {},
   "outputs": [],
   "source": []
  },
  {
   "cell_type": "markdown",
   "metadata": {},
   "source": [
    "#### d) K-Nearest Neighbour"
   ]
  },
  {
   "cell_type": "code",
   "execution_count": 202,
   "metadata": {},
   "outputs": [],
   "source": [
    "knn = KNeighborsClassifier(n_neighbors = 2)  # n_neighbors means k\n",
    "knn.fit(X_train, y_train)\n",
    "y_pred = knn.predict(X_test)"
   ]
  },
  {
   "cell_type": "code",
   "execution_count": 203,
   "metadata": {},
   "outputs": [
    {
     "data": {
      "text/plain": [
       "50.12711864406779"
      ]
     },
     "execution_count": 203,
     "metadata": {},
     "output_type": "execute_result"
    }
   ],
   "source": [
    "acc = knn.score(X_test, y_test)*100\n",
    "acc"
   ]
  },
  {
   "cell_type": "code",
   "execution_count": 205,
   "metadata": {},
   "outputs": [
    {
     "name": "stdout",
     "output_type": "stream",
     "text": [
      "accuracy: 50.13\n",
      "precision: 51.08\n"
     ]
    }
   ],
   "source": [
    "conf=confusion_matrix(y_test, y_pred)\n",
    "conf\n",
    "print( \"accuracy: \"  + str(round((conf[1,1]+conf[0,0])/ conf.sum()*100,2)))\n",
    "print( \"precision: \" +str(round((conf[0,0])/ (conf[1,0]+conf[0,0])*100,2)))\n"
   ]
  },
  {
   "cell_type": "code",
   "execution_count": null,
   "metadata": {},
   "outputs": [],
   "source": []
  },
  {
   "cell_type": "code",
   "execution_count": null,
   "metadata": {},
   "outputs": [],
   "source": []
  }
 ],
 "metadata": {
  "kernelspec": {
   "display_name": "Python 3",
   "language": "python",
   "name": "python3"
  },
  "language_info": {
   "codemirror_mode": {
    "name": "ipython",
    "version": 3
   },
   "file_extension": ".py",
   "mimetype": "text/x-python",
   "name": "python",
   "nbconvert_exporter": "python",
   "pygments_lexer": "ipython3",
   "version": "3.7.4"
  }
 },
 "nbformat": 4,
 "nbformat_minor": 2
}
