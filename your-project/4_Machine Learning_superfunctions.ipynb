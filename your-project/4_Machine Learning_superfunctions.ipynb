{
 "cells": [
  {
   "cell_type": "markdown",
   "metadata": {},
   "source": [
    "# Machine Learning Models"
   ]
  },
  {
   "cell_type": "code",
   "execution_count": 57,
   "metadata": {},
   "outputs": [],
   "source": [
    "import numpy as np\n",
    "import pandas as pd\n",
    "import matplotlib.pyplot as plt\n",
    "import seaborn as sns\n",
    "\n",
    "from pandas_profiling import ProfileReport"
   ]
  },
  {
   "cell_type": "code",
   "execution_count": 58,
   "metadata": {},
   "outputs": [],
   "source": [
    "## classification ml:\n",
    "from sklearn.linear_model import LogisticRegression\n",
    "from sklearn.model_selection import train_test_split\n",
    "from sklearn.metrics import accuracy_score\n",
    "from sklearn.tree import DecisionTreeClassifier\n",
    "from sklearn.svm import SVC\n",
    "from sklearn.neighbors import KNeighborsClassifier\n",
    "from sklearn.metrics import confusion_matrix"
   ]
  },
  {
   "cell_type": "code",
   "execution_count": 59,
   "metadata": {},
   "outputs": [],
   "source": [
    "## regression ml\n",
    "from sklearn.linear_model import LinearRegression\n",
    "from sklearn.datasets import load_boston\n",
    "from sklearn.preprocessing import PolynomialFeatures, StandardScaler\n",
    "from sklearn.preprocessing import MinMaxScaler\n",
    "from sklearn.preprocessing import Normalizer\n",
    "from sklearn.model_selection import train_test_split\n",
    "from sklearn.pipeline import make_pipeline\n",
    "from sklearn.tree import DecisionTreeRegressor\n",
    "from sklearn.tree.export import export_text\n",
    "from sklearn.neighbors import KNeighborsRegressor"
   ]
  },
  {
   "cell_type": "code",
   "execution_count": 60,
   "metadata": {},
   "outputs": [],
   "source": [
    "### evaluation\n",
    "from sklearn.metrics import mean_absolute_error\n",
    "from sklearn.metrics import mean_squared_error\n",
    "from sklearn.metrics import r2_score"
   ]
  },
  {
   "cell_type": "code",
   "execution_count": 61,
   "metadata": {},
   "outputs": [],
   "source": [
    "### optimize model\n",
    "from sklearn.feature_selection import RFE\n",
    "from sklearn.decomposition import PCA, FastICA"
   ]
  },
  {
   "cell_type": "code",
   "execution_count": 62,
   "metadata": {},
   "outputs": [],
   "source": [
    "ds = pd.read_csv('./data/datamax_cleaned.csv', index_col=0)"
   ]
  },
  {
   "cell_type": "code",
   "execution_count": 63,
   "metadata": {},
   "outputs": [
    {
     "data": {
      "text/html": [
       "<div>\n",
       "<style scoped>\n",
       "    .dataframe tbody tr th:only-of-type {\n",
       "        vertical-align: middle;\n",
       "    }\n",
       "\n",
       "    .dataframe tbody tr th {\n",
       "        vertical-align: top;\n",
       "    }\n",
       "\n",
       "    .dataframe thead th {\n",
       "        text-align: right;\n",
       "    }\n",
       "</style>\n",
       "<table border=\"1\" class=\"dataframe\">\n",
       "  <thead>\n",
       "    <tr style=\"text-align: right;\">\n",
       "      <th></th>\n",
       "      <th>PB140: YEAR OF BIRTH</th>\n",
       "      <th>PB150: SEX</th>\n",
       "      <th>PB190: MARITAL STATUS</th>\n",
       "      <th>PB200: CONSENSUAL UNION</th>\n",
       "      <th>PB220A: CITIZENSHIP</th>\n",
       "      <th>PE010: CURRENT EDUCATION ACTIVITY</th>\n",
       "      <th>PE040: HIGHEST ISCED LEVEL ATTAINED</th>\n",
       "      <th>PL031: SELF-DEFINED CURRENT ECONOMIC STATUS</th>\n",
       "      <th>PL035: WORKED AT LEAST 1 HOUR DURING THE PREVIOUS WEEK</th>\n",
       "      <th>PL051: OCCUPATION (ISCO-08 (COM))</th>\n",
       "      <th>...</th>\n",
       "      <th>PW130: TRUST IN THE POLITICAL SYSTEM.1</th>\n",
       "      <th>PW140: TRUST IN THE LEGAL SYSTEM</th>\n",
       "      <th>PW150: TRUST IN THE POLICE</th>\n",
       "      <th>PW160: SATISFACTION WITH PERSONAL RELATIONSHIPS</th>\n",
       "      <th>PW170: PERSONAL MATTERS (ANYONE TO DISCUSS WITH)</th>\n",
       "      <th>PW180: HELP FROM OTHERS</th>\n",
       "      <th>PW190: TRUST IN OTHERS</th>\n",
       "      <th>PW200: SATISFACTION WITH RECREATIONAL OR GREEN AREAS</th>\n",
       "      <th>PW210: SATISFACTION WITH LIVING ENVIRONMENT</th>\n",
       "      <th>PW220: PHYSICAL SECURITY</th>\n",
       "    </tr>\n",
       "  </thead>\n",
       "  <tbody>\n",
       "    <tr>\n",
       "      <td>54</td>\n",
       "      <td>50</td>\n",
       "      <td>1</td>\n",
       "      <td>1.0</td>\n",
       "      <td>3</td>\n",
       "      <td>0</td>\n",
       "      <td>2</td>\n",
       "      <td>5.0</td>\n",
       "      <td>1.0</td>\n",
       "      <td>1</td>\n",
       "      <td>43.0</td>\n",
       "      <td>...</td>\n",
       "      <td>2.0</td>\n",
       "      <td>4.0</td>\n",
       "      <td>10.0</td>\n",
       "      <td>7.0</td>\n",
       "      <td>1.0</td>\n",
       "      <td>1.0</td>\n",
       "      <td>7.0</td>\n",
       "      <td>10.0</td>\n",
       "      <td>7.0</td>\n",
       "      <td>3.0</td>\n",
       "    </tr>\n",
       "    <tr>\n",
       "      <td>68</td>\n",
       "      <td>36</td>\n",
       "      <td>1</td>\n",
       "      <td>2.0</td>\n",
       "      <td>1</td>\n",
       "      <td>0</td>\n",
       "      <td>2</td>\n",
       "      <td>3.0</td>\n",
       "      <td>1.0</td>\n",
       "      <td>1</td>\n",
       "      <td>43.0</td>\n",
       "      <td>...</td>\n",
       "      <td>9.0</td>\n",
       "      <td>6.0</td>\n",
       "      <td>9.0</td>\n",
       "      <td>3.0</td>\n",
       "      <td>9.0</td>\n",
       "      <td>1.0</td>\n",
       "      <td>7.0</td>\n",
       "      <td>10.0</td>\n",
       "      <td>10.0</td>\n",
       "      <td>2.0</td>\n",
       "    </tr>\n",
       "    <tr>\n",
       "      <td>97</td>\n",
       "      <td>37</td>\n",
       "      <td>0</td>\n",
       "      <td>1.0</td>\n",
       "      <td>1</td>\n",
       "      <td>0</td>\n",
       "      <td>2</td>\n",
       "      <td>3.0</td>\n",
       "      <td>1.0</td>\n",
       "      <td>1</td>\n",
       "      <td>32.0</td>\n",
       "      <td>...</td>\n",
       "      <td>2.0</td>\n",
       "      <td>99.0</td>\n",
       "      <td>8.0</td>\n",
       "      <td>8.0</td>\n",
       "      <td>9.0</td>\n",
       "      <td>1.0</td>\n",
       "      <td>4.0</td>\n",
       "      <td>0.0</td>\n",
       "      <td>9.0</td>\n",
       "      <td>2.0</td>\n",
       "    </tr>\n",
       "    <tr>\n",
       "      <td>100</td>\n",
       "      <td>47</td>\n",
       "      <td>1</td>\n",
       "      <td>2.0</td>\n",
       "      <td>1</td>\n",
       "      <td>1</td>\n",
       "      <td>2</td>\n",
       "      <td>4.0</td>\n",
       "      <td>1.0</td>\n",
       "      <td>1</td>\n",
       "      <td>32.0</td>\n",
       "      <td>...</td>\n",
       "      <td>2.0</td>\n",
       "      <td>2.0</td>\n",
       "      <td>5.0</td>\n",
       "      <td>8.0</td>\n",
       "      <td>1.0</td>\n",
       "      <td>1.0</td>\n",
       "      <td>2.0</td>\n",
       "      <td>8.0</td>\n",
       "      <td>9.0</td>\n",
       "      <td>2.0</td>\n",
       "    </tr>\n",
       "    <tr>\n",
       "      <td>141</td>\n",
       "      <td>84</td>\n",
       "      <td>1</td>\n",
       "      <td>2.0</td>\n",
       "      <td>2</td>\n",
       "      <td>0</td>\n",
       "      <td>2</td>\n",
       "      <td>3.0</td>\n",
       "      <td>7.0</td>\n",
       "      <td>2</td>\n",
       "      <td>72.0</td>\n",
       "      <td>...</td>\n",
       "      <td>4.0</td>\n",
       "      <td>9.0</td>\n",
       "      <td>8.0</td>\n",
       "      <td>99.0</td>\n",
       "      <td>1.0</td>\n",
       "      <td>1.0</td>\n",
       "      <td>1.0</td>\n",
       "      <td>6.0</td>\n",
       "      <td>8.0</td>\n",
       "      <td>2.0</td>\n",
       "    </tr>\n",
       "  </tbody>\n",
       "</table>\n",
       "<p>5 rows × 40 columns</p>\n",
       "</div>"
      ],
      "text/plain": [
       "     PB140: YEAR OF BIRTH  PB150: SEX  PB190: MARITAL STATUS  \\\n",
       "54                     50           1                    1.0   \n",
       "68                     36           1                    2.0   \n",
       "97                     37           0                    1.0   \n",
       "100                    47           1                    2.0   \n",
       "141                    84           1                    2.0   \n",
       "\n",
       "     PB200: CONSENSUAL UNION  PB220A: CITIZENSHIP  \\\n",
       "54                         3                    0   \n",
       "68                         1                    0   \n",
       "97                         1                    0   \n",
       "100                        1                    1   \n",
       "141                        2                    0   \n",
       "\n",
       "     PE010: CURRENT EDUCATION ACTIVITY  PE040: HIGHEST ISCED LEVEL ATTAINED  \\\n",
       "54                                   2                                  5.0   \n",
       "68                                   2                                  3.0   \n",
       "97                                   2                                  3.0   \n",
       "100                                  2                                  4.0   \n",
       "141                                  2                                  3.0   \n",
       "\n",
       "     PL031: SELF-DEFINED CURRENT ECONOMIC STATUS  \\\n",
       "54                                           1.0   \n",
       "68                                           1.0   \n",
       "97                                           1.0   \n",
       "100                                          1.0   \n",
       "141                                          7.0   \n",
       "\n",
       "     PL035: WORKED AT LEAST 1 HOUR DURING THE PREVIOUS WEEK  \\\n",
       "54                                                   1        \n",
       "68                                                   1        \n",
       "97                                                   1        \n",
       "100                                                  1        \n",
       "141                                                  2        \n",
       "\n",
       "     PL051: OCCUPATION (ISCO-08 (COM))  ...  \\\n",
       "54                                43.0  ...   \n",
       "68                                43.0  ...   \n",
       "97                                32.0  ...   \n",
       "100                               32.0  ...   \n",
       "141                               72.0  ...   \n",
       "\n",
       "     PW130: TRUST IN THE POLITICAL SYSTEM.1  PW140: TRUST IN THE LEGAL SYSTEM  \\\n",
       "54                                      2.0                               4.0   \n",
       "68                                      9.0                               6.0   \n",
       "97                                      2.0                              99.0   \n",
       "100                                     2.0                               2.0   \n",
       "141                                     4.0                               9.0   \n",
       "\n",
       "     PW150: TRUST IN THE POLICE  \\\n",
       "54                         10.0   \n",
       "68                          9.0   \n",
       "97                          8.0   \n",
       "100                         5.0   \n",
       "141                         8.0   \n",
       "\n",
       "     PW160: SATISFACTION WITH PERSONAL RELATIONSHIPS  \\\n",
       "54                                               7.0   \n",
       "68                                               3.0   \n",
       "97                                               8.0   \n",
       "100                                              8.0   \n",
       "141                                             99.0   \n",
       "\n",
       "     PW170: PERSONAL MATTERS (ANYONE TO DISCUSS WITH)  \\\n",
       "54                                                1.0   \n",
       "68                                                9.0   \n",
       "97                                                9.0   \n",
       "100                                               1.0   \n",
       "141                                               1.0   \n",
       "\n",
       "     PW180: HELP FROM OTHERS  PW190: TRUST IN OTHERS  \\\n",
       "54                       1.0                     7.0   \n",
       "68                       1.0                     7.0   \n",
       "97                       1.0                     4.0   \n",
       "100                      1.0                     2.0   \n",
       "141                      1.0                     1.0   \n",
       "\n",
       "     PW200: SATISFACTION WITH RECREATIONAL OR GREEN AREAS  \\\n",
       "54                                                10.0      \n",
       "68                                                10.0      \n",
       "97                                                 0.0      \n",
       "100                                                8.0      \n",
       "141                                                6.0      \n",
       "\n",
       "     PW210: SATISFACTION WITH LIVING ENVIRONMENT  PW220: PHYSICAL SECURITY  \n",
       "54                                           7.0                       3.0  \n",
       "68                                          10.0                       2.0  \n",
       "97                                           9.0                       2.0  \n",
       "100                                          9.0                       2.0  \n",
       "141                                          8.0                       2.0  \n",
       "\n",
       "[5 rows x 40 columns]"
      ]
     },
     "execution_count": 63,
     "metadata": {},
     "output_type": "execute_result"
    }
   ],
   "source": [
    "ds.head()"
   ]
  },
  {
   "cell_type": "code",
   "execution_count": 64,
   "metadata": {},
   "outputs": [
    {
     "data": {
      "text/plain": [
       "['PB140: YEAR OF BIRTH',\n",
       " 'PB150: SEX',\n",
       " 'PB190: MARITAL STATUS',\n",
       " 'PB200: CONSENSUAL UNION',\n",
       " 'PB220A: CITIZENSHIP',\n",
       " 'PE010: CURRENT EDUCATION ACTIVITY',\n",
       " 'PE040: HIGHEST ISCED LEVEL ATTAINED',\n",
       " 'PL031: SELF-DEFINED CURRENT ECONOMIC STATUS',\n",
       " 'PL035: WORKED AT LEAST 1 HOUR DURING THE PREVIOUS WEEK',\n",
       " 'PL051: OCCUPATION (ISCO-08 (COM))',\n",
       " 'PH010: GENERAL HEALTH',\n",
       " 'PH040: UNMET NEED FOR MEDICAL EXAMINATION OR TREATMENT',\n",
       " 'PH060: UNMET NEED FOR DENTAL EXAMINATION OR TREATMENT',\n",
       " 'PY010G: INCOME',\n",
       " 'PY090G++: SOCIAL BENEFITS',\n",
       " 'PD050: Get-together with friends/family (relatives) for a drink/meal at least once a month',\n",
       " 'PD060: Regularly participate in a leisure activity',\n",
       " 'PW010: OVERALL LIFE SATISFACTION',\n",
       " 'PW020: MEANING OF LIFE',\n",
       " 'PW030: SATISFACTION WITH FINANCIAL SITUATION',\n",
       " 'PW040: SATISFACTION WITH ACCOMMODATION',\n",
       " 'PW050: BEING VERY NERVOUS',\n",
       " 'PW060: FEELING DOWN IN THE DUMPS',\n",
       " 'PW070: FEELING CALM AND PEACEFUL',\n",
       " 'PW080: FEELING DOWNHEARTED OR DEPRESSED',\n",
       " 'PW090: BEING HAPPY',\n",
       " 'PW120: SATISFACTION WITH TIME USE',\n",
       " 'PW130: TRUST IN THE POLITICAL SYSTEM',\n",
       " 'PW140: TRUST IN THE LEGAL SYSTEM',\n",
       " 'PW150: TRUST IN THE POLICE',\n",
       " 'PW160: SATISFACTION WITH PERSONAL RELATIONSHIPS',\n",
       " 'PW170: PERSONAL MATTERS (ANYONE TO DISCUSS WITH)',\n",
       " 'PW180: HELP FROM OTHERS',\n",
       " 'PW190: TRUST IN OTHERS',\n",
       " 'PW200: SATISFACTION WITH RECREATIONAL OR GREEN AREAS',\n",
       " 'PW210: SATISFACTION WITH LIVING ENVIRONMENT',\n",
       " 'PW220: PHYSICAL SECURITY']"
      ]
     },
     "execution_count": 64,
     "metadata": {},
     "output_type": "execute_result"
    }
   ],
   "source": [
    "#subsets\n",
    "background = ['PB140: YEAR OF BIRTH', 'PB150: SEX', 'PB190: MARITAL STATUS',\n",
    "       'PB200: CONSENSUAL UNION', 'PB220A: CITIZENSHIP']\n",
    "\n",
    "education = ['PE010: CURRENT EDUCATION ACTIVITY', 'PE040: HIGHEST ISCED LEVEL ATTAINED']\n",
    "\n",
    "work = ['PL031: SELF-DEFINED CURRENT ECONOMIC STATUS',\n",
    "       'PL035: WORKED AT LEAST 1 HOUR DURING THE PREVIOUS WEEK',\n",
    "       'PL051: OCCUPATION (ISCO-08 (COM))']\n",
    "\n",
    "health = ['PH010: GENERAL HEALTH',\n",
    "       'PH040: UNMET NEED FOR MEDICAL EXAMINATION OR TREATMENT',\n",
    "       'PH060: UNMET NEED FOR DENTAL EXAMINATION OR TREATMENT']\n",
    "\n",
    "job= ['PY010G: INCOME', 'PY090G++: SOCIAL BENEFITS']\n",
    "\n",
    "\n",
    "\n",
    "bneeds= ['PD050: Get-together with friends/family (relatives) for a drink/meal at least once a month',\n",
    "       'PD060: Regularly participate in a leisure activity']\n",
    "\n",
    "\n",
    "\n",
    "sat =['PW010: OVERALL LIFE SATISFACTION', 'PW020: MEANING OF LIFE',\n",
    "       'PW030: SATISFACTION WITH FINANCIAL SITUATION',\n",
    "       'PW040: SATISFACTION WITH ACCOMMODATION', 'PW050: BEING VERY NERVOUS',\n",
    "       'PW060: FEELING DOWN IN THE DUMPS', 'PW070: FEELING CALM AND PEACEFUL',\n",
    "       'PW080: FEELING DOWNHEARTED OR DEPRESSED', 'PW090: BEING HAPPY',\n",
    "       'PW120: SATISFACTION WITH TIME USE',\n",
    "       'PW130: TRUST IN THE POLITICAL SYSTEM',\n",
    "       'PW140: TRUST IN THE LEGAL SYSTEM', 'PW150: TRUST IN THE POLICE',\n",
    "       'PW160: SATISFACTION WITH PERSONAL RELATIONSHIPS',\n",
    "       'PW170: PERSONAL MATTERS (ANYONE TO DISCUSS WITH)',\n",
    "       'PW180: HELP FROM OTHERS', 'PW190: TRUST IN OTHERS',\n",
    "       'PW200: SATISFACTION WITH RECREATIONAL OR GREEN AREAS',\n",
    "       'PW210: SATISFACTION WITH LIVING ENVIRONMENT',\n",
    "       'PW220: PHYSICAL SECURITY']\n",
    "\n",
    "subsets= [background,education,work,health,job,bneeds, sat]\n",
    "columns = []\n",
    "for x in subsets:\n",
    "    for y in x:\n",
    "        columns.append (y)\n",
    "columns"
   ]
  },
  {
   "cell_type": "markdown",
   "metadata": {},
   "source": [
    "# 0 Superfunctions"
   ]
  },
  {
   "cell_type": "code",
   "execution_count": 65,
   "metadata": {},
   "outputs": [],
   "source": [
    "# refresh ds\n",
    "def reload():\n",
    "    return pd.read_csv('./data/datamax_cleaned.csv', index_col=0)"
   ]
  },
  {
   "cell_type": "markdown",
   "metadata": {},
   "source": [
    "## 0.1 binning"
   ]
  },
  {
   "cell_type": "code",
   "execution_count": 66,
   "metadata": {},
   "outputs": [],
   "source": [
    "def pbin(column_to_bin, x):\n",
    "    bin_labels = [x for x in range(0,x)]\n",
    "\n",
    "    equal_bins = pd.cut(ds[column_to_bin], x, labels = bin_labels)\n",
    "    return equal_bins\n",
    "\n",
    "def qbin(column_to_bin, x):\n",
    "    bin_labels = [x for x in range(0,x)]\n",
    "\n",
    "    equal_bins = pd.qcut(ds[column_to_bin], x, labels = bin_labels)\n",
    "    return equal_bins"
   ]
  },
  {
   "cell_type": "code",
   "execution_count": 67,
   "metadata": {},
   "outputs": [],
   "source": [
    "binned =pbin('PY010G: INCOME',5)"
   ]
  },
  {
   "cell_type": "code",
   "execution_count": 68,
   "metadata": {
    "scrolled": false
   },
   "outputs": [
    {
     "data": {
      "text/plain": [
       "<matplotlib.axes._subplots.AxesSubplot at 0x16889c4da88>"
      ]
     },
     "execution_count": 68,
     "metadata": {},
     "output_type": "execute_result"
    },
    {
     "data": {
      "image/png": "[encoded data removed]",
      "text/plain": [
       "<Figure size 432x288 with 1 Axes>"
      ]
     },
     "metadata": {
      "needs_background": "light"
     },
     "output_type": "display_data"
    }
   ],
   "source": [
    "binned.hist()"
   ]
  },
  {
   "cell_type": "markdown",
   "metadata": {},
   "source": [
    "## 0.2 generate train and test"
   ]
  },
  {
   "cell_type": "code",
   "execution_count": 69,
   "metadata": {},
   "outputs": [],
   "source": [
    "### generate tests with several binning\n",
    "# binning first\n",
    "def generateTest (X_interested,y_interested, dummy, drop_na_in_y, scalertouse):\n",
    "    outcome = ds[y_interested]\n",
    "    features = ds[X_interested]\n",
    "    outcomelist=y_interested\n",
    "    featureslist=X_interested\n",
    "    data =pd.merge(features, outcome, left_index=True, right_index=True)\n",
    "    \n",
    "    # create dummy\n",
    "    categorical= ['PB150: SEX', 'PB190: MARITAL STATUS',\n",
    "       'PB200: CONSENSUAL UNION', 'PB220A: CITIZENSHIP',\n",
    "       'PE010: CURRENT EDUCATION ACTIVITY',\n",
    "       'PE040: HIGHEST ISCED LEVEL ATTAINED',\n",
    "       'PL031: SELF-DEFINED CURRENT ECONOMIC STATUS',\n",
    "       'PL035: WORKED AT LEAST 1 HOUR DURING THE PREVIOUS WEEK',\n",
    "       'PL051: OCCUPATION (ISCO-08 (COM))', \n",
    "       'PH040: UNMET NEED FOR MEDICAL EXAMINATION OR TREATMENT',\n",
    "       'PH060: UNMET NEED FOR DENTAL EXAMINATION OR TREATMENT',\n",
    "       'PD050: Get-together with friends/family (relatives) for a drink/meal at least once a month',\n",
    "       'PD060: Regularly participate in a leisure activity',\n",
    "       'PD080: Internet connection for personal use at home',\n",
    "      ]\n",
    "    \n",
    "\n",
    "\n",
    "    create_dummy=set(featureslist).intersection(categorical)\n",
    "    data_dummy = pd.get_dummies(data, columns=create_dummy, drop_first=True)\n",
    "    if dummy=='yes':\n",
    "        data = data_dummy\n",
    "    \n",
    "    ## drop na in outcome\n",
    "    if drop_na_in_y == 'yes':\n",
    "        data = data[data[outcomelist]>=0]\n",
    "    \n",
    "    ## split dataset again in x and y\n",
    "    XCol=list(data.columns)\n",
    "    XCol.remove(outcomelist)\n",
    "    YCol=outcomelist\n",
    "    Xtouse = data[XCol]\n",
    "    y= data[YCol]\n",
    "\n",
    "    \n",
    "    # scaler\n",
    "    if scalertouse == \"Standard\":\n",
    "        scaler = StandardScaler()\n",
    "        X_ = scaler.fit_transform(Xtouse)\n",
    "    elif scalertouse == \"MinMax\":\n",
    "        scaler = MinMaxScaler(feature_range=(0, 1))\n",
    "        X_ = scaler.fit_transform(Xtouse)\n",
    "        X_.shape\n",
    "    elif scalertouse == \"Normalizer\":\n",
    "        scaler = Normalizer()\n",
    "        X_ = scaler.fit_transform(Xtouse)\n",
    "        X_.shape\n",
    "    else: \n",
    "        X_ = Xtouse\n",
    "    \n",
    "    X_train, X_test, y_train, y_test = train_test_split(X_, y, test_size=0.2)\n",
    "    return X_train, X_test, y_train, y_test"
   ]
  },
  {
   "cell_type": "markdown",
   "metadata": {},
   "source": [
    "## 0.2  Regression"
   ]
  },
  {
   "cell_type": "code",
   "execution_count": 70,
   "metadata": {},
   "outputs": [],
   "source": [
    "# maxximize function to split and run all the models:\n",
    "\n",
    "def regmodel (X_interested,y_interested, dummy, drop_na_in_y, scalertouse):\n",
    "\n",
    "    X_train = generateTest (X_interested,y_interested, dummy, drop_na_in_y, scalertouse)[0]\n",
    "    X_test = generateTest (X_interested,y_interested, dummy, drop_na_in_y, scalertouse)[1]\n",
    "    y_train = generateTest (X_interested,y_interested, dummy, drop_na_in_y,  scalertouse)[2]\n",
    "    y_test = generateTest (X_interested,y_interested, dummy, drop_na_in_y, scalertouse)[3]\n",
    "\n",
    "    \n",
    "    print(\"X: \", X_interested)\n",
    "    print(\"Y: \", y_interested,\"\\n\")\n",
    "    \n",
    "    # Linear Regression\n",
    "    lm = LinearRegression()\n",
    "    model = lm.fit(X_train,y_train)\n",
    "\n",
    "    print(\"Intercept: \", lm.intercept_)\n",
    "    print(\"Coef: \", lm.coef_)\n",
    "\n",
    "    y_pred  = lm.predict(X_test)\n",
    "    print (\"linear aMSE: \", mean_absolute_error(y_test, y_pred))\n",
    "    print (\"linear MSE: \",mean_squared_error(y_test, y_pred))\n",
    "    print (\"linear R2: \",r2_score(y_test, y_pred), \"\\n\")\n",
    "    \n",
    "    \n",
    "    ### Regression Tree\n",
    "    regr = DecisionTreeRegressor(random_state = 29)\n",
    "    model = regr.fit(X_train, y_train)\n",
    "    y_pred  = regr.predict(X_test)\n",
    "    regr.score(X_test, y_test)\n",
    "    print (\"Regression Tree aMSE: \", mean_absolute_error(y_test, y_pred))\n",
    "    print (\"Regression Tree MSE: \",mean_squared_error(y_test, y_pred))\n",
    "    print (\"Regression Tree R2: \",r2_score(y_test, y_pred),\"\\n\")\n",
    "    \n",
    "    ### KNeighborsRegressor\n",
    "    knnr = KNeighborsRegressor(n_neighbors = 3)\n",
    "    model = knnr.fit(X_train, y_train)  #fit the model\n",
    "    y_pred = knnr.predict(X_test)\n",
    "    print (\"KNeighbores aMSE: \", mean_absolute_error(y_test, y_pred))\n",
    "    print (\"KNeighbores MSE: \",mean_squared_error(y_test, y_pred))\n",
    "    print (\"KNeighbores R2: \",r2_score(y_test, y_pred))"
   ]
  },
  {
   "cell_type": "code",
   "execution_count": 71,
   "metadata": {},
   "outputs": [
    {
     "name": "stdout",
     "output_type": "stream",
     "text": [
      "X:  ['PD050: Get-together with friends/family (relatives) for a drink/meal at least once a month', 'PD060: Regularly participate in a leisure activity']\n",
      "Y:  PW130: TRUST IN THE POLITICAL SYSTEM \n",
      "\n",
      "Intercept:  11.990191911814883\n",
      "Coef:  [-2.08163754 -2.21763927 -4.07052401 -2.25804326]\n",
      "linear aMSE:  8.950238969322319\n",
      "linear MSE:  404.53252122745505\n",
      "linear R2:  -0.018047319820630126 \n",
      "\n",
      "Regression Tree aMSE:  9.017564748881966\n",
      "Regression Tree MSE:  407.6419280687379\n",
      "Regression Tree R2:  -0.02587245904897939 \n",
      "\n",
      "KNeighbores aMSE:  8.13953488372093\n",
      "KNeighbores MSE:  469.4418604651163\n",
      "KNeighbores R2:  -0.1813982876036977\n"
     ]
    }
   ],
   "source": [
    "regmodel(bneeds,'PW130: TRUST IN THE POLITICAL SYSTEM', 'yes', 'yes', 'no')"
   ]
  },
  {
   "cell_type": "markdown",
   "metadata": {},
   "source": [
    "## 0.4  Classification"
   ]
  },
  {
   "cell_type": "code",
   "execution_count": 72,
   "metadata": {},
   "outputs": [],
   "source": [
    "# maxximize function to split and run all the models:\n",
    "## y binning first\n",
    "def class_bin (X_interested,y_interested, dummy, drop_na_in_y, scalertouse):\n",
    "\n",
    "    X_train = generateTest (X_interested,y_interested, dummy, drop_na_in_y, scalertouse)[0]\n",
    "    X_test = generateTest (X_interested,y_interested, dummy, drop_na_in_y,  scalertouse)[1]\n",
    "    y_train = generateTest (X_interested,y_interested, dummy, drop_na_in_y,  scalertouse)[2]\n",
    "    y_test = generateTest (X_interested,y_interested, dummy, drop_na_in_y,  scalertouse)[3]\n",
    "\n",
    "    \n",
    "    print(\"X: \", X_interested)\n",
    "    print(\"Y: \", y_interested, \"\\n\")\n",
    "    \n",
    "    # logistic regression\n",
    "    lr = LogisticRegression()\n",
    "    lr.fit(X_train,y_train)\n",
    "    y_pred=lr.predict(X_test)\n",
    "    conf=confusion_matrix(y_test, y_pred)\n",
    "    #tn,fp,fn,tp = confusion_matrix(y_test, y_pred).ravel()\n",
    "    #matrix = pd.DataFrame([[tp, tn, (tp+tn),round((tp+tn)/(tp+tn+fp+fn)*100,2)],[fp, fn, (fp+fn), ]], index = [\"true\", \"false\"], columns=['positive', 'negative', 'total','accuracy'])\n",
    "    #print(matrix)\n",
    "    print( \"Logistic regression - accuracy: \", str(round(lr.score(X_test, y_test)*100,2)))\n",
    "    print( \"Logistic regression - precision\", str(round((conf[0,0])/ (conf[1,0]+conf[0,0])*100,2)), \"\\n\")\n",
    "\n",
    "    # Decision Tree classyier\n",
    "    dtc = DecisionTreeClassifier()\n",
    "    dtc.fit(X_train, y_train)\n",
    "    y_pred = dtc.predict(X_test)\n",
    "    conf=confusion_matrix(y_test, y_pred)\n",
    "    #tn,fp,fn,tp = confusion_matrix(y_test, y_pred).ravel()\n",
    "    #matrix = pd.DataFrame([[tp, tn, (tp+tn),round((tp+tn)/(tp+tn+fp+fn)*100,2)],[fp, fn, (fp+fn), ]], index = [\"true\", \"false\"], columns=['positive', 'negative', 'total','accuracy'])\n",
    "    #print(matrix)\n",
    "    print( \"Decision tree - accuracy  \", str(round(dtc.score(X_test, y_test)*100,2)))\n",
    "    print( \"Decision tree - precision\", str(round((conf[0,0])/ (conf[1,0]+conf[0,0])*100,2)), \"\\n\")  \n",
    "      \n",
    "    # super vector machine (takes too much time)                                          \n",
    "                                                   \n",
    "    # KNeighborsClassifier\n",
    "    knn = KNeighborsClassifier(n_neighbors = 2)  # n_neighbors means k\n",
    "    knn.fit(X_train, y_train)\n",
    "    y_pred = knn.predict(X_test)\n",
    "    conf=confusion_matrix(y_test, y_pred)\n",
    "    #tn,fp,fn,tp = confusion_matrix(y_test, y_pred).ravel()\n",
    "    #matrix = pd.DataFrame([[tp, tn, (tp+tn),round((tp+tn)/(tp+tn+fp+fn)*100,2)],[fp, fn, (fp+fn), ]], index = [\"true\", \"false\"], columns=['positive', 'negative', 'total','accuracy'])\n",
    "    print(conf)\n",
    "    print( \"KNeighborsClassifier - accuracy  \", str(round(knn.score(X_test, y_test)*100,2)))\n",
    "    print( \"KNeighborsClassifier - precision\", str(round((conf[0,0])/ (conf[1,0]+conf[0,0])*100,2)), \"\\n\") "
   ]
  },
  {
   "cell_type": "code",
   "execution_count": 73,
   "metadata": {},
   "outputs": [
    {
     "name": "stdout",
     "output_type": "stream",
     "text": [
      "X:  ['PB140: YEAR OF BIRTH', 'PB150: SEX', 'PB190: MARITAL STATUS', 'PB200: CONSENSUAL UNION', 'PB220A: CITIZENSHIP']\n",
      "Y:  PW130: TRUST IN THE POLITICAL SYSTEM \n",
      "\n",
      "Logistic regression - accuracy:  23.26\n",
      "Logistic regression - precision nan \n",
      "\n",
      "Decision tree - accuracy   11.63\n",
      "Decision tree - precision 50.0 \n",
      "\n",
      "[[2 1 1 0 1 2 1 2 0 0 0]\n",
      " [2 0 1 2 0 3 1 0 1 0 0]\n",
      " [0 1 0 2 1 4 0 0 0 0 0]\n",
      " [0 0 0 2 0 3 2 2 0 0 0]\n",
      " [0 1 0 4 0 5 0 0 0 0 0]\n",
      " [5 5 5 2 2 6 4 1 1 0 0]\n",
      " [1 2 1 1 1 2 0 0 1 0 1]\n",
      " [2 0 2 2 3 4 0 3 0 0 0]\n",
      " [3 1 4 1 0 3 1 2 0 0 0]\n",
      " [0 0 0 0 1 0 0 0 1 0 0]\n",
      " [2 0 0 0 1 1 4 0 0 0 0]]\n",
      "KNeighborsClassifier - accuracy   10.08\n",
      "KNeighborsClassifier - precision 50.0 \n",
      "\n"
     ]
    },
    {
     "name": "stderr",
     "output_type": "stream",
     "text": [
      "C:\\Users\\haenni\\AppData\\Local\\Continuum\\anaconda3\\lib\\site-packages\\sklearn\\linear_model\\logistic.py:432: FutureWarning: Default solver will be changed to 'lbfgs' in 0.22. Specify a solver to silence this warning.\n",
      "  FutureWarning)\n",
      "C:\\Users\\haenni\\AppData\\Local\\Continuum\\anaconda3\\lib\\site-packages\\sklearn\\linear_model\\logistic.py:469: FutureWarning: Default multi_class will be changed to 'auto' in 0.22. Specify the multi_class option to silence this warning.\n",
      "  \"this warning.\", FutureWarning)\n",
      "C:\\Users\\haenni\\AppData\\Local\\Continuum\\anaconda3\\lib\\site-packages\\ipykernel_launcher.py:23: RuntimeWarning: invalid value encountered in longlong_scalars\n"
     ]
    }
   ],
   "source": [
    "class_bin(background, 'PW130: TRUST IN THE POLITICAL SYSTEM', 'yes' , 'yes', 'MaxMin')"
   ]
  },
  {
   "cell_type": "code",
   "execution_count": 74,
   "metadata": {},
   "outputs": [],
   "source": [
    "def tryclass_bin(xes,yli,nrbinx, dummy, drop_na_in_y, scalertouse):\n",
    "    ds=reload()\n",
    "    # x biningfor x in try1:\n",
    "    for x in xes:\n",
    "        if len(ds[x].unique())>nrbinx:\n",
    "               ds[x]=pbin(x,nrbinx)\n",
    "    # y binning\n",
    "    for x in xes: \n",
    "        print(x, ds[x].unique())\n",
    "    ds['binned_y']= pbin(yli,2)\n",
    "    print(ds['binned_y'].unique())\n",
    "    \n",
    "    # run\n",
    "    class_bin (xes,yli, dummy, drop_na_in_y, scalertouse)"
   ]
  },
  {
   "cell_type": "markdown",
   "metadata": {},
   "source": [
    "mulit class"
   ]
  },
  {
   "cell_type": "code",
   "execution_count": 75,
   "metadata": {},
   "outputs": [],
   "source": [
    "## target multi\n",
    "# binning first\n",
    "def class_mul (X_interested,y_interested, dummy, drop_na_in_y, scalertouse):\n",
    "    \n",
    "    X_train = generateTest (X_interested,y_interested, dummy, drop_na_in_y, scalertouse)[0]\n",
    "    X_test = generateTest (X_interested,y_interested, dummy, drop_na_in_y, scalertouse)[1]\n",
    "    y_train = generateTest (X_interested,y_interested, dummy, drop_na_in_y,  scalertouse)[2]\n",
    "    y_test = generateTest (X_interested,y_interested, dummy, drop_na_in_y,  scalertouse)[3]\n",
    "\n",
    "    \n",
    "    print(\"X: \", X_interested)\n",
    "    print(\"X: \", y_interested)\n",
    "    \n",
    "    #### b) DecisionTree Classify\n",
    "\n",
    "    dtc = DecisionTreeClassifier()#class_weight='balanced')#max_features=10,\n",
    "    dtc.fit(X_train, y_train)\n",
    "    y_pred = dtc.predict(X_test)\n",
    "\n",
    "    acc = dtc.score(X_test, y_test)*100\n",
    "    print(f\"Decision Tree Test Accuracy {round(acc, 2)}%\")\n",
    " \n",
    "\n",
    "    #### c) Support Vector Maschine\n",
    "    svm = SVC(decision_function_shape='ovo')\n",
    "    svm.fit(X_train, y_train)\n",
    "    y_pred = svm.predict(X_test)\n",
    "    acc = svm.score(X_test,y_test)*100\n",
    "    print(f\"SVM Algorithm Test Accuracy {round(acc, 2)}%\")"
   ]
  },
  {
   "cell_type": "code",
   "execution_count": 76,
   "metadata": {
    "scrolled": true
   },
   "outputs": [
    {
     "name": "stdout",
     "output_type": "stream",
     "text": [
      "X:  ['PB140: YEAR OF BIRTH', 'PB150: SEX', 'PB190: MARITAL STATUS', 'PB200: CONSENSUAL UNION', 'PB220A: CITIZENSHIP']\n",
      "X:  PW010: OVERALL LIFE SATISFACTION\n",
      "Decision Tree Test Accuracy 19.38%\n",
      "SVM Algorithm Test Accuracy 27.91%\n"
     ]
    },
    {
     "name": "stderr",
     "output_type": "stream",
     "text": [
      "C:\\Users\\haenni\\AppData\\Local\\Continuum\\anaconda3\\lib\\site-packages\\sklearn\\svm\\base.py:193: FutureWarning: The default value of gamma will change from 'auto' to 'scale' in version 0.22 to account better for unscaled features. Set gamma explicitly to 'auto' or 'scale' to avoid this warning.\n",
      "  \"avoid this warning.\", FutureWarning)\n"
     ]
    }
   ],
   "source": [
    "# test\n",
    "class_mul(background, sat[0], 'yes' , 'no', 'MaxMin')"
   ]
  },
  {
   "cell_type": "code",
   "execution_count": 77,
   "metadata": {},
   "outputs": [],
   "source": [
    "# combine binnen y and run modell\n",
    "def tryclass_multi(xes,yli,nrbinx, nrbiny,dummy, drop_na_in_y, scalertouse):\n",
    "    ds=reload()\n",
    "    # x biningfor x in try1:\n",
    "    for x in xes:\n",
    "        if len(ds[x].unique())>nrbinx:\n",
    "               ds[x]=pbin(x,nrbinx)\n",
    "    # y binning\n",
    "    for x in xes: \n",
    "        print(x, ds[x].unique())\n",
    "    ds['binned_y']= pbin(yli,nrbiny)\n",
    "    print(ds['binned_y'].unique())\n",
    "    \n",
    "    # run\n",
    "    class_mul(xes, 'binned_y', dummy, drop_na_in_y, scalertouse)"
   ]
  },
  {
   "cell_type": "code",
   "execution_count": 78,
   "metadata": {},
   "outputs": [],
   "source": [
    "#tryclass_multi(background, sat[3], 2,2,  'yes' , 'no', 'MaxMin')"
   ]
  },
  {
   "cell_type": "markdown",
   "metadata": {},
   "source": [
    "## 0.4 RFE"
   ]
  },
  {
   "cell_type": "code",
   "execution_count": 79,
   "metadata": {},
   "outputs": [],
   "source": [
    "def generateRFE (X_train, y_train, limit): \n",
    "    auto_model = LinearRegression()\n",
    "    selector = RFE(auto_model, 5, step=1)\n",
    "    model = selector.fit(X_train,y_train)\n",
    "    selector.ranking_\n",
    "    rfe_col = []\n",
    "    for x in range(len(X_train.columns)):\n",
    "        if selector.ranking_[x]<=limit:\n",
    "            rfe_col.append(X_train.columns[x])\n",
    "    print(len(rfe_col))\n",
    "    return rfe_col"
   ]
  },
  {
   "cell_type": "markdown",
   "metadata": {},
   "source": [
    "# 1. apply to models"
   ]
  },
  {
   "cell_type": "markdown",
   "metadata": {},
   "source": [
    "## 1.1 model 1 \"political satisfaction\""
   ]
  },
  {
   "cell_type": "code",
   "execution_count": 80,
   "metadata": {},
   "outputs": [
    {
     "data": {
      "text/plain": [
       "['PB140: YEAR OF BIRTH',\n",
       " 'PB150: SEX',\n",
       " 'PB190: MARITAL STATUS',\n",
       " 'PB200: CONSENSUAL UNION',\n",
       " 'PB220A: CITIZENSHIP',\n",
       " 'PE010: CURRENT EDUCATION ACTIVITY',\n",
       " 'PE040: HIGHEST ISCED LEVEL ATTAINED',\n",
       " 'PL031: SELF-DEFINED CURRENT ECONOMIC STATUS',\n",
       " 'PL035: WORKED AT LEAST 1 HOUR DURING THE PREVIOUS WEEK',\n",
       " 'PL051: OCCUPATION (ISCO-08 (COM))',\n",
       " 'PH010: GENERAL HEALTH',\n",
       " 'PH040: UNMET NEED FOR MEDICAL EXAMINATION OR TREATMENT',\n",
       " 'PH060: UNMET NEED FOR DENTAL EXAMINATION OR TREATMENT',\n",
       " 'PY010G: INCOME',\n",
       " 'PY090G++: SOCIAL BENEFITS',\n",
       " 'PD050: Get-together with friends/family (relatives) for a drink/meal at least once a month',\n",
       " 'PD060: Regularly participate in a leisure activity',\n",
       " 'PW010: OVERALL LIFE SATISFACTION',\n",
       " 'PW020: MEANING OF LIFE',\n",
       " 'PW030: SATISFACTION WITH FINANCIAL SITUATION',\n",
       " 'PW040: SATISFACTION WITH ACCOMMODATION',\n",
       " 'PW050: BEING VERY NERVOUS',\n",
       " 'PW060: FEELING DOWN IN THE DUMPS',\n",
       " 'PW070: FEELING CALM AND PEACEFUL',\n",
       " 'PW080: FEELING DOWNHEARTED OR DEPRESSED',\n",
       " 'PW090: BEING HAPPY',\n",
       " 'PW120: SATISFACTION WITH TIME USE',\n",
       " 'PW130: TRUST IN THE POLITICAL SYSTEM',\n",
       " 'PW140: TRUST IN THE LEGAL SYSTEM',\n",
       " 'PW150: TRUST IN THE POLICE',\n",
       " 'PW160: SATISFACTION WITH PERSONAL RELATIONSHIPS',\n",
       " 'PW170: PERSONAL MATTERS (ANYONE TO DISCUSS WITH)',\n",
       " 'PW180: HELP FROM OTHERS',\n",
       " 'PW190: TRUST IN OTHERS',\n",
       " 'PW200: SATISFACTION WITH RECREATIONAL OR GREEN AREAS',\n",
       " 'PW210: SATISFACTION WITH LIVING ENVIRONMENT',\n",
       " 'PW220: PHYSICAL SECURITY']"
      ]
     },
     "execution_count": 80,
     "metadata": {},
     "output_type": "execute_result"
    }
   ],
   "source": [
    "columns"
   ]
  },
  {
   "cell_type": "markdown",
   "metadata": {},
   "source": [
    "#### a) selection of features by logic"
   ]
  },
  {
   "cell_type": "code",
   "execution_count": 81,
   "metadata": {},
   "outputs": [],
   "source": [
    "ds = reload()\n",
    "## selection of features by logic\n",
    "try1 = ['PB140: YEAR OF BIRTH',\n",
    " 'PB150: SEX',\n",
    " 'PB190: MARITAL STATUS',\n",
    " 'PE040: HIGHEST ISCED LEVEL ATTAINED',\n",
    " 'PL031: SELF-DEFINED CURRENT ECONOMIC STATUS',\n",
    " 'PH010: GENERAL HEALTH',\n",
    " 'PY010G: INCOME',\n",
    " 'PY090G++: SOCIAL BENEFITS',\n",
    " 'PD080: Internet connection for personal use at home','PW010: OVERALL LIFE SATISFACTION']"
   ]
  },
  {
   "cell_type": "code",
   "execution_count": 82,
   "metadata": {},
   "outputs": [
    {
     "name": "stdout",
     "output_type": "stream",
     "text": [
      "X:  ['PB140: YEAR OF BIRTH', 'PB150: SEX', 'PB190: MARITAL STATUS', 'PE040: HIGHEST ISCED LEVEL ATTAINED', 'PL031: SELF-DEFINED CURRENT ECONOMIC STATUS', 'PH010: GENERAL HEALTH', 'PY010G: INCOME', 'PY090G++: SOCIAL BENEFITS', 'PD080: Internet connection for personal use at home', 'PW010: OVERALL LIFE SATISFACTION']\n",
      "Y:  PW130: TRUST IN THE POLITICAL SYSTEM \n",
      "\n",
      "Intercept:  33.929198665035116\n",
      "Coef:  [-4.14890132e+01 -7.06080835e+01 -2.49407670e+01 -2.09262685e+01\n",
      "  3.50061802e+01  2.75879128e+02 -3.57736980e+02 -1.44455467e+02\n",
      "  7.81364717e+02 -6.57027102e+02 -2.89573061e+02  3.13937293e+02\n",
      " -3.07238694e+04 -4.15837748e+04  9.64225079e+02 -1.54756872e+02\n",
      " -2.01273083e+02  1.01170146e+03  5.17500893e+02  8.18322521e+02\n",
      "  1.09606187e+02 -7.17146345e+02 -2.11514429e+02 -8.31948910e+02\n",
      "  9.01575690e+02]\n",
      "linear aMSE:  9.80170128052644\n",
      "linear MSE:  464.1799550672513\n",
      "linear R2:  -0.009037032196011374 \n",
      "\n",
      "Regression Tree aMSE:  9.023255813953488\n",
      "Regression Tree MSE:  632.031007751938\n",
      "Regression Tree R2:  -0.37391260728928355 \n",
      "\n",
      "KNeighbores aMSE:  10.082687338501293\n",
      "KNeighbores MSE:  510.04995693367783\n",
      "KNeighbores R2:  -0.10874950371671432\n"
     ]
    }
   ],
   "source": [
    "regmodel (try1,'PW130: TRUST IN THE POLITICAL SYSTEM','yes' , 'yes', 'Normalizer')"
   ]
  },
  {
   "cell_type": "code",
   "execution_count": 83,
   "metadata": {},
   "outputs": [
    {
     "name": "stdout",
     "output_type": "stream",
     "text": [
      "PB140: YEAR OF BIRTH [1, 0, 2]\n",
      "Categories (3, int64): [0 < 1 < 2]\n",
      "PB150: SEX [1 0]\n",
      "PB190: MARITAL STATUS [0, 2, 1]\n",
      "Categories (3, int64): [0 < 1 < 2]\n",
      "PE040: HIGHEST ISCED LEVEL ATTAINED [2, 1, 0]\n",
      "Categories (3, int64): [0 < 1 < 2]\n",
      "PL031: SELF-DEFINED CURRENT ECONOMIC STATUS [0, 1, 2]\n",
      "Categories (3, int64): [0 < 1 < 2]\n",
      "PH010: GENERAL HEALTH [1, 0, 2]\n",
      "Categories (3, int64): [0 < 1 < 2]\n",
      "PY010G: INCOME [0, 2, 1]\n",
      "Categories (3, int64): [0 < 1 < 2]\n",
      "PY090G++: SOCIAL BENEFITS [0, 1, 2]\n",
      "Categories (3, int64): [0 < 1 < 2]\n",
      "PD080: Internet connection for personal use at home [1. 3. 2.]\n",
      "PW010: OVERALL LIFE SATISFACTION [0, 2]\n",
      "Categories (2, int64): [0 < 2]\n",
      "[0, 1]\n",
      "Categories (2, int64): [0 < 1]\n",
      "X:  ['PB140: YEAR OF BIRTH', 'PB150: SEX', 'PB190: MARITAL STATUS', 'PE040: HIGHEST ISCED LEVEL ATTAINED', 'PL031: SELF-DEFINED CURRENT ECONOMIC STATUS', 'PH010: GENERAL HEALTH', 'PY010G: INCOME', 'PY090G++: SOCIAL BENEFITS', 'PD080: Internet connection for personal use at home', 'PW010: OVERALL LIFE SATISFACTION']\n",
      "Y:  PW130: TRUST IN THE POLITICAL SYSTEM \n",
      "\n",
      "Logistic regression - accuracy:  17.83\n",
      "Logistic regression - precision nan \n",
      "\n",
      "Decision tree - accuracy   13.18\n",
      "Decision tree - precision nan \n",
      "\n",
      "[[1 1 2 0 2 2 0 1 1 0 0]\n",
      " [0 0 0 2 0 3 0 0 0 0 0]\n",
      " [0 1 1 1 0 3 1 0 0 0 0]\n",
      " [1 1 5 2 0 1 3 0 1 0 0]\n",
      " [0 4 0 1 1 4 3 1 0 0 0]\n",
      " [3 1 7 2 2 3 2 2 0 1 0]\n",
      " [1 1 3 3 2 3 1 0 1 0 0]\n",
      " [4 4 2 4 0 2 1 0 1 1 0]\n",
      " [4 0 1 0 1 5 1 0 1 0 0]\n",
      " [0 0 1 1 1 0 0 0 0 0 0]\n",
      " [1 2 0 1 0 1 1 0 0 0 0]]\n",
      "KNeighborsClassifier - accuracy   7.75\n",
      "KNeighborsClassifier - precision 100.0 \n",
      "\n"
     ]
    },
    {
     "name": "stderr",
     "output_type": "stream",
     "text": [
      "C:\\Users\\haenni\\AppData\\Local\\Continuum\\anaconda3\\lib\\site-packages\\sklearn\\linear_model\\logistic.py:432: FutureWarning: Default solver will be changed to 'lbfgs' in 0.22. Specify a solver to silence this warning.\n",
      "  FutureWarning)\n",
      "C:\\Users\\haenni\\AppData\\Local\\Continuum\\anaconda3\\lib\\site-packages\\sklearn\\linear_model\\logistic.py:469: FutureWarning: Default multi_class will be changed to 'auto' in 0.22. Specify the multi_class option to silence this warning.\n",
      "  \"this warning.\", FutureWarning)\n",
      "C:\\Users\\haenni\\AppData\\Local\\Continuum\\anaconda3\\lib\\site-packages\\ipykernel_launcher.py:23: RuntimeWarning: invalid value encountered in longlong_scalars\n",
      "C:\\Users\\haenni\\AppData\\Local\\Continuum\\anaconda3\\lib\\site-packages\\ipykernel_launcher.py:34: RuntimeWarning: invalid value encountered in longlong_scalars\n"
     ]
    }
   ],
   "source": [
    "yli='PW130: TRUST IN THE POLITICAL SYSTEM'\n",
    "tryclass_bin(try1,'PW130: TRUST IN THE POLITICAL SYSTEM',3, 'yes' , 'yes', 'Normalizer')"
   ]
  },
  {
   "cell_type": "code",
   "execution_count": 84,
   "metadata": {},
   "outputs": [],
   "source": [
    "###  try2 only with prior features based on RFE"
   ]
  },
  {
   "cell_type": "code",
   "execution_count": 85,
   "metadata": {
    "scrolled": true
   },
   "outputs": [
    {
     "name": "stdout",
     "output_type": "stream",
     "text": [
      "6\n"
     ]
    }
   ],
   "source": [
    "ds=reload()\n",
    "try2 =generateRFE (ds[try1], ds['PW130: TRUST IN THE POLITICAL SYSTEM'], 2)"
   ]
  },
  {
   "cell_type": "markdown",
   "metadata": {},
   "source": [
    "#### c) based on RFE- all"
   ]
  },
  {
   "cell_type": "code",
   "execution_count": 86,
   "metadata": {},
   "outputs": [
    {
     "name": "stdout",
     "output_type": "stream",
     "text": [
      "12\n"
     ]
    }
   ],
   "source": [
    "## based on RFE all columns\n",
    "try3 = ['PE010: CURRENT EDUCATION ACTIVITY',\n",
    " 'PL150: MANAGERIAL POSITION',\n",
    " 'PD050: Get-together with friends/family (relatives) for a drink/meal at least once a month',\n",
    " 'PD070: Spend a small amount of money each week on yourself',\n",
    " 'PW070: FEELING CALM AND PEACEFUL',\n",
    " 'PW220: PHYSICAL SECURITY']\n",
    "\n",
    "#try3\n",
    "xes = generateRFE(ds[columns], ds[yli], 8)"
   ]
  },
  {
   "cell_type": "markdown",
   "metadata": {},
   "source": [
    "RFE with Dummy-Features"
   ]
  },
  {
   "cell_type": "code",
   "execution_count": 87,
   "metadata": {},
   "outputs": [
    {
     "data": {
      "text/plain": [
       "{'PB150: SEX',\n",
       " 'PB190: MARITAL STATUS',\n",
       " 'PB200: CONSENSUAL UNION',\n",
       " 'PB220A: CITIZENSHIP',\n",
       " 'PD050: Get-together with friends/family (relatives) for a drink/meal at least once a month',\n",
       " 'PD060: Regularly participate in a leisure activity',\n",
       " 'PE010: CURRENT EDUCATION ACTIVITY',\n",
       " 'PH040: UNMET NEED FOR MEDICAL EXAMINATION OR TREATMENT',\n",
       " 'PH060: UNMET NEED FOR DENTAL EXAMINATION OR TREATMENT',\n",
       " 'PL031: SELF-DEFINED CURRENT ECONOMIC STATUS',\n",
       " 'PL035: WORKED AT LEAST 1 HOUR DURING THE PREVIOUS WEEK',\n",
       " 'PL051: OCCUPATION (ISCO-08 (COM))'}"
      ]
     },
     "execution_count": 87,
     "metadata": {},
     "output_type": "execute_result"
    }
   ],
   "source": [
    "## do rfe with dummy-features\n",
    "ds=reload()\n",
    "categorical= ['PB150: SEX', 'PB190: MARITAL STATUS',\n",
    "       'PB200: CONSENSUAL UNION', 'PB220A: CITIZENSHIP',\n",
    "       'PE010: CURRENT EDUCATION ACTIVITY',\n",
    "       'PL031: SELF-DEFINED CURRENT ECONOMIC STATUS',\n",
    "       'PL035: WORKED AT LEAST 1 HOUR DURING THE PREVIOUS WEEK',\n",
    "       'PL051: OCCUPATION (ISCO-08 (COM))', 'PL150: MANAGERIAL POSITION',\n",
    "        'PH030: LIMITATION IN ACTIVITIES BECAUSE OF HEALTH PROBLEMS',\n",
    "       'PH040: UNMET NEED FOR MEDICAL EXAMINATION OR TREATMENT',\n",
    "       'PH060: UNMET NEED FOR DENTAL EXAMINATION OR TREATMENT',\n",
    "       'PD020: Replace worn-out clothes by some new (not second-hand) ones',\n",
    "       'PD030: Two pairs of properly fitting shoes',\n",
    "       'PD050: Get-together with friends/family (relatives) for a drink/meal at least once a month',\n",
    "       'PD060: Regularly participate in a leisure activity',\n",
    "       'PD070: Spend a small amount of money each week on yourself',\n",
    "       'PD080: Internet connection for personal use at home',\n",
    "      ]\n",
    "#columns.remove(yli)\n",
    "create_dummy=set(columns).intersection(categorical)\n",
    "create_dummy"
   ]
  },
  {
   "cell_type": "code",
   "execution_count": 88,
   "metadata": {},
   "outputs": [
    {
     "name": "stdout",
     "output_type": "stream",
     "text": [
      "14\n"
     ]
    },
    {
     "data": {
      "text/plain": [
       "['PW130: TRUST IN THE POLITICAL SYSTEM',\n",
       " 'PL031: SELF-DEFINED CURRENT ECONOMIC STATUS_4.0',\n",
       " 'PL051: OCCUPATION (ISCO-08 (COM))_12.0',\n",
       " 'PL051: OCCUPATION (ISCO-08 (COM))_26.0',\n",
       " 'PL051: OCCUPATION (ISCO-08 (COM))_32.0',\n",
       " 'PL051: OCCUPATION (ISCO-08 (COM))_34.0',\n",
       " 'PL051: OCCUPATION (ISCO-08 (COM))_43.0',\n",
       " 'PL051: OCCUPATION (ISCO-08 (COM))_54.0',\n",
       " 'PL051: OCCUPATION (ISCO-08 (COM))_73.0',\n",
       " 'PL051: OCCUPATION (ISCO-08 (COM))_75.0',\n",
       " 'PL051: OCCUPATION (ISCO-08 (COM))_93.0',\n",
       " 'PL051: OCCUPATION (ISCO-08 (COM))_94.0',\n",
       " 'PH040: UNMET NEED FOR MEDICAL EXAMINATION OR TREATMENT_2',\n",
       " 'PD060: Regularly participate in a leisure activity_3.0']"
      ]
     },
     "execution_count": 88,
     "metadata": {},
     "output_type": "execute_result"
    }
   ],
   "source": [
    "data_dummy = pd.get_dummies(ds[columns], columns=create_dummy, drop_first=True)\n",
    "data_dummy.columns\n",
    "data_dummy\n",
    "generateRFE(data_dummy, ds[yli], 10)"
   ]
  },
  {
   "cell_type": "code",
   "execution_count": 89,
   "metadata": {},
   "outputs": [
    {
     "name": "stdout",
     "output_type": "stream",
     "text": [
      "14\n"
     ]
    }
   ],
   "source": [
    "try4 = generateRFE(data_dummy, ds[yli], 10)"
   ]
  },
  {
   "cell_type": "code",
   "execution_count": 90,
   "metadata": {},
   "outputs": [],
   "source": [
    "X = data_dummy[try4]\n",
    "y= ds[yli]\n",
    "X_train, X_test, y_train, y_test = train_test_split(X, y, test_size=0.2)"
   ]
  },
  {
   "cell_type": "code",
   "execution_count": 91,
   "metadata": {
    "scrolled": true
   },
   "outputs": [
    {
     "name": "stdout",
     "output_type": "stream",
     "text": [
      "Decision Tree Test Accuracy 100.0%\n",
      "SVM Algorithm Test Accuracy 100.0%\n"
     ]
    },
    {
     "name": "stderr",
     "output_type": "stream",
     "text": [
      "C:\\Users\\haenni\\AppData\\Local\\Continuum\\anaconda3\\lib\\site-packages\\sklearn\\svm\\base.py:193: FutureWarning: The default value of gamma will change from 'auto' to 'scale' in version 0.22 to account better for unscaled features. Set gamma explicitly to 'auto' or 'scale' to avoid this warning.\n",
      "  \"avoid this warning.\", FutureWarning)\n"
     ]
    }
   ],
   "source": [
    "#### b) DecisionTree Classify\n",
    "\n",
    "dtc = DecisionTreeClassifier()#class_weight='balanced')#max_features=10,\n",
    "dtc.fit(X_train, y_train)\n",
    "y_pred = dtc.predict(X_test)\n",
    "\n",
    "acc = dtc.score(X_test, y_test)*100\n",
    "print(f\"Decision Tree Test Accuracy {round(acc, 2)}%\")\n",
    " \n",
    "\n",
    "#### c) Support Vector Maschine\n",
    "svm = SVC(decision_function_shape='ovo')\n",
    "svm.fit(X_train, y_train)\n",
    "y_pred = svm.predict(X_test)\n",
    "acc = svm.score(X_test,y_test)*100\n",
    "print(f\"SVM Algorithm Test Accuracy {round(acc, 2)}%\")"
   ]
  },
  {
   "cell_type": "markdown",
   "metadata": {},
   "source": [
    "#### <span style=\"color:red\"> Conclusion: No Model with accuracy</span>"
   ]
  },
  {
   "cell_type": "code",
   "execution_count": null,
   "metadata": {},
   "outputs": [],
   "source": []
  },
  {
   "cell_type": "markdown",
   "metadata": {},
   "source": [
    "#### a) selection of features by logic"
   ]
  },
  {
   "cell_type": "code",
   "execution_count": null,
   "metadata": {},
   "outputs": [],
   "source": []
  },
  {
   "cell_type": "code",
   "execution_count": 98,
   "metadata": {},
   "outputs": [],
   "source": [
    "ds = reload()\n",
    "## selection of features by logic\n",
    "try1 = ['PB140: YEAR OF BIRTH',\n",
    " 'PB150: SEX',\n",
    " 'PB190: MARITAL STATUS',\n",
    " 'PE040: HIGHEST ISCED LEVEL ATTAINED',\n",
    " 'PL031: SELF-DEFINED CURRENT ECONOMIC STATUS',\n",
    " 'PL035: WORKED AT LEAST 1 HOUR DURING THE PREVIOUS WEEK',\n",
    " 'PL051: OCCUPATION (ISCO-08 (COM))',\n",
    " 'PH010: GENERAL HEALTH',\n",
    " 'PW010: OVERALL LIFE SATISFACTION',\n",
    " 'PW080: FEELING DOWNHEARTED OR DEPRESSED',\n",
    " 'PW090: BEING HAPPY',\n",
    " 'PW180: HELP FROM OTHERS',\n",
    " 'PW190: TRUST IN OTHERS']\n",
    "\n",
    "ds=ds[ds['PY010G: INCOME']!=0]"
   ]
  },
  {
   "cell_type": "code",
   "execution_count": 95,
   "metadata": {},
   "outputs": [
    {
     "data": {
      "text/plain": [
       "count       393.000000\n",
       "mean      29572.861221\n",
       "std       24001.205225\n",
       "min          93.570000\n",
       "25%       11053.060000\n",
       "50%       25937.860000\n",
       "75%       39237.530000\n",
       "max      144068.630000\n",
       "Name: PY010G: INCOME, dtype: float64"
      ]
     },
     "execution_count": 95,
     "metadata": {},
     "output_type": "execute_result"
    },
    {
     "data": {
      "image/png": "[encoded data removed]",
      "text/plain": [
       "<Figure size 432x288 with 1 Axes>"
      ]
     },
     "metadata": {
      "needs_background": "light"
     },
     "output_type": "display_data"
    }
   ],
   "source": [
    "plt.scatter(ds['PB140: YEAR OF BIRTH'],ds['PY010G: INCOME'])\n",
    "ds['PY010G: INCOME'].describe()"
   ]
  },
  {
   "cell_type": "code",
   "execution_count": 96,
   "metadata": {},
   "outputs": [
    {
     "name": "stdout",
     "output_type": "stream",
     "text": [
      "X:  PB140: YEAR OF BIRTH\n",
      "Y:  PY010G: INCOME \n",
      "\n",
      "Intercept:  30519.331496815284\n",
      "Coef:  [0.]\n",
      "linear aMSE:  17605.733448762392\n",
      "linear MSE:  529604547.9987507\n",
      "linear R2:  -0.0013134368864442525 \n",
      "\n",
      "Regression Tree aMSE:  17605.733448762396\n",
      "Regression Tree MSE:  529604547.9987505\n",
      "Regression Tree R2:  -0.0013134368864440304 \n",
      "\n",
      "KNeighbores aMSE:  19169.65447257384\n",
      "KNeighbores MSE:  561527233.334379\n",
      "KNeighbores R2:  -0.06166906239768499\n"
     ]
    }
   ],
   "source": [
    "regmodel('PB140: YEAR OF BIRTH','PY010G: INCOME','yes' , 'no', 'Normalizer')"
   ]
  },
  {
   "cell_type": "code",
   "execution_count": 99,
   "metadata": {},
   "outputs": [
    {
     "name": "stdout",
     "output_type": "stream",
     "text": [
      "PB140: YEAR OF BIRTH [1, 0, 2, NaN]\n",
      "Categories (3, int64): [0 < 1 < 2]\n",
      "PB150: SEX [1 0]\n",
      "PB190: MARITAL STATUS [0, NaN, 2, 1]\n",
      "Categories (3, int64): [0 < 1 < 2]\n",
      "PE040: HIGHEST ISCED LEVEL ATTAINED [2, 1, NaN, 0]\n",
      "Categories (3, int64): [0 < 1 < 2]\n",
      "PL031: SELF-DEFINED CURRENT ECONOMIC STATUS [0, 1, NaN, 2]\n",
      "Categories (3, int64): [0 < 1 < 2]\n",
      "PL035: WORKED AT LEAST 1 HOUR DURING THE PREVIOUS WEEK [1 2]\n",
      "PL051: OCCUPATION (ISCO-08 (COM)) [1, 0, 2, NaN]\n",
      "Categories (3, int64): [0 < 1 < 2]\n",
      "PH010: GENERAL HEALTH [1, 0, NaN, 2]\n",
      "Categories (3, int64): [0 < 1 < 2]\n",
      "PW010: OVERALL LIFE SATISFACTION [0, NaN, 2]\n",
      "Categories (2, int64): [0 < 2]\n",
      "PW080: FEELING DOWNHEARTED OR DEPRESSED [1, 0, 2, NaN]\n",
      "Categories (3, int64): [0 < 1 < 2]\n",
      "PW090: BEING HAPPY [0, NaN, 2, 1]\n",
      "Categories (3, int64): [0 < 1 < 2]\n",
      "PW180: HELP FROM OTHERS [1. 9. 2.]\n",
      "PW190: TRUST IN OTHERS [0, NaN, 2]\n",
      "Categories (2, int64): [0 < 2]\n",
      "[0, NaN, 1]\n",
      "Categories (2, int64): [0 < 1]\n",
      "X:  ['PB140: YEAR OF BIRTH', 'PB150: SEX', 'PB190: MARITAL STATUS', 'PE040: HIGHEST ISCED LEVEL ATTAINED', 'PL031: SELF-DEFINED CURRENT ECONOMIC STATUS', 'PL035: WORKED AT LEAST 1 HOUR DURING THE PREVIOUS WEEK', 'PL051: OCCUPATION (ISCO-08 (COM))', 'PH010: GENERAL HEALTH', 'PW010: OVERALL LIFE SATISFACTION', 'PW080: FEELING DOWNHEARTED OR DEPRESSED', 'PW090: BEING HAPPY', 'PW180: HELP FROM OTHERS', 'PW190: TRUST IN OTHERS']\n",
      "Y:  PW130: TRUST IN THE POLITICAL SYSTEM \n",
      "\n",
      "Logistic regression - accuracy:  29.11\n",
      "Logistic regression - precision nan \n",
      "\n",
      "Decision tree - accuracy   13.92\n",
      "Decision tree - precision 100.0 \n",
      "\n",
      "[[2 1 1 0 1 0 0 0 0 0 0]\n",
      " [0 0 0 0 0 0 0 0 0 0 0]\n",
      " [0 1 0 0 1 4 0 0 0 0 0]\n",
      " [0 2 3 1 1 1 1 0 0 0 0]\n",
      " [0 0 1 0 0 0 0 0 1 0 0]\n",
      " [1 3 1 1 2 9 0 5 1 0 0]\n",
      " [3 1 0 1 1 3 1 0 1 0 0]\n",
      " [0 2 3 0 0 2 1 0 0 0 0]\n",
      " [1 0 2 1 2 2 0 2 0 0 0]\n",
      " [1 1 0 0 0 0 0 0 0 0 0]\n",
      " [1 0 0 0 0 0 1 0 1 0 0]]\n",
      "KNeighborsClassifier - accuracy   16.46\n",
      "KNeighborsClassifier - precision 100.0 \n",
      "\n"
     ]
    },
    {
     "name": "stderr",
     "output_type": "stream",
     "text": [
      "C:\\Users\\haenni\\AppData\\Local\\Continuum\\anaconda3\\lib\\site-packages\\sklearn\\linear_model\\logistic.py:432: FutureWarning: Default solver will be changed to 'lbfgs' in 0.22. Specify a solver to silence this warning.\n",
      "  FutureWarning)\n",
      "C:\\Users\\haenni\\AppData\\Local\\Continuum\\anaconda3\\lib\\site-packages\\sklearn\\linear_model\\logistic.py:469: FutureWarning: Default multi_class will be changed to 'auto' in 0.22. Specify the multi_class option to silence this warning.\n",
      "  \"this warning.\", FutureWarning)\n",
      "C:\\Users\\haenni\\AppData\\Local\\Continuum\\anaconda3\\lib\\site-packages\\ipykernel_launcher.py:23: RuntimeWarning: invalid value encountered in longlong_scalars\n"
     ]
    }
   ],
   "source": [
    "tryclass_bin(try1,'PW130: TRUST IN THE POLITICAL SYSTEM',3, 'yes' , 'no', 'Normalizer')"
   ]
  },
  {
   "cell_type": "code",
   "execution_count": null,
   "metadata": {},
   "outputs": [],
   "source": [
    "#tryclass_multi(xes,yli,nrbinx, nrbiny)\n",
    "#tryclass_multi(try1,'PW130: TRUST IN THE POLITICAL SYSTEM',4,4, 'yes' , 'yes', 'Normalizer')"
   ]
  },
  {
   "cell_type": "code",
   "execution_count": null,
   "metadata": {},
   "outputs": [],
   "source": [
    "###  try2 only with prior features based on RFE"
   ]
  },
  {
   "cell_type": "code",
   "execution_count": 100,
   "metadata": {
    "scrolled": true
   },
   "outputs": [
    {
     "name": "stdout",
     "output_type": "stream",
     "text": [
      "6\n"
     ]
    }
   ],
   "source": [
    "ds=reload()\n",
    "try2 =generateRFE (ds[try1], ds['PW130: TRUST IN THE POLITICAL SYSTEM'], 2)"
   ]
  },
  {
   "cell_type": "code",
   "execution_count": 101,
   "metadata": {},
   "outputs": [],
   "source": [
    "#for x in range(2,6):\n",
    " #   tryclass_multi(try1,'PW130: TRUST IN THE POLITICAL SYSTEM',x,x, 'yes' , 'yes', 'Normalizer')\n"
   ]
  },
  {
   "cell_type": "markdown",
   "metadata": {},
   "source": [
    "other way of binning:\n",
    "\n",
    "\n",
    "ds=reload()\n",
    "ds[yli]=ds[yli].apply(lambda x: 2 if (x <=2) & (x!=-1) else x)\n",
    "ds[yli]=ds[yli].apply(lambda x: 4 if (x ==3) & (x==4) else x)\n",
    "ds[yli]=ds[yli].apply(lambda x: 4 if (x ==3) & (x==4) else x)\n",
    "ds[yli] =ds[yli].apply(lambda x: 6 if ((x ==6) | (x==7)) else x)\n",
    "ds[yli].unique()\n",
    "ds[yli].hist()"
   ]
  },
  {
   "cell_type": "markdown",
   "metadata": {},
   "source": [
    "#### c) based on RFE- all"
   ]
  },
  {
   "cell_type": "code",
   "execution_count": 115,
   "metadata": {},
   "outputs": [
    {
     "name": "stdout",
     "output_type": "stream",
     "text": [
      "4\n"
     ]
    }
   ],
   "source": [
    "## based on RFE all columns\n",
    "try3 = ['PE010: CURRENT EDUCATION ACTIVITY',\n",
    " 'PD050: Get-together with friends/family (relatives) for a drink/meal at least once a month',\n",
    " 'PW070: FEELING CALM AND PEACEFUL',\n",
    " 'PW220: PHYSICAL SECURITY']\n",
    "\n",
    "#try3\n",
    "xes = generateRFE(ds[try3], ds[yli], 8)"
   ]
  },
  {
   "cell_type": "markdown",
   "metadata": {},
   "source": [
    "RFE with Dummy-Features"
   ]
  },
  {
   "cell_type": "code",
   "execution_count": 116,
   "metadata": {},
   "outputs": [
    {
     "data": {
      "text/plain": [
       "{'PB150: SEX',\n",
       " 'PB190: MARITAL STATUS',\n",
       " 'PB200: CONSENSUAL UNION',\n",
       " 'PB220A: CITIZENSHIP',\n",
       " 'PD050: Get-together with friends/family (relatives) for a drink/meal at least once a month',\n",
       " 'PD060: Regularly participate in a leisure activity',\n",
       " 'PE010: CURRENT EDUCATION ACTIVITY',\n",
       " 'PH040: UNMET NEED FOR MEDICAL EXAMINATION OR TREATMENT',\n",
       " 'PH060: UNMET NEED FOR DENTAL EXAMINATION OR TREATMENT',\n",
       " 'PL031: SELF-DEFINED CURRENT ECONOMIC STATUS',\n",
       " 'PL035: WORKED AT LEAST 1 HOUR DURING THE PREVIOUS WEEK',\n",
       " 'PL051: OCCUPATION (ISCO-08 (COM))'}"
      ]
     },
     "execution_count": 116,
     "metadata": {},
     "output_type": "execute_result"
    }
   ],
   "source": [
    "## do rfe with dummy-features\n",
    "ds=reload()\n",
    "categorical= ['PB150: SEX', 'PB190: MARITAL STATUS',\n",
    "       'PB200: CONSENSUAL UNION', 'PB220A: CITIZENSHIP',\n",
    "       'PE010: CURRENT EDUCATION ACTIVITY',\n",
    "       'PL031: SELF-DEFINED CURRENT ECONOMIC STATUS',\n",
    "       'PL035: WORKED AT LEAST 1 HOUR DURING THE PREVIOUS WEEK',\n",
    "       'PL051: OCCUPATION (ISCO-08 (COM))', 'PL150: MANAGERIAL POSITION',\n",
    "        'PH030: LIMITATION IN ACTIVITIES BECAUSE OF HEALTH PROBLEMS',\n",
    "       'PH040: UNMET NEED FOR MEDICAL EXAMINATION OR TREATMENT',\n",
    "       'PH060: UNMET NEED FOR DENTAL EXAMINATION OR TREATMENT',\n",
    "       'PD020: Replace worn-out clothes by some new (not second-hand) ones',\n",
    "       'PD030: Two pairs of properly fitting shoes',\n",
    "       'PD050: Get-together with friends/family (relatives) for a drink/meal at least once a month',\n",
    "       'PD060: Regularly participate in a leisure activity',\n",
    "       'PD070: Spend a small amount of money each week on yourself',\n",
    "       'PD080: Internet connection for personal use at home',\n",
    "      ]\n",
    "#columns.remove(yli)\n",
    "create_dummy=set(columns).intersection(categorical)\n",
    "create_dummy"
   ]
  },
  {
   "cell_type": "code",
   "execution_count": 118,
   "metadata": {
    "scrolled": true
   },
   "outputs": [
    {
     "name": "stdout",
     "output_type": "stream",
     "text": [
      "Decision Tree Test Accuracy 100.0%\n",
      "SVM Algorithm Test Accuracy 100.0%\n"
     ]
    },
    {
     "name": "stderr",
     "output_type": "stream",
     "text": [
      "C:\\Users\\haenni\\AppData\\Local\\Continuum\\anaconda3\\lib\\site-packages\\sklearn\\svm\\base.py:193: FutureWarning: The default value of gamma will change from 'auto' to 'scale' in version 0.22 to account better for unscaled features. Set gamma explicitly to 'auto' or 'scale' to avoid this warning.\n",
      "  \"avoid this warning.\", FutureWarning)\n"
     ]
    }
   ],
   "source": [
    "#### b) DecisionTree Classify\n",
    "\n",
    "dtc = DecisionTreeClassifier()#class_weight='balanced')#max_features=10,\n",
    "dtc.fit(X_train, y_train)\n",
    "y_pred = dtc.predict(X_test)\n",
    "\n",
    "acc = dtc.score(X_test, y_test)*100\n",
    "print(f\"Decision Tree Test Accuracy {round(acc, 2)}%\")\n",
    " \n",
    "\n",
    "#### c) Support Vector Maschine\n",
    "svm = SVC(decision_function_shape='ovo')\n",
    "svm.fit(X_train, y_train)\n",
    "y_pred = svm.predict(X_test)\n",
    "acc = svm.score(X_test,y_test)*100\n",
    "print(f\"SVM Algorithm Test Accuracy {round(acc, 2)}%\")"
   ]
  },
  {
   "cell_type": "markdown",
   "metadata": {},
   "source": [
    "#### <span style=\"color:red\"> Conclusion: No Model with accuracy</span>"
   ]
  }
 ],
 "metadata": {
  "kernelspec": {
   "display_name": "Python 3",
   "language": "python",
   "name": "python3"
  },
  "language_info": {
   "codemirror_mode": {
    "name": "ipython",
    "version": 3
   },
   "file_extension": ".py",
   "mimetype": "text/x-python",
   "name": "python",
   "nbconvert_exporter": "python",
   "pygments_lexer": "ipython3",
   "version": "3.7.4"
  }
 },
 "nbformat": 4,
 "nbformat_minor": 2
}
