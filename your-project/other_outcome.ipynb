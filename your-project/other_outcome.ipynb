{
 "cells": [
  {
   "cell_type": "markdown",
   "metadata": {},
   "source": [
    "# DS and ML"
   ]
  },
  {
   "cell_type": "code",
   "execution_count": 951,
   "metadata": {},
   "outputs": [],
   "source": [
    "import numpy as np\n",
    "import pandas as pd\n",
    "import matplotlib.pyplot as plt\n",
    "import seaborn as sns\n",
    "\n",
    "from pandas_profiling import ProfileReport"
   ]
  },
  {
   "cell_type": "code",
   "execution_count": 952,
   "metadata": {},
   "outputs": [],
   "source": [
    "## classification ml:\n",
    "from sklearn.linear_model import LogisticRegression\n",
    "from sklearn.model_selection import train_test_split\n",
    "from sklearn.metrics import accuracy_score\n",
    "from sklearn.tree import DecisionTreeClassifier\n",
    "from sklearn.svm import SVC\n",
    "from sklearn.neighbors import KNeighborsClassifier\n",
    "from sklearn.metrics import confusion_matrix"
   ]
  },
  {
   "cell_type": "code",
   "execution_count": 992,
   "metadata": {},
   "outputs": [],
   "source": [
    "## regression ml\n",
    "from sklearn.linear_model import LinearRegression\n",
    "from sklearn.datasets import load_boston\n",
    "from sklearn.preprocessing import PolynomialFeatures, StandardScaler\n",
    "from sklearn.preprocessing import MinMaxScaler\n",
    "from sklearn.model_selection import train_test_split\n",
    "from sklearn.pipeline import make_pipeline\n",
    "from sklearn.tree import DecisionTreeRegressor\n",
    "from sklearn.tree.export import export_text\n",
    "from sklearn.neighbors import KNeighborsRegressor"
   ]
  },
  {
   "cell_type": "code",
   "execution_count": 954,
   "metadata": {},
   "outputs": [],
   "source": [
    "### evaluation\n",
    "from sklearn.metrics import mean_absolute_error\n",
    "from sklearn.metrics import mean_squared_error\n",
    "from sklearn.metrics import r2_score"
   ]
  },
  {
   "cell_type": "code",
   "execution_count": 955,
   "metadata": {},
   "outputs": [],
   "source": [
    "### optimize model\n",
    "from sklearn.feature_selection import RFE\n",
    "from sklearn.decomposition import PCA, FastICA"
   ]
  },
  {
   "cell_type": "code",
   "execution_count": 998,
   "metadata": {},
   "outputs": [],
   "source": [
    "ds = pd.read_csv('./data/politic_satisfaction_cleaned.csv', index_col=0)"
   ]
  },
  {
   "cell_type": "markdown",
   "metadata": {},
   "source": [
    "# 1. Data Exploration"
   ]
  },
  {
   "cell_type": "markdown",
   "metadata": {},
   "source": [
    "## 2.1. Descriptive Statistics"
   ]
  },
  {
   "cell_type": "code",
   "execution_count": 957,
   "metadata": {
    "scrolled": true
   },
   "outputs": [
    {
     "data": {
      "text/html": [
       "<div>\n",
       "<style scoped>\n",
       "    .dataframe tbody tr th:only-of-type {\n",
       "        vertical-align: middle;\n",
       "    }\n",
       "\n",
       "    .dataframe tbody tr th {\n",
       "        vertical-align: top;\n",
       "    }\n",
       "\n",
       "    .dataframe thead th {\n",
       "        text-align: right;\n",
       "    }\n",
       "</style>\n",
       "<table border=\"1\" class=\"dataframe\">\n",
       "  <thead>\n",
       "    <tr style=\"text-align: right;\">\n",
       "      <th></th>\n",
       "      <th>PB030: PERSONAL ID</th>\n",
       "      <th>PB020: COUNTRY</th>\n",
       "      <th>PB010: YEAR OF THE SURVEY</th>\n",
       "      <th>PB140: YEAR OF BIRTH</th>\n",
       "      <th>PB150: SEX</th>\n",
       "      <th>PB190: MARITAL STATUS</th>\n",
       "      <th>PB200: CONSENSUAL UNION</th>\n",
       "      <th>PB220A: CITIZENSHIP</th>\n",
       "      <th>PE010: CURRENT EDUCATION ACTIVITY</th>\n",
       "      <th>PE040: HIGHEST ISCED LEVEL ATTAINED</th>\n",
       "      <th>...</th>\n",
       "      <th>PY120G: SICKNESS BENEFITS</th>\n",
       "      <th>PY130G: DISABILITY BENEFITS</th>\n",
       "      <th>PY140G: EDUCATION-RELATED ALLOWANCES</th>\n",
       "      <th>PD020: Replace worn-out clothes by some new (not second-hand) ones</th>\n",
       "      <th>PD030: Two pairs of properly fitting shoes</th>\n",
       "      <th>PD050: Get-together with friends/family (relatives) for a drink/meal at least once a month</th>\n",
       "      <th>PD060: Regularly participate in a leisure activity</th>\n",
       "      <th>PD070: Spend a small amount of money each week on yourself</th>\n",
       "      <th>PD080: Internet connection for personal use at home</th>\n",
       "      <th>PW130: TRUST IN THE POLITICAL SYSTEM</th>\n",
       "    </tr>\n",
       "  </thead>\n",
       "  <tbody>\n",
       "    <tr>\n",
       "      <td>0</td>\n",
       "      <td>35601</td>\n",
       "      <td>DE</td>\n",
       "      <td>2013</td>\n",
       "      <td>1977</td>\n",
       "      <td>1</td>\n",
       "      <td>2.0</td>\n",
       "      <td>3</td>\n",
       "      <td>0</td>\n",
       "      <td>2</td>\n",
       "      <td>3.0</td>\n",
       "      <td>...</td>\n",
       "      <td>0.0</td>\n",
       "      <td>0.0</td>\n",
       "      <td>0.0</td>\n",
       "      <td>1.0</td>\n",
       "      <td>1.0</td>\n",
       "      <td>3.0</td>\n",
       "      <td>1.0</td>\n",
       "      <td>1.0</td>\n",
       "      <td>1.0</td>\n",
       "      <td>3.0</td>\n",
       "    </tr>\n",
       "    <tr>\n",
       "      <td>1</td>\n",
       "      <td>44701</td>\n",
       "      <td>DE</td>\n",
       "      <td>2013</td>\n",
       "      <td>1936</td>\n",
       "      <td>1</td>\n",
       "      <td>2.0</td>\n",
       "      <td>1</td>\n",
       "      <td>0</td>\n",
       "      <td>2</td>\n",
       "      <td>2.0</td>\n",
       "      <td>...</td>\n",
       "      <td>0.0</td>\n",
       "      <td>0.0</td>\n",
       "      <td>0.0</td>\n",
       "      <td>2.0</td>\n",
       "      <td>3.0</td>\n",
       "      <td>1.0</td>\n",
       "      <td>1.0</td>\n",
       "      <td>1.0</td>\n",
       "      <td>1.0</td>\n",
       "      <td>7.0</td>\n",
       "    </tr>\n",
       "    <tr>\n",
       "      <td>2</td>\n",
       "      <td>59901</td>\n",
       "      <td>DE</td>\n",
       "      <td>2013</td>\n",
       "      <td>1952</td>\n",
       "      <td>2</td>\n",
       "      <td>2.0</td>\n",
       "      <td>3</td>\n",
       "      <td>0</td>\n",
       "      <td>1</td>\n",
       "      <td>5.0</td>\n",
       "      <td>...</td>\n",
       "      <td>0.0</td>\n",
       "      <td>0.0</td>\n",
       "      <td>0.0</td>\n",
       "      <td>3.0</td>\n",
       "      <td>1.0</td>\n",
       "      <td>1.0</td>\n",
       "      <td>1.0</td>\n",
       "      <td>1.0</td>\n",
       "      <td>1.0</td>\n",
       "      <td>3.0</td>\n",
       "    </tr>\n",
       "    <tr>\n",
       "      <td>3</td>\n",
       "      <td>71101</td>\n",
       "      <td>DE</td>\n",
       "      <td>2013</td>\n",
       "      <td>1938</td>\n",
       "      <td>2</td>\n",
       "      <td>2.0</td>\n",
       "      <td>3</td>\n",
       "      <td>0</td>\n",
       "      <td>2</td>\n",
       "      <td>2.0</td>\n",
       "      <td>...</td>\n",
       "      <td>0.0</td>\n",
       "      <td>0.0</td>\n",
       "      <td>0.0</td>\n",
       "      <td>3.0</td>\n",
       "      <td>1.0</td>\n",
       "      <td>1.0</td>\n",
       "      <td>3.0</td>\n",
       "      <td>1.0</td>\n",
       "      <td>1.0</td>\n",
       "      <td>5.0</td>\n",
       "    </tr>\n",
       "    <tr>\n",
       "      <td>4</td>\n",
       "      <td>79501</td>\n",
       "      <td>DE</td>\n",
       "      <td>2013</td>\n",
       "      <td>1950</td>\n",
       "      <td>2</td>\n",
       "      <td>5.0</td>\n",
       "      <td>3</td>\n",
       "      <td>0</td>\n",
       "      <td>2</td>\n",
       "      <td>3.0</td>\n",
       "      <td>...</td>\n",
       "      <td>0.0</td>\n",
       "      <td>0.0</td>\n",
       "      <td>0.0</td>\n",
       "      <td>1.0</td>\n",
       "      <td>1.0</td>\n",
       "      <td>2.0</td>\n",
       "      <td>1.0</td>\n",
       "      <td>1.0</td>\n",
       "      <td>3.0</td>\n",
       "      <td>0.0</td>\n",
       "    </tr>\n",
       "  </tbody>\n",
       "</table>\n",
       "<p>5 rows × 36 columns</p>\n",
       "</div>"
      ],
      "text/plain": [
       "   PB030: PERSONAL ID PB020: COUNTRY  PB010: YEAR OF THE SURVEY  \\\n",
       "0               35601             DE                       2013   \n",
       "1               44701             DE                       2013   \n",
       "2               59901             DE                       2013   \n",
       "3               71101             DE                       2013   \n",
       "4               79501             DE                       2013   \n",
       "\n",
       "   PB140: YEAR OF BIRTH  PB150: SEX  PB190: MARITAL STATUS  \\\n",
       "0                  1977           1                    2.0   \n",
       "1                  1936           1                    2.0   \n",
       "2                  1952           2                    2.0   \n",
       "3                  1938           2                    2.0   \n",
       "4                  1950           2                    5.0   \n",
       "\n",
       "   PB200: CONSENSUAL UNION  PB220A: CITIZENSHIP  \\\n",
       "0                        3                    0   \n",
       "1                        1                    0   \n",
       "2                        3                    0   \n",
       "3                        3                    0   \n",
       "4                        3                    0   \n",
       "\n",
       "   PE010: CURRENT EDUCATION ACTIVITY  PE040: HIGHEST ISCED LEVEL ATTAINED  \\\n",
       "0                                  2                                  3.0   \n",
       "1                                  2                                  2.0   \n",
       "2                                  1                                  5.0   \n",
       "3                                  2                                  2.0   \n",
       "4                                  2                                  3.0   \n",
       "\n",
       "   ...  PY120G: SICKNESS BENEFITS  PY130G: DISABILITY BENEFITS  \\\n",
       "0  ...                        0.0                          0.0   \n",
       "1  ...                        0.0                          0.0   \n",
       "2  ...                        0.0                          0.0   \n",
       "3  ...                        0.0                          0.0   \n",
       "4  ...                        0.0                          0.0   \n",
       "\n",
       "   PY140G: EDUCATION-RELATED ALLOWANCES  \\\n",
       "0                                   0.0   \n",
       "1                                   0.0   \n",
       "2                                   0.0   \n",
       "3                                   0.0   \n",
       "4                                   0.0   \n",
       "\n",
       "   PD020: Replace worn-out clothes by some new (not second-hand) ones  \\\n",
       "0                                                1.0                    \n",
       "1                                                2.0                    \n",
       "2                                                3.0                    \n",
       "3                                                3.0                    \n",
       "4                                                1.0                    \n",
       "\n",
       "   PD030: Two pairs of properly fitting shoes  \\\n",
       "0                                         1.0   \n",
       "1                                         3.0   \n",
       "2                                         1.0   \n",
       "3                                         1.0   \n",
       "4                                         1.0   \n",
       "\n",
       "   PD050: Get-together with friends/family (relatives) for a drink/meal at least once a month  \\\n",
       "0                                                3.0                                            \n",
       "1                                                1.0                                            \n",
       "2                                                1.0                                            \n",
       "3                                                1.0                                            \n",
       "4                                                2.0                                            \n",
       "\n",
       "   PD060: Regularly participate in a leisure activity  \\\n",
       "0                                                1.0    \n",
       "1                                                1.0    \n",
       "2                                                1.0    \n",
       "3                                                3.0    \n",
       "4                                                1.0    \n",
       "\n",
       "   PD070: Spend a small amount of money each week on yourself  \\\n",
       "0                                                1.0            \n",
       "1                                                1.0            \n",
       "2                                                1.0            \n",
       "3                                                1.0            \n",
       "4                                                1.0            \n",
       "\n",
       "   PD080: Internet connection for personal use at home  \\\n",
       "0                                                1.0     \n",
       "1                                                1.0     \n",
       "2                                                1.0     \n",
       "3                                                1.0     \n",
       "4                                                3.0     \n",
       "\n",
       "   PW130: TRUST IN THE POLITICAL SYSTEM  \n",
       "0                                   3.0  \n",
       "1                                   7.0  \n",
       "2                                   3.0  \n",
       "3                                   5.0  \n",
       "4                                   0.0  \n",
       "\n",
       "[5 rows x 36 columns]"
      ]
     },
     "execution_count": 957,
     "metadata": {},
     "output_type": "execute_result"
    }
   ],
   "source": [
    "ds.head()"
   ]
  },
  {
   "cell_type": "code",
   "execution_count": 958,
   "metadata": {},
   "outputs": [
    {
     "data": {
      "text/plain": [
       "Index(['PB030: PERSONAL ID', 'PB020: COUNTRY', 'PB010: YEAR OF THE SURVEY',\n",
       "       'PB140: YEAR OF BIRTH', 'PB150: SEX', 'PB190: MARITAL STATUS',\n",
       "       'PB200: CONSENSUAL UNION', 'PB220A: CITIZENSHIP',\n",
       "       'PE010: CURRENT EDUCATION ACTIVITY',\n",
       "       'PE040: HIGHEST ISCED LEVEL ATTAINED',\n",
       "       'PL031: SELF-DEFINED CURRENT ECONOMIC STATUS',\n",
       "       'PL035: WORKED AT LEAST 1 HOUR DURING THE PREVIOUS WEEK',\n",
       "       'PL051: OCCUPATION (ISCO-08 (COM))', 'PL150: MANAGERIAL POSITION',\n",
       "       'PH010: GENERAL HEALTH',\n",
       "       'PH020: SUFFER FROM ANY A CHRONIC (LONG-STANDING) ILLNESS OR CONDITION',\n",
       "       'PH030: LIMITATION IN ACTIVITIES BECAUSE OF HEALTH PROBLEMS',\n",
       "       'PH040: UNMET NEED FOR MEDICAL EXAMINATION OR TREATMENT',\n",
       "       'PH060: UNMET NEED FOR DENTAL EXAMINATION OR TREATMENT',\n",
       "       'PY010G_PY020G_PY021G_PY050G: EMPLOYEE INCOME',\n",
       "       'PY035G: CONTRIBUTIONS TO INDIVIDUAL PRIVATE PENSION PLANS',\n",
       "       'PY080G: PENSION FROM INDIVIDUAL PRIVATE PLANS',\n",
       "       'PY090G++: SOCIAL BENEFITS', 'PY090G: UNEMPLOYMENT BENEFITS',\n",
       "       'PY100G: OLD-AGE BENEFITS', 'PY110G: SURVIVOR’ BENEFITS',\n",
       "       'PY120G: SICKNESS BENEFITS', 'PY130G: DISABILITY BENEFITS',\n",
       "       'PY140G: EDUCATION-RELATED ALLOWANCES',\n",
       "       'PD020: Replace worn-out clothes by some new (not second-hand) ones',\n",
       "       'PD030: Two pairs of properly fitting shoes',\n",
       "       'PD050: Get-together with friends/family (relatives) for a drink/meal at least once a month',\n",
       "       'PD060: Regularly participate in a leisure activity',\n",
       "       'PD070: Spend a small amount of money each week on yourself',\n",
       "       'PD080: Internet connection for personal use at home',\n",
       "       'PW130: TRUST IN THE POLITICAL SYSTEM'],\n",
       "      dtype='object')"
      ]
     },
     "execution_count": 958,
     "metadata": {},
     "output_type": "execute_result"
    }
   ],
   "source": [
    "ds.columns"
   ]
  },
  {
   "cell_type": "code",
   "execution_count": 959,
   "metadata": {
    "scrolled": true
   },
   "outputs": [
    {
     "data": {
      "text/plain": [
       "PB030: PERSONAL ID                                                                              int64\n",
       "PB020: COUNTRY                                                                                 object\n",
       "PB010: YEAR OF THE SURVEY                                                                       int64\n",
       "PB140: YEAR OF BIRTH                                                                            int64\n",
       "PB150: SEX                                                                                      int64\n",
       "PB190: MARITAL STATUS                                                                         float64\n",
       "PB200: CONSENSUAL UNION                                                                         int64\n",
       "PB220A: CITIZENSHIP                                                                             int64\n",
       "PE010: CURRENT EDUCATION ACTIVITY                                                               int64\n",
       "PE040: HIGHEST ISCED LEVEL ATTAINED                                                           float64\n",
       "PL031: SELF-DEFINED CURRENT ECONOMIC STATUS                                                   float64\n",
       "PL035: WORKED AT LEAST 1 HOUR DURING THE PREVIOUS WEEK                                          int64\n",
       "PL051: OCCUPATION (ISCO-08 (COM))                                                             float64\n",
       "PL150: MANAGERIAL POSITION                                                                    float64\n",
       "PH010: GENERAL HEALTH                                                                         float64\n",
       "PH020: SUFFER FROM ANY A CHRONIC (LONG-STANDING) ILLNESS OR CONDITION                         float64\n",
       "PH030: LIMITATION IN ACTIVITIES BECAUSE OF HEALTH PROBLEMS                                    float64\n",
       "PH040: UNMET NEED FOR MEDICAL EXAMINATION OR TREATMENT                                          int64\n",
       "PH060: UNMET NEED FOR DENTAL EXAMINATION OR TREATMENT                                           int64\n",
       "PY010G_PY020G_PY021G_PY050G: EMPLOYEE INCOME                                                  float64\n",
       "PY035G: CONTRIBUTIONS TO INDIVIDUAL PRIVATE PENSION PLANS                                       int64\n",
       "PY080G: PENSION FROM INDIVIDUAL PRIVATE PLANS                                                 float64\n",
       "PY090G++: SOCIAL BENEFITS                                                                     float64\n",
       "PY090G: UNEMPLOYMENT BENEFITS                                                                 float64\n",
       "PY100G: OLD-AGE BENEFITS                                                                      float64\n",
       "PY110G: SURVIVOR’ BENEFITS                                                                    float64\n",
       "PY120G: SICKNESS BENEFITS                                                                     float64\n",
       "PY130G: DISABILITY BENEFITS                                                                   float64\n",
       "PY140G: EDUCATION-RELATED ALLOWANCES                                                          float64\n",
       "PD020: Replace worn-out clothes by some new (not second-hand) ones                            float64\n",
       "PD030: Two pairs of properly fitting shoes                                                    float64\n",
       "PD050: Get-together with friends/family (relatives) for a drink/meal at least once a month    float64\n",
       "PD060: Regularly participate in a leisure activity                                            float64\n",
       "PD070: Spend a small amount of money each week on yourself                                    float64\n",
       "PD080: Internet connection for personal use at home                                           float64\n",
       "PW130: TRUST IN THE POLITICAL SYSTEM                                                          float64\n",
       "dtype: object"
      ]
     },
     "execution_count": 959,
     "metadata": {},
     "output_type": "execute_result"
    }
   ],
   "source": [
    "ds.dtypes"
   ]
  },
  {
   "cell_type": "code",
   "execution_count": 960,
   "metadata": {},
   "outputs": [],
   "source": [
    "# should i change float to int? at the moment i dont care if they are floats or int"
   ]
  },
  {
   "cell_type": "code",
   "execution_count": 961,
   "metadata": {},
   "outputs": [],
   "source": [
    "#from pandas_profiling import ProfileReport\n",
    "\n",
    "#profile = ProfileReport(ds, title='Pandas Profiling Report')\n",
    "\n",
    "#profile.to_notebook_iframe()\n"
   ]
  },
  {
   "cell_type": "markdown",
   "metadata": {},
   "source": [
    "##### conclusion\n",
    "per column\n",
    "- PB010 YEAR_of Survey: singel value, only needed, if i add more datas --> drop colum\n",
    "- PB020 COUntry: same as with year--> drop column\n",
    "- PB150_sex: almost equally balanced\n",
    "- PH...healt: a lot of 8 = \"dont know\" --> test to drop them? or to change to other value?s\n",
    "\n",
    "\n",
    "overall: \n",
    "- a lot of imbalanced data --> check later if balancing needed\n",
    "- a lot of categorical data, but not all within the same range  --> try to use different scaler later\n",
    "- some categorical data have a meaning (1-10), where 10 is better. other like \"self defined curent status\" / \"occupation\": no meaning\n",
    "- a lot of skeewed datas, because either 0 or a value --> use other scaler?\n",
    "- correlation --> pca/ica"
   ]
  },
  {
   "cell_type": "code",
   "execution_count": 999,
   "metadata": {},
   "outputs": [],
   "source": [
    "ds1 = ds.drop('PB010: YEAR OF THE SURVEY', axis=1)"
   ]
  },
  {
   "cell_type": "code",
   "execution_count": 1000,
   "metadata": {},
   "outputs": [],
   "source": [
    "ds1 = ds.drop('PB020: COUNTRY', axis=1)"
   ]
  },
  {
   "cell_type": "markdown",
   "metadata": {},
   "source": [
    "### 2.2. Correlation "
   ]
  },
  {
   "cell_type": "code",
   "execution_count": 1001,
   "metadata": {},
   "outputs": [
    {
     "data": {
      "text/plain": [
       "<matplotlib.axes._subplots.AxesSubplot at 0x492c43d4b288>"
      ]
     },
     "execution_count": 1001,
     "metadata": {},
     "output_type": "execute_result"
    },
    {
     "data": {
      "image/png": "[encoded data removed]",
      "text/plain": [
       "<Figure size 720x720 with 2 Axes>"
      ]
     },
     "metadata": {
      "needs_background": "light"
     },
     "output_type": "display_data"
    }
   ],
   "source": [
    "plt.figure(figsize =(10,10))\n",
    "corr = ds.corr()\n",
    "mask = np.triu(np.ones_like(corr, dtype=np.bool))\n",
    "sns.heatmap(corr, cmap='coolwarm', annot = False, linewidth=0.5, mask=mask)"
   ]
  },
  {
   "cell_type": "code",
   "execution_count": 1002,
   "metadata": {},
   "outputs": [
    {
     "data": {
      "text/plain": [
       "'\\nProblems?\\n- income is negative correlated with employment status --> makes sense because unemployed have 0 income\\n- year of birth is correlated with old-age benefit --> makes sense, only old people get old age benefit\\n- since old age benefit is the biggest part of social benefit, there is also negative correlation between social benefits and \\n- year of birth is correlated with martial status:-)\\n- social benefits is correlated with \"individuals\" of social benefits --> ok, because i only want to keep either on or the other -- see next section\\n\\nPro:\\n- \\'PW130: TRUST IN THE POLITICAL SYSTEM\\' is not highly correlated with any of thefeatures, this means that we need a complex model to predict and cant only use one column for that\\n'"
      ]
     },
     "execution_count": 1002,
     "metadata": {},
     "output_type": "execute_result"
    }
   ],
   "source": [
    "\"\"\"\n",
    "Problems?\n",
    "- income is negative correlated with employment status --> makes sense because unemployed have 0 income\n",
    "- year of birth is correlated with old-age benefit --> makes sense, only old people get old age benefit\n",
    "- since old age benefit is the biggest part of social benefit, there is also negative correlation between social benefits and \n",
    "- year of birth is correlated with martial status:-)\n",
    "- social benefits is correlated with \"individuals\" of social benefits --> ok, because i only want to keep either on or the other -- see next section\n",
    "\n",
    "Pro:\n",
    "- 'PW130: TRUST IN THE POLITICAL SYSTEM' is not highly correlated with any of thefeatures, this means that we need a complex model to predict and cant only use one column for that\n",
    "\"\"\"\n"
   ]
  },
  {
   "cell_type": "markdown",
   "metadata": {},
   "source": [
    "### 2.3 further preparation of the dataset"
   ]
  },
  {
   "cell_type": "code",
   "execution_count": 1003,
   "metadata": {},
   "outputs": [
    {
     "data": {
      "text/plain": [
       "Index(['PB030: PERSONAL ID', 'PB010: YEAR OF THE SURVEY',\n",
       "       'PB140: YEAR OF BIRTH', 'PB150: SEX', 'PB190: MARITAL STATUS',\n",
       "       'PB200: CONSENSUAL UNION', 'PB220A: CITIZENSHIP',\n",
       "       'PE010: CURRENT EDUCATION ACTIVITY',\n",
       "       'PE040: HIGHEST ISCED LEVEL ATTAINED',\n",
       "       'PL031: SELF-DEFINED CURRENT ECONOMIC STATUS',\n",
       "       'PL035: WORKED AT LEAST 1 HOUR DURING THE PREVIOUS WEEK',\n",
       "       'PL051: OCCUPATION (ISCO-08 (COM))', 'PL150: MANAGERIAL POSITION',\n",
       "       'PH010: GENERAL HEALTH',\n",
       "       'PH020: SUFFER FROM ANY A CHRONIC (LONG-STANDING) ILLNESS OR CONDITION',\n",
       "       'PH030: LIMITATION IN ACTIVITIES BECAUSE OF HEALTH PROBLEMS',\n",
       "       'PH040: UNMET NEED FOR MEDICAL EXAMINATION OR TREATMENT',\n",
       "       'PH060: UNMET NEED FOR DENTAL EXAMINATION OR TREATMENT',\n",
       "       'PY010G_PY020G_PY021G_PY050G: EMPLOYEE INCOME',\n",
       "       'PY035G: CONTRIBUTIONS TO INDIVIDUAL PRIVATE PENSION PLANS',\n",
       "       'PY080G: PENSION FROM INDIVIDUAL PRIVATE PLANS',\n",
       "       'PY090G++: SOCIAL BENEFITS', 'PY090G: UNEMPLOYMENT BENEFITS',\n",
       "       'PY100G: OLD-AGE BENEFITS', 'PY110G: SURVIVOR’ BENEFITS',\n",
       "       'PY120G: SICKNESS BENEFITS', 'PY130G: DISABILITY BENEFITS',\n",
       "       'PY140G: EDUCATION-RELATED ALLOWANCES',\n",
       "       'PD020: Replace worn-out clothes by some new (not second-hand) ones',\n",
       "       'PD030: Two pairs of properly fitting shoes',\n",
       "       'PD050: Get-together with friends/family (relatives) for a drink/meal at least once a month',\n",
       "       'PD060: Regularly participate in a leisure activity',\n",
       "       'PD070: Spend a small amount of money each week on yourself',\n",
       "       'PD080: Internet connection for personal use at home',\n",
       "       'PW130: TRUST IN THE POLITICAL SYSTEM'],\n",
       "      dtype='object')"
      ]
     },
     "execution_count": 1003,
     "metadata": {},
     "output_type": "execute_result"
    }
   ],
   "source": [
    "ds1.columns"
   ]
  },
  {
   "cell_type": "code",
   "execution_count": 1005,
   "metadata": {},
   "outputs": [],
   "source": [
    "### create dummies for categorical variables\n",
    "create_dummy= ['PB150: SEX', 'PB190: MARITAL STATUS',\n",
    "       'PB200: CONSENSUAL UNION', 'PB220A: CITIZENSHIP',\n",
    "       'PE010: CURRENT EDUCATION ACTIVITY',\n",
    "       'PL031: SELF-DEFINED CURRENT ECONOMIC STATUS',\n",
    "       'PL035: WORKED AT LEAST 1 HOUR DURING THE PREVIOUS WEEK',\n",
    "       'PL051: OCCUPATION (ISCO-08 (COM))', 'PL150: MANAGERIAL POSITION',\n",
    "        'PH030: LIMITATION IN ACTIVITIES BECAUSE OF HEALTH PROBLEMS',\n",
    "       'PH040: UNMET NEED FOR MEDICAL EXAMINATION OR TREATMENT',\n",
    "       'PH060: UNMET NEED FOR DENTAL EXAMINATION OR TREATMENT',\n",
    "       'PD020: Replace worn-out clothes by some new (not second-hand) ones',\n",
    "       'PD030: Two pairs of properly fitting shoes',\n",
    "       'PD050: Get-together with friends/family (relatives) for a drink/meal at least once a month',\n",
    "       'PD060: Regularly participate in a leisure activity',\n",
    "       'PD070: Spend a small amount of money each week on yourself',\n",
    "       'PD080: Internet connection for personal use at home',\n",
    "      ]\n",
    "\n",
    "\n",
    "ds1 = pd.get_dummies(ds1, columns=create_dummy, drop_first=True)\n"
   ]
  },
  {
   "cell_type": "code",
   "execution_count": null,
   "metadata": {},
   "outputs": [],
   "source": []
  },
  {
   "cell_type": "code",
   "execution_count": 1006,
   "metadata": {
    "scrolled": true
   },
   "outputs": [],
   "source": [
    "## social benefits are in twice --> split into 2 datasets:\n",
    "\n",
    "ds_1= ds1.drop(axis = 1, columns=['PY090G: UNEMPLOYMENT BENEFITS',\n",
    "       'PY100G: OLD-AGE BENEFITS', 'PY110G: SURVIVOR’ BENEFITS',\n",
    "       'PY120G: SICKNESS BENEFITS', 'PY130G: DISABILITY BENEFITS',\n",
    "       'PY140G: EDUCATION-RELATED ALLOWANCES'])\n",
    "ds_m = ds1.drop(axis = 1, columns=['PY090G++: SOCIAL BENEFITS'])"
   ]
  },
  {
   "cell_type": "code",
   "execution_count": 1007,
   "metadata": {
    "scrolled": true
   },
   "outputs": [
    {
     "name": "stdout",
     "output_type": "stream",
     "text": [
      "(19463, 94)\n",
      "(19463, 89)\n"
     ]
    }
   ],
   "source": [
    "print(ds_m.shape)\n",
    "print(ds_1.shape)"
   ]
  },
  {
   "cell_type": "code",
   "execution_count": 1008,
   "metadata": {},
   "outputs": [
    {
     "data": {
      "image/png": "[encoded data removed]",
      "text/plain": [
       "<Figure size 432x288 with 1 Axes>"
      ]
     },
     "metadata": {
      "needs_background": "light"
     },
     "output_type": "display_data"
    }
   ],
   "source": [
    "#f, axes = plt.subplots(1, 1, figsize=(10, 10))\n",
    "plt.scatter(ds_1['PW130: TRUST IN THE POLITICAL SYSTEM'],ds_1[\"PY010G_PY020G_PY021G_PY050G: EMPLOYEE INCOME\"])\n",
    "\n",
    "#f.delaxes(axes[2][3])\n",
    "plt.show()"
   ]
  },
  {
   "cell_type": "code",
   "execution_count": 990,
   "metadata": {},
   "outputs": [
    {
     "data": {
      "text/html": [
       "<div>\n",
       "<style scoped>\n",
       "    .dataframe tbody tr th:only-of-type {\n",
       "        vertical-align: middle;\n",
       "    }\n",
       "\n",
       "    .dataframe tbody tr th {\n",
       "        vertical-align: top;\n",
       "    }\n",
       "\n",
       "    .dataframe thead th {\n",
       "        text-align: right;\n",
       "    }\n",
       "</style>\n",
       "<table border=\"1\" class=\"dataframe\">\n",
       "  <thead>\n",
       "    <tr style=\"text-align: right;\">\n",
       "      <th></th>\n",
       "      <th>PB030: PERSONAL ID</th>\n",
       "      <th>PB010: YEAR OF THE SURVEY</th>\n",
       "      <th>PB140: YEAR OF BIRTH</th>\n",
       "      <th>PE040: HIGHEST ISCED LEVEL ATTAINED</th>\n",
       "      <th>PH010: GENERAL HEALTH</th>\n",
       "      <th>PH020: SUFFER FROM ANY A CHRONIC (LONG-STANDING) ILLNESS OR CONDITION</th>\n",
       "      <th>PY010G_PY020G_PY021G_PY050G: EMPLOYEE INCOME</th>\n",
       "      <th>PY035G: CONTRIBUTIONS TO INDIVIDUAL PRIVATE PENSION PLANS</th>\n",
       "      <th>PY080G: PENSION FROM INDIVIDUAL PRIVATE PLANS</th>\n",
       "      <th>PY090G++: SOCIAL BENEFITS</th>\n",
       "      <th>...</th>\n",
       "      <th>PD030: Two pairs of properly fitting shoes_2.0</th>\n",
       "      <th>PD030: Two pairs of properly fitting shoes_3.0</th>\n",
       "      <th>PD050: Get-together with friends/family (relatives) for a drink/meal at least once a month_2.0</th>\n",
       "      <th>PD050: Get-together with friends/family (relatives) for a drink/meal at least once a month_3.0</th>\n",
       "      <th>PD060: Regularly participate in a leisure activity_2.0</th>\n",
       "      <th>PD060: Regularly participate in a leisure activity_3.0</th>\n",
       "      <th>PD070: Spend a small amount of money each week on yourself_2.0</th>\n",
       "      <th>PD070: Spend a small amount of money each week on yourself_3.0</th>\n",
       "      <th>PD080: Internet connection for personal use at home_2.0</th>\n",
       "      <th>PD080: Internet connection for personal use at home_3.0</th>\n",
       "    </tr>\n",
       "  </thead>\n",
       "  <tbody>\n",
       "    <tr>\n",
       "      <td>0</td>\n",
       "      <td>35601</td>\n",
       "      <td>2013</td>\n",
       "      <td>1977</td>\n",
       "      <td>3.0</td>\n",
       "      <td>1.0</td>\n",
       "      <td>1.0</td>\n",
       "      <td>37262.33</td>\n",
       "      <td>0</td>\n",
       "      <td>0.0</td>\n",
       "      <td>0.00</td>\n",
       "      <td>...</td>\n",
       "      <td>0</td>\n",
       "      <td>0</td>\n",
       "      <td>0</td>\n",
       "      <td>1</td>\n",
       "      <td>0</td>\n",
       "      <td>0</td>\n",
       "      <td>0</td>\n",
       "      <td>0</td>\n",
       "      <td>0</td>\n",
       "      <td>0</td>\n",
       "    </tr>\n",
       "    <tr>\n",
       "      <td>1</td>\n",
       "      <td>44701</td>\n",
       "      <td>2013</td>\n",
       "      <td>1936</td>\n",
       "      <td>2.0</td>\n",
       "      <td>3.0</td>\n",
       "      <td>2.0</td>\n",
       "      <td>0.00</td>\n",
       "      <td>85</td>\n",
       "      <td>0.0</td>\n",
       "      <td>18846.06</td>\n",
       "      <td>...</td>\n",
       "      <td>0</td>\n",
       "      <td>1</td>\n",
       "      <td>0</td>\n",
       "      <td>0</td>\n",
       "      <td>0</td>\n",
       "      <td>0</td>\n",
       "      <td>0</td>\n",
       "      <td>0</td>\n",
       "      <td>0</td>\n",
       "      <td>0</td>\n",
       "    </tr>\n",
       "    <tr>\n",
       "      <td>2</td>\n",
       "      <td>59901</td>\n",
       "      <td>2013</td>\n",
       "      <td>1952</td>\n",
       "      <td>5.0</td>\n",
       "      <td>3.0</td>\n",
       "      <td>2.0</td>\n",
       "      <td>0.00</td>\n",
       "      <td>0</td>\n",
       "      <td>0.0</td>\n",
       "      <td>9336.96</td>\n",
       "      <td>...</td>\n",
       "      <td>0</td>\n",
       "      <td>0</td>\n",
       "      <td>0</td>\n",
       "      <td>0</td>\n",
       "      <td>0</td>\n",
       "      <td>0</td>\n",
       "      <td>0</td>\n",
       "      <td>0</td>\n",
       "      <td>0</td>\n",
       "      <td>0</td>\n",
       "    </tr>\n",
       "    <tr>\n",
       "      <td>3</td>\n",
       "      <td>71101</td>\n",
       "      <td>2013</td>\n",
       "      <td>1938</td>\n",
       "      <td>2.0</td>\n",
       "      <td>5.0</td>\n",
       "      <td>2.0</td>\n",
       "      <td>0.00</td>\n",
       "      <td>0</td>\n",
       "      <td>0.0</td>\n",
       "      <td>11999.28</td>\n",
       "      <td>...</td>\n",
       "      <td>0</td>\n",
       "      <td>0</td>\n",
       "      <td>0</td>\n",
       "      <td>0</td>\n",
       "      <td>0</td>\n",
       "      <td>1</td>\n",
       "      <td>0</td>\n",
       "      <td>0</td>\n",
       "      <td>0</td>\n",
       "      <td>0</td>\n",
       "    </tr>\n",
       "    <tr>\n",
       "      <td>4</td>\n",
       "      <td>79501</td>\n",
       "      <td>2013</td>\n",
       "      <td>1950</td>\n",
       "      <td>3.0</td>\n",
       "      <td>1.0</td>\n",
       "      <td>2.0</td>\n",
       "      <td>23516.66</td>\n",
       "      <td>0</td>\n",
       "      <td>0.0</td>\n",
       "      <td>0.00</td>\n",
       "      <td>...</td>\n",
       "      <td>0</td>\n",
       "      <td>0</td>\n",
       "      <td>1</td>\n",
       "      <td>0</td>\n",
       "      <td>0</td>\n",
       "      <td>0</td>\n",
       "      <td>0</td>\n",
       "      <td>0</td>\n",
       "      <td>0</td>\n",
       "      <td>1</td>\n",
       "    </tr>\n",
       "  </tbody>\n",
       "</table>\n",
       "<p>5 rows × 89 columns</p>\n",
       "</div>"
      ],
      "text/plain": [
       "   PB030: PERSONAL ID  PB010: YEAR OF THE SURVEY  PB140: YEAR OF BIRTH  \\\n",
       "0               35601                       2013                  1977   \n",
       "1               44701                       2013                  1936   \n",
       "2               59901                       2013                  1952   \n",
       "3               71101                       2013                  1938   \n",
       "4               79501                       2013                  1950   \n",
       "\n",
       "   PE040: HIGHEST ISCED LEVEL ATTAINED  PH010: GENERAL HEALTH  \\\n",
       "0                                  3.0                    1.0   \n",
       "1                                  2.0                    3.0   \n",
       "2                                  5.0                    3.0   \n",
       "3                                  2.0                    5.0   \n",
       "4                                  3.0                    1.0   \n",
       "\n",
       "   PH020: SUFFER FROM ANY A CHRONIC (LONG-STANDING) ILLNESS OR CONDITION  \\\n",
       "0                                                1.0                       \n",
       "1                                                2.0                       \n",
       "2                                                2.0                       \n",
       "3                                                2.0                       \n",
       "4                                                2.0                       \n",
       "\n",
       "   PY010G_PY020G_PY021G_PY050G: EMPLOYEE INCOME  \\\n",
       "0                                      37262.33   \n",
       "1                                          0.00   \n",
       "2                                          0.00   \n",
       "3                                          0.00   \n",
       "4                                      23516.66   \n",
       "\n",
       "   PY035G: CONTRIBUTIONS TO INDIVIDUAL PRIVATE PENSION PLANS  \\\n",
       "0                                                  0           \n",
       "1                                                 85           \n",
       "2                                                  0           \n",
       "3                                                  0           \n",
       "4                                                  0           \n",
       "\n",
       "   PY080G: PENSION FROM INDIVIDUAL PRIVATE PLANS  PY090G++: SOCIAL BENEFITS  \\\n",
       "0                                            0.0                       0.00   \n",
       "1                                            0.0                   18846.06   \n",
       "2                                            0.0                    9336.96   \n",
       "3                                            0.0                   11999.28   \n",
       "4                                            0.0                       0.00   \n",
       "\n",
       "   ...  PD030: Two pairs of properly fitting shoes_2.0  \\\n",
       "0  ...                                               0   \n",
       "1  ...                                               0   \n",
       "2  ...                                               0   \n",
       "3  ...                                               0   \n",
       "4  ...                                               0   \n",
       "\n",
       "   PD030: Two pairs of properly fitting shoes_3.0  \\\n",
       "0                                               0   \n",
       "1                                               1   \n",
       "2                                               0   \n",
       "3                                               0   \n",
       "4                                               0   \n",
       "\n",
       "   PD050: Get-together with friends/family (relatives) for a drink/meal at least once a month_2.0  \\\n",
       "0                                                  0                                                \n",
       "1                                                  0                                                \n",
       "2                                                  0                                                \n",
       "3                                                  0                                                \n",
       "4                                                  1                                                \n",
       "\n",
       "   PD050: Get-together with friends/family (relatives) for a drink/meal at least once a month_3.0  \\\n",
       "0                                                  1                                                \n",
       "1                                                  0                                                \n",
       "2                                                  0                                                \n",
       "3                                                  0                                                \n",
       "4                                                  0                                                \n",
       "\n",
       "   PD060: Regularly participate in a leisure activity_2.0  \\\n",
       "0                                                  0        \n",
       "1                                                  0        \n",
       "2                                                  0        \n",
       "3                                                  0        \n",
       "4                                                  0        \n",
       "\n",
       "   PD060: Regularly participate in a leisure activity_3.0  \\\n",
       "0                                                  0        \n",
       "1                                                  0        \n",
       "2                                                  0        \n",
       "3                                                  1        \n",
       "4                                                  0        \n",
       "\n",
       "   PD070: Spend a small amount of money each week on yourself_2.0  \\\n",
       "0                                                  0                \n",
       "1                                                  0                \n",
       "2                                                  0                \n",
       "3                                                  0                \n",
       "4                                                  0                \n",
       "\n",
       "   PD070: Spend a small amount of money each week on yourself_3.0  \\\n",
       "0                                                  0                \n",
       "1                                                  0                \n",
       "2                                                  0                \n",
       "3                                                  0                \n",
       "4                                                  0                \n",
       "\n",
       "   PD080: Internet connection for personal use at home_2.0  \\\n",
       "0                                                  0         \n",
       "1                                                  0         \n",
       "2                                                  0         \n",
       "3                                                  0         \n",
       "4                                                  0         \n",
       "\n",
       "   PD080: Internet connection for personal use at home_3.0  \n",
       "0                                                  0        \n",
       "1                                                  0        \n",
       "2                                                  0        \n",
       "3                                                  0        \n",
       "4                                                  1        \n",
       "\n",
       "[5 rows x 89 columns]"
      ]
     },
     "execution_count": 990,
     "metadata": {},
     "output_type": "execute_result"
    }
   ],
   "source": [
    "ds_1.head()"
   ]
  },
  {
   "cell_type": "code",
   "execution_count": null,
   "metadata": {},
   "outputs": [],
   "source": []
  },
  {
   "cell_type": "code",
   "execution_count": null,
   "metadata": {},
   "outputs": [],
   "source": []
  },
  {
   "cell_type": "markdown",
   "metadata": {},
   "source": [
    "# Machine Learning supervised"
   ]
  },
  {
   "cell_type": "markdown",
   "metadata": {},
   "source": [
    "# 1. Regression"
   ]
  },
  {
   "cell_type": "markdown",
   "metadata": {},
   "source": [
    "#### <font color=red>here decide to keep or drop nan: </font>"
   ]
  },
  {
   "cell_type": "code",
   "execution_count": 1009,
   "metadata": {},
   "outputs": [],
   "source": [
    "data = ds_1[ds_1['PW130: TRUST IN THE POLITICAL SYSTEM']>=0]\n",
    "#data=ds_1"
   ]
  },
  {
   "cell_type": "code",
   "execution_count": 1010,
   "metadata": {},
   "outputs": [],
   "source": [
    "XCol=list(data.columns)\n",
    "XCol.remove('PW130: TRUST IN THE POLITICAL SYSTEM')\n",
    "YCol=['PW130: TRUST IN THE POLITICAL SYSTEM']"
   ]
  },
  {
   "cell_type": "code",
   "execution_count": 973,
   "metadata": {},
   "outputs": [],
   "source": [
    "X = data[XCol]\n",
    "y= data[YCol]"
   ]
  },
  {
   "cell_type": "markdown",
   "metadata": {},
   "source": [
    "•\timbalance checking (undersampling, oversamplingML umbalanced data lib)\n",
    "\n",
    "•\tSplit --> X_tr, y_tr, / X_ts,  y_ts\n",
    "\n",
    "•\tTry few models (with different algorithms) (<-- pipeline)\n",
    "\n",
    "    –\tInitialization\n",
    "\n",
    "    –\tFit / predict\n",
    "\n",
    "    –\tEvaluation (overfitting / underfitting)\n",
    "\n",
    "•\tChoose best option based on requirements\n",
    "\n",
    "•\tOptimize the model\n",
    "\n",
    "    –\tCross -validation\n",
    "\n",
    "    –\tTry few models (with same way to approach problem)\n",
    "\n",
    "        o\tInit\n",
    "\n",
    "        o\tFit.(predict)\n",
    "\n",
    "        o\tEvaluation\n",
    "\n",
    "    –\tHpyertuning\n"
   ]
  },
  {
   "cell_type": "markdown",
   "metadata": {},
   "source": [
    "### 2.1 Test for imbalancing in Y"
   ]
  },
  {
   "cell_type": "code",
   "execution_count": 1011,
   "metadata": {},
   "outputs": [
    {
     "data": {
      "text/plain": [
       "['PW130: TRUST IN THE POLITICAL SYSTEM']"
      ]
     },
     "execution_count": 1011,
     "metadata": {},
     "output_type": "execute_result"
    }
   ],
   "source": [
    "YCol"
   ]
  },
  {
   "cell_type": "code",
   "execution_count": 1012,
   "metadata": {
    "scrolled": true
   },
   "outputs": [
    {
     "data": {
      "text/plain": [
       "array([[<matplotlib.axes._subplots.AxesSubplot object at 0x0000492C46E61A88>]],\n",
       "      dtype=object)"
      ]
     },
     "execution_count": 1012,
     "metadata": {},
     "output_type": "execute_result"
    },
    {
     "data": {
      "image/png": "[encoded data removed]",
      "text/plain": [
       "<Figure size 432x288 with 1 Axes>"
      ]
     },
     "metadata": {
      "needs_background": "light"
     },
     "output_type": "display_data"
    }
   ],
   "source": [
    "y.hist()\n",
    "\n",
    "## it is very imbalanced  --> bin the values bellow 5 and change *dont know\" to other value"
   ]
  },
  {
   "cell_type": "code",
   "execution_count": 867,
   "metadata": {},
   "outputs": [],
   "source": [
    "#y.loc[(y['PW130: TRUST IN THE POLITICAL SYSTEM']==-1), 'PW130: TRUST IN THE POLITICAL SYSTEM']= X"
   ]
  },
  {
   "cell_type": "markdown",
   "metadata": {},
   "source": [
    "#### <font color=red>here decide how to bin: </font>"
   ]
  },
  {
   "cell_type": "code",
   "execution_count": 868,
   "metadata": {
    "scrolled": true
   },
   "outputs": [],
   "source": [
    "#y['bin'] =y['PW130: TRUST IN THE POLITICAL SYSTEM'].apply(lambda x: 4.5 if (x <=5) & (x!=-1) else x)\n",
    "#y['bin'] =y['bin'].apply(lambda x: 6.5 if ((x ==6) | (x==7)) else x)\n",
    "#y['bin'].unique()"
   ]
  },
  {
   "cell_type": "code",
   "execution_count": 869,
   "metadata": {
    "scrolled": true
   },
   "outputs": [],
   "source": [
    "#y['bin'].hist()\n"
   ]
  },
  {
   "cell_type": "markdown",
   "metadata": {},
   "source": [
    "#### <font color=red>here decide to take binned y or not: </font>"
   ]
  },
  {
   "cell_type": "code",
   "execution_count": 1013,
   "metadata": {
    "scrolled": true
   },
   "outputs": [
    {
     "data": {
      "text/html": [
       "<div>\n",
       "<style scoped>\n",
       "    .dataframe tbody tr th:only-of-type {\n",
       "        vertical-align: middle;\n",
       "    }\n",
       "\n",
       "    .dataframe tbody tr th {\n",
       "        vertical-align: top;\n",
       "    }\n",
       "\n",
       "    .dataframe thead th {\n",
       "        text-align: right;\n",
       "    }\n",
       "</style>\n",
       "<table border=\"1\" class=\"dataframe\">\n",
       "  <thead>\n",
       "    <tr style=\"text-align: right;\">\n",
       "      <th></th>\n",
       "      <th>PW130: TRUST IN THE POLITICAL SYSTEM</th>\n",
       "    </tr>\n",
       "  </thead>\n",
       "  <tbody>\n",
       "    <tr>\n",
       "      <td>0</td>\n",
       "      <td>3.0</td>\n",
       "    </tr>\n",
       "    <tr>\n",
       "      <td>1</td>\n",
       "      <td>7.0</td>\n",
       "    </tr>\n",
       "    <tr>\n",
       "      <td>2</td>\n",
       "      <td>3.0</td>\n",
       "    </tr>\n",
       "    <tr>\n",
       "      <td>3</td>\n",
       "      <td>5.0</td>\n",
       "    </tr>\n",
       "    <tr>\n",
       "      <td>4</td>\n",
       "      <td>0.0</td>\n",
       "    </tr>\n",
       "  </tbody>\n",
       "</table>\n",
       "</div>"
      ],
      "text/plain": [
       "   PW130: TRUST IN THE POLITICAL SYSTEM\n",
       "0                                   3.0\n",
       "1                                   7.0\n",
       "2                                   3.0\n",
       "3                                   5.0\n",
       "4                                   0.0"
      ]
     },
     "execution_count": 1013,
     "metadata": {},
     "output_type": "execute_result"
    }
   ],
   "source": [
    "#ytogo=y['bin']\n",
    "ytogo=y['PW130: TRUST IN THE POLITICAL SYSTEM']\n",
    "y.head()"
   ]
  },
  {
   "cell_type": "markdown",
   "metadata": {},
   "source": [
    "dset = X\n",
    "dset['y']=y['PW130: TRUST IN THE POLITICAL SYSTEM']\n",
    "\n",
    "plt.figure(figsize =(10,10))\n",
    "corr = dset.corr()\n",
    "mask = np.triu(np.ones_like(corr, dtype=np.bool))\n",
    "sns.heatmap(corr, cmap='coolwarm', annot = False, linewidth=0.5, mask=mask)"
   ]
  },
  {
   "cell_type": "code",
   "execution_count": null,
   "metadata": {},
   "outputs": [],
   "source": []
  },
  {
   "cell_type": "markdown",
   "metadata": {},
   "source": [
    "### 2.2. Scale and split dataset"
   ]
  },
  {
   "cell_type": "markdown",
   "metadata": {},
   "source": []
  },
  {
   "cell_type": "code",
   "execution_count": 1014,
   "metadata": {},
   "outputs": [
    {
     "data": {
      "text/plain": [
       "Index(['PB030: PERSONAL ID', 'PB010: YEAR OF THE SURVEY',\n",
       "       'PB140: YEAR OF BIRTH', 'PE040: HIGHEST ISCED LEVEL ATTAINED',\n",
       "       'PH010: GENERAL HEALTH',\n",
       "       'PH020: SUFFER FROM ANY A CHRONIC (LONG-STANDING) ILLNESS OR CONDITION',\n",
       "       'PY010G_PY020G_PY021G_PY050G: EMPLOYEE INCOME',\n",
       "       'PY035G: CONTRIBUTIONS TO INDIVIDUAL PRIVATE PENSION PLANS',\n",
       "       'PY080G: PENSION FROM INDIVIDUAL PRIVATE PLANS',\n",
       "       'PY090G++: SOCIAL BENEFITS', 'PB150: SEX_2',\n",
       "       'PB190: MARITAL STATUS_2.0', 'PB190: MARITAL STATUS_3.0',\n",
       "       'PB190: MARITAL STATUS_4.0', 'PB190: MARITAL STATUS_5.0',\n",
       "       'PB200: CONSENSUAL UNION_2', 'PB200: CONSENSUAL UNION_3',\n",
       "       'PB220A: CITIZENSHIP_1', 'PE010: CURRENT EDUCATION ACTIVITY_2',\n",
       "       'PL031: SELF-DEFINED CURRENT ECONOMIC STATUS_2.0',\n",
       "       'PL031: SELF-DEFINED CURRENT ECONOMIC STATUS_3.0',\n",
       "       'PL031: SELF-DEFINED CURRENT ECONOMIC STATUS_4.0',\n",
       "       'PL031: SELF-DEFINED CURRENT ECONOMIC STATUS_5.0',\n",
       "       'PL031: SELF-DEFINED CURRENT ECONOMIC STATUS_6.0',\n",
       "       'PL031: SELF-DEFINED CURRENT ECONOMIC STATUS_7.0',\n",
       "       'PL031: SELF-DEFINED CURRENT ECONOMIC STATUS_8.0',\n",
       "       'PL031: SELF-DEFINED CURRENT ECONOMIC STATUS_10.0',\n",
       "       'PL031: SELF-DEFINED CURRENT ECONOMIC STATUS_11.0',\n",
       "       'PL035: WORKED AT LEAST 1 HOUR DURING THE PREVIOUS WEEK_2',\n",
       "       'PL051: OCCUPATION (ISCO-08 (COM))_11.0',\n",
       "       'PL051: OCCUPATION (ISCO-08 (COM))_12.0',\n",
       "       'PL051: OCCUPATION (ISCO-08 (COM))_13.0',\n",
       "       'PL051: OCCUPATION (ISCO-08 (COM))_14.0',\n",
       "       'PL051: OCCUPATION (ISCO-08 (COM))_21.0',\n",
       "       'PL051: OCCUPATION (ISCO-08 (COM))_22.0',\n",
       "       'PL051: OCCUPATION (ISCO-08 (COM))_23.0',\n",
       "       'PL051: OCCUPATION (ISCO-08 (COM))_24.0',\n",
       "       'PL051: OCCUPATION (ISCO-08 (COM))_25.0',\n",
       "       'PL051: OCCUPATION (ISCO-08 (COM))_26.0',\n",
       "       'PL051: OCCUPATION (ISCO-08 (COM))_31.0',\n",
       "       'PL051: OCCUPATION (ISCO-08 (COM))_32.0',\n",
       "       'PL051: OCCUPATION (ISCO-08 (COM))_33.0',\n",
       "       'PL051: OCCUPATION (ISCO-08 (COM))_34.0',\n",
       "       'PL051: OCCUPATION (ISCO-08 (COM))_35.0',\n",
       "       'PL051: OCCUPATION (ISCO-08 (COM))_41.0',\n",
       "       'PL051: OCCUPATION (ISCO-08 (COM))_42.0',\n",
       "       'PL051: OCCUPATION (ISCO-08 (COM))_43.0',\n",
       "       'PL051: OCCUPATION (ISCO-08 (COM))_44.0',\n",
       "       'PL051: OCCUPATION (ISCO-08 (COM))_51.0',\n",
       "       'PL051: OCCUPATION (ISCO-08 (COM))_52.0',\n",
       "       'PL051: OCCUPATION (ISCO-08 (COM))_53.0',\n",
       "       'PL051: OCCUPATION (ISCO-08 (COM))_54.0',\n",
       "       'PL051: OCCUPATION (ISCO-08 (COM))_61.0',\n",
       "       'PL051: OCCUPATION (ISCO-08 (COM))_62.0',\n",
       "       'PL051: OCCUPATION (ISCO-08 (COM))_71.0',\n",
       "       'PL051: OCCUPATION (ISCO-08 (COM))_72.0',\n",
       "       'PL051: OCCUPATION (ISCO-08 (COM))_73.0',\n",
       "       'PL051: OCCUPATION (ISCO-08 (COM))_74.0',\n",
       "       'PL051: OCCUPATION (ISCO-08 (COM))_75.0',\n",
       "       'PL051: OCCUPATION (ISCO-08 (COM))_81.0',\n",
       "       'PL051: OCCUPATION (ISCO-08 (COM))_82.0',\n",
       "       'PL051: OCCUPATION (ISCO-08 (COM))_83.0',\n",
       "       'PL051: OCCUPATION (ISCO-08 (COM))_91.0',\n",
       "       'PL051: OCCUPATION (ISCO-08 (COM))_92.0',\n",
       "       'PL051: OCCUPATION (ISCO-08 (COM))_93.0',\n",
       "       'PL051: OCCUPATION (ISCO-08 (COM))_94.0',\n",
       "       'PL051: OCCUPATION (ISCO-08 (COM))_96.0',\n",
       "       'PL150: MANAGERIAL POSITION_1.0', 'PL150: MANAGERIAL POSITION_2.0',\n",
       "       'PH030: LIMITATION IN ACTIVITIES BECAUSE OF HEALTH PROBLEMS_1.0',\n",
       "       'PH030: LIMITATION IN ACTIVITIES BECAUSE OF HEALTH PROBLEMS_2.0',\n",
       "       'PH030: LIMITATION IN ACTIVITIES BECAUSE OF HEALTH PROBLEMS_3.0',\n",
       "       'PH040: UNMET NEED FOR MEDICAL EXAMINATION OR TREATMENT_1',\n",
       "       'PH040: UNMET NEED FOR MEDICAL EXAMINATION OR TREATMENT_2',\n",
       "       'PH060: UNMET NEED FOR DENTAL EXAMINATION OR TREATMENT_1',\n",
       "       'PH060: UNMET NEED FOR DENTAL EXAMINATION OR TREATMENT_2',\n",
       "       'PD020: Replace worn-out clothes by some new (not second-hand) ones_2.0',\n",
       "       'PD020: Replace worn-out clothes by some new (not second-hand) ones_3.0',\n",
       "       'PD030: Two pairs of properly fitting shoes_2.0',\n",
       "       'PD030: Two pairs of properly fitting shoes_3.0',\n",
       "       'PD050: Get-together with friends/family (relatives) for a drink/meal at least once a month_2.0',\n",
       "       'PD050: Get-together with friends/family (relatives) for a drink/meal at least once a month_3.0',\n",
       "       'PD060: Regularly participate in a leisure activity_2.0',\n",
       "       'PD060: Regularly participate in a leisure activity_3.0',\n",
       "       'PD070: Spend a small amount of money each week on yourself_2.0',\n",
       "       'PD070: Spend a small amount of money each week on yourself_3.0',\n",
       "       'PD080: Internet connection for personal use at home_2.0',\n",
       "       'PD080: Internet connection for personal use at home_3.0'],\n",
       "      dtype='object')"
      ]
     },
     "execution_count": 1014,
     "metadata": {},
     "output_type": "execute_result"
    }
   ],
   "source": [
    "### scaler\n",
    "scaler = StandardScaler()\n",
    "X_std = scaler.fit_transform(X)\n",
    "X_std.shape\n",
    "X.columns"
   ]
  },
  {
   "cell_type": "code",
   "execution_count": 1015,
   "metadata": {},
   "outputs": [
    {
     "data": {
      "text/plain": [
       "(15732, 88)"
      ]
     },
     "execution_count": 1015,
     "metadata": {},
     "output_type": "execute_result"
    }
   ],
   "source": [
    "scaler = MinMaxScaler(feature_range=(0, 1))\n",
    "X_minmax = scaler.fit_transform(X)\n",
    "X_minmax.shape\n"
   ]
  },
  {
   "cell_type": "markdown",
   "metadata": {},
   "source": [
    "#### <font color=red>here decide to scale x or not and if yes which one: </font>"
   ]
  },
  {
   "cell_type": "code",
   "execution_count": 1016,
   "metadata": {},
   "outputs": [],
   "source": [
    "X_train, X_test, y_train, y_test = train_test_split(X_minmax, ytogo, test_size=0.2)"
   ]
  },
  {
   "cell_type": "markdown",
   "metadata": {},
   "source": [
    "### 2.3 Try few models (with different algorithms) (<-- pipeline)"
   ]
  },
  {
   "cell_type": "markdown",
   "metadata": {},
   "source": [
    "#### a) Prepare Model "
   ]
  },
  {
   "cell_type": "code",
   "execution_count": 1017,
   "metadata": {},
   "outputs": [],
   "source": [
    "## prepare interaction term\n",
    "for d in range(2):\n",
    "    interaction = PolynomialFeatures(degree = d, include_bias = False, interaction_only = True)\n",
    "    X_inter = interaction.fit_transform(X_train)"
   ]
  },
  {
   "cell_type": "markdown",
   "metadata": {},
   "source": [
    "#### b)  Linear Regression Model"
   ]
  },
  {
   "cell_type": "code",
   "execution_count": 1018,
   "metadata": {},
   "outputs": [
    {
     "name": "stdout",
     "output_type": "stream",
     "text": [
      "Intercept:  4.908959644360204\n",
      "Coef:  [ 3.21049103e-02 -1.63243289e+12  2.76040764e-01  1.25550310e-01\n",
      " -6.61053574e-02  3.44382970e-03 -4.88961227e-01  5.34910596e-01\n",
      "  1.12591792e+00  5.10634715e-01  3.57323217e-02  8.01112775e-02\n",
      "  5.88480396e-02  1.27627771e-01  1.02319130e-01  1.66750095e-02\n",
      "  6.68825671e-04  6.33745691e-02 -3.04185121e-03 -3.25603410e-02\n",
      "  7.76023615e-02 -1.28135020e-01 -3.93399408e-02 -3.40573647e-01\n",
      " -5.21106335e-02 -1.04377050e-01 -3.26909103e-01  1.15735275e-01\n",
      " -8.65702650e-02  1.32296665e-01 -4.09784678e-01 -1.12300216e-01\n",
      " -1.06323333e-01 -1.55090332e-01 -5.21697998e-02 -2.11029053e-01\n",
      " -1.73400879e-01 -9.05609131e-02 -1.05026245e-01 -1.11236572e-01\n",
      "  1.42288208e-02 -7.38525391e-02  1.04991913e-01 -2.24689484e-01\n",
      " -1.38610840e-01 -1.11877441e-01 -1.30920410e-02 -5.55610657e-03\n",
      " -2.35694885e-01 -2.26409912e-01 -1.97862089e-01  6.05545044e-02\n",
      " -1.09710693e-02 -5.74645996e-02 -2.89123535e-01 -5.40771484e-02\n",
      " -1.19226933e-01  1.02348328e-01  5.77411652e-02 -1.04782104e-01\n",
      " -9.42062378e-01  2.54516602e-02 -4.09688950e-02  7.40127563e-01\n",
      " -1.08978271e-01 -3.92684937e-01  1.19369507e-01 -1.05506897e-01\n",
      " -1.42089844e-01  5.38940430e-02  8.41064453e-02  7.80029297e-02\n",
      " -1.20620728e-01 -4.48608398e-02 -1.04373932e-01  3.67126465e-02\n",
      "  5.18493652e-02  1.35765076e-01  5.59997559e-02 -2.14843750e-02\n",
      " -4.57763672e-04  5.18188477e-02 -3.62930298e-02 -3.45458984e-02\n",
      " -1.41204834e-01 -3.80859375e-02  2.51411438e-01  3.14331055e-02]\n"
     ]
    }
   ],
   "source": [
    "\n",
    "lm = LinearRegression()\n",
    "model = lm.fit(X_train,y_train)\n",
    "\n",
    "print(\"Intercept: \", lm.intercept_)\n",
    "print(\"Coef: \", lm.coef_)\n",
    "\n",
    "y_pred  = lm.predict(X_test)\n"
   ]
  },
  {
   "cell_type": "code",
   "execution_count": 1019,
   "metadata": {},
   "outputs": [
    {
     "data": {
      "text/plain": [
       "2.1415950700860913"
      ]
     },
     "execution_count": 1019,
     "metadata": {},
     "output_type": "execute_result"
    }
   ],
   "source": [
    "mean_absolute_error(y_test, y_pred)"
   ]
  },
  {
   "cell_type": "code",
   "execution_count": 1020,
   "metadata": {},
   "outputs": [
    {
     "data": {
      "text/plain": [
       "6.742333423865221"
      ]
     },
     "execution_count": 1020,
     "metadata": {},
     "output_type": "execute_result"
    }
   ],
   "source": [
    "mean_squared_error(y_test, y_pred)"
   ]
  },
  {
   "cell_type": "code",
   "execution_count": 1021,
   "metadata": {},
   "outputs": [
    {
     "data": {
      "text/plain": [
       "-0.005490111958169841"
      ]
     },
     "execution_count": 1021,
     "metadata": {},
     "output_type": "execute_result"
    }
   ],
   "source": [
    "r2_score(y_test, y_pred)"
   ]
  },
  {
   "cell_type": "markdown",
   "metadata": {},
   "source": [
    "#### c)  Taylor (pipeline)"
   ]
  },
  {
   "cell_type": "code",
   "execution_count": null,
   "metadata": {},
   "outputs": [],
   "source": [
    "#for k in range(1,8):\n",
    "poly_model = make_pipeline (StandardScaler(), PolynomialFeatures(degree=3, include_bias = False, interaction_only = True), LinearRegression())\n",
    "\n",
    "model = poly_model.fit(X_train, y_train)\n",
    "\n",
    "    \n",
    "print(poly_model.score(X_test, y_test))\n",
    "\n",
    "y_pred  = poly_model.predict(X_test)\n"
   ]
  },
  {
   "cell_type": "code",
   "execution_count": null,
   "metadata": {},
   "outputs": [],
   "source": [
    "mean_absolute_error(y_test, y_pred)"
   ]
  },
  {
   "cell_type": "code",
   "execution_count": null,
   "metadata": {
    "scrolled": true
   },
   "outputs": [],
   "source": [
    "mean_squared_error(y_test, y_pred)"
   ]
  },
  {
   "cell_type": "code",
   "execution_count": null,
   "metadata": {},
   "outputs": [],
   "source": [
    "r2_score(y_test, y_pred)"
   ]
  },
  {
   "cell_type": "markdown",
   "metadata": {},
   "source": [
    "#### c)  Regression Tree"
   ]
  },
  {
   "cell_type": "code",
   "execution_count": null,
   "metadata": {},
   "outputs": [],
   "source": [
    "regr = DecisionTreeRegressor(random_state = 29)\n",
    "\n",
    "model = regr.fit(X_train, y_train)\n",
    "\n",
    "y_pred  = regr.predict(X_test)\n",
    "regr.score(X_test, y_test)"
   ]
  },
  {
   "cell_type": "code",
   "execution_count": null,
   "metadata": {},
   "outputs": [],
   "source": [
    "r = export_text(regr, feature_names=list(X.columns))\n",
    "#print(r)"
   ]
  },
  {
   "cell_type": "code",
   "execution_count": null,
   "metadata": {},
   "outputs": [],
   "source": [
    "mean_absolute_error(y_test, y_pred)"
   ]
  },
  {
   "cell_type": "code",
   "execution_count": null,
   "metadata": {},
   "outputs": [],
   "source": [
    "mean_squared_error(y_test, y_pred)"
   ]
  },
  {
   "cell_type": "code",
   "execution_count": null,
   "metadata": {},
   "outputs": [],
   "source": [
    "r2_score(y_test, y_pred)"
   ]
  },
  {
   "cell_type": "markdown",
   "metadata": {},
   "source": [
    "In the rare cases you get a negative r squared value, you should probably rethink your regression analysis, especially if you are forcing an intercept."
   ]
  },
  {
   "cell_type": "markdown",
   "metadata": {},
   "source": [
    "#### d)  KNeighborsRegressor"
   ]
  },
  {
   "cell_type": "code",
   "execution_count": null,
   "metadata": {},
   "outputs": [],
   "source": [
    "knnr = KNeighborsRegressor(n_neighbors = 3)\n",
    "\n",
    "model = knnr.fit(X_train, y_train)  #fit the model\n",
    "y_pred = knnr.predict(X_test)\n"
   ]
  },
  {
   "cell_type": "code",
   "execution_count": null,
   "metadata": {},
   "outputs": [],
   "source": [
    "mean_absolute_error(y_test, y_pred)"
   ]
  },
  {
   "cell_type": "code",
   "execution_count": null,
   "metadata": {},
   "outputs": [],
   "source": [
    "mean_squared_error(y_test, y_pred)"
   ]
  },
  {
   "cell_type": "code",
   "execution_count": null,
   "metadata": {},
   "outputs": [],
   "source": [
    "r2_score(y_test, y_pred)"
   ]
  },
  {
   "cell_type": "markdown",
   "metadata": {},
   "source": [
    "#### <font color=red>huge means squared_error and negative r squared for binned and unbinned y\n",
    "     also failed with drop nan, but way better!\n",
    "    also failed with feature elimination\n",
    "\n",
    "</font>"
   ]
  },
  {
   "cell_type": "markdown",
   "metadata": {},
   "source": [
    "# 2.2 optimize recursive feature elimination (RFE)"
   ]
  },
  {
   "cell_type": "code",
   "execution_count": null,
   "metadata": {},
   "outputs": [],
   "source": [
    "## recursive feature elimination.\n",
    "# initialize an RFE model using the `auto_model` linear regression model. Set `n_features_to_select=3`"
   ]
  },
  {
   "cell_type": "markdown",
   "metadata": {},
   "source": [
    "Fit the model and print the ranking"
   ]
  },
  {
   "cell_type": "code",
   "execution_count": null,
   "metadata": {},
   "outputs": [],
   "source": [
    "# Your code here:\n",
    "auto_model = LinearRegression()\n",
    "selector = RFE(auto_model, 5, step=1)\n",
    "model = selector.fit(X_train,y_train)"
   ]
  },
  {
   "cell_type": "code",
   "execution_count": null,
   "metadata": {},
   "outputs": [],
   "source": [
    "# Your code here:\n",
    "selector.ranking_\n",
    "#selector.support_"
   ]
  },
  {
   "cell_type": "code",
   "execution_count": null,
   "metadata": {},
   "outputs": [],
   "source": [
    "columns=[]\n",
    "for x in range(len(X.columns)):\n",
    "    if selector.ranking_[x]<=5:\n",
    "        columns.append(X.columns[x])\n",
    "print(len(columns))\n",
    "columns"
   ]
  },
  {
   "cell_type": "code",
   "execution_count": null,
   "metadata": {},
   "outputs": [],
   "source": [
    "X=data[columns]\n",
    "\n",
    "## --> run 2.2 split and 2.3 models again"
   ]
  },
  {
   "cell_type": "markdown",
   "metadata": {},
   "source": [
    "## 2.3 PCA"
   ]
  },
  {
   "cell_type": "code",
   "execution_count": null,
   "metadata": {},
   "outputs": [],
   "source": [
    "X = data[XCol]\n",
    "X.shape"
   ]
  },
  {
   "cell_type": "code",
   "execution_count": null,
   "metadata": {},
   "outputs": [],
   "source": [
    "# Create a PCA that will retain 99% of variance\n",
    "pca = PCA(n_components=0.99, whiten=True)\n",
    "# ica = FastI-CA(n_components=0.99, whit-en=True)\n",
    "\n",
    "# Conduct PCA\n",
    "features_pca = pca.fit_transform(X)"
   ]
  },
  {
   "cell_type": "code",
   "execution_count": null,
   "metadata": {},
   "outputs": [],
   "source": [
    "X= features_pca\n",
    "X.shape\n",
    "## --> run 2.2 split and 2.3 models again"
   ]
  },
  {
   "cell_type": "code",
   "execution_count": null,
   "metadata": {},
   "outputs": [],
   "source": []
  },
  {
   "cell_type": "code",
   "execution_count": null,
   "metadata": {},
   "outputs": [],
   "source": []
  },
  {
   "cell_type": "code",
   "execution_count": null,
   "metadata": {},
   "outputs": [],
   "source": []
  },
  {
   "cell_type": "code",
   "execution_count": null,
   "metadata": {},
   "outputs": [],
   "source": []
  },
  {
   "cell_type": "code",
   "execution_count": null,
   "metadata": {},
   "outputs": [],
   "source": []
  },
  {
   "cell_type": "code",
   "execution_count": null,
   "metadata": {},
   "outputs": [],
   "source": []
  },
  {
   "cell_type": "code",
   "execution_count": null,
   "metadata": {},
   "outputs": [],
   "source": []
  },
  {
   "cell_type": "code",
   "execution_count": null,
   "metadata": {},
   "outputs": [],
   "source": []
  },
  {
   "cell_type": "code",
   "execution_count": null,
   "metadata": {},
   "outputs": [],
   "source": []
  },
  {
   "cell_type": "code",
   "execution_count": null,
   "metadata": {},
   "outputs": [],
   "source": []
  },
  {
   "cell_type": "code",
   "execution_count": null,
   "metadata": {},
   "outputs": [],
   "source": []
  },
  {
   "cell_type": "code",
   "execution_count": null,
   "metadata": {},
   "outputs": [],
   "source": []
  },
  {
   "cell_type": "code",
   "execution_count": null,
   "metadata": {},
   "outputs": [],
   "source": []
  },
  {
   "cell_type": "code",
   "execution_count": null,
   "metadata": {},
   "outputs": [],
   "source": []
  },
  {
   "cell_type": "code",
   "execution_count": null,
   "metadata": {},
   "outputs": [],
   "source": []
  },
  {
   "cell_type": "code",
   "execution_count": null,
   "metadata": {},
   "outputs": [],
   "source": []
  },
  {
   "cell_type": "code",
   "execution_count": null,
   "metadata": {},
   "outputs": [],
   "source": []
  },
  {
   "cell_type": "code",
   "execution_count": null,
   "metadata": {},
   "outputs": [],
   "source": []
  },
  {
   "cell_type": "code",
   "execution_count": null,
   "metadata": {},
   "outputs": [],
   "source": []
  },
  {
   "cell_type": "code",
   "execution_count": null,
   "metadata": {},
   "outputs": [],
   "source": []
  },
  {
   "cell_type": "code",
   "execution_count": null,
   "metadata": {},
   "outputs": [],
   "source": []
  },
  {
   "cell_type": "code",
   "execution_count": null,
   "metadata": {},
   "outputs": [],
   "source": []
  },
  {
   "cell_type": "code",
   "execution_count": null,
   "metadata": {},
   "outputs": [],
   "source": []
  },
  {
   "cell_type": "code",
   "execution_count": null,
   "metadata": {},
   "outputs": [],
   "source": []
  },
  {
   "cell_type": "code",
   "execution_count": null,
   "metadata": {},
   "outputs": [],
   "source": []
  },
  {
   "cell_type": "code",
   "execution_count": null,
   "metadata": {},
   "outputs": [],
   "source": []
  },
  {
   "cell_type": "code",
   "execution_count": null,
   "metadata": {},
   "outputs": [],
   "source": []
  },
  {
   "cell_type": "code",
   "execution_count": null,
   "metadata": {},
   "outputs": [],
   "source": []
  },
  {
   "cell_type": "markdown",
   "metadata": {},
   "source": [
    "## 2. Classification"
   ]
  },
  {
   "cell_type": "markdown",
   "metadata": {},
   "source": [
    "## 2.1 first try"
   ]
  },
  {
   "cell_type": "code",
   "execution_count": null,
   "metadata": {},
   "outputs": [],
   "source": []
  },
  {
   "cell_type": "markdown",
   "metadata": {},
   "source": [
    "### 2.1.1 prepare data"
   ]
  },
  {
   "cell_type": "code",
   "execution_count": null,
   "metadata": {},
   "outputs": [],
   "source": [
    "# change outcome variable to a 2 classification variable:\n",
    "# drop 99\n",
    "# based on ds_1\n",
    "data = ds_1\n",
    "\n",
    "data =data[data['PW130: TRUST IN THE POLITICAL SYSTEM']!=-1]\n",
    "data.shape\n",
    "ds_1.shape[0]-data.shape[0]"
   ]
  },
  {
   "cell_type": "code",
   "execution_count": null,
   "metadata": {},
   "outputs": [],
   "source": [
    "data['Y_class']= data['PW130: TRUST IN THE POLITICAL SYSTEM'].apply(lambda x: 1 if x>=8 else 0)"
   ]
  },
  {
   "cell_type": "code",
   "execution_count": null,
   "metadata": {},
   "outputs": [],
   "source": [
    "data['Y_class'].hist()\n",
    "data['Y_class'].value_counts()\n",
    "## --> balanced more or less"
   ]
  },
  {
   "cell_type": "code",
   "execution_count": null,
   "metadata": {},
   "outputs": [],
   "source": [
    "XCol=data.columns[:-2]\n",
    "YCol=data.columns[-1]\n",
    "\n",
    "print(len(XCol))\n",
    "print(YCol)"
   ]
  },
  {
   "cell_type": "code",
   "execution_count": null,
   "metadata": {},
   "outputs": [],
   "source": [
    "X = data[XCol]\n",
    "y= data[YCol]\n"
   ]
  },
  {
   "cell_type": "code",
   "execution_count": null,
   "metadata": {},
   "outputs": [],
   "source": [
    "X_train, X_test, y_train, y_test = train_test_split(X, y, test_size=0.3)\n",
    "X_train.shape\n",
    "X_test.shape\n"
   ]
  },
  {
   "cell_type": "markdown",
   "metadata": {},
   "source": [
    "#### a) Logistic Regression"
   ]
  },
  {
   "cell_type": "code",
   "execution_count": null,
   "metadata": {},
   "outputs": [],
   "source": [
    "lr = LogisticRegression()\n",
    "lr.fit(X_train,y_train)\n",
    "\n",
    "\n",
    "y_pred=lr.predict(X_test)"
   ]
  },
  {
   "cell_type": "code",
   "execution_count": null,
   "metadata": {},
   "outputs": [],
   "source": [
    "acc = lr.score(X_test,y_test)\n",
    "acc"
   ]
  },
  {
   "cell_type": "code",
   "execution_count": null,
   "metadata": {},
   "outputs": [],
   "source": [
    "conf=confusion_matrix(y_test, y_pred)\n",
    "\n",
    "print( \"accuracy: \"  + str(round((conf[1,1]+conf[0,0])/ conf.sum()*100,2)))\n",
    "print( \"precision: \" +str(round((conf[0,0])/ (conf[1,0]+conf[0,0])*100,2)))\n",
    "\n",
    "conf\n",
    "\n",
    "tn,fp,fn,tp = confusion_matrix(y_test, y_pred).flatten()\n",
    "### it predicts all as 1..."
   ]
  },
  {
   "cell_type": "markdown",
   "metadata": {},
   "source": [
    "#### b) DecisionTree Classify"
   ]
  },
  {
   "cell_type": "code",
   "execution_count": null,
   "metadata": {},
   "outputs": [],
   "source": [
    "dtc = DecisionTreeClassifier()\n",
    "dtc.fit(X_train, y_train)\n",
    "y_pred = dtc.predict(X_test)"
   ]
  },
  {
   "cell_type": "code",
   "execution_count": null,
   "metadata": {},
   "outputs": [],
   "source": [
    "acc = dtc.score(X_test, y_test)*100\n",
    "print(f\"Decision Tree Test Accuracy {round(acc, 2)}%\")"
   ]
  },
  {
   "cell_type": "code",
   "execution_count": null,
   "metadata": {},
   "outputs": [],
   "source": [
    "conf=confusion_matrix(y_test, y_pred)\n",
    "\n",
    "print( \"accuracy: \"  + str(round((conf[1,1]+conf[0,0])/ conf.sum()*100,2)))\n",
    "print( \"precision: \" +str(round((conf[0,0])/ (conf[1,0]+conf[0,0])*100,2)))\n",
    "\n",
    "conf"
   ]
  },
  {
   "cell_type": "code",
   "execution_count": null,
   "metadata": {},
   "outputs": [],
   "source": [
    "## overfitting!!!"
   ]
  },
  {
   "cell_type": "code",
   "execution_count": null,
   "metadata": {},
   "outputs": [],
   "source": []
  },
  {
   "cell_type": "markdown",
   "metadata": {},
   "source": [
    "#### c) Support Vector Maschine"
   ]
  },
  {
   "cell_type": "code",
   "execution_count": null,
   "metadata": {},
   "outputs": [],
   "source": [
    "svm = SVC()\n",
    "svm.fit(X_train, y_train)\n",
    "y_pred = svm.predict(X_test)"
   ]
  },
  {
   "cell_type": "code",
   "execution_count": null,
   "metadata": {},
   "outputs": [],
   "source": [
    "acc = svm.score(X_test,y_test)*100\n",
    "print(f\"SVM Algorithm Test Accuracy {round(acc, 2)}%\")"
   ]
  },
  {
   "cell_type": "code",
   "execution_count": null,
   "metadata": {},
   "outputs": [],
   "source": [
    "conf=confusion_matrix(y_test, y_pred)\n",
    "\n",
    "print( \"accuracy: \"  + str(round((conf[1,1]+conf[0,0])/ conf.sum()*100,2)))\n",
    "print( \"precision: \" +str(round((conf[0,0])/ (conf[1,0]+conf[0,0])*100,2)))"
   ]
  },
  {
   "cell_type": "code",
   "execution_count": null,
   "metadata": {},
   "outputs": [],
   "source": []
  },
  {
   "cell_type": "markdown",
   "metadata": {},
   "source": [
    "#### d) K-Nearest Neighbour"
   ]
  },
  {
   "cell_type": "code",
   "execution_count": null,
   "metadata": {},
   "outputs": [],
   "source": [
    "knn = KNeighborsClassifier(n_neighbors = 2)  # n_neighbors means k\n",
    "knn.fit(X_train, y_train)\n",
    "y_pred = knn.predict(X_test)"
   ]
  },
  {
   "cell_type": "code",
   "execution_count": null,
   "metadata": {},
   "outputs": [],
   "source": [
    "acc = knn.score(X_test, y_test)*100\n",
    "acc"
   ]
  },
  {
   "cell_type": "code",
   "execution_count": null,
   "metadata": {},
   "outputs": [],
   "source": [
    "conf=confusion_matrix(y_test, y_pred)\n",
    "\n",
    "print( \"accuracy: \"  + str(round((conf[1,1]+conf[0,0])/ conf.sum()*100,2)))\n",
    "print( \"precision: \" +str(round((conf[0,0])/ (conf[1,0]+conf[0,0])*100,2)))\n"
   ]
  },
  {
   "cell_type": "code",
   "execution_count": null,
   "metadata": {},
   "outputs": [],
   "source": []
  },
  {
   "cell_type": "markdown",
   "metadata": {},
   "source": [
    "Sammelsurium zum optimieren:\n",
    "- dummies für social benefits einzelne\n",
    "- die einzelnen social benefits brauchen\n",
    "- log from y!"
   ]
  },
  {
   "cell_type": "code",
   "execution_count": null,
   "metadata": {},
   "outputs": [],
   "source": []
  }
 ],
 "metadata": {
  "kernelspec": {
   "display_name": "Python 3",
   "language": "python",
   "name": "python3"
  },
  "language_info": {
   "codemirror_mode": {
    "name": "ipython",
    "version": 3
   },
   "file_extension": ".py",
   "mimetype": "text/x-python",
   "name": "python",
   "nbconvert_exporter": "python",
   "pygments_lexer": "ipython3",
   "version": "3.7.4"
  }
 },
 "nbformat": 4,
 "nbformat_minor": 2
}
