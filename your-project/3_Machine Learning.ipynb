{
 "cells": [
  {
   "cell_type": "markdown",
   "metadata": {},
   "source": [
    "# Machine Learning Models"
   ]
  },
  {
   "cell_type": "code",
   "execution_count": 16,
   "metadata": {},
   "outputs": [],
   "source": [
    "import numpy as np\n",
    "import pandas as pd\n",
    "import matplotlib.pyplot as plt\n",
    "import seaborn as sns\n",
    "\n",
    "from pandas_profiling import ProfileReport"
   ]
  },
  {
   "cell_type": "code",
   "execution_count": 17,
   "metadata": {},
   "outputs": [],
   "source": [
    "## classification ml:\n",
    "from sklearn.linear_model import LogisticRegression\n",
    "from sklearn.model_selection import train_test_split\n",
    "from sklearn.metrics import accuracy_score\n",
    "from sklearn.tree import DecisionTreeClassifier\n",
    "from sklearn.svm import SVC\n",
    "from sklearn.neighbors import KNeighborsClassifier\n",
    "from sklearn.metrics import confusion_matrix"
   ]
  },
  {
   "cell_type": "code",
   "execution_count": 167,
   "metadata": {},
   "outputs": [],
   "source": [
    "## regression ml\n",
    "from sklearn.linear_model import LinearRegression\n",
    "from sklearn.datasets import load_boston\n",
    "from sklearn.preprocessing import PolynomialFeatures, StandardScaler\n",
    "from sklearn.preprocessing import MinMaxScaler\n",
    "from sklearn.preprocessing import Normalizer\n",
    "from sklearn.model_selection import train_test_split\n",
    "from sklearn.pipeline import make_pipeline\n",
    "from sklearn.tree import DecisionTreeRegressor\n",
    "from sklearn.tree.export import export_text\n",
    "from sklearn.neighbors import KNeighborsRegressor"
   ]
  },
  {
   "cell_type": "code",
   "execution_count": 19,
   "metadata": {},
   "outputs": [],
   "source": [
    "### evaluation\n",
    "from sklearn.metrics import mean_absolute_error\n",
    "from sklearn.metrics import mean_squared_error\n",
    "from sklearn.metrics import r2_score"
   ]
  },
  {
   "cell_type": "code",
   "execution_count": 20,
   "metadata": {},
   "outputs": [],
   "source": [
    "### optimize model\n",
    "from sklearn.feature_selection import RFE\n",
    "from sklearn.decomposition import PCA, FastICA"
   ]
  },
  {
   "cell_type": "code",
   "execution_count": 56,
   "metadata": {},
   "outputs": [],
   "source": [
    "ds = pd.read_csv('./data/datamax_cleaned.csv', index_col=0)"
   ]
  },
  {
   "cell_type": "code",
   "execution_count": 250,
   "metadata": {},
   "outputs": [
    {
     "data": {
      "text/plain": [
       "['PB140: YEAR OF BIRTH',\n",
       " 'PB150: SEX',\n",
       " 'PB190: MARITAL STATUS',\n",
       " 'PB200: CONSENSUAL UNION',\n",
       " 'PB220A: CITIZENSHIP',\n",
       " 'PE010: CURRENT EDUCATION ACTIVITY',\n",
       " 'PE040: HIGHEST ISCED LEVEL ATTAINED',\n",
       " 'PL031: SELF-DEFINED CURRENT ECONOMIC STATUS',\n",
       " 'PL035: WORKED AT LEAST 1 HOUR DURING THE PREVIOUS WEEK',\n",
       " 'PL051: OCCUPATION (ISCO-08 (COM))',\n",
       " 'PL150: MANAGERIAL POSITION',\n",
       " 'PH010: GENERAL HEALTH',\n",
       " 'PH020: SUFFER FROM ANY A CHRONIC (LONG-STANDING) ILLNESS OR CONDITION',\n",
       " 'PH030: LIMITATION IN ACTIVITIES BECAUSE OF HEALTH PROBLEMS',\n",
       " 'PH040: UNMET NEED FOR MEDICAL EXAMINATION OR TREATMENT',\n",
       " 'PH060: UNMET NEED FOR DENTAL EXAMINATION OR TREATMENT',\n",
       " 'PY010G_PY020G_PY021G_PY050G: EMPLOYEE INCOME',\n",
       " 'PY035G: CONTRIBUTIONS TO INDIVIDUAL PRIVATE PENSION PLANS',\n",
       " 'PY080G: PENSION FROM INDIVIDUAL PRIVATE PLANS',\n",
       " 'PY090G++: SOCIAL BENEFITS',\n",
       " 'PD020: Replace worn-out clothes by some new (not second-hand) ones',\n",
       " 'PD030: Two pairs of properly fitting shoes',\n",
       " 'PD050: Get-together with friends/family (relatives) for a drink/meal at least once a month',\n",
       " 'PD060: Regularly participate in a leisure activity',\n",
       " 'PD070: Spend a small amount of money each week on yourself',\n",
       " 'PD080: Internet connection for personal use at home',\n",
       " 'PW010: OVERALL LIFE SATISFACTION',\n",
       " 'PW020: MEANING OF LIFE',\n",
       " 'PW030: SATISFACTION WITH FINANCIAL SITUATION',\n",
       " 'PW040: SATISFACTION WITH ACCOMMODATION',\n",
       " 'PW050: BEING VERY NERVOUS',\n",
       " 'PW060: FEELING DOWN IN THE DUMPS',\n",
       " 'PW070: FEELING CALM AND PEACEFUL',\n",
       " 'PW080: FEELING DOWNHEARTED OR DEPRESSED',\n",
       " 'PW090: BEING HAPPY',\n",
       " 'PW120: SATISFACTION WITH TIME USE',\n",
       " 'PW130: TRUST IN THE POLITICAL SYSTEM',\n",
       " 'PW140: TRUST IN THE LEGAL SYSTEM',\n",
       " 'PW150: TRUST IN THE POLICE',\n",
       " 'PW160: SATISFACTION WITH PERSONAL RELATIONSHIPS',\n",
       " 'PW170: PERSONAL MATTERS (ANYONE TO DISCUSS WITH)',\n",
       " 'PW180: HELP FROM OTHERS',\n",
       " 'PW190: TRUST IN OTHERS',\n",
       " 'PW200: SATISFACTION WITH RECREATIONAL OR GREEN AREAS',\n",
       " 'PW210: SATISFACTION WITH LIVING ENVIRONMENT',\n",
       " 'PW220: PHYSICAL SECURITY']"
      ]
     },
     "execution_count": 250,
     "metadata": {},
     "output_type": "execute_result"
    }
   ],
   "source": [
    "#subsets\n",
    "background = ['PB140: YEAR OF BIRTH','PB150: SEX','PB190: MARITAL STATUS','PB200: CONSENSUAL UNION', 'PB220A: CITIZENSHIP']\n",
    "\n",
    "education = ['PE010: CURRENT EDUCATION ACTIVITY', 'PE040: HIGHEST ISCED LEVEL ATTAINED']\n",
    "\n",
    "work = ['PL031: SELF-DEFINED CURRENT ECONOMIC STATUS', 'PL035: WORKED AT LEAST 1 HOUR DURING THE PREVIOUS WEEK', 'PL051: OCCUPATION (ISCO-08 (COM))', 'PL150: MANAGERIAL POSITION']\n",
    "\n",
    "health = ['PH010: GENERAL HEALTH',\n",
    " 'PH020: SUFFER FROM ANY A CHRONIC (LONG-STANDING) ILLNESS OR CONDITION',\n",
    " 'PH030: LIMITATION IN ACTIVITIES BECAUSE OF HEALTH PROBLEMS',\n",
    " 'PH040: UNMET NEED FOR MEDICAL EXAMINATION OR TREATMENT',\n",
    " 'PH060: UNMET NEED FOR DENTAL EXAMINATION OR TREATMENT']\n",
    "\n",
    "job= ['PY010G_PY020G_PY021G_PY050G: EMPLOYEE INCOME',\n",
    "       'PY035G: CONTRIBUTIONS TO INDIVIDUAL PRIVATE PENSION PLANS',\n",
    "      'PY080G: PENSION FROM INDIVIDUAL PRIVATE PLANS',\n",
    "      \"PY090G++: SOCIAL BENEFITS\"]\n",
    "jobdiff=['PY010G_PY020G_PY021G_PY050G: EMPLOYEE INCOME',\n",
    "       'PY035G: CONTRIBUTIONS TO INDIVIDUAL PRIVATE PENSION PLANS',\n",
    "      'PY080G: PENSION FROM INDIVIDUAL PRIVATE PLANS',\n",
    "       'PY090G: UNEMPLOYMENT BENEFITS', 'PY100G: OLD-AGE BENEFITS',\n",
    "       'PY110G: SURVIVOR’ BENEFITS', 'PY120G: SICKNESS BENEFITS',\n",
    "       'PY130G: DISABILITY BENEFITS', 'PY140G: EDUCATION-RELATED ALLOWANCES']\n",
    "\n",
    "\n",
    "bneeds= ['PD020: Replace worn-out clothes by some new (not second-hand) ones',\n",
    "       'PD030: Two pairs of properly fitting shoes',\n",
    "       'PD050: Get-together with friends/family (relatives) for a drink/meal at least once a month',\n",
    "       'PD060: Regularly participate in a leisure activity',\n",
    "       'PD070: Spend a small amount of money each week on yourself',\n",
    "       'PD080: Internet connection for personal use at home']\n",
    "\n",
    "\n",
    "sat =['PW010: OVERALL LIFE SATISFACTION', 'PW020: MEANING OF LIFE',\n",
    "       'PW030: SATISFACTION WITH FINANCIAL SITUATION',\n",
    "       'PW040: SATISFACTION WITH ACCOMMODATION', 'PW050: BEING VERY NERVOUS',\n",
    "       'PW060: FEELING DOWN IN THE DUMPS', 'PW070: FEELING CALM AND PEACEFUL',\n",
    "       'PW080: FEELING DOWNHEARTED OR DEPRESSED', 'PW090: BEING HAPPY',\n",
    "       'PW120: SATISFACTION WITH TIME USE',\n",
    "       'PW130: TRUST IN THE POLITICAL SYSTEM',\n",
    "       'PW140: TRUST IN THE LEGAL SYSTEM', 'PW150: TRUST IN THE POLICE',\n",
    "       'PW160: SATISFACTION WITH PERSONAL RELATIONSHIPS',\n",
    "       'PW170: PERSONAL MATTERS (ANYONE TO DISCUSS WITH)',\n",
    "       'PW180: HELP FROM OTHERS', 'PW190: TRUST IN OTHERS',\n",
    "       'PW200: SATISFACTION WITH RECREATIONAL OR GREEN AREAS',\n",
    "       'PW210: SATISFACTION WITH LIVING ENVIRONMENT',\n",
    "       'PW220: PHYSICAL SECURITY']\n",
    "\n",
    "subsets= [background,education,work,health,job,bneeds, sat]\n",
    "columns = []\n",
    "for x in subsets:\n",
    "    for y in x:\n",
    "        columns.append (y)\n",
    "columns"
   ]
  },
  {
   "cell_type": "markdown",
   "metadata": {},
   "source": [
    "# 0 Superfunctions"
   ]
  },
  {
   "cell_type": "markdown",
   "metadata": {},
   "source": [
    "## 0.1 binning"
   ]
  },
  {
   "cell_type": "code",
   "execution_count": 89,
   "metadata": {},
   "outputs": [],
   "source": [
    "def pbin(column_to_bin, x):\n",
    "    bin_labels = [x for x in range(0,x)]\n",
    "\n",
    "    equal_bins = pd.cut(ds[column_to_bin], x, labels = bin_labels)\n",
    "    return equal_bins\n",
    "\n",
    "def qbin(column_to_bin, x):\n",
    "    bin_labels = [x for x in range(0,x)]\n",
    "\n",
    "    equal_bins = pd.qcut(ds[column_to_bin], x, labels = bin_labels)\n",
    "    return equal_bins"
   ]
  },
  {
   "cell_type": "code",
   "execution_count": 90,
   "metadata": {},
   "outputs": [],
   "source": [
    "binned =pbin('PY010G_PY020G_PY021G_PY050G: EMPLOYEE INCOME',5)"
   ]
  },
  {
   "cell_type": "code",
   "execution_count": 66,
   "metadata": {
    "scrolled": false
   },
   "outputs": [
    {
     "data": {
      "text/plain": [
       "<matplotlib.axes._subplots.AxesSubplot at 0x2521f62d688>"
      ]
     },
     "execution_count": 66,
     "metadata": {},
     "output_type": "execute_result"
    },
    {
     "data": {
      "image/png": "[encoded data removed]",
      "text/plain": [
       "<Figure size 432x288 with 1 Axes>"
      ]
     },
     "metadata": {
      "needs_background": "light"
     },
     "output_type": "display_data"
    }
   ],
   "source": [
    "binned.hist()"
   ]
  },
  {
   "cell_type": "markdown",
   "metadata": {},
   "source": [
    "## 0.2 generate train and test"
   ]
  },
  {
   "cell_type": "code",
   "execution_count": 168,
   "metadata": {},
   "outputs": [],
   "source": [
    "### generate tests with several binning\n",
    "# binning first\n",
    "def generateTest (X_interested,y_interested, dummy, drop_na_in_y, scalertouse):\n",
    "    outcome = ds[y_interested]\n",
    "    features = ds[X_interested]\n",
    "    outcomelist=y_interested\n",
    "    featureslist=X_interested\n",
    "    data =pd.merge(features, outcome, left_index=True, right_index=True)\n",
    "    \n",
    "    # create dummy\n",
    "    categorical= ['PB150: SEX', 'PB190: MARITAL STATUS',\n",
    "       'PB200: CONSENSUAL UNION', 'PB220A: CITIZENSHIP',\n",
    "       'PE010: CURRENT EDUCATION ACTIVITY',\n",
    "       'PL031: SELF-DEFINED CURRENT ECONOMIC STATUS',\n",
    "       'PL035: WORKED AT LEAST 1 HOUR DURING THE PREVIOUS WEEK',\n",
    "       'PL051: OCCUPATION (ISCO-08 (COM))', 'PL150: MANAGERIAL POSITION',\n",
    "        'PH030: LIMITATION IN ACTIVITIES BECAUSE OF HEALTH PROBLEMS',\n",
    "       'PH040: UNMET NEED FOR MEDICAL EXAMINATION OR TREATMENT',\n",
    "       'PH060: UNMET NEED FOR DENTAL EXAMINATION OR TREATMENT',\n",
    "       'PD020: Replace worn-out clothes by some new (not second-hand) ones',\n",
    "       'PD030: Two pairs of properly fitting shoes',\n",
    "       'PD050: Get-together with friends/family (relatives) for a drink/meal at least once a month',\n",
    "       'PD060: Regularly participate in a leisure activity',\n",
    "       'PD070: Spend a small amount of money each week on yourself',\n",
    "       'PD080: Internet connection for personal use at home',\n",
    "      ]\n",
    "    \n",
    "\n",
    "\n",
    "    create_dummy=set(featureslist).intersection(categorical)\n",
    "    data_dummy = pd.get_dummies(data, columns=create_dummy, drop_first=True)\n",
    "    if dummy=='yes':\n",
    "        data = data_dummy\n",
    "    \n",
    "    ## drop na in outcome\n",
    "    if drop_na_in_y == 'yes':\n",
    "        data = data[data[outcomelist]>=0]\n",
    "    \n",
    "    ## split dataset again in x and y\n",
    "    XCol=list(data.columns)\n",
    "    XCol.remove(outcomelist)\n",
    "    YCol=outcomelist\n",
    "    Xtouse = data[XCol]\n",
    "    y= data[YCol]\n",
    "\n",
    "    \n",
    "    # scaler\n",
    "    if scalertouse == \"Standard\":\n",
    "        scaler = StandardScaler()\n",
    "        X_ = scaler.fit_transform(Xtouse)\n",
    "    elif scalertouse == \"MinMax\":\n",
    "        scaler = MinMaxScaler(feature_range=(0, 1))\n",
    "        X_ = scaler.fit_transform(Xtouse)\n",
    "        X_.shape\n",
    "    elif scalertouse == \"Normalizer\":\n",
    "        scaler = Normalizer()\n",
    "        X_ = scaler.fit_transform(Xtouse)\n",
    "        X_.shape\n",
    "    else: \n",
    "        X_ = Xtouse\n",
    "    \n",
    "    X_train, X_test, y_train, y_test = train_test_split(X_, y, test_size=0.2)\n",
    "    return X_train, X_test, y_train, y_test"
   ]
  },
  {
   "cell_type": "markdown",
   "metadata": {},
   "source": [
    "## 0.2  Regression"
   ]
  },
  {
   "cell_type": "code",
   "execution_count": 75,
   "metadata": {},
   "outputs": [],
   "source": [
    "# maxximize function to split and run all the models:\n",
    "\n",
    "def runmodels (X_interested,y_interested, dummy, drop_na_in_y, scalertouse):\n",
    "\n",
    "    X_train = generateTest (X_interested,y_interested, dummy, drop_na_in_y, scalertouse)[0]\n",
    "    X_test = generateTest (X_interested,y_interested, dummy, drop_na_in_y, scalertouse)[1]\n",
    "    y_train = generateTest (X_interested,y_interested, dummy, drop_na_in_y,  scalertouse)[2]\n",
    "    y_test = generateTest (X_interested,y_interested, dummy, drop_na_in_y, scalertouse)[3]\n",
    "\n",
    "    \n",
    "    print(\"X: \", X_train.columns)\n",
    "    print(\"Y: \", y_interested,\"\\n\")\n",
    "    \n",
    "    # Linear Regression\n",
    "    lm = LinearRegression()\n",
    "    model = lm.fit(X_train,y_train)\n",
    "\n",
    "    print(\"Intercept: \", lm.intercept_)\n",
    "    print(\"Coef: \", lm.coef_)\n",
    "\n",
    "    y_pred  = lm.predict(X_test)\n",
    "    print (\"linear aMSE: \", mean_absolute_error(y_test, y_pred))\n",
    "    print (\"linear MSE: \",mean_squared_error(y_test, y_pred))\n",
    "    print (\"linear R2: \",r2_score(y_test, y_pred), \"\\n\")\n",
    "    \n",
    "    \n",
    "    ### Regression Tree\n",
    "    regr = DecisionTreeRegressor(random_state = 29)\n",
    "    model = regr.fit(X_train, y_train)\n",
    "    y_pred  = regr.predict(X_test)\n",
    "    regr.score(X_test, y_test)\n",
    "    print (\"Regression Tree aMSE: \", mean_absolute_error(y_test, y_pred))\n",
    "    print (\"Regression Tree MSE: \",mean_squared_error(y_test, y_pred))\n",
    "    print (\"Regression Tree R2: \",r2_score(y_test, y_pred),\"\\n\")\n",
    "    \n",
    "    ### KNeighborsRegressor\n",
    "    knnr = KNeighborsRegressor(n_neighbors = 3)\n",
    "    model = knnr.fit(X_train, y_train)  #fit the model\n",
    "    y_pred = knnr.predict(X_test)\n",
    "    print (\"KNeighbores aMSE: \", mean_absolute_error(y_test, y_pred))\n",
    "    print (\"KNeighbores MSE: \",mean_squared_error(y_test, y_pred))\n",
    "    print (\"KNeighbores R2: \",r2_score(y_test, y_pred))"
   ]
  },
  {
   "cell_type": "code",
   "execution_count": 77,
   "metadata": {
    "collapsed": true
   },
   "outputs": [
    {
     "name": "stdout",
     "output_type": "stream",
     "text": [
      "X:  Index(['PD030: Two pairs of properly fitting shoes_2.0',\n",
      "       'PD020: Replace worn-out clothes by some new (not second-hand) ones_2.0',\n",
      "       'PD070: Spend a small amount of money each week on yourself_2.0',\n",
      "       'PD080: Internet connection for personal use at home_2.0',\n",
      "       'PD050: Get-together with friends/family (relatives) for a drink/meal at least once a month_2.0',\n",
      "       'PD060: Regularly participate in a leisure activity_2.0'],\n",
      "      dtype='object')\n",
      "Y:  PW130: TRUST IN THE POLITICAL SYSTEM \n",
      "\n",
      "Intercept:  4.984384562401287\n",
      "Coef:  [ 0.02016619 -0.00973691 -0.04906928 -0.0362208  -0.05120821 -0.07853531]\n",
      "linear aMSE:  2.170278705576961\n",
      "linear MSE:  6.897439068685686\n",
      "linear R2:  -0.001986555329586137 \n",
      "\n",
      "Regression Tree aMSE:  2.178726858607019\n",
      "Regression Tree MSE:  6.934787386037485\n",
      "Regression Tree R2:  -0.007412121467688548 \n",
      "\n",
      "KNeighbores aMSE:  2.5680542315432686\n",
      "KNeighbores MSE:  10.15538608198284\n",
      "KNeighbores R2:  -0.47526643106206845\n"
     ]
    }
   ],
   "source": [
    "runmodels(bneeds,'PW130: TRUST IN THE POLITICAL SYSTEM', 'yes', 'yes', 'no')"
   ]
  },
  {
   "cell_type": "markdown",
   "metadata": {},
   "source": [
    "## 0.4  Classification"
   ]
  },
  {
   "cell_type": "code",
   "execution_count": 78,
   "metadata": {},
   "outputs": [],
   "source": [
    "# maxximize function to split and run all the models:\n",
    "## y binning first\n",
    "def class_bin (X_interested,y_interested, dummy, drop_na_in_y, scalertouse):\n",
    "\n",
    "    X_train = generateTest (X_interested,y_interested, dummy, drop_na_in_y, scalertouse)[0]\n",
    "    X_test = generateTest (X_interested,y_interested, dummy, drop_na_in_y,  scalertouse)[1]\n",
    "    y_train = generateTest (X_interested,y_interested, dummy, drop_na_in_y,  scalertouse)[2]\n",
    "    y_test = generateTest (X_interested,y_interested, dummy, drop_na_in_y,  scalertouse)[3]\n",
    "\n",
    "    \n",
    "    print(\"X: \", X_train.columns)\n",
    "    print(\"Y: \", y_interested,\"\\n\")\n",
    "    \n",
    "    # logistic regression\n",
    "    lr = LogisticRegression()\n",
    "    lr.fit(X_train,y_train)\n",
    "    y_pred=lr.predict(X_test)\n",
    "    conf=confusion_matrix(y_test, y_pred)\n",
    "    tn,fp,fn,tp = confusion_matrix(y_test, y_pred).ravel()\n",
    "    matrix = pd.DataFrame([[tp, tn, (tp+tn),round((tp+tn)/(tp+tn+fp+fn)*100,2)],[fp, fn, (fp+fn), ]], index = [\"true\", \"false\"], columns=['positive', 'negative', 'total','accuracy'])\n",
    "    print(matrix)\n",
    "    print( \"Logistic regression - accuracy: \", str(round((conf[1,1]+conf[0,0])/ conf.sum()*100,2)))\n",
    "    print( \"Logistic regression - precision\", str(round((conf[0,0])/ (conf[1,0]+conf[0,0])*100,2)), \"\\n\")\n",
    "\n",
    "    # Decision Tree classyier\n",
    "    dtc = DecisionTreeClassifier()\n",
    "    dtc.fit(X_train, y_train)\n",
    "    y_pred = dtc.predict(X_test)\n",
    "    conf=confusion_matrix(y_test, y_pred)\n",
    "    tn,fp,fn,tp = confusion_matrix(y_test, y_pred).ravel()\n",
    "    matrix = pd.DataFrame([[tp, tn, (tp+tn),round((tp+tn)/(tp+tn+fp+fn)*100,2)],[fp, fn, (fp+fn), ]], index = [\"true\", \"false\"], columns=['positive', 'negative', 'total','accuracy'])\n",
    "    print(matrix)\n",
    "    print( \"Decision tree - accuracy  \", str(round((conf[1,1]+conf[0,0])/ conf.sum()*100,2)))\n",
    "    print( \"Decision tree - precision\", str(round((conf[0,0])/ (conf[1,0]+conf[0,0])*100,2)), \"\\n\")  \n",
    "      \n",
    "    # super vector machine (takes too much time)                                          \n",
    "                                                   \n",
    "    # KNeighborsClassifier\n",
    "    knn = KNeighborsClassifier(n_neighbors = 2)  # n_neighbors means k\n",
    "    knn.fit(X_train, y_train)\n",
    "    y_pred = knn.predict(X_test)\n",
    "    conf=confusion_matrix(y_test, y_pred)\n",
    "    tn,fp,fn,tp = confusion_matrix(y_test, y_pred).ravel()\n",
    "    matrix = pd.DataFrame([[tp, tn, (tp+tn),round((tp+tn)/(tp+tn+fp+fn)*100,2)],[fp, fn, (fp+fn), ]], index = [\"true\", \"false\"], columns=['positive', 'negative', 'total','accuracy'])\n",
    "    print(matrix)\n",
    "    print( \"KNeighborsClassifier - accuracy  \", str(round((conf[1,1]+conf[0,0])/ conf.sum()*100,2)))\n",
    "    print( \"KNeighborsClassifier - precision\", str(round((conf[0,0])/ (conf[1,0]+conf[0,0])*100,2)), \"\\n\") "
   ]
  },
  {
   "cell_type": "code",
   "execution_count": 80,
   "metadata": {},
   "outputs": [
    {
     "name": "stdout",
     "output_type": "stream",
     "text": [
      "X:  Index(['PB140: YEAR OF BIRTH', 'PB200: CONSENSUAL UNION_2',\n",
      "       'PB200: CONSENSUAL UNION_3', 'PB220A: CITIZENSHIP_1',\n",
      "       'PB190: MARITAL STATUS_2.0', 'PB190: MARITAL STATUS_3.0',\n",
      "       'PB190: MARITAL STATUS_4.0', 'PB190: MARITAL STATUS_5.0',\n",
      "       'PB150: SEX_2'],\n",
      "      dtype='object')\n",
      "Y:  PW130: TRUST IN THE POLITICAL SYSTEM \n",
      "\n"
     ]
    },
    {
     "name": "stderr",
     "output_type": "stream",
     "text": [
      "C:\\Users\\haenni\\AppData\\Local\\Continuum\\anaconda3\\lib\\site-packages\\sklearn\\linear_model\\logistic.py:432: FutureWarning: Default solver will be changed to 'lbfgs' in 0.22. Specify a solver to silence this warning.\n",
      "  FutureWarning)\n",
      "C:\\Users\\haenni\\AppData\\Local\\Continuum\\anaconda3\\lib\\site-packages\\sklearn\\linear_model\\logistic.py:469: FutureWarning: Default multi_class will be changed to 'auto' in 0.22. Specify the multi_class option to silence this warning.\n",
      "  \"this warning.\", FutureWarning)\n"
     ]
    },
    {
     "ename": "ValueError",
     "evalue": "too many values to unpack (expected 4)",
     "output_type": "error",
     "traceback": [
      "\u001b[1;31m---------------------------------------------------------------------------\u001b[0m",
      "\u001b[1;31mValueError\u001b[0m                                Traceback (most recent call last)",
      "\u001b[1;32m<ipython-input-80-6718a46852fb>\u001b[0m in \u001b[0;36m<module>\u001b[1;34m\u001b[0m\n\u001b[1;32m----> 1\u001b[1;33m \u001b[0mclass_bin\u001b[0m\u001b[1;33m(\u001b[0m\u001b[0mbackground\u001b[0m\u001b[1;33m,\u001b[0m \u001b[1;34m'PW130: TRUST IN THE POLITICAL SYSTEM'\u001b[0m\u001b[1;33m,\u001b[0m \u001b[1;34m'yes'\u001b[0m \u001b[1;33m,\u001b[0m \u001b[1;34m'yes'\u001b[0m\u001b[1;33m,\u001b[0m \u001b[1;34m'MaxMin'\u001b[0m\u001b[1;33m)\u001b[0m\u001b[1;33m\u001b[0m\u001b[1;33m\u001b[0m\u001b[0m\n\u001b[0m",
      "\u001b[1;32m<ipython-input-78-68c8fdd112b9>\u001b[0m in \u001b[0;36mclass_bin\u001b[1;34m(X_interested, y_interested, dummy, drop_na_in_y, scalertouse)\u001b[0m\n\u001b[0;32m     17\u001b[0m     \u001b[0my_pred\u001b[0m\u001b[1;33m=\u001b[0m\u001b[0mlr\u001b[0m\u001b[1;33m.\u001b[0m\u001b[0mpredict\u001b[0m\u001b[1;33m(\u001b[0m\u001b[0mX_test\u001b[0m\u001b[1;33m)\u001b[0m\u001b[1;33m\u001b[0m\u001b[1;33m\u001b[0m\u001b[0m\n\u001b[0;32m     18\u001b[0m     \u001b[0mconf\u001b[0m\u001b[1;33m=\u001b[0m\u001b[0mconfusion_matrix\u001b[0m\u001b[1;33m(\u001b[0m\u001b[0my_test\u001b[0m\u001b[1;33m,\u001b[0m \u001b[0my_pred\u001b[0m\u001b[1;33m)\u001b[0m\u001b[1;33m\u001b[0m\u001b[1;33m\u001b[0m\u001b[0m\n\u001b[1;32m---> 19\u001b[1;33m     \u001b[0mtn\u001b[0m\u001b[1;33m,\u001b[0m\u001b[0mfp\u001b[0m\u001b[1;33m,\u001b[0m\u001b[0mfn\u001b[0m\u001b[1;33m,\u001b[0m\u001b[0mtp\u001b[0m \u001b[1;33m=\u001b[0m \u001b[0mconfusion_matrix\u001b[0m\u001b[1;33m(\u001b[0m\u001b[0my_test\u001b[0m\u001b[1;33m,\u001b[0m \u001b[0my_pred\u001b[0m\u001b[1;33m)\u001b[0m\u001b[1;33m.\u001b[0m\u001b[0mravel\u001b[0m\u001b[1;33m(\u001b[0m\u001b[1;33m)\u001b[0m\u001b[1;33m\u001b[0m\u001b[1;33m\u001b[0m\u001b[0m\n\u001b[0m\u001b[0;32m     20\u001b[0m     \u001b[0mmatrix\u001b[0m \u001b[1;33m=\u001b[0m \u001b[0mpd\u001b[0m\u001b[1;33m.\u001b[0m\u001b[0mDataFrame\u001b[0m\u001b[1;33m(\u001b[0m\u001b[1;33m[\u001b[0m\u001b[1;33m[\u001b[0m\u001b[0mtp\u001b[0m\u001b[1;33m,\u001b[0m \u001b[0mtn\u001b[0m\u001b[1;33m,\u001b[0m \u001b[1;33m(\u001b[0m\u001b[0mtp\u001b[0m\u001b[1;33m+\u001b[0m\u001b[0mtn\u001b[0m\u001b[1;33m)\u001b[0m\u001b[1;33m,\u001b[0m\u001b[0mround\u001b[0m\u001b[1;33m(\u001b[0m\u001b[1;33m(\u001b[0m\u001b[0mtp\u001b[0m\u001b[1;33m+\u001b[0m\u001b[0mtn\u001b[0m\u001b[1;33m)\u001b[0m\u001b[1;33m/\u001b[0m\u001b[1;33m(\u001b[0m\u001b[0mtp\u001b[0m\u001b[1;33m+\u001b[0m\u001b[0mtn\u001b[0m\u001b[1;33m+\u001b[0m\u001b[0mfp\u001b[0m\u001b[1;33m+\u001b[0m\u001b[0mfn\u001b[0m\u001b[1;33m)\u001b[0m\u001b[1;33m*\u001b[0m\u001b[1;36m100\u001b[0m\u001b[1;33m,\u001b[0m\u001b[1;36m2\u001b[0m\u001b[1;33m)\u001b[0m\u001b[1;33m]\u001b[0m\u001b[1;33m,\u001b[0m\u001b[1;33m[\u001b[0m\u001b[0mfp\u001b[0m\u001b[1;33m,\u001b[0m \u001b[0mfn\u001b[0m\u001b[1;33m,\u001b[0m \u001b[1;33m(\u001b[0m\u001b[0mfp\u001b[0m\u001b[1;33m+\u001b[0m\u001b[0mfn\u001b[0m\u001b[1;33m)\u001b[0m\u001b[1;33m,\u001b[0m \u001b[1;33m]\u001b[0m\u001b[1;33m]\u001b[0m\u001b[1;33m,\u001b[0m \u001b[0mindex\u001b[0m \u001b[1;33m=\u001b[0m \u001b[1;33m[\u001b[0m\u001b[1;34m\"true\"\u001b[0m\u001b[1;33m,\u001b[0m \u001b[1;34m\"false\"\u001b[0m\u001b[1;33m]\u001b[0m\u001b[1;33m,\u001b[0m \u001b[0mcolumns\u001b[0m\u001b[1;33m=\u001b[0m\u001b[1;33m[\u001b[0m\u001b[1;34m'positive'\u001b[0m\u001b[1;33m,\u001b[0m \u001b[1;34m'negative'\u001b[0m\u001b[1;33m,\u001b[0m \u001b[1;34m'total'\u001b[0m\u001b[1;33m,\u001b[0m\u001b[1;34m'accuracy'\u001b[0m\u001b[1;33m]\u001b[0m\u001b[1;33m)\u001b[0m\u001b[1;33m\u001b[0m\u001b[1;33m\u001b[0m\u001b[0m\n\u001b[0;32m     21\u001b[0m     \u001b[0mprint\u001b[0m\u001b[1;33m(\u001b[0m\u001b[0mmatrix\u001b[0m\u001b[1;33m)\u001b[0m\u001b[1;33m\u001b[0m\u001b[1;33m\u001b[0m\u001b[0m\n",
      "\u001b[1;31mValueError\u001b[0m: too many values to unpack (expected 4)"
     ]
    }
   ],
   "source": [
    "class_bin(background, 'PW130: TRUST IN THE POLITICAL SYSTEM', 'yes' , 'yes', 'MaxMin')"
   ]
  },
  {
   "cell_type": "code",
   "execution_count": null,
   "metadata": {},
   "outputs": [],
   "source": []
  },
  {
   "cell_type": "code",
   "execution_count": 164,
   "metadata": {},
   "outputs": [],
   "source": [
    "## target multi\n",
    "# binning first\n",
    "def class_mul (X_interested,y_interested, dummy, drop_na_in_y, scalertouse):\n",
    "    \n",
    "    X_train = generateTest (X_interested,y_interested, dummy, drop_na_in_y, scalertouse)[0]\n",
    "    X_test = generateTest (X_interested,y_interested, dummy, drop_na_in_y, scalertouse)[1]\n",
    "    y_train = generateTest (X_interested,y_interested, dummy, drop_na_in_y,  scalertouse)[2]\n",
    "    y_test = generateTest (X_interested,y_interested, dummy, drop_na_in_y,  scalertouse)[3]\n",
    "\n",
    "    \n",
    "    print(\"X: \", X_interested)\n",
    "    print(\"X: \", y_interested)\n",
    "    \n",
    "    #### b) DecisionTree Classify\n",
    "\n",
    "    dtc = DecisionTreeClassifier()#class_weight='balanced')#max_features=10,\n",
    "    dtc.fit(X_train, y_train)\n",
    "    y_pred = dtc.predict(X_test)\n",
    "\n",
    "    acc = dtc.score(X_test, y_test)*100\n",
    "    print(f\"Decision Tree Test Accuracy {round(acc, 2)}%\")\n",
    " \n",
    "\n",
    "    #### c) Support Vector Maschine\n",
    "    svm = SVC(decision_function_shape='ovo')\n",
    "    svm.fit(X_train, y_train)\n",
    "    y_pred = svm.predict(X_test)\n",
    "    acc = svm.score(X_test,y_test)*100\n",
    "    print(f\"SVM Algorithm Test Accuracy {round(acc, 2)}%\")"
   ]
  },
  {
   "cell_type": "code",
   "execution_count": 122,
   "metadata": {},
   "outputs": [
    {
     "name": "stdout",
     "output_type": "stream",
     "text": [
      "X:  ['PB140: YEAR OF BIRTH', 'PB150: SEX', 'PB190: MARITAL STATUS', 'PB200: CONSENSUAL UNION', 'PB220A: CITIZENSHIP']\n",
      "X:  PW010: OVERALL LIFE SATISFACTION\n",
      "Decision Tree Test Accuracy 3.65%\n"
     ]
    },
    {
     "name": "stderr",
     "output_type": "stream",
     "text": [
      "C:\\Users\\haenni\\AppData\\Local\\Continuum\\anaconda3\\lib\\site-packages\\sklearn\\svm\\base.py:193: FutureWarning: The default value of gamma will change from 'auto' to 'scale' in version 0.22 to account better for unscaled features. Set gamma explicitly to 'auto' or 'scale' to avoid this warning.\n",
      "  \"avoid this warning.\", FutureWarning)\n"
     ]
    },
    {
     "name": "stdout",
     "output_type": "stream",
     "text": [
      "SVM Algorithm Test Accuracy 26.87%\n"
     ]
    }
   ],
   "source": [
    "class_mul(background, sat[0], 'yes' , 'no', 'MaxMin')"
   ]
  },
  {
   "cell_type": "markdown",
   "metadata": {},
   "source": [
    "## 0.4 RFE"
   ]
  },
  {
   "cell_type": "code",
   "execution_count": 261,
   "metadata": {},
   "outputs": [],
   "source": [
    "def generateRFE (X_train, y_train, limit): \n",
    "    auto_model = LinearRegression()\n",
    "    selector = RFE(auto_model, 5, step=1)\n",
    "    model = selector.fit(X_train,y_train)\n",
    "    selector.ranking_\n",
    "    rfe_col = []\n",
    "    for x in range(len(X_train.columns)):\n",
    "        if selector.ranking_[x]<=limit:\n",
    "            rfe_col.append(X_train.columns[x])\n",
    "    print(len(rfe_col))\n",
    "    return rfe_col"
   ]
  },
  {
   "cell_type": "code",
   "execution_count": null,
   "metadata": {},
   "outputs": [],
   "source": []
  },
  {
   "cell_type": "code",
   "execution_count": null,
   "metadata": {},
   "outputs": [],
   "source": []
  },
  {
   "cell_type": "markdown",
   "metadata": {},
   "source": [
    "# 1. apply to models"
   ]
  },
  {
   "cell_type": "markdown",
   "metadata": {},
   "source": [
    "## 1.1 model 1 \"political satisfaction\""
   ]
  },
  {
   "cell_type": "code",
   "execution_count": 180,
   "metadata": {},
   "outputs": [],
   "source": [
    "# refresh ds\n",
    "def reload():\n",
    "    return pd.read_csv('./data/datamax_cleaned.csv', index_col=0)"
   ]
  },
  {
   "cell_type": "code",
   "execution_count": 174,
   "metadata": {
    "collapsed": true
   },
   "outputs": [
    {
     "data": {
      "text/plain": [
       "['PB140: YEAR OF BIRTH',\n",
       " 'PB150: SEX',\n",
       " 'PB190: MARITAL STATUS',\n",
       " 'PB200: CONSENSUAL UNION',\n",
       " 'PB220A: CITIZENSHIP',\n",
       " 'PE010: CURRENT EDUCATION ACTIVITY',\n",
       " 'PE040: HIGHEST ISCED LEVEL ATTAINED',\n",
       " 'PL031: SELF-DEFINED CURRENT ECONOMIC STATUS',\n",
       " 'PL035: WORKED AT LEAST 1 HOUR DURING THE PREVIOUS WEEK',\n",
       " 'PL051: OCCUPATION (ISCO-08 (COM))',\n",
       " 'PL150: MANAGERIAL POSITION',\n",
       " 'PH010: GENERAL HEALTH',\n",
       " 'PH020: SUFFER FROM ANY A CHRONIC (LONG-STANDING) ILLNESS OR CONDITION',\n",
       " 'PH030: LIMITATION IN ACTIVITIES BECAUSE OF HEALTH PROBLEMS',\n",
       " 'PH040: UNMET NEED FOR MEDICAL EXAMINATION OR TREATMENT',\n",
       " 'PH060: UNMET NEED FOR DENTAL EXAMINATION OR TREATMENT',\n",
       " 'PY010G_PY020G_PY021G_PY050G: EMPLOYEE INCOME',\n",
       " 'PY035G: CONTRIBUTIONS TO INDIVIDUAL PRIVATE PENSION PLANS',\n",
       " 'PY080G: PENSION FROM INDIVIDUAL PRIVATE PLANS',\n",
       " 'PY090G++: SOCIAL BENEFITS',\n",
       " 'PD020: Replace worn-out clothes by some new (not second-hand) ones',\n",
       " 'PD030: Two pairs of properly fitting shoes',\n",
       " 'PD050: Get-together with friends/family (relatives) for a drink/meal at least once a month',\n",
       " 'PD060: Regularly participate in a leisure activity',\n",
       " 'PD070: Spend a small amount of money each week on yourself',\n",
       " 'PD080: Internet connection for personal use at home',\n",
       " 'PW010: OVERALL LIFE SATISFACTION',\n",
       " 'PW020: MEANING OF LIFE',\n",
       " 'PW030: SATISFACTION WITH FINANCIAL SITUATION',\n",
       " 'PW040: SATISFACTION WITH ACCOMMODATION',\n",
       " 'PW050: BEING VERY NERVOUS',\n",
       " 'PW060: FEELING DOWN IN THE DUMPS',\n",
       " 'PW070: FEELING CALM AND PEACEFUL',\n",
       " 'PW080: FEELING DOWNHEARTED OR DEPRESSED',\n",
       " 'PW090: BEING HAPPY',\n",
       " 'PW120: SATISFACTION WITH TIME USE',\n",
       " 'PW130: TRUST IN THE POLITICAL SYSTEM',\n",
       " 'PW140: TRUST IN THE LEGAL SYSTEM',\n",
       " 'PW150: TRUST IN THE POLICE',\n",
       " 'PW160: SATISFACTION WITH PERSONAL RELATIONSHIPS',\n",
       " 'PW170: PERSONAL MATTERS (ANYONE TO DISCUSS WITH)',\n",
       " 'PW180: HELP FROM OTHERS',\n",
       " 'PW190: TRUST IN OTHERS',\n",
       " 'PW200: SATISFACTION WITH RECREATIONAL OR GREEN AREAS',\n",
       " 'PW210: SATISFACTION WITH LIVING ENVIRONMENT',\n",
       " 'PW220: PHYSICAL SECURITY']"
      ]
     },
     "execution_count": 174,
     "metadata": {},
     "output_type": "execute_result"
    }
   ],
   "source": [
    "columns"
   ]
  },
  {
   "cell_type": "code",
   "execution_count": 175,
   "metadata": {},
   "outputs": [],
   "source": [
    "try1 = ['PB140: YEAR OF BIRTH',\n",
    " 'PB150: SEX',\n",
    " 'PB190: MARITAL STATUS',\n",
    " 'PE040: HIGHEST ISCED LEVEL ATTAINED',\n",
    " 'PL031: SELF-DEFINED CURRENT ECONOMIC STATUS',\n",
    " 'PH010: GENERAL HEALTH',\n",
    " 'PY010G_PY020G_PY021G_PY050G: EMPLOYEE INCOME',\n",
    " 'PY090G++: SOCIAL BENEFITS',\n",
    " 'PD080: Internet connection for personal use at home','PW010: OVERALL LIFE SATISFACTION']\n",
    "\n",
    "ds['PB140: YEAR OF BIRTH']= pbin('PB140: YEAR OF BIRTH',3)\n",
    "ds['PY010G_PY020G_PY021G_PY050G: EMPLOYEE INCOME']= pbin('PY010G_PY020G_PY021G_PY050G: EMPLOYEE INCOME',3)\n",
    "ds['PY090G++: SOCIAL BENEFITS']= pbin('PY090G++: SOCIAL BENEFITS',3)\n",
    "ds['PW010: OVERALL LIFE SATISFACTION']=pbin('PW010: OVERALL LIFE SATISFACTION',3)\n",
    "## based on rfe\n",
    "try2 = ['PB150: SEX',\n",
    " 'PB190: MARITAL STATUS',\n",
    " 'PY010G_PY020G_PY021G_PY050G: EMPLOYEE INCOME',\n",
    " 'PY090G++: SOCIAL BENEFITS',\n",
    " 'PD080: Internet connection for personal use at home']"
   ]
  },
  {
   "cell_type": "code",
   "execution_count": 212,
   "metadata": {},
   "outputs": [],
   "source": [
    "## based on RFE all columns\n",
    "try3 = ['PE010: CURRENT EDUCATION ACTIVITY',\n",
    " 'PL150: MANAGERIAL POSITION',\n",
    " 'PD050: Get-together with friends/family (relatives) for a drink/meal at least once a month',\n",
    " 'PD070: Spend a small amount of money each week on yourself',\n",
    " 'PW070: FEELING CALM AND PEACEFUL',\n",
    " 'PW220: PHYSICAL SECURITY']"
   ]
  },
  {
   "cell_type": "code",
   "execution_count": 265,
   "metadata": {},
   "outputs": [],
   "source": []
  },
  {
   "cell_type": "code",
   "execution_count": null,
   "metadata": {},
   "outputs": [],
   "source": [
    "### select features\n",
    "xes =try4\n",
    "yli = 'PW130: TRUST IN THE POLITICAL SYSTEM'"
   ]
  },
  {
   "cell_type": "code",
   "execution_count": 266,
   "metadata": {
    "collapsed": true
   },
   "outputs": [
    {
     "ename": "KeyError",
     "evalue": "'PL051: OCCUPATION (ISCO-08 (COM))_14.0'",
     "output_type": "error",
     "traceback": [
      "\u001b[1;31m---------------------------------------------------------------------------\u001b[0m",
      "\u001b[1;31mKeyError\u001b[0m                                  Traceback (most recent call last)",
      "\u001b[1;32m~\\AppData\\Local\\Continuum\\anaconda3\\lib\\site-packages\\pandas\\core\\indexes\\base.py\u001b[0m in \u001b[0;36mget_loc\u001b[1;34m(self, key, method, tolerance)\u001b[0m\n\u001b[0;32m   2896\u001b[0m             \u001b[1;32mtry\u001b[0m\u001b[1;33m:\u001b[0m\u001b[1;33m\u001b[0m\u001b[1;33m\u001b[0m\u001b[0m\n\u001b[1;32m-> 2897\u001b[1;33m                 \u001b[1;32mreturn\u001b[0m \u001b[0mself\u001b[0m\u001b[1;33m.\u001b[0m\u001b[0m_engine\u001b[0m\u001b[1;33m.\u001b[0m\u001b[0mget_loc\u001b[0m\u001b[1;33m(\u001b[0m\u001b[0mkey\u001b[0m\u001b[1;33m)\u001b[0m\u001b[1;33m\u001b[0m\u001b[1;33m\u001b[0m\u001b[0m\n\u001b[0m\u001b[0;32m   2898\u001b[0m             \u001b[1;32mexcept\u001b[0m \u001b[0mKeyError\u001b[0m\u001b[1;33m:\u001b[0m\u001b[1;33m\u001b[0m\u001b[1;33m\u001b[0m\u001b[0m\n",
      "\u001b[1;32mpandas\\_libs\\index.pyx\u001b[0m in \u001b[0;36mpandas._libs.index.IndexEngine.get_loc\u001b[1;34m()\u001b[0m\n",
      "\u001b[1;32mpandas\\_libs\\index.pyx\u001b[0m in \u001b[0;36mpandas._libs.index.IndexEngine.get_loc\u001b[1;34m()\u001b[0m\n",
      "\u001b[1;32mpandas\\_libs\\hashtable_class_helper.pxi\u001b[0m in \u001b[0;36mpandas._libs.hashtable.PyObjectHashTable.get_item\u001b[1;34m()\u001b[0m\n",
      "\u001b[1;32mpandas\\_libs\\hashtable_class_helper.pxi\u001b[0m in \u001b[0;36mpandas._libs.hashtable.PyObjectHashTable.get_item\u001b[1;34m()\u001b[0m\n",
      "\u001b[1;31mKeyError\u001b[0m: 'PL051: OCCUPATION (ISCO-08 (COM))_14.0'",
      "\nDuring handling of the above exception, another exception occurred:\n",
      "\u001b[1;31mKeyError\u001b[0m                                  Traceback (most recent call last)",
      "\u001b[1;32m<ipython-input-266-f5a6a9c34a02>\u001b[0m in \u001b[0;36m<module>\u001b[1;34m\u001b[0m\n\u001b[0;32m      7\u001b[0m \u001b[1;31m#qbin(column_to_bin, x)\u001b[0m\u001b[1;33m\u001b[0m\u001b[1;33m\u001b[0m\u001b[1;33m\u001b[0m\u001b[0m\n\u001b[0;32m      8\u001b[0m \u001b[1;32mfor\u001b[0m \u001b[0mx\u001b[0m \u001b[1;32min\u001b[0m \u001b[0mxes\u001b[0m\u001b[1;33m:\u001b[0m\u001b[1;33m\u001b[0m\u001b[1;33m\u001b[0m\u001b[0m\n\u001b[1;32m----> 9\u001b[1;33m     \u001b[0mprint\u001b[0m\u001b[1;33m(\u001b[0m\u001b[0mx\u001b[0m\u001b[1;33m,\u001b[0m \u001b[0mds\u001b[0m\u001b[1;33m[\u001b[0m\u001b[0mx\u001b[0m\u001b[1;33m]\u001b[0m\u001b[1;33m.\u001b[0m\u001b[0munique\u001b[0m\u001b[1;33m(\u001b[0m\u001b[1;33m)\u001b[0m\u001b[1;33m)\u001b[0m\u001b[1;33m\u001b[0m\u001b[1;33m\u001b[0m\u001b[0m\n\u001b[0m",
      "\u001b[1;32m~\\AppData\\Local\\Continuum\\anaconda3\\lib\\site-packages\\pandas\\core\\frame.py\u001b[0m in \u001b[0;36m__getitem__\u001b[1;34m(self, key)\u001b[0m\n\u001b[0;32m   2978\u001b[0m             \u001b[1;32mif\u001b[0m \u001b[0mself\u001b[0m\u001b[1;33m.\u001b[0m\u001b[0mcolumns\u001b[0m\u001b[1;33m.\u001b[0m\u001b[0mnlevels\u001b[0m \u001b[1;33m>\u001b[0m \u001b[1;36m1\u001b[0m\u001b[1;33m:\u001b[0m\u001b[1;33m\u001b[0m\u001b[1;33m\u001b[0m\u001b[0m\n\u001b[0;32m   2979\u001b[0m                 \u001b[1;32mreturn\u001b[0m \u001b[0mself\u001b[0m\u001b[1;33m.\u001b[0m\u001b[0m_getitem_multilevel\u001b[0m\u001b[1;33m(\u001b[0m\u001b[0mkey\u001b[0m\u001b[1;33m)\u001b[0m\u001b[1;33m\u001b[0m\u001b[1;33m\u001b[0m\u001b[0m\n\u001b[1;32m-> 2980\u001b[1;33m             \u001b[0mindexer\u001b[0m \u001b[1;33m=\u001b[0m \u001b[0mself\u001b[0m\u001b[1;33m.\u001b[0m\u001b[0mcolumns\u001b[0m\u001b[1;33m.\u001b[0m\u001b[0mget_loc\u001b[0m\u001b[1;33m(\u001b[0m\u001b[0mkey\u001b[0m\u001b[1;33m)\u001b[0m\u001b[1;33m\u001b[0m\u001b[1;33m\u001b[0m\u001b[0m\n\u001b[0m\u001b[0;32m   2981\u001b[0m             \u001b[1;32mif\u001b[0m \u001b[0mis_integer\u001b[0m\u001b[1;33m(\u001b[0m\u001b[0mindexer\u001b[0m\u001b[1;33m)\u001b[0m\u001b[1;33m:\u001b[0m\u001b[1;33m\u001b[0m\u001b[1;33m\u001b[0m\u001b[0m\n\u001b[0;32m   2982\u001b[0m                 \u001b[0mindexer\u001b[0m \u001b[1;33m=\u001b[0m \u001b[1;33m[\u001b[0m\u001b[0mindexer\u001b[0m\u001b[1;33m]\u001b[0m\u001b[1;33m\u001b[0m\u001b[1;33m\u001b[0m\u001b[0m\n",
      "\u001b[1;32m~\\AppData\\Local\\Continuum\\anaconda3\\lib\\site-packages\\pandas\\core\\indexes\\base.py\u001b[0m in \u001b[0;36mget_loc\u001b[1;34m(self, key, method, tolerance)\u001b[0m\n\u001b[0;32m   2897\u001b[0m                 \u001b[1;32mreturn\u001b[0m \u001b[0mself\u001b[0m\u001b[1;33m.\u001b[0m\u001b[0m_engine\u001b[0m\u001b[1;33m.\u001b[0m\u001b[0mget_loc\u001b[0m\u001b[1;33m(\u001b[0m\u001b[0mkey\u001b[0m\u001b[1;33m)\u001b[0m\u001b[1;33m\u001b[0m\u001b[1;33m\u001b[0m\u001b[0m\n\u001b[0;32m   2898\u001b[0m             \u001b[1;32mexcept\u001b[0m \u001b[0mKeyError\u001b[0m\u001b[1;33m:\u001b[0m\u001b[1;33m\u001b[0m\u001b[1;33m\u001b[0m\u001b[0m\n\u001b[1;32m-> 2899\u001b[1;33m                 \u001b[1;32mreturn\u001b[0m \u001b[0mself\u001b[0m\u001b[1;33m.\u001b[0m\u001b[0m_engine\u001b[0m\u001b[1;33m.\u001b[0m\u001b[0mget_loc\u001b[0m\u001b[1;33m(\u001b[0m\u001b[0mself\u001b[0m\u001b[1;33m.\u001b[0m\u001b[0m_maybe_cast_indexer\u001b[0m\u001b[1;33m(\u001b[0m\u001b[0mkey\u001b[0m\u001b[1;33m)\u001b[0m\u001b[1;33m)\u001b[0m\u001b[1;33m\u001b[0m\u001b[1;33m\u001b[0m\u001b[0m\n\u001b[0m\u001b[0;32m   2900\u001b[0m         \u001b[0mindexer\u001b[0m \u001b[1;33m=\u001b[0m \u001b[0mself\u001b[0m\u001b[1;33m.\u001b[0m\u001b[0mget_indexer\u001b[0m\u001b[1;33m(\u001b[0m\u001b[1;33m[\u001b[0m\u001b[0mkey\u001b[0m\u001b[1;33m]\u001b[0m\u001b[1;33m,\u001b[0m \u001b[0mmethod\u001b[0m\u001b[1;33m=\u001b[0m\u001b[0mmethod\u001b[0m\u001b[1;33m,\u001b[0m \u001b[0mtolerance\u001b[0m\u001b[1;33m=\u001b[0m\u001b[0mtolerance\u001b[0m\u001b[1;33m)\u001b[0m\u001b[1;33m\u001b[0m\u001b[1;33m\u001b[0m\u001b[0m\n\u001b[0;32m   2901\u001b[0m         \u001b[1;32mif\u001b[0m \u001b[0mindexer\u001b[0m\u001b[1;33m.\u001b[0m\u001b[0mndim\u001b[0m \u001b[1;33m>\u001b[0m \u001b[1;36m1\u001b[0m \u001b[1;32mor\u001b[0m \u001b[0mindexer\u001b[0m\u001b[1;33m.\u001b[0m\u001b[0msize\u001b[0m \u001b[1;33m>\u001b[0m \u001b[1;36m1\u001b[0m\u001b[1;33m:\u001b[0m\u001b[1;33m\u001b[0m\u001b[1;33m\u001b[0m\u001b[0m\n",
      "\u001b[1;32mpandas\\_libs\\index.pyx\u001b[0m in \u001b[0;36mpandas._libs.index.IndexEngine.get_loc\u001b[1;34m()\u001b[0m\n",
      "\u001b[1;32mpandas\\_libs\\index.pyx\u001b[0m in \u001b[0;36mpandas._libs.index.IndexEngine.get_loc\u001b[1;34m()\u001b[0m\n",
      "\u001b[1;32mpandas\\_libs\\hashtable_class_helper.pxi\u001b[0m in \u001b[0;36mpandas._libs.hashtable.PyObjectHashTable.get_item\u001b[1;34m()\u001b[0m\n",
      "\u001b[1;32mpandas\\_libs\\hashtable_class_helper.pxi\u001b[0m in \u001b[0;36mpandas._libs.hashtable.PyObjectHashTable.get_item\u001b[1;34m()\u001b[0m\n",
      "\u001b[1;31mKeyError\u001b[0m: 'PL051: OCCUPATION (ISCO-08 (COM))_14.0'"
     ]
    }
   ],
   "source": [
    "## binnen\n",
    "#pbin(column_to_bin, x)\n",
    "#qbin(column_to_bin, x)\n",
    "for x in xes: \n",
    "    print(x, ds[x].unique())"
   ]
  },
  {
   "cell_type": "code",
   "execution_count": 214,
   "metadata": {},
   "outputs": [
    {
     "data": {
      "text/plain": [
       "<matplotlib.axes._subplots.AxesSubplot at 0x25222385308>"
      ]
     },
     "execution_count": 214,
     "metadata": {},
     "output_type": "execute_result"
    },
    {
     "data": {
      "image/png": "[encoded data removed]",
      "text/plain": [
       "<Figure size 432x288 with 1 Axes>"
      ]
     },
     "metadata": {
      "needs_background": "light"
     },
     "output_type": "display_data"
    }
   ],
   "source": [
    "## bin y\n",
    "ds[yli]= pbin(yli,5)\n",
    "#ds[yli].unique()\n",
    "ds[yli].hist()\n"
   ]
  },
  {
   "cell_type": "markdown",
   "metadata": {},
   "source": [
    "## other way of binning\n",
    "ds=reload()\n",
    "ds[yli]=ds[yli].apply(lambda x: 2 if (x <=2) & (x!=-1) else x)\n",
    "ds[yli]=ds[yli].apply(lambda x: 4 if (x ==3) & (x==4) else x)\n",
    "ds[yli]=ds[yli].apply(lambda x: 4 if (x ==3) & (x==4) else x)\n",
    "ds[yli] =ds[yli].apply(lambda x: 6 if ((x ==6) | (x==7)) else x)\n",
    "ds[yli].unique()\n",
    "ds[yli].hist()"
   ]
  },
  {
   "cell_type": "code",
   "execution_count": 118,
   "metadata": {},
   "outputs": [],
   "source": [
    "### generate test-set\n",
    "#generateTest (X_interested,y_interested, dummy, drop_na_in_y, scalertouse)\n",
    "#generateTest (xes,yli, 'yes', 'no', 'MinMax')"
   ]
  },
  {
   "cell_type": "code",
   "execution_count": 268,
   "metadata": {
    "collapsed": true
   },
   "outputs": [
    {
     "ename": "KeyError",
     "evalue": "\"None of [Index(['PL051: OCCUPATION (ISCO-08 (COM))_14.0',\\n       'PL051: OCCUPATION (ISCO-08 (COM))_22.0',\\n       'PL051: OCCUPATION (ISCO-08 (COM))_32.0',\\n       'PL051: OCCUPATION (ISCO-08 (COM))_34.0',\\n       'PL051: OCCUPATION (ISCO-08 (COM))_35.0',\\n       'PL051: OCCUPATION (ISCO-08 (COM))_44.0',\\n       'PL051: OCCUPATION (ISCO-08 (COM))_54.0',\\n       'PL051: OCCUPATION (ISCO-08 (COM))_61.0',\\n       'PL051: OCCUPATION (ISCO-08 (COM))_82.0',\\n       'PL051: OCCUPATION (ISCO-08 (COM))_83.0',\\n       'PL051: OCCUPATION (ISCO-08 (COM))_92.0',\\n       'PL051: OCCUPATION (ISCO-08 (COM))_96.0',\\n       'PH060: UNMET NEED FOR DENTAL EXAMINATION OR TREATMENT_1',\\n       'PL031: SELF-DEFINED CURRENT ECONOMIC STATUS_11.0'],\\n      dtype='object')] are in the [columns]\"",
     "output_type": "error",
     "traceback": [
      "\u001b[1;31m---------------------------------------------------------------------------\u001b[0m",
      "\u001b[1;31mKeyError\u001b[0m                                  Traceback (most recent call last)",
      "\u001b[1;32m<ipython-input-268-7a14720dd382>\u001b[0m in \u001b[0;36m<module>\u001b[1;34m\u001b[0m\n\u001b[0;32m      1\u001b[0m \u001b[1;31m## multi clas\u001b[0m\u001b[1;33m\u001b[0m\u001b[1;33m\u001b[0m\u001b[1;33m\u001b[0m\u001b[0m\n\u001b[1;32m----> 2\u001b[1;33m \u001b[0mclass_mul\u001b[0m\u001b[1;33m(\u001b[0m\u001b[0mxes\u001b[0m\u001b[1;33m,\u001b[0m \u001b[0myli\u001b[0m\u001b[1;33m,\u001b[0m \u001b[1;34m'no'\u001b[0m\u001b[1;33m,\u001b[0m\u001b[1;34m'no'\u001b[0m\u001b[1;33m,\u001b[0m\u001b[1;34m'Normalizer'\u001b[0m\u001b[1;33m)\u001b[0m\u001b[1;33m\u001b[0m\u001b[1;33m\u001b[0m\u001b[0m\n\u001b[0m",
      "\u001b[1;32m<ipython-input-164-6007b8d41c0b>\u001b[0m in \u001b[0;36mclass_mul\u001b[1;34m(X_interested, y_interested, dummy, drop_na_in_y, scalertouse)\u001b[0m\n\u001b[0;32m      3\u001b[0m \u001b[1;32mdef\u001b[0m \u001b[0mclass_mul\u001b[0m \u001b[1;33m(\u001b[0m\u001b[0mX_interested\u001b[0m\u001b[1;33m,\u001b[0m\u001b[0my_interested\u001b[0m\u001b[1;33m,\u001b[0m \u001b[0mdummy\u001b[0m\u001b[1;33m,\u001b[0m \u001b[0mdrop_na_in_y\u001b[0m\u001b[1;33m,\u001b[0m \u001b[0mscalertouse\u001b[0m\u001b[1;33m)\u001b[0m\u001b[1;33m:\u001b[0m\u001b[1;33m\u001b[0m\u001b[1;33m\u001b[0m\u001b[0m\n\u001b[0;32m      4\u001b[0m \u001b[1;33m\u001b[0m\u001b[0m\n\u001b[1;32m----> 5\u001b[1;33m     \u001b[0mX_train\u001b[0m \u001b[1;33m=\u001b[0m \u001b[0mgenerateTest\u001b[0m \u001b[1;33m(\u001b[0m\u001b[0mX_interested\u001b[0m\u001b[1;33m,\u001b[0m\u001b[0my_interested\u001b[0m\u001b[1;33m,\u001b[0m \u001b[0mdummy\u001b[0m\u001b[1;33m,\u001b[0m \u001b[0mdrop_na_in_y\u001b[0m\u001b[1;33m,\u001b[0m \u001b[0mscalertouse\u001b[0m\u001b[1;33m)\u001b[0m\u001b[1;33m[\u001b[0m\u001b[1;36m0\u001b[0m\u001b[1;33m]\u001b[0m\u001b[1;33m\u001b[0m\u001b[1;33m\u001b[0m\u001b[0m\n\u001b[0m\u001b[0;32m      6\u001b[0m     \u001b[0mX_test\u001b[0m \u001b[1;33m=\u001b[0m \u001b[0mgenerateTest\u001b[0m \u001b[1;33m(\u001b[0m\u001b[0mX_interested\u001b[0m\u001b[1;33m,\u001b[0m\u001b[0my_interested\u001b[0m\u001b[1;33m,\u001b[0m \u001b[0mdummy\u001b[0m\u001b[1;33m,\u001b[0m \u001b[0mdrop_na_in_y\u001b[0m\u001b[1;33m,\u001b[0m \u001b[0mscalertouse\u001b[0m\u001b[1;33m)\u001b[0m\u001b[1;33m[\u001b[0m\u001b[1;36m1\u001b[0m\u001b[1;33m]\u001b[0m\u001b[1;33m\u001b[0m\u001b[1;33m\u001b[0m\u001b[0m\n\u001b[0;32m      7\u001b[0m     \u001b[0my_train\u001b[0m \u001b[1;33m=\u001b[0m \u001b[0mgenerateTest\u001b[0m \u001b[1;33m(\u001b[0m\u001b[0mX_interested\u001b[0m\u001b[1;33m,\u001b[0m\u001b[0my_interested\u001b[0m\u001b[1;33m,\u001b[0m \u001b[0mdummy\u001b[0m\u001b[1;33m,\u001b[0m \u001b[0mdrop_na_in_y\u001b[0m\u001b[1;33m,\u001b[0m  \u001b[0mscalertouse\u001b[0m\u001b[1;33m)\u001b[0m\u001b[1;33m[\u001b[0m\u001b[1;36m2\u001b[0m\u001b[1;33m]\u001b[0m\u001b[1;33m\u001b[0m\u001b[1;33m\u001b[0m\u001b[0m\n",
      "\u001b[1;32m<ipython-input-168-6ab3e419e7bb>\u001b[0m in \u001b[0;36mgenerateTest\u001b[1;34m(X_interested, y_interested, dummy, drop_na_in_y, scalertouse)\u001b[0m\n\u001b[0;32m      3\u001b[0m \u001b[1;32mdef\u001b[0m \u001b[0mgenerateTest\u001b[0m \u001b[1;33m(\u001b[0m\u001b[0mX_interested\u001b[0m\u001b[1;33m,\u001b[0m\u001b[0my_interested\u001b[0m\u001b[1;33m,\u001b[0m \u001b[0mdummy\u001b[0m\u001b[1;33m,\u001b[0m \u001b[0mdrop_na_in_y\u001b[0m\u001b[1;33m,\u001b[0m \u001b[0mscalertouse\u001b[0m\u001b[1;33m)\u001b[0m\u001b[1;33m:\u001b[0m\u001b[1;33m\u001b[0m\u001b[1;33m\u001b[0m\u001b[0m\n\u001b[0;32m      4\u001b[0m     \u001b[0moutcome\u001b[0m \u001b[1;33m=\u001b[0m \u001b[0mds\u001b[0m\u001b[1;33m[\u001b[0m\u001b[0my_interested\u001b[0m\u001b[1;33m]\u001b[0m\u001b[1;33m\u001b[0m\u001b[1;33m\u001b[0m\u001b[0m\n\u001b[1;32m----> 5\u001b[1;33m     \u001b[0mfeatures\u001b[0m \u001b[1;33m=\u001b[0m \u001b[0mds\u001b[0m\u001b[1;33m[\u001b[0m\u001b[0mX_interested\u001b[0m\u001b[1;33m]\u001b[0m\u001b[1;33m\u001b[0m\u001b[1;33m\u001b[0m\u001b[0m\n\u001b[0m\u001b[0;32m      6\u001b[0m     \u001b[0moutcomelist\u001b[0m\u001b[1;33m=\u001b[0m\u001b[0my_interested\u001b[0m\u001b[1;33m\u001b[0m\u001b[1;33m\u001b[0m\u001b[0m\n\u001b[0;32m      7\u001b[0m     \u001b[0mfeatureslist\u001b[0m\u001b[1;33m=\u001b[0m\u001b[0mX_interested\u001b[0m\u001b[1;33m\u001b[0m\u001b[1;33m\u001b[0m\u001b[0m\n",
      "\u001b[1;32m~\\AppData\\Local\\Continuum\\anaconda3\\lib\\site-packages\\pandas\\core\\frame.py\u001b[0m in \u001b[0;36m__getitem__\u001b[1;34m(self, key)\u001b[0m\n\u001b[0;32m   2984\u001b[0m             \u001b[1;32mif\u001b[0m \u001b[0mis_iterator\u001b[0m\u001b[1;33m(\u001b[0m\u001b[0mkey\u001b[0m\u001b[1;33m)\u001b[0m\u001b[1;33m:\u001b[0m\u001b[1;33m\u001b[0m\u001b[1;33m\u001b[0m\u001b[0m\n\u001b[0;32m   2985\u001b[0m                 \u001b[0mkey\u001b[0m \u001b[1;33m=\u001b[0m \u001b[0mlist\u001b[0m\u001b[1;33m(\u001b[0m\u001b[0mkey\u001b[0m\u001b[1;33m)\u001b[0m\u001b[1;33m\u001b[0m\u001b[1;33m\u001b[0m\u001b[0m\n\u001b[1;32m-> 2986\u001b[1;33m             \u001b[0mindexer\u001b[0m \u001b[1;33m=\u001b[0m \u001b[0mself\u001b[0m\u001b[1;33m.\u001b[0m\u001b[0mloc\u001b[0m\u001b[1;33m.\u001b[0m\u001b[0m_convert_to_indexer\u001b[0m\u001b[1;33m(\u001b[0m\u001b[0mkey\u001b[0m\u001b[1;33m,\u001b[0m \u001b[0maxis\u001b[0m\u001b[1;33m=\u001b[0m\u001b[1;36m1\u001b[0m\u001b[1;33m,\u001b[0m \u001b[0mraise_missing\u001b[0m\u001b[1;33m=\u001b[0m\u001b[1;32mTrue\u001b[0m\u001b[1;33m)\u001b[0m\u001b[1;33m\u001b[0m\u001b[1;33m\u001b[0m\u001b[0m\n\u001b[0m\u001b[0;32m   2987\u001b[0m \u001b[1;33m\u001b[0m\u001b[0m\n\u001b[0;32m   2988\u001b[0m         \u001b[1;31m# take() does not accept boolean indexers\u001b[0m\u001b[1;33m\u001b[0m\u001b[1;33m\u001b[0m\u001b[1;33m\u001b[0m\u001b[0m\n",
      "\u001b[1;32m~\\AppData\\Local\\Continuum\\anaconda3\\lib\\site-packages\\pandas\\core\\indexing.py\u001b[0m in \u001b[0;36m_convert_to_indexer\u001b[1;34m(self, obj, axis, is_setter, raise_missing)\u001b[0m\n\u001b[0;32m   1283\u001b[0m                 \u001b[1;31m# When setting, missing keys are not allowed, even with .loc:\u001b[0m\u001b[1;33m\u001b[0m\u001b[1;33m\u001b[0m\u001b[1;33m\u001b[0m\u001b[0m\n\u001b[0;32m   1284\u001b[0m                 \u001b[0mkwargs\u001b[0m \u001b[1;33m=\u001b[0m \u001b[1;33m{\u001b[0m\u001b[1;34m\"raise_missing\"\u001b[0m\u001b[1;33m:\u001b[0m \u001b[1;32mTrue\u001b[0m \u001b[1;32mif\u001b[0m \u001b[0mis_setter\u001b[0m \u001b[1;32melse\u001b[0m \u001b[0mraise_missing\u001b[0m\u001b[1;33m}\u001b[0m\u001b[1;33m\u001b[0m\u001b[1;33m\u001b[0m\u001b[0m\n\u001b[1;32m-> 1285\u001b[1;33m                 \u001b[1;32mreturn\u001b[0m \u001b[0mself\u001b[0m\u001b[1;33m.\u001b[0m\u001b[0m_get_listlike_indexer\u001b[0m\u001b[1;33m(\u001b[0m\u001b[0mobj\u001b[0m\u001b[1;33m,\u001b[0m \u001b[0maxis\u001b[0m\u001b[1;33m,\u001b[0m \u001b[1;33m**\u001b[0m\u001b[0mkwargs\u001b[0m\u001b[1;33m)\u001b[0m\u001b[1;33m[\u001b[0m\u001b[1;36m1\u001b[0m\u001b[1;33m]\u001b[0m\u001b[1;33m\u001b[0m\u001b[1;33m\u001b[0m\u001b[0m\n\u001b[0m\u001b[0;32m   1286\u001b[0m         \u001b[1;32melse\u001b[0m\u001b[1;33m:\u001b[0m\u001b[1;33m\u001b[0m\u001b[1;33m\u001b[0m\u001b[0m\n\u001b[0;32m   1287\u001b[0m             \u001b[1;32mtry\u001b[0m\u001b[1;33m:\u001b[0m\u001b[1;33m\u001b[0m\u001b[1;33m\u001b[0m\u001b[0m\n",
      "\u001b[1;32m~\\AppData\\Local\\Continuum\\anaconda3\\lib\\site-packages\\pandas\\core\\indexing.py\u001b[0m in \u001b[0;36m_get_listlike_indexer\u001b[1;34m(self, key, axis, raise_missing)\u001b[0m\n\u001b[0;32m   1090\u001b[0m \u001b[1;33m\u001b[0m\u001b[0m\n\u001b[0;32m   1091\u001b[0m         self._validate_read_indexer(\n\u001b[1;32m-> 1092\u001b[1;33m             \u001b[0mkeyarr\u001b[0m\u001b[1;33m,\u001b[0m \u001b[0mindexer\u001b[0m\u001b[1;33m,\u001b[0m \u001b[0mo\u001b[0m\u001b[1;33m.\u001b[0m\u001b[0m_get_axis_number\u001b[0m\u001b[1;33m(\u001b[0m\u001b[0maxis\u001b[0m\u001b[1;33m)\u001b[0m\u001b[1;33m,\u001b[0m \u001b[0mraise_missing\u001b[0m\u001b[1;33m=\u001b[0m\u001b[0mraise_missing\u001b[0m\u001b[1;33m\u001b[0m\u001b[1;33m\u001b[0m\u001b[0m\n\u001b[0m\u001b[0;32m   1093\u001b[0m         )\n\u001b[0;32m   1094\u001b[0m         \u001b[1;32mreturn\u001b[0m \u001b[0mkeyarr\u001b[0m\u001b[1;33m,\u001b[0m \u001b[0mindexer\u001b[0m\u001b[1;33m\u001b[0m\u001b[1;33m\u001b[0m\u001b[0m\n",
      "\u001b[1;32m~\\AppData\\Local\\Continuum\\anaconda3\\lib\\site-packages\\pandas\\core\\indexing.py\u001b[0m in \u001b[0;36m_validate_read_indexer\u001b[1;34m(self, key, indexer, axis, raise_missing)\u001b[0m\n\u001b[0;32m   1175\u001b[0m                 raise KeyError(\n\u001b[0;32m   1176\u001b[0m                     \"None of [{key}] are in the [{axis}]\".format(\n\u001b[1;32m-> 1177\u001b[1;33m                         \u001b[0mkey\u001b[0m\u001b[1;33m=\u001b[0m\u001b[0mkey\u001b[0m\u001b[1;33m,\u001b[0m \u001b[0maxis\u001b[0m\u001b[1;33m=\u001b[0m\u001b[0mself\u001b[0m\u001b[1;33m.\u001b[0m\u001b[0mobj\u001b[0m\u001b[1;33m.\u001b[0m\u001b[0m_get_axis_name\u001b[0m\u001b[1;33m(\u001b[0m\u001b[0maxis\u001b[0m\u001b[1;33m)\u001b[0m\u001b[1;33m\u001b[0m\u001b[1;33m\u001b[0m\u001b[0m\n\u001b[0m\u001b[0;32m   1178\u001b[0m                     )\n\u001b[0;32m   1179\u001b[0m                 )\n",
      "\u001b[1;31mKeyError\u001b[0m: \"None of [Index(['PL051: OCCUPATION (ISCO-08 (COM))_14.0',\\n       'PL051: OCCUPATION (ISCO-08 (COM))_22.0',\\n       'PL051: OCCUPATION (ISCO-08 (COM))_32.0',\\n       'PL051: OCCUPATION (ISCO-08 (COM))_34.0',\\n       'PL051: OCCUPATION (ISCO-08 (COM))_35.0',\\n       'PL051: OCCUPATION (ISCO-08 (COM))_44.0',\\n       'PL051: OCCUPATION (ISCO-08 (COM))_54.0',\\n       'PL051: OCCUPATION (ISCO-08 (COM))_61.0',\\n       'PL051: OCCUPATION (ISCO-08 (COM))_82.0',\\n       'PL051: OCCUPATION (ISCO-08 (COM))_83.0',\\n       'PL051: OCCUPATION (ISCO-08 (COM))_92.0',\\n       'PL051: OCCUPATION (ISCO-08 (COM))_96.0',\\n       'PH060: UNMET NEED FOR DENTAL EXAMINATION OR TREATMENT_1',\\n       'PL031: SELF-DEFINED CURRENT ECONOMIC STATUS_11.0'],\\n      dtype='object')] are in the [columns]\""
     ]
    }
   ],
   "source": [
    "## multi clas\n",
    "class_mul(xes, yli, 'no','no','Normalizer')"
   ]
  },
  {
   "cell_type": "code",
   "execution_count": 221,
   "metadata": {},
   "outputs": [
    {
     "data": {
      "text/plain": [
       "(array([[1.26738066e-01, 1.90966448e-04, 1.27310965e-04, ...,\n",
       "         0.00000000e+00, 0.00000000e+00, 6.36554825e-05],\n",
       "        [5.96253394e-01, 9.21091751e-04, 6.14061167e-04, ...,\n",
       "         0.00000000e+00, 0.00000000e+00, 0.00000000e+00],\n",
       "        [5.93995340e-01, 3.03989427e-04, 6.07978854e-04, ...,\n",
       "         0.00000000e+00, 3.03989427e-04, 3.03989427e-04],\n",
       "        ...,\n",
       "        [2.12403259e-01, 5.37457638e-04, 3.22474583e-04, ...,\n",
       "         0.00000000e+00, 1.07491528e-04, 0.00000000e+00],\n",
       "        [7.89115049e-02, 2.02857339e-04, 8.11429357e-05, ...,\n",
       "         0.00000000e+00, 0.00000000e+00, 0.00000000e+00],\n",
       "        [4.42331343e-02, 1.13128221e-04, 1.13128221e-04, ...,\n",
       "         0.00000000e+00, 2.26256442e-05, 0.00000000e+00]]),\n",
       " array([[9.98572939e-01, 2.54089806e-03, 5.08179613e-04, ...,\n",
       "         0.00000000e+00, 0.00000000e+00, 5.08179613e-04],\n",
       "        [3.38685134e-02, 5.11094266e-05, 3.40729511e-05, ...,\n",
       "         0.00000000e+00, 0.00000000e+00, 0.00000000e+00],\n",
       "        [9.77885967e-01, 2.49715518e-03, 1.49829311e-03, ...,\n",
       "         0.00000000e+00, 0.00000000e+00, 0.00000000e+00],\n",
       "        ...,\n",
       "        [2.01750006e-02, 3.07702094e-05, 1.02567365e-05, ...,\n",
       "         0.00000000e+00, 1.02567365e-05, 0.00000000e+00],\n",
       "        [2.50844108e-01, 3.79874974e-04, 3.79874974e-04, ...,\n",
       "         1.26624991e-04, 0.00000000e+00, 1.26624991e-04],\n",
       "        [1.71262488e-01, 4.30524103e-04, 1.72209641e-04, ...,\n",
       "         0.00000000e+00, 0.00000000e+00, 0.00000000e+00]]),\n",
       " 3735     3\n",
       " 11027    4\n",
       " 5584     2\n",
       " 16676    4\n",
       " 3352     1\n",
       "         ..\n",
       " 15709    3\n",
       " 19229    3\n",
       " 3355     0\n",
       " 18440    2\n",
       " 1566     0\n",
       " Name: PW130: TRUST IN THE POLITICAL SYSTEM, Length: 15570, dtype: category\n",
       " Categories (5, int64): [0 < 1 < 2 < 3 < 4],\n",
       " 21873    2\n",
       " 8842     3\n",
       " 8041     2\n",
       " 21583    1\n",
       " 17534    2\n",
       "         ..\n",
       " 19301    0\n",
       " 15312    4\n",
       " 813      4\n",
       " 6781     4\n",
       " 10893    3\n",
       " Name: PW130: TRUST IN THE POLITICAL SYSTEM, Length: 3893, dtype: category\n",
       " Categories (5, int64): [0 < 1 < 2 < 3 < 4])"
      ]
     },
     "execution_count": 221,
     "metadata": {},
     "output_type": "execute_result"
    }
   ],
   "source": [
    "xes = columns.remove(yli)\n",
    "generateTest (columns,yli, 'yes', 'yes', 'Normalizer')"
   ]
  },
  {
   "cell_type": "code",
   "execution_count": 257,
   "metadata": {},
   "outputs": [
    {
     "data": {
      "text/plain": [
       "{'PB150: SEX',\n",
       " 'PB190: MARITAL STATUS',\n",
       " 'PB200: CONSENSUAL UNION',\n",
       " 'PB220A: CITIZENSHIP',\n",
       " 'PD020: Replace worn-out clothes by some new (not second-hand) ones',\n",
       " 'PD030: Two pairs of properly fitting shoes',\n",
       " 'PD050: Get-together with friends/family (relatives) for a drink/meal at least once a month',\n",
       " 'PD060: Regularly participate in a leisure activity',\n",
       " 'PD070: Spend a small amount of money each week on yourself',\n",
       " 'PD080: Internet connection for personal use at home',\n",
       " 'PE010: CURRENT EDUCATION ACTIVITY',\n",
       " 'PH030: LIMITATION IN ACTIVITIES BECAUSE OF HEALTH PROBLEMS',\n",
       " 'PH040: UNMET NEED FOR MEDICAL EXAMINATION OR TREATMENT',\n",
       " 'PH060: UNMET NEED FOR DENTAL EXAMINATION OR TREATMENT',\n",
       " 'PL031: SELF-DEFINED CURRENT ECONOMIC STATUS',\n",
       " 'PL035: WORKED AT LEAST 1 HOUR DURING THE PREVIOUS WEEK',\n",
       " 'PL051: OCCUPATION (ISCO-08 (COM))',\n",
       " 'PL150: MANAGERIAL POSITION'}"
      ]
     },
     "execution_count": 257,
     "metadata": {},
     "output_type": "execute_result"
    }
   ],
   "source": [
    "##RFE asll\n",
    "ds=reload()\n",
    "\n",
    "categorical= ['PB150: SEX', 'PB190: MARITAL STATUS',\n",
    "       'PB200: CONSENSUAL UNION', 'PB220A: CITIZENSHIP',\n",
    "       'PE010: CURRENT EDUCATION ACTIVITY',\n",
    "       'PL031: SELF-DEFINED CURRENT ECONOMIC STATUS',\n",
    "       'PL035: WORKED AT LEAST 1 HOUR DURING THE PREVIOUS WEEK',\n",
    "       'PL051: OCCUPATION (ISCO-08 (COM))', 'PL150: MANAGERIAL POSITION',\n",
    "        'PH030: LIMITATION IN ACTIVITIES BECAUSE OF HEALTH PROBLEMS',\n",
    "       'PH040: UNMET NEED FOR MEDICAL EXAMINATION OR TREATMENT',\n",
    "       'PH060: UNMET NEED FOR DENTAL EXAMINATION OR TREATMENT',\n",
    "       'PD020: Replace worn-out clothes by some new (not second-hand) ones',\n",
    "       'PD030: Two pairs of properly fitting shoes',\n",
    "       'PD050: Get-together with friends/family (relatives) for a drink/meal at least once a month',\n",
    "       'PD060: Regularly participate in a leisure activity',\n",
    "       'PD070: Spend a small amount of money each week on yourself',\n",
    "       'PD080: Internet connection for personal use at home',\n",
    "      ]\n",
    "#columns.remove(yli)\n",
    "create_dummy=set(columns).intersection(categorical)\n",
    "create_dummy"
   ]
  },
  {
   "cell_type": "code",
   "execution_count": 263,
   "metadata": {},
   "outputs": [
    {
     "name": "stdout",
     "output_type": "stream",
     "text": [
      "14\n"
     ]
    },
    {
     "data": {
      "text/plain": [
       "['PL051: OCCUPATION (ISCO-08 (COM))_14.0',\n",
       " 'PL051: OCCUPATION (ISCO-08 (COM))_22.0',\n",
       " 'PL051: OCCUPATION (ISCO-08 (COM))_32.0',\n",
       " 'PL051: OCCUPATION (ISCO-08 (COM))_34.0',\n",
       " 'PL051: OCCUPATION (ISCO-08 (COM))_35.0',\n",
       " 'PL051: OCCUPATION (ISCO-08 (COM))_44.0',\n",
       " 'PL051: OCCUPATION (ISCO-08 (COM))_54.0',\n",
       " 'PL051: OCCUPATION (ISCO-08 (COM))_61.0',\n",
       " 'PL051: OCCUPATION (ISCO-08 (COM))_82.0',\n",
       " 'PL051: OCCUPATION (ISCO-08 (COM))_83.0',\n",
       " 'PL051: OCCUPATION (ISCO-08 (COM))_92.0',\n",
       " 'PL051: OCCUPATION (ISCO-08 (COM))_96.0',\n",
       " 'PH060: UNMET NEED FOR DENTAL EXAMINATION OR TREATMENT_1',\n",
       " 'PL031: SELF-DEFINED CURRENT ECONOMIC STATUS_11.0']"
      ]
     },
     "execution_count": 263,
     "metadata": {},
     "output_type": "execute_result"
    }
   ],
   "source": [
    "data_dummy = pd.get_dummies(ds[columns], columns=create_dummy, drop_first=True)\n",
    "data_dummy.columns\n",
    "\n",
    "data_dummy\n",
    "\n",
    "generateRFE(data_dummy, ds[yli], 10)"
   ]
  },
  {
   "cell_type": "code",
   "execution_count": null,
   "metadata": {},
   "outputs": [],
   "source": [
    "try4 = ['PL051: OCCUPATION (ISCO-08 (COM))_14.0',\n",
    " 'PL051: OCCUPATION (ISCO-08 (COM))_22.0',\n",
    " 'PL051: OCCUPATION (ISCO-08 (COM))_32.0',\n",
    " 'PL051: OCCUPATION (ISCO-08 (COM))_34.0',\n",
    " 'PL051: OCCUPATION (ISCO-08 (COM))_35.0',\n",
    " 'PL051: OCCUPATION (ISCO-08 (COM))_44.0',\n",
    " 'PL051: OCCUPATION (ISCO-08 (COM))_54.0',\n",
    " 'PL051: OCCUPATION (ISCO-08 (COM))_61.0',\n",
    " 'PL051: OCCUPATION (ISCO-08 (COM))_82.0',\n",
    " 'PL051: OCCUPATION (ISCO-08 (COM))_83.0',\n",
    " 'PL051: OCCUPATION (ISCO-08 (COM))_92.0',\n",
    " 'PL051: OCCUPATION (ISCO-08 (COM))_96.0',\n",
    " 'PH060: UNMET NEED FOR DENTAL EXAMINATION OR TREATMENT_1',\n",
    " 'PL031: SELF-DEFINED CURRENT ECONOMIC STATUS_11.0'\n",
    "        "
   ]
  },
  {
   "cell_type": "code",
   "execution_count": 274,
   "metadata": {},
   "outputs": [],
   "source": [
    "X = data_dummy[try4]\n",
    "y= ds[yli]\n",
    "X_train, X_test, y_train, y_test = train_test_split(X, y, test_size=0.2)"
   ]
  },
  {
   "cell_type": "code",
   "execution_count": 276,
   "metadata": {
    "scrolled": true
   },
   "outputs": [
    {
     "name": "stdout",
     "output_type": "stream",
     "text": [
      "Decision Tree Test Accuracy 19.83%\n"
     ]
    },
    {
     "name": "stderr",
     "output_type": "stream",
     "text": [
      "C:\\Users\\haenni\\AppData\\Local\\Continuum\\anaconda3\\lib\\site-packages\\sklearn\\svm\\base.py:193: FutureWarning: The default value of gamma will change from 'auto' to 'scale' in version 0.22 to account better for unscaled features. Set gamma explicitly to 'auto' or 'scale' to avoid this warning.\n",
      "  \"avoid this warning.\", FutureWarning)\n"
     ]
    },
    {
     "name": "stdout",
     "output_type": "stream",
     "text": [
      "SVM Algorithm Test Accuracy 20.01%\n"
     ]
    }
   ],
   "source": [
    "#### b) DecisionTree Classify\n",
    "\n",
    "dtc = DecisionTreeClassifier()#class_weight='balanced')#max_features=10,\n",
    "dtc.fit(X_train, y_train)\n",
    "y_pred = dtc.predict(X_test)\n",
    "\n",
    "acc = dtc.score(X_test, y_test)*100\n",
    "print(f\"Decision Tree Test Accuracy {round(acc, 2)}%\")\n",
    " \n",
    "\n",
    "#### c) Support Vector Maschine\n",
    "svm = SVC(decision_function_shape='ovo')\n",
    "svm.fit(X_train, y_train)\n",
    "y_pred = svm.predict(X_test)\n",
    "acc = svm.score(X_test,y_test)*100\n",
    "print(f\"SVM Algorithm Test Accuracy {round(acc, 2)}%\")"
   ]
  },
  {
   "cell_type": "markdown",
   "metadata": {},
   "source": [
    "#### did not improve"
   ]
  },
  {
   "cell_type": "code",
   "execution_count": null,
   "metadata": {},
   "outputs": [],
   "source": []
  },
  {
   "cell_type": "code",
   "execution_count": null,
   "metadata": {},
   "outputs": [],
   "source": []
  },
  {
   "cell_type": "code",
   "execution_count": null,
   "metadata": {},
   "outputs": [],
   "source": []
  },
  {
   "cell_type": "code",
   "execution_count": null,
   "metadata": {},
   "outputs": [],
   "source": []
  },
  {
   "cell_type": "code",
   "execution_count": null,
   "metadata": {},
   "outputs": [],
   "source": []
  },
  {
   "cell_type": "code",
   "execution_count": null,
   "metadata": {},
   "outputs": [],
   "source": []
  },
  {
   "cell_type": "code",
   "execution_count": null,
   "metadata": {},
   "outputs": [],
   "source": []
  },
  {
   "cell_type": "code",
   "execution_count": null,
   "metadata": {},
   "outputs": [],
   "source": []
  },
  {
   "cell_type": "code",
   "execution_count": null,
   "metadata": {},
   "outputs": [],
   "source": []
  },
  {
   "cell_type": "code",
   "execution_count": null,
   "metadata": {},
   "outputs": [],
   "source": []
  },
  {
   "cell_type": "code",
   "execution_count": null,
   "metadata": {},
   "outputs": [],
   "source": []
  },
  {
   "cell_type": "code",
   "execution_count": null,
   "metadata": {},
   "outputs": [],
   "source": []
  },
  {
   "cell_type": "code",
   "execution_count": null,
   "metadata": {},
   "outputs": [],
   "source": []
  },
  {
   "cell_type": "code",
   "execution_count": null,
   "metadata": {},
   "outputs": [],
   "source": []
  },
  {
   "cell_type": "code",
   "execution_count": null,
   "metadata": {},
   "outputs": [],
   "source": []
  },
  {
   "cell_type": "code",
   "execution_count": null,
   "metadata": {},
   "outputs": [],
   "source": []
  },
  {
   "cell_type": "code",
   "execution_count": null,
   "metadata": {},
   "outputs": [],
   "source": []
  },
  {
   "cell_type": "code",
   "execution_count": null,
   "metadata": {},
   "outputs": [],
   "source": []
  },
  {
   "cell_type": "code",
   "execution_count": null,
   "metadata": {},
   "outputs": [],
   "source": []
  },
  {
   "cell_type": "code",
   "execution_count": null,
   "metadata": {},
   "outputs": [],
   "source": []
  },
  {
   "cell_type": "code",
   "execution_count": null,
   "metadata": {},
   "outputs": [],
   "source": []
  },
  {
   "cell_type": "code",
   "execution_count": null,
   "metadata": {},
   "outputs": [],
   "source": []
  },
  {
   "cell_type": "code",
   "execution_count": null,
   "metadata": {},
   "outputs": [],
   "source": []
  },
  {
   "cell_type": "code",
   "execution_count": null,
   "metadata": {},
   "outputs": [],
   "source": []
  },
  {
   "cell_type": "code",
   "execution_count": null,
   "metadata": {},
   "outputs": [],
   "source": []
  },
  {
   "cell_type": "code",
   "execution_count": null,
   "metadata": {},
   "outputs": [],
   "source": []
  },
  {
   "cell_type": "code",
   "execution_count": null,
   "metadata": {},
   "outputs": [],
   "source": []
  },
  {
   "cell_type": "code",
   "execution_count": null,
   "metadata": {},
   "outputs": [],
   "source": []
  },
  {
   "cell_type": "code",
   "execution_count": null,
   "metadata": {},
   "outputs": [],
   "source": []
  },
  {
   "cell_type": "code",
   "execution_count": null,
   "metadata": {},
   "outputs": [],
   "source": []
  },
  {
   "cell_type": "code",
   "execution_count": null,
   "metadata": {},
   "outputs": [],
   "source": []
  },
  {
   "cell_type": "code",
   "execution_count": null,
   "metadata": {},
   "outputs": [],
   "source": []
  },
  {
   "cell_type": "code",
   "execution_count": null,
   "metadata": {},
   "outputs": [],
   "source": []
  },
  {
   "cell_type": "code",
   "execution_count": null,
   "metadata": {},
   "outputs": [],
   "source": []
  },
  {
   "cell_type": "code",
   "execution_count": null,
   "metadata": {},
   "outputs": [],
   "source": []
  },
  {
   "cell_type": "code",
   "execution_count": null,
   "metadata": {},
   "outputs": [],
   "source": []
  },
  {
   "cell_type": "code",
   "execution_count": null,
   "metadata": {},
   "outputs": [],
   "source": []
  },
  {
   "cell_type": "markdown",
   "metadata": {},
   "source": [
    "# Stepwise as Backup\n",
    "# 1 Data Selection and Preperation"
   ]
  },
  {
   "cell_type": "markdown",
   "metadata": {},
   "source": [
    "#### 1.1. define features and Y"
   ]
  },
  {
   "cell_type": "code",
   "execution_count": null,
   "metadata": {},
   "outputs": [],
   "source": [
    "outcome = ds['PW010: OVERALL LIFE SATISFACTION']\n",
    "features = ds[background]\n",
    "outcomelist='PW010: OVERALL LIFE SATISFACTION'\n",
    "featureslist=background"
   ]
  },
  {
   "cell_type": "code",
   "execution_count": null,
   "metadata": {},
   "outputs": [],
   "source": [
    "data =pd.merge(features, outcome, left_index=True, right_index=True)"
   ]
  },
  {
   "cell_type": "code",
   "execution_count": null,
   "metadata": {},
   "outputs": [],
   "source": [
    "data.head()"
   ]
  },
  {
   "cell_type": "markdown",
   "metadata": {},
   "source": [
    "#### 1.2 make lefts skewed X categorical"
   ]
  },
  {
   "cell_type": "code",
   "execution_count": null,
   "metadata": {},
   "outputs": [],
   "source": [
    "shouldbecategorical= main_list = list(set(data.columns)-set(categorical)-set([outcomelist]))"
   ]
  },
  {
   "cell_type": "markdown",
   "metadata": {},
   "source": [
    "#### 1.3 create dummies"
   ]
  },
  {
   "cell_type": "code",
   "execution_count": 336,
   "metadata": {
    "scrolled": true
   },
   "outputs": [
    {
     "data": {
      "text/plain": [
       "Index(['PB140: YEAR OF BIRTH', 'PW010: OVERALL LIFE SATISFACTION',\n",
       "       'PB200: CONSENSUAL UNION_2', 'PB200: CONSENSUAL UNION_3',\n",
       "       'PB220A: CITIZENSHIP_1', 'PB150: SEX_2', 'PB190: MARITAL STATUS_2.0',\n",
       "       'PB190: MARITAL STATUS_3.0', 'PB190: MARITAL STATUS_4.0',\n",
       "       'PB190: MARITAL STATUS_5.0'],\n",
       "      dtype='object')"
      ]
     },
     "execution_count": 336,
     "metadata": {},
     "output_type": "execute_result"
    }
   ],
   "source": [
    "categorical= ['PB150: SEX', 'PB190: MARITAL STATUS',\n",
    "       'PB200: CONSENSUAL UNION', 'PB220A: CITIZENSHIP',\n",
    "       'PE010: CURRENT EDUCATION ACTIVITY',\n",
    "       'PL031: SELF-DEFINED CURRENT ECONOMIC STATUS',\n",
    "       'PL035: WORKED AT LEAST 1 HOUR DURING THE PREVIOUS WEEK',\n",
    "       'PL051: OCCUPATION (ISCO-08 (COM))', 'PL150: MANAGERIAL POSITION',\n",
    "        'PH030: LIMITATION IN ACTIVITIES BECAUSE OF HEALTH PROBLEMS',\n",
    "       'PH040: UNMET NEED FOR MEDICAL EXAMINATION OR TREATMENT',\n",
    "       'PH060: UNMET NEED FOR DENTAL EXAMINATION OR TREATMENT',\n",
    "       'PD020: Replace worn-out clothes by some new (not second-hand) ones',\n",
    "       'PD030: Two pairs of properly fitting shoes',\n",
    "       'PD050: Get-together with friends/family (relatives) for a drink/meal at least once a month',\n",
    "       'PD060: Regularly participate in a leisure activity',\n",
    "       'PD070: Spend a small amount of money each week on yourself',\n",
    "       'PD080: Internet connection for personal use at home',\n",
    "      ]\n",
    "\n",
    "create_dummy=set(featureslist).intersection(categorical)\n",
    "\n",
    "data_dummy = pd.get_dummies(data, columns=create_dummy, drop_first=True)\n",
    "data_dummy.columns"
   ]
  },
  {
   "cell_type": "code",
   "execution_count": 337,
   "metadata": {},
   "outputs": [],
   "source": [
    "# use dummy:\n",
    "data = data_dummy\n",
    "\n",
    "# not use dummy:\n",
    "#data = data =pd.merge(features, outcome, left_index=True, right_index=True)"
   ]
  },
  {
   "cell_type": "code",
   "execution_count": null,
   "metadata": {},
   "outputs": [],
   "source": []
  },
  {
   "cell_type": "code",
   "execution_count": null,
   "metadata": {},
   "outputs": [],
   "source": []
  },
  {
   "cell_type": "code",
   "execution_count": null,
   "metadata": {},
   "outputs": [],
   "source": []
  },
  {
   "cell_type": "code",
   "execution_count": null,
   "metadata": {},
   "outputs": [],
   "source": []
  },
  {
   "cell_type": "markdown",
   "metadata": {},
   "source": [
    "# 2. Regression"
   ]
  },
  {
   "cell_type": "markdown",
   "metadata": {},
   "source": [
    "#### <font color=red>here decide to keep or drop nan in the outcome: </font>"
   ]
  },
  {
   "cell_type": "code",
   "execution_count": 338,
   "metadata": {},
   "outputs": [],
   "source": [
    "## drop nan\n",
    "#data = data[data[outcomelist]>=0]\n",
    "\n",
    "#reset \n",
    "#data = data =pd.merge(features, outcome, left_index=True, right_index=True)"
   ]
  },
  {
   "cell_type": "code",
   "execution_count": 339,
   "metadata": {},
   "outputs": [],
   "source": [
    "XCol=list(data.columns)\n",
    "XCol.remove(outcomelist)\n",
    "YCol=outcomelist"
   ]
  },
  {
   "cell_type": "code",
   "execution_count": 340,
   "metadata": {},
   "outputs": [],
   "source": [
    "X = data[XCol]\n",
    "y= data[YCol]"
   ]
  },
  {
   "cell_type": "markdown",
   "metadata": {},
   "source": [
    "•\timbalance checking (undersampling, oversamplingML umbalanced data lib)\n",
    "\n",
    "•\tSplit --> X_tr, y_tr, / X_ts,  y_ts\n",
    "\n",
    "•\tTry few models (with different algorithms) (<-- pipeline)\n",
    "\n",
    "    –\tInitialization\n",
    "\n",
    "    –\tFit / predict\n",
    "\n",
    "    –\tEvaluation (overfitting / underfitting)\n",
    "\n",
    "•\tChoose best option based on requirements\n",
    "\n",
    "•\tOptimize the model\n",
    "\n",
    "    –\tCross -validation\n",
    "\n",
    "    –\tTry few models (with same way to approach problem)\n",
    "\n",
    "        o\tInit\n",
    "\n",
    "        o\tFit.(predict)\n",
    "\n",
    "        o\tEvaluation\n",
    "\n",
    "    –\tHpyertuning\n"
   ]
  },
  {
   "cell_type": "markdown",
   "metadata": {},
   "source": [
    "### 2.1 Test for imbalancing in Y"
   ]
  },
  {
   "cell_type": "code",
   "execution_count": 341,
   "metadata": {},
   "outputs": [
    {
     "data": {
      "text/plain": [
       "'PW010: OVERALL LIFE SATISFACTION'"
      ]
     },
     "execution_count": 341,
     "metadata": {},
     "output_type": "execute_result"
    }
   ],
   "source": [
    "YCol"
   ]
  },
  {
   "cell_type": "code",
   "execution_count": 342,
   "metadata": {
    "scrolled": true
   },
   "outputs": [
    {
     "data": {
      "text/plain": [
       "<matplotlib.axes._subplots.AxesSubplot at 0x24e673ddb48>"
      ]
     },
     "execution_count": 342,
     "metadata": {},
     "output_type": "execute_result"
    },
    {
     "data": {
      "image/png": "[encoded data removed]",
      "text/plain": [
       "<Figure size 432x288 with 1 Axes>"
      ]
     },
     "metadata": {
      "needs_background": "light"
     },
     "output_type": "display_data"
    }
   ],
   "source": [
    "y.hist()\n",
    "\n",
    "## it is very imbalanced  --> bin the values bellow 5 and change *dont know\" to other value"
   ]
  },
  {
   "cell_type": "code",
   "execution_count": 343,
   "metadata": {},
   "outputs": [],
   "source": [
    "#y.loc[(y['PW130: TRUST IN THE POLITICAL SYSTEM']==-1), 'PW130: TRUST IN THE POLITICAL SYSTEM']= X"
   ]
  },
  {
   "cell_type": "markdown",
   "metadata": {},
   "source": [
    "#### <font color=red>here decide how to bin y: </font>"
   ]
  },
  {
   "cell_type": "code",
   "execution_count": 344,
   "metadata": {
    "scrolled": true
   },
   "outputs": [
    {
     "data": {
      "text/plain": [
       "array([ 8. ,  6.5, 10. ,  4.5, -1. ,  9. ])"
      ]
     },
     "execution_count": 344,
     "metadata": {},
     "output_type": "execute_result"
    }
   ],
   "source": [
    "y_binned=y.apply(lambda x: 4.5 if (x <=5) & (x!=-1) else x)\n",
    "y_binned =y_binned.apply(lambda x: 6.5 if ((x ==6) | (x==7)) else x)\n",
    "y_binned.unique()"
   ]
  },
  {
   "cell_type": "code",
   "execution_count": 345,
   "metadata": {
    "scrolled": true
   },
   "outputs": [
    {
     "data": {
      "text/plain": [
       "<matplotlib.axes._subplots.AxesSubplot at 0x24e6731a2c8>"
      ]
     },
     "execution_count": 345,
     "metadata": {},
     "output_type": "execute_result"
    },
    {
     "data": {
      "image/png": "[encoded data removed]",
      "text/plain": [
       "<Figure size 432x288 with 1 Axes>"
      ]
     },
     "metadata": {
      "needs_background": "light"
     },
     "output_type": "display_data"
    }
   ],
   "source": [
    "y_binned.hist()\n"
   ]
  },
  {
   "cell_type": "code",
   "execution_count": 346,
   "metadata": {},
   "outputs": [
    {
     "data": {
      "text/plain": [
       "<matplotlib.axes._subplots.AxesSubplot at 0x24e677d2888>"
      ]
     },
     "execution_count": 346,
     "metadata": {},
     "output_type": "execute_result"
    },
    {
     "data": {
      "image/png": "[encoded data removed]",
      "text/plain": [
       "<Figure size 720x360 with 2 Axes>"
      ]
     },
     "metadata": {
      "needs_background": "light"
     },
     "output_type": "display_data"
    }
   ],
   "source": [
    "### just to check correlation\n",
    "dset = pd.merge(X, y, left_index=True, right_index=True)\n",
    "\n",
    "\n",
    "plt.figure(figsize =(10,5))\n",
    "corr = dset.corr()\n",
    "mask = np.triu(np.ones_like(corr, dtype=np.bool))\n",
    "sns.heatmap(corr, cmap='coolwarm', annot = False, linewidth=0.5, mask=mask)"
   ]
  },
  {
   "cell_type": "code",
   "execution_count": null,
   "metadata": {},
   "outputs": [],
   "source": []
  },
  {
   "cell_type": "code",
   "execution_count": null,
   "metadata": {},
   "outputs": [],
   "source": []
  },
  {
   "cell_type": "markdown",
   "metadata": {},
   "source": [
    "## 2.2. Scale"
   ]
  },
  {
   "cell_type": "markdown",
   "metadata": {},
   "source": [
    "#### <font color=red>here decide to scale x or not and if yes which one: </font>"
   ]
  },
  {
   "cell_type": "code",
   "execution_count": 347,
   "metadata": {},
   "outputs": [
    {
     "data": {
      "text/plain": [
       "Index(['PB140: YEAR OF BIRTH', 'PB200: CONSENSUAL UNION_2',\n",
       "       'PB200: CONSENSUAL UNION_3', 'PB220A: CITIZENSHIP_1', 'PB150: SEX_2',\n",
       "       'PB190: MARITAL STATUS_2.0', 'PB190: MARITAL STATUS_3.0',\n",
       "       'PB190: MARITAL STATUS_4.0', 'PB190: MARITAL STATUS_5.0'],\n",
       "      dtype='object')"
      ]
     },
     "execution_count": 347,
     "metadata": {},
     "output_type": "execute_result"
    }
   ],
   "source": [
    "### scaler\n",
    "scaler = StandardScaler()\n",
    "X_std = scaler.fit_transform(X)\n",
    "X_std.shape\n",
    "X.columns"
   ]
  },
  {
   "cell_type": "code",
   "execution_count": 348,
   "metadata": {
    "scrolled": true
   },
   "outputs": [
    {
     "data": {
      "text/plain": [
       "(19463, 9)"
      ]
     },
     "execution_count": 348,
     "metadata": {},
     "output_type": "execute_result"
    }
   ],
   "source": [
    "scaler = MinMaxScaler(feature_range=(0, 1))\n",
    "X_minmax = scaler.fit_transform(X)\n",
    "X_minmax.shape\n"
   ]
  },
  {
   "cell_type": "code",
   "execution_count": null,
   "metadata": {},
   "outputs": [],
   "source": []
  },
  {
   "cell_type": "code",
   "execution_count": null,
   "metadata": {},
   "outputs": [],
   "source": []
  },
  {
   "cell_type": "markdown",
   "metadata": {},
   "source": [
    "## 2.3 Split"
   ]
  },
  {
   "cell_type": "code",
   "execution_count": 355,
   "metadata": {},
   "outputs": [],
   "source": [
    "X_train, X_test, y_train, y_test = train_test_split(X_minmax, y, test_size=0.2)"
   ]
  },
  {
   "cell_type": "markdown",
   "metadata": {},
   "source": [
    "## 2.4 run different models"
   ]
  },
  {
   "cell_type": "markdown",
   "metadata": {},
   "source": [
    "#### a) Prepare Model "
   ]
  },
  {
   "cell_type": "code",
   "execution_count": null,
   "metadata": {},
   "outputs": [],
   "source": [
    "## prepare interaction term\n",
    "for d in range(2):\n",
    "    interaction = PolynomialFeatures(degree = d, include_bias = False, interaction_only = True)\n",
    "    X_inter = interaction.fit_transform(X_train)"
   ]
  },
  {
   "cell_type": "markdown",
   "metadata": {},
   "source": [
    "#### b)  Linear Regression Model"
   ]
  },
  {
   "cell_type": "code",
   "execution_count": null,
   "metadata": {},
   "outputs": [],
   "source": [
    "\n",
    "lm = LinearRegression()\n",
    "model = lm.fit(X_train,y_train)\n",
    "\n",
    "print(\"Intercept: \", lm.intercept_)\n",
    "print(\"Coef: \", lm.coef_)\n",
    "\n",
    "y_pred  = lm.predict(X_test)\n"
   ]
  },
  {
   "cell_type": "code",
   "execution_count": null,
   "metadata": {},
   "outputs": [],
   "source": [
    "mean_absolute_error(y_test, y_pred)"
   ]
  },
  {
   "cell_type": "code",
   "execution_count": null,
   "metadata": {},
   "outputs": [],
   "source": [
    "mean_squared_error(y_test, y_pred)"
   ]
  },
  {
   "cell_type": "code",
   "execution_count": null,
   "metadata": {},
   "outputs": [],
   "source": [
    "r2_score(y_test, y_pred)"
   ]
  },
  {
   "cell_type": "markdown",
   "metadata": {},
   "source": [
    "#### c)  Taylor (pipeline)"
   ]
  },
  {
   "cell_type": "markdown",
   "metadata": {},
   "source": [
    "#for k in range(1,8):\n",
    "poly_model = make_pipeline (StandardScaler(), PolynomialFeatures(degree=3, include_bias = False, interaction_only = True), LinearRegression())\n",
    "\n",
    "model = poly_model.fit(X_train, y_train)\n",
    "\n",
    "    \n",
    "print(poly_model.score(X_test, y_test))\n",
    "\n",
    "y_pred  = poly_model.predict(X_test)\n"
   ]
  },
  {
   "cell_type": "code",
   "execution_count": null,
   "metadata": {},
   "outputs": [],
   "source": [
    "mean_absolute_error(y_test, y_pred)"
   ]
  },
  {
   "cell_type": "code",
   "execution_count": null,
   "metadata": {
    "scrolled": true
   },
   "outputs": [],
   "source": [
    "mean_squared_error(y_test, y_pred)"
   ]
  },
  {
   "cell_type": "code",
   "execution_count": null,
   "metadata": {},
   "outputs": [],
   "source": [
    "r2_score(y_test, y_pred)"
   ]
  },
  {
   "cell_type": "markdown",
   "metadata": {},
   "source": [
    "#### c)  Regression Tree"
   ]
  },
  {
   "cell_type": "code",
   "execution_count": null,
   "metadata": {},
   "outputs": [],
   "source": [
    "regr = DecisionTreeRegressor(random_state = 29)\n",
    "\n",
    "model = regr.fit(X_train, y_train)\n",
    "\n",
    "y_pred  = regr.predict(X_test)\n",
    "regr.score(X_test, y_test)"
   ]
  },
  {
   "cell_type": "code",
   "execution_count": null,
   "metadata": {},
   "outputs": [],
   "source": [
    "#r = export_text(regr, feature_names=list(X.columns))\n",
    "#print(r)"
   ]
  },
  {
   "cell_type": "code",
   "execution_count": null,
   "metadata": {},
   "outputs": [],
   "source": [
    "mean_absolute_error(y_test, y_pred)"
   ]
  },
  {
   "cell_type": "code",
   "execution_count": null,
   "metadata": {},
   "outputs": [],
   "source": [
    "mean_squared_error(y_test, y_pred)"
   ]
  },
  {
   "cell_type": "code",
   "execution_count": null,
   "metadata": {},
   "outputs": [],
   "source": [
    "r2_score(y_test, y_pred)\n"
   ]
  },
  {
   "cell_type": "markdown",
   "metadata": {},
   "source": [
    "In the rare cases you get a negative r squared value, you should probably rethink your regression analysis, especially if you are forcing an intercept."
   ]
  },
  {
   "cell_type": "markdown",
   "metadata": {},
   "source": [
    "#### d)  KNeighborsRegressor"
   ]
  },
  {
   "cell_type": "code",
   "execution_count": null,
   "metadata": {},
   "outputs": [],
   "source": [
    "knnr = KNeighborsRegressor(n_neighbors = 3)\n",
    "\n",
    "model = knnr.fit(X_train, y_train)  #fit the model\n",
    "y_pred = knnr.predict(X_test)\n"
   ]
  },
  {
   "cell_type": "code",
   "execution_count": null,
   "metadata": {},
   "outputs": [],
   "source": [
    "mean_absolute_error(y_test, y_pred)"
   ]
  },
  {
   "cell_type": "code",
   "execution_count": null,
   "metadata": {},
   "outputs": [],
   "source": [
    "mean_squared_error(y_test, y_pred)"
   ]
  },
  {
   "cell_type": "code",
   "execution_count": null,
   "metadata": {},
   "outputs": [],
   "source": [
    "r2_score(y_test, y_pred)"
   ]
  },
  {
   "cell_type": "markdown",
   "metadata": {},
   "source": [
    "#### <font color=red>huge means squared_error and negative r squared for binned and unbinned y\n",
    "     also failed with drop nan, but way better!\n",
    "    also failed with feature elimination\n",
    "\n",
    "</font>"
   ]
  },
  {
   "cell_type": "markdown",
   "metadata": {},
   "source": [
    "# 3. optimize recursive feature elimination (RFE)"
   ]
  },
  {
   "cell_type": "code",
   "execution_count": null,
   "metadata": {},
   "outputs": [],
   "source": [
    "## recursive feature elimination.\n",
    "# initialize an RFE model using the `auto_model` linear regression model. Set `n_features_to_select=3`"
   ]
  },
  {
   "cell_type": "code",
   "execution_count": null,
   "metadata": {},
   "outputs": [],
   "source": [
    "generateTest(columns[:-20],outcomelist, 'yes', 'yes', 'yes', 'no')[0]"
   ]
  },
  {
   "cell_type": "markdown",
   "metadata": {},
   "source": [
    "Fit the model and print the ranking"
   ]
  },
  {
   "cell_type": "code",
   "execution_count": 353,
   "metadata": {},
   "outputs": [
    {
     "name": "stdout",
     "output_type": "stream",
     "text": [
      "[72 52 65 39 75 73 74 76 41 69  1 26 51  5 43 15  1 11 40 45 42 13  1 70\n",
      " 24 46 12 31 68 66 44 14 10  7 36  4 60  3 18  1  1 33  9 34  2  8 38 23\n",
      " 53 37 21 20 57 35 71 19 59 56 16  6 58 25 61 62 32 50 54 67 48 49 27 64\n",
      " 22 63 47 55 29 30 28 17]\n",
      "14\n"
     ]
    },
    {
     "data": {
      "text/plain": [
       "['PL051: OCCUPATION (ISCO-08 (COM))_13.0',\n",
       " 'PL051: OCCUPATION (ISCO-08 (COM))_22.0',\n",
       " 'PL051: OCCUPATION (ISCO-08 (COM))_25.0',\n",
       " 'PL051: OCCUPATION (ISCO-08 (COM))_35.0',\n",
       " 'PL051: OCCUPATION (ISCO-08 (COM))_62.0',\n",
       " 'PL051: OCCUPATION (ISCO-08 (COM))_71.0',\n",
       " 'PL051: OCCUPATION (ISCO-08 (COM))_73.0',\n",
       " 'PL051: OCCUPATION (ISCO-08 (COM))_75.0',\n",
       " 'PL051: OCCUPATION (ISCO-08 (COM))_82.0',\n",
       " 'PL051: OCCUPATION (ISCO-08 (COM))_83.0',\n",
       " 'PL051: OCCUPATION (ISCO-08 (COM))_92.0',\n",
       " 'PL051: OCCUPATION (ISCO-08 (COM))_94.0',\n",
       " 'PL051: OCCUPATION (ISCO-08 (COM))_96.0',\n",
       " 'PL031: SELF-DEFINED CURRENT ECONOMIC STATUS_10.0']"
      ]
     },
     "execution_count": 353,
     "metadata": {},
     "output_type": "execute_result"
    }
   ],
   "source": [
    "generateRFE(generateTest(columns[:-20],outcomelist, 'yes', 'yes', 'yes', 'no')[0],generateTest(columns[:-20],outcomelist, 'yes', 'yes', 'yes', 'no')[2])"
   ]
  },
  {
   "cell_type": "code",
   "execution_count": null,
   "metadata": {},
   "outputs": [],
   "source": [
    "# Your code here:\n",
    "auto_model = LinearRegression()\n",
    "selector = RFE(auto_model, 5, step=1)\n",
    "model = selector.fit(generateTest(columns[:-20],outcomelist, 'yes', 'yes', 'yes', 'no')[0],generateTest(columns[:-20],outcomelist, 'yes', 'yes', 'yes', 'no')[2])"
   ]
  },
  {
   "cell_type": "code",
   "execution_count": null,
   "metadata": {},
   "outputs": [],
   "source": [
    "# Your code here:\n",
    "selector.ranking_\n",
    "#selector.support_"
   ]
  },
  {
   "cell_type": "code",
   "execution_count": null,
   "metadata": {},
   "outputs": [],
   "source": [
    "Xhere = generateTest(columns[:-20],outcomelist, 'yes', 'yes', 'yes', 'no')[0]\n",
    "rfe_col = []\n",
    "for x in range(len(Xhere.columns)):\n",
    "    if selector.ranking_[x]<=10:\n",
    "        rfe_col.append(Xhere.columns[x])\n",
    "print(len(rfe_col))\n",
    "rfe_col"
   ]
  },
  {
   "cell_type": "code",
   "execution_count": null,
   "metadata": {},
   "outputs": [],
   "source": [
    "X=data[columns]\n",
    "X.columns"
   ]
  },
  {
   "cell_type": "code",
   "execution_count": null,
   "metadata": {},
   "outputs": [],
   "source": [
    "test = X\n",
    "test['YY'] = ytogo\n",
    "plt.figure(figsize =(10,10))\n",
    "corr = X.corr()\n",
    "mask = np.triu(np.ones_like(corr, dtype=np.bool))\n",
    "sns.heatmap(corr, cmap='coolwarm', annot = False, linewidth=0.5, mask=mask)\n",
    "## --> run 2.2 split and 2.3 models again"
   ]
  },
  {
   "cell_type": "markdown",
   "metadata": {},
   "source": [
    "## 2.3 PCA"
   ]
  },
  {
   "cell_type": "code",
   "execution_count": null,
   "metadata": {},
   "outputs": [],
   "source": [
    "X = data[XCol]\n",
    "X.shape"
   ]
  },
  {
   "cell_type": "code",
   "execution_count": null,
   "metadata": {},
   "outputs": [],
   "source": [
    "# Create a PCA that will retain 99% of variance\n",
    "pca = PCA(n_components=0.99, whiten=True)\n",
    "# ica = FastI-CA(n_components=0.99, whit-en=True)\n",
    "\n",
    "# Conduct PCA\n",
    "features_pca = pca.fit_transform(X)"
   ]
  },
  {
   "cell_type": "code",
   "execution_count": null,
   "metadata": {},
   "outputs": [],
   "source": [
    "X= features_pca\n",
    "X.shape\n",
    "## --> run 2.2 split and 2.3 models again"
   ]
  },
  {
   "cell_type": "code",
   "execution_count": null,
   "metadata": {},
   "outputs": [],
   "source": []
  },
  {
   "cell_type": "code",
   "execution_count": null,
   "metadata": {},
   "outputs": [],
   "source": []
  },
  {
   "cell_type": "code",
   "execution_count": null,
   "metadata": {},
   "outputs": [],
   "source": []
  },
  {
   "cell_type": "markdown",
   "metadata": {},
   "source": [
    "## 2. Classification"
   ]
  },
  {
   "cell_type": "markdown",
   "metadata": {},
   "source": [
    "### 2.1.1 prepare data"
   ]
  },
  {
   "cell_type": "code",
   "execution_count": null,
   "metadata": {},
   "outputs": [],
   "source": [
    "# change outcome variable to a 2 classification variable:\n",
    "# drop -1\n",
    "# based on ds_1\n",
    "data = ds_1\n",
    "\n",
    "data =data[data['PW130: TRUST IN THE POLITICAL SYSTEM']!=-1]\n",
    "data.shape\n",
    "ds_1.shape[0]-data.shape[0]"
   ]
  },
  {
   "cell_type": "code",
   "execution_count": null,
   "metadata": {},
   "outputs": [],
   "source": [
    "data['Y_class']= data['PW130: TRUST IN THE POLITICAL SYSTEM'].apply(lambda x: 1 if x>=8 else 0)"
   ]
  },
  {
   "cell_type": "code",
   "execution_count": null,
   "metadata": {},
   "outputs": [],
   "source": [
    "data['Y_class'].hist()\n",
    "data['Y_class'].value_counts()\n",
    "## --> balanced more or less"
   ]
  },
  {
   "cell_type": "code",
   "execution_count": null,
   "metadata": {},
   "outputs": [],
   "source": [
    "XCol=data.columns[:-2]\n",
    "YCol=data.columns[-1]\n",
    "\n",
    "print(len(XCol))\n",
    "print(YCol)"
   ]
  },
  {
   "cell_type": "code",
   "execution_count": null,
   "metadata": {},
   "outputs": [],
   "source": [
    "X = data[XCol]\n",
    "y= data[YCol]\n"
   ]
  },
  {
   "cell_type": "code",
   "execution_count": null,
   "metadata": {},
   "outputs": [],
   "source": [
    "X_train, X_test, y_train, y_test = train_test_split(X, y, test_size=0.3)\n",
    "X_train.shape\n",
    "X_test.shape\n"
   ]
  },
  {
   "cell_type": "markdown",
   "metadata": {},
   "source": [
    "#### a) Logistic Regression"
   ]
  },
  {
   "cell_type": "code",
   "execution_count": null,
   "metadata": {},
   "outputs": [],
   "source": [
    "lr = LogisticRegression()\n",
    "lr.fit(X_train,y_train)\n",
    "\n",
    "\n",
    "y_pred=lr.predict(X_test)"
   ]
  },
  {
   "cell_type": "code",
   "execution_count": null,
   "metadata": {},
   "outputs": [],
   "source": [
    "acc = lr.score(X_test,y_test)\n",
    "acc"
   ]
  },
  {
   "cell_type": "code",
   "execution_count": null,
   "metadata": {},
   "outputs": [],
   "source": [
    "conf=confusion_matrix(y_test, y_pred)\n",
    "\n",
    "print( \"accuracy: \"  + str(round((conf[1,1]+conf[0,0])/ conf.sum()*100,2)))\n",
    "print( \"precision: \" +str(round((conf[0,0])/ (conf[1,0]+conf[0,0])*100,2)))\n",
    "\n",
    "conf\n",
    "\n",
    "tn,fp,fn,tp = confusion_matrix(y_test, y_pred).flatten()\n",
    "### it predicts all as 1..."
   ]
  },
  {
   "cell_type": "markdown",
   "metadata": {},
   "source": [
    "#### b) DecisionTree Classify"
   ]
  },
  {
   "cell_type": "code",
   "execution_count": null,
   "metadata": {},
   "outputs": [],
   "source": [
    "dtc = DecisionTreeClassifier()\n",
    "dtc.fit(X_train, y_train)\n",
    "y_pred = dtc.predict(X_test)"
   ]
  },
  {
   "cell_type": "code",
   "execution_count": null,
   "metadata": {},
   "outputs": [],
   "source": [
    "acc = dtc.score(X_test, y_test)*100\n",
    "print(f\"Decision Tree Test Accuracy {round(acc, 2)}%\")"
   ]
  },
  {
   "cell_type": "code",
   "execution_count": null,
   "metadata": {},
   "outputs": [],
   "source": [
    "conf=confusion_matrix(y_test, y_pred)\n",
    "\n",
    "print( \"accuracy: \"  + str(round((conf[1,1]+conf[0,0])/ conf.sum()*100,2)))\n",
    "print( \"precision: \" +str(round((conf[0,0])/ (conf[1,0]+conf[0,0])*100,2)))\n",
    "\n",
    "conf"
   ]
  },
  {
   "cell_type": "code",
   "execution_count": null,
   "metadata": {},
   "outputs": [],
   "source": [
    "## overfitting!!!"
   ]
  },
  {
   "cell_type": "code",
   "execution_count": null,
   "metadata": {},
   "outputs": [],
   "source": []
  },
  {
   "cell_type": "markdown",
   "metadata": {},
   "source": [
    "#### c) Support Vector Maschine"
   ]
  },
  {
   "cell_type": "code",
   "execution_count": null,
   "metadata": {},
   "outputs": [],
   "source": [
    "svm = SVC()\n",
    "svm.fit(X_train, y_train)\n",
    "y_pred = svm.predict(X_test)"
   ]
  },
  {
   "cell_type": "code",
   "execution_count": null,
   "metadata": {},
   "outputs": [],
   "source": [
    "acc = svm.score(X_test,y_test)*100\n",
    "print(f\"SVM Algorithm Test Accuracy {round(acc, 2)}%\")"
   ]
  },
  {
   "cell_type": "code",
   "execution_count": null,
   "metadata": {},
   "outputs": [],
   "source": [
    "conf=confusion_matrix(y_test, y_pred)\n",
    "\n",
    "print( \"accuracy: \"  + str(round((conf[1,1]+conf[0,0])/ conf.sum()*100,2)))\n",
    "print( \"precision: \" +str(round((conf[0,0])/ (conf[1,0]+conf[0,0])*100,2)))"
   ]
  },
  {
   "cell_type": "code",
   "execution_count": null,
   "metadata": {},
   "outputs": [],
   "source": []
  },
  {
   "cell_type": "markdown",
   "metadata": {},
   "source": [
    "#### d) K-Nearest Neighbour"
   ]
  },
  {
   "cell_type": "code",
   "execution_count": null,
   "metadata": {},
   "outputs": [],
   "source": [
    "knn = KNeighborsClassifier(n_neighbors = 2)  # n_neighbors means k\n",
    "knn.fit(X_train, y_train)\n",
    "y_pred = knn.predict(X_test)"
   ]
  },
  {
   "cell_type": "code",
   "execution_count": null,
   "metadata": {},
   "outputs": [],
   "source": [
    "acc = knn.score(X_test, y_test)*100\n",
    "acc"
   ]
  },
  {
   "cell_type": "code",
   "execution_count": null,
   "metadata": {},
   "outputs": [],
   "source": [
    "conf=confusion_matrix(y_test, y_pred)\n",
    "\n",
    "print( \"accuracy: \"  + str(round((conf[1,1]+conf[0,0])/ conf.sum()*100,2)))\n",
    "print( \"precision: \" +str(round((conf[0,0])/ (conf[1,0]+conf[0,0])*100,2)))\n"
   ]
  },
  {
   "cell_type": "code",
   "execution_count": null,
   "metadata": {},
   "outputs": [],
   "source": []
  }
 ],
 "metadata": {
  "kernelspec": {
   "display_name": "Python 3",
   "language": "python",
   "name": "python3"
  },
  "language_info": {
   "codemirror_mode": {
    "name": "ipython",
    "version": 3
   },
   "file_extension": ".py",
   "mimetype": "text/x-python",
   "name": "python",
   "nbconvert_exporter": "python",
   "pygments_lexer": "ipython3",
   "version": "3.7.4"
  }
 },
 "nbformat": 4,
 "nbformat_minor": 2
}
