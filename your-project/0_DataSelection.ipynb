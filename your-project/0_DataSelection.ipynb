{
 "cells": [
  {
   "cell_type": "code",
   "execution_count": 15,
   "metadata": {},
   "outputs": [],
   "source": [
    "import pandas as pd\n",
    "import numpy as np\n",
    "import matplotlib.pyplot as plt\n",
    "import seaborn as sns"
   ]
  },
  {
   "cell_type": "markdown",
   "metadata": {},
   "source": [
    "##### Datas: \n",
    "https://ec.europa.eu/eurostat/web/microdata/statistics-on-income-and-living-conditions\n",
    "\n",
    "##### Documentation:\n",
    "https://circabc.europa.eu/faces/jsp/extension/wai/navigation/container.jsp?FormPrincipal:_idcl=FormPrincipal:_id1&FormPrincipal_SUBMIT=1&id=c31bb5ae-2de6-49d3-bdcb-21992b3a2935&javax.faces.ViewState=meuDdJMlFsG5yNkNcejyPL481TffTqBlmAoXxLv4eKPClWnkj%2FIBx85kqWpflSLguyT5ndOI7k0APPg0%2F305IGJeFLWQfTP7dBwL1Bo1Kxt7G7Quw5NsD8LJJe9kdthN%2B%2BdW8EdW%2BAC%2FqwKdG11ap%2Fd0I6k%3D"
   ]
  },
  {
   "cell_type": "markdown",
   "metadata": {},
   "source": [
    "# 1. Data Import and decide which one to use"
   ]
  },
  {
   "cell_type": "markdown",
   "metadata": {},
   "source": [
    "## 1.1 Household Data Germany"
   ]
  },
  {
   "cell_type": "markdown",
   "metadata": {},
   "source": [
    "### 1.1.1 Houshold Register Data"
   ]
  },
  {
   "cell_type": "code",
   "execution_count": 16,
   "metadata": {},
   "outputs": [],
   "source": [
    "hhd = pd.read_csv(\"./data/DE_2013d_EUSILC.csv\")"
   ]
  },
  {
   "cell_type": "code",
   "execution_count": 17,
   "metadata": {
    "scrolled": true
   },
   "outputs": [
    {
     "data": {
      "text/plain": [
       "(12703, 17)"
      ]
     },
     "execution_count": 17,
     "metadata": {},
     "output_type": "execute_result"
    }
   ],
   "source": [
    "hhd.shape"
   ]
  },
  {
   "cell_type": "code",
   "execution_count": 18,
   "metadata": {},
   "outputs": [
    {
     "data": {
      "text/plain": [
       "DB010          0\n",
       "DB020          0\n",
       "DB030          0\n",
       "DB040      12703\n",
       "DB040_F    12703\n",
       "DB060      12703\n",
       "DB060_F    12703\n",
       "DB062      12703\n",
       "DB062_F    12703\n",
       "DB070      12703\n",
       "DB070_F    12703\n",
       "DB075      12703\n",
       "DB075_F    12703\n",
       "DB090          0\n",
       "DB090_F    12703\n",
       "DB100      12703\n",
       "DB100_F    12703\n",
       "dtype: int64"
      ]
     },
     "execution_count": 18,
     "metadata": {},
     "output_type": "execute_result"
    }
   ],
   "source": [
    "hhd.isna().sum()"
   ]
  },
  {
   "cell_type": "code",
   "execution_count": 19,
   "metadata": {},
   "outputs": [],
   "source": [
    "## conlusion: no additional information to the next dataset"
   ]
  },
  {
   "cell_type": "markdown",
   "metadata": {},
   "source": [
    "### 1.1.2 Houshold Survey Data"
   ]
  },
  {
   "cell_type": "code",
   "execution_count": 20,
   "metadata": {},
   "outputs": [],
   "source": [
    "hhh = pd.read_csv(\"./data/DE_2013h_EUSILC.csv\")"
   ]
  },
  {
   "cell_type": "code",
   "execution_count": 21,
   "metadata": {},
   "outputs": [
    {
     "data": {
      "text/plain": [
       "(12703, 216)"
      ]
     },
     "execution_count": 21,
     "metadata": {},
     "output_type": "execute_result"
    }
   ],
   "source": [
    "hhh.shape"
   ]
  },
  {
   "cell_type": "code",
   "execution_count": 22,
   "metadata": {},
   "outputs": [
    {
     "data": {
      "text/plain": [
       "(12703, 49)"
      ]
     },
     "execution_count": 22,
     "metadata": {},
     "output_type": "execute_result"
    }
   ],
   "source": [
    "## Drop columns with more than 20% nans\n",
    "hhh=hhh.dropna(thresh=len(hhh)*0.8, axis=1)\n",
    "hhh.shape"
   ]
  },
  {
   "cell_type": "code",
   "execution_count": 23,
   "metadata": {},
   "outputs": [
    {
     "data": {
      "text/plain": [
       "Index(['HB010', 'HB020', 'HB030', 'HB050', 'HB060', 'HB100', 'HY010', 'HY020',\n",
       "       'HY022', 'HY023', 'HY040G', 'HY050G', 'HY060G', 'HY070G', 'HY080G',\n",
       "       'HY081G', 'HY090G', 'HY100G', 'HY110G', 'HY120G', 'HY130G', 'HY131G',\n",
       "       'HY140G', 'HY170G', 'HS021', 'HS040', 'HS050', 'HS060', 'HS070',\n",
       "       'HS080', 'HS090', 'HS100', 'HS110', 'HS120', 'HS130', 'HS140', 'HS160',\n",
       "       'HS170', 'HS180', 'HS190', 'HH010', 'HH021', 'HH030', 'HH040', 'HH050',\n",
       "       'HH070', 'HH081', 'HH091', 'HD080'],\n",
       "      dtype='object')"
      ]
     },
     "execution_count": 23,
     "metadata": {},
     "output_type": "execute_result"
    }
   ],
   "source": [
    "hhh.columns"
   ]
  },
  {
   "cell_type": "code",
   "execution_count": 24,
   "metadata": {},
   "outputs": [],
   "source": [
    "## dictionary based on\n",
    "columnnames = {\n",
    "\"HB010\": \"HB010: YEAR OF THE SURVEY\", \n",
    "\"HB020\": \"HB020: COUNTRY\", \n",
    "\"HB030\": \"HB030: HOUSEHOLD ID\", \n",
    "\"HB050\": \"HB050: MONTH OF HOUSEHOLD INTERVIEW\",\n",
    "\"HB060\": \"HB060: YEAR OF HOUSEHOLD INTERVIEW\",\n",
    "\"HB100\": \"HB100: NUMBER OF MINUTES TO COMPLETE THE HOUSEHOLD QUESTIONNAIRE\", \n",
    "\"HH010\": \"HH010: DWELLING TYPE\",\n",
    "\"HH021\": \"HH021: TENURE STATUS\",\n",
    "\"HH030\": \"HH030: NUMBER OF ROOMS AVAILABLE TO THE HOUSEHOLD\", \n",
    "\"HH031\": \"HH031: YEAR OF CONTRACT OR PURCHASING OR INSTALLATION\",\n",
    "\"HH040\": \"HH040: LEAKING ROOF, DAMP WALLS/FLOORS/FOUNDATION, OR ROT IN WINDOW FRAMES OR FLOOR\", \n",
    "\"HH050\": \"HH050: BILITY TO KEEP HOME ADEQUATELY WARM\",\n",
    "\"HH060\": \"HH060: CURRENT RENT RELATED TO OCCUPIED DWELLING\", \n",
    "\"HH061\": \"HH061: SUBJECTIVE RENT\", \n",
    "\"HH070\": \"HH070: TOTAL HOUSING COST\",\n",
    "\"HH071\": \"HH071: MORTGAGE PRINCIPAL REPAYMENT\",\n",
    "\"HH081\": \"HH081: BATH OR SHOWER IN DWELLING\",\n",
    "\"HH091\": \"HH091: INDOOR FLUSHING TOILET FOR SOLE USE OF HOUSEHOLD\",\n",
    "\"HS011\": \"HS011: ARREARS ON MORTGAGE OR RENT PAYMENTS\",\n",
    "\"HS021\": \"HS021: ARREARS ON UTILITY BILLS\",\n",
    "\"HS031\": \"HS031: ARREARS ON HIRE PURCHASE INSTALMENTS OR OTHER LOAN PAYMENTS\",\n",
    "\"HS040\": \"HS040: CAPACITY TO AFFORD PAYING FOR ONE WEEK ANNUAL HOLIDAY AWAY FROM HOME\",\n",
    "\"HS050\": \"HS050: CAPACITY TO AFFORD A MEAL WITH MEAT, CHICKEN, FISH (OR VEGETARIAN EQUIVALENT) EVERY SECOND DAY\" ,\n",
    "\"HS060\": \"HS060: CAPACITY TO FACE UNEXPECTED FINANCIAL EXPENSES\",\n",
    "\"HS070\": \"HS070: DO YOU HAVE A TELEPHONE (INCLUDING MOBILE PHONE)\",\n",
    "\"HS080\": \"HS080: DO YOU HAVE A COLOUR TV\", \n",
    "\"HS090\": \"HS090: DO YOU HAVE A COMPUTER\",\n",
    "\"HS100\": \"HS100: DO YOU HAVE A WASHING MACHINE\",\n",
    "\"HS110\": \"HS110: DO YOU HAVE A CAR\", \n",
    "\"HS120\": \"HS120: ABILITY TO MAKE ENDS MEET\",\n",
    "\"HS130\": \"HS130: LOWEST MONTHLY INCOME TO MAKE ENDS MEET\",\n",
    "\"HS140\": \"HS140: FINANCIAL BURDEN OF THE TOTAL HOUSING COST\",\n",
    "\"HS150\": \"HS150: FINANCIAL BURDEN OF THE REPAYMENT OF DEBTS FROM HIRE PURCHASES OR LOANS\",\n",
    "\"HS160\": \"HS160: PROBLEMS WITH THE DWELLING: TOO DARK, NOT ENOUGH LIGHT\",\n",
    "\"HS170\": \"HS170: NOISE FROM NEIGHBOURS OR FROM THE STREET\",\n",
    "\"HS180\": \"HS180: POLLUTION, GRIME OR OTHER ENVIRONMENTAL PROBLEMS\",\n",
    "\"HS190\": \"HS190: CRIME VIOLENCE OR VANDALISM IN THE AREA\",\n",
    "\"HY010\": \"HY010: TOTAL HOUSEHOLD GROSS INCOME\",\n",
    "\"HY020\": \"HY020: TOTAL DISPOSABLE HOUSEHOLD INCOME\" ,\n",
    "\"HY022\": \"HY022: TOTAL DISPOSABLE HOUSEHOLD INCOME BEFORE SOCIAL TRANSFERS OTHER THAN OLD-AGE AND SURVIVOR'S BENEFITS\", \n",
    "\"HY023\": \"HY023: TOTAL DISPOSABLE HOUSEHOLD INCOME BEFORE SOCIAL TRANSFERS INCLUDING OLD-AGE AND SURVIVOR'S BENEFITS\", \n",
    "\"HY025\": \"HY025: WITHIN-HOUSEHOLD NON-RESPONSE INFLATION FACTOR\", \n",
    "\"HY030G\": \"HY030G: IMPUTED RENT\",\n",
    "\"HY040G\": \"HY040G: INCOME FROM RENTAL OF A PROPERTY OR LAND\",\n",
    "\"HY090G\": \"HY090G: INTEREST, DIVIDENDS, PROFIT FROM CAPITAL INVESTMENTS IN UNINCORPORATED BUSINESS\",\n",
    "\"HY050G\": \"HY050G: FAMILY/CHILDREN RELATED ALLOWANCES\",\n",
    "\"HY060G\": \"HY060G: SOCIAL EXCLUSION NOT ELSEWHERE CLASSIFIED\",\n",
    "\"HY070G\": \"HY070G: HOUSING ALLOWANCES\",\n",
    "\"HY080G\": \"HY080G: REGULAR INTER-HOUSEHOLD CASH TRANSFER RECEIVED\", \n",
    "\"HY081G\": \"HY081G: ALIMONIES RECEIVED (COMPULSORY + VOLUNTARY)\",\n",
    "\"HY100G\": \"HY100G: INTEREST REPAYMENTS ON MORTGAGE\",\n",
    "\"HY110G\": \"HY110G: INCOME RECEIVED BY PEOPLE AGED UNDER\", \n",
    "\"HY120G\": \"HY120G: REGULAR TAXES ON WEALTH\",\n",
    "\"HY130G\": \"HY130G: REGULAR INTER-HOUSEHOLD CASH TRANSFER PAID\",\n",
    "\"HY131G\": \"HY131G: ALIMONIES PAID (COMPULSORY + VOLUNTARY)\",\n",
    "\"HY140G\": \"HY140G: TAX ON INCOME AND SOCIAL CONTRIBUTIONS\", \n",
    "\"HY145N\": \"HY145N: REPAYMENTS/RECEIPTS FOR TAX ADJUSTMENT\",\n",
    "\"HY170G\": \"HY170G: VALUE OF GOODS PRODUCED FOR OWN CONSUMPTION\",\n",
    "}"
   ]
  },
  {
   "cell_type": "code",
   "execution_count": 25,
   "metadata": {},
   "outputs": [
    {
     "data": {
      "text/plain": [
       "Index(['HB010: YEAR OF THE SURVEY', 'HB020: COUNTRY', 'HB030: HOUSEHOLD ID',\n",
       "       'HB050: MONTH OF HOUSEHOLD INTERVIEW',\n",
       "       'HB060: YEAR OF HOUSEHOLD INTERVIEW',\n",
       "       'HB100: NUMBER OF MINUTES TO COMPLETE THE HOUSEHOLD QUESTIONNAIRE',\n",
       "       'HY010: TOTAL HOUSEHOLD GROSS INCOME',\n",
       "       'HY020: TOTAL DISPOSABLE HOUSEHOLD INCOME',\n",
       "       'HY022: TOTAL DISPOSABLE HOUSEHOLD INCOME BEFORE SOCIAL TRANSFERS OTHER THAN OLD-AGE AND SURVIVOR'S BENEFITS',\n",
       "       'HY023: TOTAL DISPOSABLE HOUSEHOLD INCOME BEFORE SOCIAL TRANSFERS INCLUDING OLD-AGE AND SURVIVOR'S BENEFITS',\n",
       "       'HY040G: INCOME FROM RENTAL OF A PROPERTY OR LAND',\n",
       "       'HY050G: FAMILY/CHILDREN RELATED ALLOWANCES',\n",
       "       'HY060G: SOCIAL EXCLUSION NOT ELSEWHERE CLASSIFIED',\n",
       "       'HY070G: HOUSING ALLOWANCES',\n",
       "       'HY080G: REGULAR INTER-HOUSEHOLD CASH TRANSFER RECEIVED',\n",
       "       'HY081G: ALIMONIES RECEIVED (COMPULSORY + VOLUNTARY)',\n",
       "       'HY090G: INTEREST, DIVIDENDS, PROFIT FROM CAPITAL INVESTMENTS IN UNINCORPORATED BUSINESS',\n",
       "       'HY100G: INTEREST REPAYMENTS ON MORTGAGE',\n",
       "       'HY110G: INCOME RECEIVED BY PEOPLE AGED UNDER',\n",
       "       'HY120G: REGULAR TAXES ON WEALTH',\n",
       "       'HY130G: REGULAR INTER-HOUSEHOLD CASH TRANSFER PAID',\n",
       "       'HY131G: ALIMONIES PAID (COMPULSORY + VOLUNTARY)',\n",
       "       'HY140G: TAX ON INCOME AND SOCIAL CONTRIBUTIONS',\n",
       "       'HY170G: VALUE OF GOODS PRODUCED FOR OWN CONSUMPTION',\n",
       "       'HS021: ARREARS ON UTILITY BILLS',\n",
       "       'HS040: CAPACITY TO AFFORD PAYING FOR ONE WEEK ANNUAL HOLIDAY AWAY FROM HOME',\n",
       "       'HS050: CAPACITY TO AFFORD A MEAL WITH MEAT, CHICKEN, FISH (OR VEGETARIAN EQUIVALENT) EVERY SECOND DAY',\n",
       "       'HS060: CAPACITY TO FACE UNEXPECTED FINANCIAL EXPENSES',\n",
       "       'HS070: DO YOU HAVE A TELEPHONE (INCLUDING MOBILE PHONE)',\n",
       "       'HS080: DO YOU HAVE A COLOUR TV', 'HS090: DO YOU HAVE A COMPUTER',\n",
       "       'HS100: DO YOU HAVE A WASHING MACHINE', 'HS110: DO YOU HAVE A CAR',\n",
       "       'HS120: ABILITY TO MAKE ENDS MEET',\n",
       "       'HS130: LOWEST MONTHLY INCOME TO MAKE ENDS MEET',\n",
       "       'HS140: FINANCIAL BURDEN OF THE TOTAL HOUSING COST',\n",
       "       'HS160: PROBLEMS WITH THE DWELLING: TOO DARK, NOT ENOUGH LIGHT',\n",
       "       'HS170: NOISE FROM NEIGHBOURS OR FROM THE STREET',\n",
       "       'HS180: POLLUTION, GRIME OR OTHER ENVIRONMENTAL PROBLEMS',\n",
       "       'HS190: CRIME VIOLENCE OR VANDALISM IN THE AREA',\n",
       "       'HH010: DWELLING TYPE', 'HH021: TENURE STATUS',\n",
       "       'HH030: NUMBER OF ROOMS AVAILABLE TO THE HOUSEHOLD',\n",
       "       'HH040: LEAKING ROOF, DAMP WALLS/FLOORS/FOUNDATION, OR ROT IN WINDOW FRAMES OR FLOOR',\n",
       "       'HH050: BILITY TO KEEP HOME ADEQUATELY WARM',\n",
       "       'HH070: TOTAL HOUSING COST', 'HH081: BATH OR SHOWER IN DWELLING',\n",
       "       'HH091: INDOOR FLUSHING TOILET FOR SOLE USE OF HOUSEHOLD', 'HD080'],\n",
       "      dtype='object')"
      ]
     },
     "execution_count": 25,
     "metadata": {},
     "output_type": "execute_result"
    }
   ],
   "source": [
    "hhh = hhh.rename(columns=columnnames)\n",
    "hhh.columns"
   ]
  },
  {
   "cell_type": "markdown",
   "metadata": {},
   "source": [
    "## 1.2 Personal Data"
   ]
  },
  {
   "cell_type": "markdown",
   "metadata": {},
   "source": [
    "### 1.2.1 Personal Register Data"
   ]
  },
  {
   "cell_type": "code",
   "execution_count": 26,
   "metadata": {},
   "outputs": [],
   "source": [
    "ppr = pd.read_csv(\"./data/DE_2013r_EUSILC.csv\")"
   ]
  },
  {
   "cell_type": "code",
   "execution_count": 27,
   "metadata": {
    "scrolled": true
   },
   "outputs": [
    {
     "data": {
      "text/plain": [
       "(25796, 52)"
      ]
     },
     "execution_count": 27,
     "metadata": {},
     "output_type": "execute_result"
    }
   ],
   "source": [
    "ppr.shape"
   ]
  },
  {
   "cell_type": "code",
   "execution_count": 28,
   "metadata": {},
   "outputs": [
    {
     "data": {
      "text/plain": [
       "RB010          0\n",
       "RB020          0\n",
       "RB030          0\n",
       "RB031      25796\n",
       "RB031_F    25796\n",
       "RB050          0\n",
       "RB050_F    25796\n",
       "RB070      25796\n",
       "RB070_F    25796\n",
       "RB080          0\n",
       "RB080_F    25796\n",
       "RB090          0\n",
       "RB090_F    25796\n",
       "RB200          0\n",
       "RB200_F    25796\n",
       "RB210          0\n",
       "RB210_F    25796\n",
       "RB220      25796\n",
       "RB220_F    25796\n",
       "RB230      25796\n",
       "RB230_F    25796\n",
       "RB240      25796\n",
       "RB240_F    25796\n",
       "RB245      25796\n",
       "RB245_F    25796\n",
       "RB250       3789\n",
       "RB250_F    25796\n",
       "RB260       4056\n",
       "RB260_F    25796\n",
       "RB270      25796\n",
       "RB270_F    25796\n",
       "RL010      24396\n",
       "RL010_F    25796\n",
       "RL020      24405\n",
       "RL020_F    25796\n",
       "RL030      24445\n",
       "RL030_F    25796\n",
       "RL040      23088\n",
       "RL040_F    25796\n",
       "RL050      23086\n",
       "RL050_F    25796\n",
       "RL060      22906\n",
       "RL060_F    25796\n",
       "RL070      25796\n",
       "RL070_F    25796\n",
       "RX010      25796\n",
       "RX020      25796\n",
       "RX030      25796\n",
       "RX040      25796\n",
       "RX050      25796\n",
       "RX060      25796\n",
       "RX070      25796\n",
       "dtype: int64"
      ]
     },
     "execution_count": 28,
     "metadata": {},
     "output_type": "execute_result"
    }
   ],
   "source": [
    "ppr.isna().sum()"
   ]
  },
  {
   "cell_type": "code",
   "execution_count": 29,
   "metadata": {},
   "outputs": [
    {
     "data": {
      "text/plain": [
       "(25796, 10)"
      ]
     },
     "execution_count": 29,
     "metadata": {},
     "output_type": "execute_result"
    }
   ],
   "source": [
    "## Drop columns with more than 20% nans\n",
    "ppr=ppr.dropna(thresh=len(ppr)*0.8, axis=1)\n",
    "ppr.columns\n",
    "ppr.shape"
   ]
  },
  {
   "cell_type": "code",
   "execution_count": 30,
   "metadata": {},
   "outputs": [
    {
     "data": {
      "text/plain": [
       "RB010       0\n",
       "RB020       0\n",
       "RB030       0\n",
       "RB050       0\n",
       "RB080       0\n",
       "RB090       0\n",
       "RB200       0\n",
       "RB210       0\n",
       "RB250    3789\n",
       "RB260    4056\n",
       "dtype: int64"
      ]
     },
     "execution_count": 30,
     "metadata": {},
     "output_type": "execute_result"
    }
   ],
   "source": [
    "ppr.isna().sum()"
   ]
  },
  {
   "cell_type": "code",
   "execution_count": 31,
   "metadata": {},
   "outputs": [],
   "source": [
    "columnnames ={\n",
    "'RB010': \"RB010: YEAR OF THE SURVEY\", \n",
    "'RB020': \"RB020: COUNTRY\", \n",
    "'RB030': \"RB030: PERSONAL ID\", \n",
    "'RB050': \"RB050: PERSONAL CROSS_SECTIONAL WEIGHT\", \n",
    "'RB080': \"RB080: YEAR OF BIRTH\", \n",
    "'RB090': \"RB090: SEX\", \n",
    "'RB200': \"RB200: RESIDENTIAL STATUS\", \n",
    "'RB210': \"RB210: BASIC ACTIVITY STATUS\", \n",
    "'RB250': \"RB250: DATA STATUS\",\n",
    "'RB260': \"RB260: TYPE OF INTERVIEWS\"}"
   ]
  },
  {
   "cell_type": "code",
   "execution_count": 32,
   "metadata": {},
   "outputs": [
    {
     "data": {
      "text/plain": [
       "Index(['RB010: YEAR OF THE SURVEY', 'RB020: COUNTRY', 'RB030: PERSONAL ID',\n",
       "       'RB050: PERSONAL CROSS_SECTIONAL WEIGHT', 'RB080: YEAR OF BIRTH',\n",
       "       'RB090: SEX', 'RB200: RESIDENTIAL STATUS',\n",
       "       'RB210: BASIC ACTIVITY STATUS', 'RB250: DATA STATUS',\n",
       "       'RB260: TYPE OF INTERVIEWS'],\n",
       "      dtype='object')"
      ]
     },
     "execution_count": 32,
     "metadata": {},
     "output_type": "execute_result"
    }
   ],
   "source": [
    "ppr = ppr.rename(columns=columnnames)\n",
    "ppr.columns"
   ]
  },
  {
   "cell_type": "markdown",
   "metadata": {},
   "source": [
    "### 1.2.2 Personal Survey Data"
   ]
  },
  {
   "cell_type": "code",
   "execution_count": 163,
   "metadata": {},
   "outputs": [],
   "source": [
    "ppp = pd.read_csv(\"./data/DE_2013p_EUSILC.csv\")"
   ]
  },
  {
   "cell_type": "code",
   "execution_count": 164,
   "metadata": {},
   "outputs": [
    {
     "data": {
      "text/plain": [
       "PB010          0\n",
       "PB020          0\n",
       "PB030          0\n",
       "PB040          0\n",
       "PB040_F    22042\n",
       "           ...  \n",
       "PX020      22042\n",
       "PX030      22042\n",
       "PX040      22042\n",
       "PX050      22042\n",
       "PX200      22042\n",
       "Length: 284, dtype: int64"
      ]
     },
     "execution_count": 164,
     "metadata": {},
     "output_type": "execute_result"
    }
   ],
   "source": [
    "ppp.isna().sum()"
   ]
  },
  {
   "cell_type": "code",
   "execution_count": 166,
   "metadata": {},
   "outputs": [
    {
     "data": {
      "text/html": [
       "<div>\n",
       "<style scoped>\n",
       "    .dataframe tbody tr th:only-of-type {\n",
       "        vertical-align: middle;\n",
       "    }\n",
       "\n",
       "    .dataframe tbody tr th {\n",
       "        vertical-align: top;\n",
       "    }\n",
       "\n",
       "    .dataframe thead th {\n",
       "        text-align: right;\n",
       "    }\n",
       "</style>\n",
       "<table border=\"1\" class=\"dataframe\">\n",
       "  <thead>\n",
       "    <tr style=\"text-align: right;\">\n",
       "      <th></th>\n",
       "      <th>PB010</th>\n",
       "      <th>PB020</th>\n",
       "      <th>PB030</th>\n",
       "      <th>PB040</th>\n",
       "      <th>PB040_F</th>\n",
       "      <th>PB060</th>\n",
       "      <th>PB060_F</th>\n",
       "      <th>PB100</th>\n",
       "      <th>PB100_F</th>\n",
       "      <th>PB110</th>\n",
       "      <th>...</th>\n",
       "      <th>PW210</th>\n",
       "      <th>PW210_F</th>\n",
       "      <th>PW220</th>\n",
       "      <th>PW220_F</th>\n",
       "      <th>PX010</th>\n",
       "      <th>PX020</th>\n",
       "      <th>PX030</th>\n",
       "      <th>PX040</th>\n",
       "      <th>PX050</th>\n",
       "      <th>PX200</th>\n",
       "    </tr>\n",
       "  </thead>\n",
       "  <tbody>\n",
       "    <tr>\n",
       "      <td>0</td>\n",
       "      <td>2013</td>\n",
       "      <td>DE</td>\n",
       "      <td>35601</td>\n",
       "      <td>3057.583187</td>\n",
       "      <td>NaN</td>\n",
       "      <td>NaN</td>\n",
       "      <td>NaN</td>\n",
       "      <td>2</td>\n",
       "      <td>NaN</td>\n",
       "      <td>2013</td>\n",
       "      <td>...</td>\n",
       "      <td>8.0</td>\n",
       "      <td>NaN</td>\n",
       "      <td>NaN</td>\n",
       "      <td>NaN</td>\n",
       "      <td>NaN</td>\n",
       "      <td>NaN</td>\n",
       "      <td>NaN</td>\n",
       "      <td>NaN</td>\n",
       "      <td>NaN</td>\n",
       "      <td>NaN</td>\n",
       "    </tr>\n",
       "    <tr>\n",
       "      <td>1</td>\n",
       "      <td>2013</td>\n",
       "      <td>DE</td>\n",
       "      <td>44701</td>\n",
       "      <td>3057.583187</td>\n",
       "      <td>NaN</td>\n",
       "      <td>NaN</td>\n",
       "      <td>NaN</td>\n",
       "      <td>3</td>\n",
       "      <td>NaN</td>\n",
       "      <td>2013</td>\n",
       "      <td>...</td>\n",
       "      <td>6.0</td>\n",
       "      <td>NaN</td>\n",
       "      <td>2.0</td>\n",
       "      <td>NaN</td>\n",
       "      <td>NaN</td>\n",
       "      <td>NaN</td>\n",
       "      <td>NaN</td>\n",
       "      <td>NaN</td>\n",
       "      <td>NaN</td>\n",
       "      <td>NaN</td>\n",
       "    </tr>\n",
       "    <tr>\n",
       "      <td>2</td>\n",
       "      <td>2013</td>\n",
       "      <td>DE</td>\n",
       "      <td>59901</td>\n",
       "      <td>3057.583187</td>\n",
       "      <td>NaN</td>\n",
       "      <td>NaN</td>\n",
       "      <td>NaN</td>\n",
       "      <td>2</td>\n",
       "      <td>NaN</td>\n",
       "      <td>2013</td>\n",
       "      <td>...</td>\n",
       "      <td>6.0</td>\n",
       "      <td>NaN</td>\n",
       "      <td>2.0</td>\n",
       "      <td>NaN</td>\n",
       "      <td>NaN</td>\n",
       "      <td>NaN</td>\n",
       "      <td>NaN</td>\n",
       "      <td>NaN</td>\n",
       "      <td>NaN</td>\n",
       "      <td>NaN</td>\n",
       "    </tr>\n",
       "    <tr>\n",
       "      <td>3</td>\n",
       "      <td>2013</td>\n",
       "      <td>DE</td>\n",
       "      <td>71101</td>\n",
       "      <td>3057.583187</td>\n",
       "      <td>NaN</td>\n",
       "      <td>NaN</td>\n",
       "      <td>NaN</td>\n",
       "      <td>2</td>\n",
       "      <td>NaN</td>\n",
       "      <td>2013</td>\n",
       "      <td>...</td>\n",
       "      <td>5.0</td>\n",
       "      <td>NaN</td>\n",
       "      <td>3.0</td>\n",
       "      <td>NaN</td>\n",
       "      <td>NaN</td>\n",
       "      <td>NaN</td>\n",
       "      <td>NaN</td>\n",
       "      <td>NaN</td>\n",
       "      <td>NaN</td>\n",
       "      <td>NaN</td>\n",
       "    </tr>\n",
       "    <tr>\n",
       "      <td>4</td>\n",
       "      <td>2013</td>\n",
       "      <td>DE</td>\n",
       "      <td>79501</td>\n",
       "      <td>3057.583187</td>\n",
       "      <td>NaN</td>\n",
       "      <td>NaN</td>\n",
       "      <td>NaN</td>\n",
       "      <td>2</td>\n",
       "      <td>NaN</td>\n",
       "      <td>2013</td>\n",
       "      <td>...</td>\n",
       "      <td>10.0</td>\n",
       "      <td>NaN</td>\n",
       "      <td>1.0</td>\n",
       "      <td>NaN</td>\n",
       "      <td>NaN</td>\n",
       "      <td>NaN</td>\n",
       "      <td>NaN</td>\n",
       "      <td>NaN</td>\n",
       "      <td>NaN</td>\n",
       "      <td>NaN</td>\n",
       "    </tr>\n",
       "  </tbody>\n",
       "</table>\n",
       "<p>5 rows × 284 columns</p>\n",
       "</div>"
      ],
      "text/plain": [
       "   PB010 PB020  PB030        PB040  PB040_F  PB060  PB060_F  PB100  PB100_F  \\\n",
       "0   2013    DE  35601  3057.583187      NaN    NaN      NaN      2      NaN   \n",
       "1   2013    DE  44701  3057.583187      NaN    NaN      NaN      3      NaN   \n",
       "2   2013    DE  59901  3057.583187      NaN    NaN      NaN      2      NaN   \n",
       "3   2013    DE  71101  3057.583187      NaN    NaN      NaN      2      NaN   \n",
       "4   2013    DE  79501  3057.583187      NaN    NaN      NaN      2      NaN   \n",
       "\n",
       "   PB110  ...  PW210  PW210_F  PW220  PW220_F  PX010  PX020  PX030  PX040  \\\n",
       "0   2013  ...    8.0      NaN    NaN      NaN    NaN    NaN    NaN    NaN   \n",
       "1   2013  ...    6.0      NaN    2.0      NaN    NaN    NaN    NaN    NaN   \n",
       "2   2013  ...    6.0      NaN    2.0      NaN    NaN    NaN    NaN    NaN   \n",
       "3   2013  ...    5.0      NaN    3.0      NaN    NaN    NaN    NaN    NaN   \n",
       "4   2013  ...   10.0      NaN    1.0      NaN    NaN    NaN    NaN    NaN   \n",
       "\n",
       "   PX050  PX200  \n",
       "0    NaN    NaN  \n",
       "1    NaN    NaN  \n",
       "2    NaN    NaN  \n",
       "3    NaN    NaN  \n",
       "4    NaN    NaN  \n",
       "\n",
       "[5 rows x 284 columns]"
      ]
     },
     "execution_count": 166,
     "metadata": {},
     "output_type": "execute_result"
    }
   ],
   "source": [
    "ppp.head()"
   ]
  },
  {
   "cell_type": "code",
   "execution_count": 35,
   "metadata": {},
   "outputs": [
    {
     "data": {
      "text/plain": [
       "(22042, 64)"
      ]
     },
     "execution_count": 35,
     "metadata": {},
     "output_type": "execute_result"
    }
   ],
   "source": [
    "## Drop columns with more than 20% nans\n",
    "ppp=ppp.dropna(thresh=len(ppp)*0.8, axis=1)\n",
    "ppp.shape"
   ]
  },
  {
   "cell_type": "code",
   "execution_count": 36,
   "metadata": {},
   "outputs": [
    {
     "data": {
      "text/plain": [
       "Index(['PB010', 'PB020', 'PB030', 'PB040', 'PB100', 'PB110', 'PB120', 'PB140',\n",
       "       'PB150', 'PB190', 'PB200', 'PB220A', 'PE010', 'PE040', 'PL031', 'PL035',\n",
       "       'PL040', 'PL051', 'PL140', 'PL150', 'PL190', 'PH010', 'PH020', 'PH030',\n",
       "       'PH040', 'PH060', 'PY010G', 'PY020G', 'PY021G', 'PY035G', 'PY050G',\n",
       "       'PY080G', 'PY090G', 'PY100G', 'PY110G', 'PY120G', 'PY130G', 'PY140G',\n",
       "       'PD020', 'PD030', 'PD050', 'PD060', 'PD070', 'PD080', 'PW010', 'PW020',\n",
       "       'PW030', 'PW040', 'PW050', 'PW060', 'PW070', 'PW080', 'PW090', 'PW120',\n",
       "       'PW130', 'PW140', 'PW150', 'PW160', 'PW170', 'PW180', 'PW190', 'PW200',\n",
       "       'PW210', 'PW220'],\n",
       "      dtype='object')"
      ]
     },
     "execution_count": 36,
     "metadata": {},
     "output_type": "execute_result"
    }
   ],
   "source": [
    "ppp.columns"
   ]
  },
  {
   "cell_type": "code",
   "execution_count": 37,
   "metadata": {},
   "outputs": [],
   "source": [
    "columnnames = {\n",
    "\"PB010\": \"PB010: YEAR OF THE SURVEY\", \n",
    "\"PB020\": \"PB020: COUNTRY\",\n",
    "\"PB030\": \"PB030: PERSONAL ID\",\n",
    "\"PB040\": \"PB040: PERSONAL CROSS-SECTIONAL WEIGHT\",\n",
    "\"PB050\": \"PB050: PERSONAL BASE WEIGHT\",\n",
    "\"PB060\": \"PB060: PERSONAL CROSS-SECTIONAL WEIGHT FOR SELECTED RESPONDENT\",\n",
    "\"PB070\": \"PB070: PERSONAL DESIGN WEIGHT FOR SELECTED RESPONDENT\",\n",
    "\"PB080\": \"PB080: PERSONAL BASE WEIGHT FOR SELECTED RESPONDENT\",\n",
    "\"PB090\": \"PB090: DAY OF THE PERSONAL INTERVIEW\", \n",
    "\"PB100\": \"PB100: MONTH OF THE PERSONAL INTERVIEW\", \n",
    "\"PB110\": \"PB110: YEAR OF THE PERSONAL INTERVIEW\",\n",
    "\"PB120\": \"PB120: MINUTES TO COMPLETE THE PERSONAL QUESTIONNAIRE\",\n",
    "\"PB130\": \"PB130: MONTH OF BIRTH\",\n",
    "\"PB140\": \"PB140: YEAR OF BIRTH\",\n",
    "\"PB150\": \"PB150: SEX\",\n",
    "\"PB160\": \"PB160: FATHER ID\",\n",
    "\"PB170\": \"PB170: MOTHER\",\n",
    "\"PB180\": \"PB180: SPOUSE/PARTNER ID\",\n",
    "\"PB190\": \"PB190: MARITAL STATUS\",\n",
    "\"PB200\": \"PB200: CONSENSUAL UNION\",\n",
    "\"PB210\": \"PB210: COUNTRY OF BIRTH\",\n",
    "\"PB220A\": \"PB220A: CITIZENSHIP\",\n",
    "\"PB220B\": \"PB220B: CITIZENSHIP\",\n",
    "\"PE010\": \"PE010: CURRENT EDUCATION ACTIVITY\",\n",
    "\"PE020\": \"PE020: ISCED LEVEL CURRENTLY ATTENDED\",\n",
    "\"PE030\": \"PE030: YEAR WHEN HIGHEST LEVEL OF EDUCATION WAS ATTAINED\",\n",
    "\"PE040\": \"PE040: HIGHEST ISCED LEVEL ATTAINED\",\n",
    "\"PH010\": \"PH010: GENERAL HEALTH\",\n",
    "\"PH020\": \"PH020: SUFFER FROM ANY A CHRONIC (LONG-STANDING) ILLNESS OR CONDITION\",\n",
    "\"PH030\": \"PH030: LIMITATION IN ACTIVITIES BECAUSE OF HEALTH PROBLEMS\",\n",
    "\"PH040\": \"PH040: UNMET NEED FOR MEDICAL EXAMINATION OR TREATMENT\", \n",
    "\"PH050\": \"PH050: MAIN REASON FOR UNMET NEED FOR MEDICAL EXAMINATION OR TREATMENT\",\n",
    "\"PH060\": \"PH060: UNMET NEED FOR DENTAL EXAMINATION OR TREATMENT\",\n",
    "\"PH070\": \"PH070: MAIN REASON FOR UNMET NEED FOR DENTAL EXAMINATION OR TREATMENT\",\n",
    "\"PL015\": \"PL015: PERSON HAS EVER WORKED\",\n",
    "\"PL020\": \"PL020: ACTIVELY LOOKING FOR A JOB\",\n",
    "\"PL025\": \"PL025: AVAILABLE FOR WORK\",\n",
    "\"PL031\": \"PL031: SELF-DEFINED CURRENT ECONOMIC STATUS\",\n",
    "\"PL035\": \"PL035: WORKED AT LEAST 1 HOUR DURING THE PREVIOUS WEEK\",\n",
    "\"PL040\": \"PL040: STATUS IN EMPLOYMENT\",\n",
    "\"PL051\": \"PL051: OCCUPATION (ISCO-08 (COM))\",\n",
    "\"PL060\": \"PL060: NUMBER OF HOURS USUALLY WORKED PER WEEK IN MAIN JOB\",\n",
    "\"PL073\": \"PL073: NUMBER OF MONTHS SPENT AT FULL-TIME WORK AS EMPLOYEE\",\n",
    "\"PL074\": \"PL074: NUMBER OF MONTHS SPENT AT PART-TIME WORK AS EMPLOYEE\",\n",
    "\"PL075\": \"PL075: NUMBER OF MONTHS SPENT AT FULL-TIME WORK AS SELF-EMPLOYED (INCLUDING FAMILY WORKER)\",\n",
    "\"PL076\": \"PL076: NUMBER OF MONTHS SPENT AT PART-TIME WORK AS SELF-EMPLOYED (INCLUDING FAMILY WORKER)\",\n",
    "\"PL080\": \"PL080: NUMBER OF MONTHS SPENT IN UNEMPLOYMENT\",\n",
    "\"PL085\": \"PL085: NUMBER OF MONTHS SPENT IN RETIREMENT OR EARLY RETIREMENT\",\n",
    "\"PL086\": \"PL086: NUMBER OF MONTHS SPENT AS DISABLED OR/AND UNFIT TO WORK\",\n",
    "\"PL087\": \"PL087: NUMBER OF MONTHS SPENT STUDYING\",\n",
    "\"PL088\": \"PL088: NUMBER OF MONTHS SPENT IN COMPULSORY MILITARY SERVICE\",\n",
    "\"PL089\": \"PL089: NUMBER OF MONTHS SPENT FULFILLING DOMESTIC TASKS AND CARE RESPONSIBILITIES\",\n",
    "\"PL090\": \"PL090: NUMBER OF MONTHS SPENT IN OTHER INACTIVITY\",\n",
    "\"PL100\": \"PL100: TOTAL NUMBER OF HOURS USUALLY WORKED IN SECOND, THIRD… JOBS\",\n",
    "\"PL101\": \"PL111: NACE REV\",\n",
    "\"PL120\": \"PL120: REASON FOR WORKING LESS THAN 30 HOURS\",\n",
    "\"PL130\": \"PL130: NUMBER OF PERSONS WORKING AT THE LOCAL UNIT\",\n",
    "\"PL140\": \"PL140: TYPE OF CONTRACT\",\n",
    "\"PL150\": \"PL150: MANAGERIAL POSITION\", \n",
    "\"PL160\": \"PL160: CHANGE OF JOB SINCE LAST YEAR\", \n",
    "\"PL170\": \"PL170: REASON FOR CHANGE\",\n",
    "\"PL180\": \"PL180: MOST RECENT CHANGE IN THE INDIVIDUAL’S ACTIVITY STATUS\",\n",
    "\"PL190\": \"PL190: WHEN BEGAN FIRST REGULAR JOB\",\n",
    "\"PL200\": \"PL200: NUMBER OF YEARS SPENT IN PAID WORK\", \n",
    "\"PY010G\": \"PY010G: EMPLOYEE CASH OR NEAR CASH INCOME\",\n",
    "\"PY020G\": \"PY020G: NON-CASH EMPLOYEE INCOME\",\n",
    "\"PY021G\": \"PY021G: COMPANY CAR\",\n",
    "\"PY030G\": \"PY030G: EMPLOYER'S SOCIAL INSURANCE CONTRIBUTION\",\n",
    "\"PY031G\": \"PY031G: OPTIONAL EMPLOYER'S SOCIAL INSURANCE CONTRIBUTIONS\",\n",
    "\"PY035G\": \"PY035G: CONTRIBUTIONS TO INDIVIDUAL PRIVATE PENSION PLANS\", \n",
    "\"PY050G\": \"PY050G: CASH BENEFITS OR LOSSES FROM SELF-EMPLOYMENT\",\n",
    "\"PY080G\": \"PY080G: PENSION FROM INDIVIDUAL PRIVATE PLANS\",\n",
    "\"PY090G\": \"PY090G: UNEMPLOYMENT BENEFITS\", \n",
    "\"PY100G\": \"PY100G: OLD-AGE BENEFITS\", \n",
    "\"PY110G\": \"PY110G: SURVIVOR’ BENEFITS\", \n",
    "\"PY120G\": \"PY120G: SICKNESS BENEFITS\", \n",
    "\"PY130G\": \"PY130G: DISABILITY BENEFITS\",\n",
    "\"PY140G\": \"PY140G: EDUCATION-RELATED ALLOWANCES\", \n",
    "\"PY200G\": \"PY200G: GROSS MONTHLY EARNINGS FOR EMPLOYEES\", \n",
    "\"PW010\": \"PW010: OVERALL LIFE SATISFACTION\", \n",
    "\"PW020\": \"PW020: MEANING OF LIFE\", \n",
    "\"PW030\": \"PW030: SATISFACTION WITH FINANCIAL SITUATION\", \n",
    "\"PW040\": \"PW040: SATISFACTION WITH ACCOMMODATION\",\n",
    "\"PW050\": \"PW050: BEING VERY NERVOUS\", \n",
    "\"PW060\": \"PW060: FEELING DOWN IN THE DUMPS\",\n",
    "\"PW070\": \"PW070: FEELING CALM AND PEACEFUL\", \n",
    "\"PW080\": \"PW080: FEELING DOWNHEARTED OR DEPRESSED\",\n",
    "\"PW090\": \"PW090: BEING HAPPY\",\n",
    "\"PW100\": \"PW100: JOB SATISFACTION\",\n",
    "\"PW110\": \"PW110: SATISFACTION WITH COMMUTING TIME\",\n",
    "\"PW120\": \"PW120: SATISFACTION WITH TIME USE\",\n",
    "\"PW130\": \"PW130: TRUST IN THE POLITICAL SYSTEM\",\n",
    "\"PW140\": \"PW140: TRUST IN THE LEGAL SYSTEM\",\n",
    "\"PW150\": \"PW150: TRUST IN THE POLICE\",\n",
    "\"PW160\": \"PW160: SATISFACTION WITH PERSONAL RELATIONSHIPS\",\n",
    "\"PW170\": \"PW170: PERSONAL MATTERS (ANYONE TO DISCUSS WITH)\", \n",
    "\"PW180\": \"PW180: HELP FROM OTHERS\",\n",
    "\"PW190\": \"PW190: TRUST IN OTHERS\",\n",
    "\"PW200\": \"PW200: SATISFACTION WITH RECREATIONAL OR GREEN AREAS\",\n",
    "\"PW210\": \"PW210: SATISFACTION WITH LIVING ENVIRONMENT\", \n",
    "\"PW220\": \"PW220: PHYSICAL SECURITY\",\n",
    "'PD020': \"PD020: Replace worn-out clothes by some new (not second-hand) ones\" , \n",
    "'PD030': \"PD030: Two pairs of properly fitting shoes\", \n",
    "'PD050': \"PD050: Get-together with friends/family (relatives) for a drink/meal at least once a month\", \n",
    "'PD060': \"PD060: Regularly participate in a leisure activity\", \n",
    "'PD070': \"PD070: Spend a small amount of money each week on yourself\",\n",
    "'PD080': \"PD080: Internet connection for personal use at home\"\n",
    "}\n",
    "\n",
    "###PD:  ADDITIONAL VARIABLES FOR MATERIAL DEPRIVATION"
   ]
  },
  {
   "cell_type": "code",
   "execution_count": 38,
   "metadata": {},
   "outputs": [
    {
     "data": {
      "text/plain": [
       "Index(['PB010: YEAR OF THE SURVEY', 'PB020: COUNTRY', 'PB030: PERSONAL ID',\n",
       "       'PB040: PERSONAL CROSS-SECTIONAL WEIGHT',\n",
       "       'PB100: MONTH OF THE PERSONAL INTERVIEW',\n",
       "       'PB110: YEAR OF THE PERSONAL INTERVIEW',\n",
       "       'PB120: MINUTES TO COMPLETE THE PERSONAL QUESTIONNAIRE',\n",
       "       'PB140: YEAR OF BIRTH', 'PB150: SEX', 'PB190: MARITAL STATUS',\n",
       "       'PB200: CONSENSUAL UNION', 'PB220A: CITIZENSHIP',\n",
       "       'PE010: CURRENT EDUCATION ACTIVITY',\n",
       "       'PE040: HIGHEST ISCED LEVEL ATTAINED',\n",
       "       'PL031: SELF-DEFINED CURRENT ECONOMIC STATUS',\n",
       "       'PL035: WORKED AT LEAST 1 HOUR DURING THE PREVIOUS WEEK',\n",
       "       'PL040: STATUS IN EMPLOYMENT', 'PL051: OCCUPATION (ISCO-08 (COM))',\n",
       "       'PL140: TYPE OF CONTRACT', 'PL150: MANAGERIAL POSITION',\n",
       "       'PL190: WHEN BEGAN FIRST REGULAR JOB', 'PH010: GENERAL HEALTH',\n",
       "       'PH020: SUFFER FROM ANY A CHRONIC (LONG-STANDING) ILLNESS OR CONDITION',\n",
       "       'PH030: LIMITATION IN ACTIVITIES BECAUSE OF HEALTH PROBLEMS',\n",
       "       'PH040: UNMET NEED FOR MEDICAL EXAMINATION OR TREATMENT',\n",
       "       'PH060: UNMET NEED FOR DENTAL EXAMINATION OR TREATMENT',\n",
       "       'PY010G: EMPLOYEE CASH OR NEAR CASH INCOME',\n",
       "       'PY020G: NON-CASH EMPLOYEE INCOME', 'PY021G: COMPANY CAR',\n",
       "       'PY035G: CONTRIBUTIONS TO INDIVIDUAL PRIVATE PENSION PLANS',\n",
       "       'PY050G: CASH BENEFITS OR LOSSES FROM SELF-EMPLOYMENT',\n",
       "       'PY080G: PENSION FROM INDIVIDUAL PRIVATE PLANS',\n",
       "       'PY090G: UNEMPLOYMENT BENEFITS', 'PY100G: OLD-AGE BENEFITS',\n",
       "       'PY110G: SURVIVOR’ BENEFITS', 'PY120G: SICKNESS BENEFITS',\n",
       "       'PY130G: DISABILITY BENEFITS', 'PY140G: EDUCATION-RELATED ALLOWANCES',\n",
       "       'PD020: Replace worn-out clothes by some new (not second-hand) ones',\n",
       "       'PD030: Two pairs of properly fitting shoes',\n",
       "       'PD050: Get-together with friends/family (relatives) for a drink/meal at least once a month',\n",
       "       'PD060: Regularly participate in a leisure activity',\n",
       "       'PD070: Spend a small amount of money each week on yourself',\n",
       "       'PD080: Internet connection for personal use at home',\n",
       "       'PW010: OVERALL LIFE SATISFACTION', 'PW020: MEANING OF LIFE',\n",
       "       'PW030: SATISFACTION WITH FINANCIAL SITUATION',\n",
       "       'PW040: SATISFACTION WITH ACCOMMODATION', 'PW050: BEING VERY NERVOUS',\n",
       "       'PW060: FEELING DOWN IN THE DUMPS', 'PW070: FEELING CALM AND PEACEFUL',\n",
       "       'PW080: FEELING DOWNHEARTED OR DEPRESSED', 'PW090: BEING HAPPY',\n",
       "       'PW120: SATISFACTION WITH TIME USE',\n",
       "       'PW130: TRUST IN THE POLITICAL SYSTEM',\n",
       "       'PW140: TRUST IN THE LEGAL SYSTEM', 'PW150: TRUST IN THE POLICE',\n",
       "       'PW160: SATISFACTION WITH PERSONAL RELATIONSHIPS',\n",
       "       'PW170: PERSONAL MATTERS (ANYONE TO DISCUSS WITH)',\n",
       "       'PW180: HELP FROM OTHERS', 'PW190: TRUST IN OTHERS',\n",
       "       'PW200: SATISFACTION WITH RECREATIONAL OR GREEN AREAS',\n",
       "       'PW210: SATISFACTION WITH LIVING ENVIRONMENT',\n",
       "       'PW220: PHYSICAL SECURITY'],\n",
       "      dtype='object')"
      ]
     },
     "execution_count": 38,
     "metadata": {},
     "output_type": "execute_result"
    }
   ],
   "source": [
    "ppp = ppp.rename(columns=columnnames)\n",
    "ppp.columns"
   ]
  },
  {
   "cell_type": "code",
   "execution_count": 39,
   "metadata": {},
   "outputs": [],
   "source": [
    "### drop columns because not of interest\n",
    "\n",
    "columnstodrop=['PB040: PERSONAL CROSS-SECTIONAL WEIGHT', 'PB100: MONTH OF THE PERSONAL INTERVIEW',\n",
    "               'PB110: YEAR OF THE PERSONAL INTERVIEW','PB120: MINUTES TO COMPLETE THE PERSONAL QUESTIONNAIRE']\n",
    "\n",
    "ppp.drop(columnstodrop, axis=1, inplace=True)"
   ]
  },
  {
   "cell_type": "code",
   "execution_count": 40,
   "metadata": {},
   "outputs": [
    {
     "data": {
      "text/plain": [
       "Index(['PB010: YEAR OF THE SURVEY', 'PB020: COUNTRY', 'PB030: PERSONAL ID',\n",
       "       'PB140: YEAR OF BIRTH', 'PB150: SEX', 'PB190: MARITAL STATUS',\n",
       "       'PB200: CONSENSUAL UNION', 'PB220A: CITIZENSHIP',\n",
       "       'PE010: CURRENT EDUCATION ACTIVITY',\n",
       "       'PE040: HIGHEST ISCED LEVEL ATTAINED',\n",
       "       'PL031: SELF-DEFINED CURRENT ECONOMIC STATUS',\n",
       "       'PL035: WORKED AT LEAST 1 HOUR DURING THE PREVIOUS WEEK',\n",
       "       'PL040: STATUS IN EMPLOYMENT', 'PL051: OCCUPATION (ISCO-08 (COM))',\n",
       "       'PL140: TYPE OF CONTRACT', 'PL150: MANAGERIAL POSITION',\n",
       "       'PL190: WHEN BEGAN FIRST REGULAR JOB', 'PH010: GENERAL HEALTH',\n",
       "       'PH020: SUFFER FROM ANY A CHRONIC (LONG-STANDING) ILLNESS OR CONDITION',\n",
       "       'PH030: LIMITATION IN ACTIVITIES BECAUSE OF HEALTH PROBLEMS',\n",
       "       'PH040: UNMET NEED FOR MEDICAL EXAMINATION OR TREATMENT',\n",
       "       'PH060: UNMET NEED FOR DENTAL EXAMINATION OR TREATMENT',\n",
       "       'PY010G: EMPLOYEE CASH OR NEAR CASH INCOME',\n",
       "       'PY020G: NON-CASH EMPLOYEE INCOME', 'PY021G: COMPANY CAR',\n",
       "       'PY035G: CONTRIBUTIONS TO INDIVIDUAL PRIVATE PENSION PLANS',\n",
       "       'PY050G: CASH BENEFITS OR LOSSES FROM SELF-EMPLOYMENT',\n",
       "       'PY080G: PENSION FROM INDIVIDUAL PRIVATE PLANS',\n",
       "       'PY090G: UNEMPLOYMENT BENEFITS', 'PY100G: OLD-AGE BENEFITS',\n",
       "       'PY110G: SURVIVOR’ BENEFITS', 'PY120G: SICKNESS BENEFITS',\n",
       "       'PY130G: DISABILITY BENEFITS', 'PY140G: EDUCATION-RELATED ALLOWANCES',\n",
       "       'PD020: Replace worn-out clothes by some new (not second-hand) ones',\n",
       "       'PD030: Two pairs of properly fitting shoes',\n",
       "       'PD050: Get-together with friends/family (relatives) for a drink/meal at least once a month',\n",
       "       'PD060: Regularly participate in a leisure activity',\n",
       "       'PD070: Spend a small amount of money each week on yourself',\n",
       "       'PD080: Internet connection for personal use at home',\n",
       "       'PW010: OVERALL LIFE SATISFACTION', 'PW020: MEANING OF LIFE',\n",
       "       'PW030: SATISFACTION WITH FINANCIAL SITUATION',\n",
       "       'PW040: SATISFACTION WITH ACCOMMODATION', 'PW050: BEING VERY NERVOUS',\n",
       "       'PW060: FEELING DOWN IN THE DUMPS', 'PW070: FEELING CALM AND PEACEFUL',\n",
       "       'PW080: FEELING DOWNHEARTED OR DEPRESSED', 'PW090: BEING HAPPY',\n",
       "       'PW120: SATISFACTION WITH TIME USE',\n",
       "       'PW130: TRUST IN THE POLITICAL SYSTEM',\n",
       "       'PW140: TRUST IN THE LEGAL SYSTEM', 'PW150: TRUST IN THE POLICE',\n",
       "       'PW160: SATISFACTION WITH PERSONAL RELATIONSHIPS',\n",
       "       'PW170: PERSONAL MATTERS (ANYONE TO DISCUSS WITH)',\n",
       "       'PW180: HELP FROM OTHERS', 'PW190: TRUST IN OTHERS',\n",
       "       'PW200: SATISFACTION WITH RECREATIONAL OR GREEN AREAS',\n",
       "       'PW210: SATISFACTION WITH LIVING ENVIRONMENT',\n",
       "       'PW220: PHYSICAL SECURITY'],\n",
       "      dtype='object')"
      ]
     },
     "execution_count": 40,
     "metadata": {},
     "output_type": "execute_result"
    }
   ],
   "source": [
    "ppp.columns"
   ]
  },
  {
   "cell_type": "code",
   "execution_count": 41,
   "metadata": {},
   "outputs": [
    {
     "data": {
      "text/plain": [
       "<matplotlib.axes._subplots.AxesSubplot at 0x162b5e42688>"
      ]
     },
     "execution_count": 41,
     "metadata": {},
     "output_type": "execute_result"
    },
    {
     "data": {
      "image/png": "[encoded data removed]",
      "text/plain": [
       "<Figure size 720x720 with 2 Axes>"
      ]
     },
     "metadata": {
      "needs_background": "light"
     },
     "output_type": "display_data"
    }
   ],
   "source": [
    "import seaborn as sns\n",
    "plt.figure(figsize =(10,10))\n",
    "corr = ppp.corr()\n",
    "mask = np.triu(np.ones_like(corr, dtype=np.bool))\n",
    "sns.heatmap(corr, cmap='coolwarm', annot = False, linewidth=0.5, mask=mask)"
   ]
  },
  {
   "cell_type": "markdown",
   "metadata": {},
   "source": [
    "## 1.3 Conclusion"
   ]
  },
  {
   "cell_type": "markdown",
   "metadata": {},
   "source": [
    "I focus on the personal survey data, because it has the most observations and the most interesting datas."
   ]
  }
 ],
 "metadata": {
  "kernelspec": {
   "display_name": "Python 3",
   "language": "python",
   "name": "python3"
  },
  "language_info": {
   "codemirror_mode": {
    "name": "ipython",
    "version": 3
   },
   "file_extension": ".py",
   "mimetype": "text/x-python",
   "name": "python",
   "nbconvert_exporter": "python",
   "pygments_lexer": "ipython3",
   "version": "3.7.4"
  }
 },
 "nbformat": 4,
 "nbformat_minor": 2
}
