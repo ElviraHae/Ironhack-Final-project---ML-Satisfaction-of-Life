{
 "cells": [
  {
   "cell_type": "code",
   "execution_count": 300,
   "metadata": {},
   "outputs": [],
   "source": [
    "import pandas as pd\n",
    "import numpy as np\n",
    "import matplotlib.pyplot as plt\n",
    "import seaborn as sns"
   ]
  },
  {
   "cell_type": "markdown",
   "metadata": {},
   "source": [
    "##### Datas: \n",
    "https://ec.europa.eu/eurostat/web/microdata/statistics-on-income-and-living-conditions\n",
    "\n",
    "##### Documentation:\n",
    "https://circabc.europa.eu/faces/jsp/extension/wai/navigation/container.jsp?FormPrincipal:_idcl=FormPrincipal:_id1&FormPrincipal_SUBMIT=1&id=c31bb5ae-2de6-49d3-bdcb-21992b3a2935&javax.faces.ViewState=meuDdJMlFsG5yNkNcejyPL481TffTqBlmAoXxLv4eKPClWnkj%2FIBx85kqWpflSLguyT5ndOI7k0APPg0%2F305IGJeFLWQfTP7dBwL1Bo1Kxt7G7Quw5NsD8LJJe9kdthN%2B%2BdW8EdW%2BAC%2FqwKdG11ap%2Fd0I6k%3D"
   ]
  },
  {
   "cell_type": "markdown",
   "metadata": {},
   "source": [
    "# 1. Data Import and decide which one to use"
   ]
  },
  {
   "cell_type": "markdown",
   "metadata": {},
   "source": [
    "## 1.1 Household Data Germany"
   ]
  },
  {
   "cell_type": "markdown",
   "metadata": {},
   "source": [
    "### 1.1.1 Houshold Register Data"
   ]
  },
  {
   "cell_type": "code",
   "execution_count": 7,
   "metadata": {},
   "outputs": [],
   "source": [
    "hhd = pd.read_csv(\"./data/DE_2013d_EUSILC.csv\")"
   ]
  },
  {
   "cell_type": "code",
   "execution_count": 8,
   "metadata": {
    "scrolled": true
   },
   "outputs": [
    {
     "data": {
      "text/plain": [
       "(12703, 17)"
      ]
     },
     "execution_count": 8,
     "metadata": {},
     "output_type": "execute_result"
    }
   ],
   "source": [
    "hhd.shape"
   ]
  },
  {
   "cell_type": "code",
   "execution_count": 9,
   "metadata": {},
   "outputs": [
    {
     "data": {
      "text/plain": [
       "DB010          0\n",
       "DB020          0\n",
       "DB030          0\n",
       "DB040      12703\n",
       "DB040_F    12703\n",
       "DB060      12703\n",
       "DB060_F    12703\n",
       "DB062      12703\n",
       "DB062_F    12703\n",
       "DB070      12703\n",
       "DB070_F    12703\n",
       "DB075      12703\n",
       "DB075_F    12703\n",
       "DB090          0\n",
       "DB090_F    12703\n",
       "DB100      12703\n",
       "DB100_F    12703\n",
       "dtype: int64"
      ]
     },
     "execution_count": 9,
     "metadata": {},
     "output_type": "execute_result"
    }
   ],
   "source": [
    "hhd.isna().sum()"
   ]
  },
  {
   "cell_type": "code",
   "execution_count": 10,
   "metadata": {},
   "outputs": [],
   "source": [
    "## conlusion: no additional information to the next dataset"
   ]
  },
  {
   "cell_type": "markdown",
   "metadata": {},
   "source": [
    "### 1.1.2 Houshold Survey Data"
   ]
  },
  {
   "cell_type": "code",
   "execution_count": 11,
   "metadata": {},
   "outputs": [],
   "source": [
    "hhh = pd.read_csv(\"./data/DE_2013h_EUSILC.csv\")"
   ]
  },
  {
   "cell_type": "code",
   "execution_count": 12,
   "metadata": {},
   "outputs": [
    {
     "data": {
      "text/plain": [
       "(12703, 216)"
      ]
     },
     "execution_count": 12,
     "metadata": {},
     "output_type": "execute_result"
    }
   ],
   "source": [
    "hhh.shape"
   ]
  },
  {
   "cell_type": "code",
   "execution_count": 13,
   "metadata": {},
   "outputs": [
    {
     "data": {
      "text/plain": [
       "(12703, 49)"
      ]
     },
     "execution_count": 13,
     "metadata": {},
     "output_type": "execute_result"
    }
   ],
   "source": [
    "## Drop columns with more than 20% nans\n",
    "hhh=hhh.dropna(thresh=len(hhh)*0.8, axis=1)\n",
    "hhh.shape"
   ]
  },
  {
   "cell_type": "code",
   "execution_count": 14,
   "metadata": {},
   "outputs": [
    {
     "data": {
      "text/plain": [
       "Index(['HB010', 'HB020', 'HB030', 'HB050', 'HB060', 'HB100', 'HY010', 'HY020',\n",
       "       'HY022', 'HY023', 'HY040G', 'HY050G', 'HY060G', 'HY070G', 'HY080G',\n",
       "       'HY081G', 'HY090G', 'HY100G', 'HY110G', 'HY120G', 'HY130G', 'HY131G',\n",
       "       'HY140G', 'HY170G', 'HS021', 'HS040', 'HS050', 'HS060', 'HS070',\n",
       "       'HS080', 'HS090', 'HS100', 'HS110', 'HS120', 'HS130', 'HS140', 'HS160',\n",
       "       'HS170', 'HS180', 'HS190', 'HH010', 'HH021', 'HH030', 'HH040', 'HH050',\n",
       "       'HH070', 'HH081', 'HH091', 'HD080'],\n",
       "      dtype='object')"
      ]
     },
     "execution_count": 14,
     "metadata": {},
     "output_type": "execute_result"
    }
   ],
   "source": [
    "hhh.columns"
   ]
  },
  {
   "cell_type": "code",
   "execution_count": 15,
   "metadata": {},
   "outputs": [],
   "source": [
    "## dictionary based on\n",
    "columnnames = {\n",
    "\"HB010\": \"HB010: YEAR OF THE SURVEY\", \n",
    "\"HB020\": \"HB020: COUNTRY\", \n",
    "\"HB030\": \"HB030: HOUSEHOLD ID\", \n",
    "\"HB050\": \"HB050: MONTH OF HOUSEHOLD INTERVIEW\",\n",
    "\"HB060\": \"HB060: YEAR OF HOUSEHOLD INTERVIEW\",\n",
    "\"HB100\": \"HB100: NUMBER OF MINUTES TO COMPLETE THE HOUSEHOLD QUESTIONNAIRE\", \n",
    "\"HH010\": \"HH010: DWELLING TYPE\",\n",
    "\"HH021\": \"HH021: TENURE STATUS\",\n",
    "\"HH030\": \"HH030: NUMBER OF ROOMS AVAILABLE TO THE HOUSEHOLD\", \n",
    "\"HH031\": \"HH031: YEAR OF CONTRACT OR PURCHASING OR INSTALLATION\",\n",
    "\"HH040\": \"HH040: LEAKING ROOF, DAMP WALLS/FLOORS/FOUNDATION, OR ROT IN WINDOW FRAMES OR FLOOR\", \n",
    "\"HH050\": \"HH050: BILITY TO KEEP HOME ADEQUATELY WARM\",\n",
    "\"HH060\": \"HH060: CURRENT RENT RELATED TO OCCUPIED DWELLING\", \n",
    "\"HH061\": \"HH061: SUBJECTIVE RENT\", \n",
    "\"HH070\": \"HH070: TOTAL HOUSING COST\",\n",
    "\"HH071\": \"HH071: MORTGAGE PRINCIPAL REPAYMENT\",\n",
    "\"HH081\": \"HH081: BATH OR SHOWER IN DWELLING\",\n",
    "\"HH091\": \"HH091: INDOOR FLUSHING TOILET FOR SOLE USE OF HOUSEHOLD\",\n",
    "\"HS011\": \"HS011: ARREARS ON MORTGAGE OR RENT PAYMENTS\",\n",
    "\"HS021\": \"HS021: ARREARS ON UTILITY BILLS\",\n",
    "\"HS031\": \"HS031: ARREARS ON HIRE PURCHASE INSTALMENTS OR OTHER LOAN PAYMENTS\",\n",
    "\"HS040\": \"HS040: CAPACITY TO AFFORD PAYING FOR ONE WEEK ANNUAL HOLIDAY AWAY FROM HOME\",\n",
    "\"HS050\": \"HS050: CAPACITY TO AFFORD A MEAL WITH MEAT, CHICKEN, FISH (OR VEGETARIAN EQUIVALENT) EVERY SECOND DAY\" ,\n",
    "\"HS060\": \"HS060: CAPACITY TO FACE UNEXPECTED FINANCIAL EXPENSES\",\n",
    "\"HS070\": \"HS070: DO YOU HAVE A TELEPHONE (INCLUDING MOBILE PHONE)\",\n",
    "\"HS080\": \"HS080: DO YOU HAVE A COLOUR TV\", \n",
    "\"HS090\": \"HS090: DO YOU HAVE A COMPUTER\",\n",
    "\"HS100\": \"HS100: DO YOU HAVE A WASHING MACHINE\",\n",
    "\"HS110\": \"HS110: DO YOU HAVE A CAR\", \n",
    "\"HS120\": \"HS120: ABILITY TO MAKE ENDS MEET\",\n",
    "\"HS130\": \"HS130: LOWEST MONTHLY INCOME TO MAKE ENDS MEET\",\n",
    "\"HS140\": \"HS140: FINANCIAL BURDEN OF THE TOTAL HOUSING COST\",\n",
    "\"HS150\": \"HS150: FINANCIAL BURDEN OF THE REPAYMENT OF DEBTS FROM HIRE PURCHASES OR LOANS\",\n",
    "\"HS160\": \"HS160: PROBLEMS WITH THE DWELLING: TOO DARK, NOT ENOUGH LIGHT\",\n",
    "\"HS170\": \"HS170: NOISE FROM NEIGHBOURS OR FROM THE STREET\",\n",
    "\"HS180\": \"HS180: POLLUTION, GRIME OR OTHER ENVIRONMENTAL PROBLEMS\",\n",
    "\"HS190\": \"HS190: CRIME VIOLENCE OR VANDALISM IN THE AREA\",\n",
    "\"HY010\": \"HY010: TOTAL HOUSEHOLD GROSS INCOME\",\n",
    "\"HY020\": \"HY020: TOTAL DISPOSABLE HOUSEHOLD INCOME\" ,\n",
    "\"HY022\": \"HY022: TOTAL DISPOSABLE HOUSEHOLD INCOME BEFORE SOCIAL TRANSFERS OTHER THAN OLD-AGE AND SURVIVOR'S BENEFITS\", \n",
    "\"HY023\": \"HY023: TOTAL DISPOSABLE HOUSEHOLD INCOME BEFORE SOCIAL TRANSFERS INCLUDING OLD-AGE AND SURVIVOR'S BENEFITS\", \n",
    "\"HY025\": \"HY025: WITHIN-HOUSEHOLD NON-RESPONSE INFLATION FACTOR\", \n",
    "\"HY030G\": \"HY030G: IMPUTED RENT\",\n",
    "\"HY040G\": \"HY040G: INCOME FROM RENTAL OF A PROPERTY OR LAND\",\n",
    "\"HY090G\": \"HY090G: INTEREST, DIVIDENDS, PROFIT FROM CAPITAL INVESTMENTS IN UNINCORPORATED BUSINESS\",\n",
    "\"HY050G\": \"HY050G: FAMILY/CHILDREN RELATED ALLOWANCES\",\n",
    "\"HY060G\": \"HY060G: SOCIAL EXCLUSION NOT ELSEWHERE CLASSIFIED\",\n",
    "\"HY070G\": \"HY070G: HOUSING ALLOWANCES\",\n",
    "\"HY080G\": \"HY080G: REGULAR INTER-HOUSEHOLD CASH TRANSFER RECEIVED\", \n",
    "\"HY081G\": \"HY081G: ALIMONIES RECEIVED (COMPULSORY + VOLUNTARY)\",\n",
    "\"HY100G\": \"HY100G: INTEREST REPAYMENTS ON MORTGAGE\",\n",
    "\"HY110G\": \"HY110G: INCOME RECEIVED BY PEOPLE AGED UNDER\", \n",
    "\"HY120G\": \"HY120G: REGULAR TAXES ON WEALTH\",\n",
    "\"HY130G\": \"HY130G: REGULAR INTER-HOUSEHOLD CASH TRANSFER PAID\",\n",
    "\"HY131G\": \"HY131G: ALIMONIES PAID (COMPULSORY + VOLUNTARY)\",\n",
    "\"HY140G\": \"HY140G: TAX ON INCOME AND SOCIAL CONTRIBUTIONS\", \n",
    "\"HY145N\": \"HY145N: REPAYMENTS/RECEIPTS FOR TAX ADJUSTMENT\",\n",
    "\"HY170G\": \"HY170G: VALUE OF GOODS PRODUCED FOR OWN CONSUMPTION\",\n",
    "}"
   ]
  },
  {
   "cell_type": "code",
   "execution_count": 16,
   "metadata": {},
   "outputs": [
    {
     "data": {
      "text/plain": [
       "Index(['HB010: YEAR OF THE SURVEY', 'HB020: COUNTRY', 'HB030: HOUSEHOLD ID',\n",
       "       'HB050: MONTH OF HOUSEHOLD INTERVIEW',\n",
       "       'HB060: YEAR OF HOUSEHOLD INTERVIEW',\n",
       "       'HB100: NUMBER OF MINUTES TO COMPLETE THE HOUSEHOLD QUESTIONNAIRE',\n",
       "       'HY010: TOTAL HOUSEHOLD GROSS INCOME',\n",
       "       'HY020: TOTAL DISPOSABLE HOUSEHOLD INCOME',\n",
       "       'HY022: TOTAL DISPOSABLE HOUSEHOLD INCOME BEFORE SOCIAL TRANSFERS OTHER THAN OLD-AGE AND SURVIVOR'S BENEFITS',\n",
       "       'HY023: TOTAL DISPOSABLE HOUSEHOLD INCOME BEFORE SOCIAL TRANSFERS INCLUDING OLD-AGE AND SURVIVOR'S BENEFITS',\n",
       "       'HY040G: INCOME FROM RENTAL OF A PROPERTY OR LAND',\n",
       "       'HY050G: FAMILY/CHILDREN RELATED ALLOWANCES',\n",
       "       'HY060G: SOCIAL EXCLUSION NOT ELSEWHERE CLASSIFIED',\n",
       "       'HY070G: HOUSING ALLOWANCES',\n",
       "       'HY080G: REGULAR INTER-HOUSEHOLD CASH TRANSFER RECEIVED',\n",
       "       'HY081G: ALIMONIES RECEIVED (COMPULSORY + VOLUNTARY)',\n",
       "       'HY090G: INTEREST, DIVIDENDS, PROFIT FROM CAPITAL INVESTMENTS IN UNINCORPORATED BUSINESS',\n",
       "       'HY100G: INTEREST REPAYMENTS ON MORTGAGE',\n",
       "       'HY110G: INCOME RECEIVED BY PEOPLE AGED UNDER',\n",
       "       'HY120G: REGULAR TAXES ON WEALTH',\n",
       "       'HY130G: REGULAR INTER-HOUSEHOLD CASH TRANSFER PAID',\n",
       "       'HY131G: ALIMONIES PAID (COMPULSORY + VOLUNTARY)',\n",
       "       'HY140G: TAX ON INCOME AND SOCIAL CONTRIBUTIONS',\n",
       "       'HY170G: VALUE OF GOODS PRODUCED FOR OWN CONSUMPTION',\n",
       "       'HS021: ARREARS ON UTILITY BILLS',\n",
       "       'HS040: CAPACITY TO AFFORD PAYING FOR ONE WEEK ANNUAL HOLIDAY AWAY FROM HOME',\n",
       "       'HS050: CAPACITY TO AFFORD A MEAL WITH MEAT, CHICKEN, FISH (OR VEGETARIAN EQUIVALENT) EVERY SECOND DAY',\n",
       "       'HS060: CAPACITY TO FACE UNEXPECTED FINANCIAL EXPENSES',\n",
       "       'HS070: DO YOU HAVE A TELEPHONE (INCLUDING MOBILE PHONE)',\n",
       "       'HS080: DO YOU HAVE A COLOUR TV', 'HS090: DO YOU HAVE A COMPUTER',\n",
       "       'HS100: DO YOU HAVE A WASHING MACHINE', 'HS110: DO YOU HAVE A CAR',\n",
       "       'HS120: ABILITY TO MAKE ENDS MEET',\n",
       "       'HS130: LOWEST MONTHLY INCOME TO MAKE ENDS MEET',\n",
       "       'HS140: FINANCIAL BURDEN OF THE TOTAL HOUSING COST',\n",
       "       'HS160: PROBLEMS WITH THE DWELLING: TOO DARK, NOT ENOUGH LIGHT',\n",
       "       'HS170: NOISE FROM NEIGHBOURS OR FROM THE STREET',\n",
       "       'HS180: POLLUTION, GRIME OR OTHER ENVIRONMENTAL PROBLEMS',\n",
       "       'HS190: CRIME VIOLENCE OR VANDALISM IN THE AREA',\n",
       "       'HH010: DWELLING TYPE', 'HH021: TENURE STATUS',\n",
       "       'HH030: NUMBER OF ROOMS AVAILABLE TO THE HOUSEHOLD',\n",
       "       'HH040: LEAKING ROOF, DAMP WALLS/FLOORS/FOUNDATION, OR ROT IN WINDOW FRAMES OR FLOOR',\n",
       "       'HH050: BILITY TO KEEP HOME ADEQUATELY WARM',\n",
       "       'HH070: TOTAL HOUSING COST', 'HH081: BATH OR SHOWER IN DWELLING',\n",
       "       'HH091: INDOOR FLUSHING TOILET FOR SOLE USE OF HOUSEHOLD', 'HD080'],\n",
       "      dtype='object')"
      ]
     },
     "execution_count": 16,
     "metadata": {},
     "output_type": "execute_result"
    }
   ],
   "source": [
    "hhh = hhh.rename(columns=columnnames)\n",
    "hhh.columns"
   ]
  },
  {
   "cell_type": "markdown",
   "metadata": {},
   "source": [
    "## 1.2 Personal Data"
   ]
  },
  {
   "cell_type": "markdown",
   "metadata": {},
   "source": [
    "### 1.2.1 Personal Register Data"
   ]
  },
  {
   "cell_type": "code",
   "execution_count": 17,
   "metadata": {},
   "outputs": [],
   "source": [
    "ppr = pd.read_csv(\"./data/DE_2013r_EUSILC.csv\")"
   ]
  },
  {
   "cell_type": "code",
   "execution_count": 18,
   "metadata": {
    "scrolled": true
   },
   "outputs": [
    {
     "data": {
      "text/plain": [
       "(25796, 52)"
      ]
     },
     "execution_count": 18,
     "metadata": {},
     "output_type": "execute_result"
    }
   ],
   "source": [
    "ppr.shape"
   ]
  },
  {
   "cell_type": "code",
   "execution_count": 19,
   "metadata": {},
   "outputs": [
    {
     "data": {
      "text/plain": [
       "RB010          0\n",
       "RB020          0\n",
       "RB030          0\n",
       "RB031      25796\n",
       "RB031_F    25796\n",
       "RB050          0\n",
       "RB050_F    25796\n",
       "RB070      25796\n",
       "RB070_F    25796\n",
       "RB080          0\n",
       "RB080_F    25796\n",
       "RB090          0\n",
       "RB090_F    25796\n",
       "RB200          0\n",
       "RB200_F    25796\n",
       "RB210          0\n",
       "RB210_F    25796\n",
       "RB220      25796\n",
       "RB220_F    25796\n",
       "RB230      25796\n",
       "RB230_F    25796\n",
       "RB240      25796\n",
       "RB240_F    25796\n",
       "RB245      25796\n",
       "RB245_F    25796\n",
       "RB250       3789\n",
       "RB250_F    25796\n",
       "RB260       4056\n",
       "RB260_F    25796\n",
       "RB270      25796\n",
       "RB270_F    25796\n",
       "RL010      24396\n",
       "RL010_F    25796\n",
       "RL020      24405\n",
       "RL020_F    25796\n",
       "RL030      24445\n",
       "RL030_F    25796\n",
       "RL040      23088\n",
       "RL040_F    25796\n",
       "RL050      23086\n",
       "RL050_F    25796\n",
       "RL060      22906\n",
       "RL060_F    25796\n",
       "RL070      25796\n",
       "RL070_F    25796\n",
       "RX010      25796\n",
       "RX020      25796\n",
       "RX030      25796\n",
       "RX040      25796\n",
       "RX050      25796\n",
       "RX060      25796\n",
       "RX070      25796\n",
       "dtype: int64"
      ]
     },
     "execution_count": 19,
     "metadata": {},
     "output_type": "execute_result"
    }
   ],
   "source": [
    "ppr.isna().sum()"
   ]
  },
  {
   "cell_type": "code",
   "execution_count": 20,
   "metadata": {},
   "outputs": [
    {
     "data": {
      "text/plain": [
       "(25796, 10)"
      ]
     },
     "execution_count": 20,
     "metadata": {},
     "output_type": "execute_result"
    }
   ],
   "source": [
    "## Drop columns with more than 20% nans\n",
    "ppr=ppr.dropna(thresh=len(ppr)*0.8, axis=1)\n",
    "ppr.columns\n",
    "ppr.shape"
   ]
  },
  {
   "cell_type": "code",
   "execution_count": 21,
   "metadata": {},
   "outputs": [
    {
     "data": {
      "text/plain": [
       "RB010       0\n",
       "RB020       0\n",
       "RB030       0\n",
       "RB050       0\n",
       "RB080       0\n",
       "RB090       0\n",
       "RB200       0\n",
       "RB210       0\n",
       "RB250    3789\n",
       "RB260    4056\n",
       "dtype: int64"
      ]
     },
     "execution_count": 21,
     "metadata": {},
     "output_type": "execute_result"
    }
   ],
   "source": [
    "ppr.isna().sum()"
   ]
  },
  {
   "cell_type": "code",
   "execution_count": 22,
   "metadata": {},
   "outputs": [],
   "source": [
    "columnnames ={\n",
    "'RB010': \"RB010: YEAR OF THE SURVEY\", \n",
    "'RB020': \"RB020: COUNTRY\", \n",
    "'RB030': \"RB030: PERSONAL ID\", \n",
    "'RB050': \"RB050: PERSONAL CROSS_SECTIONAL WEIGHT\", \n",
    "'RB080': \"RB080: YEAR OF BIRTH\", \n",
    "'RB090': \"RB090: SEX\", \n",
    "'RB200': \"RB200: RESIDENTIAL STATUS\", \n",
    "'RB210': \"RB210: BASIC ACTIVITY STATUS\", \n",
    "'RB250': \"RB250: DATA STATUS\",\n",
    "'RB260': \"RB260: TYPE OF INTERVIEWS\"}"
   ]
  },
  {
   "cell_type": "code",
   "execution_count": 23,
   "metadata": {},
   "outputs": [
    {
     "data": {
      "text/plain": [
       "Index(['RB010: YEAR OF THE SURVEY', 'RB020: COUNTRY', 'RB030: PERSONAL ID',\n",
       "       'RB050: PERSONAL CROSS_SECTIONAL WEIGHT', 'RB080: YEAR OF BIRTH',\n",
       "       'RB090: SEX', 'RB200: RESIDENTIAL STATUS',\n",
       "       'RB210: BASIC ACTIVITY STATUS', 'RB250: DATA STATUS',\n",
       "       'RB260: TYPE OF INTERVIEWS'],\n",
       "      dtype='object')"
      ]
     },
     "execution_count": 23,
     "metadata": {},
     "output_type": "execute_result"
    }
   ],
   "source": [
    "ppr = ppr.rename(columns=columnnames)\n",
    "ppr.columns"
   ]
  },
  {
   "cell_type": "markdown",
   "metadata": {},
   "source": [
    "### 1.2.2 Personal Survey Data"
   ]
  },
  {
   "cell_type": "code",
   "execution_count": 24,
   "metadata": {},
   "outputs": [],
   "source": [
    "ppp = pd.read_csv(\"./data/DE_2013p_EUSILC.csv\")"
   ]
  },
  {
   "cell_type": "code",
   "execution_count": 25,
   "metadata": {},
   "outputs": [
    {
     "data": {
      "text/plain": [
       "PB010          0\n",
       "PB020          0\n",
       "PB030          0\n",
       "PB040          0\n",
       "PB040_F    22042\n",
       "           ...  \n",
       "PX020      22042\n",
       "PX030      22042\n",
       "PX040      22042\n",
       "PX050      22042\n",
       "PX200      22042\n",
       "Length: 284, dtype: int64"
      ]
     },
     "execution_count": 25,
     "metadata": {},
     "output_type": "execute_result"
    }
   ],
   "source": [
    "ppp.isna().sum()"
   ]
  },
  {
   "cell_type": "code",
   "execution_count": 26,
   "metadata": {},
   "outputs": [
    {
     "data": {
      "text/plain": [
       "(22042, 64)"
      ]
     },
     "execution_count": 26,
     "metadata": {},
     "output_type": "execute_result"
    }
   ],
   "source": [
    "## Drop columns with more than 20% nans\n",
    "ppp=ppp.dropna(thresh=len(ppp)*0.8, axis=1)\n",
    "ppp.shape"
   ]
  },
  {
   "cell_type": "code",
   "execution_count": 27,
   "metadata": {},
   "outputs": [
    {
     "data": {
      "text/plain": [
       "Index(['PB010', 'PB020', 'PB030', 'PB040', 'PB100', 'PB110', 'PB120', 'PB140',\n",
       "       'PB150', 'PB190', 'PB200', 'PB220A', 'PE010', 'PE040', 'PL031', 'PL035',\n",
       "       'PL040', 'PL051', 'PL140', 'PL150', 'PL190', 'PH010', 'PH020', 'PH030',\n",
       "       'PH040', 'PH060', 'PY010G', 'PY020G', 'PY021G', 'PY035G', 'PY050G',\n",
       "       'PY080G', 'PY090G', 'PY100G', 'PY110G', 'PY120G', 'PY130G', 'PY140G',\n",
       "       'PD020', 'PD030', 'PD050', 'PD060', 'PD070', 'PD080', 'PW010', 'PW020',\n",
       "       'PW030', 'PW040', 'PW050', 'PW060', 'PW070', 'PW080', 'PW090', 'PW120',\n",
       "       'PW130', 'PW140', 'PW150', 'PW160', 'PW170', 'PW180', 'PW190', 'PW200',\n",
       "       'PW210', 'PW220'],\n",
       "      dtype='object')"
      ]
     },
     "execution_count": 27,
     "metadata": {},
     "output_type": "execute_result"
    }
   ],
   "source": [
    "ppp.columns"
   ]
  },
  {
   "cell_type": "code",
   "execution_count": 28,
   "metadata": {},
   "outputs": [],
   "source": [
    "columnnames = {\n",
    "\"PB010\": \"PB010: YEAR OF THE SURVEY\", \n",
    "\"PB020\": \"PB020: COUNTRY\",\n",
    "\"PB030\": \"PB030: PERSONAL ID\",\n",
    "\"PB040\": \"PB040: PERSONAL CROSS-SECTIONAL WEIGHT\",\n",
    "\"PB050\": \"PB050: PERSONAL BASE WEIGHT\",\n",
    "\"PB060\": \"PB060: PERSONAL CROSS-SECTIONAL WEIGHT FOR SELECTED RESPONDENT\",\n",
    "\"PB070\": \"PB070: PERSONAL DESIGN WEIGHT FOR SELECTED RESPONDENT\",\n",
    "\"PB080\": \"PB080: PERSONAL BASE WEIGHT FOR SELECTED RESPONDENT\",\n",
    "\"PB090\": \"PB090: DAY OF THE PERSONAL INTERVIEW\", \n",
    "\"PB100\": \"PB100: MONTH OF THE PERSONAL INTERVIEW\", \n",
    "\"PB110\": \"PB110: YEAR OF THE PERSONAL INTERVIEW\",\n",
    "\"PB120\": \"PB120: MINUTES TO COMPLETE THE PERSONAL QUESTIONNAIRE\",\n",
    "\"PB130\": \"PB130: MONTH OF BIRTH\",\n",
    "\"PB140\": \"PB140: YEAR OF BIRTH\",\n",
    "\"PB150\": \"PB150: SEX\",\n",
    "\"PB160\": \"PB160: FATHER ID\",\n",
    "\"PB170\": \"PB170: MOTHER\",\n",
    "\"PB180\": \"PB180: SPOUSE/PARTNER ID\",\n",
    "\"PB190\": \"PB190: MARITAL STATUS\",\n",
    "\"PB200\": \"PB200: CONSENSUAL UNION\",\n",
    "\"PB210\": \"PB210: COUNTRY OF BIRTH\",\n",
    "\"PB220A\": \"PB220A: CITIZENSHIP\",\n",
    "\"PB220B\": \"PB220B: CITIZENSHIP\",\n",
    "\"PE010\": \"PE010: CURRENT EDUCATION ACTIVITY\",\n",
    "\"PE020\": \"PE020: ISCED LEVEL CURRENTLY ATTENDED\",\n",
    "\"PE030\": \"PE030: YEAR WHEN HIGHEST LEVEL OF EDUCATION WAS ATTAINED\",\n",
    "\"PE040\": \"PE040: HIGHEST ISCED LEVEL ATTAINED\",\n",
    "\"PH010\": \"PH010: GENERAL HEALTH\",\n",
    "\"PH020\": \"PH020: SUFFER FROM ANY A CHRONIC (LONG-STANDING) ILLNESS OR CONDITION\",\n",
    "\"PH030\": \"PH030: LIMITATION IN ACTIVITIES BECAUSE OF HEALTH PROBLEMS\",\n",
    "\"PH040\": \"PH040: UNMET NEED FOR MEDICAL EXAMINATION OR TREATMENT\", \n",
    "\"PH050\": \"PH050: MAIN REASON FOR UNMET NEED FOR MEDICAL EXAMINATION OR TREATMENT\",\n",
    "\"PH060\": \"PH060: UNMET NEED FOR DENTAL EXAMINATION OR TREATMENT\",\n",
    "\"PH070\": \"PH070: MAIN REASON FOR UNMET NEED FOR DENTAL EXAMINATION OR TREATMENT\",\n",
    "\"PL015\": \"PL015: PERSON HAS EVER WORKED\",\n",
    "\"PL020\": \"PL020: ACTIVELY LOOKING FOR A JOB\",\n",
    "\"PL025\": \"PL025: AVAILABLE FOR WORK\",\n",
    "\"PL031\": \"PL031: SELF-DEFINED CURRENT ECONOMIC STATUS\",\n",
    "\"PL035\": \"PL035: WORKED AT LEAST 1 HOUR DURING THE PREVIOUS WEEK\",\n",
    "\"PL040\": \"PL040: STATUS IN EMPLOYMENT\",\n",
    "\"PL051\": \"PL051: OCCUPATION (ISCO-08 (COM))\",\n",
    "\"PL060\": \"PL060: NUMBER OF HOURS USUALLY WORKED PER WEEK IN MAIN JOB\",\n",
    "\"PL073\": \"PL073: NUMBER OF MONTHS SPENT AT FULL-TIME WORK AS EMPLOYEE\",\n",
    "\"PL074\": \"PL074: NUMBER OF MONTHS SPENT AT PART-TIME WORK AS EMPLOYEE\",\n",
    "\"PL075\": \"PL075: NUMBER OF MONTHS SPENT AT FULL-TIME WORK AS SELF-EMPLOYED (INCLUDING FAMILY WORKER)\",\n",
    "\"PL076\": \"PL076: NUMBER OF MONTHS SPENT AT PART-TIME WORK AS SELF-EMPLOYED (INCLUDING FAMILY WORKER)\",\n",
    "\"PL080\": \"PL080: NUMBER OF MONTHS SPENT IN UNEMPLOYMENT\",\n",
    "\"PL085\": \"PL085: NUMBER OF MONTHS SPENT IN RETIREMENT OR EARLY RETIREMENT\",\n",
    "\"PL086\": \"PL086: NUMBER OF MONTHS SPENT AS DISABLED OR/AND UNFIT TO WORK\",\n",
    "\"PL087\": \"PL087: NUMBER OF MONTHS SPENT STUDYING\",\n",
    "\"PL088\": \"PL088: NUMBER OF MONTHS SPENT IN COMPULSORY MILITARY SERVICE\",\n",
    "\"PL089\": \"PL089: NUMBER OF MONTHS SPENT FULFILLING DOMESTIC TASKS AND CARE RESPONSIBILITIES\",\n",
    "\"PL090\": \"PL090: NUMBER OF MONTHS SPENT IN OTHER INACTIVITY\",\n",
    "\"PL100\": \"PL100: TOTAL NUMBER OF HOURS USUALLY WORKED IN SECOND, THIRD… JOBS\",\n",
    "\"PL101\": \"PL111: NACE REV\",\n",
    "\"PL120\": \"PL120: REASON FOR WORKING LESS THAN 30 HOURS\",\n",
    "\"PL130\": \"PL130: NUMBER OF PERSONS WORKING AT THE LOCAL UNIT\",\n",
    "\"PL140\": \"PL140: TYPE OF CONTRACT\",\n",
    "\"PL150\": \"PL150: MANAGERIAL POSITION\", \n",
    "\"PL160\": \"PL160: CHANGE OF JOB SINCE LAST YEAR\", \n",
    "\"PL170\": \"PL170: REASON FOR CHANGE\",\n",
    "\"PL180\": \"PL180: MOST RECENT CHANGE IN THE INDIVIDUAL’S ACTIVITY STATUS\",\n",
    "\"PL190\": \"PL190: WHEN BEGAN FIRST REGULAR JOB\",\n",
    "\"PL200\": \"PL200: NUMBER OF YEARS SPENT IN PAID WORK\", \n",
    "\"PY010G\": \"PY010G: EMPLOYEE CASH OR NEAR CASH INCOME\",\n",
    "\"PY020G\": \"PY020G: NON-CASH EMPLOYEE INCOME\",\n",
    "\"PY021G\": \"PY021G: COMPANY CAR\",\n",
    "\"PY030G\": \"PY030G: EMPLOYER'S SOCIAL INSURANCE CONTRIBUTION\",\n",
    "\"PY031G\": \"PY031G: OPTIONAL EMPLOYER'S SOCIAL INSURANCE CONTRIBUTIONS\",\n",
    "\"PY035G\": \"PY035G: CONTRIBUTIONS TO INDIVIDUAL PRIVATE PENSION PLANS\", \n",
    "\"PY050G\": \"PY050G: CASH BENEFITS OR LOSSES FROM SELF-EMPLOYMENT\",\n",
    "\"PY080G\": \"PY080G: PENSION FROM INDIVIDUAL PRIVATE PLANS\",\n",
    "\"PY090G\": \"PY090G: UNEMPLOYMENT BENEFITS\", \n",
    "\"PY100G\": \"PY100G: OLD-AGE BENEFITS\", \n",
    "\"PY110G\": \"PY110G: SURVIVOR’ BENEFITS\", \n",
    "\"PY120G\": \"PY120G: SICKNESS BENEFITS\", \n",
    "\"PY130G\": \"PY130G: DISABILITY BENEFITS\",\n",
    "\"PY140G\": \"PY140G: EDUCATION-RELATED ALLOWANCES\", \n",
    "\"PY200G\": \"PY200G: GROSS MONTHLY EARNINGS FOR EMPLOYEES\", \n",
    "\"PW010\": \"PW010: OVERALL LIFE SATISFACTION\", \n",
    "\"PW020\": \"PW020: MEANING OF LIFE\", \n",
    "\"PW030\": \"PW030: SATISFACTION WITH FINANCIAL SITUATION\", \n",
    "\"PW040\": \"PW040: SATISFACTION WITH ACCOMMODATION\",\n",
    "\"PW050\": \"PW050: BEING VERY NERVOUS\", \n",
    "\"PW060\": \"PW060: FEELING DOWN IN THE DUMPS\",\n",
    "\"PW070\": \"PW070: FEELING CALM AND PEACEFUL\", \n",
    "\"PW080\": \"PW080: FEELING DOWNHEARTED OR DEPRESSED\",\n",
    "\"PW090\": \"PW090: BEING HAPPY\",\n",
    "\"PW100\": \"PW100: JOB SATISFACTION\",\n",
    "\"PW110\": \"PW110: SATISFACTION WITH COMMUTING TIME\",\n",
    "\"PW120\": \"PW120: SATISFACTION WITH TIME USE\",\n",
    "\"PW130\": \"PW130: TRUST IN THE POLITICAL SYSTEM\",\n",
    "\"PW140\": \"PW140: TRUST IN THE LEGAL SYSTEM\",\n",
    "\"PW150\": \"PW150: TRUST IN THE POLICE\",\n",
    "\"PW160\": \"PW160: SATISFACTION WITH PERSONAL RELATIONSHIPS\",\n",
    "\"PW170\": \"PW170: PERSONAL MATTERS (ANYONE TO DISCUSS WITH)\", \n",
    "\"PW180\": \"PW180: HELP FROM OTHERS\",\n",
    "\"PW190\": \"PW190: TRUST IN OTHERS\",\n",
    "\"PW200\": \"PW200: SATISFACTION WITH RECREATIONAL OR GREEN AREAS\",\n",
    "\"PW210\": \"PW210: SATISFACTION WITH LIVING ENVIRONMENT\", \n",
    "\"PW220\": \"PW220: PHYSICAL SECURITY\",\n",
    "'PD020': \"PD020: Replace worn-out clothes by some new (not second-hand) ones\" , \n",
    "'PD030': \"PD030: Two pairs of properly fitting shoes\", \n",
    "'PD050': \"PD050: Get-together with friends/family (relatives) for a drink/meal at least once a month\", \n",
    "'PD060': \"PD060: Regularly participate in a leisure activity\", \n",
    "'PD070': \"PD070: Spend a small amount of money each week on yourself\",\n",
    "'PD080': \"PD080: Internet connection for personal use at home\"\n",
    "}\n",
    "\n",
    "###PD:  ADDITIONAL VARIABLES FOR MATERIAL DEPRIVATION"
   ]
  },
  {
   "cell_type": "code",
   "execution_count": 29,
   "metadata": {},
   "outputs": [
    {
     "data": {
      "text/plain": [
       "Index(['PB010: YEAR OF THE SURVEY', 'PB020: COUNTRY', 'PB030: PERSONAL ID',\n",
       "       'PB040: PERSONAL CROSS-SECTIONAL WEIGHT',\n",
       "       'PB100: MONTH OF THE PERSONAL INTERVIEW',\n",
       "       'PB110: YEAR OF THE PERSONAL INTERVIEW',\n",
       "       'PB120: MINUTES TO COMPLETE THE PERSONAL QUESTIONNAIRE',\n",
       "       'PB140: YEAR OF BIRTH', 'PB150: SEX', 'PB190: MARITAL STATUS',\n",
       "       'PB200: CONSENSUAL UNION', 'PB220A: CITIZENSHIP',\n",
       "       'PE010: CURRENT EDUCATION ACTIVITY',\n",
       "       'PE040: HIGHEST ISCED LEVEL ATTAINED',\n",
       "       'PL031: SELF-DEFINED CURRENT ECONOMIC STATUS',\n",
       "       'PL035: WORKED AT LEAST 1 HOUR DURING THE PREVIOUS WEEK',\n",
       "       'PL040: STATUS IN EMPLOYMENT', 'PL051: OCCUPATION (ISCO-08 (COM))',\n",
       "       'PL140: TYPE OF CONTRACT', 'PL150: MANAGERIAL POSITION',\n",
       "       'PL190: WHEN BEGAN FIRST REGULAR JOB', 'PH010: GENERAL HEALTH',\n",
       "       'PH020: SUFFER FROM ANY A CHRONIC (LONG-STANDING) ILLNESS OR CONDITION',\n",
       "       'PH030: LIMITATION IN ACTIVITIES BECAUSE OF HEALTH PROBLEMS',\n",
       "       'PH040: UNMET NEED FOR MEDICAL EXAMINATION OR TREATMENT',\n",
       "       'PH060: UNMET NEED FOR DENTAL EXAMINATION OR TREATMENT',\n",
       "       'PY010G: EMPLOYEE CASH OR NEAR CASH INCOME',\n",
       "       'PY020G: NON-CASH EMPLOYEE INCOME', 'PY021G: COMPANY CAR',\n",
       "       'PY035G: CONTRIBUTIONS TO INDIVIDUAL PRIVATE PENSION PLANS',\n",
       "       'PY050G: CASH BENEFITS OR LOSSES FROM SELF-EMPLOYMENT',\n",
       "       'PY080G: PENSION FROM INDIVIDUAL PRIVATE PLANS',\n",
       "       'PY090G: UNEMPLOYMENT BENEFITS', 'PY100G: OLD-AGE BENEFITS',\n",
       "       'PY110G: SURVIVOR’ BENEFITS', 'PY120G: SICKNESS BENEFITS',\n",
       "       'PY130G: DISABILITY BENEFITS', 'PY140G: EDUCATION-RELATED ALLOWANCES',\n",
       "       'PD020: Replace worn-out clothes by some new (not second-hand) ones',\n",
       "       'PD030: Two pairs of properly fitting shoes',\n",
       "       'PD050: Get-together with friends/family (relatives) for a drink/meal at least once a month',\n",
       "       'PD060: Regularly participate in a leisure activity',\n",
       "       'PD070: Spend a small amount of money each week on yourself',\n",
       "       'PD080: Internet connection for personal use at home',\n",
       "       'PW010: OVERALL LIFE SATISFACTION', 'PW020: MEANING OF LIFE',\n",
       "       'PW030: SATISFACTION WITH FINANCIAL SITUATION',\n",
       "       'PW040: SATISFACTION WITH ACCOMMODATION', 'PW050: BEING VERY NERVOUS',\n",
       "       'PW060: FEELING DOWN IN THE DUMPS', 'PW070: FEELING CALM AND PEACEFUL',\n",
       "       'PW080: FEELING DOWNHEARTED OR DEPRESSED', 'PW090: BEING HAPPY',\n",
       "       'PW120: SATISFACTION WITH TIME USE',\n",
       "       'PW130: TRUST IN THE POLITICAL SYSTEM',\n",
       "       'PW140: TRUST IN THE LEGAL SYSTEM', 'PW150: TRUST IN THE POLICE',\n",
       "       'PW160: SATISFACTION WITH PERSONAL RELATIONSHIPS',\n",
       "       'PW170: PERSONAL MATTERS (ANYONE TO DISCUSS WITH)',\n",
       "       'PW180: HELP FROM OTHERS', 'PW190: TRUST IN OTHERS',\n",
       "       'PW200: SATISFACTION WITH RECREATIONAL OR GREEN AREAS',\n",
       "       'PW210: SATISFACTION WITH LIVING ENVIRONMENT',\n",
       "       'PW220: PHYSICAL SECURITY'],\n",
       "      dtype='object')"
      ]
     },
     "execution_count": 29,
     "metadata": {},
     "output_type": "execute_result"
    }
   ],
   "source": [
    "ppp = ppp.rename(columns=columnnames)\n",
    "ppp.columns"
   ]
  },
  {
   "cell_type": "code",
   "execution_count": 30,
   "metadata": {},
   "outputs": [],
   "source": [
    "### drop columns because not interested\n",
    "\n",
    "columnstodrop=['PB040: PERSONAL CROSS-SECTIONAL WEIGHT', 'PB100: MONTH OF THE PERSONAL INTERVIEW',\n",
    "               'PB110: YEAR OF THE PERSONAL INTERVIEW','PB120: MINUTES TO COMPLETE THE PERSONAL QUESTIONNAIRE']\n",
    "\n",
    "ppp.drop(columnstodrop, axis=1, inplace=True)"
   ]
  },
  {
   "cell_type": "code",
   "execution_count": 31,
   "metadata": {},
   "outputs": [
    {
     "data": {
      "text/plain": [
       "Index(['PB010: YEAR OF THE SURVEY', 'PB020: COUNTRY', 'PB030: PERSONAL ID',\n",
       "       'PB140: YEAR OF BIRTH', 'PB150: SEX', 'PB190: MARITAL STATUS',\n",
       "       'PB200: CONSENSUAL UNION', 'PB220A: CITIZENSHIP',\n",
       "       'PE010: CURRENT EDUCATION ACTIVITY',\n",
       "       'PE040: HIGHEST ISCED LEVEL ATTAINED',\n",
       "       'PL031: SELF-DEFINED CURRENT ECONOMIC STATUS',\n",
       "       'PL035: WORKED AT LEAST 1 HOUR DURING THE PREVIOUS WEEK',\n",
       "       'PL040: STATUS IN EMPLOYMENT', 'PL051: OCCUPATION (ISCO-08 (COM))',\n",
       "       'PL140: TYPE OF CONTRACT', 'PL150: MANAGERIAL POSITION',\n",
       "       'PL190: WHEN BEGAN FIRST REGULAR JOB', 'PH010: GENERAL HEALTH',\n",
       "       'PH020: SUFFER FROM ANY A CHRONIC (LONG-STANDING) ILLNESS OR CONDITION',\n",
       "       'PH030: LIMITATION IN ACTIVITIES BECAUSE OF HEALTH PROBLEMS',\n",
       "       'PH040: UNMET NEED FOR MEDICAL EXAMINATION OR TREATMENT',\n",
       "       'PH060: UNMET NEED FOR DENTAL EXAMINATION OR TREATMENT',\n",
       "       'PY010G: EMPLOYEE CASH OR NEAR CASH INCOME',\n",
       "       'PY020G: NON-CASH EMPLOYEE INCOME', 'PY021G: COMPANY CAR',\n",
       "       'PY035G: CONTRIBUTIONS TO INDIVIDUAL PRIVATE PENSION PLANS',\n",
       "       'PY050G: CASH BENEFITS OR LOSSES FROM SELF-EMPLOYMENT',\n",
       "       'PY080G: PENSION FROM INDIVIDUAL PRIVATE PLANS',\n",
       "       'PY090G: UNEMPLOYMENT BENEFITS', 'PY100G: OLD-AGE BENEFITS',\n",
       "       'PY110G: SURVIVOR’ BENEFITS', 'PY120G: SICKNESS BENEFITS',\n",
       "       'PY130G: DISABILITY BENEFITS', 'PY140G: EDUCATION-RELATED ALLOWANCES',\n",
       "       'PD020: Replace worn-out clothes by some new (not second-hand) ones',\n",
       "       'PD030: Two pairs of properly fitting shoes',\n",
       "       'PD050: Get-together with friends/family (relatives) for a drink/meal at least once a month',\n",
       "       'PD060: Regularly participate in a leisure activity',\n",
       "       'PD070: Spend a small amount of money each week on yourself',\n",
       "       'PD080: Internet connection for personal use at home',\n",
       "       'PW010: OVERALL LIFE SATISFACTION', 'PW020: MEANING OF LIFE',\n",
       "       'PW030: SATISFACTION WITH FINANCIAL SITUATION',\n",
       "       'PW040: SATISFACTION WITH ACCOMMODATION', 'PW050: BEING VERY NERVOUS',\n",
       "       'PW060: FEELING DOWN IN THE DUMPS', 'PW070: FEELING CALM AND PEACEFUL',\n",
       "       'PW080: FEELING DOWNHEARTED OR DEPRESSED', 'PW090: BEING HAPPY',\n",
       "       'PW120: SATISFACTION WITH TIME USE',\n",
       "       'PW130: TRUST IN THE POLITICAL SYSTEM',\n",
       "       'PW140: TRUST IN THE LEGAL SYSTEM', 'PW150: TRUST IN THE POLICE',\n",
       "       'PW160: SATISFACTION WITH PERSONAL RELATIONSHIPS',\n",
       "       'PW170: PERSONAL MATTERS (ANYONE TO DISCUSS WITH)',\n",
       "       'PW180: HELP FROM OTHERS', 'PW190: TRUST IN OTHERS',\n",
       "       'PW200: SATISFACTION WITH RECREATIONAL OR GREEN AREAS',\n",
       "       'PW210: SATISFACTION WITH LIVING ENVIRONMENT',\n",
       "       'PW220: PHYSICAL SECURITY'],\n",
       "      dtype='object')"
      ]
     },
     "execution_count": 31,
     "metadata": {},
     "output_type": "execute_result"
    }
   ],
   "source": [
    "ppp.columns"
   ]
  },
  {
   "cell_type": "markdown",
   "metadata": {},
   "source": [
    "## 1.3 Conclusion"
   ]
  },
  {
   "cell_type": "markdown",
   "metadata": {},
   "source": [
    "I focus on the personal survey data, because it has the most observations and the most interesting datas."
   ]
  },
  {
   "cell_type": "markdown",
   "metadata": {},
   "source": [
    "# 2. Check column per column"
   ]
  },
  {
   "cell_type": "markdown",
   "metadata": {},
   "source": [
    "## 2.1 Backtround (PB) - Columns"
   ]
  },
  {
   "cell_type": "code",
   "execution_count": 32,
   "metadata": {},
   "outputs": [
    {
     "data": {
      "text/plain": [
       "count    22042.0\n",
       "mean      2013.0\n",
       "std          0.0\n",
       "min       2013.0\n",
       "25%       2013.0\n",
       "50%       2013.0\n",
       "75%       2013.0\n",
       "max       2013.0\n",
       "Name: PB010: YEAR OF THE SURVEY, dtype: float64"
      ]
     },
     "execution_count": 32,
     "metadata": {},
     "output_type": "execute_result"
    }
   ],
   "source": [
    "# ['PB010: YEAR OF THE SURVEY']\n",
    "ppp['PB010: YEAR OF THE SURVEY'].describe()\n",
    "### --> 1 unique value (2013); ok, keep at the moment, in case i add another year"
   ]
  },
  {
   "cell_type": "code",
   "execution_count": 33,
   "metadata": {},
   "outputs": [
    {
     "data": {
      "text/plain": [
       "array(['DE'], dtype=object)"
      ]
     },
     "execution_count": 33,
     "metadata": {},
     "output_type": "execute_result"
    }
   ],
   "source": [
    "# ['PB020: COUNTRY']\n",
    "ppp['PB020: COUNTRY'].unique()\n",
    "### --> 1 unique value (DE); ok, keep at the moment, in case i add another country"
   ]
  },
  {
   "cell_type": "code",
   "execution_count": 34,
   "metadata": {},
   "outputs": [
    {
     "data": {
      "text/plain": [
       "dtype('int64')"
      ]
     },
     "execution_count": 34,
     "metadata": {},
     "output_type": "execute_result"
    },
    {
     "data": {
      "image/png": "[encoded data removed]",
      "text/plain": [
       "<Figure size 432x288 with 1 Axes>"
      ]
     },
     "metadata": {
      "needs_background": "light"
     },
     "output_type": "display_data"
    }
   ],
   "source": [
    "# ['PB030: PERSONAL ID']\n",
    "# values should be unique\n",
    "ppp = ppp.drop_duplicates(subset=\"PB030: PERSONAL ID\")\n",
    "ppp.shape\n",
    "# no duplicates\n",
    "\n",
    "ppp[\"PB030: PERSONAL ID\"].plot.line()\n",
    "\n",
    "ppp[\"PB030: PERSONAL ID\"].dtype"
   ]
  },
  {
   "cell_type": "code",
   "execution_count": 35,
   "metadata": {},
   "outputs": [
    {
     "data": {
      "text/plain": [
       "<matplotlib.axes._subplots.AxesSubplot at 0x21c75e8d888>"
      ]
     },
     "execution_count": 35,
     "metadata": {},
     "output_type": "execute_result"
    },
    {
     "data": {
      "image/png": "[encoded data removed]",
      "text/plain": [
       "<Figure size 432x288 with 1 Axes>"
      ]
     },
     "metadata": {
      "needs_background": "light"
     },
     "output_type": "display_data"
    }
   ],
   "source": [
    "## [\"PB140: YEAR OF BIRTH\"]\n",
    "ppp[\"PB140: YEAR OF BIRTH\"].dtype\n",
    "\n",
    "ppp[\"PB140: YEAR OF BIRTH\"].describe()\n",
    "ppp[\"PB140: YEAR OF BIRTH\"].hist()\n",
    "## ok"
   ]
  },
  {
   "cell_type": "code",
   "execution_count": 36,
   "metadata": {},
   "outputs": [
    {
     "data": {
      "text/plain": [
       "2    0.509845\n",
       "1    0.490155\n",
       "Name: PB150: SEX, dtype: float64"
      ]
     },
     "execution_count": 36,
     "metadata": {},
     "output_type": "execute_result"
    }
   ],
   "source": [
    "## ['PB150: SEX']\n",
    "ppp['PB150: SEX'].unique\n",
    "\n",
    "\"\"\"\n",
    "1 Male \n",
    "2 Female \n",
    " 1 filled \n",
    "-1 missing\n",
    "\"\"\"\n",
    "ppp['PB150: SEX'].value_counts(normalize=True)\n",
    "\n",
    "## more or less balanced, no missing values\n",
    "\n",
    "## standardize to international coding: 0 for female and 1 for male\n",
    "#ppp['PB150: SEX'] = ppp['PB150: SEX'].apply(lambda x: 0 if x==2 else 1)\n"
   ]
  },
  {
   "cell_type": "code",
   "execution_count": 37,
   "metadata": {},
   "outputs": [],
   "source": [
    "## ['PB190: MARITAL STATUS']\n",
    "\n",
    "ppp['PB190: MARITAL STATUS'].unique()\n",
    "\n",
    "\"\"\"\n",
    "1 Never married \n",
    "2 Married \n",
    "3 Separated \n",
    "4 Widowed \n",
    "5 Divorced \n",
    "\n",
    "-1 missing \n",
    "\"\"\"\n",
    "ppp['PB190: MARITAL STATUS'].value_counts()\n",
    "\n",
    "ppp['PB190: MARITAL STATUS'].isna().sum()\n",
    "\n",
    "# drop rows?\n",
    "\n",
    "ppp[ppp['PB190: MARITAL STATUS'].isna()].isna().sum()/ ppp.isna().sum()\n",
    "## because the one missint martial status have also other nans, i ll drop \n",
    "ppp['PB190: MARITAL STATUS'].dropna(inplace=True)"
   ]
  },
  {
   "cell_type": "markdown",
   "metadata": {},
   "source": [
    "<font color='red'>check later, if dropping was a good idea-</font>\n"
   ]
  },
  {
   "cell_type": "code",
   "execution_count": 38,
   "metadata": {},
   "outputs": [
    {
     "data": {
      "text/plain": [
       "0"
      ]
     },
     "execution_count": 38,
     "metadata": {},
     "output_type": "execute_result"
    }
   ],
   "source": [
    "### [PB200: CONSENSUAL UNION']\n",
    "\n",
    "\"\"\"\n",
    "Consensual union refers to the situation when two persons belong to the same household, and have a ‘marriage-like’ relationship with each other, and are not married to or in a registered partnership with each other.\n",
    "\n",
    "1 yes, on a legal basis\n",
    "2 yes, without a legal basis\n",
    "3 no \n",
    "\"\"\"\n",
    "ppp['PB200: CONSENSUAL UNION'].unique()\n",
    "\n",
    "\n",
    "### difference to martital status\n",
    "pd.crosstab(ppp['PB190: MARITAL STATUS'], ppp['PB200: CONSENSUAL UNION'],normalize='index').apply(lambda x: round(x,2))\n",
    "## not one to one related to martial status... (because equal distributed) --> keep column\n",
    "\n",
    "ppp['PB200: CONSENSUAL UNION'].value_counts()\n",
    "ppp['PB200: CONSENSUAL UNION'].isna().sum()\n"
   ]
  },
  {
   "cell_type": "code",
   "execution_count": 39,
   "metadata": {},
   "outputs": [
    {
     "data": {
      "text/plain": [
       "LOC    0.97\n",
       "OTH    0.03\n",
       "Name: PB220A: CITIZENSHIP, dtype: float64"
      ]
     },
     "execution_count": 39,
     "metadata": {},
     "output_type": "execute_result"
    }
   ],
   "source": [
    "## ['PB220A: CITIZENSHIP']\n",
    "\n",
    "\"\"\"\n",
    "Citizenship is defined as the particular legal bond between the individual and his/her State \n",
    "acquired by birth or naturalisation, whether by declaration, choice, option, marriage or other \n",
    "means according to the national legislation. It generally corresponds to the country issuing the \n",
    "passport. \n",
    "LOC: Local?\n",
    "OTH: other\n",
    "\"\"\"\n",
    "\n",
    "ppp['PB220A: CITIZENSHIP'].unique()\n",
    "\n",
    "ppp['PB220A: CITIZENSHIP'].isna().sum()\n",
    "\n",
    "# drop rows? depends, if important information... a lot of other?\n",
    "ppp['PB220A: CITIZENSHIP'].value_counts(normalize=True).apply(lambda x: round(x,2))\n",
    "\n",
    "### two options. drop column or drop nan....\n",
    "\n",
    "#ppp['PB190: MARITAL STATUS'].dropna(inplace=True)"
   ]
  },
  {
   "cell_type": "markdown",
   "metadata": {},
   "source": [
    "<font color='red'>check later, which one to drop!</font>"
   ]
  },
  {
   "cell_type": "markdown",
   "metadata": {},
   "source": [
    "## 2.2 Education (PE) - Columns"
   ]
  },
  {
   "cell_type": "code",
   "execution_count": 40,
   "metadata": {},
   "outputs": [
    {
     "data": {
      "text/plain": [
       "2    19605\n",
       "1     2437\n",
       "Name: PE010: CURRENT EDUCATION ACTIVITY, dtype: int64"
      ]
     },
     "execution_count": 40,
     "metadata": {},
     "output_type": "execute_result"
    }
   ],
   "source": [
    "## 'PE010: CURRENT EDUCATION ACTIVITY'\n",
    "\n",
    "\"\"\"\n",
    "The concept is whether the person is currently participating in an educational program. \n",
    "1 in education \n",
    "2 not in education \n",
    "\"\"\"\n",
    "\n",
    "ppp['PE010: CURRENT EDUCATION ACTIVITY'].value_counts()\n",
    "\n",
    "## all good"
   ]
  },
  {
   "cell_type": "code",
   "execution_count": null,
   "metadata": {},
   "outputs": [],
   "source": []
  },
  {
   "cell_type": "code",
   "execution_count": 41,
   "metadata": {},
   "outputs": [
    {
     "data": {
      "text/plain": [
       "<matplotlib.axes._subplots.AxesSubplot at 0x21c76268d88>"
      ]
     },
     "execution_count": 41,
     "metadata": {},
     "output_type": "execute_result"
    },
    {
     "data": {
      "image/png": "[encoded data removed]",
      "text/plain": [
       "<Figure size 432x288 with 1 Axes>"
      ]
     },
     "metadata": {
      "needs_background": "light"
     },
     "output_type": "display_data"
    }
   ],
   "source": [
    "## 'PE040: HIGHEST ISCED LEVEL ATTAINED'\n",
    "\n",
    "\"\"\"\n",
    "Educational attainment of a person is the highest level of an educational programme the \n",
    "person has successfully completed and the study field of this programme0 pre-primary education.\n",
    "1 primary education \n",
    "2 lower secondary education \n",
    "3 (upper) secondary education \n",
    "4 post-secondary non tertiary education \n",
    "5 first stage of tertiary education (not leading directly to an advanced research \n",
    "qualification) \n",
    "6 second stage of tertiary education (leading to an advanced research \n",
    "qualification)\n",
    "\"\"\"\n",
    "\n",
    "ppp['PE040: HIGHEST ISCED LEVEL ATTAINED'].value_counts()\n",
    "ppp['PE040: HIGHEST ISCED LEVEL ATTAINED'].isna().sum()\n",
    "\n",
    "#173 missings \n",
    "\n",
    "ppp['PE040: HIGHEST ISCED LEVEL ATTAINED'].hist()"
   ]
  },
  {
   "cell_type": "markdown",
   "metadata": {},
   "source": [
    "<font color='red'>check later, which one to drop!</font>"
   ]
  },
  {
   "cell_type": "markdown",
   "metadata": {},
   "source": [
    "## 2.3 Labour (PL) - Columns"
   ]
  },
  {
   "cell_type": "code",
   "execution_count": 42,
   "metadata": {
    "scrolled": true
   },
   "outputs": [
    {
     "name": "stdout",
     "output_type": "stream",
     "text": [
      "PL031: SELF-DEFINED CURRENT ECONOMIC STATUS                158\n",
      "PL035: WORKED AT LEAST 1 HOUR DURING THE PREVIOUS WEEK       0\n",
      "PL040: STATUS IN EMPLOYMENT                               1630\n",
      "PL051: OCCUPATION (ISCO-08 (COM))                         1670\n",
      "PL140: TYPE OF CONTRACT                                   2835\n",
      "PL150: MANAGERIAL POSITION                                2783\n",
      "PL190: WHEN BEGAN FIRST REGULAR JOB                       1997\n",
      "dtype: int64\n"
     ]
    },
    {
     "data": {
      "text/plain": [
       "array([[<matplotlib.axes._subplots.AxesSubplot object at 0x0000021C762E1D88>,\n",
       "        <matplotlib.axes._subplots.AxesSubplot object at 0x0000021C7631CCC8>,\n",
       "        <matplotlib.axes._subplots.AxesSubplot object at 0x0000021C767A74C8>],\n",
       "       [<matplotlib.axes._subplots.AxesSubplot object at 0x0000021C767DCEC8>,\n",
       "        <matplotlib.axes._subplots.AxesSubplot object at 0x0000021C76814E48>,\n",
       "        <matplotlib.axes._subplots.AxesSubplot object at 0x0000021C7684CF48>],\n",
       "       [<matplotlib.axes._subplots.AxesSubplot object at 0x0000021C7526F748>,\n",
       "        <matplotlib.axes._subplots.AxesSubplot object at 0x0000021C760F82C8>,\n",
       "        <matplotlib.axes._subplots.AxesSubplot object at 0x0000021C75E25788>]],\n",
       "      dtype=object)"
      ]
     },
     "execution_count": 42,
     "metadata": {},
     "output_type": "execute_result"
    },
    {
     "data": {
      "image/png": "[encoded data removed]",
      "text/plain": [
       "<Figure size 432x288 with 9 Axes>"
      ]
     },
     "metadata": {
      "needs_background": "light"
     },
     "output_type": "display_data"
    }
   ],
   "source": [
    "work = ['PL031: SELF-DEFINED CURRENT ECONOMIC STATUS', 'PL035: WORKED AT LEAST 1 HOUR DURING THE PREVIOUS WEEK','PL040: STATUS IN EMPLOYMENT','PL051: OCCUPATION (ISCO-08 (COM))', 'PL140: TYPE OF CONTRACT', 'PL150: MANAGERIAL POSITION', 'PL190: WHEN BEGAN FIRST REGULAR JOB']\n",
    "\n",
    "print(ppp[work].isna().sum())\n",
    "\n",
    "ppp[work].hist()"
   ]
  },
  {
   "cell_type": "code",
   "execution_count": 43,
   "metadata": {},
   "outputs": [
    {
     "data": {
      "text/plain": [
       "PL031: SELF-DEFINED CURRENT ECONOMIC STATUS                 61\n",
       "PL035: WORKED AT LEAST 1 HOUR DURING THE PREVIOUS WEEK       0\n",
       "PL040: STATUS IN EMPLOYMENT                                522\n",
       "PL051: OCCUPATION (ISCO-08 (COM))                          510\n",
       "PL140: TYPE OF CONTRACT                                   2835\n",
       "PL150: MANAGERIAL POSITION                                 678\n",
       "PL190: WHEN BEGAN FIRST REGULAR JOB                        653\n",
       "dtype: int64"
      ]
     },
     "execution_count": 43,
     "metadata": {},
     "output_type": "execute_result"
    }
   ],
   "source": [
    "### check if nans are in the same row\n",
    "null_displ = ppp[ppp['PL140: TYPE OF CONTRACT'].isnull()]\n",
    "null_displ[work].isna().sum()\n",
    "\n",
    "### not the same --> look for other solutions to fill na"
   ]
  },
  {
   "cell_type": "markdown",
   "metadata": {},
   "source": [
    "###### [0]  ['PL031: SELF-DEFINED CURRENT ECONOMIC STATUS']"
   ]
  },
  {
   "cell_type": "code",
   "execution_count": 44,
   "metadata": {},
   "outputs": [],
   "source": [
    "\n",
    "\"\"\"\n",
    "The target variable captures the person’s own perception of their main activity at present.  It \n",
    "differs from the ILO concept to the extent that people’s own perception of their main status \n",
    "differs from the strict definitions used in the ILO definitions.\n",
    "1 Employee working full-time \n",
    "2 Employee working part-time \n",
    "3 Self-employed working full-time (including family worker) \n",
    "4 Self-employed working part-time (including family worker) \n",
    "5 Unemployed \n",
    "6 Pupil, student, further training, unpaid work experience \n",
    "7 In retirement or in early retirement or has given up business \n",
    "8 Permanently disabled or/and unfit to work \n",
    "9 In compulsory military community or service \n",
    "10 Fulfilling domestic tasks and care responsibilities \n",
    "11 Other inactive person \n",
    "\"\"\"\n",
    "ppp['PL031: SELF-DEFINED CURRENT ECONOMIC STATUS'].unique()\n",
    "\n",
    "## ok\n",
    "\n",
    "### but delete 158 nan, because this will probably be one of the main features\n",
    "ppp.dropna(subset=['PL031: SELF-DEFINED CURRENT ECONOMIC STATUS'], inplace = True)\n",
    "\n"
   ]
  },
  {
   "cell_type": "markdown",
   "metadata": {},
   "source": [
    "###### [1] 'PL035: WORKED AT LEAST 1 HOUR DURING THE PREVIOUS WEEK'"
   ]
  },
  {
   "cell_type": "code",
   "execution_count": 45,
   "metadata": {},
   "outputs": [
    {
     "data": {
      "text/plain": [
       "0"
      ]
     },
     "execution_count": 45,
     "metadata": {},
     "output_type": "execute_result"
    }
   ],
   "source": [
    "\"\"\"\n",
    "A person is considered as working\n",
    "reference week or if he/she was not working\n",
    "absent during the reference week. \n",
    "1 yes\n",
    "2 no\n",
    "\"\"\"\n",
    "ppp['PL035: WORKED AT LEAST 1 HOUR DURING THE PREVIOUS WEEK'].value_counts()\n",
    "\n",
    "ppp['PL035: WORKED AT LEAST 1 HOUR DURING THE PREVIOUS WEEK'].isna().sum()\n",
    "\n",
    "# all good"
   ]
  },
  {
   "cell_type": "markdown",
   "metadata": {},
   "source": [
    "###### [2] 'PL040: STATUS IN EMPLOYMENT'"
   ]
  },
  {
   "cell_type": "code",
   "execution_count": 46,
   "metadata": {},
   "outputs": [
    {
     "name": "stdout",
     "output_type": "stream",
     "text": [
      "344\n"
     ]
    },
    {
     "data": {
      "text/plain": [
       "PL031: SELF-DEFINED CURRENT ECONOMIC STATUS                  0\n",
       "PL035: WORKED AT LEAST 1 HOUR DURING THE PREVIOUS WEEK       0\n",
       "PL040: STATUS IN EMPLOYMENT                                344\n",
       "PL051: OCCUPATION (ISCO-08 (COM))                         1513\n",
       "PL140: TYPE OF CONTRACT                                   2774\n",
       "PL150: MANAGERIAL POSITION                                2726\n",
       "PL190: WHEN BEGAN FIRST REGULAR JOB                       1949\n",
       "dtype: int64"
      ]
     },
     "execution_count": 46,
     "metadata": {},
     "output_type": "execute_result"
    }
   ],
   "source": [
    "\"\"\"\n",
    "This variable refers to the main job, namely the current main job for people at work.\n",
    "1 self-employed with employees \n",
    "2 self-employed without employees \n",
    "3 employee \n",
    "4 family worker \n",
    "\n",
    "\"\"\"\n",
    "\n",
    "ppp['PL040: STATUS IN EMPLOYMENT'].value_counts()\n",
    "\n",
    "ppp['PL040: STATUS IN EMPLOYMENT'].isna().sum()\n",
    "\n",
    "pd.crosstab( ppp['PL031: SELF-DEFINED CURRENT ECONOMIC STATUS'],ppp['PL040: STATUS IN EMPLOYMENT'].isna())\n",
    "\n",
    "## attention; similar information as ['PL031: SELF-DEFINED CURRENT ECONOMIC STATUS'] --> colinearity / overfitting\n",
    "## at the same time a lot of missings  --> unemployed or others? mainly in status 5 (unemployed) 6, 7 10, 11 other non-jobs\n",
    "## we can fill nan with a 0 for this categories\n",
    "\n",
    "ppp.loc[(ppp['PL040: STATUS IN EMPLOYMENT'].isna()) & ((ppp['PL031: SELF-DEFINED CURRENT ECONOMIC STATUS']==5) | (ppp['PL031: SELF-DEFINED CURRENT ECONOMIC STATUS']==6) | (ppp['PL031: SELF-DEFINED CURRENT ECONOMIC STATUS']==7) | (ppp['PL031: SELF-DEFINED CURRENT ECONOMIC STATUS']==8) |(ppp['PL031: SELF-DEFINED CURRENT ECONOMIC STATUS']==10) |(ppp['PL031: SELF-DEFINED CURRENT ECONOMIC STATUS']==11)), 'PL040: STATUS IN EMPLOYMENT'] = 0\n",
    "print(ppp['PL040: STATUS IN EMPLOYMENT'].isna().sum())\n",
    "pd.crosstab( ppp['PL031: SELF-DEFINED CURRENT ECONOMIC STATUS'],ppp['PL040: STATUS IN EMPLOYMENT'].isna())\n",
    "\n",
    "ppp[work].isna().sum()"
   ]
  },
  {
   "cell_type": "markdown",
   "metadata": {},
   "source": [
    "###### [3] 'PL051: OCCUPATION (ISCO-08 (COM))'"
   ]
  },
  {
   "cell_type": "code",
   "execution_count": 47,
   "metadata": {},
   "outputs": [
    {
     "name": "stdout",
     "output_type": "stream",
     "text": [
      "[52. 62. 23. 51. 44. 31. 24. 32. 42. 81. 22. 41. 73. 93. 72. 33. 61. nan\n",
      " 94. 96. 71. 43. 25. 91. 13. 92. 74. 21. 75. 34. 26. 83. 11. 12. 14. 54.\n",
      " 35. 53. 82.]\n"
     ]
    },
    {
     "data": {
      "text/plain": [
       "PL031: SELF-DEFINED CURRENT ECONOMIC STATUS                  0\n",
       "PL035: WORKED AT LEAST 1 HOUR DURING THE PREVIOUS WEEK       0\n",
       "PL040: STATUS IN EMPLOYMENT                                342\n",
       "PL051: OCCUPATION (ISCO-08 (COM))                            0\n",
       "PL140: TYPE OF CONTRACT                                   2770\n",
       "PL150: MANAGERIAL POSITION                                2718\n",
       "PL190: WHEN BEGAN FIRST REGULAR JOB                       1940\n",
       "dtype: int64"
      ]
     },
     "execution_count": 47,
     "metadata": {},
     "output_type": "execute_result"
    }
   ],
   "source": [
    "\"\"\"\n",
    "This variable reafers to the main job, namely the current main job for people at work (PL031 = \n",
    "1, 2, 3 or 4) or the last main job for people who do not have a job (PL031 not = 1, 2, 3 or 4 \n",
    "and PL015 = 1). \n",
    "Numbers between \n",
    "\"\"\"\n",
    "print(ppp['PL051: OCCUPATION (ISCO-08 (COM))'].unique())\n",
    "## ok, \n",
    "\n",
    "\n",
    "## 1670 missings, same problems as with previous variables, unemployed or others? :\n",
    "pd.crosstab( ppp['PL031: SELF-DEFINED CURRENT ECONOMIC STATUS'],ppp['PL051: OCCUPATION (ISCO-08 (COM))'].isna())\n",
    "# mainly in status 5 (unemployed) 6, 9, 10, 11 other non-jobs\n",
    "\n",
    "# fillna with 10 for pl31 5,6,etc.\n",
    "ppp.loc[(ppp['PL051: OCCUPATION (ISCO-08 (COM))'].isna()) & ((ppp['PL031: SELF-DEFINED CURRENT ECONOMIC STATUS']==5) | (ppp['PL031: SELF-DEFINED CURRENT ECONOMIC STATUS']==6) | (ppp['PL031: SELF-DEFINED CURRENT ECONOMIC STATUS']==7) | (ppp['PL031: SELF-DEFINED CURRENT ECONOMIC STATUS']==8) |(ppp['PL031: SELF-DEFINED CURRENT ECONOMIC STATUS']==10) |(ppp['PL031: SELF-DEFINED CURRENT ECONOMIC STATUS']==11)), 'PL051: OCCUPATION (ISCO-08 (COM))'] =10\n",
    "\n",
    "## drop the rest of the nans\n",
    "ppp.dropna(subset=['PL051: OCCUPATION (ISCO-08 (COM))'], inplace = True)\n",
    "\n",
    "ppp[work].isna().sum()"
   ]
  },
  {
   "cell_type": "markdown",
   "metadata": {},
   "source": [
    "[Details in structure08 here:](./data/structure08.docx)"
   ]
  },
  {
   "cell_type": "markdown",
   "metadata": {},
   "source": [
    "###### [4] 'PL140: TYPE OF CONTRACT', "
   ]
  },
  {
   "cell_type": "code",
   "execution_count": 48,
   "metadata": {},
   "outputs": [
    {
     "name": "stdout",
     "output_type": "stream",
     "text": [
      "[ 1. nan  2.]\n"
     ]
    },
    {
     "data": {
      "text/html": [
       "<div>\n",
       "<style scoped>\n",
       "    .dataframe tbody tr th:only-of-type {\n",
       "        vertical-align: middle;\n",
       "    }\n",
       "\n",
       "    .dataframe tbody tr th {\n",
       "        vertical-align: top;\n",
       "    }\n",
       "\n",
       "    .dataframe thead th {\n",
       "        text-align: right;\n",
       "    }\n",
       "</style>\n",
       "<table border=\"1\" class=\"dataframe\">\n",
       "  <thead>\n",
       "    <tr style=\"text-align: right;\">\n",
       "      <th>PL140: TYPE OF CONTRACT</th>\n",
       "      <th>False</th>\n",
       "      <th>True</th>\n",
       "    </tr>\n",
       "    <tr>\n",
       "      <th>PL031: SELF-DEFINED CURRENT ECONOMIC STATUS</th>\n",
       "      <th></th>\n",
       "      <th></th>\n",
       "    </tr>\n",
       "  </thead>\n",
       "  <tbody>\n",
       "    <tr>\n",
       "      <td>1.0</td>\n",
       "      <td>0.93</td>\n",
       "      <td>0.07</td>\n",
       "    </tr>\n",
       "    <tr>\n",
       "      <td>2.0</td>\n",
       "      <td>0.87</td>\n",
       "      <td>0.13</td>\n",
       "    </tr>\n",
       "    <tr>\n",
       "      <td>3.0</td>\n",
       "      <td>0.92</td>\n",
       "      <td>0.08</td>\n",
       "    </tr>\n",
       "    <tr>\n",
       "      <td>4.0</td>\n",
       "      <td>0.88</td>\n",
       "      <td>0.12</td>\n",
       "    </tr>\n",
       "    <tr>\n",
       "      <td>5.0</td>\n",
       "      <td>0.77</td>\n",
       "      <td>0.23</td>\n",
       "    </tr>\n",
       "    <tr>\n",
       "      <td>6.0</td>\n",
       "      <td>0.69</td>\n",
       "      <td>0.31</td>\n",
       "    </tr>\n",
       "    <tr>\n",
       "      <td>7.0</td>\n",
       "      <td>0.90</td>\n",
       "      <td>0.10</td>\n",
       "    </tr>\n",
       "    <tr>\n",
       "      <td>8.0</td>\n",
       "      <td>0.87</td>\n",
       "      <td>0.13</td>\n",
       "    </tr>\n",
       "    <tr>\n",
       "      <td>10.0</td>\n",
       "      <td>0.69</td>\n",
       "      <td>0.31</td>\n",
       "    </tr>\n",
       "    <tr>\n",
       "      <td>11.0</td>\n",
       "      <td>0.72</td>\n",
       "      <td>0.28</td>\n",
       "    </tr>\n",
       "  </tbody>\n",
       "</table>\n",
       "</div>"
      ],
      "text/plain": [
       "PL140: TYPE OF CONTRACT                      False  True \n",
       "PL031: SELF-DEFINED CURRENT ECONOMIC STATUS              \n",
       "1.0                                           0.93   0.07\n",
       "2.0                                           0.87   0.13\n",
       "3.0                                           0.92   0.08\n",
       "4.0                                           0.88   0.12\n",
       "5.0                                           0.77   0.23\n",
       "6.0                                           0.69   0.31\n",
       "7.0                                           0.90   0.10\n",
       "8.0                                           0.87   0.13\n",
       "10.0                                          0.69   0.31\n",
       "11.0                                          0.72   0.28"
      ]
     },
     "execution_count": 48,
     "metadata": {},
     "output_type": "execute_result"
    }
   ],
   "source": [
    "\n",
    "\n",
    "\"\"\"\n",
    "'PL140: TYPE OF CONTRACT'\n",
    "1 permanent job/work contract of unlimited duration \n",
    "2 temporary job/work contract of limited duration\n",
    "This question is addressed only to employees. \n",
    "\n",
    "Fillna with 3 : no contract\n",
    "\"\"\"\n",
    "print(ppp['PL140: TYPE OF CONTRACT'].unique())\n",
    "## ok, \n",
    "\n",
    "\n",
    "## alot of missings, same problems as with previous variables, unemployed or others? :\n",
    "pd.crosstab( ppp['PL031: SELF-DEFINED CURRENT ECONOMIC STATUS'],ppp['PL140: TYPE OF CONTRACT'].isna(),normalize='index').apply(lambda x: round(x,2))"
   ]
  },
  {
   "cell_type": "code",
   "execution_count": 49,
   "metadata": {},
   "outputs": [
    {
     "data": {
      "text/plain": [
       "PL031: SELF-DEFINED CURRENT ECONOMIC STATUS                  0\n",
       "PL035: WORKED AT LEAST 1 HOUR DURING THE PREVIOUS WEEK       0\n",
       "PL040: STATUS IN EMPLOYMENT                                342\n",
       "PL051: OCCUPATION (ISCO-08 (COM))                            0\n",
       "PL140: TYPE OF CONTRACT                                   1007\n",
       "PL150: MANAGERIAL POSITION                                2718\n",
       "PL190: WHEN BEGAN FIRST REGULAR JOB                       1940\n",
       "dtype: int64"
      ]
     },
     "execution_count": 49,
     "metadata": {},
     "output_type": "execute_result"
    }
   ],
   "source": [
    "# mainly in status 5 (unemployed) 6, 9, 10, 11 other non-jobs\n",
    "# fillna with 0 for pl31 5,6,etc.?\n",
    "ppp.loc[(ppp['PL140: TYPE OF CONTRACT'].isna()) & ((ppp['PL031: SELF-DEFINED CURRENT ECONOMIC STATUS']==5) | (ppp['PL031: SELF-DEFINED CURRENT ECONOMIC STATUS']==6) | (ppp['PL031: SELF-DEFINED CURRENT ECONOMIC STATUS']==7) | (ppp['PL031: SELF-DEFINED CURRENT ECONOMIC STATUS']==8) |(ppp['PL031: SELF-DEFINED CURRENT ECONOMIC STATUS']==9) |(ppp['PL031: SELF-DEFINED CURRENT ECONOMIC STATUS']==10) |(ppp['PL031: SELF-DEFINED CURRENT ECONOMIC STATUS']==11)), 'PL140: TYPE OF CONTRACT'] =0\n",
    "\n",
    "pd.crosstab( ppp['PL031: SELF-DEFINED CURRENT ECONOMIC STATUS'],ppp['PL140: TYPE OF CONTRACT'].isna())\n",
    "\n",
    "ppp[work].isna().sum()\n",
    "### still a lot of nans...(1000)\n"
   ]
  },
  {
   "cell_type": "markdown",
   "metadata": {},
   "source": [
    "###### [5] 'PL150: MANAGERIAL POSITION'"
   ]
  },
  {
   "cell_type": "code",
   "execution_count": 50,
   "metadata": {},
   "outputs": [
    {
     "name": "stdout",
     "output_type": "stream",
     "text": [
      "[ 1.  2. nan]\n"
     ]
    },
    {
     "data": {
      "text/html": [
       "<div>\n",
       "<style scoped>\n",
       "    .dataframe tbody tr th:only-of-type {\n",
       "        vertical-align: middle;\n",
       "    }\n",
       "\n",
       "    .dataframe tbody tr th {\n",
       "        vertical-align: top;\n",
       "    }\n",
       "\n",
       "    .dataframe thead th {\n",
       "        text-align: right;\n",
       "    }\n",
       "</style>\n",
       "<table border=\"1\" class=\"dataframe\">\n",
       "  <thead>\n",
       "    <tr style=\"text-align: right;\">\n",
       "      <th>PL150: MANAGERIAL POSITION</th>\n",
       "      <th>False</th>\n",
       "      <th>True</th>\n",
       "    </tr>\n",
       "    <tr>\n",
       "      <th>PL031: SELF-DEFINED CURRENT ECONOMIC STATUS</th>\n",
       "      <th></th>\n",
       "      <th></th>\n",
       "    </tr>\n",
       "  </thead>\n",
       "  <tbody>\n",
       "    <tr>\n",
       "      <td>1.0</td>\n",
       "      <td>0.93</td>\n",
       "      <td>0.07</td>\n",
       "    </tr>\n",
       "    <tr>\n",
       "      <td>2.0</td>\n",
       "      <td>0.88</td>\n",
       "      <td>0.12</td>\n",
       "    </tr>\n",
       "    <tr>\n",
       "      <td>3.0</td>\n",
       "      <td>0.94</td>\n",
       "      <td>0.06</td>\n",
       "    </tr>\n",
       "    <tr>\n",
       "      <td>4.0</td>\n",
       "      <td>0.85</td>\n",
       "      <td>0.15</td>\n",
       "    </tr>\n",
       "    <tr>\n",
       "      <td>5.0</td>\n",
       "      <td>0.77</td>\n",
       "      <td>0.23</td>\n",
       "    </tr>\n",
       "    <tr>\n",
       "      <td>6.0</td>\n",
       "      <td>0.70</td>\n",
       "      <td>0.30</td>\n",
       "    </tr>\n",
       "    <tr>\n",
       "      <td>7.0</td>\n",
       "      <td>0.90</td>\n",
       "      <td>0.10</td>\n",
       "    </tr>\n",
       "    <tr>\n",
       "      <td>8.0</td>\n",
       "      <td>0.88</td>\n",
       "      <td>0.12</td>\n",
       "    </tr>\n",
       "    <tr>\n",
       "      <td>10.0</td>\n",
       "      <td>0.71</td>\n",
       "      <td>0.29</td>\n",
       "    </tr>\n",
       "    <tr>\n",
       "      <td>11.0</td>\n",
       "      <td>0.67</td>\n",
       "      <td>0.33</td>\n",
       "    </tr>\n",
       "  </tbody>\n",
       "</table>\n",
       "</div>"
      ],
      "text/plain": [
       "PL150: MANAGERIAL POSITION                   False  True \n",
       "PL031: SELF-DEFINED CURRENT ECONOMIC STATUS              \n",
       "1.0                                           0.93   0.07\n",
       "2.0                                           0.88   0.12\n",
       "3.0                                           0.94   0.06\n",
       "4.0                                           0.85   0.15\n",
       "5.0                                           0.77   0.23\n",
       "6.0                                           0.70   0.30\n",
       "7.0                                           0.90   0.10\n",
       "8.0                                           0.88   0.12\n",
       "10.0                                          0.71   0.29\n",
       "11.0                                          0.67   0.33"
      ]
     },
     "execution_count": 50,
     "metadata": {},
     "output_type": "execute_result"
    }
   ],
   "source": [
    "\"\"\"\n",
    "'PL150: MANAGERIAL POSITION'\n",
    "1 supervisory : includes formal responsibility for supervising a group of other employees\n",
    "2 non-supervisory\n",
    "\n",
    "referst to PL031=1, 2, 3 or 4\n",
    "\"\"\"\n",
    "\n",
    "print(ppp['PL150: MANAGERIAL POSITION'].unique())\n",
    "## ok, \n",
    "\n",
    "## alot of missings, same problems as with previous variables, unemployed or others? :\n",
    "pd.crosstab( ppp['PL031: SELF-DEFINED CURRENT ECONOMIC STATUS'],ppp['PL150: MANAGERIAL POSITION'].isna(),normalize='index').apply(lambda x: round(x,2))\n",
    "# mainly in status 5 (unemployed) 6, 9, 10, 11 other non-jobs\n",
    "# fillna with 0 for pl31 5,6,etc.?"
   ]
  },
  {
   "cell_type": "code",
   "execution_count": 51,
   "metadata": {},
   "outputs": [
    {
     "data": {
      "text/plain": [
       "PL031: SELF-DEFINED CURRENT ECONOMIC STATUS                  0\n",
       "PL035: WORKED AT LEAST 1 HOUR DURING THE PREVIOUS WEEK       0\n",
       "PL040: STATUS IN EMPLOYMENT                                342\n",
       "PL051: OCCUPATION (ISCO-08 (COM))                            0\n",
       "PL140: TYPE OF CONTRACT                                   1007\n",
       "PL150: MANAGERIAL POSITION                                 965\n",
       "PL190: WHEN BEGAN FIRST REGULAR JOB                       1940\n",
       "dtype: int64"
      ]
     },
     "execution_count": 51,
     "metadata": {},
     "output_type": "execute_result"
    }
   ],
   "source": [
    "# mainly in status 5 (unemployed) 6, 9, 10, 11 other non-jobs\n",
    "# fillna with 0 for pl31 5,6,etc.?\n",
    "ppp.loc[(ppp['PL150: MANAGERIAL POSITION'].isna()) & ((ppp['PL031: SELF-DEFINED CURRENT ECONOMIC STATUS']==5) | (ppp['PL031: SELF-DEFINED CURRENT ECONOMIC STATUS']==6) | (ppp['PL031: SELF-DEFINED CURRENT ECONOMIC STATUS']==7) | (ppp['PL031: SELF-DEFINED CURRENT ECONOMIC STATUS']==8) |(ppp['PL031: SELF-DEFINED CURRENT ECONOMIC STATUS']==9) |(ppp['PL031: SELF-DEFINED CURRENT ECONOMIC STATUS']==10) |(ppp['PL031: SELF-DEFINED CURRENT ECONOMIC STATUS']==11)), 'PL150: MANAGERIAL POSITION'] =0\n",
    "\n",
    "pd.crosstab( ppp['PL031: SELF-DEFINED CURRENT ECONOMIC STATUS'],ppp['PL150: MANAGERIAL POSITION'].isna())\n",
    "\n",
    "ppp[work].isna().sum()\n",
    "### still a lot of nans...(alsmost 1000)"
   ]
  },
  {
   "cell_type": "markdown",
   "metadata": {},
   "source": [
    "###### [6]  'PL190: WHEN BEGAN FIRST REGULAR JOB'"
   ]
  },
  {
   "cell_type": "code",
   "execution_count": 52,
   "metadata": {},
   "outputs": [
    {
     "name": "stderr",
     "output_type": "stream",
     "text": [
      "C:\\Users\\haenni\\AppData\\Local\\Continuum\\anaconda3\\lib\\site-packages\\numpy\\lib\\histograms.py:824: RuntimeWarning: invalid value encountered in greater_equal\n",
      "  keep = (tmp_a >= first_edge)\n",
      "C:\\Users\\haenni\\AppData\\Local\\Continuum\\anaconda3\\lib\\site-packages\\numpy\\lib\\histograms.py:825: RuntimeWarning: invalid value encountered in less_equal\n",
      "  keep &= (tmp_a <= last_edge)\n"
     ]
    },
    {
     "data": {
      "text/plain": [
       "0.10076896014474544"
      ]
     },
     "execution_count": 52,
     "metadata": {},
     "output_type": "execute_result"
    },
    {
     "data": {
      "image/png": "[encoded data removed]",
      "text/plain": [
       "<Figure size 432x288 with 1 Axes>"
      ]
     },
     "metadata": {
      "needs_background": "light"
     },
     "output_type": "display_data"
    }
   ],
   "source": [
    "\"\"\"\n",
    "'PL190: WHEN BEGAN FIRST REGULAR JOB'\n",
    "It is designed to permit the calculation of the total potential time the person could have spent \n",
    "in the labour force. It is the age at which the person began their first regular job. \n",
    "\"\"\"\n",
    "\n",
    "pd.crosstab(ppp['PL031: SELF-DEFINED CURRENT ECONOMIC STATUS'], ppp['PL190: WHEN BEGAN FIRST REGULAR JOB'].isna(),normalize='index').apply(lambda x: round(x,2))\n",
    "## conclusion: nans in all pl031 categories, but \n",
    "\n",
    "### too many nones, probably highly correlated with \"PB140: YEAR OF BIRTH\",\n",
    "ppp['PL190: WHEN BEGAN FIRST REGULAR JOB'].corr(ppp['PB140: YEAR OF BIRTH']) # not at all\n",
    "\n",
    "plt.hist(ppp['PL190: WHEN BEGAN FIRST REGULAR JOB'], bins=5)\n",
    "\n",
    "pd.crosstab( ppp['PL031: SELF-DEFINED CURRENT ECONOMIC STATUS'],ppp['PL190: WHEN BEGAN FIRST REGULAR JOB'].isna(),normalize='index').apply(lambda x: round(x,2))\n",
    "\n",
    "# conclusion: most nans are also with unemployed (5) antd the others, but here i think it doesnt make sense to fill any value\n",
    "# because we dont know if they had a ob befor beeing unemployed or in a training... \n",
    "# also most values are around 20, not big variation \n",
    "# drop column \n",
    "ppp['PL190: WHEN BEGAN FIRST REGULAR JOB'].mean()\n",
    "ppp['PL190: WHEN BEGAN FIRST REGULAR JOB'].median()\n",
    "ppp['PL190: WHEN BEGAN FIRST REGULAR JOB'][ppp['PL190: WHEN BEGAN FIRST REGULAR JOB']>24].count()/ ppp['PL190: WHEN BEGAN FIRST REGULAR JOB'].count()\n",
    "\n"
   ]
  },
  {
   "cell_type": "markdown",
   "metadata": {},
   "source": [
    "###### Conlusion - final cleaning"
   ]
  },
  {
   "cell_type": "code",
   "execution_count": 53,
   "metadata": {},
   "outputs": [
    {
     "data": {
      "text/plain": [
       "PL031: SELF-DEFINED CURRENT ECONOMIC STATUS                  0\n",
       "PL035: WORKED AT LEAST 1 HOUR DURING THE PREVIOUS WEEK       0\n",
       "PL040: STATUS IN EMPLOYMENT                                342\n",
       "PL051: OCCUPATION (ISCO-08 (COM))                            0\n",
       "PL140: TYPE OF CONTRACT                                   1007\n",
       "PL150: MANAGERIAL POSITION                                 965\n",
       "PL190: WHEN BEGAN FIRST REGULAR JOB                       1940\n",
       "dtype: int64"
      ]
     },
     "execution_count": 53,
     "metadata": {},
     "output_type": "execute_result"
    }
   ],
   "source": [
    "ppp[work].isna().sum()\n",
    "### still a lot of nans..."
   ]
  },
  {
   "cell_type": "code",
   "execution_count": 54,
   "metadata": {
    "scrolled": true
   },
   "outputs": [
    {
     "data": {
      "text/plain": [
       "PL031: SELF-DEFINED CURRENT ECONOMIC STATUS                  0\n",
       "PL035: WORKED AT LEAST 1 HOUR DURING THE PREVIOUS WEEK       0\n",
       "PL040: STATUS IN EMPLOYMENT                                258\n",
       "PL051: OCCUPATION (ISCO-08 (COM))                            0\n",
       "PL140: TYPE OF CONTRACT                                    837\n",
       "PL150: MANAGERIAL POSITION                                   0\n",
       "PL190: WHEN BEGAN FIRST REGULAR JOB                       1839\n",
       "dtype: int64"
      ]
     },
     "execution_count": 54,
     "metadata": {},
     "output_type": "execute_result"
    }
   ],
   "source": [
    "null_displ = ppp[ppp['PL150: MANAGERIAL POSITION'].isnull()==False]\n",
    "null_displ[work].isna().sum()\n",
    "### still a lot of nans in the other categories"
   ]
  },
  {
   "cell_type": "markdown",
   "metadata": {},
   "source": [
    "<font color='red'>check later, what else i want to drop.\n",
    "\n",
    "Question to Jo\n",
    "    \n",
    " I have a lot of columns:\n",
    " - drop columns / test for colinearity --> decide wich columns and then drop nans?\n",
    " - drop column with nan?  \n",
    " </font>"
   ]
  },
  {
   "cell_type": "code",
   "execution_count": 307,
   "metadata": {},
   "outputs": [
    {
     "data": {
      "text/plain": [
       "<matplotlib.axes._subplots.AxesSubplot at 0x21c650e0b48>"
      ]
     },
     "execution_count": 307,
     "metadata": {},
     "output_type": "execute_result"
    },
    {
     "data": {
      "image/png": "[encoded data removed]",
      "text/plain": [
       "<Figure size 720x360 with 2 Axes>"
      ]
     },
     "metadata": {
      "needs_background": "light"
     },
     "output_type": "display_data"
    }
   ],
   "source": [
    "#### \n",
    "\n",
    "subwork =ppp[work]\n",
    "\n",
    "plt.figure(figsize =(10,5))\n",
    "corr = subwork.corr()\n",
    "mask = np.triu(np.ones_like(corr, dtype=np.bool))\n",
    "sns.heatmap(corr, cmap='coolwarm', annot = True, linewidth=0.5, mask=mask)\n",
    "## alsmost no correlation"
   ]
  },
  {
   "cell_type": "markdown",
   "metadata": {},
   "source": [
    "## 2.4 Health (PH) - Columns"
   ]
  },
  {
   "cell_type": "code",
   "execution_count": 56,
   "metadata": {},
   "outputs": [],
   "source": [
    "### Health\n",
    "health =['PH010: GENERAL HEALTH',\n",
    "       'PH020: SUFFER FROM ANY A CHRONIC (LONG-STANDING) ILLNESS OR CONDITION',\n",
    "       'PH030: LIMITATION IN ACTIVITIES BECAUSE OF HEALTH PROBLEMS',\n",
    "       'PH040: UNMET NEED FOR MEDICAL EXAMINATION OR TREATMENT',\n",
    "       'PH060: UNMET NEED FOR DENTAL EXAMINATION OR TREATMENT']"
   ]
  },
  {
   "cell_type": "code",
   "execution_count": 58,
   "metadata": {},
   "outputs": [
    {
     "data": {
      "text/plain": [
       "PH010: GENERAL HEALTH                                                     28\n",
       "PH020: SUFFER FROM ANY A CHRONIC (LONG-STANDING) ILLNESS OR CONDITION     47\n",
       "PH030: LIMITATION IN ACTIVITIES BECAUSE OF HEALTH PROBLEMS               208\n",
       "PH040: UNMET NEED FOR MEDICAL EXAMINATION OR TREATMENT                     0\n",
       "PH060: UNMET NEED FOR DENTAL EXAMINATION OR TREATMENT                      0\n",
       "dtype: int64"
      ]
     },
     "execution_count": 58,
     "metadata": {},
     "output_type": "execute_result"
    }
   ],
   "source": [
    "ppp[health].isna().sum()\n",
    "## overall not a lot of missings (especially compared to PL) --> try to keep all the features"
   ]
  },
  {
   "cell_type": "code",
   "execution_count": 78,
   "metadata": {},
   "outputs": [
    {
     "data": {
      "image/png": "[encoded data removed]",
      "text/plain": [
       "<Figure size 432x288 with 1 Axes>"
      ]
     },
     "metadata": {
      "needs_background": "light"
     },
     "output_type": "display_data"
    },
    {
     "data": {
      "image/png": "[encoded data removed]",
      "text/plain": [
       "<Figure size 432x288 with 1 Axes>"
      ]
     },
     "metadata": {
      "needs_background": "light"
     },
     "output_type": "display_data"
    },
    {
     "data": {
      "image/png": "[encoded data removed]",
      "text/plain": [
       "<Figure size 432x288 with 1 Axes>"
      ]
     },
     "metadata": {
      "needs_background": "light"
     },
     "output_type": "display_data"
    },
    {
     "data": {
      "image/png": "[encoded data removed]",
      "text/plain": [
       "<Figure size 432x288 with 1 Axes>"
      ]
     },
     "metadata": {
      "needs_background": "light"
     },
     "output_type": "display_data"
    },
    {
     "data": {
      "image/png": "[encoded data removed]",
      "text/plain": [
       "<Figure size 432x288 with 1 Axes>"
      ]
     },
     "metadata": {
      "needs_background": "light"
     },
     "output_type": "display_data"
    }
   ],
   "source": [
    "for x in range(len(health)):\n",
    "    plt.hist(ppp[health[x]])\n",
    "    plt.title(health[x])\n",
    "    plt.show()\n",
    "### strange value 8 for PH20-PH60 --> check\n"
   ]
  },
  {
   "cell_type": "markdown",
   "metadata": {},
   "source": [
    "###### [0] PH010: GENERAL HEALTH "
   ]
  },
  {
   "cell_type": "code",
   "execution_count": 79,
   "metadata": {},
   "outputs": [
    {
     "data": {
      "text/plain": [
       "(array([ 3739.,     0., 10579.,     0.,     0.,  5803.,     0.,  1388.,\n",
       "            0.,   300.]),\n",
       " array([1. , 1.4, 1.8, 2.2, 2.6, 3. , 3.4, 3.8, 4.2, 4.6, 5. ]),\n",
       " <a list of 10 Patch objects>)"
      ]
     },
     "execution_count": 79,
     "metadata": {},
     "output_type": "execute_result"
    },
    {
     "data": {
      "image/png": "[encoded data removed]",
      "text/plain": [
       "<Figure size 432x288 with 1 Axes>"
      ]
     },
     "metadata": {
      "needs_background": "light"
     },
     "output_type": "display_data"
    }
   ],
   "source": [
    "\"\"\"\n",
    "The measurement of self-perceived health (SPH) is, by its very nature, subjective. The notion \n",
    "is restricted to an assessment coming from the individual and not from anyone outside that \n",
    "individual.\n",
    "1 very good \n",
    "2 good \n",
    "3 fair \n",
    "4 bad \n",
    "5 very bad \n",
    "\n",
    "\"\"\"\n",
    "\n",
    "ppp[health[0]].unique() ### values match definition\n",
    "\n",
    "## drop the nans\n",
    "ppp.dropna(subset=[health[0]], inplace = True)\n",
    "ppp[health[0]].isna().sum()\n",
    "\n",
    "plt.hist(ppp[health[0]]) ## slightly left shifted distribution, but i dont see a problem with that at the momemnts"
   ]
  },
  {
   "cell_type": "markdown",
   "metadata": {},
   "source": [
    "###### [1] PH020: SUFFER FROM ANY A CHRONIC (LONG-STANDING) ILLNESS OR CONDITION"
   ]
  },
  {
   "cell_type": "code",
   "execution_count": 86,
   "metadata": {},
   "outputs": [
    {
     "data": {
      "text/plain": [
       "47"
      ]
     },
     "execution_count": 86,
     "metadata": {},
     "output_type": "execute_result"
    }
   ],
   "source": [
    "\"\"\"\n",
    "The main characteristics of a chronic condition are that it is permanent and may be expected \n",
    "to require a long period of supervision, observation or care; temporary problems are not of \n",
    "interest.\n",
    "1 yes \n",
    "2 no \n",
    "\n",
    "8 dont know\n",
    "9 refusal\n",
    "\"\"\"\n",
    "\n",
    "ppp[health[1]].unique()\n",
    "### what is this 8? --> check documentation: dont know\n",
    "## how many 8?\n",
    "ppp[health[1]].value_counts()\n",
    "# 912 --> decide later what to do with them\n",
    "ppp[health[1]].isna().sum() ## plus 47 nans"
   ]
  },
  {
   "cell_type": "markdown",
   "metadata": {},
   "source": [
    "<font color='red'> Question: what to do with answer \"8 dont know\"? and can i change nans to dont know?\n",
    " </font>"
   ]
  },
  {
   "cell_type": "markdown",
   "metadata": {},
   "source": [
    "###### [2] PH030: LIMITATION IN ACTIVITIES BECAUSE OF HEALTH PROBLEMS  "
   ]
  },
  {
   "cell_type": "code",
   "execution_count": 91,
   "metadata": {},
   "outputs": [
    {
     "data": {
      "text/plain": [
       "207"
      ]
     },
     "execution_count": 91,
     "metadata": {},
     "output_type": "execute_result"
    }
   ],
   "source": [
    "\"\"\"\n",
    "The person’s self-assessment of whether they are hampered in their usual activity, as \n",
    "\"activities people usually do\", by any ongoing physical or mental health problem, illness or \n",
    "disability\n",
    "1 yes, strongly limited \n",
    "2 yes, limited \n",
    "3 no, not limited \n",
    "\"\"\"\n",
    "ppp[health[2]].unique()\n",
    "## also has 8...\n",
    "## how many 8?\n",
    "ppp[health[2]].value_counts()\n",
    "# 839 --> do the same as with health [1]\n",
    "ppp[health[2]].isna().sum() ## plus 207 nans\n"
   ]
  },
  {
   "cell_type": "markdown",
   "metadata": {},
   "source": [
    "###### [3] PH040: UNMET NEED FOR MEDICAL EXAMINATION OR TREATMENT "
   ]
  },
  {
   "cell_type": "code",
   "execution_count": 94,
   "metadata": {},
   "outputs": [
    {
     "data": {
      "text/plain": [
       "0"
      ]
     },
     "execution_count": 94,
     "metadata": {},
     "output_type": "execute_result"
    }
   ],
   "source": [
    "\"\"\"\n",
    "1 yes, there was at least one occasion when the person really needed examination \n",
    "or treatment but did not \n",
    "2 no, there was no occasion when the person really needed examination or \n",
    "treatment but did not \n",
    "\"\"\"\n",
    "ppp[health[3]].value_counts()\n",
    "## also has 8...\n",
    "# 355 --> do the same as with health\n",
    "# probably problem of imbalanced answers!!\n"
   ]
  },
  {
   "cell_type": "markdown",
   "metadata": {},
   "source": [
    "###### [4] PH060: UNMET NEED FOR DENTAL EXAMINATION OR TREATMENT "
   ]
  },
  {
   "cell_type": "code",
   "execution_count": 98,
   "metadata": {},
   "outputs": [
    {
     "data": {
      "text/plain": [
       "0"
      ]
     },
     "execution_count": 98,
     "metadata": {},
     "output_type": "execute_result"
    }
   ],
   "source": [
    "\"\"\"\n",
    "1 yes, there was at least one occasion when the person really needed dental \n",
    "examination or treatment but did not \n",
    "2 no, there was no occasion when the person really needed dental examination or \n",
    "treatment but did not \n",
    "\"\"\"\n",
    "ppp[health[4]].value_counts()\n",
    "## also has 8...\n",
    "# 236 --> do the same as with health\n",
    "# even more likely a problem of imbalancing!!\n",
    "# no nans"
   ]
  },
  {
   "cell_type": "markdown",
   "metadata": {},
   "source": [
    "###### Conclusion"
   ]
  },
  {
   "cell_type": "code",
   "execution_count": null,
   "metadata": {},
   "outputs": [],
   "source": [
    "ppp[health].isna().sum()"
   ]
  },
  {
   "cell_type": "code",
   "execution_count": 304,
   "metadata": {
    "scrolled": true
   },
   "outputs": [
    {
     "data": {
      "text/plain": [
       "<matplotlib.axes._subplots.AxesSubplot at 0x21c64c067c8>"
      ]
     },
     "execution_count": 304,
     "metadata": {},
     "output_type": "execute_result"
    },
    {
     "data": {
      "image/png": "[encoded data removed]",
      "text/plain": [
       "<Figure size 360x360 with 2 Axes>"
      ]
     },
     "metadata": {
      "needs_background": "light"
     },
     "output_type": "display_data"
    }
   ],
   "source": [
    "subhealth =ppp[health]\n",
    "\n",
    "plt.figure(figsize =(5,5))\n",
    "corr = subhealth.corr()\n",
    "mask = np.triu(np.ones_like(corr, dtype=np.bool))\n",
    "sns.heatmap(corr, cmap='coolwarm', annot = True, linewidth=0.5, mask=mask)\n",
    "## alsmost no correlation"
   ]
  },
  {
   "cell_type": "markdown",
   "metadata": {},
   "source": [
    "##### <font color='red'> Question: what to do with answer \"8 dont know\"? and can i change nans to dont know?\n",
    " </font>"
   ]
  },
  {
   "cell_type": "markdown",
   "metadata": {},
   "source": [
    "## 2.5 Job Stuff (PY) - Columns"
   ]
  },
  {
   "cell_type": "code",
   "execution_count": null,
   "metadata": {},
   "outputs": [],
   "source": [
    "### job stuff\n",
    "job = ['PY010G: EMPLOYEE CASH OR NEAR CASH INCOME',\n",
    "       'PY020G: NON-CASH EMPLOYEE INCOME', 'PY021G: COMPANY CAR',\n",
    "       'PY035G: CONTRIBUTIONS TO INDIVIDUAL PRIVATE PENSION PLANS',\n",
    "       'PY050G: CASH BENEFITS OR LOSSES FROM SELF-EMPLOYMENT',\n",
    "       'PY080G: PENSION FROM INDIVIDUAL PRIVATE PLANS',\n",
    "       'PY090G: UNEMPLOYMENT BENEFITS', 'PY100G: OLD-AGE BENEFITS',\n",
    "       'PY110G: SURVIVOR’ BENEFITS', 'PY120G: SICKNESS BENEFITS',\n",
    "       'PY130G: DISABILITY BENEFITS', 'PY140G: EDUCATION-RELATED ALLOWANCES']\n",
    "ppp[job].isna().sum()\n",
    "## no nan - jeah!!"
   ]
  },
  {
   "cell_type": "code",
   "execution_count": 113,
   "metadata": {},
   "outputs": [
    {
     "data": {
      "image/png": "[encoded data removed]",
      "text/plain": [
       "<Figure size 432x288 with 1 Axes>"
      ]
     },
     "metadata": {
      "needs_background": "light"
     },
     "output_type": "display_data"
    },
    {
     "data": {
      "image/png": "[encoded data removed]",
      "text/plain": [
       "<Figure size 432x288 with 1 Axes>"
      ]
     },
     "metadata": {
      "needs_background": "light"
     },
     "output_type": "display_data"
    },
    {
     "data": {
      "image/png": "[encoded data removed]",
      "text/plain": [
       "<Figure size 432x288 with 1 Axes>"
      ]
     },
     "metadata": {
      "needs_background": "light"
     },
     "output_type": "display_data"
    },
    {
     "data": {
      "image/png": "[encoded data removed]",
      "text/plain": [
       "<Figure size 432x288 with 1 Axes>"
      ]
     },
     "metadata": {
      "needs_background": "light"
     },
     "output_type": "display_data"
    },
    {
     "data": {
      "image/png": "[encoded data removed]",
      "text/plain": [
       "<Figure size 432x288 with 1 Axes>"
      ]
     },
     "metadata": {
      "needs_background": "light"
     },
     "output_type": "display_data"
    },
    {
     "data": {
      "image/png": "[encoded data removed]",
      "text/plain": [
       "<Figure size 432x288 with 1 Axes>"
      ]
     },
     "metadata": {
      "needs_background": "light"
     },
     "output_type": "display_data"
    },
    {
     "data": {
      "image/png": "[encoded data removed]",
      "text/plain": [
       "<Figure size 432x288 with 1 Axes>"
      ]
     },
     "metadata": {
      "needs_background": "light"
     },
     "output_type": "display_data"
    },
    {
     "data": {
      "image/png": "[encoded data removed]",
      "text/plain": [
       "<Figure size 432x288 with 1 Axes>"
      ]
     },
     "metadata": {
      "needs_background": "light"
     },
     "output_type": "display_data"
    },
    {
     "data": {
      "image/png": "[encoded data removed]",
      "text/plain": [
       "<Figure size 432x288 with 1 Axes>"
      ]
     },
     "metadata": {
      "needs_background": "light"
     },
     "output_type": "display_data"
    },
    {
     "data": {
      "image/png": "[encoded data removed]",
      "text/plain": [
       "<Figure size 432x288 with 1 Axes>"
      ]
     },
     "metadata": {
      "needs_background": "light"
     },
     "output_type": "display_data"
    },
    {
     "data": {
      "image/png": "[encoded data removed]",
      "text/plain": [
       "<Figure size 432x288 with 1 Axes>"
      ]
     },
     "metadata": {
      "needs_background": "light"
     },
     "output_type": "display_data"
    },
    {
     "data": {
      "image/png": "[encoded data removed]",
      "text/plain": [
       "<Figure size 432x288 with 1 Axes>"
      ]
     },
     "metadata": {
      "needs_background": "light"
     },
     "output_type": "display_data"
    }
   ],
   "source": [
    "for x in range(len(job)):\n",
    "    plt.hist(ppp[job[x]], bins = 50)\n",
    "    plt.title(job[x])\n",
    "    plt.show()\n",
    "# conclusion: 0 for no, than the number  --> check if it could be a good  idea to change it to a boolean"
   ]
  },
  {
   "cell_type": "code",
   "execution_count": 116,
   "metadata": {
    "collapsed": true
   },
   "outputs": [
    {
     "name": "stdout",
     "output_type": "stream",
     "text": [
      "PY010G: EMPLOYEE CASH OR NEAR CASH INCOME [37262.33     0.   23516.66 ... 30004.36 26734.94 21652.92]\n",
      "PY020G: NON-CASH EMPLOYEE INCOME [    0   160   450  1080  4887   522  3722  3421   200   700    25 11558\n",
      "  7032  7016 11564   527  8740    12  3150    50  7548    75  3564  9940\n",
      "  8520   100  3847  1780  6835   300 10962  1600  1000    60   750  9300\n",
      "  1830 14680   120   350  4726   250   849  3522  8700  9138  8044   528\n",
      "  2000   935   432  6204  8220  8180   400  3449 16464  8860 10064 11260\n",
      "  6070  1128 10467   900  8982   240    20   959  1112  1416   480   180\n",
      "   208  6355   307  4964   420  4616   600   360  5263  9737   679  5157\n",
      "   720   485   234  7401  4700  5954   616  9207   800  2412   215  4380\n",
      "  6860  3890   516  6760    92   584  7260   312    83  6591   660  2288\n",
      "   500  4652  7580  6300   473  9535   220    36   836  9786 12748  3919\n",
      "  3612  5353  5184  4632  2175  7304 11192  7476  9357  7421 10092   331\n",
      "  7773  6242 11520   275  6137 10295   227  2793  5129   430   162  6845\n",
      "   738  7216 12840   780    54  7999  2638    67  7250  4890  9636  5586\n",
      "  8429  7174   470  5072  8600  8328   798   390   311  7986   640   264\n",
      "   813  4955  8811  2700  4927 15408    30    40  9564  4852  3907  7932\n",
      "  8282   905   153  3769   216   150  5532  7964  3900  4173 15420  1800\n",
      " 10220  8170  3347  5138   759  5903  8292  5322  7380  8028   490  2406\n",
      "  8951  3871   195  3550  6029   509  4980  1012  7442  8689  6313 12977\n",
      "  7750  4166  6535   221  9414  5408 19854  6900  3021   366  1030  9500\n",
      "  5605  6500  8712  2956  8632 12978  5980   110  8000   457   270 10940\n",
      "   380    39     5   125  1010  7330  5882  3039  4905  3491  1900   341\n",
      " 10831    80    48  6663   271  2854   352   540  2629  2777  7741  6882\n",
      "  1100  4508   594   213    44  9443  4994  7848  5338   290  1690  5800\n",
      "   245   144  2556   377   590    15  5680  3112  9951 12241  5742 10780\n",
      "  2450  1090  1374  2373   921  7067  4161  1877 13408  6580  6338  7053\n",
      "  8004  9540   205   675  2457   510   238  5900   108  5221  1240  4222\n",
      "   650   582   980  6220  2875 17500 10160 10048]\n",
      "PY021G: COMPANY CAR [ 0.000000e+00  2.572210e+03  2.413490e+03  9.477200e+03  2.607120e+03\n",
      "  6.081090e+03  1.105710e+03  6.310250e+03  4.896120e+03  3.622770e+03\n",
      "  1.125010e+03  6.624380e+03  1.580485e+04  4.120780e+03  1.129001e+04\n",
      "  8.512800e+02  1.157666e+04  6.077680e+03  2.410810e+03  7.260800e+02\n",
      "  4.016500e+02  4.448640e+03  7.858670e+03  3.191870e+03  2.735900e+02\n",
      "  3.536960e+03  4.941250e+03  4.275430e+03  2.197740e+03  6.235280e+03\n",
      "  2.725300e+03  6.602020e+03  2.720020e+03  2.504850e+03  3.612330e+03\n",
      "  7.665900e+03  8.552320e+03  8.608050e+03  4.738240e+03  8.155030e+03\n",
      "  5.602780e+03  1.672682e+04  3.190880e+03  1.504860e+03  3.763780e+03\n",
      "  3.682500e+03  7.465900e+02  3.915030e+03  2.795000e+03  2.969100e+03\n",
      "  2.344540e+03  3.795780e+03  3.148460e+03  3.630680e+03  1.301624e+04\n",
      "  5.379580e+03  6.780790e+03  8.516100e+02  4.658590e+03  2.686730e+03\n",
      "  1.500112e+04  2.308250e+03  2.550190e+03  1.070922e+04  3.696330e+03\n",
      "  1.135700e+02  1.304280e+03  1.152750e+03  3.840920e+03  4.432060e+03\n",
      "  5.690700e+03  6.604370e+03  2.618670e+03  7.260180e+03  2.730930e+03\n",
      "  6.119540e+03  4.060690e+03  1.482430e+03  1.386020e+03  2.257910e+03\n",
      "  4.546340e+03  6.119730e+03  2.461250e+03  9.243360e+03  1.178800e+03\n",
      "  6.565570e+03  2.026300e+03  1.423250e+03  2.150500e+02  5.437420e+03\n",
      "  2.133030e+03  1.728920e+03  2.231200e+02  1.077470e+03  8.442280e+03\n",
      "  9.460670e+03  4.106300e+03  2.017250e+03  3.471760e+03  4.384340e+03\n",
      "  1.010486e+04  8.836100e+02  6.575970e+03  5.263730e+03  4.296420e+03\n",
      "  6.354200e+02  3.993430e+03  3.979800e+02  2.242430e+03  2.167940e+03\n",
      "  5.015900e+02  2.721730e+03  1.257230e+03  5.031900e+02  2.041260e+03\n",
      "  6.637100e+02  2.878560e+03  5.284150e+03  7.862000e+02  6.960910e+03\n",
      "  2.703503e+04  1.233570e+03  4.550700e+02  1.811340e+03  8.779700e+02\n",
      "  5.212210e+03  1.278260e+03  1.449190e+03  1.864510e+03  3.205870e+03\n",
      "  3.291010e+03  5.048440e+03  1.981310e+03  2.937410e+03  7.919570e+03\n",
      "  3.245130e+03  4.182580e+03  3.231860e+03  1.087010e+03  5.522380e+03\n",
      "  4.739860e+03  7.547550e+03  3.479290e+03  3.946190e+03  3.976980e+03\n",
      "  5.667980e+03  2.302890e+03  4.357960e+03  1.018398e+04  4.851800e+03\n",
      "  5.706260e+03  1.203360e+03  2.808010e+03  2.150470e+03  3.496970e+03\n",
      "  2.440350e+03  4.173350e+03  3.789330e+03  4.018800e+02  7.604780e+03\n",
      "  1.611660e+03  8.004830e+03  3.243100e+03  4.502890e+03  3.686300e+03\n",
      "  7.228270e+03  3.540120e+03  2.556210e+03  1.740810e+03  1.669350e+03\n",
      "  1.400410e+03  5.421080e+03  4.202220e+03  1.018880e+03  2.887830e+03\n",
      "  6.538180e+03  6.358240e+03  1.031070e+03  2.132390e+03  5.805300e+03\n",
      "  2.207210e+03  6.536380e+03  2.915630e+03  1.813340e+03  4.897470e+03\n",
      "  1.343640e+03  1.758620e+03  5.055570e+03  1.836660e+03  3.730240e+03\n",
      "  5.257410e+03  1.901600e+03  4.549160e+03  4.414800e+03  4.777870e+03\n",
      "  1.043046e+04  5.287740e+03  4.948760e+03  1.388900e+03  5.495430e+03\n",
      "  1.450630e+03  6.415730e+03  5.627400e+02  3.490510e+03  1.078740e+03\n",
      "  2.510030e+03  2.770660e+03  4.676000e+02  5.402750e+03  1.299118e+04\n",
      "  2.525640e+03  5.362670e+03  4.473520e+03  2.566650e+03  3.417780e+03\n",
      "  2.138020e+03  4.542800e+03  1.455030e+03  4.627070e+03  5.832710e+03\n",
      "  3.812970e+03  4.894290e+03  6.586420e+03  9.466000e+03  3.055560e+03\n",
      "  3.839000e+03  1.877480e+03  1.999700e+03  4.190600e+02  2.362540e+03\n",
      "  1.028590e+03  1.001365e+04  7.956740e+03  1.564350e+03  1.062000e+01\n",
      "  4.749860e+03  1.034268e+04  3.299600e+02  2.902220e+03  3.961140e+03\n",
      "  2.055580e+03  6.432980e+03  4.606050e+03  1.436950e+03  3.235740e+03\n",
      "  1.238006e+04  1.060801e+04  2.536330e+03  2.015740e+03  8.827070e+03\n",
      "  2.116150e+03  4.394940e+03  1.102660e+03  5.060100e+02  4.145000e+02\n",
      "  1.118330e+03  2.034450e+03  2.856710e+03  5.416790e+03  1.189601e+04\n",
      "  2.542120e+03  6.326770e+03  4.625620e+03  1.935350e+03  2.249500e+03\n",
      "  6.489270e+03  1.038200e+03  2.255544e+04  4.233960e+03  6.346390e+03\n",
      "  2.787020e+03  4.145570e+03  1.812490e+03  2.054010e+03  7.939080e+03\n",
      "  3.391700e+03  5.048800e+03  4.497800e+03  4.451040e+03  3.089770e+03\n",
      "  5.754000e+02  4.463770e+03  2.592780e+03  4.550660e+03  1.256210e+03\n",
      "  2.767420e+03  2.022240e+03  5.657810e+03  4.970880e+03  3.622250e+03\n",
      "  6.218890e+03  1.130970e+03  4.030870e+03  3.038550e+03  4.919250e+03\n",
      "  6.932600e+02  4.671080e+03  3.368480e+03  2.046250e+03  6.479870e+03\n",
      "  4.121040e+03  1.124315e+04  4.142260e+03  4.186940e+03  1.954760e+03\n",
      "  1.547840e+03  4.569000e+03  2.682980e+03  2.585330e+03  2.575770e+03\n",
      "  8.998110e+03  1.281280e+03  4.685540e+03  1.886090e+03 -5.447000e+01\n",
      "  2.634110e+03  3.973240e+03  3.796110e+03  5.700130e+03  5.131630e+03\n",
      "  2.174080e+03  2.301370e+03  9.256700e+02  8.214180e+03  6.853140e+03\n",
      "  3.018790e+03  2.630650e+03  4.624900e+03  4.580100e+03  2.115690e+03\n",
      "  2.782650e+03  4.055800e+02  2.060070e+03  1.562920e+03  2.319320e+03\n",
      "  3.645580e+03  2.698100e+02  1.306160e+03  2.231810e+03  2.119800e+02\n",
      "  1.344100e+02  2.924460e+03  1.985220e+03  5.085440e+03  3.247940e+03\n",
      "  2.222320e+03  2.103660e+03  2.711740e+03  3.575610e+03  1.961820e+03\n",
      "  6.017300e+02  1.524200e+02  9.187030e+03  6.204870e+03  1.277510e+03\n",
      "  1.967520e+03  1.958000e+02  1.431580e+03  9.219060e+03  6.066690e+03\n",
      "  2.865370e+03  1.823320e+03  3.785260e+03  3.616830e+03  3.764930e+03\n",
      "  8.260540e+03  1.532950e+03  6.875100e+02  3.113620e+03  1.355000e+01\n",
      "  1.102580e+03  3.569720e+03  1.451450e+03  3.632530e+03  2.498170e+03]\n",
      "PY035G: CONTRIBUTIONS TO INDIVIDUAL PRIVATE PENSION PLANS [   0   85  170 ... 1874 1427 1454]\n",
      "PY050G: CASH BENEFITS OR LOSSES FROM SELF-EMPLOYMENT [    0.   78994.01 26277.01 ...  7419.32  1332.05 37526.17]\n",
      "PY080G: PENSION FROM INDIVIDUAL PRIVATE PLANS [0.0000000e+00 5.5456400e+03 1.5408600e+03 1.4840590e+04 2.5780000e+01\n",
      " 2.4719400e+03 6.4635400e+03 1.3636130e+04 6.2606400e+03 4.6123000e+02\n",
      " 4.3684000e+02 8.6173000e+02 9.9269200e+03 8.6496200e+03 4.8976800e+03\n",
      " 3.6262300e+03 1.7174300e+03 4.3984500e+03 1.0115570e+04 1.3132200e+03\n",
      " 6.4685800e+03 2.6409800e+03 3.3719100e+03 1.9261260e+04 5.6528200e+03\n",
      " 6.2127700e+04 3.4898100e+03 2.3667500e+03 4.3683000e+03 3.5850300e+03\n",
      " 5.0602000e+03 6.4828000e+02 4.9328000e+02 2.4365000e+02 7.3219300e+03\n",
      " 1.8498710e+04 3.3222400e+04 1.1014630e+04 3.2604040e+04 8.9199100e+03\n",
      " 2.4261000e+02 4.7575000e+02 1.8808000e+02 2.4092000e+02 5.1168000e+02\n",
      " 3.1470900e+03 3.9902900e+03 1.7053400e+03 9.8428000e+02 4.4087200e+03\n",
      " 3.0457100e+03 8.3999000e+02 2.9070700e+04 1.4505100e+03 9.9878000e+02\n",
      " 2.0866100e+03 3.7564600e+03 5.5880000e+02 8.8700000e+01 4.9913000e+02\n",
      " 1.2078600e+03 8.0630000e+03 8.4064000e+02 5.9040700e+03 3.3493000e+02\n",
      " 8.9000000e+00 1.7556500e+03 5.2745500e+03 3.0658000e+02 1.4127500e+03\n",
      " 1.2547860e+04 1.6334340e+04 4.2984400e+03 2.2889510e+04 2.2078100e+03\n",
      " 1.9211300e+03 1.0083500e+03 9.3450400e+03 1.7740000e+02 5.8422000e+02\n",
      " 1.4321600e+03 1.0353300e+03 2.5485300e+03 2.0476170e+04 6.2803800e+03\n",
      " 1.6459400e+03 9.3136320e+04 1.6694000e+02 3.4655300e+03 9.4091000e+02\n",
      " 2.6686900e+03 2.9986590e+04 1.3565520e+04 5.3634500e+03 9.3934000e+02\n",
      " 5.9583600e+03 9.3152900e+03 3.8454500e+03 1.5257600e+03 1.1007000e+02\n",
      " 1.2816000e+02 1.3566000e+02 4.7922000e+03 1.8294000e+02 3.3205000e+02\n",
      " 9.8302000e+02 2.5847400e+03 1.7941000e+02 5.7259000e+02 1.9212000e+02\n",
      " 2.1219260e+04 8.7965700e+03 7.2293900e+03 2.0051000e+02 3.3575700e+03\n",
      " 1.0918540e+04 9.8375700e+03 8.8354000e+02 5.1660500e+03 4.1620000e+01\n",
      " 3.2551460e+04 2.6308300e+03 1.7327200e+03 1.0961000e+03 2.7579940e+04\n",
      " 1.7955400e+03 2.7867000e+02 1.7377400e+03 1.1919900e+03 3.5281000e+02\n",
      " 2.3135760e+04 4.3659100e+03 3.2815000e+02 5.4340400e+03 1.0844800e+03\n",
      " 1.1661200e+03 8.6180000e+01 2.3727000e+02 1.0879400e+03 1.2515750e+04\n",
      " 2.0705000e+03 9.5637000e+02 1.6164000e+02 4.9000000e+02 2.7722100e+03\n",
      " 8.9463900e+03 6.7497900e+03 1.0178700e+03 1.0358000e+02 1.7608000e+02\n",
      " 7.5894800e+03 6.0157000e+02 2.4012300e+03 9.8920000e+01 6.4710500e+03\n",
      " 2.3632800e+03 3.2156490e+04 1.2971300e+03 1.0917910e+04 7.9009400e+03\n",
      " 1.7340000e+02 3.2023000e+02 1.5757000e+03 3.0871000e+02 7.9859000e+02\n",
      " 1.5995100e+03 4.8550400e+03 6.3960300e+03 2.8669600e+03 7.9221900e+03\n",
      " 2.2637600e+03 1.1500500e+03 1.1415540e+04 2.3626300e+04 1.3793500e+03\n",
      " 1.3446700e+03 4.5041900e+03 6.3264000e+02 9.9149000e+02 4.1892000e+02\n",
      " 6.0155000e+02 2.9356100e+03 1.9590300e+03 4.2358000e+03 8.0532900e+03\n",
      " 1.4771000e+02 3.6964000e+02 1.7928100e+03 6.8449000e+02 8.8163000e+03\n",
      " 4.6915400e+03 1.2787000e+02 6.1414000e+02 3.3642700e+03 3.5081000e+03\n",
      " 2.1486300e+03 4.1060720e+04 5.3369800e+03 2.0902090e+04 9.4516000e+02\n",
      " 5.1829300e+03 1.3584400e+03 1.0154300e+03 2.3042600e+03 1.8569000e+03\n",
      " 3.8246600e+03 3.1277800e+03 1.0785800e+03 6.2991600e+03 2.7258900e+03\n",
      " 5.4011000e+02 2.0200450e+04 4.8063000e+02 1.4763900e+03 4.3773200e+03\n",
      " 1.6352440e+04 1.2570000e+02 1.1329810e+04 2.2617000e+02 3.2787600e+03\n",
      " 6.8297600e+03 1.2238000e+02 3.4811400e+03 9.1804000e+02 2.9138700e+03\n",
      " 2.8140010e+04 4.9951900e+03 2.9790700e+03 9.5759800e+03 2.3338200e+04\n",
      " 2.4678500e+03 4.8592300e+03 6.1320000e+02 5.8137000e+03 1.5830000e+03\n",
      " 1.8967000e+03 9.7662000e+02 8.4223000e+02 3.2189600e+03 2.6876200e+03\n",
      " 1.6503000e+02 6.5070000e+02 5.3260400e+03 1.1169990e+04 3.1169000e+03\n",
      " 1.3381400e+03 1.9427200e+03 5.4360000e+01 5.8427100e+03 6.3959200e+03\n",
      " 2.4706000e+02 8.9387000e+02 4.5576800e+03 1.6988000e+02 6.7441000e+02\n",
      " 1.3242800e+03 6.1446000e+02 3.2808000e+02 3.6124700e+03 8.2732000e+03\n",
      " 4.9992000e+02 1.4390940e+04 6.7596400e+03 2.0450600e+03 1.0863200e+03\n",
      " 9.2820000e+01 8.7122000e+02 1.0373000e+02 6.7664600e+03 2.3527900e+03\n",
      " 1.7121000e+02 4.8367200e+03 3.3124900e+03 1.0461348e+05 6.0380000e+03\n",
      " 6.9437100e+03 1.1163700e+03 6.6700000e+00 2.7658570e+04 3.5978000e+02\n",
      " 1.7164500e+03 1.4244000e+02 1.7379200e+03 1.1914000e+02 5.7992000e+02\n",
      " 4.6883600e+03 1.2519600e+03 1.4548900e+03 2.2222100e+03 1.9389900e+03\n",
      " 1.1396820e+04 1.5050000e+02 1.7852200e+03 1.0156000e+02 1.4054400e+03\n",
      " 3.8079500e+03 2.5907900e+03 8.8465900e+03 3.5687300e+03 1.3393600e+03\n",
      " 3.4549300e+03 7.1510000e+01 1.3099000e+02 1.1405200e+03 6.6765200e+03\n",
      " 9.3175000e+02 6.8188100e+03 4.3454000e+02 3.9581000e+02 1.7961430e+04\n",
      " 3.2439000e+03 1.8278000e+02 2.9944350e+04 2.5708930e+04 6.3752000e+03\n",
      " 2.0020000e+03 1.5863100e+03 1.5835820e+04 2.1832700e+03 4.4311400e+03\n",
      " 4.2465700e+03 2.8911900e+03 1.2270000e+03 4.1169800e+03 4.1760300e+03\n",
      " 3.6176600e+03 1.1701300e+03 5.2006000e+02 1.3226600e+03 1.4775380e+04\n",
      " 4.7281900e+03 3.4124000e+02 3.6640900e+03 5.7877500e+03 3.9327000e+02\n",
      " 8.0049100e+03 5.6447000e+03 8.5380000e+01 4.6645400e+03 8.4384700e+03\n",
      " 2.3289000e+02 8.0020000e+01 2.5353300e+03]\n",
      "PY090G: UNEMPLOYMENT BENEFITS [    0.    8314.64   932.51 ... 11235.71 23733.56  3580.3 ]\n",
      "PY100G: OLD-AGE BENEFITS [    0.   18846.06 11999.28 ... 18329.96 15082.7  21588.86]\n",
      "PY110G: SURVIVOR’ BENEFITS [ 0.000000e+00  9.336960e+03  5.933000e+03  3.304618e+04  1.743169e+04\n",
      "  9.747600e+02  2.555690e+03  4.885400e+02  1.863794e+04  4.171330e+03\n",
      "  2.212257e+04  8.244620e+03  3.106710e+03  5.868440e+03  8.278260e+03\n",
      "  1.222550e+04  5.896730e+03  1.092845e+04  1.097630e+03  5.774130e+03\n",
      "  5.975310e+03  2.061600e+02  1.448030e+04  1.648272e+04  7.972760e+03\n",
      "  1.221965e+04  8.102920e+03  9.589210e+03  1.888081e+04  3.409520e+03\n",
      "  7.970970e+03  3.670510e+03  1.936017e+04  4.231000e+03  5.140900e+03\n",
      "  7.615600e+02  8.667030e+03  6.303450e+03  2.300820e+03  2.150897e+04\n",
      "  6.308500e+03  3.149120e+03  3.275320e+03  7.602840e+03  6.380690e+03\n",
      "  2.245730e+03  1.748854e+04  7.686540e+03  8.757040e+03  9.406260e+03\n",
      "  9.641400e+02  4.832380e+03  3.100937e+04  1.893988e+04  7.094480e+03\n",
      "  2.022320e+03  1.030814e+04  7.302300e+02  2.080120e+03  2.960770e+03\n",
      "  1.825032e+04  2.243930e+03  2.043810e+03  4.653630e+03  1.882789e+04\n",
      "  6.009930e+03  3.707180e+03  4.126240e+03  1.761421e+04  1.691280e+03\n",
      "  5.365900e+03  5.614030e+03  6.706600e+02  3.549777e+04  4.298860e+03\n",
      "  4.728120e+03  3.145400e+02  5.308847e+04  1.034150e+03  6.969950e+03\n",
      "  6.021270e+03  8.229350e+03  3.139280e+03  2.922400e+02  6.651970e+03\n",
      "  3.693300e+03  5.786960e+03  3.076030e+03  1.492816e+04 -3.981770e+03\n",
      "  6.719400e+02  4.425300e+03  5.375330e+03  6.560050e+03  2.200573e+04\n",
      "  9.563900e+03  4.682370e+03  3.909520e+03  3.461310e+03  6.159720e+03\n",
      "  2.896350e+03  1.651287e+04  5.457700e+02  5.030130e+03  7.148046e+04\n",
      "  8.824800e+02  2.156370e+03  3.050320e+03  2.506670e+03  3.402076e+04\n",
      "  2.954460e+03  3.906380e+03  3.917960e+03  2.086040e+03  6.406380e+03\n",
      "  9.028400e+02  1.988230e+04  7.028600e+02  2.536006e+04  3.355649e+04\n",
      "  2.431760e+03  2.348279e+04  5.047700e+02  2.406289e+04  1.654737e+04\n",
      "  3.452870e+03  5.139100e+02  4.942390e+03  1.745670e+03  8.886550e+03\n",
      "  8.113540e+03  2.258200e+02  1.009290e+03  5.925500e+02  8.077100e+03\n",
      "  8.684700e+02  8.708780e+03  8.536920e+03  1.334270e+03  6.370659e+04\n",
      "  2.081380e+03  8.997060e+03  1.629541e+04  1.285913e+04  2.310730e+03\n",
      "  4.157730e+03  8.706650e+03  1.572000e+02  4.300620e+03  1.366993e+04\n",
      "  4.136000e+01  3.843870e+03  2.605310e+03  2.371797e+04  1.375334e+04\n",
      "  7.213970e+03  8.626650e+03  9.420000e+00  3.521160e+03  4.542390e+03\n",
      "  3.703740e+03  2.879690e+03  2.085052e+04  3.159000e+02  4.291670e+03\n",
      "  2.938550e+03  3.139200e+02  2.208748e+04  9.231810e+03  4.132950e+03\n",
      "  6.240080e+03  7.722680e+03  6.168540e+03  4.904080e+03  2.213733e+04\n",
      "  1.447790e+03  5.705510e+03  1.585370e+03  4.149600e+02  3.979220e+03\n",
      "  3.590160e+03  5.135670e+03  8.479890e+03  5.812940e+03  1.290214e+04\n",
      "  1.095284e+04  2.125986e+04  1.619308e+04  1.045244e+04  1.092430e+03\n",
      "  9.196110e+03  5.683980e+03  5.630070e+03  9.416110e+03  1.126659e+04\n",
      "  7.794000e+01  1.482275e+04  3.287570e+03  8.211980e+03  3.251045e+04\n",
      "  5.414580e+03  4.928380e+03  3.559860e+03  5.957250e+03  1.536499e+04\n",
      "  1.155661e+04  5.276850e+03  8.388900e+02  2.471380e+03  6.599630e+03\n",
      "  9.449480e+03  6.398210e+03  3.643780e+03  3.296670e+03  3.221980e+03\n",
      "  3.978420e+03  9.049350e+03  6.540310e+03  2.221700e+03  2.333836e+04\n",
      "  7.941970e+03  1.167222e+04  7.948170e+03  2.122912e+04  1.802690e+03\n",
      "  1.476436e+04  9.707730e+03  9.008900e+02  4.245130e+03  6.267900e+03\n",
      "  1.470210e+03  3.947340e+03  8.857760e+03  3.034518e+04  3.555720e+03\n",
      "  4.578700e+03  4.582450e+03  2.533010e+03  1.346640e+03  9.779300e+02\n",
      "  5.524700e+02  1.869000e+02  2.089210e+03  2.268290e+03  4.797930e+03\n",
      "  1.361631e+04  1.455835e+04  1.718370e+03  7.420070e+03  2.123075e+04\n",
      "  5.429800e+02  1.836968e+04  2.040411e+04  3.162880e+03  5.979890e+03\n",
      "  8.262800e+03  7.934730e+03  2.661440e+03  1.202884e+04  5.845880e+03\n",
      "  3.943740e+03  5.242600e+02  1.164520e+03  1.713489e+04  1.963350e+03\n",
      "  5.203790e+03  2.962400e+02  1.038009e+04  7.890650e+03  1.032450e+03\n",
      "  3.166835e+04  1.335246e+04  5.026200e+03  4.303730e+03  3.189706e+04\n",
      "  2.744717e+04  4.896500e+02  4.102500e+03  2.021488e+04  1.759729e+04\n",
      "  8.228620e+03  1.755096e+04  3.692700e+03  1.429026e+04  1.170817e+04\n",
      "  4.297270e+03  2.369481e+04  7.555710e+03  9.082490e+03  4.198460e+03\n",
      "  9.906810e+03  2.254000e+02  4.864130e+03  3.052750e+03  2.784260e+03\n",
      "  4.285060e+03  6.568360e+03  4.832930e+03  3.198680e+03  1.268930e+03\n",
      "  4.776990e+03  2.338600e+02  3.178280e+03  2.228200e+03  6.880000e+02\n",
      "  1.090453e+04  2.334500e+03  2.538111e+04  1.261000e+03  2.528622e+04\n",
      "  1.543185e+04  6.106640e+03  6.645450e+03  6.108750e+03  4.058000e+02\n",
      "  6.701220e+03  1.380972e+04  1.231283e+04  1.097632e+04  4.739190e+03\n",
      "  1.374070e+03  2.853190e+03  7.257620e+03  1.973540e+03  2.201300e+03\n",
      "  2.898190e+03  3.825500e+03  3.334080e+03  5.931870e+03  4.939000e+01\n",
      "  4.615980e+03  8.358000e+02  1.367520e+04  1.485508e+04  1.682417e+04\n",
      "  5.744900e+02  7.204400e+02  1.721660e+03  7.636000e+01  1.381870e+03\n",
      "  2.787910e+03  2.208860e+03  1.023765e+04  9.751070e+03  7.280800e+03\n",
      "  7.414640e+03  4.868590e+03  5.554950e+03  7.092300e+03  1.442900e+03\n",
      "  2.386940e+04  2.477680e+03  1.084960e+03  3.657160e+03  2.629100e+02\n",
      "  1.768060e+03  3.315350e+03  1.422390e+03  6.226710e+03  8.423520e+03\n",
      "  8.533510e+03  5.685580e+03  7.718620e+03  2.901140e+03  4.911070e+03\n",
      "  5.599500e+02  9.565560e+03  6.301770e+03  1.465440e+03  6.338070e+03\n",
      "  5.753010e+03  1.759010e+04  2.996694e+04  1.267935e+04  2.719699e+04\n",
      "  9.309670e+03  9.188800e+02  1.015842e+04  6.928920e+03  2.170900e+03\n",
      "  3.923300e+02  9.628590e+03  2.757160e+03  7.938530e+03  9.271070e+03\n",
      "  1.983394e+04  2.035950e+04  4.659900e+03  9.547000e+02  2.083949e+04\n",
      "  1.735336e+04  2.960330e+03  3.999160e+03  1.427225e+04  3.187420e+03\n",
      "  3.753200e+02  2.085079e+04  1.781200e+02  2.353080e+03  2.057400e+02\n",
      "  8.058600e+02  2.919020e+03  1.230358e+04  1.394920e+03  8.116900e+02\n",
      "  3.287710e+03  3.715950e+03  1.199871e+04  1.883760e+04  4.995850e+03\n",
      "  5.006695e+04  1.598784e+04  1.227110e+03  2.718820e+03  3.046260e+03\n",
      "  1.976020e+03  4.233800e+02  8.189530e+03  1.747390e+03  1.888130e+03\n",
      "  1.179850e+03  2.820170e+03  6.525630e+03  1.841980e+03  5.635620e+03\n",
      "  1.498613e+04  2.841348e+04  2.120977e+04  6.451100e+02  2.482100e+02\n",
      "  1.632740e+04  3.305210e+03  6.679530e+03  6.037310e+03  5.973550e+03\n",
      "  1.085929e+04  1.756473e+04  2.919730e+03  4.209500e+02  1.927280e+04\n",
      "  3.685173e+04  3.784530e+03  4.221790e+03  2.605028e+04  6.163990e+03\n",
      "  9.237720e+03  3.083730e+03  4.641100e+02  2.187049e+04  3.792910e+03\n",
      "  2.946404e+04  1.269401e+04  6.322600e+02  2.695160e+03  1.940620e+03\n",
      "  1.629453e+04  2.564009e+04  3.997380e+03  1.444780e+03  5.400210e+03\n",
      "  6.567460e+03  1.887610e+03  1.698087e+04  4.169800e+02  8.660160e+03\n",
      "  1.757300e+02  8.392730e+03  6.154100e+02  1.406380e+04  2.490990e+03\n",
      "  1.582677e+04  4.034000e+02  1.024200e+02  6.881120e+03  2.188222e+04\n",
      "  2.629010e+03  1.076312e+04  2.756930e+03  3.313541e+04  2.526452e+04\n",
      "  3.989610e+03  2.601820e+03  6.390450e+03  9.156370e+03  7.886430e+03\n",
      "  1.095946e+04  3.515253e+04  2.713100e+02  1.800817e+04  1.096720e+03\n",
      "  6.927800e+03  1.325280e+04  1.005210e+03  6.907280e+03  3.110720e+03\n",
      "  7.198900e+02  2.663000e+02  3.271470e+03  5.412800e+02  2.356896e+04\n",
      "  3.167522e+04  7.257350e+03  6.550080e+03  1.489270e+03  8.445970e+03\n",
      "  4.531950e+03  5.846630e+03  8.017020e+03  2.308290e+03  1.898040e+03\n",
      "  5.256130e+04  2.295426e+04  5.356740e+03  3.885090e+03  1.790023e+04\n",
      "  1.165210e+03  8.102060e+03  7.034250e+03  1.723639e+04  1.161757e+04\n",
      "  1.304163e+04  1.396696e+04  1.563820e+03  4.214380e+03  1.240890e+03\n",
      "  2.750940e+03  1.502548e+04  1.798233e+04  4.901860e+03  4.292100e+02\n",
      "  1.785200e+02  5.042820e+03  1.162500e+02  5.114700e+03  5.908600e+02\n",
      "  2.354330e+03  1.421600e+02  2.099840e+03  9.377910e+03  2.176870e+03\n",
      "  7.668530e+03  2.945380e+03  7.494820e+03  6.617180e+03  6.912510e+03\n",
      "  2.646890e+03  1.210330e+03  1.713200e+02  3.954480e+03  1.289740e+03\n",
      "  7.765480e+03  2.764000e+01  6.755150e+03  7.223000e+01  3.829110e+03\n",
      "  1.604790e+03  7.055010e+03  2.082254e+04  4.401000e+01  2.447888e+04\n",
      "  3.008550e+03  6.131720e+03  2.281770e+03  1.536104e+04  1.004220e+03\n",
      "  1.497278e+04  9.946750e+03  1.013301e+04  9.528440e+03  1.744660e+04\n",
      "  7.366800e+02  8.747500e+02  2.160867e+04  3.704000e+03  7.580010e+03\n",
      "  4.642090e+03  2.337790e+03  1.208730e+03  1.411414e+04  4.127930e+03\n",
      "  7.631530e+03  5.905820e+03  1.366358e+04  5.329700e+02  7.219720e+03\n",
      "  1.177680e+03  1.210748e+04  3.721440e+03  1.003688e+04  5.458300e+03\n",
      "  1.691278e+04  5.868570e+03  5.483400e+03  1.928580e+03  2.479000e+02\n",
      "  6.622700e+02  3.018350e+03  4.827310e+03  1.291222e+04  1.388365e+04\n",
      "  1.235047e+04  4.067916e+04  7.162150e+03  3.393670e+03  8.950420e+03\n",
      "  3.520640e+03  6.757130e+03  3.237418e+04  8.732410e+03  2.186090e+03\n",
      "  3.136730e+03  6.320890e+03  1.368748e+04  1.572700e+02  1.356123e+04\n",
      "  1.216647e+04  6.583000e+03  2.480420e+03  1.423530e+03  1.334811e+04\n",
      "  7.308500e+02  1.422703e+04  1.732710e+03  1.135972e+04  2.021130e+03\n",
      "  1.111990e+03  9.446200e+02  3.491490e+03  1.147480e+03  9.716590e+03\n",
      "  8.455720e+03  7.337050e+03  5.373770e+03  5.322140e+03  1.390180e+03\n",
      "  1.141900e+02  4.533390e+03  3.831690e+03  5.895460e+03  1.634680e+03\n",
      "  2.234864e+04  8.050450e+03  7.526530e+03  2.596660e+03  5.979770e+03\n",
      "  5.511410e+03  4.776500e+02  1.802190e+03  4.569990e+03  1.365878e+04\n",
      "  1.222725e+04  1.198480e+03  8.995820e+03  1.803951e+04  2.219321e+04\n",
      "  5.887330e+04  1.783040e+03  4.107000e+01  8.521280e+03  1.072498e+04\n",
      "  3.171340e+03  9.685770e+03  3.535580e+03  1.101560e+03  1.614328e+04\n",
      "  2.440795e+04  9.790760e+03  3.954970e+03  4.984550e+03  5.621270e+03\n",
      "  8.133700e+02  4.437320e+03  2.772520e+03  5.363990e+03  1.849402e+04\n",
      "  1.124317e+04  4.172120e+03  2.195570e+03  1.143610e+03  6.271900e+03\n",
      "  5.164810e+03  2.219173e+04  1.000357e+04  6.278490e+03  4.034490e+03\n",
      "  1.441763e+04  9.956100e+02  2.400804e+04  8.781290e+03  3.554790e+03\n",
      "  6.370590e+03  1.500522e+04  1.427730e+03  6.291800e+02  5.242540e+03\n",
      "  7.642310e+03  5.021200e+02  1.254810e+04  1.753820e+04  1.141951e+04\n",
      "  2.498400e+03  9.004810e+03  1.950292e+04  9.954300e+02  2.402830e+03\n",
      "  5.247530e+03  4.699780e+03  6.724040e+03  7.174940e+03  5.086660e+03\n",
      "  1.054444e+04  2.744840e+03  1.829976e+04  5.017021e+04  3.989100e+02\n",
      "  1.537336e+04  1.378684e+04  4.691520e+03  1.858421e+04  3.799770e+03\n",
      "  2.002060e+03  3.755660e+03  2.676089e+04  1.036835e+04  7.864300e+02\n",
      "  1.063457e+04  4.915370e+03  2.865520e+03  3.540600e+03  2.278760e+03\n",
      "  4.073400e+02  1.428176e+04  4.392000e+02  8.503400e+02  1.963481e+04\n",
      "  6.690440e+03  2.973010e+03  7.706800e+02  5.880030e+03  1.021584e+04\n",
      "  2.853507e+04  3.965580e+03  7.296740e+03  2.486780e+03  4.451420e+03\n",
      "  6.707750e+03  5.792660e+03  1.278764e+04  8.845320e+03  8.866000e+01\n",
      "  1.170336e+04  1.670076e+04  8.404700e+02  5.931100e+02  7.654400e+03\n",
      "  1.221910e+03  4.039400e+02  7.343000e+03  1.547931e+04  1.530968e+04\n",
      "  1.105470e+03  6.601510e+03  7.405600e+02  6.891560e+03  2.465160e+03\n",
      "  9.101100e+02  1.345330e+03  8.211870e+03  4.473080e+03  2.363630e+03\n",
      "  1.625570e+04  4.326430e+03  3.115000e+02  7.529300e+02  1.365986e+04\n",
      "  3.111880e+04  1.058305e+04]\n",
      "PY120G: SICKNESS BENEFITS [ 0.000000e+00  6.187000e+02  1.960930e+03  2.223069e+04  3.392280e+03\n",
      "  1.863600e+02  1.894000e+02  2.724600e+03  1.988790e+03  3.617400e+02\n",
      "  1.647300e+02  1.100140e+03  9.295500e+03  9.307000e+01  2.191392e+04\n",
      "  1.348110e+03  4.271600e+02  2.152400e+02  3.913340e+03  4.233260e+03\n",
      "  1.008443e+04  6.315400e+02  3.052400e+02  3.662860e+03  1.651440e+03\n",
      "  1.182550e+03  4.296880e+03  1.400400e+03  2.590500e+02  3.233560e+03\n",
      "  8.087200e+02  1.625420e+03  2.061410e+03  2.029000e+01  1.092745e+04\n",
      "  7.292310e+03  8.354700e+02  4.186300e+02  4.650870e+03  2.258187e+04\n",
      "  4.768550e+03  2.093510e+03  4.554100e+02  6.087450e+03  2.675930e+03\n",
      "  8.957110e+03  2.418800e+02  2.236943e+04  1.225600e+02  1.220700e+02\n",
      "  3.293980e+03 -2.924600e+02  1.269490e+04  1.176410e+03  7.186000e+01\n",
      "  2.838950e+03  3.671000e+01  2.035700e+02  4.977600e+02  3.337170e+03\n",
      "  2.028168e+04  3.633350e+03  6.433700e+03  2.954177e+04  1.169167e+04\n",
      "  9.054620e+03  4.395000e+01  1.366266e+04  6.886000e+01  2.638570e+03\n",
      "  1.431100e+02  8.009920e+03  7.835000e+02  3.969000e+01  1.490000e+02\n",
      "  2.260080e+04  1.812880e+03  6.918100e+02  6.929000e+02  2.634390e+03\n",
      "  3.636000e+01  9.406900e+02  2.521240e+03  1.603600e+02  3.447960e+03\n",
      "  3.560000e+01  5.606000e+01  7.510450e+03  1.823038e+04  4.357940e+03\n",
      "  1.285887e+04  2.114100e+02  2.238900e+02  1.865820e+03  7.578390e+03\n",
      "  2.545000e+01  2.320380e+03  2.272620e+04  1.095264e+04  1.473940e+03\n",
      "  1.568590e+03  1.330170e+03  3.015000e+01  3.209553e+04  3.480500e+02\n",
      "  3.332600e+02  7.815000e+01  4.016500e+02  5.304960e+03  5.301270e+03\n",
      "  1.536280e+03  2.507000e+03  2.297600e+03  2.074670e+03  1.731540e+03\n",
      "  3.411806e+04  6.520400e+02  1.876320e+03  1.621007e+04  3.383920e+03\n",
      "  7.168300e+02  4.032900e+02  5.423800e+03  7.877000e+02  3.131800e+02\n",
      "  4.759860e+03  2.220970e+03  6.250500e+03  2.683550e+03  2.654900e+03\n",
      "  2.535700e+02  3.400410e+03  3.377710e+03  5.158120e+03  9.874500e+02\n",
      "  1.463921e+04  9.908000e+02  7.406500e+02  2.006340e+03  1.045120e+03\n",
      "  2.834100e+02  6.041000e+01  2.972300e+02  2.908060e+03  2.670380e+03\n",
      "  1.247560e+03  2.489860e+03  3.018000e+02  1.370000e+02  5.472200e+03\n",
      "  6.726090e+03  1.280140e+03  7.249490e+03  1.812300e+02  8.668850e+03\n",
      "  5.677200e+02  2.045130e+03  8.689000e+01  5.739700e+02  6.485640e+03\n",
      "  4.444900e+02  1.336620e+03  2.931950e+03  7.747600e+03  5.378730e+03\n",
      "  1.905600e+02  5.168000e+01  1.647260e+03  1.768600e+02  9.020000e+00\n",
      "  5.840000e+00  1.422448e+04  3.172100e+02  1.197610e+03  3.094520e+03\n",
      "  5.572790e+03  3.299000e+01  7.224100e+03  1.813200e+03  3.036970e+03\n",
      "  6.340690e+03  3.668500e+02  2.003758e+04  7.576680e+03  2.368000e+02\n",
      "  1.659975e+04  2.021600e+02  1.851350e+03  9.605800e+02  4.197190e+03\n",
      "  8.251000e+01  5.170230e+03  1.519000e+02  9.721700e+02  6.098000e+01\n",
      "  2.488590e+03  9.858300e+02  9.836590e+03  1.335280e+03  2.447000e+01\n",
      "  2.083760e+03  3.663990e+03  2.223000e+02  2.645850e+03  1.781860e+03\n",
      "  2.258570e+03  1.141320e+03  4.383100e+02  3.890500e+02  4.512080e+03\n",
      "  8.998100e+02  1.246020e+03  1.085400e+02  1.751400e+02  4.090000e+00\n",
      "  1.550704e+04  7.646000e+01  3.748760e+03  4.388380e+03  1.333970e+03\n",
      "  2.680661e+04  2.687000e+01  1.247700e+02  2.180497e+04  5.222690e+03\n",
      "  2.366500e+02  2.595000e+01  2.282219e+04  2.300726e+04  1.494400e+02\n",
      "  9.793190e+03  1.733000e+01  1.800920e+03  2.587900e+02  4.422020e+03\n",
      "  5.517400e+03  4.931500e+03  2.941030e+03  1.451350e+03  7.983700e+02\n",
      "  5.000400e+02  2.406210e+03  5.766830e+03  5.873310e+03  1.587480e+03\n",
      "  3.029100e+03  7.342680e+03  1.286190e+03  5.903000e+01  7.483800e+02\n",
      "  1.675650e+03  2.936650e+03  5.084000e+01  3.843000e+01  2.152370e+04\n",
      "  6.016200e+02  1.139000e+02  3.028300e+02  6.291900e+02  1.976800e+03\n",
      "  7.311070e+03  2.794630e+03  9.324000e+01  2.786900e+02  1.923433e+04\n",
      "  1.249500e+02  3.586000e+01  8.898400e+02  1.519100e+02  1.008615e+04\n",
      "  8.152920e+03  4.376200e+02  2.563000e+01  1.030500e+03  3.077060e+03\n",
      "  1.251960e+03  1.071387e+04  7.078610e+03  8.276200e+02  4.490000e+02\n",
      "  2.257000e+01  4.231500e+02  3.184000e+01  3.098610e+03  1.840120e+03\n",
      "  1.043957e+04  3.969400e+02  7.930830e+03  7.296870e+03  1.094270e+03\n",
      "  4.810900e+02  4.605000e+01  2.387040e+03  1.354130e+03  4.014610e+03\n",
      "  1.159360e+03  1.922650e+03  1.449230e+04  2.051992e+04  1.843100e+02\n",
      "  1.004000e+03  2.915000e+03  2.210600e+04  3.945310e+03  2.602800e+03\n",
      "  1.108305e+04  4.381100e+03  5.403900e+02  3.526900e+02  3.428190e+03\n",
      "  1.975040e+03  3.745430e+03  5.473900e+02  1.346600e+02  5.890000e+00\n",
      "  1.999750e+03  2.110857e+04  4.055090e+03  1.568000e+01  1.999670e+03\n",
      "  9.570670e+03  6.594440e+03  2.414900e+02  3.409377e+04  9.020000e+01\n",
      "  8.639250e+03  8.695600e+02  1.152800e+02  8.586300e+02  1.422600e+02\n",
      "  2.267740e+03  4.825800e+02  5.728100e+02  4.712050e+03  5.366900e+02\n",
      "  1.822100e+02  4.901600e+02  5.867610e+03  8.358100e+02  5.800000e+00\n",
      "  4.620770e+03  2.501000e+01  6.161200e+03  7.958950e+03  6.865790e+03\n",
      "  9.796900e+02  2.350070e+03  3.570680e+03  3.335220e+03  3.049720e+03\n",
      "  1.735952e+04  1.617600e+02  2.930500e+02  9.115650e+03  3.135600e+02\n",
      "  1.308700e+02  5.592100e+02  1.032700e+02  1.150160e+03  4.686550e+03\n",
      "  4.142571e+04  2.676500e+03  2.425200e+02  1.243070e+03  1.486960e+03\n",
      "  6.996170e+03  9.343000e+02  1.193100e+02  1.060200e+02  1.772349e+04\n",
      "  1.123510e+03  2.036000e+01  1.054500e+02  3.624910e+03  1.019900e+02\n",
      "  8.890000e+02  5.162000e+01  7.938640e+03  8.530000e+01  1.024643e+04\n",
      "  3.711900e+02  6.985140e+03  6.863770e+03  8.000000e+00  1.799290e+03\n",
      "  4.929300e+02  2.061500e+03  2.615000e+01  3.372000e+02  1.396880e+03\n",
      "  5.017590e+03  5.383660e+03  1.215200e+02  4.209920e+03  1.540900e+02\n",
      "  1.025400e+03  9.887500e+03  1.025800e+02  3.435000e+02  1.364650e+03\n",
      "  9.273090e+03  4.798600e+02  1.621300e+02  3.903901e+04  1.732600e+03\n",
      "  1.277880e+03  1.520500e+02  1.852122e+04  4.549600e+02  1.146700e+02\n",
      "  6.640700e+02]\n",
      "PY130G: DISABILITY BENEFITS [ 0.000000e+00  6.740050e+03  1.850689e+04  1.093892e+04  1.196830e+04\n",
      "  3.017205e+04  2.450567e+04  2.072995e+04  7.891650e+03  8.368500e+03\n",
      "  1.769816e+04  5.039200e+02  1.134492e+04  9.920760e+03  4.091990e+03\n",
      "  2.080260e+03  8.818010e+03  1.273435e+04  6.741090e+03  3.037400e+02\n",
      "  5.859034e+04  3.994600e+03  7.603780e+03  9.935000e+02  8.997000e+03\n",
      "  1.120449e+04  1.208883e+04  7.372200e+02  4.001840e+03  1.209646e+04\n",
      "  2.692452e+04  2.781870e+03  2.502660e+03  2.923175e+04  1.959772e+04\n",
      "  2.400256e+04  1.099613e+04  9.575420e+03  2.881030e+03 -1.048570e+03\n",
      "  1.706765e+04  3.133970e+03  9.954260e+03  1.162720e+03  5.544090e+03\n",
      "  1.399123e+04  9.321500e+03  1.091689e+04  8.767640e+03  4.936280e+03\n",
      "  7.926850e+03  5.394390e+03  9.661320e+03  1.512487e+04  1.854170e+03\n",
      "  1.624308e+04  1.978200e+02  9.913110e+03  1.490835e+04  1.424767e+04\n",
      "  8.731050e+03  1.423292e+04  2.788310e+03  9.909020e+03  1.005927e+04\n",
      "  1.561170e+03  2.330300e+02  4.346290e+03  6.261310e+03  2.506800e+02\n",
      "  5.870000e+01  1.826975e+04  9.100600e+02  5.231210e+03 -2.088350e+03\n",
      "  2.139790e+03 -3.719140e+03  3.057330e+03  1.940695e+04  4.463060e+03\n",
      "  8.172340e+03  1.316405e+04  2.078617e+04  5.224800e+03  4.324650e+03\n",
      "  1.795160e+03  1.240644e+04  1.456250e+03  4.980711e+04  1.574462e+04\n",
      "  6.413700e+02  1.363160e+03  4.549750e+03  2.116557e+04  9.524200e+03\n",
      "  1.148379e+04  6.802530e+03  1.817259e+04  8.240420e+03  7.859870e+03\n",
      "  2.060272e+04  1.350500e+02  9.510900e+02  1.000867e+04  2.267390e+04\n",
      "  1.220136e+04  1.013420e+04  3.671730e+03  1.245451e+04  1.648310e+04\n",
      "  2.102524e+04  1.673540e+03  1.532768e+04  1.440488e+04  5.058090e+03\n",
      "  6.904900e+02  1.257932e+04  1.845883e+04  5.076310e+03  4.589360e+03\n",
      "  4.771670e+03  8.840540e+03  8.129000e+01  9.589904e+04  7.398890e+03\n",
      "  1.441570e+03  3.825760e+03  1.285498e+04  1.413015e+04  1.030801e+04\n",
      "  4.844770e+03  7.010540e+03  1.044073e+04  3.341540e+03  1.195108e+04\n",
      "  8.840250e+03  9.980700e+02  1.138194e+04  1.395080e+04  2.797970e+03\n",
      "  1.280724e+04  2.549790e+03  1.056110e+04  1.005726e+04  7.068270e+03\n",
      "  6.565060e+03  1.517495e+04  5.489260e+03  9.750150e+03  6.875000e+03\n",
      "  3.213481e+04  1.074571e+04  1.046637e+04  5.657860e+03  6.331980e+03\n",
      "  1.128299e+04  6.451070e+03  1.270472e+04  1.047077e+04  1.202353e+04\n",
      "  3.697116e+04  6.026150e+03  5.427610e+03  1.396208e+04  4.738050e+03\n",
      "  8.325620e+03  2.048570e+03  4.235650e+03  9.097200e+03  7.607340e+03\n",
      "  3.971650e+03  9.137010e+03  7.101780e+03  1.460538e+04  1.482419e+04\n",
      "  2.365261e+04  2.457730e+04  7.379830e+03  4.389010e+03  1.479957e+04\n",
      "  6.482200e+03  1.417334e+04  1.297850e+03  5.478380e+03  1.188722e+04\n",
      "  1.636490e+04  1.296663e+04  2.567980e+03  1.954210e+03  8.970610e+03\n",
      "  1.703422e+04  1.814962e+04  7.123830e+03  2.188367e+04  8.333900e+03\n",
      "  1.344757e+04  1.624962e+04  7.114020e+03  1.583908e+04  9.739200e+02\n",
      "  7.857670e+03  8.498320e+03  8.821510e+03  8.989610e+03  9.323000e+03\n",
      "  1.594612e+04  1.483653e+04  5.672750e+03  8.219860e+03  1.542200e+03\n",
      "  6.114460e+03  1.537198e+04  5.385160e+03  3.120120e+03  2.110647e+04\n",
      "  3.622190e+03  6.311420e+03  5.429170e+03  1.000479e+04  1.925990e+03\n",
      "  2.305460e+03  2.071353e+04  1.117141e+04  5.489470e+03  1.587580e+03\n",
      "  1.007997e+04  1.958443e+04  2.001325e+04  1.302299e+04  1.270167e+04\n",
      "  1.077479e+04  1.824734e+04  2.023174e+04  7.118300e+03  9.374290e+03\n",
      "  6.510630e+03  4.225250e+03  6.877980e+03  2.770301e+04  3.821158e+04\n",
      "  1.148034e+04  1.484992e+04  6.935260e+03  1.521231e+04  3.863969e+04\n",
      "  5.302250e+03  1.208080e+03  3.967360e+03  6.733020e+03  1.541863e+04\n",
      "  7.710000e+02  4.277270e+03  3.488780e+03  2.985930e+03  1.531256e+04\n",
      "  7.565930e+04  8.194100e+02  9.711120e+03  1.457431e+04  8.019300e+02\n",
      "  2.429645e+04  2.865250e+03  9.401670e+03  1.152583e+04  2.017990e+03\n",
      "  7.028480e+03  1.090936e+04  5.709210e+03  4.541240e+03  8.622970e+03\n",
      "  4.009260e+03  6.399840e+03  3.592450e+03  6.619850e+03  3.398040e+03\n",
      "  3.453540e+03  3.940730e+03  9.897030e+03  1.178058e+04  8.412970e+03\n",
      "  1.008387e+04  1.122866e+04  2.155800e+03  5.058540e+03  7.383020e+03\n",
      "  1.104008e+04  2.226500e+02  1.119149e+04  4.091840e+03  6.225290e+03\n",
      "  6.961430e+03  4.267160e+03  3.998350e+03  2.181150e+04  2.809900e+03\n",
      "  4.209770e+03  1.526838e+04  1.206729e+04  1.006046e+04  1.377474e+04\n",
      "  6.427100e+03  1.391836e+04  4.049513e+04  1.229093e+04  8.843930e+03\n",
      "  3.898701e+04  6.323818e+04  1.192888e+04  8.038680e+03  2.804650e+03\n",
      "  4.406240e+03  1.334795e+04  1.787210e+04  1.729482e+04  7.510370e+03\n",
      "  1.979526e+04  2.065207e+04  1.167409e+04  1.911214e+04  5.303550e+03\n",
      "  6.508000e+02  1.275751e+04  5.532860e+03  5.838860e+03  1.183047e+04\n",
      "  1.288267e+04  4.637100e+02  1.668290e+03  1.387762e+04  4.650280e+03\n",
      "  5.130650e+03  1.173575e+04  2.557040e+03  9.860550e+03  1.461477e+04\n",
      "  5.241030e+03  1.065220e+04  5.187000e+01  2.515290e+03  1.312610e+04\n",
      "  2.991540e+03  1.014108e+04  6.286420e+03  1.205590e+03  1.477551e+04\n",
      "  1.148431e+04  1.113586e+04  8.711790e+03  5.490880e+03  2.951954e+04\n",
      "  6.208590e+03  4.680750e+03  1.317592e+04  1.101275e+04  3.981230e+03\n",
      "  1.476370e+04  2.421570e+03  1.197628e+04  3.803160e+03  1.273468e+04\n",
      "  1.343031e+04  1.707477e+04  1.297222e+04  1.140260e+03  2.234073e+04\n",
      "  4.738200e+03  1.431200e+03  1.423910e+03  1.861443e+04  4.453950e+03\n",
      "  1.112555e+04  9.760600e+03  4.254440e+03  1.400000e-01  8.286490e+03\n",
      "  2.502310e+03  1.270160e+03  1.441943e+04  3.506007e+04  6.191640e+03\n",
      "  1.348540e+04  6.701650e+03  3.440990e+03  1.321908e+04  2.436886e+04\n",
      "  6.370230e+03  1.798548e+04  3.019863e+04  1.222370e+04  5.661390e+03\n",
      "  5.171190e+03  6.100750e+03  2.418971e+04  2.325720e+04  1.375690e+03\n",
      "  1.510235e+04  8.226670e+03  1.167326e+04  1.112800e+03  1.397838e+04\n",
      "  1.468123e+04  4.793780e+03  2.013375e+04  1.901175e+04  3.164633e+04\n",
      "  1.048324e+04  6.889480e+03  6.250900e+02  2.328673e+04  8.557700e+03\n",
      "  4.476000e+02  1.098992e+04  1.019505e+04  1.632740e+04  1.650474e+04\n",
      "  1.087350e+04  9.770410e+03  1.091940e+04  1.112333e+04  2.161409e+04\n",
      "  1.263798e+04  6.234500e+02  1.018520e+03  1.538727e+04  1.313340e+04\n",
      "  1.356610e+03  1.317701e+04  8.910450e+03  2.553360e+03  1.498142e+04\n",
      "  4.524760e+03  2.428190e+03  3.986634e+04  2.564009e+04  1.635140e+03\n",
      "  1.938164e+04  6.344260e+03  1.261769e+04  2.921000e+02  1.630044e+04\n",
      "  1.710184e+04  4.330080e+03  6.276100e+03  7.931310e+03  4.857740e+03\n",
      "  1.630484e+04  3.796259e+04  8.134100e+02  2.460813e+04  8.570000e+03\n",
      "  4.621521e+04  3.528330e+03  5.686920e+03  3.603126e+04  5.649010e+03\n",
      "  3.872030e+03  5.290220e+03  1.663376e+04  2.326972e+04  4.353980e+03\n",
      "  3.411267e+04  1.005567e+04  2.240890e+03  1.487205e+04  9.890060e+03\n",
      "  3.627900e+03  2.076720e+03  1.180723e+04  2.159870e+03  1.249414e+04\n",
      "  9.443000e+02  4.134770e+03  9.515300e+03  4.318906e+04  8.547110e+03\n",
      "  1.256237e+04  2.322630e+03  3.209106e+04  1.238694e+04  2.176100e+03\n",
      "  1.547270e+04  3.633645e+04  7.743070e+03  1.037219e+04  3.766990e+03\n",
      "  1.973295e+04  7.964040e+03  1.316661e+04  8.473170e+03  2.451235e+04\n",
      "  5.718800e+03  5.229870e+03  5.865252e+04  2.975560e+03  1.535312e+04\n",
      "  3.147210e+03  3.229450e+03  9.817640e+03  8.637720e+03  1.223918e+04\n",
      "  5.284510e+03  2.691240e+03  3.246460e+03  1.168856e+04  1.357880e+03\n",
      "  1.206886e+04  1.190354e+04  1.004894e+04  6.529720e+03  3.142310e+03\n",
      "  1.276530e+04  5.526310e+03  5.303380e+03  5.720050e+03  1.318341e+04\n",
      "  1.514604e+04  1.102891e+04  5.998040e+03  4.635190e+03  1.028718e+04\n",
      "  1.382239e+04  2.686000e+02  1.623764e+04  2.473661e+04  1.249926e+04\n",
      "  7.860400e+02  1.313992e+04  1.418285e+04  9.312880e+03  2.434989e+04\n",
      "  2.071100e+03  9.292410e+03  1.025463e+04  4.939400e+03  9.667310e+03\n",
      "  1.228930e+03  8.334240e+03  1.085761e+04  6.618438e+04  3.268000e+03\n",
      "  4.385030e+03  1.115913e+04  2.325970e+03  1.580322e+04  9.232630e+03\n",
      "  8.795940e+03  1.017617e+04  9.181260e+03  2.096609e+04  4.945940e+03\n",
      "  2.966180e+03  1.533534e+04  5.307660e+03  6.386750e+03  8.539070e+03\n",
      "  1.229644e+04  9.571860e+03  1.052870e+04  6.219500e+02  3.560670e+03\n",
      "  4.813450e+03  2.437527e+04  2.082510e+04  2.007244e+04  2.315993e+04\n",
      "  2.146958e+04  9.612550e+03  8.738090e+03  1.155878e+04  6.580280e+03\n",
      "  5.440710e+03  3.254860e+03  8.375970e+03  7.776190e+03  4.286460e+03\n",
      "  9.775220e+03  1.874593e+04  2.391313e+04  1.144710e+03  6.558750e+03\n",
      "  1.230768e+04  1.463098e+04  2.217794e+04  5.008820e+03  5.731790e+03\n",
      "  8.025350e+03  9.789690e+03  9.431090e+03  6.380960e+03  2.361590e+03\n",
      "  6.005910e+03  1.153533e+04  1.016397e+04  8.609610e+03  1.239676e+04\n",
      "  3.313769e+04  1.059655e+04  1.380945e+04  1.578444e+04  1.209406e+04\n",
      "  4.267220e+03  1.053987e+04  9.081780e+03  1.320250e+04  9.485720e+03\n",
      "  1.504600e+04  3.126400e+03  4.011370e+03  1.070620e+04  8.130670e+03\n",
      "  1.025816e+04  1.145667e+04  1.542865e+04  1.199580e+04  6.284567e+04\n",
      "  1.658000e+02  4.338269e+04  4.129083e+04  1.148736e+04  2.227671e+04\n",
      "  1.036479e+04  7.534180e+03  6.035520e+03  6.987400e+02  9.684060e+03\n",
      "  6.210960e+03  1.340897e+04  2.851300e+03  8.182570e+03  2.591200e+03\n",
      "  1.507449e+04  2.218689e+04  1.269635e+04  3.670759e+04  1.224745e+04\n",
      "  7.482480e+03  6.877640e+03  1.627335e+04  1.283794e+04  2.227900e+03\n",
      "  3.976950e+03  8.575580e+03  2.642520e+03  1.308058e+04  2.190241e+04\n",
      "  9.641840e+03  1.621051e+04  7.990020e+03  2.210800e+04  4.413650e+03\n",
      "  2.311094e+04  7.465260e+03  4.413845e+04  8.184050e+03  1.307361e+04\n",
      "  1.104260e+03  8.954410e+03  9.216480e+03  3.843450e+03  1.197855e+04\n",
      "  1.938257e+04  5.419900e+03  2.208760e+04  1.533120e+03  1.488987e+04\n",
      "  1.586743e+04  2.012180e+03  9.632400e+03  2.152715e+04  1.796253e+04\n",
      "  7.876290e+03  9.124600e+03  6.046790e+03  1.593252e+04  1.665736e+04\n",
      "  6.341140e+03  5.436680e+03  3.006400e+02  8.553210e+03]\n",
      "PY140G: EDUCATION-RELATED ALLOWANCES [ 0.000000e+00  4.723250e+03  4.213220e+03  2.161350e+03  1.395890e+03\n",
      "  3.563910e+03  2.653070e+03  9.255210e+03  1.637710e+03  4.977659e+04\n",
      "  1.233153e+04  7.141200e+03  3.983730e+03  1.548270e+03  3.999550e+03\n",
      "  2.380600e+02  7.715590e+03  1.459100e+02  1.025280e+03  3.288500e+02\n",
      "  2.533250e+03  5.796300e+02  8.389650e+03  5.895080e+03  3.202630e+03\n",
      "  1.314020e+03  2.631800e+03  3.749440e+03  1.387031e+04  2.295638e+04\n",
      "  2.162600e+02  4.249984e+04  1.265857e+04  1.645090e+03  4.267640e+03\n",
      "  4.235720e+03  4.774000e+01  4.214110e+03  1.300608e+04  5.947800e+02\n",
      "  2.433820e+03  1.264220e+03  3.900160e+03  2.001070e+03  2.368300e+03\n",
      "  5.300900e+02  1.505023e+04  4.746270e+03  6.488800e+02  4.431240e+03\n",
      "  1.243000e+01  1.330114e+04  2.007230e+03 -4.140010e+03  1.978600e+02\n",
      "  1.420966e+04  5.110100e+02  4.451000e+02  7.603560e+03  1.130790e+03\n",
      "  3.065470e+03  2.266996e+04  3.648650e+03  4.229050e+03  3.079820e+03\n",
      "  7.131900e+03  1.971614e+04  6.203310e+03  2.431420e+03  1.020940e+03\n",
      "  2.268200e+02  6.451670e+03  2.823880e+03  1.894092e+04  5.932190e+03\n",
      "  1.471320e+03  1.252260e+03  1.898380e+03  7.779650e+03  4.593520e+03\n",
      "  1.897790e+03  5.800700e+02  6.855500e+02  3.170940e+03  2.350490e+03\n",
      "  2.125348e+04  5.236880e+03  5.391830e+03  6.791750e+03  4.054280e+03\n",
      "  4.360000e+03  1.759361e+04  6.318600e+03  3.503980e+03  1.701570e+04\n",
      "  6.006060e+03  2.219618e+04  6.396810e+03  4.858500e+02  6.856680e+03\n",
      "  5.109900e+02  2.833560e+03  6.830740e+03  2.792110e+03  6.268570e+03\n",
      "  2.595920e+03  6.402700e+03  1.799504e+04  1.456529e+04  1.123468e+04\n",
      "  1.513420e+04  6.287260e+03  3.898980e+03  2.856100e+03  1.690190e+03\n",
      "  2.037592e+04  7.669070e+03  1.105306e+04  8.099560e+03  3.364150e+03\n",
      "  9.385490e+03  5.804600e+02  1.874300e+02  1.162700e+02  4.422960e+03\n",
      "  3.636780e+03  8.146930e+03  2.863590e+03  3.628700e+02  4.277400e+02\n",
      "  3.471120e+03  1.378097e+04  4.641490e+03  1.774775e+04  4.957430e+03\n",
      "  2.466089e+04  3.344740e+03  2.048710e+03  5.678500e+02  6.644700e+02\n",
      "  6.812400e+02  4.283810e+03  1.589460e+03  2.089660e+03  1.296700e+02\n",
      "  3.099490e+03  1.386910e+04  1.348992e+04  1.144978e+04  5.959800e+02\n",
      "  1.882000e+02  1.263196e+04  1.943876e+04  4.460390e+03  3.306000e+02\n",
      "  8.368130e+03  2.368231e+04  3.678420e+03  1.444700e+02  2.760800e+03\n",
      "  8.918000e+01  9.909770e+03  2.447100e+02  2.672285e+04  4.825118e+04\n",
      "  1.220969e+04  8.664710e+03  9.715720e+03  6.154130e+03  1.188814e+04\n",
      "  1.416420e+03  6.970130e+03  1.010980e+03  1.606803e+04  8.054000e+01\n",
      "  7.267200e+02  5.086750e+03  1.232016e+04  1.254898e+04  6.963480e+03\n",
      "  4.142400e+02  1.717060e+03  2.971700e+02  1.520640e+03  9.784920e+03\n",
      "  2.048510e+03  1.102700e+02  2.374700e+02  3.010075e+04  1.241130e+03\n",
      "  2.613650e+03  1.243030e+03  3.898700e+02  2.690070e+03  1.370262e+04\n",
      "  1.203058e+04  5.458890e+03  5.975350e+03  7.628640e+03  6.997790e+03\n",
      "  2.265760e+03  1.187303e+04  1.341230e+03  7.030700e+02  6.384070e+03\n",
      "  4.366813e+04  1.225680e+03  1.436811e+04  3.058430e+03  5.359560e+03\n",
      "  4.205940e+03  2.190490e+03  4.578600e+03  5.016060e+03  5.843750e+03\n",
      "  4.500390e+03  4.272120e+03  1.161508e+04  1.106799e+04  4.948100e+02\n",
      "  1.038173e+04  1.428507e+04  4.450070e+03  2.367100e+03  5.805640e+03\n",
      "  4.566260e+03  5.321360e+03  2.458800e+02  1.032380e+03  8.341930e+03\n",
      "  2.901466e+04  3.027749e+04  5.823800e+02  6.415020e+03  1.355400e+04\n",
      "  5.309000e+01  2.296260e+03  8.674800e+02  1.066984e+04  8.565940e+03\n",
      "  4.896600e+02  7.414190e+03  2.320460e+03  8.220600e+03  7.566270e+03\n",
      "  2.752180e+03  3.690730e+03  1.429173e+04  2.019257e+04  1.002032e+04\n",
      "  6.286400e+03  3.373220e+03  1.034000e+03  1.014400e+02  7.627260e+03\n",
      "  4.460490e+03  3.845700e+03  2.621590e+03  1.239508e+04  6.086300e+02\n",
      "  6.184730e+03  2.992192e+04  1.520685e+04  6.356730e+03  6.170500e+02\n",
      "  6.139250e+03  1.491054e+04  8.899200e+02  1.005602e+04  2.852800e+02\n",
      "  1.347267e+04  3.255470e+03  1.010790e+03  1.710930e+03  4.233480e+03\n",
      "  1.219140e+03  3.962200e+03  1.284200e+02  7.115700e+02  7.302800e+02\n",
      "  1.023690e+03  2.111900e+02  1.689660e+03  2.600000e+03  3.151490e+03\n",
      "  1.178300e+03  5.404700e+02  3.018570e+03  9.375000e+01  1.774470e+03\n",
      "  1.385976e+04  6.749420e+03  1.627100e+03  3.774920e+03  1.386150e+03\n",
      "  1.496522e+04  1.145100e+03  5.680600e+02  1.522450e+03  4.221260e+03\n",
      "  6.515170e+03  1.069600e+03  4.166300e+02  7.364380e+03  2.419910e+03\n",
      "  8.776740e+03  8.402400e+02  4.186800e+02  3.503700e+03  3.624060e+03\n",
      "  3.816020e+04  6.028490e+04  4.862600e+02  1.222570e+03  6.314000e+01\n",
      "  2.818861e+04  1.839830e+03  9.532800e+02  9.395320e+03  4.267340e+03\n",
      "  7.793600e+02  2.703890e+03  3.475990e+03  1.942293e+04  4.986500e+02\n",
      "  2.737810e+03  1.867800e+02  1.379170e+03  1.762000e+02  3.202070e+03\n",
      "  1.869200e+02  8.147200e+02  3.724710e+03  2.086425e+04  8.515000e+02\n",
      "  3.291100e+03  2.810390e+03  2.070810e+03  3.037534e+04  1.365576e+04\n",
      "  2.764170e+04  4.744400e+02  6.979880e+03  2.451630e+03  3.529050e+03\n",
      "  3.284680e+03  5.654026e+04  4.678940e+03  3.408020e+03  2.125380e+03\n",
      "  1.804490e+03  5.017710e+03  6.124270e+03  4.191760e+03  2.225710e+03\n",
      "  4.759200e+02  1.433173e+04  2.005870e+03  1.405830e+03  1.840920e+03\n",
      "  7.061260e+03  1.471640e+03  1.355200e+02  2.786530e+03  2.521590e+03\n",
      "  7.122560e+03  5.561920e+03  5.486790e+03  1.610130e+03  3.597620e+03\n",
      "  2.709000e+02  5.266840e+03  3.920530e+03  3.280640e+03  1.621276e+04\n",
      "  4.312300e+02  3.749230e+03  2.577300e+02  3.245170e+03  3.913290e+03\n",
      "  7.652400e+02  8.916610e+03  2.256540e+03  2.918100e+02  7.392190e+03\n",
      "  8.470550e+03  2.525700e+03  1.370240e+03  1.367000e+01  2.019760e+03\n",
      "  5.017600e+02  5.716690e+03  1.014976e+04  5.125670e+03  3.165000e+01\n",
      "  6.090900e+02  2.000970e+03  1.203699e+04  1.796240e+03  5.303200e+02\n",
      "  5.755800e+02  6.086480e+03  7.870300e+02  6.848000e+01  1.142807e+04\n",
      "  4.392660e+03  2.919590e+03  3.611000e+02  1.531740e+03  2.764840e+03\n",
      "  1.576402e+04  2.480020e+03  5.207110e+03  1.926440e+03  3.797740e+03\n",
      "  5.778340e+03  9.381300e+02  5.817600e+02  1.786790e+03  5.138700e+02\n",
      "  8.581900e+02  1.281800e+03  1.132540e+03  9.805400e+02  6.003930e+03\n",
      "  6.417990e+03  1.763000e+01  5.085000e+01  8.559600e+02]\n"
     ]
    }
   ],
   "source": [
    "for x in range(len(job)):\n",
    "    print(job[x], ppp[job[x]].unique())\n",
    "## all non booleans"
   ]
  },
  {
   "cell_type": "code",
   "execution_count": 122,
   "metadata": {
    "scrolled": true
   },
   "outputs": [
    {
     "data": {
      "text/html": [
       "<div>\n",
       "<style scoped>\n",
       "    .dataframe tbody tr th:only-of-type {\n",
       "        vertical-align: middle;\n",
       "    }\n",
       "\n",
       "    .dataframe tbody tr th {\n",
       "        vertical-align: top;\n",
       "    }\n",
       "\n",
       "    .dataframe thead th {\n",
       "        text-align: right;\n",
       "    }\n",
       "</style>\n",
       "<table border=\"1\" class=\"dataframe\">\n",
       "  <thead>\n",
       "    <tr style=\"text-align: right;\">\n",
       "      <th></th>\n",
       "      <th>PY010G: EMPLOYEE CASH OR NEAR CASH INCOME</th>\n",
       "      <th>PY020G: NON-CASH EMPLOYEE INCOME</th>\n",
       "      <th>PY021G: COMPANY CAR</th>\n",
       "      <th>PY035G: CONTRIBUTIONS TO INDIVIDUAL PRIVATE PENSION PLANS</th>\n",
       "      <th>PY050G: CASH BENEFITS OR LOSSES FROM SELF-EMPLOYMENT</th>\n",
       "      <th>PY080G: PENSION FROM INDIVIDUAL PRIVATE PLANS</th>\n",
       "      <th>PY090G: UNEMPLOYMENT BENEFITS</th>\n",
       "      <th>PY100G: OLD-AGE BENEFITS</th>\n",
       "      <th>PY110G: SURVIVOR’ BENEFITS</th>\n",
       "      <th>PY120G: SICKNESS BENEFITS</th>\n",
       "      <th>PY130G: DISABILITY BENEFITS</th>\n",
       "      <th>PY140G: EDUCATION-RELATED ALLOWANCES</th>\n",
       "    </tr>\n",
       "  </thead>\n",
       "  <tbody>\n",
       "    <tr>\n",
       "      <td>count</td>\n",
       "      <td>21809.000000</td>\n",
       "      <td>21809.000000</td>\n",
       "      <td>21809.000000</td>\n",
       "      <td>21809.000000</td>\n",
       "      <td>21809.000000</td>\n",
       "      <td>21809.000000</td>\n",
       "      <td>21809.000000</td>\n",
       "      <td>21809.000000</td>\n",
       "      <td>21809.000000</td>\n",
       "      <td>21809.000000</td>\n",
       "      <td>21809.000000</td>\n",
       "      <td>21809.000000</td>\n",
       "    </tr>\n",
       "    <tr>\n",
       "      <td>mean</td>\n",
       "      <td>16018.567489</td>\n",
       "      <td>112.351002</td>\n",
       "      <td>67.514798</td>\n",
       "      <td>709.092301</td>\n",
       "      <td>1313.109169</td>\n",
       "      <td>85.883489</td>\n",
       "      <td>736.151532</td>\n",
       "      <td>4616.630356</td>\n",
       "      <td>285.063136</td>\n",
       "      <td>76.166204</td>\n",
       "      <td>341.339105</td>\n",
       "      <td>118.492753</td>\n",
       "    </tr>\n",
       "    <tr>\n",
       "      <td>std</td>\n",
       "      <td>24291.143001</td>\n",
       "      <td>901.280217</td>\n",
       "      <td>660.946475</td>\n",
       "      <td>1602.992490</td>\n",
       "      <td>10523.460984</td>\n",
       "      <td>1464.875862</td>\n",
       "      <td>4524.862313</td>\n",
       "      <td>10825.644500</td>\n",
       "      <td>2222.565891</td>\n",
       "      <td>1042.797375</td>\n",
       "      <td>2606.270912</td>\n",
       "      <td>1419.690758</td>\n",
       "    </tr>\n",
       "    <tr>\n",
       "      <td>min</td>\n",
       "      <td>-3662.860000</td>\n",
       "      <td>0.000000</td>\n",
       "      <td>-54.470000</td>\n",
       "      <td>0.000000</td>\n",
       "      <td>-40127.630000</td>\n",
       "      <td>0.000000</td>\n",
       "      <td>-3932.450000</td>\n",
       "      <td>-309.730000</td>\n",
       "      <td>-3981.770000</td>\n",
       "      <td>-292.460000</td>\n",
       "      <td>-3719.140000</td>\n",
       "      <td>-4140.010000</td>\n",
       "    </tr>\n",
       "    <tr>\n",
       "      <td>25%</td>\n",
       "      <td>0.000000</td>\n",
       "      <td>0.000000</td>\n",
       "      <td>0.000000</td>\n",
       "      <td>0.000000</td>\n",
       "      <td>0.000000</td>\n",
       "      <td>0.000000</td>\n",
       "      <td>0.000000</td>\n",
       "      <td>0.000000</td>\n",
       "      <td>0.000000</td>\n",
       "      <td>0.000000</td>\n",
       "      <td>0.000000</td>\n",
       "      <td>0.000000</td>\n",
       "    </tr>\n",
       "    <tr>\n",
       "      <td>50%</td>\n",
       "      <td>3655.280000</td>\n",
       "      <td>0.000000</td>\n",
       "      <td>0.000000</td>\n",
       "      <td>0.000000</td>\n",
       "      <td>0.000000</td>\n",
       "      <td>0.000000</td>\n",
       "      <td>0.000000</td>\n",
       "      <td>0.000000</td>\n",
       "      <td>0.000000</td>\n",
       "      <td>0.000000</td>\n",
       "      <td>0.000000</td>\n",
       "      <td>0.000000</td>\n",
       "    </tr>\n",
       "    <tr>\n",
       "      <td>75%</td>\n",
       "      <td>27804.530000</td>\n",
       "      <td>0.000000</td>\n",
       "      <td>0.000000</td>\n",
       "      <td>876.000000</td>\n",
       "      <td>0.000000</td>\n",
       "      <td>0.000000</td>\n",
       "      <td>0.000000</td>\n",
       "      <td>1858.630000</td>\n",
       "      <td>0.000000</td>\n",
       "      <td>0.000000</td>\n",
       "      <td>0.000000</td>\n",
       "      <td>0.000000</td>\n",
       "    </tr>\n",
       "    <tr>\n",
       "      <td>max</td>\n",
       "      <td>597559.990000</td>\n",
       "      <td>19854.000000</td>\n",
       "      <td>27035.030000</td>\n",
       "      <td>75000.000000</td>\n",
       "      <td>496542.820000</td>\n",
       "      <td>104613.480000</td>\n",
       "      <td>223825.010000</td>\n",
       "      <td>188119.910000</td>\n",
       "      <td>71480.460000</td>\n",
       "      <td>41425.710000</td>\n",
       "      <td>95899.040000</td>\n",
       "      <td>60284.900000</td>\n",
       "    </tr>\n",
       "  </tbody>\n",
       "</table>\n",
       "</div>"
      ],
      "text/plain": [
       "       PY010G: EMPLOYEE CASH OR NEAR CASH INCOME  \\\n",
       "count                               21809.000000   \n",
       "mean                                16018.567489   \n",
       "std                                 24291.143001   \n",
       "min                                 -3662.860000   \n",
       "25%                                     0.000000   \n",
       "50%                                  3655.280000   \n",
       "75%                                 27804.530000   \n",
       "max                                597559.990000   \n",
       "\n",
       "       PY020G: NON-CASH EMPLOYEE INCOME  PY021G: COMPANY CAR  \\\n",
       "count                      21809.000000         21809.000000   \n",
       "mean                         112.351002            67.514798   \n",
       "std                          901.280217           660.946475   \n",
       "min                            0.000000           -54.470000   \n",
       "25%                            0.000000             0.000000   \n",
       "50%                            0.000000             0.000000   \n",
       "75%                            0.000000             0.000000   \n",
       "max                        19854.000000         27035.030000   \n",
       "\n",
       "       PY035G: CONTRIBUTIONS TO INDIVIDUAL PRIVATE PENSION PLANS  \\\n",
       "count                                       21809.000000           \n",
       "mean                                          709.092301           \n",
       "std                                          1602.992490           \n",
       "min                                             0.000000           \n",
       "25%                                             0.000000           \n",
       "50%                                             0.000000           \n",
       "75%                                           876.000000           \n",
       "max                                         75000.000000           \n",
       "\n",
       "       PY050G: CASH BENEFITS OR LOSSES FROM SELF-EMPLOYMENT  \\\n",
       "count                                       21809.000000      \n",
       "mean                                         1313.109169      \n",
       "std                                         10523.460984      \n",
       "min                                        -40127.630000      \n",
       "25%                                             0.000000      \n",
       "50%                                             0.000000      \n",
       "75%                                             0.000000      \n",
       "max                                        496542.820000      \n",
       "\n",
       "       PY080G: PENSION FROM INDIVIDUAL PRIVATE PLANS  \\\n",
       "count                                   21809.000000   \n",
       "mean                                       85.883489   \n",
       "std                                      1464.875862   \n",
       "min                                         0.000000   \n",
       "25%                                         0.000000   \n",
       "50%                                         0.000000   \n",
       "75%                                         0.000000   \n",
       "max                                    104613.480000   \n",
       "\n",
       "       PY090G: UNEMPLOYMENT BENEFITS  PY100G: OLD-AGE BENEFITS  \\\n",
       "count                   21809.000000              21809.000000   \n",
       "mean                      736.151532               4616.630356   \n",
       "std                      4524.862313              10825.644500   \n",
       "min                     -3932.450000               -309.730000   \n",
       "25%                         0.000000                  0.000000   \n",
       "50%                         0.000000                  0.000000   \n",
       "75%                         0.000000               1858.630000   \n",
       "max                    223825.010000             188119.910000   \n",
       "\n",
       "       PY110G: SURVIVOR’ BENEFITS  PY120G: SICKNESS BENEFITS  \\\n",
       "count                21809.000000               21809.000000   \n",
       "mean                   285.063136                  76.166204   \n",
       "std                   2222.565891                1042.797375   \n",
       "min                  -3981.770000                -292.460000   \n",
       "25%                      0.000000                   0.000000   \n",
       "50%                      0.000000                   0.000000   \n",
       "75%                      0.000000                   0.000000   \n",
       "max                  71480.460000               41425.710000   \n",
       "\n",
       "       PY130G: DISABILITY BENEFITS  PY140G: EDUCATION-RELATED ALLOWANCES  \n",
       "count                 21809.000000                          21809.000000  \n",
       "mean                    341.339105                            118.492753  \n",
       "std                    2606.270912                           1419.690758  \n",
       "min                   -3719.140000                          -4140.010000  \n",
       "25%                       0.000000                              0.000000  \n",
       "50%                       0.000000                              0.000000  \n",
       "75%                       0.000000                              0.000000  \n",
       "max                   95899.040000                          60284.900000  "
      ]
     },
     "execution_count": 122,
     "metadata": {},
     "output_type": "execute_result"
    }
   ],
   "source": [
    "ppp[job].describe()"
   ]
  },
  {
   "cell_type": "code",
   "execution_count": null,
   "metadata": {},
   "outputs": [],
   "source": [
    "\"\"\"\n",
    "Comment:\n",
    "- strange negative values\n",
    "- imbalanced datas (since 75%-quartile is often 0)\n",
    "\n",
    "ideas: \n",
    "- check if it could be a good idea to generate booleans\n",
    "- check if it could be a good idea to generate 1 column for \"benefits\"\n",
    "\n",
    "\n",
    "\"\"\""
   ]
  },
  {
   "cell_type": "markdown",
   "metadata": {},
   "source": [
    "###### [0] PY010G: EMPLOYEE CASH OR NEAR CASH INCOME'"
   ]
  },
  {
   "cell_type": "code",
   "execution_count": null,
   "metadata": {},
   "outputs": [],
   "source": [
    "\"\"\"\n",
    "INCOME (Gross personal income, total and components at personal level)\n",
    "Gross means that neither taxes nor social contributions have been deducted at source. \n",
    "0 no income\n",
    "1 - 999999.99 income (national currency)  (Euro)\n",
    "\n",
    "The employee income is broken down into: \n",
    "(1) Gross employee cash or near cash income (PY010G) : It refers to the monetary component of the compensation of employees in cash payable by an \n",
    "employer to an employee.\n",
    "(2) Gross non-cash employee income (PY020G) It refers to the non-monetary income components which may be provided free or at reduced \n",
    "price to an employee as part of the employment package by an employer\n",
    "(3) Employers’ social insurance contributions (PY030G) \n",
    "\"\"\"\n",
    "## this is a very important feature\n",
    "\n",
    "## check negatives\n",
    "ppp[ppp[job[0]]<0].shape[0] ## --> 12 negative values; drop\n",
    "ppp= ppp[ppp[job[0]]>=0]\n",
    "ppp.shape[0]"
   ]
  },
  {
   "cell_type": "code",
   "execution_count": 183,
   "metadata": {},
   "outputs": [
    {
     "name": "stdout",
     "output_type": "stream",
     "text": [
      "69559.5\n",
      "43\n"
     ]
    },
    {
     "data": {
      "image/png": "[encoded data removed]",
      "text/plain": [
       "<Figure size 432x288 with 1 Axes>"
      ]
     },
     "metadata": {
      "needs_background": "light"
     },
     "output_type": "display_data"
    }
   ],
   "source": [
    "## check outliers\n",
    "Q1 = ppp[job[0]].quantile(0.25)\n",
    "Q3 = ppp[job[0]].quantile(0.75)\n",
    "IQR = Q3 - Q1\n",
    "\n",
    "print((Q3 + 1.5 * IQR))\n",
    "#outlier = ppp[~(ppp[job[0]]> (Q3 + 1.5 * IQR))]\n",
    "# ppp.shape[0]-outlier.shape[0]  --> too many outliers like that, and also, the limit of 70'000 Euros for declaring saleries as outliers is too small\n",
    "\n",
    "### set limit for outliers at 150'000 Euro (based on my knowledge)\n",
    "outlier = ppp[~(ppp[job[0]]> (150000))]\n",
    "print(ppp.shape[0]-outlier.shape[0])\n",
    "\n",
    "outlier[job[0]].hist()\n",
    "ppp = outlier"
   ]
  },
  {
   "cell_type": "markdown",
   "metadata": {},
   "source": [
    "##### [1] 'PY020G: NON-CASH EMPLOYEE INCOME"
   ]
  },
  {
   "cell_type": "code",
   "execution_count": 194,
   "metadata": {},
   "outputs": [
    {
     "data": {
      "text/plain": [
       "0"
      ]
     },
     "execution_count": 194,
     "metadata": {},
     "output_type": "execute_result"
    },
    {
     "data": {
      "image/png": "[encoded data removed]",
      "text/plain": [
       "<Figure size 432x288 with 1 Axes>"
      ]
     },
     "metadata": {
      "needs_background": "light"
     },
     "output_type": "display_data"
    }
   ],
   "source": [
    "\"\"\"\n",
    "1 - 999999.99 income (national currency) \n",
    "0 no income \n",
    "\n",
    "\"\"\"\n",
    "\n",
    "ppp[job[1]].value_counts()\n",
    "ppp[job[1]].hist()\n",
    "\n",
    "## i add this to the previous feature income, because its part of income and most have 0...\n",
    "\n",
    "ppp[job[0]] =ppp[job[0]] +ppp[job[1]]\n",
    "\n",
    "### check, if i have generated new outliers or nans\n",
    "outlier = ppp[(ppp[job[0]]> (150000))]\n",
    "outlier.shape # --> no new outliers\n",
    "ppp[job[0]].isna().sum() ### no new nans"
   ]
  },
  {
   "cell_type": "code",
   "execution_count": 212,
   "metadata": {},
   "outputs": [],
   "source": [
    "## drop column PY020G: NON-CASH EMPLOYEE INCOME in ppp and rename PY010G\n",
    "ppp.drop('PY020G: NON-CASH EMPLOYEE INCOME', axis=1, inplace = True)\n",
    "\n",
    "ppp=ppp.rename(columns={'PY010G: EMPLOYEE CASH OR NEAR CASH INCOME':'PY010G_PY020G: EMPLOYEE INCOME'})\n",
    "\n",
    "job= ['PY010G_PY020G: EMPLOYEE INCOME',\n",
    "       '0', 'PY021G: COMPANY CAR',\n",
    "       'PY035G: CONTRIBUTIONS TO INDIVIDUAL PRIVATE PENSION PLANS',\n",
    "       'PY050G: CASH BENEFITS OR LOSSES FROM SELF-EMPLOYMENT',\n",
    "       'PY080G: PENSION FROM INDIVIDUAL PRIVATE PLANS',\n",
    "       'PY090G: UNEMPLOYMENT BENEFITS', 'PY100G: OLD-AGE BENEFITS',\n",
    "       'PY110G: SURVIVOR’ BENEFITS', 'PY120G: SICKNESS BENEFITS',\n",
    "       'PY130G: DISABILITY BENEFITS', 'PY140G: EDUCATION-RELATED ALLOWANCES']"
   ]
  },
  {
   "cell_type": "markdown",
   "metadata": {},
   "source": [
    "###### [2] 'PY021G: COMPANY CAR'"
   ]
  },
  {
   "cell_type": "code",
   "execution_count": null,
   "metadata": {},
   "outputs": [],
   "source": [
    "\"\"\"\n",
    "1 - 999999.99 income (national currency)\n",
    "0 no income \n",
    "INCOME (Gross personal income, total and components at personal level) \n",
    "part of Income --> add to job[0]\n",
    "\"\"\"\n",
    "## i add this to the previous feature income, because its part of income and most have 0...\n",
    "ppp[job[0]] =ppp[job[0]] +ppp[job[2]]\n",
    "ppp.drop(job[2], axis=1, inplace = True)"
   ]
  },
  {
   "cell_type": "code",
   "execution_count": 292,
   "metadata": {},
   "outputs": [],
   "source": [
    "ppp=ppp.rename(columns={'PY010G_PY020G: EMPLOYEE INCOME':'PY010G_PY020G_PY021G: EMPLOYEE INCOME'})\n",
    "job= ['PY010G_PY020G_PY021G: EMPLOYEE INCOME',\n",
    "       '0', '0',\n",
    "       'PY035G: CONTRIBUTIONS TO INDIVIDUAL PRIVATE PENSION PLANS',\n",
    "       'PY050G: CASH BENEFITS OR LOSSES FROM SELF-EMPLOYMENT',\n",
    "       'PY080G: PENSION FROM INDIVIDUAL PRIVATE PLANS',\n",
    "       'PY090G: UNEMPLOYMENT BENEFITS', 'PY100G: OLD-AGE BENEFITS',\n",
    "       'PY110G: SURVIVOR’ BENEFITS', 'PY120G: SICKNESS BENEFITS',\n",
    "       'PY130G: DISABILITY BENEFITS', 'PY140G: EDUCATION-RELATED ALLOWANCES']"
   ]
  },
  {
   "cell_type": "markdown",
   "metadata": {},
   "source": [
    "###### [3] 'PY035G: CONTRIBUTIONS TO INDIVIDUAL PRIVATE PENSION PLANS'"
   ]
  },
  {
   "cell_type": "code",
   "execution_count": 241,
   "metadata": {},
   "outputs": [
    {
     "data": {
      "text/plain": [
       "0.5062057552633998"
      ]
     },
     "execution_count": 241,
     "metadata": {},
     "output_type": "execute_result"
    }
   ],
   "source": [
    "\"\"\"\n",
    "Contributions made, during the income reference period, to individual private pension plans \n",
    "refers to the pensions policies taken out by individual households on their own initiative and \n",
    "for their own benefit, independently of their employers or government and outside any social \n",
    "insurance scheme. \n",
    "1 - 999999.99 amount (national currency) \n",
    "0 no contribution \n",
    "\"\"\"\n",
    "\n",
    "ppp[ppp[job[3]]==0].shape[0]/ppp.shape[0]\n",
    "\n",
    "# remark: regarding the content, i think this is not a very important variable. However, no misssings, no imbalancing --> keep it s"
   ]
  },
  {
   "cell_type": "markdown",
   "metadata": {},
   "source": [
    "###### [4]  'PY050G: CASH BENEFITS OR LOSSES FROM SELF-EMPLOYMENT'"
   ]
  },
  {
   "cell_type": "code",
   "execution_count": null,
   "metadata": {},
   "outputs": [],
   "source": [
    "\"\"\"\n",
    "Self-employment income is defined as the income received, during the income reference \n",
    "period, by individuals, for themselves or in respect of their family members, as a result of \n",
    "their current or former involvement in self-employment jobs. \n",
    "\n",
    "1 - 999999.99 benefits \n",
    "-999999.99 - -1 losses \n",
    "0 no income\n",
    "\"\"\"\n",
    "## i add this to the previous feature income, because it doesnt matter if the income is from self- employed or job; this divergence i\n",
    "ppp[job[0]] =ppp[job[0]] +ppp[job[4]]\n",
    "ppp.drop(job[4], axis=1, inplace = True)\n",
    "\n"
   ]
  },
  {
   "cell_type": "code",
   "execution_count": 296,
   "metadata": {},
   "outputs": [],
   "source": [
    "ppp=ppp.rename(columns={'PY010G_PY020G_PY021G: EMPLOYEE INCOME':'PY010G_PY020G_PY021G_PY050G: EMPLOYEE INCOME'})\n",
    "job= ['PY010G_PY020G_PY021G_PY050G: EMPLOYEE INCOME',\n",
    "       '0', '0',\n",
    "       'PY035G: CONTRIBUTIONS TO INDIVIDUAL PRIVATE PENSION PLANS',\n",
    "       '0',\n",
    "       'PY080G: PENSION FROM INDIVIDUAL PRIVATE PLANS',\n",
    "       'PY090G: UNEMPLOYMENT BENEFITS', 'PY100G: OLD-AGE BENEFITS',\n",
    "       'PY110G: SURVIVOR’ BENEFITS', 'PY120G: SICKNESS BENEFITS',\n",
    "       'PY130G: DISABILITY BENEFITS', 'PY140G: EDUCATION-RELATED ALLOWANCES']"
   ]
  },
  {
   "cell_type": "markdown",
   "metadata": {},
   "source": [
    "###### [5]  ''PY080G: PENSION FROM INDIVIDUAL PRIVATE PLANS'"
   ]
  },
  {
   "cell_type": "code",
   "execution_count": 279,
   "metadata": {},
   "outputs": [
    {
     "name": "stdout",
     "output_type": "stream",
     "text": [
      "PY080G: PENSION FROM INDIVIDUAL PRIVATE PLANS\n"
     ]
    },
    {
     "data": {
      "text/plain": [
       "<matplotlib.axes._subplots.AxesSubplot at 0x21c75ca03c8>"
      ]
     },
     "execution_count": 279,
     "metadata": {},
     "output_type": "execute_result"
    },
    {
     "data": {
      "image/png": "[encoded data removed]",
      "text/plain": [
       "<Figure size 432x288 with 1 Axes>"
      ]
     },
     "metadata": {
      "needs_background": "light"
     },
     "output_type": "display_data"
    }
   ],
   "source": [
    "\"\"\" \n",
    "[5]  ''PY080G: PENSION FROM INDIVIDUAL PRIVATE PLANS'\n",
    "Regular pensions from private plans (other than those covered under ESSPROS) refer to \n",
    "pensions and annuities received, during the income reference period, in the form of interest or \n",
    "dividend income from individual private insurance plans, i.e. fully organised schemes where \n",
    "contributions are at the discretion of the contributor independently of their employers or \n",
    "government.\n",
    "\"\"\"\n",
    "print(job[5])\n",
    "#ppp[job[5]].hist()\n",
    "\n",
    "ppp[ppp[job[5]]>0][job[5]].hist()\n",
    "\n",
    "### keep all, even we have outliers --> scaling befor ml"
   ]
  },
  {
   "cell_type": "code",
   "execution_count": null,
   "metadata": {},
   "outputs": [],
   "source": [
    "###### [6:10] 'Social benefits in euro'\n",
    "\"\"\"\n",
    "Social benefits1 are defined as current transfers received during the income reference period2 \n",
    "by households intended to relieve them from the financial burden of a number of risk or \n",
    "needs, made through collectively organised schemes, or outside such schemes by government \n",
    "units and NPISHs.\n",
    "\"\"\"\n",
    " "
   ]
  },
  {
   "cell_type": "code",
   "execution_count": 257,
   "metadata": {
    "scrolled": true
   },
   "outputs": [
    {
     "data": {
      "text/html": [
       "<div>\n",
       "<style scoped>\n",
       "    .dataframe tbody tr th:only-of-type {\n",
       "        vertical-align: middle;\n",
       "    }\n",
       "\n",
       "    .dataframe tbody tr th {\n",
       "        vertical-align: top;\n",
       "    }\n",
       "\n",
       "    .dataframe thead th {\n",
       "        text-align: right;\n",
       "    }\n",
       "</style>\n",
       "<table border=\"1\" class=\"dataframe\">\n",
       "  <thead>\n",
       "    <tr style=\"text-align: right;\">\n",
       "      <th></th>\n",
       "      <th>PY090G: UNEMPLOYMENT BENEFITS</th>\n",
       "      <th>PY100G: OLD-AGE BENEFITS</th>\n",
       "      <th>PY110G: SURVIVOR’ BENEFITS</th>\n",
       "      <th>PY120G: SICKNESS BENEFITS</th>\n",
       "      <th>PY130G: DISABILITY BENEFITS</th>\n",
       "      <th>PY140G: EDUCATION-RELATED ALLOWANCES</th>\n",
       "    </tr>\n",
       "  </thead>\n",
       "  <tbody>\n",
       "    <tr>\n",
       "      <td>count</td>\n",
       "      <td>21754.000000</td>\n",
       "      <td>21754.000000</td>\n",
       "      <td>21754.000000</td>\n",
       "      <td>21754.000000</td>\n",
       "      <td>21754.000000</td>\n",
       "      <td>21754.000000</td>\n",
       "    </tr>\n",
       "    <tr>\n",
       "      <td>mean</td>\n",
       "      <td>738.174071</td>\n",
       "      <td>4628.316685</td>\n",
       "      <td>285.783853</td>\n",
       "      <td>76.372217</td>\n",
       "      <td>342.517266</td>\n",
       "      <td>118.792335</td>\n",
       "    </tr>\n",
       "    <tr>\n",
       "      <td>std</td>\n",
       "      <td>4530.369112</td>\n",
       "      <td>10836.822939</td>\n",
       "      <td>2225.327591</td>\n",
       "      <td>1044.104932</td>\n",
       "      <td>2609.295781</td>\n",
       "      <td>1421.471870</td>\n",
       "    </tr>\n",
       "    <tr>\n",
       "      <td>min</td>\n",
       "      <td>-3932.450000</td>\n",
       "      <td>0.000000</td>\n",
       "      <td>-3981.770000</td>\n",
       "      <td>0.000000</td>\n",
       "      <td>0.000000</td>\n",
       "      <td>-4140.010000</td>\n",
       "    </tr>\n",
       "    <tr>\n",
       "      <td>25%</td>\n",
       "      <td>0.000000</td>\n",
       "      <td>0.000000</td>\n",
       "      <td>0.000000</td>\n",
       "      <td>0.000000</td>\n",
       "      <td>0.000000</td>\n",
       "      <td>0.000000</td>\n",
       "    </tr>\n",
       "    <tr>\n",
       "      <td>50%</td>\n",
       "      <td>0.000000</td>\n",
       "      <td>0.000000</td>\n",
       "      <td>0.000000</td>\n",
       "      <td>0.000000</td>\n",
       "      <td>0.000000</td>\n",
       "      <td>0.000000</td>\n",
       "    </tr>\n",
       "    <tr>\n",
       "      <td>75%</td>\n",
       "      <td>0.000000</td>\n",
       "      <td>1918.395000</td>\n",
       "      <td>0.000000</td>\n",
       "      <td>0.000000</td>\n",
       "      <td>0.000000</td>\n",
       "      <td>0.000000</td>\n",
       "    </tr>\n",
       "    <tr>\n",
       "      <td>max</td>\n",
       "      <td>223825.010000</td>\n",
       "      <td>188119.910000</td>\n",
       "      <td>71480.460000</td>\n",
       "      <td>41425.710000</td>\n",
       "      <td>95899.040000</td>\n",
       "      <td>60284.900000</td>\n",
       "    </tr>\n",
       "  </tbody>\n",
       "</table>\n",
       "</div>"
      ],
      "text/plain": [
       "       PY090G: UNEMPLOYMENT BENEFITS  PY100G: OLD-AGE BENEFITS  \\\n",
       "count                   21754.000000              21754.000000   \n",
       "mean                      738.174071               4628.316685   \n",
       "std                      4530.369112              10836.822939   \n",
       "min                     -3932.450000                  0.000000   \n",
       "25%                         0.000000                  0.000000   \n",
       "50%                         0.000000                  0.000000   \n",
       "75%                         0.000000               1918.395000   \n",
       "max                    223825.010000             188119.910000   \n",
       "\n",
       "       PY110G: SURVIVOR’ BENEFITS  PY120G: SICKNESS BENEFITS  \\\n",
       "count                21754.000000               21754.000000   \n",
       "mean                   285.783853                  76.372217   \n",
       "std                   2225.327591                1044.104932   \n",
       "min                  -3981.770000                   0.000000   \n",
       "25%                      0.000000                   0.000000   \n",
       "50%                      0.000000                   0.000000   \n",
       "75%                      0.000000                   0.000000   \n",
       "max                  71480.460000               41425.710000   \n",
       "\n",
       "       PY130G: DISABILITY BENEFITS  PY140G: EDUCATION-RELATED ALLOWANCES  \n",
       "count                 21754.000000                          21754.000000  \n",
       "mean                    342.517266                            118.792335  \n",
       "std                    2609.295781                           1421.471870  \n",
       "min                       0.000000                          -4140.010000  \n",
       "25%                       0.000000                              0.000000  \n",
       "50%                       0.000000                              0.000000  \n",
       "75%                       0.000000                              0.000000  \n",
       "max                   95899.040000                          60284.900000  "
      ]
     },
     "execution_count": 257,
     "metadata": {},
     "output_type": "execute_result"
    }
   ],
   "source": [
    "ppp[job[6:12]].describe()\n",
    "# negative values outliers?"
   ]
  },
  {
   "cell_type": "code",
   "execution_count": 284,
   "metadata": {},
   "outputs": [
    {
     "name": "stdout",
     "output_type": "stream",
     "text": [
      "PY090G: UNEMPLOYMENT BENEFITS 1\n",
      "PY100G: OLD-AGE BENEFITS 0\n",
      "PY110G: SURVIVOR’ BENEFITS 1\n",
      "PY120G: SICKNESS BENEFITS 0\n",
      "PY130G: DISABILITY BENEFITS 0\n",
      "PY140G: EDUCATION-RELATED ALLOWANCES 1\n",
      "21753\n",
      "21753\n",
      "21752\n",
      "21752\n",
      "21752\n",
      "21751\n"
     ]
    }
   ],
   "source": [
    "for x in range(6,12):\n",
    "    print(job[x], ppp[ppp[job[x]]<0].shape[0])\n",
    "#only a few negative values ---> keep only 0 and higher\n",
    "for x in range(6,12):\n",
    "    ppp= ppp[ppp[job[x]]>=0]\n",
    "    print(ppp.shape[0])"
   ]
  },
  {
   "cell_type": "code",
   "execution_count": 287,
   "metadata": {},
   "outputs": [],
   "source": [
    "ppp[\"PY090G++: SOCIAL BENEFITS\"] = ppp[job[6]]+ppp[job[7]]+ppp[job[8]]+ppp[job[9]]+ppp[job[10]]+ppp[job[11]]"
   ]
  },
  {
   "cell_type": "markdown",
   "metadata": {},
   "source": [
    "### conclusion"
   ]
  },
  {
   "cell_type": "code",
   "execution_count": 297,
   "metadata": {},
   "outputs": [],
   "source": [
    "job= ['PY010G_PY020G_PY021G_PY050G: EMPLOYEE INCOME',\n",
    "       'PY035G: CONTRIBUTIONS TO INDIVIDUAL PRIVATE PENSION PLANS',\n",
    "      'PY080G: PENSION FROM INDIVIDUAL PRIVATE PLANS',\n",
    "      \"PY090G++: SOCIAL BENEFITS\",\n",
    "       'PY090G: UNEMPLOYMENT BENEFITS', 'PY100G: OLD-AGE BENEFITS',\n",
    "       'PY110G: SURVIVOR’ BENEFITS', 'PY120G: SICKNESS BENEFITS',\n",
    "       'PY130G: DISABILITY BENEFITS', 'PY140G: EDUCATION-RELATED ALLOWANCES']"
   ]
  },
  {
   "cell_type": "code",
   "execution_count": 301,
   "metadata": {},
   "outputs": [
    {
     "data": {
      "text/plain": [
       "<matplotlib.axes._subplots.AxesSubplot at 0x21c64903e48>"
      ]
     },
     "execution_count": 301,
     "metadata": {},
     "output_type": "execute_result"
    },
    {
     "data": {
      "image/png": "[encoded data removed]",
      "text/plain": [
       "<Figure size 720x720 with 2 Axes>"
      ]
     },
     "metadata": {
      "needs_background": "light"
     },
     "output_type": "display_data"
    }
   ],
   "source": [
    "subjob =ppp[job]\n",
    "\n",
    "plt.figure(figsize =(10,10))\n",
    "corr = subjob.corr()\n",
    "mask = np.triu(np.ones_like(corr, dtype=np.bool))\n",
    "sns.heatmap(corr, cmap='coolwarm', annot = True, linewidth=0.5, mask=mask)\n",
    "\n",
    "\n",
    "## hight correlation between old age benefit and social benefit ... but i want the feature \"social benefits\" has the idea to replace all the other individual features "
   ]
  },
  {
   "cell_type": "markdown",
   "metadata": {},
   "source": []
  },
  {
   "cell_type": "code",
   "execution_count": 308,
   "metadata": {},
   "outputs": [
    {
     "data": {
      "text/plain": [
       "['PY010G_PY020G_PY021G_PY050G: EMPLOYEE INCOME',\n",
       " 'PY035G: CONTRIBUTIONS TO INDIVIDUAL PRIVATE PENSION PLANS',\n",
       " 'PY080G: PENSION FROM INDIVIDUAL PRIVATE PLANS',\n",
       " 'PY090G++: SOCIAL BENEFITS',\n",
       " 'PY090G: UNEMPLOYMENT BENEFITS',\n",
       " 'PY100G: OLD-AGE BENEFITS',\n",
       " 'PY110G: SURVIVOR’ BENEFITS',\n",
       " 'PY120G: SICKNESS BENEFITS',\n",
       " 'PY130G: DISABILITY BENEFITS',\n",
       " 'PY140G: EDUCATION-RELATED ALLOWANCES']"
      ]
     },
     "execution_count": 308,
     "metadata": {},
     "output_type": "execute_result"
    }
   ],
   "source": [
    "job "
   ]
  },
  {
   "cell_type": "code",
   "execution_count": null,
   "metadata": {},
   "outputs": [],
   "source": []
  },
  {
   "cell_type": "markdown",
   "metadata": {},
   "source": [
    "## 2.6 Satisfaction (PW) - Columns"
   ]
  },
  {
   "cell_type": "code",
   "execution_count": 111,
   "metadata": {
    "scrolled": true
   },
   "outputs": [
    {
     "data": {
      "text/plain": [
       "PW010: OVERALL LIFE SATISFACTION                        3403\n",
       "PW020: MEANING OF LIFE                                  3498\n",
       "PW030: SATISFACTION WITH FINANCIAL SITUATION            3471\n",
       "PW040: SATISFACTION WITH ACCOMMODATION                  3377\n",
       "PW050: BEING VERY NERVOUS                               3495\n",
       "PW060: FEELING DOWN IN THE DUMPS                        3536\n",
       "PW070: FEELING CALM AND PEACEFUL                        3510\n",
       "PW080: FEELING DOWNHEARTED OR DEPRESSED                 3444\n",
       "PW090: BEING HAPPY                                      3501\n",
       "PW120: SATISFACTION WITH TIME USE                       3596\n",
       "PW130: TRUST IN THE POLITICAL SYSTEM                    3374\n",
       "PW140: TRUST IN THE LEGAL SYSTEM                        3396\n",
       "PW150: TRUST IN THE POLICE                              3488\n",
       "PW160: SATISFACTION WITH PERSONAL RELATIONSHIPS         3536\n",
       "PW170: PERSONAL MATTERS (ANYONE TO DISCUSS WITH)        3299\n",
       "PW180: HELP FROM OTHERS                                 3347\n",
       "PW190: TRUST IN OTHERS                                  3386\n",
       "PW200: SATISFACTION WITH RECREATIONAL OR GREEN AREAS    3431\n",
       "PW210: SATISFACTION WITH LIVING ENVIRONMENT             3438\n",
       "PW220: PHYSICAL SECURITY                                3413\n",
       "dtype: int64"
      ]
     },
     "execution_count": 111,
     "metadata": {},
     "output_type": "execute_result"
    }
   ],
   "source": [
    "### satisification \n",
    "sat =['PW010: OVERALL LIFE SATISFACTION', 'PW020: MEANING OF LIFE',\n",
    "       'PW030: SATISFACTION WITH FINANCIAL SITUATION',\n",
    "       'PW040: SATISFACTION WITH ACCOMMODATION', 'PW050: BEING VERY NERVOUS',\n",
    "       'PW060: FEELING DOWN IN THE DUMPS', 'PW070: FEELING CALM AND PEACEFUL',\n",
    "       'PW080: FEELING DOWNHEARTED OR DEPRESSED', 'PW090: BEING HAPPY',\n",
    "       'PW120: SATISFACTION WITH TIME USE',\n",
    "       'PW130: TRUST IN THE POLITICAL SYSTEM',\n",
    "       'PW140: TRUST IN THE LEGAL SYSTEM', 'PW150: TRUST IN THE POLICE',\n",
    "       'PW160: SATISFACTION WITH PERSONAL RELATIONSHIPS',\n",
    "       'PW170: PERSONAL MATTERS (ANYONE TO DISCUSS WITH)',\n",
    "       'PW180: HELP FROM OTHERS', 'PW190: TRUST IN OTHERS',\n",
    "       'PW200: SATISFACTION WITH RECREATIONAL OR GREEN AREAS',\n",
    "       'PW210: SATISFACTION WITH LIVING ENVIRONMENT',\n",
    "       'PW220: PHYSICAL SECURITY']\n",
    "\n",
    "ppp[sat].isna().sum()"
   ]
  },
  {
   "cell_type": "code",
   "execution_count": null,
   "metadata": {},
   "outputs": [],
   "source": [
    "### this variable i use for outcome variables \n",
    "## thats why i only focus on the one i am interested most\n",
    "\n",
    "### this are:\n",
    "\n"
   ]
  },
  {
   "cell_type": "markdown",
   "metadata": {},
   "source": [
    "###### [0] OVERALL LIFE SATISFACTION"
   ]
  },
  {
   "cell_type": "code",
   "execution_count": 310,
   "metadata": {},
   "outputs": [
    {
     "data": {
      "text/plain": [
       "8.0     5749\n",
       "7.0     3072\n",
       "9.0     2715\n",
       "5.0     1879\n",
       "10.0    1746\n",
       "6.0     1397\n",
       "4.0      515\n",
       "3.0      498\n",
       "99.0     279\n",
       "2.0      259\n",
       "0.0      138\n",
       "1.0      105\n",
       "Name: PW010: OVERALL LIFE SATISFACTION, dtype: int64"
      ]
     },
     "execution_count": 310,
     "metadata": {},
     "output_type": "execute_result"
    }
   ],
   "source": [
    "\"\"\"\n",
    "Life satisfaction represents a report of how a respondent evaluates or appraises his or her life \n",
    "taken as a whole. It is intended to represent a broad, reflective appraisal the person makes of \n",
    "his or her life. The term life is intended here as all areas of a person’s life at a particular point \n",
    "in time (these days)1.\n",
    "0-10 From 0 (Not at all satisfied) to 10 (Completely satisfied) \n",
    "99 Do not know\n",
    "\n",
    "\"\"\"\n",
    "\n",
    "ppp[sat[0]].describe()\n",
    "ppp[sat[0]].value_counts()"
   ]
  },
  {
   "cell_type": "markdown",
   "metadata": {},
   "source": [
    "###### [1] PW020: MEANING OF LIFE"
   ]
  },
  {
   "cell_type": "code",
   "execution_count": 311,
   "metadata": {},
   "outputs": [
    {
     "data": {
      "text/plain": [
       "'PW020: MEANING OF LIFE'"
      ]
     },
     "execution_count": 311,
     "metadata": {},
     "output_type": "execute_result"
    }
   ],
   "source": [
    "\"\"\"\n",
    "The respondent should be invited to think about what makes his/her life and existence feel \n",
    "important and meaningful and then answer to the question. The term \"worthwhile\" denotes \n",
    "meaning of purpose/beneficial. It is not related to any specific area of life, focuses rather on \n",
    "life in general. \n",
    "0-10 From 0 (Not worthwhile at all) to 10 (Completely worthwhile) \n",
    "99 Do not know\n",
    "\"\"\"\n",
    "sat[1]"
   ]
  },
  {
   "cell_type": "markdown",
   "metadata": {},
   "source": [
    "###### [2:10 ] satisfication with material stuff, beeing nervous, etc"
   ]
  },
  {
   "cell_type": "code",
   "execution_count": 323,
   "metadata": {},
   "outputs": [
    {
     "data": {
      "text/plain": [
       "['PW030: SATISFACTION WITH FINANCIAL SITUATION',\n",
       " 'PW040: SATISFACTION WITH ACCOMMODATION',\n",
       " 'PW050: BEING VERY NERVOUS',\n",
       " 'PW060: FEELING DOWN IN THE DUMPS',\n",
       " 'PW070: FEELING CALM AND PEACEFUL',\n",
       " 'PW080: FEELING DOWNHEARTED OR DEPRESSED',\n",
       " 'PW090: BEING HAPPY',\n",
       " 'PW120: SATISFACTION WITH TIME USE']"
      ]
     },
     "execution_count": 323,
     "metadata": {},
     "output_type": "execute_result"
    }
   ],
   "source": [
    "sat[2:10]"
   ]
  },
  {
   "cell_type": "markdown",
   "metadata": {},
   "source": [
    "###### [10] 'TRUST IN THE POLITICAL SYSTEM'"
   ]
  },
  {
   "cell_type": "code",
   "execution_count": 322,
   "metadata": {},
   "outputs": [
    {
     "data": {
      "text/plain": [
       "'PW130: TRUST IN THE POLITICAL SYSTEM'"
      ]
     },
     "execution_count": 322,
     "metadata": {},
     "output_type": "execute_result"
    }
   ],
   "source": [
    "sat[10]"
   ]
  },
  {
   "cell_type": "code",
   "execution_count": null,
   "metadata": {},
   "outputs": [],
   "source": [
    "\"\"\"\n",
    "The term 'political system' refers to a complete set of institutions, interest groups (such as \n",
    "political parties, trade unions), the relationships between those institutions and the political \n",
    "norms and rules that govern their functions. \n",
    "\n",
    "0-10 From 0 (No trust at all) to 10 (Complete trust) \n",
    "99 Do not know\n",
    "\"\"\""
   ]
  },
  {
   "cell_type": "markdown",
   "metadata": {},
   "source": [
    "###### [11] 'PW140: TRUST IN THE LEGAL SYSTEM'"
   ]
  },
  {
   "cell_type": "code",
   "execution_count": 324,
   "metadata": {},
   "outputs": [
    {
     "data": {
      "text/plain": [
       "'PW140: TRUST IN THE LEGAL SYSTEM'"
      ]
     },
     "execution_count": 324,
     "metadata": {},
     "output_type": "execute_result"
    }
   ],
   "source": [
    "sat[11]"
   ]
  },
  {
   "cell_type": "code",
   "execution_count": null,
   "metadata": {},
   "outputs": [],
   "source": [
    "\"\"\"\n",
    "The term 'legal system' refers to the entire system for interpreting and enforcing the laws and \n",
    "not to a specific legal entity within the country. Trust in the legal system is supposed to \n",
    "measure, for example, opinions and attitudes towards the effectiveness and efficiency of the \n",
    "institutions such as the courts, the fairness of its procedures and decisions, and the extent to \n",
    "which the sentences given out reflect the values and desires of citizens.s\n",
    "0-10 From 0 (No trust at all) to 10 (Complete trust) \n",
    "99 Do not know \n",
    "\"\"\"\n",
    "\n",
    "\n",
    "\n"
   ]
  },
  {
   "cell_type": "markdown",
   "metadata": {},
   "source": [
    "###### [12: ] other interesting features, but not possible to focus on them.."
   ]
  },
  {
   "cell_type": "code",
   "execution_count": null,
   "metadata": {},
   "outputs": [],
   "source": []
  },
  {
   "cell_type": "code",
   "execution_count": null,
   "metadata": {},
   "outputs": [],
   "source": []
  },
  {
   "cell_type": "markdown",
   "metadata": {},
   "source": []
  },
  {
   "cell_type": "markdown",
   "metadata": {},
   "source": [
    "## 2.7 Basic Needs  (PD) - columns"
   ]
  },
  {
   "cell_type": "code",
   "execution_count": 329,
   "metadata": {},
   "outputs": [
    {
     "data": {
      "text/plain": [
       "'\\nBasic Needs\\n1 Yes  \\n2 No - cannot afford it  \\n3 No - other reason  \\n'"
      ]
     },
     "execution_count": 329,
     "metadata": {},
     "output_type": "execute_result"
    }
   ],
   "source": [
    "\"\"\"\n",
    "Basic Needs\n",
    "1 Yes  \n",
    "2 No - cannot afford it  \n",
    "3 No - other reason  \n",
    "\"\"\""
   ]
  },
  {
   "cell_type": "code",
   "execution_count": 337,
   "metadata": {},
   "outputs": [
    {
     "data": {
      "text/plain": [
       "PD020: Replace worn-out clothes by some new (not second-hand) ones                            190\n",
       "PD030: Two pairs of properly fitting shoes                                                    178\n",
       "PD050: Get-together with friends/family (relatives) for a drink/meal at least once a month    194\n",
       "PD060: Regularly participate in a leisure activity                                            151\n",
       "PD070: Spend a small amount of money each week on yourself                                    204\n",
       "PD080: Internet connection for personal use at home                                           192\n",
       "dtype: int64"
      ]
     },
     "execution_count": 337,
     "metadata": {},
     "output_type": "execute_result"
    }
   ],
   "source": [
    "## Basic Needs  \n",
    "bneeds= ['PD020: Replace worn-out clothes by some new (not second-hand) ones',\n",
    "       'PD030: Two pairs of properly fitting shoes',\n",
    "       'PD050: Get-together with friends/family (relatives) for a drink/meal at least once a month',\n",
    "       'PD060: Regularly participate in a leisure activity',\n",
    "       'PD070: Spend a small amount of money each week on yourself',\n",
    "       'PD080: Internet connection for personal use at home']\n",
    "ppp[bneeds].isna().sum()"
   ]
  },
  {
   "cell_type": "code",
   "execution_count": 328,
   "metadata": {},
   "outputs": [
    {
     "data": {
      "text/plain": [
       "array([[<matplotlib.axes._subplots.AxesSubplot object at 0x0000021C5408DE48>,\n",
       "        <matplotlib.axes._subplots.AxesSubplot object at 0x0000021C670E4C88>],\n",
       "       [<matplotlib.axes._subplots.AxesSubplot object at 0x0000021C67111388>,\n",
       "        <matplotlib.axes._subplots.AxesSubplot object at 0x0000021C67144D88>],\n",
       "       [<matplotlib.axes._subplots.AxesSubplot object at 0x0000021C67181788>,\n",
       "        <matplotlib.axes._subplots.AxesSubplot object at 0x0000021C671BA188>]],\n",
       "      dtype=object)"
      ]
     },
     "execution_count": 328,
     "metadata": {},
     "output_type": "execute_result"
    },
    {
     "data": {
      "image/png": "[encoded data removed]",
      "text/plain": [
       "<Figure size 432x288 with 6 Axes>"
      ]
     },
     "metadata": {
      "needs_background": "light"
     },
     "output_type": "display_data"
    }
   ],
   "source": [
    "ppp[bneeds].hist()"
   ]
  },
  {
   "cell_type": "code",
   "execution_count": 361,
   "metadata": {},
   "outputs": [
    {
     "name": "stdout",
     "output_type": "stream",
     "text": [
      "PD020: Replace worn-out clothes by some new (not second-hand) ones                              0\n",
      "PD030: Two pairs of properly fitting shoes                                                    177\n",
      "PD050: Get-together with friends/family (relatives) for a drink/meal at least once a month    193\n",
      "PD060: Regularly participate in a leisure activity                                            150\n",
      "PD070: Spend a small amount of money each week on yourself                                    204\n",
      "PD080: Internet connection for personal use at home                                           192\n",
      "dtype: int64\n",
      "PD020: Replace worn-out clothes by some new (not second-hand) ones                            189\n",
      "PD030: Two pairs of properly fitting shoes                                                      0\n",
      "PD050: Get-together with friends/family (relatives) for a drink/meal at least once a month    194\n",
      "PD060: Regularly participate in a leisure activity                                            149\n",
      "PD070: Spend a small amount of money each week on yourself                                    202\n",
      "PD080: Internet connection for personal use at home                                           191\n",
      "dtype: int64\n",
      "PD020: Replace worn-out clothes by some new (not second-hand) ones                            189\n",
      "PD030: Two pairs of properly fitting shoes                                                    178\n",
      "PD050: Get-together with friends/family (relatives) for a drink/meal at least once a month      0\n",
      "PD060: Regularly participate in a leisure activity                                            151\n",
      "PD070: Spend a small amount of money each week on yourself                                    203\n",
      "PD080: Internet connection for personal use at home                                           191\n",
      "dtype: int64\n",
      "PD020: Replace worn-out clothes by some new (not second-hand) ones                            189\n",
      "PD030: Two pairs of properly fitting shoes                                                    176\n",
      "PD050: Get-together with friends/family (relatives) for a drink/meal at least once a month    194\n",
      "PD060: Regularly participate in a leisure activity                                              0\n",
      "PD070: Spend a small amount of money each week on yourself                                    202\n",
      "PD080: Internet connection for personal use at home                                           192\n",
      "dtype: int64\n",
      "PD020: Replace worn-out clothes by some new (not second-hand) ones                            190\n",
      "PD030: Two pairs of properly fitting shoes                                                    176\n",
      "PD050: Get-together with friends/family (relatives) for a drink/meal at least once a month    193\n",
      "PD060: Regularly participate in a leisure activity                                            149\n",
      "PD070: Spend a small amount of money each week on yourself                                      0\n",
      "PD080: Internet connection for personal use at home                                           192\n",
      "dtype: int64\n",
      "PD020: Replace worn-out clothes by some new (not second-hand) ones                            190\n",
      "PD030: Two pairs of properly fitting shoes                                                    177\n",
      "PD050: Get-together with friends/family (relatives) for a drink/meal at least once a month    193\n",
      "PD060: Regularly participate in a leisure activity                                            151\n",
      "PD070: Spend a small amount of money each week on yourself                                    204\n",
      "PD080: Internet connection for personal use at home                                             0\n",
      "dtype: int64\n"
     ]
    }
   ],
   "source": [
    "for x in range(0, len(bneeds)): \n",
    "    null_displ = ppp[ppp[bneeds[x]].isna()==False]\n",
    "    print(null_displ[bneeds].isna().sum())\n",
    "## --> different nan, so deleting nan is not a good idea\n",
    "\n",
    "# either i fill na or i drop columns"
   ]
  },
  {
   "cell_type": "code",
   "execution_count": null,
   "metadata": {},
   "outputs": [],
   "source": []
  },
  {
   "cell_type": "code",
   "execution_count": null,
   "metadata": {},
   "outputs": [],
   "source": []
  },
  {
   "cell_type": "code",
   "execution_count": null,
   "metadata": {},
   "outputs": [],
   "source": []
  },
  {
   "cell_type": "code",
   "execution_count": null,
   "metadata": {},
   "outputs": [],
   "source": []
  },
  {
   "cell_type": "code",
   "execution_count": null,
   "metadata": {},
   "outputs": [],
   "source": []
  },
  {
   "cell_type": "code",
   "execution_count": null,
   "metadata": {},
   "outputs": [],
   "source": []
  },
  {
   "cell_type": "markdown",
   "metadata": {},
   "source": [
    "PB010: YEAR OF THE SURVEY\n",
    "\n",
    "PB020: COUNTRY  \n",
    "\n",
    "PB030: PERSONAL ID\n",
    "\n",
    "#### to delete:\n",
    "PB040: PERSONAL CROSS-SECTIONAL WEIGHT\n",
    "\n",
    "PB050: PERSONAL BASE WEIGHT\n",
    "\n",
    "PB060: PERSONAL CROSS-SECTIONAL WEIGHT FOR SELECTED RESPONDENT \n",
    "\n",
    "PB070: PERSONAL DESIGN WEIGHT FOR SELECTED RESPONDENT\n",
    "\n",
    "PB080: PERSONAL BASE WEIGHT FOR SELECTED RESPONDENT\n",
    "\n",
    "PB090: DAY OF THE PERSONAL INTERVIEW  \n",
    "\n",
    "PB100: MONTH OF THE PERSONAL INTERVIEW \n",
    "\n",
    "PB110: YEAR OF THE PERSONAL INTERVIEW \n",
    "\n",
    "PB120: MINUTES TO COMPLETE THE PERSONAL QUESTIONNAIRE  \n",
    "\n",
    "### keep\n",
    "PB130: MONTH OF BIRTH \n",
    "\n",
    "PB140: YEAR OF BIRTH  \n",
    "\n",
    "\n",
    "PB150: SEX \n",
    "\n",
    "\n",
    "### drop\n",
    "PB160: FATHER ID \n",
    "\n",
    "PB170: MOTHER ID\n",
    "\n",
    "PB180: SPOUSE/PARTNER ID\n",
    "\n",
    "#### keep\n",
    "PB190: MARITAL STATUS\n",
    "\n",
    "### dont kno\n",
    "PB200: CONSENSUAL UNION\n",
    "\n",
    "## keeep (maybe)\n",
    "PB210: COUNTRY OF BIRTH  \n",
    "\n",
    "PB220A: CITIZENSHIP 1\n",
    "\n",
    "PB220B: CITIZENSHIP 2\n",
    "\n",
    "#### check\n",
    "PE010: CURRENT EDUCATION ACTIVITY\n",
    "\n",
    "PE020: ISCED LEVEL CURRENTLY ATTENDED\n",
    "\n",
    "### keep aber modify\n",
    "PE030: YEAR WHEN HIGHEST LEVEL OF EDUCATION WAS ATTAINED\n",
    "\n",
    "\n",
    "PE040: HIGHEST ISCED LEVEL ATTAINED\n",
    "\n",
    "### keep if good?\n",
    "PH010: GENERAL HEALTH\n",
    "\n",
    "\n",
    "PH020: SUFFER FROM ANY A CHRONIC (LONG-STANDING) ILLNESS OR CONDITION \n",
    "\n",
    "PH030: LIMITATION IN ACTIVITIES BECAUSE OF HEALTH PROBLEMS\n",
    "\n",
    "PH040: UNMET NEED FOR MEDICAL EXAMINATION OR TREATMENT \n",
    "\n",
    "### drop\n",
    "PH050: MAIN REASON FOR UNMET NEED FOR MEDICAL EXAMINATION OR TREATMENT \n",
    "\n",
    "### keep\n",
    "PH060: UNMET NEED FOR DENTAL EXAMINATION OR TREATMENT\n",
    "\n",
    "### drop\n",
    "PH070: MAIN REASON FOR UNMET NEED FOR DENTAL EXAMINATION OR TREATMENT\n",
    "\n",
    "### keep\n",
    "PL015: PERSON HAS EVER WORKED\n",
    "\n",
    "PL020: ACTIVELY LOOKING FOR A JOB\n",
    "\n",
    "PL025: AVAILABLE FOR WORK\n",
    "\n",
    "PL031: SELF-DEFINED CURRENT ECONOMIC STATUS\n",
    "\n",
    "PL035: WORKED AT LEAST 1 HOUR DURING THE PREVIOUS WEEK\n",
    "\n",
    "PL040: STATUS IN EMPLOYMENT\n",
    "\n",
    "\n",
    "PL051: OCCUPATION (ISCO-08 (COM))\n",
    "\n",
    "PL060: NUMBER OF HOURS USUALLY WORKED PER WEEK IN MAIN JOB\n",
    "\n",
    "PL073: NUMBER OF MONTHS SPENT AT FULL-TIME WORK AS EMPLOYEE\n",
    "\n",
    "PL074: NUMBER OF MONTHS SPENT AT PART-TIME WORK AS EMPLOYEE\n",
    "\n",
    "PL075: NUMBER OF MONTHS SPENT AT FULL-TIME WORK AS SELF-EMPLOYED (INCLUDING \n",
    "FAMILY WORKER)\n",
    "\n",
    "PL076: NUMBER OF MONTHS SPENT AT PART-TIME WORK AS SELF-EMPLOYED (INCLUDING \n",
    "FAMILY WORKER)\n",
    "\n",
    "PL080: NUMBER OF MONTHS SPENT IN UNEMPLOYMENT\n",
    "\n",
    "PL085: NUMBER OF MONTHS SPENT IN RETIREMENT OR EARLY RETIREMENT\n",
    "\n",
    "PL086: NUMBER OF MONTHS SPENT AS DISABLED OR/AND UNFIT TO WORK\n",
    "\n",
    "PL087: NUMBER OF MONTHS SPENT STUDYING\n",
    "\n",
    "PL088: NUMBER OF MONTHS SPENT IN COMPULSORY MILITARY SERVICE\n",
    "\n",
    "PL089: NUMBER OF MONTHS SPENT FULFILLING DOMESTIC TASKS AND CARE RESPONSIBILITIES\n",
    "\n",
    "PL090: NUMBER OF MONTHS SPENT IN OTHER INACTIVITY\n",
    "\n",
    "PL100: TOTAL NUMBER OF HOURS USUALLY WORKED IN SECOND, THIRD… JOBS\n",
    "\n",
    "### drop\n",
    "PL111: NACE REV.2 . 292 \n",
    "\n",
    "PL120: REASON FOR WORKING LESS THAN 30 HOURS .. 293 \n",
    "\n",
    "### keep\n",
    "PL130: NUMBER OF PERSONS WORKING AT THE LOCAL UNIT . 294\n",
    "\n",
    "PL140: TYPE OF CONTRACT .. 295 \n",
    "\n",
    "PL150: MANAGERIAL POSITION . 297 \n",
    "\n",
    "PL160: CHANGE OF JOB SINCE LAST YEAR .. 298 \n",
    "\n",
    "PL170: REASON FOR CHANGE .. 299 \n",
    "\n",
    "PL180: MOST RECENT CHANGE IN THE INDIVIDUAL’S ACTIVITY STATUS . 301 \n",
    "\n",
    "PL190: WHEN BEGAN FIRST REGULAR JOB . 302 \n",
    "\n",
    "PL200: NUMBER OF YEARS SPENT IN PAID WORK  303 \n",
    "\n",
    "\n",
    "#### drop\n",
    "PL211A: MAIN ACTIVITY ON JANUARY . 304\n",
    "\n",
    "PL211B: MAIN ACTIVITY ON FEBRUARY .. 304 \n",
    "\n",
    "PL211C: MAIN ACTIVITY ON MARCH . 304 \n",
    "\n",
    "PL211D: MAIN ACTIVITY ON APRIL . 304 \n",
    "\n",
    "PL211E: MAIN ACTIVITY ON MAY  304 \n",
    "\n",
    "PL211F: MAIN ACTIVITY ON JUNE  304 \n",
    "\n",
    "PL211G: MAIN ACTIVITY ON JULY .. 304 \n",
    "\n",
    "PL211H: MAIN ACTIVITY ON AUGUST  304 \n",
    "\n",
    "PL211I: MAIN ACTIVITY ON SEPTEMBER . 304 \n",
    "\n",
    "PL211J: MAIN ACTIVITY ON OCTOBER . 304 \n",
    "\n",
    "PL211K: MAIN ACTIVITY ON NOVEMBER  304 \n",
    "\n",
    "PL211L: MAIN ACTIVITY ON DECEMBER . 304 \n",
    "\n",
    "## check\n",
    "PY010G/PY010N: EMPLOYEE CASH OR NEAR CASH INCOME .. 306 \n",
    "\n",
    "PY020G/PY020N: NON-CASH EMPLOYEE INCOME  308 \n",
    "\n",
    "PY021G/PY021N: COMPANY CAR . 310 \n",
    "\n",
    "## drop\n",
    "PY030G: EMPLOYER'S SOCIAL INSURANCE CONTRIBUTION . 311 \n",
    "PY031G: OPTIONAL EMPLOYER'S SOCIAL INSURANCE CONTRIBUTIONS .. 311 \n",
    "PY035G/PY035N: CONTRIBUTIONS TO INDIVIDUAL PRIVATE PENSION PLANS . 313 \n",
    "PY050G/PY050N: CASH BENEFITS OR LOSSES FROM SELF-EMPLOYMENT . 315 \n",
    "PY080G/PY080N: PENSION FROM INDIVIDUAL PRIVATE PLANS  320\n",
    "\n",
    "### <font color='red'>if availabe: alternative for outcome.</font>\n",
    "PY090G/PY090N: UNEMPLOYMENT BENEFITS . 322 \n",
    "\n",
    "PY100G/PY100N: OLD-AGE BENEFITS .. 322 \n",
    "\n",
    "PY110G/PY110N: SURVIVOR’ BENEFITS .. 322 \n",
    "\n",
    "PY120G/PY120N: SICKNESS BENEFITS.. 322 \n",
    "\n",
    "PY130G/PY130N: DISABILITY BENEFITS . 322 \n",
    "\n",
    "PY140G/PY140N: EDUCATION-RELATED ALLOWANCES  322 \n",
    "\n",
    "### keep\n",
    "PY200G: GROSS MONTHLY EARNINGS FOR EMPLOYEES . 330 \n",
    "\n",
    "\n",
    "\n",
    "\n",
    "### keep (outcome?)\n",
    "PW010: OVERALL LIFE SATISFACTION . - 362 - \n",
    "\n",
    "PW020: MEANING OF LIFE  - 363 - \n",
    "\n",
    "PW030: SATISFACTION WITH FINANCIAL SITUATION .. - 364 - \n",
    "\n",
    "PW040: SATISFACTION WITH ACCOMMODATION .. - 365 -\n",
    "\n",
    "PW050: BEING VERY NERVOUS . - 366 - \n",
    "\n",
    "PW060: FEELING DOWN IN THE DUMPS  - 367 - \n",
    "\n",
    "PW070: FEELING CALM AND PEACEFUL .. - 368 - \n",
    "\n",
    "PW080: FEELING DOWNHEARTED OR DEPRESSED . - 369 - \n",
    "\n",
    "PW090: BEING HAPPY . - 370 - \n",
    "\n",
    "<font color='red'>PW100: JOB SATISFACTION . - 371 -</font> \n",
    "\n",
    "PW110: SATISFACTION WITH COMMUTING TIME .. - 372 - \n",
    "\n",
    "PW120: SATISFACTION WITH TIME USE  - 373 - \n",
    "\n",
    "<font color='red'>PW130: TRUST IN THE POLITICAL SYSTEM  - 374 -</font>\n",
    "\n",
    "PW140: TRUST IN THE LEGAL SYSTEM . - 375 - \n",
    "\n",
    "PW150: TRUST IN THE POLICE .. - 376 - \n",
    "\n",
    "PW160: SATISFACTION WITH PERSONAL RELATIONSHIPS  - 377 - \n",
    "\n",
    "PW170: PERSONAL MATTERS (ANYONE TO DISCUSS WITH) . - 378 - \n",
    "\n",
    "PW180: HELP FROM OTHERS .. - 379 - \n",
    "\n",
    "PW190: TRUST IN OTHERS  - 380 - \n",
    "\n",
    "PW200: SATISFACTION WITH RECREATIONAL OR GREEN AREAS . - 381 -\n",
    "\n",
    "PW210: SATISFACTION WITH LIVING ENVIRONMENT .. - 382 - \n",
    "\n",
    "PW220: PHYSICAL SECURITY .. 383"
   ]
  },
  {
   "cell_type": "markdown",
   "metadata": {},
   "source": [
    "\n",
    "### backup"
   ]
  },
  {
   "cell_type": "code",
   "execution_count": 23,
   "metadata": {},
   "outputs": [
    {
     "data": {
      "text/plain": [
       "47"
      ]
     },
     "execution_count": 23,
     "metadata": {},
     "output_type": "execute_result"
    }
   ],
   "source": [
    "len(data.columns)"
   ]
  },
  {
   "cell_type": "code",
   "execution_count": 63,
   "metadata": {},
   "outputs": [
    {
     "data": {
      "text/plain": [
       "(11572, 94)"
      ]
     },
     "execution_count": 63,
     "metadata": {},
     "output_type": "execute_result"
    }
   ],
   "source": [
    "data = pd.read_csv(\"./data//BE_2013p_EUSILC.csv\")\n",
    "data.shape"
   ]
  },
  {
   "cell_type": "code",
   "execution_count": 58,
   "metadata": {},
   "outputs": [],
   "source": [
    "data=data.dropna(thresh=len(data) - 2000, axis=1)\n"
   ]
  },
  {
   "cell_type": "code",
   "execution_count": 59,
   "metadata": {},
   "outputs": [
    {
     "data": {
      "text/plain": [
       "(11572, 70)"
      ]
     },
     "execution_count": 59,
     "metadata": {},
     "output_type": "execute_result"
    }
   ],
   "source": [
    "data.shape"
   ]
  },
  {
   "cell_type": "code",
   "execution_count": 64,
   "metadata": {},
   "outputs": [],
   "source": [
    "## overall life satisfaction\n",
    "data=data[data['PW010']<=10]"
   ]
  },
  {
   "cell_type": "code",
   "execution_count": 65,
   "metadata": {},
   "outputs": [
    {
     "data": {
      "text/plain": [
       "(9727, 94)"
      ]
     },
     "execution_count": 65,
     "metadata": {},
     "output_type": "execute_result"
    }
   ],
   "source": [
    "data.shape"
   ]
  },
  {
   "cell_type": "code",
   "execution_count": 66,
   "metadata": {},
   "outputs": [
    {
     "data": {
      "text/plain": [
       "<matplotlib.axes._subplots.AxesSubplot at 0x285fe0c9ac8>"
      ]
     },
     "execution_count": 66,
     "metadata": {},
     "output_type": "execute_result"
    },
    {
     "data": {
      "image/png": "[encoded data removed]",
      "text/plain": [
       "<Figure size 432x288 with 1 Axes>"
      ]
     },
     "metadata": {
      "needs_background": "light"
     },
     "output_type": "display_data"
    }
   ],
   "source": [
    "data['PW010'].plot.hist()"
   ]
  },
  {
   "cell_type": "code",
   "execution_count": 68,
   "metadata": {},
   "outputs": [
    {
     "data": {
      "text/plain": [
       "<matplotlib.axes._subplots.AxesSubplot at 0x285fc2a9148>"
      ]
     },
     "execution_count": 68,
     "metadata": {},
     "output_type": "execute_result"
    },
    {
     "data": {
      "image/png": "[encoded data removed]",
      "text/plain": [
       "<Figure size 432x288 with 1 Axes>"
      ]
     },
     "metadata": {
      "needs_background": "light"
     },
     "output_type": "display_data"
    }
   ],
   "source": [
    "# satisfaction with financial situation\n",
    "data=data[data['PW030']<=10]\n",
    "data['PW030'].plot.hist()"
   ]
  },
  {
   "cell_type": "code",
   "execution_count": 69,
   "metadata": {},
   "outputs": [
    {
     "data": {
      "text/plain": [
       "Index(['PB010', 'PB020', 'PB030', 'PB040', 'PB060', 'PB100', 'PB110', 'PB120',\n",
       "       'PB130', 'PB140', 'PB150', 'PB190', 'PB200', 'PB220A', 'PE010', 'PE020',\n",
       "       'PE040', 'PL031', 'PL035', 'PL015', 'PL020', 'PL025', 'PL040', 'PL051',\n",
       "       'PL060', 'PL100', 'PL111', 'PL120', 'PL130', 'PL140', 'PL150', 'PL160',\n",
       "       'PL170', 'PL180', 'PL190', 'PH010', 'PH020', 'PH030', 'PH040', 'PH050',\n",
       "       'PH060', 'PH070', 'PY020N', 'PY035N', 'PY010G', 'PY020G', 'PY021G',\n",
       "       'PY030G', 'PY031G', 'PY035G', 'PY050G', 'PY080G', 'PY090G', 'PY100G',\n",
       "       'PY110G', 'PY120G', 'PY130G', 'PY140G', 'PY200G', 'PD020', 'PD030',\n",
       "       'PD050', 'PD060', 'PD070', 'PD080', 'PD090', 'PW010', 'PW020', 'PW030',\n",
       "       'PW040', 'PW050', 'PW060', 'PW070', 'PW080', 'PW090', 'PW100', 'PW110',\n",
       "       'PW120', 'PW130', 'PW140', 'PW150', 'PW160', 'PW170', 'PW180', 'PW190',\n",
       "       'PW200', 'PW210', 'PW220', 'PX010', 'PX020', 'PX030', 'PX040', 'PX050',\n",
       "       'PX200'],\n",
       "      dtype='object')"
      ]
     },
     "execution_count": 69,
     "metadata": {},
     "output_type": "execute_result"
    }
   ],
   "source": [
    "data.columns"
   ]
  },
  {
   "cell_type": "markdown",
   "metadata": {},
   "source": []
  },
  {
   "cell_type": "code",
   "execution_count": 71,
   "metadata": {},
   "outputs": [
    {
     "data": {
      "text/plain": [
       "count     8261.000000\n",
       "mean       155.576201\n",
       "std       2189.328181\n",
       "min          0.000000\n",
       "25%          0.000000\n",
       "50%          0.000000\n",
       "75%          0.000000\n",
       "max      78088.000000\n",
       "Name: PY110G, dtype: float64"
      ]
     },
     "execution_count": 71,
     "metadata": {},
     "output_type": "execute_result"
    }
   ],
   "source": [
    "data['PY110G'].describe()"
   ]
  },
  {
   "cell_type": "code",
   "execution_count": 4,
   "metadata": {},
   "outputs": [
    {
     "data": {
      "text/plain": [
       "(10874, 66)"
      ]
     },
     "execution_count": 4,
     "metadata": {},
     "output_type": "execute_result"
    }
   ],
   "source": [
    "data2 = pd.read_csv(\"./data/BE_2012p_EUSILC.csv\")\n",
    "data2.shape"
   ]
  },
  {
   "cell_type": "code",
   "execution_count": 7,
   "metadata": {},
   "outputs": [],
   "source": [
    "colum2012=list(data2.columns)"
   ]
  },
  {
   "cell_type": "code",
   "execution_count": 9,
   "metadata": {},
   "outputs": [],
   "source": [
    "colum2013=['PB010', 'PB020', 'PB030', 'PB040', 'PB060', 'PB100', 'PB110', 'PB120',\n",
    "       'PB130', 'PB140', 'PB150', 'PB190', 'PB200', 'PB220A', 'PE010', 'PE020',\n",
    "       'PE040', 'PL031', 'PL035', 'PL015', 'PL020', 'PL025', 'PL040', 'PL051',\n",
    "       'PL060', 'PL100', 'PL111', 'PL120', 'PL130', 'PL140', 'PL150', 'PL160',\n",
    "       'PL170', 'PL180', 'PL190', 'PH010', 'PH020', 'PH030', 'PH040', 'PH050',\n",
    "       'PH060', 'PH070', 'PY020N', 'PY035N', 'PY010G', 'PY020G', 'PY021G',\n",
    "       'PY030G', 'PY031G', 'PY035G', 'PY050G', 'PY080G', 'PY090G', 'PY100G',\n",
    "       'PY110G', 'PY120G', 'PY130G', 'PY140G', 'PY200G', 'PD020', 'PD030',\n",
    "       'PD050', 'PD060', 'PD070', 'PD080', 'PD090', 'PW010', 'PW020', 'PW030',\n",
    "       'PW040', 'PW050', 'PW060', 'PW070', 'PW080', 'PW090', 'PW100', 'PW110',\n",
    "       'PW120', 'PW130', 'PW140', 'PW150', 'PW160', 'PW170', 'PW180', 'PW190',\n",
    "       'PW200', 'PW210', 'PW220', 'PX010', 'PX020', 'PX030', 'PX040', 'PX050',\n",
    "       'PX200']"
   ]
  },
  {
   "cell_type": "code",
   "execution_count": 16,
   "metadata": {
    "collapsed": true
   },
   "outputs": [
    {
     "data": {
      "text/plain": [
       "['PB010',\n",
       " 'PB020',\n",
       " 'PB030',\n",
       " 'PB040',\n",
       " 'PB060',\n",
       " 'PB100',\n",
       " 'PB110',\n",
       " 'PB120',\n",
       " 'PB130',\n",
       " 'PB140',\n",
       " 'PB150',\n",
       " 'PB190',\n",
       " 'PB200',\n",
       " 'PB220A',\n",
       " 'PE010',\n",
       " 'PE020',\n",
       " 'PE040',\n",
       " 'PL031',\n",
       " 'PL035',\n",
       " 'PL015',\n",
       " 'PL020',\n",
       " 'PL025',\n",
       " 'PL040',\n",
       " 'PL051',\n",
       " 'PL060',\n",
       " 'PL100',\n",
       " 'PL111',\n",
       " 'PL120',\n",
       " 'PL130',\n",
       " 'PL140',\n",
       " 'PL150',\n",
       " 'PL160',\n",
       " 'PL170',\n",
       " 'PL180',\n",
       " 'PL190',\n",
       " 'PH010',\n",
       " 'PH020',\n",
       " 'PH030',\n",
       " 'PH040',\n",
       " 'PH050',\n",
       " 'PH060',\n",
       " 'PH070',\n",
       " 'PY020N',\n",
       " 'PY035N',\n",
       " 'PY010G',\n",
       " 'PY020G',\n",
       " 'PY021G',\n",
       " 'PY030G',\n",
       " 'PY031G',\n",
       " 'PY035G',\n",
       " 'PY050G',\n",
       " 'PY080G',\n",
       " 'PY090G',\n",
       " 'PY100G',\n",
       " 'PY110G',\n",
       " 'PY120G',\n",
       " 'PY130G',\n",
       " 'PY140G',\n",
       " 'PY200G',\n",
       " 'PX010',\n",
       " 'PX020',\n",
       " 'PX030',\n",
       " 'PX040',\n",
       " 'PX050']"
      ]
     },
     "execution_count": 16,
     "metadata": {},
     "output_type": "execute_result"
    }
   ],
   "source": [
    "common= [value for value in colum2012 if value in colum2013]\n",
    "common"
   ]
  },
  {
   "cell_type": "markdown",
   "metadata": {},
   "source": [
    "### Germany Start of Data Cleaning"
   ]
  },
  {
   "cell_type": "code",
   "execution_count": 50,
   "metadata": {},
   "outputs": [
    {
     "data": {
      "text/plain": [
       "(22042, 284)"
      ]
     },
     "execution_count": 50,
     "metadata": {},
     "output_type": "execute_result"
    }
   ],
   "source": [
    "data3 = pd.read_csv(\"./data/DE_2013p_EUSILC.csv\")\n",
    "data3.shape"
   ]
  },
  {
   "cell_type": "code",
   "execution_count": 51,
   "metadata": {},
   "outputs": [],
   "source": [
    "columDE2013 = data3.columns"
   ]
  },
  {
   "cell_type": "code",
   "execution_count": 23,
   "metadata": {},
   "outputs": [],
   "source": [
    "common= [value for value in columDE2013 if value in colum2013]\n",
    "#data3 = data3[common]"
   ]
  },
  {
   "cell_type": "code",
   "execution_count": 52,
   "metadata": {},
   "outputs": [
    {
     "data": {
      "text/plain": [
       "0"
      ]
     },
     "execution_count": 52,
     "metadata": {},
     "output_type": "execute_result"
    }
   ],
   "source": [
    "data3['PY110G'].isna().sum()"
   ]
  },
  {
   "cell_type": "code",
   "execution_count": 34,
   "metadata": {},
   "outputs": [
    {
     "data": {
      "text/plain": [
       "<matplotlib.axes._subplots.AxesSubplot at 0x1e58e9b01c8>"
      ]
     },
     "execution_count": 34,
     "metadata": {},
     "output_type": "execute_result"
    },
    {
     "data": {
      "image/png": "[encoded data removed]",
      "text/plain": [
       "<Figure size 432x288 with 1 Axes>"
      ]
     },
     "metadata": {
      "needs_background": "light"
     },
     "output_type": "display_data"
    }
   ],
   "source": [
    "data3.PW010[data3['PW010']<=10].hist()"
   ]
  },
  {
   "cell_type": "code",
   "execution_count": 53,
   "metadata": {},
   "outputs": [
    {
     "data": {
      "text/plain": [
       "18309"
      ]
     },
     "execution_count": 53,
     "metadata": {},
     "output_type": "execute_result"
    }
   ],
   "source": [
    "data3.PW010[data3['PW010']<=10].count()"
   ]
  },
  {
   "cell_type": "code",
   "execution_count": 54,
   "metadata": {},
   "outputs": [
    {
     "data": {
      "text/html": [
       "<div>\n",
       "<style scoped>\n",
       "    .dataframe tbody tr th:only-of-type {\n",
       "        vertical-align: middle;\n",
       "    }\n",
       "\n",
       "    .dataframe tbody tr th {\n",
       "        vertical-align: top;\n",
       "    }\n",
       "\n",
       "    .dataframe thead th {\n",
       "        text-align: right;\n",
       "    }\n",
       "</style>\n",
       "<table border=\"1\" class=\"dataframe\">\n",
       "  <thead>\n",
       "    <tr style=\"text-align: right;\">\n",
       "      <th></th>\n",
       "      <th>PB010</th>\n",
       "      <th>PB030</th>\n",
       "      <th>PB040</th>\n",
       "      <th>PB040_F</th>\n",
       "      <th>PB060</th>\n",
       "      <th>PB060_F</th>\n",
       "      <th>PB100</th>\n",
       "      <th>PB100_F</th>\n",
       "      <th>PB110</th>\n",
       "      <th>PB110_F</th>\n",
       "      <th>...</th>\n",
       "      <th>PW210</th>\n",
       "      <th>PW210_F</th>\n",
       "      <th>PW220</th>\n",
       "      <th>PW220_F</th>\n",
       "      <th>PX010</th>\n",
       "      <th>PX020</th>\n",
       "      <th>PX030</th>\n",
       "      <th>PX040</th>\n",
       "      <th>PX050</th>\n",
       "      <th>PX200</th>\n",
       "    </tr>\n",
       "  </thead>\n",
       "  <tbody>\n",
       "    <tr>\n",
       "      <td>count</td>\n",
       "      <td>22042.0</td>\n",
       "      <td>2.204200e+04</td>\n",
       "      <td>22042.000000</td>\n",
       "      <td>0.0</td>\n",
       "      <td>0.0</td>\n",
       "      <td>0.0</td>\n",
       "      <td>22042.000000</td>\n",
       "      <td>0.0</td>\n",
       "      <td>22042.0</td>\n",
       "      <td>0.0</td>\n",
       "      <td>...</td>\n",
       "      <td>18565.000000</td>\n",
       "      <td>0.0</td>\n",
       "      <td>18593.000000</td>\n",
       "      <td>0.0</td>\n",
       "      <td>0.0</td>\n",
       "      <td>0.0</td>\n",
       "      <td>0.0</td>\n",
       "      <td>0.0</td>\n",
       "      <td>0.0</td>\n",
       "      <td>0.0</td>\n",
       "    </tr>\n",
       "    <tr>\n",
       "      <td>mean</td>\n",
       "      <td>2013.0</td>\n",
       "      <td>2.060714e+08</td>\n",
       "      <td>3145.641398</td>\n",
       "      <td>NaN</td>\n",
       "      <td>NaN</td>\n",
       "      <td>NaN</td>\n",
       "      <td>2.436394</td>\n",
       "      <td>NaN</td>\n",
       "      <td>2013.0</td>\n",
       "      <td>NaN</td>\n",
       "      <td>...</td>\n",
       "      <td>8.619930</td>\n",
       "      <td>NaN</td>\n",
       "      <td>2.206260</td>\n",
       "      <td>NaN</td>\n",
       "      <td>NaN</td>\n",
       "      <td>NaN</td>\n",
       "      <td>NaN</td>\n",
       "      <td>NaN</td>\n",
       "      <td>NaN</td>\n",
       "      <td>NaN</td>\n",
       "    </tr>\n",
       "    <tr>\n",
       "      <td>std</td>\n",
       "      <td>0.0</td>\n",
       "      <td>1.136807e+08</td>\n",
       "      <td>735.421261</td>\n",
       "      <td>NaN</td>\n",
       "      <td>NaN</td>\n",
       "      <td>NaN</td>\n",
       "      <td>0.495949</td>\n",
       "      <td>NaN</td>\n",
       "      <td>0.0</td>\n",
       "      <td>NaN</td>\n",
       "      <td>...</td>\n",
       "      <td>9.456481</td>\n",
       "      <td>NaN</td>\n",
       "      <td>1.150235</td>\n",
       "      <td>NaN</td>\n",
       "      <td>NaN</td>\n",
       "      <td>NaN</td>\n",
       "      <td>NaN</td>\n",
       "      <td>NaN</td>\n",
       "      <td>NaN</td>\n",
       "      <td>NaN</td>\n",
       "    </tr>\n",
       "    <tr>\n",
       "      <td>min</td>\n",
       "      <td>2013.0</td>\n",
       "      <td>3.560100e+04</td>\n",
       "      <td>1672.780749</td>\n",
       "      <td>NaN</td>\n",
       "      <td>NaN</td>\n",
       "      <td>NaN</td>\n",
       "      <td>2.000000</td>\n",
       "      <td>NaN</td>\n",
       "      <td>2013.0</td>\n",
       "      <td>NaN</td>\n",
       "      <td>...</td>\n",
       "      <td>0.000000</td>\n",
       "      <td>NaN</td>\n",
       "      <td>1.000000</td>\n",
       "      <td>NaN</td>\n",
       "      <td>NaN</td>\n",
       "      <td>NaN</td>\n",
       "      <td>NaN</td>\n",
       "      <td>NaN</td>\n",
       "      <td>NaN</td>\n",
       "      <td>NaN</td>\n",
       "    </tr>\n",
       "    <tr>\n",
       "      <td>25%</td>\n",
       "      <td>2013.0</td>\n",
       "      <td>1.097705e+08</td>\n",
       "      <td>2848.534031</td>\n",
       "      <td>NaN</td>\n",
       "      <td>NaN</td>\n",
       "      <td>NaN</td>\n",
       "      <td>2.000000</td>\n",
       "      <td>NaN</td>\n",
       "      <td>2013.0</td>\n",
       "      <td>NaN</td>\n",
       "      <td>...</td>\n",
       "      <td>7.000000</td>\n",
       "      <td>NaN</td>\n",
       "      <td>2.000000</td>\n",
       "      <td>NaN</td>\n",
       "      <td>NaN</td>\n",
       "      <td>NaN</td>\n",
       "      <td>NaN</td>\n",
       "      <td>NaN</td>\n",
       "      <td>NaN</td>\n",
       "      <td>NaN</td>\n",
       "    </tr>\n",
       "    <tr>\n",
       "      <td>50%</td>\n",
       "      <td>2013.0</td>\n",
       "      <td>2.095570e+08</td>\n",
       "      <td>3057.583187</td>\n",
       "      <td>NaN</td>\n",
       "      <td>NaN</td>\n",
       "      <td>NaN</td>\n",
       "      <td>2.000000</td>\n",
       "      <td>NaN</td>\n",
       "      <td>2013.0</td>\n",
       "      <td>NaN</td>\n",
       "      <td>...</td>\n",
       "      <td>8.000000</td>\n",
       "      <td>NaN</td>\n",
       "      <td>2.000000</td>\n",
       "      <td>NaN</td>\n",
       "      <td>NaN</td>\n",
       "      <td>NaN</td>\n",
       "      <td>NaN</td>\n",
       "      <td>NaN</td>\n",
       "      <td>NaN</td>\n",
       "      <td>NaN</td>\n",
       "    </tr>\n",
       "    <tr>\n",
       "      <td>75%</td>\n",
       "      <td>2013.0</td>\n",
       "      <td>2.985014e+08</td>\n",
       "      <td>3349.465812</td>\n",
       "      <td>NaN</td>\n",
       "      <td>NaN</td>\n",
       "      <td>NaN</td>\n",
       "      <td>3.000000</td>\n",
       "      <td>NaN</td>\n",
       "      <td>2013.0</td>\n",
       "      <td>NaN</td>\n",
       "      <td>...</td>\n",
       "      <td>9.000000</td>\n",
       "      <td>NaN</td>\n",
       "      <td>3.000000</td>\n",
       "      <td>NaN</td>\n",
       "      <td>NaN</td>\n",
       "      <td>NaN</td>\n",
       "      <td>NaN</td>\n",
       "      <td>NaN</td>\n",
       "      <td>NaN</td>\n",
       "      <td>NaN</td>\n",
       "    </tr>\n",
       "    <tr>\n",
       "      <td>max</td>\n",
       "      <td>2013.0</td>\n",
       "      <td>4.011008e+08</td>\n",
       "      <td>6445.686901</td>\n",
       "      <td>NaN</td>\n",
       "      <td>NaN</td>\n",
       "      <td>NaN</td>\n",
       "      <td>3.000000</td>\n",
       "      <td>NaN</td>\n",
       "      <td>2013.0</td>\n",
       "      <td>NaN</td>\n",
       "      <td>...</td>\n",
       "      <td>99.000000</td>\n",
       "      <td>NaN</td>\n",
       "      <td>9.000000</td>\n",
       "      <td>NaN</td>\n",
       "      <td>NaN</td>\n",
       "      <td>NaN</td>\n",
       "      <td>NaN</td>\n",
       "      <td>NaN</td>\n",
       "      <td>NaN</td>\n",
       "      <td>NaN</td>\n",
       "    </tr>\n",
       "  </tbody>\n",
       "</table>\n",
       "<p>8 rows × 281 columns</p>\n",
       "</div>"
      ],
      "text/plain": [
       "         PB010         PB030         PB040  PB040_F  PB060  PB060_F  \\\n",
       "count  22042.0  2.204200e+04  22042.000000      0.0    0.0      0.0   \n",
       "mean    2013.0  2.060714e+08   3145.641398      NaN    NaN      NaN   \n",
       "std        0.0  1.136807e+08    735.421261      NaN    NaN      NaN   \n",
       "min     2013.0  3.560100e+04   1672.780749      NaN    NaN      NaN   \n",
       "25%     2013.0  1.097705e+08   2848.534031      NaN    NaN      NaN   \n",
       "50%     2013.0  2.095570e+08   3057.583187      NaN    NaN      NaN   \n",
       "75%     2013.0  2.985014e+08   3349.465812      NaN    NaN      NaN   \n",
       "max     2013.0  4.011008e+08   6445.686901      NaN    NaN      NaN   \n",
       "\n",
       "              PB100  PB100_F    PB110  PB110_F  ...         PW210  PW210_F  \\\n",
       "count  22042.000000      0.0  22042.0      0.0  ...  18565.000000      0.0   \n",
       "mean       2.436394      NaN   2013.0      NaN  ...      8.619930      NaN   \n",
       "std        0.495949      NaN      0.0      NaN  ...      9.456481      NaN   \n",
       "min        2.000000      NaN   2013.0      NaN  ...      0.000000      NaN   \n",
       "25%        2.000000      NaN   2013.0      NaN  ...      7.000000      NaN   \n",
       "50%        2.000000      NaN   2013.0      NaN  ...      8.000000      NaN   \n",
       "75%        3.000000      NaN   2013.0      NaN  ...      9.000000      NaN   \n",
       "max        3.000000      NaN   2013.0      NaN  ...     99.000000      NaN   \n",
       "\n",
       "              PW220  PW220_F  PX010  PX020  PX030  PX040  PX050  PX200  \n",
       "count  18593.000000      0.0    0.0    0.0    0.0    0.0    0.0    0.0  \n",
       "mean       2.206260      NaN    NaN    NaN    NaN    NaN    NaN    NaN  \n",
       "std        1.150235      NaN    NaN    NaN    NaN    NaN    NaN    NaN  \n",
       "min        1.000000      NaN    NaN    NaN    NaN    NaN    NaN    NaN  \n",
       "25%        2.000000      NaN    NaN    NaN    NaN    NaN    NaN    NaN  \n",
       "50%        2.000000      NaN    NaN    NaN    NaN    NaN    NaN    NaN  \n",
       "75%        3.000000      NaN    NaN    NaN    NaN    NaN    NaN    NaN  \n",
       "max        9.000000      NaN    NaN    NaN    NaN    NaN    NaN    NaN  \n",
       "\n",
       "[8 rows x 281 columns]"
      ]
     },
     "execution_count": 54,
     "metadata": {},
     "output_type": "execute_result"
    }
   ],
   "source": [
    "data3.describe()"
   ]
  },
  {
   "cell_type": "code",
   "execution_count": 55,
   "metadata": {},
   "outputs": [
    {
     "data": {
      "text/plain": [
       "74"
      ]
     },
     "execution_count": 55,
     "metadata": {},
     "output_type": "execute_result"
    }
   ],
   "source": [
    "ds = data3.dropna(thresh=len(data3)*0.1, axis=1)\n",
    "len(ds.columns)"
   ]
  },
  {
   "cell_type": "code",
   "execution_count": 56,
   "metadata": {},
   "outputs": [
    {
     "data": {
      "text/plain": [
       "Index(['PB010', 'PB020', 'PB030', 'PB040', 'PB100', 'PB110', 'PB120', 'PB140',\n",
       "       'PB150', 'PB190', 'PB200', 'PB220A', 'PE010', 'PE020', 'PE040', 'PL031',\n",
       "       'PL035', 'PL015', 'PL020', 'PL040', 'PL051', 'PL060', 'PL111', 'PL120',\n",
       "       'PL130', 'PL140', 'PL150', 'PL160', 'PL190', 'PH010', 'PH020', 'PH030',\n",
       "       'PH040', 'PH060', 'PY010G', 'PY020G', 'PY021G', 'PY035G', 'PY050G',\n",
       "       'PY080G', 'PY090G', 'PY100G', 'PY110G', 'PY120G', 'PY130G', 'PY140G',\n",
       "       'PD020', 'PD030', 'PD050', 'PD060', 'PD070', 'PD080', 'PW010', 'PW020',\n",
       "       'PW030', 'PW040', 'PW050', 'PW060', 'PW070', 'PW080', 'PW090', 'PW100',\n",
       "       'PW110', 'PW120', 'PW130', 'PW140', 'PW150', 'PW160', 'PW170', 'PW180',\n",
       "       'PW190', 'PW200', 'PW210', 'PW220'],\n",
       "      dtype='object')"
      ]
     },
     "execution_count": 56,
     "metadata": {},
     "output_type": "execute_result"
    }
   ],
   "source": [
    "ds.columns"
   ]
  },
  {
   "cell_type": "code",
   "execution_count": 58,
   "metadata": {},
   "outputs": [
    {
     "data": {
      "text/html": [
       "<div>\n",
       "<style scoped>\n",
       "    .dataframe tbody tr th:only-of-type {\n",
       "        vertical-align: middle;\n",
       "    }\n",
       "\n",
       "    .dataframe tbody tr th {\n",
       "        vertical-align: top;\n",
       "    }\n",
       "\n",
       "    .dataframe thead th {\n",
       "        text-align: right;\n",
       "    }\n",
       "</style>\n",
       "<table border=\"1\" class=\"dataframe\">\n",
       "  <thead>\n",
       "    <tr style=\"text-align: right;\">\n",
       "      <th></th>\n",
       "      <th>PB010</th>\n",
       "      <th>PB030</th>\n",
       "      <th>PB040</th>\n",
       "      <th>PB100</th>\n",
       "      <th>PB110</th>\n",
       "      <th>PB120</th>\n",
       "      <th>PB140</th>\n",
       "      <th>PB150</th>\n",
       "      <th>PB190</th>\n",
       "      <th>PB200</th>\n",
       "      <th>...</th>\n",
       "      <th>PW130</th>\n",
       "      <th>PW140</th>\n",
       "      <th>PW150</th>\n",
       "      <th>PW160</th>\n",
       "      <th>PW170</th>\n",
       "      <th>PW180</th>\n",
       "      <th>PW190</th>\n",
       "      <th>PW200</th>\n",
       "      <th>PW210</th>\n",
       "      <th>PW220</th>\n",
       "    </tr>\n",
       "  </thead>\n",
       "  <tbody>\n",
       "    <tr>\n",
       "      <td>count</td>\n",
       "      <td>22042.0</td>\n",
       "      <td>2.204200e+04</td>\n",
       "      <td>22042.000000</td>\n",
       "      <td>22042.000000</td>\n",
       "      <td>22042.0</td>\n",
       "      <td>22042.000000</td>\n",
       "      <td>22042.000000</td>\n",
       "      <td>22042.000000</td>\n",
       "      <td>21883.000000</td>\n",
       "      <td>22042.000000</td>\n",
       "      <td>...</td>\n",
       "      <td>18626.000000</td>\n",
       "      <td>18611.000000</td>\n",
       "      <td>18519.000000</td>\n",
       "      <td>18468.000000</td>\n",
       "      <td>18701.000000</td>\n",
       "      <td>18664.000000</td>\n",
       "      <td>18619.000000</td>\n",
       "      <td>18578.000000</td>\n",
       "      <td>18565.000000</td>\n",
       "      <td>18593.000000</td>\n",
       "    </tr>\n",
       "    <tr>\n",
       "      <td>mean</td>\n",
       "      <td>2013.0</td>\n",
       "      <td>2.060714e+08</td>\n",
       "      <td>3145.641398</td>\n",
       "      <td>2.436394</td>\n",
       "      <td>2013.0</td>\n",
       "      <td>34.653298</td>\n",
       "      <td>1963.266401</td>\n",
       "      <td>1.509845</td>\n",
       "      <td>2.155006</td>\n",
       "      <td>1.884765</td>\n",
       "      <td>...</td>\n",
       "      <td>8.972619</td>\n",
       "      <td>9.004460</td>\n",
       "      <td>9.484151</td>\n",
       "      <td>8.974930</td>\n",
       "      <td>1.326453</td>\n",
       "      <td>1.261627</td>\n",
       "      <td>7.837961</td>\n",
       "      <td>9.460652</td>\n",
       "      <td>8.619930</td>\n",
       "      <td>2.206260</td>\n",
       "    </tr>\n",
       "    <tr>\n",
       "      <td>std</td>\n",
       "      <td>0.0</td>\n",
       "      <td>1.136807e+08</td>\n",
       "      <td>735.421261</td>\n",
       "      <td>0.495949</td>\n",
       "      <td>0.0</td>\n",
       "      <td>18.191672</td>\n",
       "      <td>18.109522</td>\n",
       "      <td>0.499914</td>\n",
       "      <td>1.204184</td>\n",
       "      <td>0.956788</td>\n",
       "      <td>...</td>\n",
       "      <td>19.267931</td>\n",
       "      <td>18.429625</td>\n",
       "      <td>16.882866</td>\n",
       "      <td>10.427592</td>\n",
       "      <td>1.436871</td>\n",
       "      <td>1.317381</td>\n",
       "      <td>14.819047</td>\n",
       "      <td>13.197976</td>\n",
       "      <td>9.456481</td>\n",
       "      <td>1.150235</td>\n",
       "    </tr>\n",
       "    <tr>\n",
       "      <td>min</td>\n",
       "      <td>2013.0</td>\n",
       "      <td>3.560100e+04</td>\n",
       "      <td>1672.780749</td>\n",
       "      <td>2.000000</td>\n",
       "      <td>2013.0</td>\n",
       "      <td>10.000000</td>\n",
       "      <td>1932.000000</td>\n",
       "      <td>1.000000</td>\n",
       "      <td>1.000000</td>\n",
       "      <td>1.000000</td>\n",
       "      <td>...</td>\n",
       "      <td>0.000000</td>\n",
       "      <td>0.000000</td>\n",
       "      <td>0.000000</td>\n",
       "      <td>0.000000</td>\n",
       "      <td>1.000000</td>\n",
       "      <td>1.000000</td>\n",
       "      <td>0.000000</td>\n",
       "      <td>0.000000</td>\n",
       "      <td>0.000000</td>\n",
       "      <td>1.000000</td>\n",
       "    </tr>\n",
       "    <tr>\n",
       "      <td>25%</td>\n",
       "      <td>2013.0</td>\n",
       "      <td>1.097705e+08</td>\n",
       "      <td>2848.534031</td>\n",
       "      <td>2.000000</td>\n",
       "      <td>2013.0</td>\n",
       "      <td>20.000000</td>\n",
       "      <td>1949.000000</td>\n",
       "      <td>1.000000</td>\n",
       "      <td>1.000000</td>\n",
       "      <td>1.000000</td>\n",
       "      <td>...</td>\n",
       "      <td>3.000000</td>\n",
       "      <td>3.000000</td>\n",
       "      <td>5.000000</td>\n",
       "      <td>7.000000</td>\n",
       "      <td>1.000000</td>\n",
       "      <td>1.000000</td>\n",
       "      <td>4.000000</td>\n",
       "      <td>7.000000</td>\n",
       "      <td>7.000000</td>\n",
       "      <td>2.000000</td>\n",
       "    </tr>\n",
       "    <tr>\n",
       "      <td>50%</td>\n",
       "      <td>2013.0</td>\n",
       "      <td>2.095570e+08</td>\n",
       "      <td>3057.583187</td>\n",
       "      <td>2.000000</td>\n",
       "      <td>2013.0</td>\n",
       "      <td>30.000000</td>\n",
       "      <td>1963.000000</td>\n",
       "      <td>2.000000</td>\n",
       "      <td>2.000000</td>\n",
       "      <td>1.000000</td>\n",
       "      <td>...</td>\n",
       "      <td>5.000000</td>\n",
       "      <td>6.000000</td>\n",
       "      <td>7.000000</td>\n",
       "      <td>8.000000</td>\n",
       "      <td>1.000000</td>\n",
       "      <td>1.000000</td>\n",
       "      <td>6.000000</td>\n",
       "      <td>8.000000</td>\n",
       "      <td>8.000000</td>\n",
       "      <td>2.000000</td>\n",
       "    </tr>\n",
       "    <tr>\n",
       "      <td>75%</td>\n",
       "      <td>2013.0</td>\n",
       "      <td>2.985014e+08</td>\n",
       "      <td>3349.465812</td>\n",
       "      <td>3.000000</td>\n",
       "      <td>2013.0</td>\n",
       "      <td>45.000000</td>\n",
       "      <td>1978.000000</td>\n",
       "      <td>2.000000</td>\n",
       "      <td>2.000000</td>\n",
       "      <td>3.000000</td>\n",
       "      <td>...</td>\n",
       "      <td>7.000000</td>\n",
       "      <td>8.000000</td>\n",
       "      <td>8.000000</td>\n",
       "      <td>9.000000</td>\n",
       "      <td>1.000000</td>\n",
       "      <td>1.000000</td>\n",
       "      <td>7.000000</td>\n",
       "      <td>9.000000</td>\n",
       "      <td>9.000000</td>\n",
       "      <td>3.000000</td>\n",
       "    </tr>\n",
       "    <tr>\n",
       "      <td>max</td>\n",
       "      <td>2013.0</td>\n",
       "      <td>4.011008e+08</td>\n",
       "      <td>6445.686901</td>\n",
       "      <td>3.000000</td>\n",
       "      <td>2013.0</td>\n",
       "      <td>90.000000</td>\n",
       "      <td>1996.000000</td>\n",
       "      <td>2.000000</td>\n",
       "      <td>5.000000</td>\n",
       "      <td>3.000000</td>\n",
       "      <td>...</td>\n",
       "      <td>99.000000</td>\n",
       "      <td>99.000000</td>\n",
       "      <td>99.000000</td>\n",
       "      <td>99.000000</td>\n",
       "      <td>9.000000</td>\n",
       "      <td>9.000000</td>\n",
       "      <td>99.000000</td>\n",
       "      <td>99.000000</td>\n",
       "      <td>99.000000</td>\n",
       "      <td>9.000000</td>\n",
       "    </tr>\n",
       "  </tbody>\n",
       "</table>\n",
       "<p>8 rows × 71 columns</p>\n",
       "</div>"
      ],
      "text/plain": [
       "         PB010         PB030         PB040         PB100    PB110  \\\n",
       "count  22042.0  2.204200e+04  22042.000000  22042.000000  22042.0   \n",
       "mean    2013.0  2.060714e+08   3145.641398      2.436394   2013.0   \n",
       "std        0.0  1.136807e+08    735.421261      0.495949      0.0   \n",
       "min     2013.0  3.560100e+04   1672.780749      2.000000   2013.0   \n",
       "25%     2013.0  1.097705e+08   2848.534031      2.000000   2013.0   \n",
       "50%     2013.0  2.095570e+08   3057.583187      2.000000   2013.0   \n",
       "75%     2013.0  2.985014e+08   3349.465812      3.000000   2013.0   \n",
       "max     2013.0  4.011008e+08   6445.686901      3.000000   2013.0   \n",
       "\n",
       "              PB120         PB140         PB150         PB190         PB200  \\\n",
       "count  22042.000000  22042.000000  22042.000000  21883.000000  22042.000000   \n",
       "mean      34.653298   1963.266401      1.509845      2.155006      1.884765   \n",
       "std       18.191672     18.109522      0.499914      1.204184      0.956788   \n",
       "min       10.000000   1932.000000      1.000000      1.000000      1.000000   \n",
       "25%       20.000000   1949.000000      1.000000      1.000000      1.000000   \n",
       "50%       30.000000   1963.000000      2.000000      2.000000      1.000000   \n",
       "75%       45.000000   1978.000000      2.000000      2.000000      3.000000   \n",
       "max       90.000000   1996.000000      2.000000      5.000000      3.000000   \n",
       "\n",
       "       ...         PW130         PW140         PW150         PW160  \\\n",
       "count  ...  18626.000000  18611.000000  18519.000000  18468.000000   \n",
       "mean   ...      8.972619      9.004460      9.484151      8.974930   \n",
       "std    ...     19.267931     18.429625     16.882866     10.427592   \n",
       "min    ...      0.000000      0.000000      0.000000      0.000000   \n",
       "25%    ...      3.000000      3.000000      5.000000      7.000000   \n",
       "50%    ...      5.000000      6.000000      7.000000      8.000000   \n",
       "75%    ...      7.000000      8.000000      8.000000      9.000000   \n",
       "max    ...     99.000000     99.000000     99.000000     99.000000   \n",
       "\n",
       "              PW170         PW180         PW190         PW200         PW210  \\\n",
       "count  18701.000000  18664.000000  18619.000000  18578.000000  18565.000000   \n",
       "mean       1.326453      1.261627      7.837961      9.460652      8.619930   \n",
       "std        1.436871      1.317381     14.819047     13.197976      9.456481   \n",
       "min        1.000000      1.000000      0.000000      0.000000      0.000000   \n",
       "25%        1.000000      1.000000      4.000000      7.000000      7.000000   \n",
       "50%        1.000000      1.000000      6.000000      8.000000      8.000000   \n",
       "75%        1.000000      1.000000      7.000000      9.000000      9.000000   \n",
       "max        9.000000      9.000000     99.000000     99.000000     99.000000   \n",
       "\n",
       "              PW220  \n",
       "count  18593.000000  \n",
       "mean       2.206260  \n",
       "std        1.150235  \n",
       "min        1.000000  \n",
       "25%        2.000000  \n",
       "50%        2.000000  \n",
       "75%        3.000000  \n",
       "max        9.000000  \n",
       "\n",
       "[8 rows x 71 columns]"
      ]
     },
     "execution_count": 58,
     "metadata": {},
     "output_type": "execute_result"
    }
   ],
   "source": [
    "ds.describe()"
   ]
  },
  {
   "cell_type": "markdown",
   "metadata": {},
   "source": []
  },
  {
   "cell_type": "code",
   "execution_count": null,
   "metadata": {},
   "outputs": [],
   "source": []
  }
 ],
 "metadata": {
  "kernelspec": {
   "display_name": "Python 3",
   "language": "python",
   "name": "python3"
  },
  "language_info": {
   "codemirror_mode": {
    "name": "ipython",
    "version": 3
   },
   "file_extension": ".py",
   "mimetype": "text/x-python",
   "name": "python",
   "nbconvert_exporter": "python",
   "pygments_lexer": "ipython3",
   "version": "3.7.4"
  }
 },
 "nbformat": 4,
 "nbformat_minor": 2
}
