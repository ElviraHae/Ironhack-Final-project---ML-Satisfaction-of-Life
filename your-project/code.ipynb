{
 "cells": [
  {
   "cell_type": "code",
   "execution_count": 183,
   "metadata": {},
   "outputs": [],
   "source": [
    "import pandas as pd\n",
    "import numpy as np\n",
    "import matplotlib.pyplot as plt"
   ]
  },
  {
   "cell_type": "markdown",
   "metadata": {},
   "source": [
    "##### Datas: \n",
    "https://ec.europa.eu/eurostat/web/microdata/statistics-on-income-and-living-conditions\n",
    "\n",
    "##### Documentation:\n",
    "https://circabc.europa.eu/faces/jsp/extension/wai/navigation/container.jsp?FormPrincipal:_idcl=FormPrincipal:_id1&FormPrincipal_SUBMIT=1&id=c31bb5ae-2de6-49d3-bdcb-21992b3a2935&javax.faces.ViewState=meuDdJMlFsG5yNkNcejyPL481TffTqBlmAoXxLv4eKPClWnkj%2FIBx85kqWpflSLguyT5ndOI7k0APPg0%2F305IGJeFLWQfTP7dBwL1Bo1Kxt7G7Quw5NsD8LJJe9kdthN%2B%2BdW8EdW%2BAC%2FqwKdG11ap%2Fd0I6k%3D"
   ]
  },
  {
   "cell_type": "markdown",
   "metadata": {},
   "source": [
    "# 1. Data Import and decide which one to use"
   ]
  },
  {
   "cell_type": "markdown",
   "metadata": {},
   "source": [
    "## 1.1 Household Data Germany"
   ]
  },
  {
   "cell_type": "markdown",
   "metadata": {},
   "source": [
    "### 1.1.1 Houshold Register Data"
   ]
  },
  {
   "cell_type": "code",
   "execution_count": 184,
   "metadata": {},
   "outputs": [],
   "source": [
    "hhd = pd.read_csv(\"./data/DE_2013d_EUSILC.csv\")"
   ]
  },
  {
   "cell_type": "code",
   "execution_count": 185,
   "metadata": {
    "scrolled": true
   },
   "outputs": [
    {
     "data": {
      "text/plain": [
       "(12703, 17)"
      ]
     },
     "execution_count": 185,
     "metadata": {},
     "output_type": "execute_result"
    }
   ],
   "source": [
    "hhd.shape"
   ]
  },
  {
   "cell_type": "code",
   "execution_count": 186,
   "metadata": {},
   "outputs": [
    {
     "data": {
      "text/plain": [
       "DB010          0\n",
       "DB020          0\n",
       "DB030          0\n",
       "DB040      12703\n",
       "DB040_F    12703\n",
       "DB060      12703\n",
       "DB060_F    12703\n",
       "DB062      12703\n",
       "DB062_F    12703\n",
       "DB070      12703\n",
       "DB070_F    12703\n",
       "DB075      12703\n",
       "DB075_F    12703\n",
       "DB090          0\n",
       "DB090_F    12703\n",
       "DB100      12703\n",
       "DB100_F    12703\n",
       "dtype: int64"
      ]
     },
     "execution_count": 186,
     "metadata": {},
     "output_type": "execute_result"
    }
   ],
   "source": [
    "hhd.isna().sum()"
   ]
  },
  {
   "cell_type": "code",
   "execution_count": 187,
   "metadata": {},
   "outputs": [],
   "source": [
    "## conlusion: no additional information to the next dataset"
   ]
  },
  {
   "cell_type": "markdown",
   "metadata": {},
   "source": [
    "### 1.1.2 Houshold Survey Data"
   ]
  },
  {
   "cell_type": "code",
   "execution_count": 188,
   "metadata": {},
   "outputs": [],
   "source": [
    "hhh = pd.read_csv(\"./data/DE_2013h_EUSILC.csv\")"
   ]
  },
  {
   "cell_type": "code",
   "execution_count": 189,
   "metadata": {},
   "outputs": [
    {
     "data": {
      "text/plain": [
       "(12703, 216)"
      ]
     },
     "execution_count": 189,
     "metadata": {},
     "output_type": "execute_result"
    }
   ],
   "source": [
    "hhh.shape"
   ]
  },
  {
   "cell_type": "code",
   "execution_count": 190,
   "metadata": {},
   "outputs": [
    {
     "data": {
      "text/plain": [
       "(12703, 49)"
      ]
     },
     "execution_count": 190,
     "metadata": {},
     "output_type": "execute_result"
    }
   ],
   "source": [
    "## Drop columns with more than 20% nans\n",
    "hhh=hhh.dropna(thresh=len(hhh)*0.8, axis=1)\n",
    "hhh.shape"
   ]
  },
  {
   "cell_type": "code",
   "execution_count": 191,
   "metadata": {},
   "outputs": [
    {
     "data": {
      "text/plain": [
       "Index(['HB010', 'HB020', 'HB030', 'HB050', 'HB060', 'HB100', 'HY010', 'HY020',\n",
       "       'HY022', 'HY023', 'HY040G', 'HY050G', 'HY060G', 'HY070G', 'HY080G',\n",
       "       'HY081G', 'HY090G', 'HY100G', 'HY110G', 'HY120G', 'HY130G', 'HY131G',\n",
       "       'HY140G', 'HY170G', 'HS021', 'HS040', 'HS050', 'HS060', 'HS070',\n",
       "       'HS080', 'HS090', 'HS100', 'HS110', 'HS120', 'HS130', 'HS140', 'HS160',\n",
       "       'HS170', 'HS180', 'HS190', 'HH010', 'HH021', 'HH030', 'HH040', 'HH050',\n",
       "       'HH070', 'HH081', 'HH091', 'HD080'],\n",
       "      dtype='object')"
      ]
     },
     "execution_count": 191,
     "metadata": {},
     "output_type": "execute_result"
    }
   ],
   "source": [
    "hhh.columns"
   ]
  },
  {
   "cell_type": "code",
   "execution_count": 192,
   "metadata": {},
   "outputs": [],
   "source": [
    "## dictionary based on\n",
    "columnnames = {\n",
    "\"HB010\": \"HB010: YEAR OF THE SURVEY\", \n",
    "\"HB020\": \"HB020: COUNTRY\", \n",
    "\"HB030\": \"HB030: HOUSEHOLD ID\", \n",
    "\"HB050\": \"HB050: MONTH OF HOUSEHOLD INTERVIEW\",\n",
    "\"HB060\": \"HB060: YEAR OF HOUSEHOLD INTERVIEW\",\n",
    "\"HB100\": \"HB100: NUMBER OF MINUTES TO COMPLETE THE HOUSEHOLD QUESTIONNAIRE\", \n",
    "\"HH010\": \"HH010: DWELLING TYPE\",\n",
    "\"HH021\": \"HH021: TENURE STATUS\",\n",
    "\"HH030\": \"HH030: NUMBER OF ROOMS AVAILABLE TO THE HOUSEHOLD\", \n",
    "\"HH031\": \"HH031: YEAR OF CONTRACT OR PURCHASING OR INSTALLATION\",\n",
    "\"HH040\": \"HH040: LEAKING ROOF, DAMP WALLS/FLOORS/FOUNDATION, OR ROT IN WINDOW FRAMES OR FLOOR\", \n",
    "\"HH050\": \"HH050: BILITY TO KEEP HOME ADEQUATELY WARM\",\n",
    "\"HH060\": \"HH060: CURRENT RENT RELATED TO OCCUPIED DWELLING\", \n",
    "\"HH061\": \"HH061: SUBJECTIVE RENT\", \n",
    "\"HH070\": \"HH070: TOTAL HOUSING COST\",\n",
    "\"HH071\": \"HH071: MORTGAGE PRINCIPAL REPAYMENT\",\n",
    "\"HH081\": \"HH081: BATH OR SHOWER IN DWELLING\",\n",
    "\"HH091\": \"HH091: INDOOR FLUSHING TOILET FOR SOLE USE OF HOUSEHOLD\",\n",
    "\"HS011\": \"HS011: ARREARS ON MORTGAGE OR RENT PAYMENTS\",\n",
    "\"HS021\": \"HS021: ARREARS ON UTILITY BILLS\",\n",
    "\"HS031\": \"HS031: ARREARS ON HIRE PURCHASE INSTALMENTS OR OTHER LOAN PAYMENTS\",\n",
    "\"HS040\": \"HS040: CAPACITY TO AFFORD PAYING FOR ONE WEEK ANNUAL HOLIDAY AWAY FROM HOME\",\n",
    "\"HS050\": \"HS050: CAPACITY TO AFFORD A MEAL WITH MEAT, CHICKEN, FISH (OR VEGETARIAN EQUIVALENT) EVERY SECOND DAY\" ,\n",
    "\"HS060\": \"HS060: CAPACITY TO FACE UNEXPECTED FINANCIAL EXPENSES\",\n",
    "\"HS070\": \"HS070: DO YOU HAVE A TELEPHONE (INCLUDING MOBILE PHONE)\",\n",
    "\"HS080\": \"HS080: DO YOU HAVE A COLOUR TV\", \n",
    "\"HS090\": \"HS090: DO YOU HAVE A COMPUTER\",\n",
    "\"HS100\": \"HS100: DO YOU HAVE A WASHING MACHINE\",\n",
    "\"HS110\": \"HS110: DO YOU HAVE A CAR\", \n",
    "\"HS120\": \"HS120: ABILITY TO MAKE ENDS MEET\",\n",
    "\"HS130\": \"HS130: LOWEST MONTHLY INCOME TO MAKE ENDS MEET\",\n",
    "\"HS140\": \"HS140: FINANCIAL BURDEN OF THE TOTAL HOUSING COST\",\n",
    "\"HS150\": \"HS150: FINANCIAL BURDEN OF THE REPAYMENT OF DEBTS FROM HIRE PURCHASES OR LOANS\",\n",
    "\"HS160\": \"HS160: PROBLEMS WITH THE DWELLING: TOO DARK, NOT ENOUGH LIGHT\",\n",
    "\"HS170\": \"HS170: NOISE FROM NEIGHBOURS OR FROM THE STREET\",\n",
    "\"HS180\": \"HS180: POLLUTION, GRIME OR OTHER ENVIRONMENTAL PROBLEMS\",\n",
    "\"HS190\": \"HS190: CRIME VIOLENCE OR VANDALISM IN THE AREA\",\n",
    "\"HY010\": \"HY010: TOTAL HOUSEHOLD GROSS INCOME\",\n",
    "\"HY020\": \"HY020: TOTAL DISPOSABLE HOUSEHOLD INCOME\" ,\n",
    "\"HY022\": \"HY022: TOTAL DISPOSABLE HOUSEHOLD INCOME BEFORE SOCIAL TRANSFERS OTHER THAN OLD-AGE AND SURVIVOR'S BENEFITS\", \n",
    "\"HY023\": \"HY023: TOTAL DISPOSABLE HOUSEHOLD INCOME BEFORE SOCIAL TRANSFERS INCLUDING OLD-AGE AND SURVIVOR'S BENEFITS\", \n",
    "\"HY025\": \"HY025: WITHIN-HOUSEHOLD NON-RESPONSE INFLATION FACTOR\", \n",
    "\"HY030G\": \"HY030G: IMPUTED RENT\",\n",
    "\"HY040G\": \"HY040G: INCOME FROM RENTAL OF A PROPERTY OR LAND\",\n",
    "\"HY090G\": \"HY090G: INTEREST, DIVIDENDS, PROFIT FROM CAPITAL INVESTMENTS IN UNINCORPORATED BUSINESS\",\n",
    "\"HY050G\": \"HY050G: FAMILY/CHILDREN RELATED ALLOWANCES\",\n",
    "\"HY060G\": \"HY060G: SOCIAL EXCLUSION NOT ELSEWHERE CLASSIFIED\",\n",
    "\"HY070G\": \"HY070G: HOUSING ALLOWANCES\",\n",
    "\"HY080G\": \"HY080G: REGULAR INTER-HOUSEHOLD CASH TRANSFER RECEIVED\", \n",
    "\"HY081G\": \"HY081G: ALIMONIES RECEIVED (COMPULSORY + VOLUNTARY)\",\n",
    "\"HY100G\": \"HY100G: INTEREST REPAYMENTS ON MORTGAGE\",\n",
    "\"HY110G\": \"HY110G: INCOME RECEIVED BY PEOPLE AGED UNDER\", \n",
    "\"HY120G\": \"HY120G: REGULAR TAXES ON WEALTH\",\n",
    "\"HY130G\": \"HY130G: REGULAR INTER-HOUSEHOLD CASH TRANSFER PAID\",\n",
    "\"HY131G\": \"HY131G: ALIMONIES PAID (COMPULSORY + VOLUNTARY)\",\n",
    "\"HY140G\": \"HY140G: TAX ON INCOME AND SOCIAL CONTRIBUTIONS\", \n",
    "\"HY145N\": \"HY145N: REPAYMENTS/RECEIPTS FOR TAX ADJUSTMENT\",\n",
    "\"HY170G\": \"HY170G: VALUE OF GOODS PRODUCED FOR OWN CONSUMPTION\",\n",
    "}"
   ]
  },
  {
   "cell_type": "code",
   "execution_count": 193,
   "metadata": {},
   "outputs": [
    {
     "data": {
      "text/plain": [
       "Index(['HB010: YEAR OF THE SURVEY', 'HB020: COUNTRY', 'HB030: HOUSEHOLD ID',\n",
       "       'HB050: MONTH OF HOUSEHOLD INTERVIEW',\n",
       "       'HB060: YEAR OF HOUSEHOLD INTERVIEW',\n",
       "       'HB100: NUMBER OF MINUTES TO COMPLETE THE HOUSEHOLD QUESTIONNAIRE',\n",
       "       'HY010: TOTAL HOUSEHOLD GROSS INCOME',\n",
       "       'HY020: TOTAL DISPOSABLE HOUSEHOLD INCOME',\n",
       "       'HY022: TOTAL DISPOSABLE HOUSEHOLD INCOME BEFORE SOCIAL TRANSFERS OTHER THAN OLD-AGE AND SURVIVOR'S BENEFITS',\n",
       "       'HY023: TOTAL DISPOSABLE HOUSEHOLD INCOME BEFORE SOCIAL TRANSFERS INCLUDING OLD-AGE AND SURVIVOR'S BENEFITS',\n",
       "       'HY040G: INCOME FROM RENTAL OF A PROPERTY OR LAND',\n",
       "       'HY050G: FAMILY/CHILDREN RELATED ALLOWANCES',\n",
       "       'HY060G: SOCIAL EXCLUSION NOT ELSEWHERE CLASSIFIED',\n",
       "       'HY070G: HOUSING ALLOWANCES',\n",
       "       'HY080G: REGULAR INTER-HOUSEHOLD CASH TRANSFER RECEIVED',\n",
       "       'HY081G: ALIMONIES RECEIVED (COMPULSORY + VOLUNTARY)',\n",
       "       'HY090G: INTEREST, DIVIDENDS, PROFIT FROM CAPITAL INVESTMENTS IN UNINCORPORATED BUSINESS',\n",
       "       'HY100G: INTEREST REPAYMENTS ON MORTGAGE',\n",
       "       'HY110G: INCOME RECEIVED BY PEOPLE AGED UNDER',\n",
       "       'HY120G: REGULAR TAXES ON WEALTH',\n",
       "       'HY130G: REGULAR INTER-HOUSEHOLD CASH TRANSFER PAID',\n",
       "       'HY131G: ALIMONIES PAID (COMPULSORY + VOLUNTARY)',\n",
       "       'HY140G: TAX ON INCOME AND SOCIAL CONTRIBUTIONS',\n",
       "       'HY170G: VALUE OF GOODS PRODUCED FOR OWN CONSUMPTION',\n",
       "       'HS021: ARREARS ON UTILITY BILLS',\n",
       "       'HS040: CAPACITY TO AFFORD PAYING FOR ONE WEEK ANNUAL HOLIDAY AWAY FROM HOME',\n",
       "       'HS050: CAPACITY TO AFFORD A MEAL WITH MEAT, CHICKEN, FISH (OR VEGETARIAN EQUIVALENT) EVERY SECOND DAY',\n",
       "       'HS060: CAPACITY TO FACE UNEXPECTED FINANCIAL EXPENSES',\n",
       "       'HS070: DO YOU HAVE A TELEPHONE (INCLUDING MOBILE PHONE)',\n",
       "       'HS080: DO YOU HAVE A COLOUR TV', 'HS090: DO YOU HAVE A COMPUTER',\n",
       "       'HS100: DO YOU HAVE A WASHING MACHINE', 'HS110: DO YOU HAVE A CAR',\n",
       "       'HS120: ABILITY TO MAKE ENDS MEET',\n",
       "       'HS130: LOWEST MONTHLY INCOME TO MAKE ENDS MEET',\n",
       "       'HS140: FINANCIAL BURDEN OF THE TOTAL HOUSING COST',\n",
       "       'HS160: PROBLEMS WITH THE DWELLING: TOO DARK, NOT ENOUGH LIGHT',\n",
       "       'HS170: NOISE FROM NEIGHBOURS OR FROM THE STREET',\n",
       "       'HS180: POLLUTION, GRIME OR OTHER ENVIRONMENTAL PROBLEMS',\n",
       "       'HS190: CRIME VIOLENCE OR VANDALISM IN THE AREA',\n",
       "       'HH010: DWELLING TYPE', 'HH021: TENURE STATUS',\n",
       "       'HH030: NUMBER OF ROOMS AVAILABLE TO THE HOUSEHOLD',\n",
       "       'HH040: LEAKING ROOF, DAMP WALLS/FLOORS/FOUNDATION, OR ROT IN WINDOW FRAMES OR FLOOR',\n",
       "       'HH050: BILITY TO KEEP HOME ADEQUATELY WARM',\n",
       "       'HH070: TOTAL HOUSING COST', 'HH081: BATH OR SHOWER IN DWELLING',\n",
       "       'HH091: INDOOR FLUSHING TOILET FOR SOLE USE OF HOUSEHOLD', 'HD080'],\n",
       "      dtype='object')"
      ]
     },
     "execution_count": 193,
     "metadata": {},
     "output_type": "execute_result"
    }
   ],
   "source": [
    "hhh = hhh.rename(columns=columnnames)\n",
    "hhh.columns"
   ]
  },
  {
   "cell_type": "markdown",
   "metadata": {},
   "source": [
    "## 1.2 Personal Data"
   ]
  },
  {
   "cell_type": "markdown",
   "metadata": {},
   "source": [
    "### 1.2.1 Personal Register Data"
   ]
  },
  {
   "cell_type": "code",
   "execution_count": 194,
   "metadata": {},
   "outputs": [],
   "source": [
    "ppr = pd.read_csv(\"./data/DE_2013r_EUSILC.csv\")"
   ]
  },
  {
   "cell_type": "code",
   "execution_count": 195,
   "metadata": {
    "scrolled": true
   },
   "outputs": [
    {
     "data": {
      "text/plain": [
       "(25796, 52)"
      ]
     },
     "execution_count": 195,
     "metadata": {},
     "output_type": "execute_result"
    }
   ],
   "source": [
    "ppr.shape"
   ]
  },
  {
   "cell_type": "code",
   "execution_count": 196,
   "metadata": {},
   "outputs": [
    {
     "data": {
      "text/plain": [
       "RB010          0\n",
       "RB020          0\n",
       "RB030          0\n",
       "RB031      25796\n",
       "RB031_F    25796\n",
       "RB050          0\n",
       "RB050_F    25796\n",
       "RB070      25796\n",
       "RB070_F    25796\n",
       "RB080          0\n",
       "RB080_F    25796\n",
       "RB090          0\n",
       "RB090_F    25796\n",
       "RB200          0\n",
       "RB200_F    25796\n",
       "RB210          0\n",
       "RB210_F    25796\n",
       "RB220      25796\n",
       "RB220_F    25796\n",
       "RB230      25796\n",
       "RB230_F    25796\n",
       "RB240      25796\n",
       "RB240_F    25796\n",
       "RB245      25796\n",
       "RB245_F    25796\n",
       "RB250       3789\n",
       "RB250_F    25796\n",
       "RB260       4056\n",
       "RB260_F    25796\n",
       "RB270      25796\n",
       "RB270_F    25796\n",
       "RL010      24396\n",
       "RL010_F    25796\n",
       "RL020      24405\n",
       "RL020_F    25796\n",
       "RL030      24445\n",
       "RL030_F    25796\n",
       "RL040      23088\n",
       "RL040_F    25796\n",
       "RL050      23086\n",
       "RL050_F    25796\n",
       "RL060      22906\n",
       "RL060_F    25796\n",
       "RL070      25796\n",
       "RL070_F    25796\n",
       "RX010      25796\n",
       "RX020      25796\n",
       "RX030      25796\n",
       "RX040      25796\n",
       "RX050      25796\n",
       "RX060      25796\n",
       "RX070      25796\n",
       "dtype: int64"
      ]
     },
     "execution_count": 196,
     "metadata": {},
     "output_type": "execute_result"
    }
   ],
   "source": [
    "ppr.isna().sum()"
   ]
  },
  {
   "cell_type": "code",
   "execution_count": 197,
   "metadata": {},
   "outputs": [
    {
     "data": {
      "text/plain": [
       "(25796, 10)"
      ]
     },
     "execution_count": 197,
     "metadata": {},
     "output_type": "execute_result"
    }
   ],
   "source": [
    "## Drop columns with more than 20% nans\n",
    "ppr=ppr.dropna(thresh=len(ppr)*0.8, axis=1)\n",
    "ppr.columns\n",
    "ppr.shape"
   ]
  },
  {
   "cell_type": "code",
   "execution_count": 198,
   "metadata": {},
   "outputs": [
    {
     "data": {
      "text/plain": [
       "RB010       0\n",
       "RB020       0\n",
       "RB030       0\n",
       "RB050       0\n",
       "RB080       0\n",
       "RB090       0\n",
       "RB200       0\n",
       "RB210       0\n",
       "RB250    3789\n",
       "RB260    4056\n",
       "dtype: int64"
      ]
     },
     "execution_count": 198,
     "metadata": {},
     "output_type": "execute_result"
    }
   ],
   "source": [
    "ppr.isna().sum()"
   ]
  },
  {
   "cell_type": "code",
   "execution_count": 199,
   "metadata": {},
   "outputs": [],
   "source": [
    "columnnames ={\n",
    "'RB010': \"RB010: YEAR OF THE SURVEY\", \n",
    "'RB020': \"RB020: COUNTRY\", \n",
    "'RB030': \"RB030: PERSONAL ID\", \n",
    "'RB050': \"RB050: PERSONAL CROSS_SECTIONAL WEIGHT\", \n",
    "'RB080': \"RB080: YEAR OF BIRTH\", \n",
    "'RB090': \"RB090: SEX\", \n",
    "'RB200': \"RB200: RESIDENTIAL STATUS\", \n",
    "'RB210': \"RB210: BASIC ACTIVITY STATUS\", \n",
    "'RB250': \"RB250: DATA STATUS\",\n",
    "'RB260': \"RB260: TYPE OF INTERVIEWS\"}"
   ]
  },
  {
   "cell_type": "code",
   "execution_count": 200,
   "metadata": {},
   "outputs": [
    {
     "data": {
      "text/plain": [
       "Index(['RB010: YEAR OF THE SURVEY', 'RB020: COUNTRY', 'RB030: PERSONAL ID',\n",
       "       'RB050: PERSONAL CROSS_SECTIONAL WEIGHT', 'RB080: YEAR OF BIRTH',\n",
       "       'RB090: SEX', 'RB200: RESIDENTIAL STATUS',\n",
       "       'RB210: BASIC ACTIVITY STATUS', 'RB250: DATA STATUS',\n",
       "       'RB260: TYPE OF INTERVIEWS'],\n",
       "      dtype='object')"
      ]
     },
     "execution_count": 200,
     "metadata": {},
     "output_type": "execute_result"
    }
   ],
   "source": [
    "ppr = ppr.rename(columns=columnnames)\n",
    "ppr.columns"
   ]
  },
  {
   "cell_type": "markdown",
   "metadata": {},
   "source": [
    "### 1.2.2 Personal Survey Data"
   ]
  },
  {
   "cell_type": "code",
   "execution_count": 201,
   "metadata": {},
   "outputs": [],
   "source": [
    "ppp = pd.read_csv(\"./data/DE_2013p_EUSILC.csv\")"
   ]
  },
  {
   "cell_type": "code",
   "execution_count": 202,
   "metadata": {},
   "outputs": [
    {
     "data": {
      "text/plain": [
       "PB010          0\n",
       "PB020          0\n",
       "PB030          0\n",
       "PB040          0\n",
       "PB040_F    22042\n",
       "           ...  \n",
       "PX020      22042\n",
       "PX030      22042\n",
       "PX040      22042\n",
       "PX050      22042\n",
       "PX200      22042\n",
       "Length: 284, dtype: int64"
      ]
     },
     "execution_count": 202,
     "metadata": {},
     "output_type": "execute_result"
    }
   ],
   "source": [
    "ppp.isna().sum()"
   ]
  },
  {
   "cell_type": "code",
   "execution_count": 203,
   "metadata": {},
   "outputs": [
    {
     "data": {
      "text/plain": [
       "(22042, 64)"
      ]
     },
     "execution_count": 203,
     "metadata": {},
     "output_type": "execute_result"
    }
   ],
   "source": [
    "## Drop columns with more than 20% nans\n",
    "ppp=ppp.dropna(thresh=len(ppp)*0.8, axis=1)\n",
    "ppp.shape"
   ]
  },
  {
   "cell_type": "code",
   "execution_count": 204,
   "metadata": {},
   "outputs": [
    {
     "data": {
      "text/plain": [
       "Index(['PB010', 'PB020', 'PB030', 'PB040', 'PB100', 'PB110', 'PB120', 'PB140',\n",
       "       'PB150', 'PB190', 'PB200', 'PB220A', 'PE010', 'PE040', 'PL031', 'PL035',\n",
       "       'PL040', 'PL051', 'PL140', 'PL150', 'PL190', 'PH010', 'PH020', 'PH030',\n",
       "       'PH040', 'PH060', 'PY010G', 'PY020G', 'PY021G', 'PY035G', 'PY050G',\n",
       "       'PY080G', 'PY090G', 'PY100G', 'PY110G', 'PY120G', 'PY130G', 'PY140G',\n",
       "       'PD020', 'PD030', 'PD050', 'PD060', 'PD070', 'PD080', 'PW010', 'PW020',\n",
       "       'PW030', 'PW040', 'PW050', 'PW060', 'PW070', 'PW080', 'PW090', 'PW120',\n",
       "       'PW130', 'PW140', 'PW150', 'PW160', 'PW170', 'PW180', 'PW190', 'PW200',\n",
       "       'PW210', 'PW220'],\n",
       "      dtype='object')"
      ]
     },
     "execution_count": 204,
     "metadata": {},
     "output_type": "execute_result"
    }
   ],
   "source": [
    "ppp.columns"
   ]
  },
  {
   "cell_type": "code",
   "execution_count": 205,
   "metadata": {},
   "outputs": [],
   "source": [
    "columnnames = {\n",
    "\"PB010\": \"PB010: YEAR OF THE SURVEY\", \n",
    "\"PB020\": \"PB020: COUNTRY\",\n",
    "\"PB030\": \"PB030: PERSONAL ID\",\n",
    "\"PB040\": \"PB040: PERSONAL CROSS-SECTIONAL WEIGHT\",\n",
    "\"PB050\": \"PB050: PERSONAL BASE WEIGHT\",\n",
    "\"PB060\": \"PB060: PERSONAL CROSS-SECTIONAL WEIGHT FOR SELECTED RESPONDENT\",\n",
    "\"PB070\": \"PB070: PERSONAL DESIGN WEIGHT FOR SELECTED RESPONDENT\",\n",
    "\"PB080\": \"PB080: PERSONAL BASE WEIGHT FOR SELECTED RESPONDENT\",\n",
    "\"PB090\": \"PB090: DAY OF THE PERSONAL INTERVIEW\", \n",
    "\"PB100\": \"PB100: MONTH OF THE PERSONAL INTERVIEW\", \n",
    "\"PB110\": \"PB110: YEAR OF THE PERSONAL INTERVIEW\",\n",
    "\"PB120\": \"PB120: MINUTES TO COMPLETE THE PERSONAL QUESTIONNAIRE\",\n",
    "\"PB130\": \"PB130: MONTH OF BIRTH\",\n",
    "\"PB140\": \"PB140: YEAR OF BIRTH\",\n",
    "\"PB150\": \"PB150: SEX\",\n",
    "\"PB160\": \"PB160: FATHER ID\",\n",
    "\"PB170\": \"PB170: MOTHER\",\n",
    "\"PB180\": \"PB180: SPOUSE/PARTNER ID\",\n",
    "\"PB190\": \"PB190: MARITAL STATUS\",\n",
    "\"PB200\": \"PB200: CONSENSUAL UNION\",\n",
    "\"PB210\": \"PB210: COUNTRY OF BIRTH\",\n",
    "\"PB220A\": \"PB220A: CITIZENSHIP\",\n",
    "\"PB220B\": \"PB220B: CITIZENSHIP\",\n",
    "\"PE010\": \"PE010: CURRENT EDUCATION ACTIVITY\",\n",
    "\"PE020\": \"PE020: ISCED LEVEL CURRENTLY ATTENDED\",\n",
    "\"PE030\": \"PE030: YEAR WHEN HIGHEST LEVEL OF EDUCATION WAS ATTAINED\",\n",
    "\"PE040\": \"PE040: HIGHEST ISCED LEVEL ATTAINED\",\n",
    "\"PH010\": \"PH010: GENERAL HEALTH\",\n",
    "\"PH020\": \"PH020: SUFFER FROM ANY A CHRONIC (LONG-STANDING) ILLNESS OR CONDITION\",\n",
    "\"PH030\": \"PH030: LIMITATION IN ACTIVITIES BECAUSE OF HEALTH PROBLEMS\",\n",
    "\"PH040\": \"PH040: UNMET NEED FOR MEDICAL EXAMINATION OR TREATMENT\", \n",
    "\"PH050\": \"PH050: MAIN REASON FOR UNMET NEED FOR MEDICAL EXAMINATION OR TREATMENT\",\n",
    "\"PH060\": \"PH060: UNMET NEED FOR DENTAL EXAMINATION OR TREATMENT\",\n",
    "\"PH070\": \"PH070: MAIN REASON FOR UNMET NEED FOR DENTAL EXAMINATION OR TREATMENT\",\n",
    "\"PL015\": \"PL015: PERSON HAS EVER WORKED\",\n",
    "\"PL020\": \"PL020: ACTIVELY LOOKING FOR A JOB\",\n",
    "\"PL025\": \"PL025: AVAILABLE FOR WORK\",\n",
    "\"PL031\": \"PL031: SELF-DEFINED CURRENT ECONOMIC STATUS\",\n",
    "\"PL035\": \"PL035: WORKED AT LEAST 1 HOUR DURING THE PREVIOUS WEEK\",\n",
    "\"PL040\": \"PL040: STATUS IN EMPLOYMENT\",\n",
    "\"PL051\": \"PL051: OCCUPATION (ISCO-08 (COM))\",\n",
    "\"PL060\": \"PL060: NUMBER OF HOURS USUALLY WORKED PER WEEK IN MAIN JOB\",\n",
    "\"PL073\": \"PL073: NUMBER OF MONTHS SPENT AT FULL-TIME WORK AS EMPLOYEE\",\n",
    "\"PL074\": \"PL074: NUMBER OF MONTHS SPENT AT PART-TIME WORK AS EMPLOYEE\",\n",
    "\"PL075\": \"PL075: NUMBER OF MONTHS SPENT AT FULL-TIME WORK AS SELF-EMPLOYED (INCLUDING FAMILY WORKER)\",\n",
    "\"PL076\": \"PL076: NUMBER OF MONTHS SPENT AT PART-TIME WORK AS SELF-EMPLOYED (INCLUDING FAMILY WORKER)\",\n",
    "\"PL080\": \"PL080: NUMBER OF MONTHS SPENT IN UNEMPLOYMENT\",\n",
    "\"PL085\": \"PL085: NUMBER OF MONTHS SPENT IN RETIREMENT OR EARLY RETIREMENT\",\n",
    "\"PL086\": \"PL086: NUMBER OF MONTHS SPENT AS DISABLED OR/AND UNFIT TO WORK\",\n",
    "\"PL087\": \"PL087: NUMBER OF MONTHS SPENT STUDYING\",\n",
    "\"PL088\": \"PL088: NUMBER OF MONTHS SPENT IN COMPULSORY MILITARY SERVICE\",\n",
    "\"PL089\": \"PL089: NUMBER OF MONTHS SPENT FULFILLING DOMESTIC TASKS AND CARE RESPONSIBILITIES\",\n",
    "\"PL090\": \"PL090: NUMBER OF MONTHS SPENT IN OTHER INACTIVITY\",\n",
    "\"PL100\": \"PL100: TOTAL NUMBER OF HOURS USUALLY WORKED IN SECOND, THIRD… JOBS\",\n",
    "\"PL101\": \"PL111: NACE REV\",\n",
    "\"PL120\": \"PL120: REASON FOR WORKING LESS THAN 30 HOURS\",\n",
    "\"PL130\": \"PL130: NUMBER OF PERSONS WORKING AT THE LOCAL UNIT\",\n",
    "\"PL140\": \"PL140: TYPE OF CONTRACT\",\n",
    "\"PL150\": \"PL150: MANAGERIAL POSITION\", \n",
    "\"PL160\": \"PL160: CHANGE OF JOB SINCE LAST YEAR\", \n",
    "\"PL170\": \"PL170: REASON FOR CHANGE\",\n",
    "\"PL180\": \"PL180: MOST RECENT CHANGE IN THE INDIVIDUAL’S ACTIVITY STATUS\",\n",
    "\"PL190\": \"PL190: WHEN BEGAN FIRST REGULAR JOB\",\n",
    "\"PL200\": \"PL200: NUMBER OF YEARS SPENT IN PAID WORK\", \n",
    "\"PY010G\": \"PY010G: EMPLOYEE CASH OR NEAR CASH INCOME\",\n",
    "\"PY020G\": \"PY020G: NON-CASH EMPLOYEE INCOME\",\n",
    "\"PY021G\": \"PY021G: COMPANY CAR\",\n",
    "\"PY030G\": \"PY030G: EMPLOYER'S SOCIAL INSURANCE CONTRIBUTION\",\n",
    "\"PY031G\": \"PY031G: OPTIONAL EMPLOYER'S SOCIAL INSURANCE CONTRIBUTIONS\",\n",
    "\"PY035G\": \"PY035G: CONTRIBUTIONS TO INDIVIDUAL PRIVATE PENSION PLANS\", \n",
    "\"PY050G\": \"PY050G: CASH BENEFITS OR LOSSES FROM SELF-EMPLOYMENT\",\n",
    "\"PY080G\": \"PY080G: PENSION FROM INDIVIDUAL PRIVATE PLANS\",\n",
    "\"PY090G\": \"PY090G: UNEMPLOYMENT BENEFITS\", \n",
    "\"PY100G\": \"PY100G: OLD-AGE BENEFITS\", \n",
    "\"PY110G\": \"PY110G: SURVIVOR’ BENEFITS\", \n",
    "\"PY120G\": \"PY120G: SICKNESS BENEFITS\", \n",
    "\"PY130G\": \"PY130G: DISABILITY BENEFITS\",\n",
    "\"PY140G\": \"PY140G: EDUCATION-RELATED ALLOWANCES\", \n",
    "\"PY200G\": \"PY200G: GROSS MONTHLY EARNINGS FOR EMPLOYEES\", \n",
    "\"PW010\": \"PW010: OVERALL LIFE SATISFACTION\", \n",
    "\"PW020\": \"PW020: MEANING OF LIFE\", \n",
    "\"PW030\": \"PW030: SATISFACTION WITH FINANCIAL SITUATION\", \n",
    "\"PW040\": \"PW040: SATISFACTION WITH ACCOMMODATION\",\n",
    "\"PW050\": \"PW050: BEING VERY NERVOUS\", \n",
    "\"PW060\": \"PW060: FEELING DOWN IN THE DUMPS\",\n",
    "\"PW070\": \"PW070: FEELING CALM AND PEACEFUL\", \n",
    "\"PW080\": \"PW080: FEELING DOWNHEARTED OR DEPRESSED\",\n",
    "\"PW090\": \"PW090: BEING HAPPY\",\n",
    "\"PW100\": \"PW100: JOB SATISFACTION\",\n",
    "\"PW110\": \"PW110: SATISFACTION WITH COMMUTING TIME\",\n",
    "\"PW120\": \"PW120: SATISFACTION WITH TIME USE\",\n",
    "\"PW130\": \"PW130: TRUST IN THE POLITICAL SYSTEM\",\n",
    "\"PW140\": \"PW140: TRUST IN THE LEGAL SYSTEM\",\n",
    "\"PW150\": \"PW150: TRUST IN THE POLICE\",\n",
    "\"PW160\": \"PW160: SATISFACTION WITH PERSONAL RELATIONSHIPS\",\n",
    "\"PW170\": \"PW170: PERSONAL MATTERS (ANYONE TO DISCUSS WITH)\", \n",
    "\"PW180\": \"PW180: HELP FROM OTHERS\",\n",
    "\"PW190\": \"PW190: TRUST IN OTHERS\",\n",
    "\"PW200\": \"PW200: SATISFACTION WITH RECREATIONAL OR GREEN AREAS\",\n",
    "\"PW210\": \"PW210: SATISFACTION WITH LIVING ENVIRONMENT\", \n",
    "\"PW220\": \"PW220: PHYSICAL SECURITY\",\n",
    "'PD020': \"PD020: Replace worn-out clothes by some new (not second-hand) ones\" , \n",
    "'PD030': \"PD030: Two pairs of properly fitting shoes\", \n",
    "'PD050': \"PD050: Get-together with friends/family (relatives) for a drink/meal at least once a month\", \n",
    "'PD060': \"PD060: Regularly participate in a leisure activity\", \n",
    "'PD070': \"PD070: Spend a small amount of money each week on yourself\",\n",
    "'PD080': \"PD080: Internet connection for personal use at home\"\n",
    "}\n",
    "\n",
    "###PD:  ADDITIONAL VARIABLES FOR MATERIAL DEPRIVATION"
   ]
  },
  {
   "cell_type": "code",
   "execution_count": 206,
   "metadata": {},
   "outputs": [
    {
     "data": {
      "text/plain": [
       "Index(['PB010: YEAR OF THE SURVEY', 'PB020: COUNTRY', 'PB030: PERSONAL ID',\n",
       "       'PB040: PERSONAL CROSS-SECTIONAL WEIGHT',\n",
       "       'PB100: MONTH OF THE PERSONAL INTERVIEW',\n",
       "       'PB110: YEAR OF THE PERSONAL INTERVIEW',\n",
       "       'PB120: MINUTES TO COMPLETE THE PERSONAL QUESTIONNAIRE',\n",
       "       'PB140: YEAR OF BIRTH', 'PB150: SEX', 'PB190: MARITAL STATUS',\n",
       "       'PB200: CONSENSUAL UNION', 'PB220A: CITIZENSHIP',\n",
       "       'PE010: CURRENT EDUCATION ACTIVITY',\n",
       "       'PE040: HIGHEST ISCED LEVEL ATTAINED',\n",
       "       'PL031: SELF-DEFINED CURRENT ECONOMIC STATUS',\n",
       "       'PL035: WORKED AT LEAST 1 HOUR DURING THE PREVIOUS WEEK',\n",
       "       'PL040: STATUS IN EMPLOYMENT', 'PL051: OCCUPATION (ISCO-08 (COM))',\n",
       "       'PL140: TYPE OF CONTRACT', 'PL150: MANAGERIAL POSITION',\n",
       "       'PL190: WHEN BEGAN FIRST REGULAR JOB', 'PH010: GENERAL HEALTH',\n",
       "       'PH020: SUFFER FROM ANY A CHRONIC (LONG-STANDING) ILLNESS OR CONDITION',\n",
       "       'PH030: LIMITATION IN ACTIVITIES BECAUSE OF HEALTH PROBLEMS',\n",
       "       'PH040: UNMET NEED FOR MEDICAL EXAMINATION OR TREATMENT',\n",
       "       'PH060: UNMET NEED FOR DENTAL EXAMINATION OR TREATMENT',\n",
       "       'PY010G: EMPLOYEE CASH OR NEAR CASH INCOME',\n",
       "       'PY020G: NON-CASH EMPLOYEE INCOME', 'PY021G: COMPANY CAR',\n",
       "       'PY035G: CONTRIBUTIONS TO INDIVIDUAL PRIVATE PENSION PLANS',\n",
       "       'PY050G: CASH BENEFITS OR LOSSES FROM SELF-EMPLOYMENT',\n",
       "       'PY080G: PENSION FROM INDIVIDUAL PRIVATE PLANS',\n",
       "       'PY090G: UNEMPLOYMENT BENEFITS', 'PY100G: OLD-AGE BENEFITS',\n",
       "       'PY110G: SURVIVOR’ BENEFITS', 'PY120G: SICKNESS BENEFITS',\n",
       "       'PY130G: DISABILITY BENEFITS', 'PY140G: EDUCATION-RELATED ALLOWANCES',\n",
       "       'PD020: Replace worn-out clothes by some new (not second-hand) ones',\n",
       "       'PD030: Two pairs of properly fitting shoes',\n",
       "       'PD050: Get-together with friends/family (relatives) for a drink/meal at least once a month',\n",
       "       'PD060: Regularly participate in a leisure activity',\n",
       "       'PD070: Spend a small amount of money each week on yourself',\n",
       "       'PD080: Internet connection for personal use at home',\n",
       "       'PW010: OVERALL LIFE SATISFACTION', 'PW020: MEANING OF LIFE',\n",
       "       'PW030: SATISFACTION WITH FINANCIAL SITUATION',\n",
       "       'PW040: SATISFACTION WITH ACCOMMODATION', 'PW050: BEING VERY NERVOUS',\n",
       "       'PW060: FEELING DOWN IN THE DUMPS', 'PW070: FEELING CALM AND PEACEFUL',\n",
       "       'PW080: FEELING DOWNHEARTED OR DEPRESSED', 'PW090: BEING HAPPY',\n",
       "       'PW120: SATISFACTION WITH TIME USE',\n",
       "       'PW130: TRUST IN THE POLITICAL SYSTEM',\n",
       "       'PW140: TRUST IN THE LEGAL SYSTEM', 'PW150: TRUST IN THE POLICE',\n",
       "       'PW160: SATISFACTION WITH PERSONAL RELATIONSHIPS',\n",
       "       'PW170: PERSONAL MATTERS (ANYONE TO DISCUSS WITH)',\n",
       "       'PW180: HELP FROM OTHERS', 'PW190: TRUST IN OTHERS',\n",
       "       'PW200: SATISFACTION WITH RECREATIONAL OR GREEN AREAS',\n",
       "       'PW210: SATISFACTION WITH LIVING ENVIRONMENT',\n",
       "       'PW220: PHYSICAL SECURITY'],\n",
       "      dtype='object')"
      ]
     },
     "execution_count": 206,
     "metadata": {},
     "output_type": "execute_result"
    }
   ],
   "source": [
    "ppp = ppp.rename(columns=columnnames)\n",
    "ppp.columns"
   ]
  },
  {
   "cell_type": "code",
   "execution_count": 207,
   "metadata": {},
   "outputs": [],
   "source": [
    "### drop columns because not interested\n",
    "\n",
    "columnstodrop=['PB040: PERSONAL CROSS-SECTIONAL WEIGHT', 'PB100: MONTH OF THE PERSONAL INTERVIEW',\n",
    "               'PB110: YEAR OF THE PERSONAL INTERVIEW','PB120: MINUTES TO COMPLETE THE PERSONAL QUESTIONNAIRE']\n",
    "\n",
    "ppp.drop(columnstodrop, axis=1, inplace=True)"
   ]
  },
  {
   "cell_type": "code",
   "execution_count": 208,
   "metadata": {},
   "outputs": [
    {
     "data": {
      "text/plain": [
       "Index(['PB010: YEAR OF THE SURVEY', 'PB020: COUNTRY', 'PB030: PERSONAL ID',\n",
       "       'PB140: YEAR OF BIRTH', 'PB150: SEX', 'PB190: MARITAL STATUS',\n",
       "       'PB200: CONSENSUAL UNION', 'PB220A: CITIZENSHIP',\n",
       "       'PE010: CURRENT EDUCATION ACTIVITY',\n",
       "       'PE040: HIGHEST ISCED LEVEL ATTAINED',\n",
       "       'PL031: SELF-DEFINED CURRENT ECONOMIC STATUS',\n",
       "       'PL035: WORKED AT LEAST 1 HOUR DURING THE PREVIOUS WEEK',\n",
       "       'PL040: STATUS IN EMPLOYMENT', 'PL051: OCCUPATION (ISCO-08 (COM))',\n",
       "       'PL140: TYPE OF CONTRACT', 'PL150: MANAGERIAL POSITION',\n",
       "       'PL190: WHEN BEGAN FIRST REGULAR JOB', 'PH010: GENERAL HEALTH',\n",
       "       'PH020: SUFFER FROM ANY A CHRONIC (LONG-STANDING) ILLNESS OR CONDITION',\n",
       "       'PH030: LIMITATION IN ACTIVITIES BECAUSE OF HEALTH PROBLEMS',\n",
       "       'PH040: UNMET NEED FOR MEDICAL EXAMINATION OR TREATMENT',\n",
       "       'PH060: UNMET NEED FOR DENTAL EXAMINATION OR TREATMENT',\n",
       "       'PY010G: EMPLOYEE CASH OR NEAR CASH INCOME',\n",
       "       'PY020G: NON-CASH EMPLOYEE INCOME', 'PY021G: COMPANY CAR',\n",
       "       'PY035G: CONTRIBUTIONS TO INDIVIDUAL PRIVATE PENSION PLANS',\n",
       "       'PY050G: CASH BENEFITS OR LOSSES FROM SELF-EMPLOYMENT',\n",
       "       'PY080G: PENSION FROM INDIVIDUAL PRIVATE PLANS',\n",
       "       'PY090G: UNEMPLOYMENT BENEFITS', 'PY100G: OLD-AGE BENEFITS',\n",
       "       'PY110G: SURVIVOR’ BENEFITS', 'PY120G: SICKNESS BENEFITS',\n",
       "       'PY130G: DISABILITY BENEFITS', 'PY140G: EDUCATION-RELATED ALLOWANCES',\n",
       "       'PD020: Replace worn-out clothes by some new (not second-hand) ones',\n",
       "       'PD030: Two pairs of properly fitting shoes',\n",
       "       'PD050: Get-together with friends/family (relatives) for a drink/meal at least once a month',\n",
       "       'PD060: Regularly participate in a leisure activity',\n",
       "       'PD070: Spend a small amount of money each week on yourself',\n",
       "       'PD080: Internet connection for personal use at home',\n",
       "       'PW010: OVERALL LIFE SATISFACTION', 'PW020: MEANING OF LIFE',\n",
       "       'PW030: SATISFACTION WITH FINANCIAL SITUATION',\n",
       "       'PW040: SATISFACTION WITH ACCOMMODATION', 'PW050: BEING VERY NERVOUS',\n",
       "       'PW060: FEELING DOWN IN THE DUMPS', 'PW070: FEELING CALM AND PEACEFUL',\n",
       "       'PW080: FEELING DOWNHEARTED OR DEPRESSED', 'PW090: BEING HAPPY',\n",
       "       'PW120: SATISFACTION WITH TIME USE',\n",
       "       'PW130: TRUST IN THE POLITICAL SYSTEM',\n",
       "       'PW140: TRUST IN THE LEGAL SYSTEM', 'PW150: TRUST IN THE POLICE',\n",
       "       'PW160: SATISFACTION WITH PERSONAL RELATIONSHIPS',\n",
       "       'PW170: PERSONAL MATTERS (ANYONE TO DISCUSS WITH)',\n",
       "       'PW180: HELP FROM OTHERS', 'PW190: TRUST IN OTHERS',\n",
       "       'PW200: SATISFACTION WITH RECREATIONAL OR GREEN AREAS',\n",
       "       'PW210: SATISFACTION WITH LIVING ENVIRONMENT',\n",
       "       'PW220: PHYSICAL SECURITY'],\n",
       "      dtype='object')"
      ]
     },
     "execution_count": 208,
     "metadata": {},
     "output_type": "execute_result"
    }
   ],
   "source": [
    "ppp.columns"
   ]
  },
  {
   "cell_type": "markdown",
   "metadata": {},
   "source": [
    "# 2. Check column per column"
   ]
  },
  {
   "cell_type": "markdown",
   "metadata": {},
   "source": [
    "## 2.1 Backtround (PB) - Columns"
   ]
  },
  {
   "cell_type": "code",
   "execution_count": 209,
   "metadata": {},
   "outputs": [
    {
     "data": {
      "text/plain": [
       "count    22042.0\n",
       "mean      2013.0\n",
       "std          0.0\n",
       "min       2013.0\n",
       "25%       2013.0\n",
       "50%       2013.0\n",
       "75%       2013.0\n",
       "max       2013.0\n",
       "Name: PB010: YEAR OF THE SURVEY, dtype: float64"
      ]
     },
     "execution_count": 209,
     "metadata": {},
     "output_type": "execute_result"
    }
   ],
   "source": [
    "# ['PB010: YEAR OF THE SURVEY']\n",
    "ppp['PB010: YEAR OF THE SURVEY'].describe()\n",
    "### --> 1 unique value (2013); ok, keep at the moment, in case i add another year"
   ]
  },
  {
   "cell_type": "code",
   "execution_count": 210,
   "metadata": {},
   "outputs": [
    {
     "data": {
      "text/plain": [
       "array(['DE'], dtype=object)"
      ]
     },
     "execution_count": 210,
     "metadata": {},
     "output_type": "execute_result"
    }
   ],
   "source": [
    "# ['PB020: COUNTRY']\n",
    "ppp['PB020: COUNTRY'].unique()\n",
    "### --> 1 unique value (DE); ok, keep at the moment, in case i add another country"
   ]
  },
  {
   "cell_type": "code",
   "execution_count": 211,
   "metadata": {},
   "outputs": [
    {
     "data": {
      "text/plain": [
       "dtype('int64')"
      ]
     },
     "execution_count": 211,
     "metadata": {},
     "output_type": "execute_result"
    },
    {
     "data": {
      "image/png": "[encoded data removed]",
      "text/plain": [
       "<Figure size 432x288 with 1 Axes>"
      ]
     },
     "metadata": {
      "needs_background": "light"
     },
     "output_type": "display_data"
    }
   ],
   "source": [
    "# ['PB030: PERSONAL ID']\n",
    "# values should be unique\n",
    "ppp = ppp.drop_duplicates(subset=\"PB030: PERSONAL ID\")\n",
    "ppp.shape\n",
    "# no duplicates\n",
    "\n",
    "ppp[\"PB030: PERSONAL ID\"].plot.line()\n",
    "\n",
    "ppp[\"PB030: PERSONAL ID\"].dtype"
   ]
  },
  {
   "cell_type": "code",
   "execution_count": 212,
   "metadata": {},
   "outputs": [
    {
     "data": {
      "text/plain": [
       "<matplotlib.axes._subplots.AxesSubplot at 0x13fc97b0b08>"
      ]
     },
     "execution_count": 212,
     "metadata": {},
     "output_type": "execute_result"
    },
    {
     "data": {
      "image/png": "[encoded data removed]",
      "text/plain": [
       "<Figure size 432x288 with 1 Axes>"
      ]
     },
     "metadata": {
      "needs_background": "light"
     },
     "output_type": "display_data"
    }
   ],
   "source": [
    "## [\"PB140: YEAR OF BIRTH\"]\n",
    "ppp[\"PB140: YEAR OF BIRTH\"].dtype\n",
    "\n",
    "ppp[\"PB140: YEAR OF BIRTH\"].describe()\n",
    "ppp[\"PB140: YEAR OF BIRTH\"].hist()\n",
    "## ok"
   ]
  },
  {
   "cell_type": "code",
   "execution_count": 213,
   "metadata": {},
   "outputs": [
    {
     "data": {
      "text/plain": [
       "2    0.509845\n",
       "1    0.490155\n",
       "Name: PB150: SEX, dtype: float64"
      ]
     },
     "execution_count": 213,
     "metadata": {},
     "output_type": "execute_result"
    }
   ],
   "source": [
    "## ['PB150: SEX']\n",
    "ppp['PB150: SEX'].unique\n",
    "\n",
    "\"\"\"\n",
    "1 Male \n",
    "2 Female \n",
    " 1 filled \n",
    "-1 missing\n",
    "\"\"\"\n",
    "ppp['PB150: SEX'].value_counts(normalize=True)\n",
    "\n",
    "## more or less balanced, no missing values\n",
    "\n",
    "## standardize to international coding: 0 for female and 1 for male\n",
    "#ppp['PB150: SEX'] = ppp['PB150: SEX'].apply(lambda x: 0 if x==2 else 1)\n"
   ]
  },
  {
   "cell_type": "code",
   "execution_count": 214,
   "metadata": {},
   "outputs": [],
   "source": [
    "## ['PB190: MARITAL STATUS']\n",
    "\n",
    "ppp['PB190: MARITAL STATUS'].unique()\n",
    "\n",
    "\"\"\"\n",
    "1 Never married \n",
    "2 Married \n",
    "3 Separated \n",
    "4 Widowed \n",
    "5 Divorced \n",
    "\n",
    "-1 missing \n",
    "\"\"\"\n",
    "ppp['PB190: MARITAL STATUS'].value_counts()\n",
    "\n",
    "ppp['PB190: MARITAL STATUS'].isna().sum()\n",
    "\n",
    "# drop rows?\n",
    "\n",
    "ppp[ppp['PB190: MARITAL STATUS'].isna()].isna().sum()/ ppp.isna().sum()\n",
    "## because the one missint martial status have also other nans, i ll drop \n",
    "ppp['PB190: MARITAL STATUS'].dropna(inplace=True)"
   ]
  },
  {
   "cell_type": "markdown",
   "metadata": {},
   "source": [
    "<font color='red'>check later, if dropping was a good idea-</font>\n"
   ]
  },
  {
   "cell_type": "code",
   "execution_count": 215,
   "metadata": {},
   "outputs": [
    {
     "data": {
      "text/plain": [
       "0"
      ]
     },
     "execution_count": 215,
     "metadata": {},
     "output_type": "execute_result"
    }
   ],
   "source": [
    "### [PB200: CONSENSUAL UNION']\n",
    "\n",
    "\"\"\"\n",
    "Consensual union refers to the situation when two persons belong to the same household, and have a ‘marriage-like’ relationship with each other, and are not married to or in a registered partnership with each other.\n",
    "\n",
    "1 yes, on a legal basis\n",
    "2 yes, without a legal basis\n",
    "3 no \n",
    "\"\"\"\n",
    "ppp['PB200: CONSENSUAL UNION'].unique()\n",
    "\n",
    "\n",
    "### difference to martital status\n",
    "pd.crosstab(ppp['PB190: MARITAL STATUS'], ppp['PB200: CONSENSUAL UNION'],normalize='index').apply(lambda x: round(x,2))\n",
    "## not one to one related to martial status... (because equal distributed) --> keep column\n",
    "\n",
    "ppp['PB200: CONSENSUAL UNION'].value_counts()\n",
    "ppp['PB200: CONSENSUAL UNION'].isna().sum()\n"
   ]
  },
  {
   "cell_type": "code",
   "execution_count": 216,
   "metadata": {},
   "outputs": [
    {
     "data": {
      "text/plain": [
       "LOC    0.97\n",
       "OTH    0.03\n",
       "Name: PB220A: CITIZENSHIP, dtype: float64"
      ]
     },
     "execution_count": 216,
     "metadata": {},
     "output_type": "execute_result"
    }
   ],
   "source": [
    "## ['PB220A: CITIZENSHIP']\n",
    "\n",
    "\"\"\"\n",
    "Citizenship is defined as the particular legal bond between the individual and his/her State \n",
    "acquired by birth or naturalisation, whether by declaration, choice, option, marriage or other \n",
    "means according to the national legislation. It generally corresponds to the country issuing the \n",
    "passport. \n",
    "LOC: Local?\n",
    "OTH: other\n",
    "\"\"\"\n",
    "\n",
    "ppp['PB220A: CITIZENSHIP'].unique()\n",
    "\n",
    "ppp['PB220A: CITIZENSHIP'].isna().sum()\n",
    "\n",
    "# drop rows? depends, if important information... a lot of other?\n",
    "ppp['PB220A: CITIZENSHIP'].value_counts(normalize=True).apply(lambda x: round(x,2))\n",
    "\n",
    "### two options. drop column or drop nan....\n",
    "\n",
    "#ppp['PB190: MARITAL STATUS'].dropna(inplace=True)"
   ]
  },
  {
   "cell_type": "markdown",
   "metadata": {},
   "source": [
    "<font color='red'>check later, which one to drop!</font>"
   ]
  },
  {
   "cell_type": "markdown",
   "metadata": {},
   "source": [
    "## 2.2 Education (PE) - Columns"
   ]
  },
  {
   "cell_type": "code",
   "execution_count": 217,
   "metadata": {},
   "outputs": [
    {
     "data": {
      "text/plain": [
       "2    19605\n",
       "1     2437\n",
       "Name: PE010: CURRENT EDUCATION ACTIVITY, dtype: int64"
      ]
     },
     "execution_count": 217,
     "metadata": {},
     "output_type": "execute_result"
    }
   ],
   "source": [
    "## 'PE010: CURRENT EDUCATION ACTIVITY'\n",
    "\n",
    "\"\"\"\n",
    "The concept is whether the person is currently participating in an educational program. \n",
    "1 in education \n",
    "2 not in education \n",
    "\"\"\"\n",
    "\n",
    "ppp['PE010: CURRENT EDUCATION ACTIVITY'].value_counts()\n",
    "\n",
    "## all good"
   ]
  },
  {
   "cell_type": "code",
   "execution_count": null,
   "metadata": {},
   "outputs": [],
   "source": []
  },
  {
   "cell_type": "code",
   "execution_count": 218,
   "metadata": {},
   "outputs": [
    {
     "data": {
      "text/plain": [
       "<matplotlib.axes._subplots.AxesSubplot at 0x13fc9104448>"
      ]
     },
     "execution_count": 218,
     "metadata": {},
     "output_type": "execute_result"
    },
    {
     "data": {
      "image/png": "[encoded data removed]",
      "text/plain": [
       "<Figure size 432x288 with 1 Axes>"
      ]
     },
     "metadata": {
      "needs_background": "light"
     },
     "output_type": "display_data"
    }
   ],
   "source": [
    "## 'PE040: HIGHEST ISCED LEVEL ATTAINED'\n",
    "\n",
    "\"\"\"\n",
    "Educational attainment of a person is the highest level of an educational programme the \n",
    "person has successfully completed and the study field of this programme0 pre-primary education.\n",
    "1 primary education \n",
    "2 lower secondary education \n",
    "3 (upper) secondary education \n",
    "4 post-secondary non tertiary education \n",
    "5 first stage of tertiary education (not leading directly to an advanced research \n",
    "qualification) \n",
    "6 second stage of tertiary education (leading to an advanced research \n",
    "qualification)\n",
    "\"\"\"\n",
    "\n",
    "ppp['PE040: HIGHEST ISCED LEVEL ATTAINED'].value_counts()\n",
    "ppp['PE040: HIGHEST ISCED LEVEL ATTAINED'].isna().sum()\n",
    "\n",
    "#173 missings \n",
    "\n",
    "ppp['PE040: HIGHEST ISCED LEVEL ATTAINED'].hist()"
   ]
  },
  {
   "cell_type": "markdown",
   "metadata": {},
   "source": [
    "<font color='red'>check later, which one to drop!</font>"
   ]
  },
  {
   "cell_type": "markdown",
   "metadata": {},
   "source": [
    "## 2.3 Labour (PL) - Columns"
   ]
  },
  {
   "cell_type": "code",
   "execution_count": 219,
   "metadata": {
    "scrolled": true
   },
   "outputs": [
    {
     "name": "stdout",
     "output_type": "stream",
     "text": [
      "PL031: SELF-DEFINED CURRENT ECONOMIC STATUS                158\n",
      "PL035: WORKED AT LEAST 1 HOUR DURING THE PREVIOUS WEEK       0\n",
      "PL040: STATUS IN EMPLOYMENT                               1630\n",
      "PL051: OCCUPATION (ISCO-08 (COM))                         1670\n",
      "PL140: TYPE OF CONTRACT                                   2835\n",
      "PL150: MANAGERIAL POSITION                                2783\n",
      "PL190: WHEN BEGAN FIRST REGULAR JOB                       1997\n",
      "dtype: int64\n"
     ]
    },
    {
     "data": {
      "text/plain": [
       "array([[<matplotlib.axes._subplots.AxesSubplot object at 0x0000013FC9117AC8>,\n",
       "        <matplotlib.axes._subplots.AxesSubplot object at 0x0000013FC9778F88>,\n",
       "        <matplotlib.axes._subplots.AxesSubplot object at 0x0000013FC9706188>],\n",
       "       [<matplotlib.axes._subplots.AxesSubplot object at 0x0000013FC9A457C8>,\n",
       "        <matplotlib.axes._subplots.AxesSubplot object at 0x0000013FC8F7B4C8>,\n",
       "        <matplotlib.axes._subplots.AxesSubplot object at 0x0000013FD23E95C8>],\n",
       "       [<matplotlib.axes._subplots.AxesSubplot object at 0x0000013FC91D2508>,\n",
       "        <matplotlib.axes._subplots.AxesSubplot object at 0x0000013FC8406A48>,\n",
       "        <matplotlib.axes._subplots.AxesSubplot object at 0x0000013FD2051388>]],\n",
       "      dtype=object)"
      ]
     },
     "execution_count": 219,
     "metadata": {},
     "output_type": "execute_result"
    },
    {
     "data": {
      "image/png": "[encoded data removed]",
      "text/plain": [
       "<Figure size 432x288 with 9 Axes>"
      ]
     },
     "metadata": {
      "needs_background": "light"
     },
     "output_type": "display_data"
    }
   ],
   "source": [
    "work = ['PL031: SELF-DEFINED CURRENT ECONOMIC STATUS', 'PL035: WORKED AT LEAST 1 HOUR DURING THE PREVIOUS WEEK','PL040: STATUS IN EMPLOYMENT','PL051: OCCUPATION (ISCO-08 (COM))', 'PL140: TYPE OF CONTRACT', 'PL150: MANAGERIAL POSITION', 'PL190: WHEN BEGAN FIRST REGULAR JOB']\n",
    "\n",
    "print(ppp[work].isna().sum())\n",
    "\n",
    "ppp[work].hist()"
   ]
  },
  {
   "cell_type": "code",
   "execution_count": 220,
   "metadata": {},
   "outputs": [
    {
     "data": {
      "text/plain": [
       "PL031: SELF-DEFINED CURRENT ECONOMIC STATUS                 61\n",
       "PL035: WORKED AT LEAST 1 HOUR DURING THE PREVIOUS WEEK       0\n",
       "PL040: STATUS IN EMPLOYMENT                                522\n",
       "PL051: OCCUPATION (ISCO-08 (COM))                          510\n",
       "PL140: TYPE OF CONTRACT                                   2835\n",
       "PL150: MANAGERIAL POSITION                                 678\n",
       "PL190: WHEN BEGAN FIRST REGULAR JOB                        653\n",
       "dtype: int64"
      ]
     },
     "execution_count": 220,
     "metadata": {},
     "output_type": "execute_result"
    }
   ],
   "source": [
    "### check if nans are in the same row\n",
    "null_displ = ppp[ppp['PL140: TYPE OF CONTRACT'].isnull()]\n",
    "null_displ[work].isna().sum()\n",
    "\n",
    "### not the same --> look for other solutions to fill na"
   ]
  },
  {
   "cell_type": "markdown",
   "metadata": {},
   "source": [
    "###### [0]  ['PL031: SELF-DEFINED CURRENT ECONOMIC STATUS']"
   ]
  },
  {
   "cell_type": "code",
   "execution_count": 225,
   "metadata": {},
   "outputs": [
    {
     "data": {
      "text/plain": [
       "PL031: SELF-DEFINED CURRENT ECONOMIC STATUS                  0\n",
       "PL035: WORKED AT LEAST 1 HOUR DURING THE PREVIOUS WEEK       0\n",
       "PL040: STATUS IN EMPLOYMENT                               1573\n",
       "PL051: OCCUPATION (ISCO-08 (COM))                         1513\n",
       "PL140: TYPE OF CONTRACT                                   2774\n",
       "PL150: MANAGERIAL POSITION                                2726\n",
       "PL190: WHEN BEGAN FIRST REGULAR JOB                       1949\n",
       "dtype: int64"
      ]
     },
     "execution_count": 225,
     "metadata": {},
     "output_type": "execute_result"
    }
   ],
   "source": [
    "\n",
    "\"\"\"\n",
    "The target variable captures the person’s own perception of their main activity at present.  It \n",
    "differs from the ILO concept to the extent that people’s own perception of their main status \n",
    "differs from the strict definitions used in the ILO definitions.\n",
    "1 Employee working full-time \n",
    "2 Employee working part-time \n",
    "3 Self-employed working full-time (including family worker) \n",
    "4 Self-employed working part-time (including family worker) \n",
    "5 Unemployed \n",
    "6 Pupil, student, further training, unpaid work experience \n",
    "7 In retirement or in early retirement or has given up business \n",
    "8 Permanently disabled or/and unfit to work \n",
    "9 In compulsory military community or service \n",
    "10 Fulfilling domestic tasks and care responsibilities \n",
    "11 Other inactive person \n",
    "\"\"\"\n",
    "ppp['PL031: SELF-DEFINED CURRENT ECONOMIC STATUS'].unique()\n",
    "\n",
    "## ok\n",
    "\n",
    "### but delete 158 nan, because this will probably be one of the main features\n",
    "ppp.dropna(subset=['PL031: SELF-DEFINED CURRENT ECONOMIC STATUS'], inplace = True)\n",
    "\n"
   ]
  },
  {
   "cell_type": "markdown",
   "metadata": {},
   "source": [
    "###### [1] 'PL035: WORKED AT LEAST 1 HOUR DURING THE PREVIOUS WEEK'"
   ]
  },
  {
   "cell_type": "code",
   "execution_count": 234,
   "metadata": {},
   "outputs": [
    {
     "data": {
      "text/plain": [
       "0"
      ]
     },
     "execution_count": 234,
     "metadata": {},
     "output_type": "execute_result"
    }
   ],
   "source": [
    "\"\"\"\n",
    "A person is considered as working\n",
    "reference week or if he/she was not working\n",
    "absent during the reference week. \n",
    "1 yes\n",
    "2 no\n",
    "\"\"\"\n",
    "ppp['PL035: WORKED AT LEAST 1 HOUR DURING THE PREVIOUS WEEK'].value_counts()\n",
    "\n",
    "ppp['PL035: WORKED AT LEAST 1 HOUR DURING THE PREVIOUS WEEK'].isna().sum()\n",
    "\n",
    "# all good"
   ]
  },
  {
   "cell_type": "markdown",
   "metadata": {},
   "source": [
    "###### [2] 'PL040: STATUS IN EMPLOYMENT'"
   ]
  },
  {
   "cell_type": "code",
   "execution_count": 226,
   "metadata": {},
   "outputs": [
    {
     "name": "stdout",
     "output_type": "stream",
     "text": [
      "344\n"
     ]
    },
    {
     "data": {
      "text/plain": [
       "PL031: SELF-DEFINED CURRENT ECONOMIC STATUS                  0\n",
       "PL035: WORKED AT LEAST 1 HOUR DURING THE PREVIOUS WEEK       0\n",
       "PL040: STATUS IN EMPLOYMENT                                344\n",
       "PL051: OCCUPATION (ISCO-08 (COM))                         1513\n",
       "PL140: TYPE OF CONTRACT                                   2774\n",
       "PL150: MANAGERIAL POSITION                                2726\n",
       "PL190: WHEN BEGAN FIRST REGULAR JOB                       1949\n",
       "dtype: int64"
      ]
     },
     "execution_count": 226,
     "metadata": {},
     "output_type": "execute_result"
    }
   ],
   "source": [
    "\"\"\"\n",
    "This variable refers to the main job, namely the current main job for people at work.\n",
    "1 self-employed with employees \n",
    "2 self-employed without employees \n",
    "3 employee \n",
    "4 family worker \n",
    "\n",
    "\"\"\"\n",
    "\n",
    "ppp['PL040: STATUS IN EMPLOYMENT'].value_counts()\n",
    "\n",
    "ppp['PL040: STATUS IN EMPLOYMENT'].isna().sum()\n",
    "\n",
    "pd.crosstab( ppp['PL031: SELF-DEFINED CURRENT ECONOMIC STATUS'],ppp['PL040: STATUS IN EMPLOYMENT'].isna())\n",
    "\n",
    "## attention; similar information as ['PL031: SELF-DEFINED CURRENT ECONOMIC STATUS'] --> colinearity / overfitting\n",
    "## at the same time a lot of missings  --> unemployed or others? mainly in status 5 (unemployed) 6, 7 10, 11 other non-jobs\n",
    "## we can fill nan with a 0 for this categories\n",
    "\n",
    "ppp.loc[(ppp['PL040: STATUS IN EMPLOYMENT'].isna()) & ((ppp['PL031: SELF-DEFINED CURRENT ECONOMIC STATUS']==5) | (ppp['PL031: SELF-DEFINED CURRENT ECONOMIC STATUS']==6) | (ppp['PL031: SELF-DEFINED CURRENT ECONOMIC STATUS']==7) | (ppp['PL031: SELF-DEFINED CURRENT ECONOMIC STATUS']==8) |(ppp['PL031: SELF-DEFINED CURRENT ECONOMIC STATUS']==10) |(ppp['PL031: SELF-DEFINED CURRENT ECONOMIC STATUS']==11)), 'PL040: STATUS IN EMPLOYMENT'] = 0\n",
    "print(ppp['PL040: STATUS IN EMPLOYMENT'].isna().sum())\n",
    "pd.crosstab( ppp['PL031: SELF-DEFINED CURRENT ECONOMIC STATUS'],ppp['PL040: STATUS IN EMPLOYMENT'].isna())\n",
    "\n",
    "ppp[work].isna().sum()"
   ]
  },
  {
   "cell_type": "markdown",
   "metadata": {},
   "source": [
    "###### [3] 'PL051: OCCUPATION (ISCO-08 (COM))'"
   ]
  },
  {
   "cell_type": "code",
   "execution_count": 240,
   "metadata": {},
   "outputs": [
    {
     "name": "stdout",
     "output_type": "stream",
     "text": [
      "[52. 62. 23. 51. 44. 31. 24. 32. 42. 81. 22. 41. 73. 93. 72. 33. 61. 10.\n",
      " 94. 96. 71. 43. 25. 91. 13. 92. 74. 21. 75. 34. 26. 83. 11. 12. 14. 54.\n",
      " 35. 53. 82. nan]\n"
     ]
    },
    {
     "data": {
      "text/plain": [
       "PL031: SELF-DEFINED CURRENT ECONOMIC STATUS                  0\n",
       "PL035: WORKED AT LEAST 1 HOUR DURING THE PREVIOUS WEEK       0\n",
       "PL040: STATUS IN EMPLOYMENT                                342\n",
       "PL051: OCCUPATION (ISCO-08 (COM))                            0\n",
       "PL140: TYPE OF CONTRACT                                   1007\n",
       "PL150: MANAGERIAL POSITION                                 965\n",
       "PL190: WHEN BEGAN FIRST REGULAR JOB                       1940\n",
       "dtype: int64"
      ]
     },
     "execution_count": 240,
     "metadata": {},
     "output_type": "execute_result"
    }
   ],
   "source": [
    "\"\"\"\n",
    "This variable reafers to the main job, namely the current main job for people at work (PL031 = \n",
    "1, 2, 3 or 4) or the last main job for people who do not have a job (PL031 not = 1, 2, 3 or 4 \n",
    "and PL015 = 1). \n",
    "Numbers between \n",
    "\"\"\"\n",
    "print(ppp['PL051: OCCUPATION (ISCO-08 (COM))'].unique())\n",
    "## ok, \n",
    "\n",
    "\n",
    "## 1670 missings, same problems as with previous variables, unemployed or others? :\n",
    "pd.crosstab( ppp['PL031: SELF-DEFINED CURRENT ECONOMIC STATUS'],ppp['PL051: OCCUPATION (ISCO-08 (COM))'].isna())\n",
    "# mainly in status 5 (unemployed) 6, 9, 10, 11 other non-jobs\n",
    "\n",
    "# fillna with 10 for pl31 5,6,etc.\n",
    "ppp.loc[(ppp['PL051: OCCUPATION (ISCO-08 (COM))'].isna()) & ((ppp['PL031: SELF-DEFINED CURRENT ECONOMIC STATUS']==5) | (ppp['PL031: SELF-DEFINED CURRENT ECONOMIC STATUS']==6) | (ppp['PL031: SELF-DEFINED CURRENT ECONOMIC STATUS']==7) | (ppp['PL031: SELF-DEFINED CURRENT ECONOMIC STATUS']==8) |(ppp['PL031: SELF-DEFINED CURRENT ECONOMIC STATUS']==10) |(ppp['PL031: SELF-DEFINED CURRENT ECONOMIC STATUS']==11)), 'PL051: OCCUPATION (ISCO-08 (COM))'] =10\n",
    "\n",
    "## drop the rest of the nans\n",
    "ppp.dropna(subset=['PL051: OCCUPATION (ISCO-08 (COM))'], inplace = True)\n",
    "\n",
    "ppp[work].isna().sum()"
   ]
  },
  {
   "cell_type": "markdown",
   "metadata": {},
   "source": [
    "[Details in structure08 here:](./data/structure08.docx)"
   ]
  },
  {
   "cell_type": "markdown",
   "metadata": {},
   "source": [
    "###### [4] 'PL140: TYPE OF CONTRACT', "
   ]
  },
  {
   "cell_type": "code",
   "execution_count": 229,
   "metadata": {},
   "outputs": [
    {
     "name": "stdout",
     "output_type": "stream",
     "text": [
      "[ 1. nan  2.]\n"
     ]
    },
    {
     "data": {
      "text/html": [
       "<div>\n",
       "<style scoped>\n",
       "    .dataframe tbody tr th:only-of-type {\n",
       "        vertical-align: middle;\n",
       "    }\n",
       "\n",
       "    .dataframe tbody tr th {\n",
       "        vertical-align: top;\n",
       "    }\n",
       "\n",
       "    .dataframe thead th {\n",
       "        text-align: right;\n",
       "    }\n",
       "</style>\n",
       "<table border=\"1\" class=\"dataframe\">\n",
       "  <thead>\n",
       "    <tr style=\"text-align: right;\">\n",
       "      <th>PL140: TYPE OF CONTRACT</th>\n",
       "      <th>False</th>\n",
       "      <th>True</th>\n",
       "    </tr>\n",
       "    <tr>\n",
       "      <th>PL031: SELF-DEFINED CURRENT ECONOMIC STATUS</th>\n",
       "      <th></th>\n",
       "      <th></th>\n",
       "    </tr>\n",
       "  </thead>\n",
       "  <tbody>\n",
       "    <tr>\n",
       "      <td>1.0</td>\n",
       "      <td>0.93</td>\n",
       "      <td>0.07</td>\n",
       "    </tr>\n",
       "    <tr>\n",
       "      <td>2.0</td>\n",
       "      <td>0.88</td>\n",
       "      <td>0.12</td>\n",
       "    </tr>\n",
       "    <tr>\n",
       "      <td>3.0</td>\n",
       "      <td>0.92</td>\n",
       "      <td>0.08</td>\n",
       "    </tr>\n",
       "    <tr>\n",
       "      <td>4.0</td>\n",
       "      <td>0.88</td>\n",
       "      <td>0.12</td>\n",
       "    </tr>\n",
       "    <tr>\n",
       "      <td>5.0</td>\n",
       "      <td>0.77</td>\n",
       "      <td>0.23</td>\n",
       "    </tr>\n",
       "    <tr>\n",
       "      <td>6.0</td>\n",
       "      <td>0.69</td>\n",
       "      <td>0.31</td>\n",
       "    </tr>\n",
       "    <tr>\n",
       "      <td>7.0</td>\n",
       "      <td>0.90</td>\n",
       "      <td>0.10</td>\n",
       "    </tr>\n",
       "    <tr>\n",
       "      <td>8.0</td>\n",
       "      <td>0.87</td>\n",
       "      <td>0.13</td>\n",
       "    </tr>\n",
       "    <tr>\n",
       "      <td>9.0</td>\n",
       "      <td>0.79</td>\n",
       "      <td>0.21</td>\n",
       "    </tr>\n",
       "    <tr>\n",
       "      <td>10.0</td>\n",
       "      <td>0.69</td>\n",
       "      <td>0.31</td>\n",
       "    </tr>\n",
       "    <tr>\n",
       "      <td>11.0</td>\n",
       "      <td>0.72</td>\n",
       "      <td>0.28</td>\n",
       "    </tr>\n",
       "  </tbody>\n",
       "</table>\n",
       "</div>"
      ],
      "text/plain": [
       "PL140: TYPE OF CONTRACT                      False  True \n",
       "PL031: SELF-DEFINED CURRENT ECONOMIC STATUS              \n",
       "1.0                                           0.93   0.07\n",
       "2.0                                           0.88   0.12\n",
       "3.0                                           0.92   0.08\n",
       "4.0                                           0.88   0.12\n",
       "5.0                                           0.77   0.23\n",
       "6.0                                           0.69   0.31\n",
       "7.0                                           0.90   0.10\n",
       "8.0                                           0.87   0.13\n",
       "9.0                                           0.79   0.21\n",
       "10.0                                          0.69   0.31\n",
       "11.0                                          0.72   0.28"
      ]
     },
     "execution_count": 229,
     "metadata": {},
     "output_type": "execute_result"
    }
   ],
   "source": [
    "\n",
    "\n",
    "\"\"\"\n",
    "'PL140: TYPE OF CONTRACT'\n",
    "1 permanent job/work contract of unlimited duration \n",
    "2 temporary job/work contract of limited duration\n",
    "This question is addressed only to employees. \n",
    "\n",
    "Fillna with 3 : no contract\n",
    "\"\"\"\n",
    "print(ppp['PL140: TYPE OF CONTRACT'].unique())\n",
    "## ok, \n",
    "\n",
    "\n",
    "## alot of missings, same problems as with previous variables, unemployed or others? :\n",
    "pd.crosstab( ppp['PL031: SELF-DEFINED CURRENT ECONOMIC STATUS'],ppp['PL140: TYPE OF CONTRACT'].isna(),normalize='index').apply(lambda x: round(x,2))"
   ]
  },
  {
   "cell_type": "code",
   "execution_count": 232,
   "metadata": {},
   "outputs": [
    {
     "data": {
      "text/plain": [
       "PL031: SELF-DEFINED CURRENT ECONOMIC STATUS                  0\n",
       "PL035: WORKED AT LEAST 1 HOUR DURING THE PREVIOUS WEEK       0\n",
       "PL040: STATUS IN EMPLOYMENT                                344\n",
       "PL051: OCCUPATION (ISCO-08 (COM))                           47\n",
       "PL140: TYPE OF CONTRACT                                   1008\n",
       "PL150: MANAGERIAL POSITION                                2726\n",
       "PL190: WHEN BEGAN FIRST REGULAR JOB                       1949\n",
       "dtype: int64"
      ]
     },
     "execution_count": 232,
     "metadata": {},
     "output_type": "execute_result"
    }
   ],
   "source": [
    "# mainly in status 5 (unemployed) 6, 9, 10, 11 other non-jobs\n",
    "# fillna with 0 for pl31 5,6,etc.?\n",
    "ppp.loc[(ppp['PL140: TYPE OF CONTRACT'].isna()) & ((ppp['PL031: SELF-DEFINED CURRENT ECONOMIC STATUS']==5) | (ppp['PL031: SELF-DEFINED CURRENT ECONOMIC STATUS']==6) | (ppp['PL031: SELF-DEFINED CURRENT ECONOMIC STATUS']==7) | (ppp['PL031: SELF-DEFINED CURRENT ECONOMIC STATUS']==8) |(ppp['PL031: SELF-DEFINED CURRENT ECONOMIC STATUS']==9) |(ppp['PL031: SELF-DEFINED CURRENT ECONOMIC STATUS']==10) |(ppp['PL031: SELF-DEFINED CURRENT ECONOMIC STATUS']==11)), 'PL140: TYPE OF CONTRACT'] =0\n",
    "\n",
    "pd.crosstab( ppp['PL031: SELF-DEFINED CURRENT ECONOMIC STATUS'],ppp['PL140: TYPE OF CONTRACT'].isna())\n",
    "\n",
    "ppp[work].isna().sum()\n",
    "### still a lot of nans...(1000)\n"
   ]
  },
  {
   "cell_type": "markdown",
   "metadata": {},
   "source": [
    "###### [5] 'PL150: MANAGERIAL POSITION'"
   ]
  },
  {
   "cell_type": "code",
   "execution_count": 117,
   "metadata": {
    "collapsed": true
   },
   "outputs": [
    {
     "name": "stdout",
     "output_type": "stream",
     "text": [
      "[ 1.  2. nan]\n"
     ]
    },
    {
     "data": {
      "text/html": [
       "<div>\n",
       "<style scoped>\n",
       "    .dataframe tbody tr th:only-of-type {\n",
       "        vertical-align: middle;\n",
       "    }\n",
       "\n",
       "    .dataframe tbody tr th {\n",
       "        vertical-align: top;\n",
       "    }\n",
       "\n",
       "    .dataframe thead th {\n",
       "        text-align: right;\n",
       "    }\n",
       "</style>\n",
       "<table border=\"1\" class=\"dataframe\">\n",
       "  <thead>\n",
       "    <tr style=\"text-align: right;\">\n",
       "      <th>PL150: MANAGERIAL POSITION</th>\n",
       "      <th>False</th>\n",
       "      <th>True</th>\n",
       "    </tr>\n",
       "    <tr>\n",
       "      <th>PL031: SELF-DEFINED CURRENT ECONOMIC STATUS</th>\n",
       "      <th></th>\n",
       "      <th></th>\n",
       "    </tr>\n",
       "  </thead>\n",
       "  <tbody>\n",
       "    <tr>\n",
       "      <td>1.0</td>\n",
       "      <td>0.93</td>\n",
       "      <td>0.07</td>\n",
       "    </tr>\n",
       "    <tr>\n",
       "      <td>2.0</td>\n",
       "      <td>0.88</td>\n",
       "      <td>0.12</td>\n",
       "    </tr>\n",
       "    <tr>\n",
       "      <td>3.0</td>\n",
       "      <td>0.94</td>\n",
       "      <td>0.06</td>\n",
       "    </tr>\n",
       "    <tr>\n",
       "      <td>4.0</td>\n",
       "      <td>0.86</td>\n",
       "      <td>0.14</td>\n",
       "    </tr>\n",
       "    <tr>\n",
       "      <td>5.0</td>\n",
       "      <td>0.77</td>\n",
       "      <td>0.23</td>\n",
       "    </tr>\n",
       "    <tr>\n",
       "      <td>6.0</td>\n",
       "      <td>0.70</td>\n",
       "      <td>0.30</td>\n",
       "    </tr>\n",
       "    <tr>\n",
       "      <td>7.0</td>\n",
       "      <td>0.90</td>\n",
       "      <td>0.10</td>\n",
       "    </tr>\n",
       "    <tr>\n",
       "      <td>8.0</td>\n",
       "      <td>0.88</td>\n",
       "      <td>0.12</td>\n",
       "    </tr>\n",
       "    <tr>\n",
       "      <td>9.0</td>\n",
       "      <td>0.64</td>\n",
       "      <td>0.36</td>\n",
       "    </tr>\n",
       "    <tr>\n",
       "      <td>10.0</td>\n",
       "      <td>0.71</td>\n",
       "      <td>0.29</td>\n",
       "    </tr>\n",
       "    <tr>\n",
       "      <td>11.0</td>\n",
       "      <td>0.67</td>\n",
       "      <td>0.33</td>\n",
       "    </tr>\n",
       "  </tbody>\n",
       "</table>\n",
       "</div>"
      ],
      "text/plain": [
       "PL150: MANAGERIAL POSITION                   False  True \n",
       "PL031: SELF-DEFINED CURRENT ECONOMIC STATUS              \n",
       "1.0                                           0.93   0.07\n",
       "2.0                                           0.88   0.12\n",
       "3.0                                           0.94   0.06\n",
       "4.0                                           0.86   0.14\n",
       "5.0                                           0.77   0.23\n",
       "6.0                                           0.70   0.30\n",
       "7.0                                           0.90   0.10\n",
       "8.0                                           0.88   0.12\n",
       "9.0                                           0.64   0.36\n",
       "10.0                                          0.71   0.29\n",
       "11.0                                          0.67   0.33"
      ]
     },
     "execution_count": 117,
     "metadata": {},
     "output_type": "execute_result"
    }
   ],
   "source": [
    "\"\"\"\n",
    "'PL150: MANAGERIAL POSITION'\n",
    "1 supervisory : includes formal responsibility for supervising a group of other employees\n",
    "2 non-supervisory\n",
    "\n",
    "referst to PL031=1, 2, 3 or 4\n",
    "\"\"\"\n",
    "\n",
    "print(ppp['PL150: MANAGERIAL POSITION'].unique())\n",
    "## ok, \n",
    "\n",
    "## alot of missings, same problems as with previous variables, unemployed or others? :\n",
    "pd.crosstab( ppp['PL031: SELF-DEFINED CURRENT ECONOMIC STATUS'],ppp['PL150: MANAGERIAL POSITION'].isna(),normalize='index').apply(lambda x: round(x,2))\n",
    "# mainly in status 5 (unemployed) 6, 9, 10, 11 other non-jobs\n",
    "# fillna with 0 for pl31 5,6,etc.?"
   ]
  },
  {
   "cell_type": "code",
   "execution_count": 238,
   "metadata": {},
   "outputs": [
    {
     "data": {
      "text/plain": [
       "PL031: SELF-DEFINED CURRENT ECONOMIC STATUS                  0\n",
       "PL035: WORKED AT LEAST 1 HOUR DURING THE PREVIOUS WEEK       0\n",
       "PL040: STATUS IN EMPLOYMENT                                344\n",
       "PL051: OCCUPATION (ISCO-08 (COM))                           47\n",
       "PL140: TYPE OF CONTRACT                                   1008\n",
       "PL150: MANAGERIAL POSITION                                 968\n",
       "PL190: WHEN BEGAN FIRST REGULAR JOB                       1949\n",
       "dtype: int64"
      ]
     },
     "execution_count": 238,
     "metadata": {},
     "output_type": "execute_result"
    }
   ],
   "source": [
    "# mainly in status 5 (unemployed) 6, 9, 10, 11 other non-jobs\n",
    "# fillna with 0 for pl31 5,6,etc.?\n",
    "ppp.loc[(ppp['PL150: MANAGERIAL POSITION'].isna()) & ((ppp['PL031: SELF-DEFINED CURRENT ECONOMIC STATUS']==5) | (ppp['PL031: SELF-DEFINED CURRENT ECONOMIC STATUS']==6) | (ppp['PL031: SELF-DEFINED CURRENT ECONOMIC STATUS']==7) | (ppp['PL031: SELF-DEFINED CURRENT ECONOMIC STATUS']==8) |(ppp['PL031: SELF-DEFINED CURRENT ECONOMIC STATUS']==9) |(ppp['PL031: SELF-DEFINED CURRENT ECONOMIC STATUS']==10) |(ppp['PL031: SELF-DEFINED CURRENT ECONOMIC STATUS']==11)), 'PL150: MANAGERIAL POSITION'] =0\n",
    "\n",
    "pd.crosstab( ppp['PL031: SELF-DEFINED CURRENT ECONOMIC STATUS'],ppp['PL150: MANAGERIAL POSITION'].isna())\n",
    "\n",
    "ppp[work].isna().sum()\n",
    "### still a lot of nans...(alsmost 1000)"
   ]
  },
  {
   "cell_type": "markdown",
   "metadata": {},
   "source": [
    "###### [6]  'PL190: WHEN BEGAN FIRST REGULAR JOB'"
   ]
  },
  {
   "cell_type": "code",
   "execution_count": 236,
   "metadata": {},
   "outputs": [
    {
     "data": {
      "text/plain": [
       "0.10092801605216956"
      ]
     },
     "execution_count": 236,
     "metadata": {},
     "output_type": "execute_result"
    },
    {
     "data": {
      "image/png": "[encoded data removed]",
      "text/plain": [
       "<Figure size 432x288 with 1 Axes>"
      ]
     },
     "metadata": {
      "needs_background": "light"
     },
     "output_type": "display_data"
    }
   ],
   "source": [
    "\"\"\"\n",
    "'PL190: WHEN BEGAN FIRST REGULAR JOB'\n",
    "It is designed to permit the calculation of the total potential time the person could have spent \n",
    "in the labour force. It is the age at which the person began their first regular job. \n",
    "\"\"\"\n",
    "\n",
    "pd.crosstab(ppp['PL031: SELF-DEFINED CURRENT ECONOMIC STATUS'], ppp['PL190: WHEN BEGAN FIRST REGULAR JOB'].isna(),normalize='index').apply(lambda x: round(x,2))\n",
    "## conclusion: nans in all pl031 categories, but \n",
    "\n",
    "### too many nones, probably highly correlated with \"PB140: YEAR OF BIRTH\",\n",
    "ppp['PL190: WHEN BEGAN FIRST REGULAR JOB'].corr(ppp['PB140: YEAR OF BIRTH']) # not at all\n",
    "\n",
    "plt.hist(ppp['PL190: WHEN BEGAN FIRST REGULAR JOB'], bins=5)\n",
    "\n",
    "pd.crosstab( ppp['PL031: SELF-DEFINED CURRENT ECONOMIC STATUS'],ppp['PL190: WHEN BEGAN FIRST REGULAR JOB'].isna(),normalize='index').apply(lambda x: round(x,2))\n",
    "\n",
    "# conclusion: most nans are also with unemployed (5) antd the others, but here i think it doesnt make sense to fill any value\n",
    "# because we dont know if they had a ob befor beeing unemployed or in a training... \n",
    "# also most values are around 20, not big variation \n",
    "# drop column \n",
    "ppp['PL190: WHEN BEGAN FIRST REGULAR JOB'].mean()\n",
    "ppp['PL190: WHEN BEGAN FIRST REGULAR JOB'].median()\n",
    "ppp['PL190: WHEN BEGAN FIRST REGULAR JOB'][ppp['PL190: WHEN BEGAN FIRST REGULAR JOB']>24].count()/ ppp['PL190: WHEN BEGAN FIRST REGULAR JOB'].count()\n",
    "\n"
   ]
  },
  {
   "cell_type": "markdown",
   "metadata": {},
   "source": [
    "###### Conlusion - final cleaning"
   ]
  },
  {
   "cell_type": "code",
   "execution_count": 241,
   "metadata": {},
   "outputs": [
    {
     "data": {
      "text/plain": [
       "PL031: SELF-DEFINED CURRENT ECONOMIC STATUS                  0\n",
       "PL035: WORKED AT LEAST 1 HOUR DURING THE PREVIOUS WEEK       0\n",
       "PL040: STATUS IN EMPLOYMENT                                342\n",
       "PL051: OCCUPATION (ISCO-08 (COM))                            0\n",
       "PL140: TYPE OF CONTRACT                                   1007\n",
       "PL150: MANAGERIAL POSITION                                 965\n",
       "PL190: WHEN BEGAN FIRST REGULAR JOB                       1940\n",
       "dtype: int64"
      ]
     },
     "execution_count": 241,
     "metadata": {},
     "output_type": "execute_result"
    }
   ],
   "source": [
    "ppp[work].isna().sum()\n",
    "### still a lot of nans..."
   ]
  },
  {
   "cell_type": "code",
   "execution_count": 255,
   "metadata": {
    "scrolled": true
   },
   "outputs": [
    {
     "data": {
      "text/plain": [
       "PL031: SELF-DEFINED CURRENT ECONOMIC STATUS                  0\n",
       "PL035: WORKED AT LEAST 1 HOUR DURING THE PREVIOUS WEEK       0\n",
       "PL040: STATUS IN EMPLOYMENT                                258\n",
       "PL051: OCCUPATION (ISCO-08 (COM))                            0\n",
       "PL140: TYPE OF CONTRACT                                    837\n",
       "PL150: MANAGERIAL POSITION                                   0\n",
       "PL190: WHEN BEGAN FIRST REGULAR JOB                       1839\n",
       "dtype: int64"
      ]
     },
     "execution_count": 255,
     "metadata": {},
     "output_type": "execute_result"
    }
   ],
   "source": [
    "null_displ = ppp[ppp['PL150: MANAGERIAL POSITION'].isnull()==False]\n",
    "null_displ[work].isna().sum()\n",
    "### still a lot of nans in the other categories"
   ]
  },
  {
   "cell_type": "markdown",
   "metadata": {},
   "source": [
    "<font color='red'>check later, what else i want to drop.\n",
    "\n",
    "Question to Jo\n",
    "    \n",
    " I have a lot of columns:\n",
    " - drop columns / test for colinearity --> decide wich columns and then drop nans?\n",
    " - drop column with nan?  \n",
    " </font>"
   ]
  },
  {
   "cell_type": "code",
   "execution_count": null,
   "metadata": {},
   "outputs": [],
   "source": []
  },
  {
   "cell_type": "markdown",
   "metadata": {},
   "source": [
    "## 2.4 Health (PH) - Columns"
   ]
  },
  {
   "cell_type": "code",
   "execution_count": null,
   "metadata": {},
   "outputs": [],
   "source": [
    "### Health\n",
    "health =['PH010: GENERAL HEALTH',\n",
    "       'PH020: SUFFER FROM ANY A CHRONIC (LONG-STANDING) ILLNESS OR CONDITION',\n",
    "       'PH030: LIMITATION IN ACTIVITIES BECAUSE OF HEALTH PROBLEMS',\n",
    "       'PH040: UNMET NEED FOR MEDICAL EXAMINATION OR TREATMENT',\n",
    "       'PH060: UNMET NEED FOR DENTAL EXAMINATION OR TREATMENT']\n",
    "\n",
    "\n"
   ]
  },
  {
   "cell_type": "markdown",
   "metadata": {},
   "source": [
    "## 2.5 Job Stuff (PY) - Columns"
   ]
  },
  {
   "cell_type": "code",
   "execution_count": 54,
   "metadata": {},
   "outputs": [],
   "source": [
    "### job stuff\n",
    "job = ['PY010G: EMPLOYEE CASH OR NEAR CASH INCOME',\n",
    "       'PY020G: NON-CASH EMPLOYEE INCOME', 'PY021G: COMPANY CAR',\n",
    "       'PY035G: CONTRIBUTIONS TO INDIVIDUAL PRIVATE PENSION PLANS',\n",
    "       'PY050G: CASH BENEFITS OR LOSSES FROM SELF-EMPLOYMENT',\n",
    "       'PY080G: PENSION FROM INDIVIDUAL PRIVATE PLANS',\n",
    "       'PY090G: UNEMPLOYMENT BENEFITS', 'PY100G: OLD-AGE BENEFITS',\n",
    "       'PY110G: SURVIVOR’ BENEFITS', 'PY120G: SICKNESS BENEFITS',\n",
    "       'PY130G: DISABILITY BENEFITS', 'PY140G: EDUCATION-RELATED ALLOWANCES']"
   ]
  },
  {
   "cell_type": "markdown",
   "metadata": {},
   "source": [
    "## 2.6 Satisfaction (PW) - Columns"
   ]
  },
  {
   "cell_type": "code",
   "execution_count": 53,
   "metadata": {},
   "outputs": [],
   "source": [
    "### satisification \n",
    "sat =['PW010: OVERALL LIFE SATISFACTION', 'PW020: MEANING OF LIFE',\n",
    "       'PW030: SATISFACTION WITH FINANCIAL SITUATION',\n",
    "       'PW040: SATISFACTION WITH ACCOMMODATION', 'PW050: BEING VERY NERVOUS',\n",
    "       'PW060: FEELING DOWN IN THE DUMPS', 'PW070: FEELING CALM AND PEACEFUL',\n",
    "       'PW080: FEELING DOWNHEARTED OR DEPRESSED', 'PW090: BEING HAPPY',\n",
    "       'PW120: SATISFACTION WITH TIME USE',\n",
    "       'PW130: TRUST IN THE POLITICAL SYSTEM',\n",
    "       'PW140: TRUST IN THE LEGAL SYSTEM', 'PW150: TRUST IN THE POLICE',\n",
    "       'PW160: SATISFACTION WITH PERSONAL RELATIONSHIPS',\n",
    "       'PW170: PERSONAL MATTERS (ANYONE TO DISCUSS WITH)',\n",
    "       'PW180: HELP FROM OTHERS', 'PW190: TRUST IN OTHERS',\n",
    "       'PW200: SATISFACTION WITH RECREATIONAL OR GREEN AREAS',\n",
    "       'PW210: SATISFACTION WITH LIVING ENVIRONMENT',\n",
    "       'PW220: PHYSICAL SECURITY']"
   ]
  },
  {
   "cell_type": "markdown",
   "metadata": {},
   "source": [
    "## 2.7 extra questions   (PD) - columns"
   ]
  },
  {
   "cell_type": "code",
   "execution_count": 68,
   "metadata": {},
   "outputs": [],
   "source": [
    "## extra questions     \n",
    "extra= ['PD020: Replace worn-out clothes by some new (not second-hand) ones',\n",
    "       'PD030: Two pairs of properly fitting shoes',\n",
    "       'PD050: Get-together with friends/family (relatives) for a drink/meal at least once a month',\n",
    "       'PD060: Regularly participate in a leisure activity',\n",
    "       'PD070: Spend a small amount of money each week on yourself',\n",
    "       'PD080: Internet connection for personal use at home']"
   ]
  },
  {
   "cell_type": "code",
   "execution_count": null,
   "metadata": {},
   "outputs": [],
   "source": []
  },
  {
   "cell_type": "markdown",
   "metadata": {},
   "source": [
    "PB010: YEAR OF THE SURVEY\n",
    "\n",
    "PB020: COUNTRY  \n",
    "\n",
    "PB030: PERSONAL ID\n",
    "\n",
    "#### to delete:\n",
    "PB040: PERSONAL CROSS-SECTIONAL WEIGHT\n",
    "\n",
    "PB050: PERSONAL BASE WEIGHT\n",
    "\n",
    "PB060: PERSONAL CROSS-SECTIONAL WEIGHT FOR SELECTED RESPONDENT \n",
    "\n",
    "PB070: PERSONAL DESIGN WEIGHT FOR SELECTED RESPONDENT\n",
    "\n",
    "PB080: PERSONAL BASE WEIGHT FOR SELECTED RESPONDENT\n",
    "\n",
    "PB090: DAY OF THE PERSONAL INTERVIEW  \n",
    "\n",
    "PB100: MONTH OF THE PERSONAL INTERVIEW \n",
    "\n",
    "PB110: YEAR OF THE PERSONAL INTERVIEW \n",
    "\n",
    "PB120: MINUTES TO COMPLETE THE PERSONAL QUESTIONNAIRE  \n",
    "\n",
    "### keep\n",
    "PB130: MONTH OF BIRTH \n",
    "\n",
    "PB140: YEAR OF BIRTH  \n",
    "\n",
    "\n",
    "PB150: SEX \n",
    "\n",
    "\n",
    "### drop\n",
    "PB160: FATHER ID \n",
    "\n",
    "PB170: MOTHER ID\n",
    "\n",
    "PB180: SPOUSE/PARTNER ID\n",
    "\n",
    "#### keep\n",
    "PB190: MARITAL STATUS\n",
    "\n",
    "### dont kno\n",
    "PB200: CONSENSUAL UNION\n",
    "\n",
    "## keeep (maybe)\n",
    "PB210: COUNTRY OF BIRTH  \n",
    "\n",
    "PB220A: CITIZENSHIP 1\n",
    "\n",
    "PB220B: CITIZENSHIP 2\n",
    "\n",
    "#### check\n",
    "PE010: CURRENT EDUCATION ACTIVITY\n",
    "\n",
    "PE020: ISCED LEVEL CURRENTLY ATTENDED\n",
    "\n",
    "### keep aber modify\n",
    "PE030: YEAR WHEN HIGHEST LEVEL OF EDUCATION WAS ATTAINED\n",
    "\n",
    "\n",
    "PE040: HIGHEST ISCED LEVEL ATTAINED\n",
    "\n",
    "### keep if good?\n",
    "PH010: GENERAL HEALTH\n",
    "\n",
    "\n",
    "PH020: SUFFER FROM ANY A CHRONIC (LONG-STANDING) ILLNESS OR CONDITION \n",
    "\n",
    "PH030: LIMITATION IN ACTIVITIES BECAUSE OF HEALTH PROBLEMS\n",
    "\n",
    "PH040: UNMET NEED FOR MEDICAL EXAMINATION OR TREATMENT \n",
    "\n",
    "### drop\n",
    "PH050: MAIN REASON FOR UNMET NEED FOR MEDICAL EXAMINATION OR TREATMENT \n",
    "\n",
    "### keep\n",
    "PH060: UNMET NEED FOR DENTAL EXAMINATION OR TREATMENT\n",
    "\n",
    "### drop\n",
    "PH070: MAIN REASON FOR UNMET NEED FOR DENTAL EXAMINATION OR TREATMENT\n",
    "\n",
    "### keep\n",
    "PL015: PERSON HAS EVER WORKED\n",
    "\n",
    "PL020: ACTIVELY LOOKING FOR A JOB\n",
    "\n",
    "PL025: AVAILABLE FOR WORK\n",
    "\n",
    "PL031: SELF-DEFINED CURRENT ECONOMIC STATUS\n",
    "\n",
    "PL035: WORKED AT LEAST 1 HOUR DURING THE PREVIOUS WEEK\n",
    "\n",
    "PL040: STATUS IN EMPLOYMENT\n",
    "\n",
    "\n",
    "PL051: OCCUPATION (ISCO-08 (COM))\n",
    "\n",
    "PL060: NUMBER OF HOURS USUALLY WORKED PER WEEK IN MAIN JOB\n",
    "\n",
    "PL073: NUMBER OF MONTHS SPENT AT FULL-TIME WORK AS EMPLOYEE\n",
    "\n",
    "PL074: NUMBER OF MONTHS SPENT AT PART-TIME WORK AS EMPLOYEE\n",
    "\n",
    "PL075: NUMBER OF MONTHS SPENT AT FULL-TIME WORK AS SELF-EMPLOYED (INCLUDING \n",
    "FAMILY WORKER)\n",
    "\n",
    "PL076: NUMBER OF MONTHS SPENT AT PART-TIME WORK AS SELF-EMPLOYED (INCLUDING \n",
    "FAMILY WORKER)\n",
    "\n",
    "PL080: NUMBER OF MONTHS SPENT IN UNEMPLOYMENT\n",
    "\n",
    "PL085: NUMBER OF MONTHS SPENT IN RETIREMENT OR EARLY RETIREMENT\n",
    "\n",
    "PL086: NUMBER OF MONTHS SPENT AS DISABLED OR/AND UNFIT TO WORK\n",
    "\n",
    "PL087: NUMBER OF MONTHS SPENT STUDYING\n",
    "\n",
    "PL088: NUMBER OF MONTHS SPENT IN COMPULSORY MILITARY SERVICE\n",
    "\n",
    "PL089: NUMBER OF MONTHS SPENT FULFILLING DOMESTIC TASKS AND CARE RESPONSIBILITIES\n",
    "\n",
    "PL090: NUMBER OF MONTHS SPENT IN OTHER INACTIVITY\n",
    "\n",
    "PL100: TOTAL NUMBER OF HOURS USUALLY WORKED IN SECOND, THIRD… JOBS\n",
    "\n",
    "### drop\n",
    "PL111: NACE REV.2 . 292 \n",
    "\n",
    "PL120: REASON FOR WORKING LESS THAN 30 HOURS .. 293 \n",
    "\n",
    "### keep\n",
    "PL130: NUMBER OF PERSONS WORKING AT THE LOCAL UNIT . 294\n",
    "\n",
    "PL140: TYPE OF CONTRACT .. 295 \n",
    "\n",
    "PL150: MANAGERIAL POSITION . 297 \n",
    "\n",
    "PL160: CHANGE OF JOB SINCE LAST YEAR .. 298 \n",
    "\n",
    "PL170: REASON FOR CHANGE .. 299 \n",
    "\n",
    "PL180: MOST RECENT CHANGE IN THE INDIVIDUAL’S ACTIVITY STATUS . 301 \n",
    "\n",
    "PL190: WHEN BEGAN FIRST REGULAR JOB . 302 \n",
    "\n",
    "PL200: NUMBER OF YEARS SPENT IN PAID WORK  303 \n",
    "\n",
    "\n",
    "#### drop\n",
    "PL211A: MAIN ACTIVITY ON JANUARY . 304\n",
    "\n",
    "PL211B: MAIN ACTIVITY ON FEBRUARY .. 304 \n",
    "\n",
    "PL211C: MAIN ACTIVITY ON MARCH . 304 \n",
    "\n",
    "PL211D: MAIN ACTIVITY ON APRIL . 304 \n",
    "\n",
    "PL211E: MAIN ACTIVITY ON MAY  304 \n",
    "\n",
    "PL211F: MAIN ACTIVITY ON JUNE  304 \n",
    "\n",
    "PL211G: MAIN ACTIVITY ON JULY .. 304 \n",
    "\n",
    "PL211H: MAIN ACTIVITY ON AUGUST  304 \n",
    "\n",
    "PL211I: MAIN ACTIVITY ON SEPTEMBER . 304 \n",
    "\n",
    "PL211J: MAIN ACTIVITY ON OCTOBER . 304 \n",
    "\n",
    "PL211K: MAIN ACTIVITY ON NOVEMBER  304 \n",
    "\n",
    "PL211L: MAIN ACTIVITY ON DECEMBER . 304 \n",
    "\n",
    "## check\n",
    "PY010G/PY010N: EMPLOYEE CASH OR NEAR CASH INCOME .. 306 \n",
    "\n",
    "PY020G/PY020N: NON-CASH EMPLOYEE INCOME  308 \n",
    "\n",
    "PY021G/PY021N: COMPANY CAR . 310 \n",
    "\n",
    "## drop\n",
    "PY030G: EMPLOYER'S SOCIAL INSURANCE CONTRIBUTION . 311 \n",
    "PY031G: OPTIONAL EMPLOYER'S SOCIAL INSURANCE CONTRIBUTIONS .. 311 \n",
    "PY035G/PY035N: CONTRIBUTIONS TO INDIVIDUAL PRIVATE PENSION PLANS . 313 \n",
    "PY050G/PY050N: CASH BENEFITS OR LOSSES FROM SELF-EMPLOYMENT . 315 \n",
    "PY080G/PY080N: PENSION FROM INDIVIDUAL PRIVATE PLANS  320\n",
    "\n",
    "### <font color='red'>if availabe: alternative for outcome.</font>\n",
    "PY090G/PY090N: UNEMPLOYMENT BENEFITS . 322 \n",
    "\n",
    "PY100G/PY100N: OLD-AGE BENEFITS .. 322 \n",
    "\n",
    "PY110G/PY110N: SURVIVOR’ BENEFITS .. 322 \n",
    "\n",
    "PY120G/PY120N: SICKNESS BENEFITS.. 322 \n",
    "\n",
    "PY130G/PY130N: DISABILITY BENEFITS . 322 \n",
    "\n",
    "PY140G/PY140N: EDUCATION-RELATED ALLOWANCES  322 \n",
    "\n",
    "### keep\n",
    "PY200G: GROSS MONTHLY EARNINGS FOR EMPLOYEES . 330 \n",
    "\n",
    "\n",
    "\n",
    "\n",
    "### keep (outcome?)\n",
    "PW010: OVERALL LIFE SATISFACTION . - 362 - \n",
    "\n",
    "PW020: MEANING OF LIFE  - 363 - \n",
    "\n",
    "PW030: SATISFACTION WITH FINANCIAL SITUATION .. - 364 - \n",
    "\n",
    "PW040: SATISFACTION WITH ACCOMMODATION .. - 365 -\n",
    "\n",
    "PW050: BEING VERY NERVOUS . - 366 - \n",
    "\n",
    "PW060: FEELING DOWN IN THE DUMPS  - 367 - \n",
    "\n",
    "PW070: FEELING CALM AND PEACEFUL .. - 368 - \n",
    "\n",
    "PW080: FEELING DOWNHEARTED OR DEPRESSED . - 369 - \n",
    "\n",
    "PW090: BEING HAPPY . - 370 - \n",
    "\n",
    "<font color='red'>PW100: JOB SATISFACTION . - 371 -</font> \n",
    "\n",
    "PW110: SATISFACTION WITH COMMUTING TIME .. - 372 - \n",
    "\n",
    "PW120: SATISFACTION WITH TIME USE  - 373 - \n",
    "\n",
    "<font color='red'>PW130: TRUST IN THE POLITICAL SYSTEM  - 374 -</font>\n",
    "\n",
    "PW140: TRUST IN THE LEGAL SYSTEM . - 375 - \n",
    "\n",
    "PW150: TRUST IN THE POLICE .. - 376 - \n",
    "\n",
    "PW160: SATISFACTION WITH PERSONAL RELATIONSHIPS  - 377 - \n",
    "\n",
    "PW170: PERSONAL MATTERS (ANYONE TO DISCUSS WITH) . - 378 - \n",
    "\n",
    "PW180: HELP FROM OTHERS .. - 379 - \n",
    "\n",
    "PW190: TRUST IN OTHERS  - 380 - \n",
    "\n",
    "PW200: SATISFACTION WITH RECREATIONAL OR GREEN AREAS . - 381 -\n",
    "\n",
    "PW210: SATISFACTION WITH LIVING ENVIRONMENT .. - 382 - \n",
    "\n",
    "PW220: PHYSICAL SECURITY .. 383"
   ]
  },
  {
   "cell_type": "markdown",
   "metadata": {},
   "source": [
    "\n",
    "### backup"
   ]
  },
  {
   "cell_type": "code",
   "execution_count": 23,
   "metadata": {},
   "outputs": [
    {
     "data": {
      "text/plain": [
       "47"
      ]
     },
     "execution_count": 23,
     "metadata": {},
     "output_type": "execute_result"
    }
   ],
   "source": [
    "len(data.columns)"
   ]
  },
  {
   "cell_type": "code",
   "execution_count": 63,
   "metadata": {},
   "outputs": [
    {
     "data": {
      "text/plain": [
       "(11572, 94)"
      ]
     },
     "execution_count": 63,
     "metadata": {},
     "output_type": "execute_result"
    }
   ],
   "source": [
    "data = pd.read_csv(\"./data//BE_2013p_EUSILC.csv\")\n",
    "data.shape"
   ]
  },
  {
   "cell_type": "code",
   "execution_count": 58,
   "metadata": {},
   "outputs": [],
   "source": [
    "data=data.dropna(thresh=len(data) - 2000, axis=1)\n"
   ]
  },
  {
   "cell_type": "code",
   "execution_count": 59,
   "metadata": {},
   "outputs": [
    {
     "data": {
      "text/plain": [
       "(11572, 70)"
      ]
     },
     "execution_count": 59,
     "metadata": {},
     "output_type": "execute_result"
    }
   ],
   "source": [
    "data.shape"
   ]
  },
  {
   "cell_type": "code",
   "execution_count": 64,
   "metadata": {},
   "outputs": [],
   "source": [
    "## overall life satisfaction\n",
    "data=data[data['PW010']<=10]"
   ]
  },
  {
   "cell_type": "code",
   "execution_count": 65,
   "metadata": {},
   "outputs": [
    {
     "data": {
      "text/plain": [
       "(9727, 94)"
      ]
     },
     "execution_count": 65,
     "metadata": {},
     "output_type": "execute_result"
    }
   ],
   "source": [
    "data.shape"
   ]
  },
  {
   "cell_type": "code",
   "execution_count": 66,
   "metadata": {},
   "outputs": [
    {
     "data": {
      "text/plain": [
       "<matplotlib.axes._subplots.AxesSubplot at 0x285fe0c9ac8>"
      ]
     },
     "execution_count": 66,
     "metadata": {},
     "output_type": "execute_result"
    },
    {
     "data": {
      "image/png": "[encoded data removed]",
      "text/plain": [
       "<Figure size 432x288 with 1 Axes>"
      ]
     },
     "metadata": {
      "needs_background": "light"
     },
     "output_type": "display_data"
    }
   ],
   "source": [
    "data['PW010'].plot.hist()"
   ]
  },
  {
   "cell_type": "code",
   "execution_count": 68,
   "metadata": {},
   "outputs": [
    {
     "data": {
      "text/plain": [
       "<matplotlib.axes._subplots.AxesSubplot at 0x285fc2a9148>"
      ]
     },
     "execution_count": 68,
     "metadata": {},
     "output_type": "execute_result"
    },
    {
     "data": {
      "image/png": "[encoded data removed]",
      "text/plain": [
       "<Figure size 432x288 with 1 Axes>"
      ]
     },
     "metadata": {
      "needs_background": "light"
     },
     "output_type": "display_data"
    }
   ],
   "source": [
    "# satisfaction with financial situation\n",
    "data=data[data['PW030']<=10]\n",
    "data['PW030'].plot.hist()"
   ]
  },
  {
   "cell_type": "code",
   "execution_count": 69,
   "metadata": {},
   "outputs": [
    {
     "data": {
      "text/plain": [
       "Index(['PB010', 'PB020', 'PB030', 'PB040', 'PB060', 'PB100', 'PB110', 'PB120',\n",
       "       'PB130', 'PB140', 'PB150', 'PB190', 'PB200', 'PB220A', 'PE010', 'PE020',\n",
       "       'PE040', 'PL031', 'PL035', 'PL015', 'PL020', 'PL025', 'PL040', 'PL051',\n",
       "       'PL060', 'PL100', 'PL111', 'PL120', 'PL130', 'PL140', 'PL150', 'PL160',\n",
       "       'PL170', 'PL180', 'PL190', 'PH010', 'PH020', 'PH030', 'PH040', 'PH050',\n",
       "       'PH060', 'PH070', 'PY020N', 'PY035N', 'PY010G', 'PY020G', 'PY021G',\n",
       "       'PY030G', 'PY031G', 'PY035G', 'PY050G', 'PY080G', 'PY090G', 'PY100G',\n",
       "       'PY110G', 'PY120G', 'PY130G', 'PY140G', 'PY200G', 'PD020', 'PD030',\n",
       "       'PD050', 'PD060', 'PD070', 'PD080', 'PD090', 'PW010', 'PW020', 'PW030',\n",
       "       'PW040', 'PW050', 'PW060', 'PW070', 'PW080', 'PW090', 'PW100', 'PW110',\n",
       "       'PW120', 'PW130', 'PW140', 'PW150', 'PW160', 'PW170', 'PW180', 'PW190',\n",
       "       'PW200', 'PW210', 'PW220', 'PX010', 'PX020', 'PX030', 'PX040', 'PX050',\n",
       "       'PX200'],\n",
       "      dtype='object')"
      ]
     },
     "execution_count": 69,
     "metadata": {},
     "output_type": "execute_result"
    }
   ],
   "source": [
    "data.columns"
   ]
  },
  {
   "cell_type": "markdown",
   "metadata": {},
   "source": []
  },
  {
   "cell_type": "code",
   "execution_count": 71,
   "metadata": {},
   "outputs": [
    {
     "data": {
      "text/plain": [
       "count     8261.000000\n",
       "mean       155.576201\n",
       "std       2189.328181\n",
       "min          0.000000\n",
       "25%          0.000000\n",
       "50%          0.000000\n",
       "75%          0.000000\n",
       "max      78088.000000\n",
       "Name: PY110G, dtype: float64"
      ]
     },
     "execution_count": 71,
     "metadata": {},
     "output_type": "execute_result"
    }
   ],
   "source": [
    "data['PY110G'].describe()"
   ]
  },
  {
   "cell_type": "code",
   "execution_count": 4,
   "metadata": {},
   "outputs": [
    {
     "data": {
      "text/plain": [
       "(10874, 66)"
      ]
     },
     "execution_count": 4,
     "metadata": {},
     "output_type": "execute_result"
    }
   ],
   "source": [
    "data2 = pd.read_csv(\"./data/BE_2012p_EUSILC.csv\")\n",
    "data2.shape"
   ]
  },
  {
   "cell_type": "code",
   "execution_count": 7,
   "metadata": {},
   "outputs": [],
   "source": [
    "colum2012=list(data2.columns)"
   ]
  },
  {
   "cell_type": "code",
   "execution_count": 9,
   "metadata": {},
   "outputs": [],
   "source": [
    "colum2013=['PB010', 'PB020', 'PB030', 'PB040', 'PB060', 'PB100', 'PB110', 'PB120',\n",
    "       'PB130', 'PB140', 'PB150', 'PB190', 'PB200', 'PB220A', 'PE010', 'PE020',\n",
    "       'PE040', 'PL031', 'PL035', 'PL015', 'PL020', 'PL025', 'PL040', 'PL051',\n",
    "       'PL060', 'PL100', 'PL111', 'PL120', 'PL130', 'PL140', 'PL150', 'PL160',\n",
    "       'PL170', 'PL180', 'PL190', 'PH010', 'PH020', 'PH030', 'PH040', 'PH050',\n",
    "       'PH060', 'PH070', 'PY020N', 'PY035N', 'PY010G', 'PY020G', 'PY021G',\n",
    "       'PY030G', 'PY031G', 'PY035G', 'PY050G', 'PY080G', 'PY090G', 'PY100G',\n",
    "       'PY110G', 'PY120G', 'PY130G', 'PY140G', 'PY200G', 'PD020', 'PD030',\n",
    "       'PD050', 'PD060', 'PD070', 'PD080', 'PD090', 'PW010', 'PW020', 'PW030',\n",
    "       'PW040', 'PW050', 'PW060', 'PW070', 'PW080', 'PW090', 'PW100', 'PW110',\n",
    "       'PW120', 'PW130', 'PW140', 'PW150', 'PW160', 'PW170', 'PW180', 'PW190',\n",
    "       'PW200', 'PW210', 'PW220', 'PX010', 'PX020', 'PX030', 'PX040', 'PX050',\n",
    "       'PX200']"
   ]
  },
  {
   "cell_type": "code",
   "execution_count": 16,
   "metadata": {
    "collapsed": true
   },
   "outputs": [
    {
     "data": {
      "text/plain": [
       "['PB010',\n",
       " 'PB020',\n",
       " 'PB030',\n",
       " 'PB040',\n",
       " 'PB060',\n",
       " 'PB100',\n",
       " 'PB110',\n",
       " 'PB120',\n",
       " 'PB130',\n",
       " 'PB140',\n",
       " 'PB150',\n",
       " 'PB190',\n",
       " 'PB200',\n",
       " 'PB220A',\n",
       " 'PE010',\n",
       " 'PE020',\n",
       " 'PE040',\n",
       " 'PL031',\n",
       " 'PL035',\n",
       " 'PL015',\n",
       " 'PL020',\n",
       " 'PL025',\n",
       " 'PL040',\n",
       " 'PL051',\n",
       " 'PL060',\n",
       " 'PL100',\n",
       " 'PL111',\n",
       " 'PL120',\n",
       " 'PL130',\n",
       " 'PL140',\n",
       " 'PL150',\n",
       " 'PL160',\n",
       " 'PL170',\n",
       " 'PL180',\n",
       " 'PL190',\n",
       " 'PH010',\n",
       " 'PH020',\n",
       " 'PH030',\n",
       " 'PH040',\n",
       " 'PH050',\n",
       " 'PH060',\n",
       " 'PH070',\n",
       " 'PY020N',\n",
       " 'PY035N',\n",
       " 'PY010G',\n",
       " 'PY020G',\n",
       " 'PY021G',\n",
       " 'PY030G',\n",
       " 'PY031G',\n",
       " 'PY035G',\n",
       " 'PY050G',\n",
       " 'PY080G',\n",
       " 'PY090G',\n",
       " 'PY100G',\n",
       " 'PY110G',\n",
       " 'PY120G',\n",
       " 'PY130G',\n",
       " 'PY140G',\n",
       " 'PY200G',\n",
       " 'PX010',\n",
       " 'PX020',\n",
       " 'PX030',\n",
       " 'PX040',\n",
       " 'PX050']"
      ]
     },
     "execution_count": 16,
     "metadata": {},
     "output_type": "execute_result"
    }
   ],
   "source": [
    "common= [value for value in colum2012 if value in colum2013]\n",
    "common"
   ]
  },
  {
   "cell_type": "markdown",
   "metadata": {},
   "source": [
    "### Germany Start of Data Cleaning"
   ]
  },
  {
   "cell_type": "code",
   "execution_count": 50,
   "metadata": {},
   "outputs": [
    {
     "data": {
      "text/plain": [
       "(22042, 284)"
      ]
     },
     "execution_count": 50,
     "metadata": {},
     "output_type": "execute_result"
    }
   ],
   "source": [
    "data3 = pd.read_csv(\"./data/DE_2013p_EUSILC.csv\")\n",
    "data3.shape"
   ]
  },
  {
   "cell_type": "code",
   "execution_count": 51,
   "metadata": {},
   "outputs": [],
   "source": [
    "columDE2013 = data3.columns"
   ]
  },
  {
   "cell_type": "code",
   "execution_count": 23,
   "metadata": {},
   "outputs": [],
   "source": [
    "common= [value for value in columDE2013 if value in colum2013]\n",
    "#data3 = data3[common]"
   ]
  },
  {
   "cell_type": "code",
   "execution_count": 52,
   "metadata": {},
   "outputs": [
    {
     "data": {
      "text/plain": [
       "0"
      ]
     },
     "execution_count": 52,
     "metadata": {},
     "output_type": "execute_result"
    }
   ],
   "source": [
    "data3['PY110G'].isna().sum()"
   ]
  },
  {
   "cell_type": "code",
   "execution_count": 34,
   "metadata": {},
   "outputs": [
    {
     "data": {
      "text/plain": [
       "<matplotlib.axes._subplots.AxesSubplot at 0x1e58e9b01c8>"
      ]
     },
     "execution_count": 34,
     "metadata": {},
     "output_type": "execute_result"
    },
    {
     "data": {
      "image/png": "[encoded data removed]",
      "text/plain": [
       "<Figure size 432x288 with 1 Axes>"
      ]
     },
     "metadata": {
      "needs_background": "light"
     },
     "output_type": "display_data"
    }
   ],
   "source": [
    "data3.PW010[data3['PW010']<=10].hist()"
   ]
  },
  {
   "cell_type": "code",
   "execution_count": 53,
   "metadata": {},
   "outputs": [
    {
     "data": {
      "text/plain": [
       "18309"
      ]
     },
     "execution_count": 53,
     "metadata": {},
     "output_type": "execute_result"
    }
   ],
   "source": [
    "data3.PW010[data3['PW010']<=10].count()"
   ]
  },
  {
   "cell_type": "code",
   "execution_count": 54,
   "metadata": {},
   "outputs": [
    {
     "data": {
      "text/html": [
       "<div>\n",
       "<style scoped>\n",
       "    .dataframe tbody tr th:only-of-type {\n",
       "        vertical-align: middle;\n",
       "    }\n",
       "\n",
       "    .dataframe tbody tr th {\n",
       "        vertical-align: top;\n",
       "    }\n",
       "\n",
       "    .dataframe thead th {\n",
       "        text-align: right;\n",
       "    }\n",
       "</style>\n",
       "<table border=\"1\" class=\"dataframe\">\n",
       "  <thead>\n",
       "    <tr style=\"text-align: right;\">\n",
       "      <th></th>\n",
       "      <th>PB010</th>\n",
       "      <th>PB030</th>\n",
       "      <th>PB040</th>\n",
       "      <th>PB040_F</th>\n",
       "      <th>PB060</th>\n",
       "      <th>PB060_F</th>\n",
       "      <th>PB100</th>\n",
       "      <th>PB100_F</th>\n",
       "      <th>PB110</th>\n",
       "      <th>PB110_F</th>\n",
       "      <th>...</th>\n",
       "      <th>PW210</th>\n",
       "      <th>PW210_F</th>\n",
       "      <th>PW220</th>\n",
       "      <th>PW220_F</th>\n",
       "      <th>PX010</th>\n",
       "      <th>PX020</th>\n",
       "      <th>PX030</th>\n",
       "      <th>PX040</th>\n",
       "      <th>PX050</th>\n",
       "      <th>PX200</th>\n",
       "    </tr>\n",
       "  </thead>\n",
       "  <tbody>\n",
       "    <tr>\n",
       "      <td>count</td>\n",
       "      <td>22042.0</td>\n",
       "      <td>2.204200e+04</td>\n",
       "      <td>22042.000000</td>\n",
       "      <td>0.0</td>\n",
       "      <td>0.0</td>\n",
       "      <td>0.0</td>\n",
       "      <td>22042.000000</td>\n",
       "      <td>0.0</td>\n",
       "      <td>22042.0</td>\n",
       "      <td>0.0</td>\n",
       "      <td>...</td>\n",
       "      <td>18565.000000</td>\n",
       "      <td>0.0</td>\n",
       "      <td>18593.000000</td>\n",
       "      <td>0.0</td>\n",
       "      <td>0.0</td>\n",
       "      <td>0.0</td>\n",
       "      <td>0.0</td>\n",
       "      <td>0.0</td>\n",
       "      <td>0.0</td>\n",
       "      <td>0.0</td>\n",
       "    </tr>\n",
       "    <tr>\n",
       "      <td>mean</td>\n",
       "      <td>2013.0</td>\n",
       "      <td>2.060714e+08</td>\n",
       "      <td>3145.641398</td>\n",
       "      <td>NaN</td>\n",
       "      <td>NaN</td>\n",
       "      <td>NaN</td>\n",
       "      <td>2.436394</td>\n",
       "      <td>NaN</td>\n",
       "      <td>2013.0</td>\n",
       "      <td>NaN</td>\n",
       "      <td>...</td>\n",
       "      <td>8.619930</td>\n",
       "      <td>NaN</td>\n",
       "      <td>2.206260</td>\n",
       "      <td>NaN</td>\n",
       "      <td>NaN</td>\n",
       "      <td>NaN</td>\n",
       "      <td>NaN</td>\n",
       "      <td>NaN</td>\n",
       "      <td>NaN</td>\n",
       "      <td>NaN</td>\n",
       "    </tr>\n",
       "    <tr>\n",
       "      <td>std</td>\n",
       "      <td>0.0</td>\n",
       "      <td>1.136807e+08</td>\n",
       "      <td>735.421261</td>\n",
       "      <td>NaN</td>\n",
       "      <td>NaN</td>\n",
       "      <td>NaN</td>\n",
       "      <td>0.495949</td>\n",
       "      <td>NaN</td>\n",
       "      <td>0.0</td>\n",
       "      <td>NaN</td>\n",
       "      <td>...</td>\n",
       "      <td>9.456481</td>\n",
       "      <td>NaN</td>\n",
       "      <td>1.150235</td>\n",
       "      <td>NaN</td>\n",
       "      <td>NaN</td>\n",
       "      <td>NaN</td>\n",
       "      <td>NaN</td>\n",
       "      <td>NaN</td>\n",
       "      <td>NaN</td>\n",
       "      <td>NaN</td>\n",
       "    </tr>\n",
       "    <tr>\n",
       "      <td>min</td>\n",
       "      <td>2013.0</td>\n",
       "      <td>3.560100e+04</td>\n",
       "      <td>1672.780749</td>\n",
       "      <td>NaN</td>\n",
       "      <td>NaN</td>\n",
       "      <td>NaN</td>\n",
       "      <td>2.000000</td>\n",
       "      <td>NaN</td>\n",
       "      <td>2013.0</td>\n",
       "      <td>NaN</td>\n",
       "      <td>...</td>\n",
       "      <td>0.000000</td>\n",
       "      <td>NaN</td>\n",
       "      <td>1.000000</td>\n",
       "      <td>NaN</td>\n",
       "      <td>NaN</td>\n",
       "      <td>NaN</td>\n",
       "      <td>NaN</td>\n",
       "      <td>NaN</td>\n",
       "      <td>NaN</td>\n",
       "      <td>NaN</td>\n",
       "    </tr>\n",
       "    <tr>\n",
       "      <td>25%</td>\n",
       "      <td>2013.0</td>\n",
       "      <td>1.097705e+08</td>\n",
       "      <td>2848.534031</td>\n",
       "      <td>NaN</td>\n",
       "      <td>NaN</td>\n",
       "      <td>NaN</td>\n",
       "      <td>2.000000</td>\n",
       "      <td>NaN</td>\n",
       "      <td>2013.0</td>\n",
       "      <td>NaN</td>\n",
       "      <td>...</td>\n",
       "      <td>7.000000</td>\n",
       "      <td>NaN</td>\n",
       "      <td>2.000000</td>\n",
       "      <td>NaN</td>\n",
       "      <td>NaN</td>\n",
       "      <td>NaN</td>\n",
       "      <td>NaN</td>\n",
       "      <td>NaN</td>\n",
       "      <td>NaN</td>\n",
       "      <td>NaN</td>\n",
       "    </tr>\n",
       "    <tr>\n",
       "      <td>50%</td>\n",
       "      <td>2013.0</td>\n",
       "      <td>2.095570e+08</td>\n",
       "      <td>3057.583187</td>\n",
       "      <td>NaN</td>\n",
       "      <td>NaN</td>\n",
       "      <td>NaN</td>\n",
       "      <td>2.000000</td>\n",
       "      <td>NaN</td>\n",
       "      <td>2013.0</td>\n",
       "      <td>NaN</td>\n",
       "      <td>...</td>\n",
       "      <td>8.000000</td>\n",
       "      <td>NaN</td>\n",
       "      <td>2.000000</td>\n",
       "      <td>NaN</td>\n",
       "      <td>NaN</td>\n",
       "      <td>NaN</td>\n",
       "      <td>NaN</td>\n",
       "      <td>NaN</td>\n",
       "      <td>NaN</td>\n",
       "      <td>NaN</td>\n",
       "    </tr>\n",
       "    <tr>\n",
       "      <td>75%</td>\n",
       "      <td>2013.0</td>\n",
       "      <td>2.985014e+08</td>\n",
       "      <td>3349.465812</td>\n",
       "      <td>NaN</td>\n",
       "      <td>NaN</td>\n",
       "      <td>NaN</td>\n",
       "      <td>3.000000</td>\n",
       "      <td>NaN</td>\n",
       "      <td>2013.0</td>\n",
       "      <td>NaN</td>\n",
       "      <td>...</td>\n",
       "      <td>9.000000</td>\n",
       "      <td>NaN</td>\n",
       "      <td>3.000000</td>\n",
       "      <td>NaN</td>\n",
       "      <td>NaN</td>\n",
       "      <td>NaN</td>\n",
       "      <td>NaN</td>\n",
       "      <td>NaN</td>\n",
       "      <td>NaN</td>\n",
       "      <td>NaN</td>\n",
       "    </tr>\n",
       "    <tr>\n",
       "      <td>max</td>\n",
       "      <td>2013.0</td>\n",
       "      <td>4.011008e+08</td>\n",
       "      <td>6445.686901</td>\n",
       "      <td>NaN</td>\n",
       "      <td>NaN</td>\n",
       "      <td>NaN</td>\n",
       "      <td>3.000000</td>\n",
       "      <td>NaN</td>\n",
       "      <td>2013.0</td>\n",
       "      <td>NaN</td>\n",
       "      <td>...</td>\n",
       "      <td>99.000000</td>\n",
       "      <td>NaN</td>\n",
       "      <td>9.000000</td>\n",
       "      <td>NaN</td>\n",
       "      <td>NaN</td>\n",
       "      <td>NaN</td>\n",
       "      <td>NaN</td>\n",
       "      <td>NaN</td>\n",
       "      <td>NaN</td>\n",
       "      <td>NaN</td>\n",
       "    </tr>\n",
       "  </tbody>\n",
       "</table>\n",
       "<p>8 rows × 281 columns</p>\n",
       "</div>"
      ],
      "text/plain": [
       "         PB010         PB030         PB040  PB040_F  PB060  PB060_F  \\\n",
       "count  22042.0  2.204200e+04  22042.000000      0.0    0.0      0.0   \n",
       "mean    2013.0  2.060714e+08   3145.641398      NaN    NaN      NaN   \n",
       "std        0.0  1.136807e+08    735.421261      NaN    NaN      NaN   \n",
       "min     2013.0  3.560100e+04   1672.780749      NaN    NaN      NaN   \n",
       "25%     2013.0  1.097705e+08   2848.534031      NaN    NaN      NaN   \n",
       "50%     2013.0  2.095570e+08   3057.583187      NaN    NaN      NaN   \n",
       "75%     2013.0  2.985014e+08   3349.465812      NaN    NaN      NaN   \n",
       "max     2013.0  4.011008e+08   6445.686901      NaN    NaN      NaN   \n",
       "\n",
       "              PB100  PB100_F    PB110  PB110_F  ...         PW210  PW210_F  \\\n",
       "count  22042.000000      0.0  22042.0      0.0  ...  18565.000000      0.0   \n",
       "mean       2.436394      NaN   2013.0      NaN  ...      8.619930      NaN   \n",
       "std        0.495949      NaN      0.0      NaN  ...      9.456481      NaN   \n",
       "min        2.000000      NaN   2013.0      NaN  ...      0.000000      NaN   \n",
       "25%        2.000000      NaN   2013.0      NaN  ...      7.000000      NaN   \n",
       "50%        2.000000      NaN   2013.0      NaN  ...      8.000000      NaN   \n",
       "75%        3.000000      NaN   2013.0      NaN  ...      9.000000      NaN   \n",
       "max        3.000000      NaN   2013.0      NaN  ...     99.000000      NaN   \n",
       "\n",
       "              PW220  PW220_F  PX010  PX020  PX030  PX040  PX050  PX200  \n",
       "count  18593.000000      0.0    0.0    0.0    0.0    0.0    0.0    0.0  \n",
       "mean       2.206260      NaN    NaN    NaN    NaN    NaN    NaN    NaN  \n",
       "std        1.150235      NaN    NaN    NaN    NaN    NaN    NaN    NaN  \n",
       "min        1.000000      NaN    NaN    NaN    NaN    NaN    NaN    NaN  \n",
       "25%        2.000000      NaN    NaN    NaN    NaN    NaN    NaN    NaN  \n",
       "50%        2.000000      NaN    NaN    NaN    NaN    NaN    NaN    NaN  \n",
       "75%        3.000000      NaN    NaN    NaN    NaN    NaN    NaN    NaN  \n",
       "max        9.000000      NaN    NaN    NaN    NaN    NaN    NaN    NaN  \n",
       "\n",
       "[8 rows x 281 columns]"
      ]
     },
     "execution_count": 54,
     "metadata": {},
     "output_type": "execute_result"
    }
   ],
   "source": [
    "data3.describe()"
   ]
  },
  {
   "cell_type": "code",
   "execution_count": 55,
   "metadata": {},
   "outputs": [
    {
     "data": {
      "text/plain": [
       "74"
      ]
     },
     "execution_count": 55,
     "metadata": {},
     "output_type": "execute_result"
    }
   ],
   "source": [
    "ds = data3.dropna(thresh=len(data3)*0.1, axis=1)\n",
    "len(ds.columns)"
   ]
  },
  {
   "cell_type": "code",
   "execution_count": 56,
   "metadata": {},
   "outputs": [
    {
     "data": {
      "text/plain": [
       "Index(['PB010', 'PB020', 'PB030', 'PB040', 'PB100', 'PB110', 'PB120', 'PB140',\n",
       "       'PB150', 'PB190', 'PB200', 'PB220A', 'PE010', 'PE020', 'PE040', 'PL031',\n",
       "       'PL035', 'PL015', 'PL020', 'PL040', 'PL051', 'PL060', 'PL111', 'PL120',\n",
       "       'PL130', 'PL140', 'PL150', 'PL160', 'PL190', 'PH010', 'PH020', 'PH030',\n",
       "       'PH040', 'PH060', 'PY010G', 'PY020G', 'PY021G', 'PY035G', 'PY050G',\n",
       "       'PY080G', 'PY090G', 'PY100G', 'PY110G', 'PY120G', 'PY130G', 'PY140G',\n",
       "       'PD020', 'PD030', 'PD050', 'PD060', 'PD070', 'PD080', 'PW010', 'PW020',\n",
       "       'PW030', 'PW040', 'PW050', 'PW060', 'PW070', 'PW080', 'PW090', 'PW100',\n",
       "       'PW110', 'PW120', 'PW130', 'PW140', 'PW150', 'PW160', 'PW170', 'PW180',\n",
       "       'PW190', 'PW200', 'PW210', 'PW220'],\n",
       "      dtype='object')"
      ]
     },
     "execution_count": 56,
     "metadata": {},
     "output_type": "execute_result"
    }
   ],
   "source": [
    "ds.columns"
   ]
  },
  {
   "cell_type": "code",
   "execution_count": 58,
   "metadata": {},
   "outputs": [
    {
     "data": {
      "text/html": [
       "<div>\n",
       "<style scoped>\n",
       "    .dataframe tbody tr th:only-of-type {\n",
       "        vertical-align: middle;\n",
       "    }\n",
       "\n",
       "    .dataframe tbody tr th {\n",
       "        vertical-align: top;\n",
       "    }\n",
       "\n",
       "    .dataframe thead th {\n",
       "        text-align: right;\n",
       "    }\n",
       "</style>\n",
       "<table border=\"1\" class=\"dataframe\">\n",
       "  <thead>\n",
       "    <tr style=\"text-align: right;\">\n",
       "      <th></th>\n",
       "      <th>PB010</th>\n",
       "      <th>PB030</th>\n",
       "      <th>PB040</th>\n",
       "      <th>PB100</th>\n",
       "      <th>PB110</th>\n",
       "      <th>PB120</th>\n",
       "      <th>PB140</th>\n",
       "      <th>PB150</th>\n",
       "      <th>PB190</th>\n",
       "      <th>PB200</th>\n",
       "      <th>...</th>\n",
       "      <th>PW130</th>\n",
       "      <th>PW140</th>\n",
       "      <th>PW150</th>\n",
       "      <th>PW160</th>\n",
       "      <th>PW170</th>\n",
       "      <th>PW180</th>\n",
       "      <th>PW190</th>\n",
       "      <th>PW200</th>\n",
       "      <th>PW210</th>\n",
       "      <th>PW220</th>\n",
       "    </tr>\n",
       "  </thead>\n",
       "  <tbody>\n",
       "    <tr>\n",
       "      <td>count</td>\n",
       "      <td>22042.0</td>\n",
       "      <td>2.204200e+04</td>\n",
       "      <td>22042.000000</td>\n",
       "      <td>22042.000000</td>\n",
       "      <td>22042.0</td>\n",
       "      <td>22042.000000</td>\n",
       "      <td>22042.000000</td>\n",
       "      <td>22042.000000</td>\n",
       "      <td>21883.000000</td>\n",
       "      <td>22042.000000</td>\n",
       "      <td>...</td>\n",
       "      <td>18626.000000</td>\n",
       "      <td>18611.000000</td>\n",
       "      <td>18519.000000</td>\n",
       "      <td>18468.000000</td>\n",
       "      <td>18701.000000</td>\n",
       "      <td>18664.000000</td>\n",
       "      <td>18619.000000</td>\n",
       "      <td>18578.000000</td>\n",
       "      <td>18565.000000</td>\n",
       "      <td>18593.000000</td>\n",
       "    </tr>\n",
       "    <tr>\n",
       "      <td>mean</td>\n",
       "      <td>2013.0</td>\n",
       "      <td>2.060714e+08</td>\n",
       "      <td>3145.641398</td>\n",
       "      <td>2.436394</td>\n",
       "      <td>2013.0</td>\n",
       "      <td>34.653298</td>\n",
       "      <td>1963.266401</td>\n",
       "      <td>1.509845</td>\n",
       "      <td>2.155006</td>\n",
       "      <td>1.884765</td>\n",
       "      <td>...</td>\n",
       "      <td>8.972619</td>\n",
       "      <td>9.004460</td>\n",
       "      <td>9.484151</td>\n",
       "      <td>8.974930</td>\n",
       "      <td>1.326453</td>\n",
       "      <td>1.261627</td>\n",
       "      <td>7.837961</td>\n",
       "      <td>9.460652</td>\n",
       "      <td>8.619930</td>\n",
       "      <td>2.206260</td>\n",
       "    </tr>\n",
       "    <tr>\n",
       "      <td>std</td>\n",
       "      <td>0.0</td>\n",
       "      <td>1.136807e+08</td>\n",
       "      <td>735.421261</td>\n",
       "      <td>0.495949</td>\n",
       "      <td>0.0</td>\n",
       "      <td>18.191672</td>\n",
       "      <td>18.109522</td>\n",
       "      <td>0.499914</td>\n",
       "      <td>1.204184</td>\n",
       "      <td>0.956788</td>\n",
       "      <td>...</td>\n",
       "      <td>19.267931</td>\n",
       "      <td>18.429625</td>\n",
       "      <td>16.882866</td>\n",
       "      <td>10.427592</td>\n",
       "      <td>1.436871</td>\n",
       "      <td>1.317381</td>\n",
       "      <td>14.819047</td>\n",
       "      <td>13.197976</td>\n",
       "      <td>9.456481</td>\n",
       "      <td>1.150235</td>\n",
       "    </tr>\n",
       "    <tr>\n",
       "      <td>min</td>\n",
       "      <td>2013.0</td>\n",
       "      <td>3.560100e+04</td>\n",
       "      <td>1672.780749</td>\n",
       "      <td>2.000000</td>\n",
       "      <td>2013.0</td>\n",
       "      <td>10.000000</td>\n",
       "      <td>1932.000000</td>\n",
       "      <td>1.000000</td>\n",
       "      <td>1.000000</td>\n",
       "      <td>1.000000</td>\n",
       "      <td>...</td>\n",
       "      <td>0.000000</td>\n",
       "      <td>0.000000</td>\n",
       "      <td>0.000000</td>\n",
       "      <td>0.000000</td>\n",
       "      <td>1.000000</td>\n",
       "      <td>1.000000</td>\n",
       "      <td>0.000000</td>\n",
       "      <td>0.000000</td>\n",
       "      <td>0.000000</td>\n",
       "      <td>1.000000</td>\n",
       "    </tr>\n",
       "    <tr>\n",
       "      <td>25%</td>\n",
       "      <td>2013.0</td>\n",
       "      <td>1.097705e+08</td>\n",
       "      <td>2848.534031</td>\n",
       "      <td>2.000000</td>\n",
       "      <td>2013.0</td>\n",
       "      <td>20.000000</td>\n",
       "      <td>1949.000000</td>\n",
       "      <td>1.000000</td>\n",
       "      <td>1.000000</td>\n",
       "      <td>1.000000</td>\n",
       "      <td>...</td>\n",
       "      <td>3.000000</td>\n",
       "      <td>3.000000</td>\n",
       "      <td>5.000000</td>\n",
       "      <td>7.000000</td>\n",
       "      <td>1.000000</td>\n",
       "      <td>1.000000</td>\n",
       "      <td>4.000000</td>\n",
       "      <td>7.000000</td>\n",
       "      <td>7.000000</td>\n",
       "      <td>2.000000</td>\n",
       "    </tr>\n",
       "    <tr>\n",
       "      <td>50%</td>\n",
       "      <td>2013.0</td>\n",
       "      <td>2.095570e+08</td>\n",
       "      <td>3057.583187</td>\n",
       "      <td>2.000000</td>\n",
       "      <td>2013.0</td>\n",
       "      <td>30.000000</td>\n",
       "      <td>1963.000000</td>\n",
       "      <td>2.000000</td>\n",
       "      <td>2.000000</td>\n",
       "      <td>1.000000</td>\n",
       "      <td>...</td>\n",
       "      <td>5.000000</td>\n",
       "      <td>6.000000</td>\n",
       "      <td>7.000000</td>\n",
       "      <td>8.000000</td>\n",
       "      <td>1.000000</td>\n",
       "      <td>1.000000</td>\n",
       "      <td>6.000000</td>\n",
       "      <td>8.000000</td>\n",
       "      <td>8.000000</td>\n",
       "      <td>2.000000</td>\n",
       "    </tr>\n",
       "    <tr>\n",
       "      <td>75%</td>\n",
       "      <td>2013.0</td>\n",
       "      <td>2.985014e+08</td>\n",
       "      <td>3349.465812</td>\n",
       "      <td>3.000000</td>\n",
       "      <td>2013.0</td>\n",
       "      <td>45.000000</td>\n",
       "      <td>1978.000000</td>\n",
       "      <td>2.000000</td>\n",
       "      <td>2.000000</td>\n",
       "      <td>3.000000</td>\n",
       "      <td>...</td>\n",
       "      <td>7.000000</td>\n",
       "      <td>8.000000</td>\n",
       "      <td>8.000000</td>\n",
       "      <td>9.000000</td>\n",
       "      <td>1.000000</td>\n",
       "      <td>1.000000</td>\n",
       "      <td>7.000000</td>\n",
       "      <td>9.000000</td>\n",
       "      <td>9.000000</td>\n",
       "      <td>3.000000</td>\n",
       "    </tr>\n",
       "    <tr>\n",
       "      <td>max</td>\n",
       "      <td>2013.0</td>\n",
       "      <td>4.011008e+08</td>\n",
       "      <td>6445.686901</td>\n",
       "      <td>3.000000</td>\n",
       "      <td>2013.0</td>\n",
       "      <td>90.000000</td>\n",
       "      <td>1996.000000</td>\n",
       "      <td>2.000000</td>\n",
       "      <td>5.000000</td>\n",
       "      <td>3.000000</td>\n",
       "      <td>...</td>\n",
       "      <td>99.000000</td>\n",
       "      <td>99.000000</td>\n",
       "      <td>99.000000</td>\n",
       "      <td>99.000000</td>\n",
       "      <td>9.000000</td>\n",
       "      <td>9.000000</td>\n",
       "      <td>99.000000</td>\n",
       "      <td>99.000000</td>\n",
       "      <td>99.000000</td>\n",
       "      <td>9.000000</td>\n",
       "    </tr>\n",
       "  </tbody>\n",
       "</table>\n",
       "<p>8 rows × 71 columns</p>\n",
       "</div>"
      ],
      "text/plain": [
       "         PB010         PB030         PB040         PB100    PB110  \\\n",
       "count  22042.0  2.204200e+04  22042.000000  22042.000000  22042.0   \n",
       "mean    2013.0  2.060714e+08   3145.641398      2.436394   2013.0   \n",
       "std        0.0  1.136807e+08    735.421261      0.495949      0.0   \n",
       "min     2013.0  3.560100e+04   1672.780749      2.000000   2013.0   \n",
       "25%     2013.0  1.097705e+08   2848.534031      2.000000   2013.0   \n",
       "50%     2013.0  2.095570e+08   3057.583187      2.000000   2013.0   \n",
       "75%     2013.0  2.985014e+08   3349.465812      3.000000   2013.0   \n",
       "max     2013.0  4.011008e+08   6445.686901      3.000000   2013.0   \n",
       "\n",
       "              PB120         PB140         PB150         PB190         PB200  \\\n",
       "count  22042.000000  22042.000000  22042.000000  21883.000000  22042.000000   \n",
       "mean      34.653298   1963.266401      1.509845      2.155006      1.884765   \n",
       "std       18.191672     18.109522      0.499914      1.204184      0.956788   \n",
       "min       10.000000   1932.000000      1.000000      1.000000      1.000000   \n",
       "25%       20.000000   1949.000000      1.000000      1.000000      1.000000   \n",
       "50%       30.000000   1963.000000      2.000000      2.000000      1.000000   \n",
       "75%       45.000000   1978.000000      2.000000      2.000000      3.000000   \n",
       "max       90.000000   1996.000000      2.000000      5.000000      3.000000   \n",
       "\n",
       "       ...         PW130         PW140         PW150         PW160  \\\n",
       "count  ...  18626.000000  18611.000000  18519.000000  18468.000000   \n",
       "mean   ...      8.972619      9.004460      9.484151      8.974930   \n",
       "std    ...     19.267931     18.429625     16.882866     10.427592   \n",
       "min    ...      0.000000      0.000000      0.000000      0.000000   \n",
       "25%    ...      3.000000      3.000000      5.000000      7.000000   \n",
       "50%    ...      5.000000      6.000000      7.000000      8.000000   \n",
       "75%    ...      7.000000      8.000000      8.000000      9.000000   \n",
       "max    ...     99.000000     99.000000     99.000000     99.000000   \n",
       "\n",
       "              PW170         PW180         PW190         PW200         PW210  \\\n",
       "count  18701.000000  18664.000000  18619.000000  18578.000000  18565.000000   \n",
       "mean       1.326453      1.261627      7.837961      9.460652      8.619930   \n",
       "std        1.436871      1.317381     14.819047     13.197976      9.456481   \n",
       "min        1.000000      1.000000      0.000000      0.000000      0.000000   \n",
       "25%        1.000000      1.000000      4.000000      7.000000      7.000000   \n",
       "50%        1.000000      1.000000      6.000000      8.000000      8.000000   \n",
       "75%        1.000000      1.000000      7.000000      9.000000      9.000000   \n",
       "max        9.000000      9.000000     99.000000     99.000000     99.000000   \n",
       "\n",
       "              PW220  \n",
       "count  18593.000000  \n",
       "mean       2.206260  \n",
       "std        1.150235  \n",
       "min        1.000000  \n",
       "25%        2.000000  \n",
       "50%        2.000000  \n",
       "75%        3.000000  \n",
       "max        9.000000  \n",
       "\n",
       "[8 rows x 71 columns]"
      ]
     },
     "execution_count": 58,
     "metadata": {},
     "output_type": "execute_result"
    }
   ],
   "source": [
    "ds.describe()"
   ]
  },
  {
   "cell_type": "markdown",
   "metadata": {},
   "source": []
  },
  {
   "cell_type": "code",
   "execution_count": null,
   "metadata": {},
   "outputs": [],
   "source": []
  }
 ],
 "metadata": {
  "kernelspec": {
   "display_name": "Python 3",
   "language": "python",
   "name": "python3"
  },
  "language_info": {
   "codemirror_mode": {
    "name": "ipython",
    "version": 3
   },
   "file_extension": ".py",
   "mimetype": "text/x-python",
   "name": "python",
   "nbconvert_exporter": "python",
   "pygments_lexer": "ipython3",
   "version": "3.7.4"
  }
 },
 "nbformat": 4,
 "nbformat_minor": 2
}
