{
 "cells": [
  {
   "cell_type": "code",
   "execution_count": 1,
   "metadata": {},
   "outputs": [],
   "source": [
    "import pandas as pd"
   ]
  },
  {
   "cell_type": "markdown",
   "metadata": {},
   "source": [
    "https://circabc.europa.eu/faces/jsp/extension/wai/navigation/container.jsp?FormPrincipal:_idcl=FormPrincipal:_id1&FormPrincipal_SUBMIT=1&id=c31bb5ae-2de6-49d3-bdcb-21992b3a2935&javax.faces.ViewState=meuDdJMlFsG5yNkNcejyPL481TffTqBlmAoXxLv4eKPClWnkj%2FIBx85kqWpflSLguyT5ndOI7k0APPg0%2F305IGJeFLWQfTP7dBwL1Bo1Kxt7G7Quw5NsD8LJJe9kdthN%2B%2BdW8EdW%2BAC%2FqwKdG11ap%2Fd0I6k%3D"
   ]
  },
  {
   "cell_type": "markdown",
   "metadata": {},
   "source": [
    "https://ec.europa.eu/eurostat/web/microdata/statistics-on-income-and-living-conditions"
   ]
  },
  {
   "cell_type": "code",
   "execution_count": 3,
   "metadata": {},
   "outputs": [],
   "source": [
    "data = pd.read_csv(\"./data/BE_2013h_EUSILC.csv\")"
   ]
  },
  {
   "cell_type": "code",
   "execution_count": 4,
   "metadata": {},
   "outputs": [
    {
     "data": {
      "text/plain": [
       "(6159, 83)"
      ]
     },
     "execution_count": 4,
     "metadata": {},
     "output_type": "execute_result"
    }
   ],
   "source": [
    "data.shape"
   ]
  },
  {
   "cell_type": "code",
   "execution_count": null,
   "metadata": {},
   "outputs": [],
   "source": []
  },
  {
   "cell_type": "code",
   "execution_count": 7,
   "metadata": {},
   "outputs": [
    {
     "data": {
      "text/plain": [
       "Index(['HB010', 'HB020', 'HB030', 'HB050', 'HB060', 'HB100', 'HY010', 'HY020',\n",
       "       'HY022', 'HY023', 'HY030N', 'HY081N', 'HY100N', 'HY131N', 'HY145N',\n",
       "       'HY170N', 'HY030G', 'HY040G', 'HY050G', 'HY060G', 'HY070G', 'HY080G',\n",
       "       'HY081G', 'HY090G', 'HY100G', 'HY110G', 'HY120G', 'HY130G', 'HY131G',\n",
       "       'HY140G', 'HY170G', 'HS011', 'HS021', 'HS031', 'HS040', 'HS050',\n",
       "       'HS060', 'HS070', 'HS080', 'HS090', 'HS100', 'HS110', 'HS120', 'HS130',\n",
       "       'HS140', 'HS150', 'HS160', 'HS170', 'HS180', 'HS190', 'HH010', 'HH021',\n",
       "       'HH030', 'HH040', 'HH050', 'HH060', 'HH061', 'HH070', 'HH071', 'HH081',\n",
       "       'HH091', 'HD080', 'HD100', 'HD110', 'HD120', 'HD140', 'HD150', 'HD160',\n",
       "       'HD170', 'HD180', 'HD190', 'HD200', 'HD210', 'HD220', 'HD240', 'HX010',\n",
       "       'HX040', 'HX050', 'HX060', 'HX070', 'HX080', 'HX090', 'HX120'],\n",
       "      dtype='object')"
      ]
     },
     "execution_count": 7,
     "metadata": {},
     "output_type": "execute_result"
    }
   ],
   "source": [
    "data.columns"
   ]
  },
  {
   "cell_type": "code",
   "execution_count": 21,
   "metadata": {},
   "outputs": [
    {
     "data": {
      "text/plain": [
       "[0,\n",
       " 0,\n",
       " 0,\n",
       " 0,\n",
       " 0,\n",
       " 3,\n",
       " 0,\n",
       " 0,\n",
       " 0,\n",
       " 0,\n",
       " 0,\n",
       " 0,\n",
       " 0,\n",
       " 0,\n",
       " 0,\n",
       " 0,\n",
       " 0,\n",
       " 0,\n",
       " 0,\n",
       " 0,\n",
       " 166,\n",
       " 5,\n",
       " 0,\n",
       " 1,\n",
       " 0,\n",
       " 0,\n",
       " 0,\n",
       " 0,\n",
       " 0,\n",
       " 0,\n",
       " 252,\n",
       " 2,\n",
       " 0,\n",
       " 1,\n",
       " 0,\n",
       " 0,\n",
       " 81,\n",
       " 0,\n",
       " 0,\n",
       " 0,\n",
       " 0,\n",
       " 7,\n",
       " 0,\n",
       " 0,\n",
       " 3,\n",
       " 0,\n",
       " 0]"
      ]
     },
     "execution_count": 21,
     "metadata": {},
     "output_type": "execute_result"
    }
   ],
   "source": [
    "list(data.isna().sum())"
   ]
  },
  {
   "cell_type": "code",
   "execution_count": 20,
   "metadata": {},
   "outputs": [],
   "source": [
    "data=data.dropna(thresh=len(data) - 1000, axis=1)\n"
   ]
  },
  {
   "cell_type": "code",
   "execution_count": 23,
   "metadata": {},
   "outputs": [
    {
     "data": {
      "text/plain": [
       "47"
      ]
     },
     "execution_count": 23,
     "metadata": {},
     "output_type": "execute_result"
    }
   ],
   "source": [
    "len(data.columns)"
   ]
  },
  {
   "cell_type": "code",
   "execution_count": 63,
   "metadata": {},
   "outputs": [
    {
     "data": {
      "text/plain": [
       "(11572, 94)"
      ]
     },
     "execution_count": 63,
     "metadata": {},
     "output_type": "execute_result"
    }
   ],
   "source": [
    "data = pd.read_csv(\"./data//BE_2013p_EUSILC.csv\")\n",
    "data.shape"
   ]
  },
  {
   "cell_type": "code",
   "execution_count": 58,
   "metadata": {},
   "outputs": [],
   "source": [
    "data=data.dropna(thresh=len(data) - 2000, axis=1)\n"
   ]
  },
  {
   "cell_type": "code",
   "execution_count": 59,
   "metadata": {},
   "outputs": [
    {
     "data": {
      "text/plain": [
       "(11572, 70)"
      ]
     },
     "execution_count": 59,
     "metadata": {},
     "output_type": "execute_result"
    }
   ],
   "source": [
    "data.shape"
   ]
  },
  {
   "cell_type": "code",
   "execution_count": 64,
   "metadata": {},
   "outputs": [],
   "source": [
    "## overall life satisfaction\n",
    "data=data[data['PW010']<=10]"
   ]
  },
  {
   "cell_type": "code",
   "execution_count": 65,
   "metadata": {},
   "outputs": [
    {
     "data": {
      "text/plain": [
       "(9727, 94)"
      ]
     },
     "execution_count": 65,
     "metadata": {},
     "output_type": "execute_result"
    }
   ],
   "source": [
    "data.shape"
   ]
  },
  {
   "cell_type": "code",
   "execution_count": 66,
   "metadata": {},
   "outputs": [
    {
     "data": {
      "text/plain": [
       "<matplotlib.axes._subplots.AxesSubplot at 0x285fe0c9ac8>"
      ]
     },
     "execution_count": 66,
     "metadata": {},
     "output_type": "execute_result"
    },
    {
     "data": {
      "image/png": "[encoded data removed]",
      "text/plain": [
       "<Figure size 432x288 with 1 Axes>"
      ]
     },
     "metadata": {
      "needs_background": "light"
     },
     "output_type": "display_data"
    }
   ],
   "source": [
    "data['PW010'].plot.hist()"
   ]
  },
  {
   "cell_type": "code",
   "execution_count": 68,
   "metadata": {},
   "outputs": [
    {
     "data": {
      "text/plain": [
       "<matplotlib.axes._subplots.AxesSubplot at 0x285fc2a9148>"
      ]
     },
     "execution_count": 68,
     "metadata": {},
     "output_type": "execute_result"
    },
    {
     "data": {
      "image/png": "[encoded data removed]",
      "text/plain": [
       "<Figure size 432x288 with 1 Axes>"
      ]
     },
     "metadata": {
      "needs_background": "light"
     },
     "output_type": "display_data"
    }
   ],
   "source": [
    "# satisfaction with financial situation\n",
    "data=data[data['PW030']<=10]\n",
    "data['PW030'].plot.hist()"
   ]
  },
  {
   "cell_type": "code",
   "execution_count": 69,
   "metadata": {},
   "outputs": [
    {
     "data": {
      "text/plain": [
       "Index(['PB010', 'PB020', 'PB030', 'PB040', 'PB060', 'PB100', 'PB110', 'PB120',\n",
       "       'PB130', 'PB140', 'PB150', 'PB190', 'PB200', 'PB220A', 'PE010', 'PE020',\n",
       "       'PE040', 'PL031', 'PL035', 'PL015', 'PL020', 'PL025', 'PL040', 'PL051',\n",
       "       'PL060', 'PL100', 'PL111', 'PL120', 'PL130', 'PL140', 'PL150', 'PL160',\n",
       "       'PL170', 'PL180', 'PL190', 'PH010', 'PH020', 'PH030', 'PH040', 'PH050',\n",
       "       'PH060', 'PH070', 'PY020N', 'PY035N', 'PY010G', 'PY020G', 'PY021G',\n",
       "       'PY030G', 'PY031G', 'PY035G', 'PY050G', 'PY080G', 'PY090G', 'PY100G',\n",
       "       'PY110G', 'PY120G', 'PY130G', 'PY140G', 'PY200G', 'PD020', 'PD030',\n",
       "       'PD050', 'PD060', 'PD070', 'PD080', 'PD090', 'PW010', 'PW020', 'PW030',\n",
       "       'PW040', 'PW050', 'PW060', 'PW070', 'PW080', 'PW090', 'PW100', 'PW110',\n",
       "       'PW120', 'PW130', 'PW140', 'PW150', 'PW160', 'PW170', 'PW180', 'PW190',\n",
       "       'PW200', 'PW210', 'PW220', 'PX010', 'PX020', 'PX030', 'PX040', 'PX050',\n",
       "       'PX200'],\n",
       "      dtype='object')"
      ]
     },
     "execution_count": 69,
     "metadata": {},
     "output_type": "execute_result"
    }
   ],
   "source": [
    "data.columns"
   ]
  },
  {
   "cell_type": "markdown",
   "metadata": {},
   "source": [
    "PB010: YEAR OF THE SURVEY\n",
    "\n",
    "PB020: COUNTRY  \n",
    "\n",
    "PB030: PERSONAL ID\n",
    "\n",
    "#### to delete:\n",
    "PB040: PERSONAL CROSS-SECTIONAL WEIGHT\n",
    "\n",
    "PB050: PERSONAL BASE WEIGHT\n",
    "\n",
    "PB060: PERSONAL CROSS-SECTIONAL WEIGHT FOR SELECTED RESPONDENT \n",
    "\n",
    "PB070: PERSONAL DESIGN WEIGHT FOR SELECTED RESPONDENT\n",
    "\n",
    "PB080: PERSONAL BASE WEIGHT FOR SELECTED RESPONDENT\n",
    "\n",
    "PB090: DAY OF THE PERSONAL INTERVIEW  \n",
    "\n",
    "PB100: MONTH OF THE PERSONAL INTERVIEW \n",
    "\n",
    "PB110: YEAR OF THE PERSONAL INTERVIEW \n",
    "\n",
    "PB120: MINUTES TO COMPLETE THE PERSONAL QUESTIONNAIRE  \n",
    "\n",
    "### keep\n",
    "PB130: MONTH OF BIRTH \n",
    "\n",
    "PB140: YEAR OF BIRTH  \n",
    "\n",
    "\n",
    "PB150: SEX \n",
    "\n",
    "\n",
    "### drop\n",
    "PB160: FATHER ID \n",
    "\n",
    "PB170: MOTHER ID\n",
    "\n",
    "PB180: SPOUSE/PARTNER ID\n",
    "\n",
    "#### keep\n",
    "PB190: MARITAL STATUS\n",
    "\n",
    "### dont kno\n",
    "PB200: CONSENSUAL UNION\n",
    "\n",
    "## keeep (maybe)\n",
    "PB210: COUNTRY OF BIRTH  \n",
    "\n",
    "PB220A: CITIZENSHIP 1\n",
    "\n",
    "PB220B: CITIZENSHIP 2\n",
    "\n",
    "#### check\n",
    "PE010: CURRENT EDUCATION ACTIVITY\n",
    "\n",
    "PE020: ISCED LEVEL CURRENTLY ATTENDED\n",
    "\n",
    "### keep aber modify\n",
    "PE030: YEAR WHEN HIGHEST LEVEL OF EDUCATION WAS ATTAINED\n",
    "\n",
    "\n",
    "PE040: HIGHEST ISCED LEVEL ATTAINED\n",
    "\n",
    "### keep if good?\n",
    "PH010: GENERAL HEALTH\n",
    "\n",
    "\n",
    "PH020: SUFFER FROM ANY A CHRONIC (LONG-STANDING) ILLNESS OR CONDITION \n",
    "\n",
    "PH030: LIMITATION IN ACTIVITIES BECAUSE OF HEALTH PROBLEMS\n",
    "\n",
    "PH040: UNMET NEED FOR MEDICAL EXAMINATION OR TREATMENT \n",
    "\n",
    "### drop\n",
    "PH050: MAIN REASON FOR UNMET NEED FOR MEDICAL EXAMINATION OR TREATMENT \n",
    "\n",
    "### keep\n",
    "PH060: UNMET NEED FOR DENTAL EXAMINATION OR TREATMENT\n",
    "\n",
    "### drop\n",
    "PH070: MAIN REASON FOR UNMET NEED FOR DENTAL EXAMINATION OR TREATMENT\n",
    "\n",
    "### keep\n",
    "PL015: PERSON HAS EVER WORKED\n",
    "\n",
    "PL020: ACTIVELY LOOKING FOR A JOB\n",
    "\n",
    "PL025: AVAILABLE FOR WORK\n",
    "\n",
    "PL031: SELF-DEFINED CURRENT ECONOMIC STATUS\n",
    "\n",
    "PL035: WORKED AT LEAST 1 HOUR DURING THE PREVIOUS WEEK\n",
    "\n",
    "PL040: STATUS IN EMPLOYMENT\n",
    "\n",
    "\n",
    "PL051: OCCUPATION (ISCO-08 (COM))\n",
    "\n",
    "PL060: NUMBER OF HOURS USUALLY WORKED PER WEEK IN MAIN JOB\n",
    "\n",
    "PL073: NUMBER OF MONTHS SPENT AT FULL-TIME WORK AS EMPLOYEE\n",
    "\n",
    "PL074: NUMBER OF MONTHS SPENT AT PART-TIME WORK AS EMPLOYEE\n",
    "\n",
    "PL075: NUMBER OF MONTHS SPENT AT FULL-TIME WORK AS SELF-EMPLOYED (INCLUDING \n",
    "FAMILY WORKER)\n",
    "\n",
    "PL076: NUMBER OF MONTHS SPENT AT PART-TIME WORK AS SELF-EMPLOYED (INCLUDING \n",
    "FAMILY WORKER)\n",
    "\n",
    "PL080: NUMBER OF MONTHS SPENT IN UNEMPLOYMENT\n",
    "\n",
    "PL085: NUMBER OF MONTHS SPENT IN RETIREMENT OR EARLY RETIREMENT\n",
    "\n",
    "PL086: NUMBER OF MONTHS SPENT AS DISABLED OR/AND UNFIT TO WORK\n",
    "\n",
    "PL087: NUMBER OF MONTHS SPENT STUDYING\n",
    "\n",
    "PL088: NUMBER OF MONTHS SPENT IN COMPULSORY MILITARY SERVICE\n",
    "\n",
    "PL089: NUMBER OF MONTHS SPENT FULFILLING DOMESTIC TASKS AND CARE RESPONSIBILITIES\n",
    "\n",
    "PL090: NUMBER OF MONTHS SPENT IN OTHER INACTIVITY\n",
    "\n",
    "PL100: TOTAL NUMBER OF HOURS USUALLY WORKED IN SECOND, THIRD… JOBS\n",
    "\n",
    "### drop\n",
    "PL111: NACE REV.2 . 292 \n",
    "\n",
    "PL120: REASON FOR WORKING LESS THAN 30 HOURS .. 293 \n",
    "\n",
    "### keep\n",
    "PL130: NUMBER OF PERSONS WORKING AT THE LOCAL UNIT . 294\n",
    "\n",
    "PL140: TYPE OF CONTRACT .. 295 \n",
    "\n",
    "PL150: MANAGERIAL POSITION . 297 \n",
    "\n",
    "PL160: CHANGE OF JOB SINCE LAST YEAR .. 298 \n",
    "\n",
    "PL170: REASON FOR CHANGE .. 299 \n",
    "\n",
    "PL180: MOST RECENT CHANGE IN THE INDIVIDUAL’S ACTIVITY STATUS . 301 \n",
    "\n",
    "PL190: WHEN BEGAN FIRST REGULAR JOB . 302 \n",
    "\n",
    "PL200: NUMBER OF YEARS SPENT IN PAID WORK  303 \n",
    "\n",
    "\n",
    "#### drop\n",
    "PL211A: MAIN ACTIVITY ON JANUARY . 304\n",
    "\n",
    "PL211B: MAIN ACTIVITY ON FEBRUARY .. 304 \n",
    "\n",
    "PL211C: MAIN ACTIVITY ON MARCH . 304 \n",
    "\n",
    "PL211D: MAIN ACTIVITY ON APRIL . 304 \n",
    "\n",
    "PL211E: MAIN ACTIVITY ON MAY  304 \n",
    "\n",
    "PL211F: MAIN ACTIVITY ON JUNE  304 \n",
    "\n",
    "PL211G: MAIN ACTIVITY ON JULY .. 304 \n",
    "\n",
    "PL211H: MAIN ACTIVITY ON AUGUST  304 \n",
    "\n",
    "PL211I: MAIN ACTIVITY ON SEPTEMBER . 304 \n",
    "\n",
    "PL211J: MAIN ACTIVITY ON OCTOBER . 304 \n",
    "\n",
    "PL211K: MAIN ACTIVITY ON NOVEMBER  304 \n",
    "\n",
    "PL211L: MAIN ACTIVITY ON DECEMBER . 304 \n",
    "\n",
    "## check\n",
    "PY010G/PY010N: EMPLOYEE CASH OR NEAR CASH INCOME .. 306 \n",
    "\n",
    "PY020G/PY020N: NON-CASH EMPLOYEE INCOME  308 \n",
    "\n",
    "PY021G/PY021N: COMPANY CAR . 310 \n",
    "\n",
    "## drop\n",
    "PY030G: EMPLOYER'S SOCIAL INSURANCE CONTRIBUTION . 311 \n",
    "PY031G: OPTIONAL EMPLOYER'S SOCIAL INSURANCE CONTRIBUTIONS .. 311 \n",
    "PY035G/PY035N: CONTRIBUTIONS TO INDIVIDUAL PRIVATE PENSION PLANS . 313 \n",
    "PY050G/PY050N: CASH BENEFITS OR LOSSES FROM SELF-EMPLOYMENT . 315 \n",
    "PY080G/PY080N: PENSION FROM INDIVIDUAL PRIVATE PLANS  320\n",
    "\n",
    "### <font color='red'>if availabe: alternative for outcome.</font>\n",
    "PY090G/PY090N: UNEMPLOYMENT BENEFITS . 322 \n",
    "\n",
    "PY100G/PY100N: OLD-AGE BENEFITS .. 322 \n",
    "\n",
    "PY110G/PY110N: SURVIVOR’ BENEFITS .. 322 \n",
    "\n",
    "PY120G/PY120N: SICKNESS BENEFITS.. 322 \n",
    "\n",
    "PY130G/PY130N: DISABILITY BENEFITS . 322 \n",
    "\n",
    "PY140G/PY140N: EDUCATION-RELATED ALLOWANCES  322 \n",
    "\n",
    "### keep\n",
    "PY200G: GROSS MONTHLY EARNINGS FOR EMPLOYEES . 330 \n",
    "\n",
    "\n",
    "\n",
    "\n",
    "### keep (outcome?)\n",
    "PW010: OVERALL LIFE SATISFACTION . - 362 - \n",
    "\n",
    "PW020: MEANING OF LIFE  - 363 - \n",
    "\n",
    "PW030: SATISFACTION WITH FINANCIAL SITUATION .. - 364 - \n",
    "\n",
    "PW040: SATISFACTION WITH ACCOMMODATION .. - 365 -\n",
    "\n",
    "PW050: BEING VERY NERVOUS . - 366 - \n",
    "\n",
    "PW060: FEELING DOWN IN THE DUMPS  - 367 - \n",
    "\n",
    "PW070: FEELING CALM AND PEACEFUL .. - 368 - \n",
    "\n",
    "PW080: FEELING DOWNHEARTED OR DEPRESSED . - 369 - \n",
    "\n",
    "PW090: BEING HAPPY . - 370 - \n",
    "\n",
    "<font color='red'>PW100: JOB SATISFACTION . - 371 -</font> \n",
    "\n",
    "PW110: SATISFACTION WITH COMMUTING TIME .. - 372 - \n",
    "\n",
    "PW120: SATISFACTION WITH TIME USE  - 373 - \n",
    "\n",
    "<font color='red'>PW130: TRUST IN THE POLITICAL SYSTEM  - 374 -</font>\n",
    "\n",
    "PW140: TRUST IN THE LEGAL SYSTEM . - 375 - \n",
    "\n",
    "PW150: TRUST IN THE POLICE .. - 376 - \n",
    "\n",
    "PW160: SATISFACTION WITH PERSONAL RELATIONSHIPS  - 377 - \n",
    "\n",
    "PW170: PERSONAL MATTERS (ANYONE TO DISCUSS WITH) . - 378 - \n",
    "\n",
    "PW180: HELP FROM OTHERS .. - 379 - \n",
    "\n",
    "PW190: TRUST IN OTHERS  - 380 - \n",
    "\n",
    "PW200: SATISFACTION WITH RECREATIONAL OR GREEN AREAS . - 381 -\n",
    "\n",
    "PW210: SATISFACTION WITH LIVING ENVIRONMENT .. - 382 - \n",
    "\n",
    "PW220: PHYSICAL SECURITY .. 383"
   ]
  },
  {
   "cell_type": "code",
   "execution_count": 71,
   "metadata": {},
   "outputs": [
    {
     "data": {
      "text/plain": [
       "count     8261.000000\n",
       "mean       155.576201\n",
       "std       2189.328181\n",
       "min          0.000000\n",
       "25%          0.000000\n",
       "50%          0.000000\n",
       "75%          0.000000\n",
       "max      78088.000000\n",
       "Name: PY110G, dtype: float64"
      ]
     },
     "execution_count": 71,
     "metadata": {},
     "output_type": "execute_result"
    }
   ],
   "source": [
    "data['PY110G'].describe()"
   ]
  },
  {
   "cell_type": "code",
   "execution_count": 4,
   "metadata": {},
   "outputs": [
    {
     "data": {
      "text/plain": [
       "(10874, 66)"
      ]
     },
     "execution_count": 4,
     "metadata": {},
     "output_type": "execute_result"
    }
   ],
   "source": [
    "data2 = pd.read_csv(\"./data/BE_2012p_EUSILC.csv\")\n",
    "data2.shape"
   ]
  },
  {
   "cell_type": "code",
   "execution_count": 7,
   "metadata": {},
   "outputs": [],
   "source": [
    "colum2012=list(data2.columns)"
   ]
  },
  {
   "cell_type": "code",
   "execution_count": 9,
   "metadata": {},
   "outputs": [],
   "source": [
    "colum2013=['PB010', 'PB020', 'PB030', 'PB040', 'PB060', 'PB100', 'PB110', 'PB120',\n",
    "       'PB130', 'PB140', 'PB150', 'PB190', 'PB200', 'PB220A', 'PE010', 'PE020',\n",
    "       'PE040', 'PL031', 'PL035', 'PL015', 'PL020', 'PL025', 'PL040', 'PL051',\n",
    "       'PL060', 'PL100', 'PL111', 'PL120', 'PL130', 'PL140', 'PL150', 'PL160',\n",
    "       'PL170', 'PL180', 'PL190', 'PH010', 'PH020', 'PH030', 'PH040', 'PH050',\n",
    "       'PH060', 'PH070', 'PY020N', 'PY035N', 'PY010G', 'PY020G', 'PY021G',\n",
    "       'PY030G', 'PY031G', 'PY035G', 'PY050G', 'PY080G', 'PY090G', 'PY100G',\n",
    "       'PY110G', 'PY120G', 'PY130G', 'PY140G', 'PY200G', 'PD020', 'PD030',\n",
    "       'PD050', 'PD060', 'PD070', 'PD080', 'PD090', 'PW010', 'PW020', 'PW030',\n",
    "       'PW040', 'PW050', 'PW060', 'PW070', 'PW080', 'PW090', 'PW100', 'PW110',\n",
    "       'PW120', 'PW130', 'PW140', 'PW150', 'PW160', 'PW170', 'PW180', 'PW190',\n",
    "       'PW200', 'PW210', 'PW220', 'PX010', 'PX020', 'PX030', 'PX040', 'PX050',\n",
    "       'PX200']"
   ]
  },
  {
   "cell_type": "code",
   "execution_count": 16,
   "metadata": {
    "collapsed": true
   },
   "outputs": [
    {
     "data": {
      "text/plain": [
       "['PB010',\n",
       " 'PB020',\n",
       " 'PB030',\n",
       " 'PB040',\n",
       " 'PB060',\n",
       " 'PB100',\n",
       " 'PB110',\n",
       " 'PB120',\n",
       " 'PB130',\n",
       " 'PB140',\n",
       " 'PB150',\n",
       " 'PB190',\n",
       " 'PB200',\n",
       " 'PB220A',\n",
       " 'PE010',\n",
       " 'PE020',\n",
       " 'PE040',\n",
       " 'PL031',\n",
       " 'PL035',\n",
       " 'PL015',\n",
       " 'PL020',\n",
       " 'PL025',\n",
       " 'PL040',\n",
       " 'PL051',\n",
       " 'PL060',\n",
       " 'PL100',\n",
       " 'PL111',\n",
       " 'PL120',\n",
       " 'PL130',\n",
       " 'PL140',\n",
       " 'PL150',\n",
       " 'PL160',\n",
       " 'PL170',\n",
       " 'PL180',\n",
       " 'PL190',\n",
       " 'PH010',\n",
       " 'PH020',\n",
       " 'PH030',\n",
       " 'PH040',\n",
       " 'PH050',\n",
       " 'PH060',\n",
       " 'PH070',\n",
       " 'PY020N',\n",
       " 'PY035N',\n",
       " 'PY010G',\n",
       " 'PY020G',\n",
       " 'PY021G',\n",
       " 'PY030G',\n",
       " 'PY031G',\n",
       " 'PY035G',\n",
       " 'PY050G',\n",
       " 'PY080G',\n",
       " 'PY090G',\n",
       " 'PY100G',\n",
       " 'PY110G',\n",
       " 'PY120G',\n",
       " 'PY130G',\n",
       " 'PY140G',\n",
       " 'PY200G',\n",
       " 'PX010',\n",
       " 'PX020',\n",
       " 'PX030',\n",
       " 'PX040',\n",
       " 'PX050']"
      ]
     },
     "execution_count": 16,
     "metadata": {},
     "output_type": "execute_result"
    }
   ],
   "source": [
    "common= [value for value in colum2012 if value in colum2013]\n",
    "common"
   ]
  },
  {
   "cell_type": "markdown",
   "metadata": {},
   "source": [
    "### Germany"
   ]
  },
  {
   "cell_type": "code",
   "execution_count": 50,
   "metadata": {},
   "outputs": [
    {
     "data": {
      "text/plain": [
       "(22042, 284)"
      ]
     },
     "execution_count": 50,
     "metadata": {},
     "output_type": "execute_result"
    }
   ],
   "source": [
    "data3 = pd.read_csv(\"./data/DE_2013p_EUSILC.csv\")\n",
    "data3.shape"
   ]
  },
  {
   "cell_type": "code",
   "execution_count": 51,
   "metadata": {},
   "outputs": [],
   "source": [
    "columDE2013 = data3.columns"
   ]
  },
  {
   "cell_type": "code",
   "execution_count": 23,
   "metadata": {},
   "outputs": [],
   "source": [
    "common= [value for value in columDE2013 if value in colum2013]\n",
    "#data3 = data3[common]"
   ]
  },
  {
   "cell_type": "code",
   "execution_count": 52,
   "metadata": {},
   "outputs": [
    {
     "data": {
      "text/plain": [
       "0"
      ]
     },
     "execution_count": 52,
     "metadata": {},
     "output_type": "execute_result"
    }
   ],
   "source": [
    "data3['PY110G'].isna().sum()"
   ]
  },
  {
   "cell_type": "code",
   "execution_count": 34,
   "metadata": {},
   "outputs": [
    {
     "data": {
      "text/plain": [
       "<matplotlib.axes._subplots.AxesSubplot at 0x1e58e9b01c8>"
      ]
     },
     "execution_count": 34,
     "metadata": {},
     "output_type": "execute_result"
    },
    {
     "data": {
      "image/png": "[encoded data removed]",
      "text/plain": [
       "<Figure size 432x288 with 1 Axes>"
      ]
     },
     "metadata": {
      "needs_background": "light"
     },
     "output_type": "display_data"
    }
   ],
   "source": [
    "data3.PW010[data3['PW010']<=10].hist()"
   ]
  },
  {
   "cell_type": "code",
   "execution_count": 53,
   "metadata": {},
   "outputs": [
    {
     "data": {
      "text/plain": [
       "18309"
      ]
     },
     "execution_count": 53,
     "metadata": {},
     "output_type": "execute_result"
    }
   ],
   "source": [
    "data3.PW010[data3['PW010']<=10].count()"
   ]
  },
  {
   "cell_type": "code",
   "execution_count": 54,
   "metadata": {},
   "outputs": [
    {
     "data": {
      "text/html": [
       "<div>\n",
       "<style scoped>\n",
       "    .dataframe tbody tr th:only-of-type {\n",
       "        vertical-align: middle;\n",
       "    }\n",
       "\n",
       "    .dataframe tbody tr th {\n",
       "        vertical-align: top;\n",
       "    }\n",
       "\n",
       "    .dataframe thead th {\n",
       "        text-align: right;\n",
       "    }\n",
       "</style>\n",
       "<table border=\"1\" class=\"dataframe\">\n",
       "  <thead>\n",
       "    <tr style=\"text-align: right;\">\n",
       "      <th></th>\n",
       "      <th>PB010</th>\n",
       "      <th>PB030</th>\n",
       "      <th>PB040</th>\n",
       "      <th>PB040_F</th>\n",
       "      <th>PB060</th>\n",
       "      <th>PB060_F</th>\n",
       "      <th>PB100</th>\n",
       "      <th>PB100_F</th>\n",
       "      <th>PB110</th>\n",
       "      <th>PB110_F</th>\n",
       "      <th>...</th>\n",
       "      <th>PW210</th>\n",
       "      <th>PW210_F</th>\n",
       "      <th>PW220</th>\n",
       "      <th>PW220_F</th>\n",
       "      <th>PX010</th>\n",
       "      <th>PX020</th>\n",
       "      <th>PX030</th>\n",
       "      <th>PX040</th>\n",
       "      <th>PX050</th>\n",
       "      <th>PX200</th>\n",
       "    </tr>\n",
       "  </thead>\n",
       "  <tbody>\n",
       "    <tr>\n",
       "      <td>count</td>\n",
       "      <td>22042.0</td>\n",
       "      <td>2.204200e+04</td>\n",
       "      <td>22042.000000</td>\n",
       "      <td>0.0</td>\n",
       "      <td>0.0</td>\n",
       "      <td>0.0</td>\n",
       "      <td>22042.000000</td>\n",
       "      <td>0.0</td>\n",
       "      <td>22042.0</td>\n",
       "      <td>0.0</td>\n",
       "      <td>...</td>\n",
       "      <td>18565.000000</td>\n",
       "      <td>0.0</td>\n",
       "      <td>18593.000000</td>\n",
       "      <td>0.0</td>\n",
       "      <td>0.0</td>\n",
       "      <td>0.0</td>\n",
       "      <td>0.0</td>\n",
       "      <td>0.0</td>\n",
       "      <td>0.0</td>\n",
       "      <td>0.0</td>\n",
       "    </tr>\n",
       "    <tr>\n",
       "      <td>mean</td>\n",
       "      <td>2013.0</td>\n",
       "      <td>2.060714e+08</td>\n",
       "      <td>3145.641398</td>\n",
       "      <td>NaN</td>\n",
       "      <td>NaN</td>\n",
       "      <td>NaN</td>\n",
       "      <td>2.436394</td>\n",
       "      <td>NaN</td>\n",
       "      <td>2013.0</td>\n",
       "      <td>NaN</td>\n",
       "      <td>...</td>\n",
       "      <td>8.619930</td>\n",
       "      <td>NaN</td>\n",
       "      <td>2.206260</td>\n",
       "      <td>NaN</td>\n",
       "      <td>NaN</td>\n",
       "      <td>NaN</td>\n",
       "      <td>NaN</td>\n",
       "      <td>NaN</td>\n",
       "      <td>NaN</td>\n",
       "      <td>NaN</td>\n",
       "    </tr>\n",
       "    <tr>\n",
       "      <td>std</td>\n",
       "      <td>0.0</td>\n",
       "      <td>1.136807e+08</td>\n",
       "      <td>735.421261</td>\n",
       "      <td>NaN</td>\n",
       "      <td>NaN</td>\n",
       "      <td>NaN</td>\n",
       "      <td>0.495949</td>\n",
       "      <td>NaN</td>\n",
       "      <td>0.0</td>\n",
       "      <td>NaN</td>\n",
       "      <td>...</td>\n",
       "      <td>9.456481</td>\n",
       "      <td>NaN</td>\n",
       "      <td>1.150235</td>\n",
       "      <td>NaN</td>\n",
       "      <td>NaN</td>\n",
       "      <td>NaN</td>\n",
       "      <td>NaN</td>\n",
       "      <td>NaN</td>\n",
       "      <td>NaN</td>\n",
       "      <td>NaN</td>\n",
       "    </tr>\n",
       "    <tr>\n",
       "      <td>min</td>\n",
       "      <td>2013.0</td>\n",
       "      <td>3.560100e+04</td>\n",
       "      <td>1672.780749</td>\n",
       "      <td>NaN</td>\n",
       "      <td>NaN</td>\n",
       "      <td>NaN</td>\n",
       "      <td>2.000000</td>\n",
       "      <td>NaN</td>\n",
       "      <td>2013.0</td>\n",
       "      <td>NaN</td>\n",
       "      <td>...</td>\n",
       "      <td>0.000000</td>\n",
       "      <td>NaN</td>\n",
       "      <td>1.000000</td>\n",
       "      <td>NaN</td>\n",
       "      <td>NaN</td>\n",
       "      <td>NaN</td>\n",
       "      <td>NaN</td>\n",
       "      <td>NaN</td>\n",
       "      <td>NaN</td>\n",
       "      <td>NaN</td>\n",
       "    </tr>\n",
       "    <tr>\n",
       "      <td>25%</td>\n",
       "      <td>2013.0</td>\n",
       "      <td>1.097705e+08</td>\n",
       "      <td>2848.534031</td>\n",
       "      <td>NaN</td>\n",
       "      <td>NaN</td>\n",
       "      <td>NaN</td>\n",
       "      <td>2.000000</td>\n",
       "      <td>NaN</td>\n",
       "      <td>2013.0</td>\n",
       "      <td>NaN</td>\n",
       "      <td>...</td>\n",
       "      <td>7.000000</td>\n",
       "      <td>NaN</td>\n",
       "      <td>2.000000</td>\n",
       "      <td>NaN</td>\n",
       "      <td>NaN</td>\n",
       "      <td>NaN</td>\n",
       "      <td>NaN</td>\n",
       "      <td>NaN</td>\n",
       "      <td>NaN</td>\n",
       "      <td>NaN</td>\n",
       "    </tr>\n",
       "    <tr>\n",
       "      <td>50%</td>\n",
       "      <td>2013.0</td>\n",
       "      <td>2.095570e+08</td>\n",
       "      <td>3057.583187</td>\n",
       "      <td>NaN</td>\n",
       "      <td>NaN</td>\n",
       "      <td>NaN</td>\n",
       "      <td>2.000000</td>\n",
       "      <td>NaN</td>\n",
       "      <td>2013.0</td>\n",
       "      <td>NaN</td>\n",
       "      <td>...</td>\n",
       "      <td>8.000000</td>\n",
       "      <td>NaN</td>\n",
       "      <td>2.000000</td>\n",
       "      <td>NaN</td>\n",
       "      <td>NaN</td>\n",
       "      <td>NaN</td>\n",
       "      <td>NaN</td>\n",
       "      <td>NaN</td>\n",
       "      <td>NaN</td>\n",
       "      <td>NaN</td>\n",
       "    </tr>\n",
       "    <tr>\n",
       "      <td>75%</td>\n",
       "      <td>2013.0</td>\n",
       "      <td>2.985014e+08</td>\n",
       "      <td>3349.465812</td>\n",
       "      <td>NaN</td>\n",
       "      <td>NaN</td>\n",
       "      <td>NaN</td>\n",
       "      <td>3.000000</td>\n",
       "      <td>NaN</td>\n",
       "      <td>2013.0</td>\n",
       "      <td>NaN</td>\n",
       "      <td>...</td>\n",
       "      <td>9.000000</td>\n",
       "      <td>NaN</td>\n",
       "      <td>3.000000</td>\n",
       "      <td>NaN</td>\n",
       "      <td>NaN</td>\n",
       "      <td>NaN</td>\n",
       "      <td>NaN</td>\n",
       "      <td>NaN</td>\n",
       "      <td>NaN</td>\n",
       "      <td>NaN</td>\n",
       "    </tr>\n",
       "    <tr>\n",
       "      <td>max</td>\n",
       "      <td>2013.0</td>\n",
       "      <td>4.011008e+08</td>\n",
       "      <td>6445.686901</td>\n",
       "      <td>NaN</td>\n",
       "      <td>NaN</td>\n",
       "      <td>NaN</td>\n",
       "      <td>3.000000</td>\n",
       "      <td>NaN</td>\n",
       "      <td>2013.0</td>\n",
       "      <td>NaN</td>\n",
       "      <td>...</td>\n",
       "      <td>99.000000</td>\n",
       "      <td>NaN</td>\n",
       "      <td>9.000000</td>\n",
       "      <td>NaN</td>\n",
       "      <td>NaN</td>\n",
       "      <td>NaN</td>\n",
       "      <td>NaN</td>\n",
       "      <td>NaN</td>\n",
       "      <td>NaN</td>\n",
       "      <td>NaN</td>\n",
       "    </tr>\n",
       "  </tbody>\n",
       "</table>\n",
       "<p>8 rows × 281 columns</p>\n",
       "</div>"
      ],
      "text/plain": [
       "         PB010         PB030         PB040  PB040_F  PB060  PB060_F  \\\n",
       "count  22042.0  2.204200e+04  22042.000000      0.0    0.0      0.0   \n",
       "mean    2013.0  2.060714e+08   3145.641398      NaN    NaN      NaN   \n",
       "std        0.0  1.136807e+08    735.421261      NaN    NaN      NaN   \n",
       "min     2013.0  3.560100e+04   1672.780749      NaN    NaN      NaN   \n",
       "25%     2013.0  1.097705e+08   2848.534031      NaN    NaN      NaN   \n",
       "50%     2013.0  2.095570e+08   3057.583187      NaN    NaN      NaN   \n",
       "75%     2013.0  2.985014e+08   3349.465812      NaN    NaN      NaN   \n",
       "max     2013.0  4.011008e+08   6445.686901      NaN    NaN      NaN   \n",
       "\n",
       "              PB100  PB100_F    PB110  PB110_F  ...         PW210  PW210_F  \\\n",
       "count  22042.000000      0.0  22042.0      0.0  ...  18565.000000      0.0   \n",
       "mean       2.436394      NaN   2013.0      NaN  ...      8.619930      NaN   \n",
       "std        0.495949      NaN      0.0      NaN  ...      9.456481      NaN   \n",
       "min        2.000000      NaN   2013.0      NaN  ...      0.000000      NaN   \n",
       "25%        2.000000      NaN   2013.0      NaN  ...      7.000000      NaN   \n",
       "50%        2.000000      NaN   2013.0      NaN  ...      8.000000      NaN   \n",
       "75%        3.000000      NaN   2013.0      NaN  ...      9.000000      NaN   \n",
       "max        3.000000      NaN   2013.0      NaN  ...     99.000000      NaN   \n",
       "\n",
       "              PW220  PW220_F  PX010  PX020  PX030  PX040  PX050  PX200  \n",
       "count  18593.000000      0.0    0.0    0.0    0.0    0.0    0.0    0.0  \n",
       "mean       2.206260      NaN    NaN    NaN    NaN    NaN    NaN    NaN  \n",
       "std        1.150235      NaN    NaN    NaN    NaN    NaN    NaN    NaN  \n",
       "min        1.000000      NaN    NaN    NaN    NaN    NaN    NaN    NaN  \n",
       "25%        2.000000      NaN    NaN    NaN    NaN    NaN    NaN    NaN  \n",
       "50%        2.000000      NaN    NaN    NaN    NaN    NaN    NaN    NaN  \n",
       "75%        3.000000      NaN    NaN    NaN    NaN    NaN    NaN    NaN  \n",
       "max        9.000000      NaN    NaN    NaN    NaN    NaN    NaN    NaN  \n",
       "\n",
       "[8 rows x 281 columns]"
      ]
     },
     "execution_count": 54,
     "metadata": {},
     "output_type": "execute_result"
    }
   ],
   "source": [
    "data3.describe()"
   ]
  },
  {
   "cell_type": "code",
   "execution_count": 55,
   "metadata": {},
   "outputs": [
    {
     "data": {
      "text/plain": [
       "74"
      ]
     },
     "execution_count": 55,
     "metadata": {},
     "output_type": "execute_result"
    }
   ],
   "source": [
    "ds = data3.dropna(thresh=len(data3)*0.1, axis=1)\n",
    "len(ds.columns)"
   ]
  },
  {
   "cell_type": "code",
   "execution_count": 56,
   "metadata": {},
   "outputs": [
    {
     "data": {
      "text/plain": [
       "Index(['PB010', 'PB020', 'PB030', 'PB040', 'PB100', 'PB110', 'PB120', 'PB140',\n",
       "       'PB150', 'PB190', 'PB200', 'PB220A', 'PE010', 'PE020', 'PE040', 'PL031',\n",
       "       'PL035', 'PL015', 'PL020', 'PL040', 'PL051', 'PL060', 'PL111', 'PL120',\n",
       "       'PL130', 'PL140', 'PL150', 'PL160', 'PL190', 'PH010', 'PH020', 'PH030',\n",
       "       'PH040', 'PH060', 'PY010G', 'PY020G', 'PY021G', 'PY035G', 'PY050G',\n",
       "       'PY080G', 'PY090G', 'PY100G', 'PY110G', 'PY120G', 'PY130G', 'PY140G',\n",
       "       'PD020', 'PD030', 'PD050', 'PD060', 'PD070', 'PD080', 'PW010', 'PW020',\n",
       "       'PW030', 'PW040', 'PW050', 'PW060', 'PW070', 'PW080', 'PW090', 'PW100',\n",
       "       'PW110', 'PW120', 'PW130', 'PW140', 'PW150', 'PW160', 'PW170', 'PW180',\n",
       "       'PW190', 'PW200', 'PW210', 'PW220'],\n",
       "      dtype='object')"
      ]
     },
     "execution_count": 56,
     "metadata": {},
     "output_type": "execute_result"
    }
   ],
   "source": [
    "ds.columns"
   ]
  },
  {
   "cell_type": "code",
   "execution_count": 58,
   "metadata": {},
   "outputs": [
    {
     "data": {
      "text/html": [
       "<div>\n",
       "<style scoped>\n",
       "    .dataframe tbody tr th:only-of-type {\n",
       "        vertical-align: middle;\n",
       "    }\n",
       "\n",
       "    .dataframe tbody tr th {\n",
       "        vertical-align: top;\n",
       "    }\n",
       "\n",
       "    .dataframe thead th {\n",
       "        text-align: right;\n",
       "    }\n",
       "</style>\n",
       "<table border=\"1\" class=\"dataframe\">\n",
       "  <thead>\n",
       "    <tr style=\"text-align: right;\">\n",
       "      <th></th>\n",
       "      <th>PB010</th>\n",
       "      <th>PB030</th>\n",
       "      <th>PB040</th>\n",
       "      <th>PB100</th>\n",
       "      <th>PB110</th>\n",
       "      <th>PB120</th>\n",
       "      <th>PB140</th>\n",
       "      <th>PB150</th>\n",
       "      <th>PB190</th>\n",
       "      <th>PB200</th>\n",
       "      <th>...</th>\n",
       "      <th>PW130</th>\n",
       "      <th>PW140</th>\n",
       "      <th>PW150</th>\n",
       "      <th>PW160</th>\n",
       "      <th>PW170</th>\n",
       "      <th>PW180</th>\n",
       "      <th>PW190</th>\n",
       "      <th>PW200</th>\n",
       "      <th>PW210</th>\n",
       "      <th>PW220</th>\n",
       "    </tr>\n",
       "  </thead>\n",
       "  <tbody>\n",
       "    <tr>\n",
       "      <td>count</td>\n",
       "      <td>22042.0</td>\n",
       "      <td>2.204200e+04</td>\n",
       "      <td>22042.000000</td>\n",
       "      <td>22042.000000</td>\n",
       "      <td>22042.0</td>\n",
       "      <td>22042.000000</td>\n",
       "      <td>22042.000000</td>\n",
       "      <td>22042.000000</td>\n",
       "      <td>21883.000000</td>\n",
       "      <td>22042.000000</td>\n",
       "      <td>...</td>\n",
       "      <td>18626.000000</td>\n",
       "      <td>18611.000000</td>\n",
       "      <td>18519.000000</td>\n",
       "      <td>18468.000000</td>\n",
       "      <td>18701.000000</td>\n",
       "      <td>18664.000000</td>\n",
       "      <td>18619.000000</td>\n",
       "      <td>18578.000000</td>\n",
       "      <td>18565.000000</td>\n",
       "      <td>18593.000000</td>\n",
       "    </tr>\n",
       "    <tr>\n",
       "      <td>mean</td>\n",
       "      <td>2013.0</td>\n",
       "      <td>2.060714e+08</td>\n",
       "      <td>3145.641398</td>\n",
       "      <td>2.436394</td>\n",
       "      <td>2013.0</td>\n",
       "      <td>34.653298</td>\n",
       "      <td>1963.266401</td>\n",
       "      <td>1.509845</td>\n",
       "      <td>2.155006</td>\n",
       "      <td>1.884765</td>\n",
       "      <td>...</td>\n",
       "      <td>8.972619</td>\n",
       "      <td>9.004460</td>\n",
       "      <td>9.484151</td>\n",
       "      <td>8.974930</td>\n",
       "      <td>1.326453</td>\n",
       "      <td>1.261627</td>\n",
       "      <td>7.837961</td>\n",
       "      <td>9.460652</td>\n",
       "      <td>8.619930</td>\n",
       "      <td>2.206260</td>\n",
       "    </tr>\n",
       "    <tr>\n",
       "      <td>std</td>\n",
       "      <td>0.0</td>\n",
       "      <td>1.136807e+08</td>\n",
       "      <td>735.421261</td>\n",
       "      <td>0.495949</td>\n",
       "      <td>0.0</td>\n",
       "      <td>18.191672</td>\n",
       "      <td>18.109522</td>\n",
       "      <td>0.499914</td>\n",
       "      <td>1.204184</td>\n",
       "      <td>0.956788</td>\n",
       "      <td>...</td>\n",
       "      <td>19.267931</td>\n",
       "      <td>18.429625</td>\n",
       "      <td>16.882866</td>\n",
       "      <td>10.427592</td>\n",
       "      <td>1.436871</td>\n",
       "      <td>1.317381</td>\n",
       "      <td>14.819047</td>\n",
       "      <td>13.197976</td>\n",
       "      <td>9.456481</td>\n",
       "      <td>1.150235</td>\n",
       "    </tr>\n",
       "    <tr>\n",
       "      <td>min</td>\n",
       "      <td>2013.0</td>\n",
       "      <td>3.560100e+04</td>\n",
       "      <td>1672.780749</td>\n",
       "      <td>2.000000</td>\n",
       "      <td>2013.0</td>\n",
       "      <td>10.000000</td>\n",
       "      <td>1932.000000</td>\n",
       "      <td>1.000000</td>\n",
       "      <td>1.000000</td>\n",
       "      <td>1.000000</td>\n",
       "      <td>...</td>\n",
       "      <td>0.000000</td>\n",
       "      <td>0.000000</td>\n",
       "      <td>0.000000</td>\n",
       "      <td>0.000000</td>\n",
       "      <td>1.000000</td>\n",
       "      <td>1.000000</td>\n",
       "      <td>0.000000</td>\n",
       "      <td>0.000000</td>\n",
       "      <td>0.000000</td>\n",
       "      <td>1.000000</td>\n",
       "    </tr>\n",
       "    <tr>\n",
       "      <td>25%</td>\n",
       "      <td>2013.0</td>\n",
       "      <td>1.097705e+08</td>\n",
       "      <td>2848.534031</td>\n",
       "      <td>2.000000</td>\n",
       "      <td>2013.0</td>\n",
       "      <td>20.000000</td>\n",
       "      <td>1949.000000</td>\n",
       "      <td>1.000000</td>\n",
       "      <td>1.000000</td>\n",
       "      <td>1.000000</td>\n",
       "      <td>...</td>\n",
       "      <td>3.000000</td>\n",
       "      <td>3.000000</td>\n",
       "      <td>5.000000</td>\n",
       "      <td>7.000000</td>\n",
       "      <td>1.000000</td>\n",
       "      <td>1.000000</td>\n",
       "      <td>4.000000</td>\n",
       "      <td>7.000000</td>\n",
       "      <td>7.000000</td>\n",
       "      <td>2.000000</td>\n",
       "    </tr>\n",
       "    <tr>\n",
       "      <td>50%</td>\n",
       "      <td>2013.0</td>\n",
       "      <td>2.095570e+08</td>\n",
       "      <td>3057.583187</td>\n",
       "      <td>2.000000</td>\n",
       "      <td>2013.0</td>\n",
       "      <td>30.000000</td>\n",
       "      <td>1963.000000</td>\n",
       "      <td>2.000000</td>\n",
       "      <td>2.000000</td>\n",
       "      <td>1.000000</td>\n",
       "      <td>...</td>\n",
       "      <td>5.000000</td>\n",
       "      <td>6.000000</td>\n",
       "      <td>7.000000</td>\n",
       "      <td>8.000000</td>\n",
       "      <td>1.000000</td>\n",
       "      <td>1.000000</td>\n",
       "      <td>6.000000</td>\n",
       "      <td>8.000000</td>\n",
       "      <td>8.000000</td>\n",
       "      <td>2.000000</td>\n",
       "    </tr>\n",
       "    <tr>\n",
       "      <td>75%</td>\n",
       "      <td>2013.0</td>\n",
       "      <td>2.985014e+08</td>\n",
       "      <td>3349.465812</td>\n",
       "      <td>3.000000</td>\n",
       "      <td>2013.0</td>\n",
       "      <td>45.000000</td>\n",
       "      <td>1978.000000</td>\n",
       "      <td>2.000000</td>\n",
       "      <td>2.000000</td>\n",
       "      <td>3.000000</td>\n",
       "      <td>...</td>\n",
       "      <td>7.000000</td>\n",
       "      <td>8.000000</td>\n",
       "      <td>8.000000</td>\n",
       "      <td>9.000000</td>\n",
       "      <td>1.000000</td>\n",
       "      <td>1.000000</td>\n",
       "      <td>7.000000</td>\n",
       "      <td>9.000000</td>\n",
       "      <td>9.000000</td>\n",
       "      <td>3.000000</td>\n",
       "    </tr>\n",
       "    <tr>\n",
       "      <td>max</td>\n",
       "      <td>2013.0</td>\n",
       "      <td>4.011008e+08</td>\n",
       "      <td>6445.686901</td>\n",
       "      <td>3.000000</td>\n",
       "      <td>2013.0</td>\n",
       "      <td>90.000000</td>\n",
       "      <td>1996.000000</td>\n",
       "      <td>2.000000</td>\n",
       "      <td>5.000000</td>\n",
       "      <td>3.000000</td>\n",
       "      <td>...</td>\n",
       "      <td>99.000000</td>\n",
       "      <td>99.000000</td>\n",
       "      <td>99.000000</td>\n",
       "      <td>99.000000</td>\n",
       "      <td>9.000000</td>\n",
       "      <td>9.000000</td>\n",
       "      <td>99.000000</td>\n",
       "      <td>99.000000</td>\n",
       "      <td>99.000000</td>\n",
       "      <td>9.000000</td>\n",
       "    </tr>\n",
       "  </tbody>\n",
       "</table>\n",
       "<p>8 rows × 71 columns</p>\n",
       "</div>"
      ],
      "text/plain": [
       "         PB010         PB030         PB040         PB100    PB110  \\\n",
       "count  22042.0  2.204200e+04  22042.000000  22042.000000  22042.0   \n",
       "mean    2013.0  2.060714e+08   3145.641398      2.436394   2013.0   \n",
       "std        0.0  1.136807e+08    735.421261      0.495949      0.0   \n",
       "min     2013.0  3.560100e+04   1672.780749      2.000000   2013.0   \n",
       "25%     2013.0  1.097705e+08   2848.534031      2.000000   2013.0   \n",
       "50%     2013.0  2.095570e+08   3057.583187      2.000000   2013.0   \n",
       "75%     2013.0  2.985014e+08   3349.465812      3.000000   2013.0   \n",
       "max     2013.0  4.011008e+08   6445.686901      3.000000   2013.0   \n",
       "\n",
       "              PB120         PB140         PB150         PB190         PB200  \\\n",
       "count  22042.000000  22042.000000  22042.000000  21883.000000  22042.000000   \n",
       "mean      34.653298   1963.266401      1.509845      2.155006      1.884765   \n",
       "std       18.191672     18.109522      0.499914      1.204184      0.956788   \n",
       "min       10.000000   1932.000000      1.000000      1.000000      1.000000   \n",
       "25%       20.000000   1949.000000      1.000000      1.000000      1.000000   \n",
       "50%       30.000000   1963.000000      2.000000      2.000000      1.000000   \n",
       "75%       45.000000   1978.000000      2.000000      2.000000      3.000000   \n",
       "max       90.000000   1996.000000      2.000000      5.000000      3.000000   \n",
       "\n",
       "       ...         PW130         PW140         PW150         PW160  \\\n",
       "count  ...  18626.000000  18611.000000  18519.000000  18468.000000   \n",
       "mean   ...      8.972619      9.004460      9.484151      8.974930   \n",
       "std    ...     19.267931     18.429625     16.882866     10.427592   \n",
       "min    ...      0.000000      0.000000      0.000000      0.000000   \n",
       "25%    ...      3.000000      3.000000      5.000000      7.000000   \n",
       "50%    ...      5.000000      6.000000      7.000000      8.000000   \n",
       "75%    ...      7.000000      8.000000      8.000000      9.000000   \n",
       "max    ...     99.000000     99.000000     99.000000     99.000000   \n",
       "\n",
       "              PW170         PW180         PW190         PW200         PW210  \\\n",
       "count  18701.000000  18664.000000  18619.000000  18578.000000  18565.000000   \n",
       "mean       1.326453      1.261627      7.837961      9.460652      8.619930   \n",
       "std        1.436871      1.317381     14.819047     13.197976      9.456481   \n",
       "min        1.000000      1.000000      0.000000      0.000000      0.000000   \n",
       "25%        1.000000      1.000000      4.000000      7.000000      7.000000   \n",
       "50%        1.000000      1.000000      6.000000      8.000000      8.000000   \n",
       "75%        1.000000      1.000000      7.000000      9.000000      9.000000   \n",
       "max        9.000000      9.000000     99.000000     99.000000     99.000000   \n",
       "\n",
       "              PW220  \n",
       "count  18593.000000  \n",
       "mean       2.206260  \n",
       "std        1.150235  \n",
       "min        1.000000  \n",
       "25%        2.000000  \n",
       "50%        2.000000  \n",
       "75%        3.000000  \n",
       "max        9.000000  \n",
       "\n",
       "[8 rows x 71 columns]"
      ]
     },
     "execution_count": 58,
     "metadata": {},
     "output_type": "execute_result"
    }
   ],
   "source": [
    "ds.describe()"
   ]
  },
  {
   "cell_type": "code",
   "execution_count": null,
   "metadata": {},
   "outputs": [],
   "source": []
  }
 ],
 "metadata": {
  "kernelspec": {
   "display_name": "Python 3",
   "language": "python",
   "name": "python3"
  },
  "language_info": {
   "codemirror_mode": {
    "name": "ipython",
    "version": 3
   },
   "file_extension": ".py",
   "mimetype": "text/x-python",
   "name": "python",
   "nbconvert_exporter": "python",
   "pygments_lexer": "ipython3",
   "version": "3.7.4"
  }
 },
 "nbformat": 4,
 "nbformat_minor": 2
}
