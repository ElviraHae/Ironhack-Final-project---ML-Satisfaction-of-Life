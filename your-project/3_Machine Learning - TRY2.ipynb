{
 "cells": [
  {
   "cell_type": "markdown",
   "metadata": {},
   "source": [
    "# Machine Learning Models"
   ]
  },
  {
   "cell_type": "code",
   "execution_count": 65,
   "metadata": {},
   "outputs": [],
   "source": [
    "import numpy as np\n",
    "import pandas as pd\n",
    "import matplotlib.pyplot as plt\n",
    "import seaborn as sns\n",
    "\n",
    "from pandas_profiling import ProfileReport"
   ]
  },
  {
   "cell_type": "code",
   "execution_count": 66,
   "metadata": {},
   "outputs": [],
   "source": [
    "## classification ml:\n",
    "from sklearn.linear_model import LogisticRegression\n",
    "from sklearn.model_selection import train_test_split\n",
    "from sklearn.metrics import accuracy_score\n",
    "from sklearn.tree import DecisionTreeClassifier\n",
    "from sklearn.svm import SVC\n",
    "from sklearn.neighbors import KNeighborsClassifier\n",
    "from sklearn.metrics import confusion_matrix"
   ]
  },
  {
   "cell_type": "code",
   "execution_count": 67,
   "metadata": {},
   "outputs": [],
   "source": [
    "## regression ml\n",
    "from sklearn.linear_model import LinearRegression\n",
    "from sklearn.datasets import load_boston\n",
    "from sklearn.preprocessing import PolynomialFeatures, StandardScaler\n",
    "from sklearn.preprocessing import MinMaxScaler\n",
    "from sklearn.preprocessing import Normalizer\n",
    "from sklearn.model_selection import train_test_split\n",
    "from sklearn.pipeline import make_pipeline\n",
    "from sklearn.tree import DecisionTreeRegressor\n",
    "from sklearn.tree.export import export_text\n",
    "from sklearn.neighbors import KNeighborsRegressor"
   ]
  },
  {
   "cell_type": "code",
   "execution_count": 68,
   "metadata": {},
   "outputs": [],
   "source": [
    "### evaluation\n",
    "from sklearn.metrics import mean_absolute_error\n",
    "from sklearn.metrics import mean_squared_error\n",
    "from sklearn.metrics import r2_score"
   ]
  },
  {
   "cell_type": "code",
   "execution_count": 69,
   "metadata": {},
   "outputs": [],
   "source": [
    "### optimize model\n",
    "from sklearn.feature_selection import RFE\n",
    "from sklearn.decomposition import PCA, FastICA\n",
    "from sklearn.model_selection import GridSearchCV"
   ]
  },
  {
   "cell_type": "code",
   "execution_count": 70,
   "metadata": {},
   "outputs": [],
   "source": [
    "ds = pd.read_csv('./data/datamax_cleaned.csv', index_col=0)"
   ]
  },
  {
   "cell_type": "code",
   "execution_count": 71,
   "metadata": {},
   "outputs": [
    {
     "data": {
      "text/plain": [
       "['PB140: YEAR OF BIRTH',\n",
       " 'PB150: SEX',\n",
       " 'PB190: MARITAL STATUS',\n",
       " 'PB200: CONSENSUAL UNION',\n",
       " 'PB220A: CITIZENSHIP',\n",
       " 'PE010: CURRENT EDUCATION ACTIVITY',\n",
       " 'PE040: HIGHEST ISCED LEVEL ATTAINED',\n",
       " 'PL031: SELF-DEFINED CURRENT ECONOMIC STATUS',\n",
       " 'PL035: WORKED AT LEAST 1 HOUR DURING THE PREVIOUS WEEK',\n",
       " 'PL051: OCCUPATION (ISCO-08 (COM))',\n",
       " 'PL150: MANAGERIAL POSITION',\n",
       " 'PH010: GENERAL HEALTH',\n",
       " 'PH020: SUFFER FROM ANY A CHRONIC (LONG-STANDING) ILLNESS OR CONDITION',\n",
       " 'PH030: LIMITATION IN ACTIVITIES BECAUSE OF HEALTH PROBLEMS',\n",
       " 'PH040: UNMET NEED FOR MEDICAL EXAMINATION OR TREATMENT',\n",
       " 'PH060: UNMET NEED FOR DENTAL EXAMINATION OR TREATMENT',\n",
       " 'PY010G_PY020G_PY021G_PY050G: EMPLOYEE INCOME',\n",
       " 'PY035G: CONTRIBUTIONS TO INDIVIDUAL PRIVATE PENSION PLANS',\n",
       " 'PY080G: PENSION FROM INDIVIDUAL PRIVATE PLANS',\n",
       " 'PY090G++: SOCIAL BENEFITS',\n",
       " 'PD020: Replace worn-out clothes by some new (not second-hand) ones',\n",
       " 'PD030: Two pairs of properly fitting shoes',\n",
       " 'PD050: Get-together with friends/family (relatives) for a drink/meal at least once a month',\n",
       " 'PD060: Regularly participate in a leisure activity',\n",
       " 'PD070: Spend a small amount of money each week on yourself',\n",
       " 'PD080: Internet connection for personal use at home',\n",
       " 'PW010: OVERALL LIFE SATISFACTION',\n",
       " 'PW020: MEANING OF LIFE',\n",
       " 'PW030: SATISFACTION WITH FINANCIAL SITUATION',\n",
       " 'PW040: SATISFACTION WITH ACCOMMODATION',\n",
       " 'PW050: BEING VERY NERVOUS',\n",
       " 'PW060: FEELING DOWN IN THE DUMPS',\n",
       " 'PW070: FEELING CALM AND PEACEFUL',\n",
       " 'PW080: FEELING DOWNHEARTED OR DEPRESSED',\n",
       " 'PW090: BEING HAPPY',\n",
       " 'PW120: SATISFACTION WITH TIME USE',\n",
       " 'PW130: TRUST IN THE POLITICAL SYSTEM',\n",
       " 'PW140: TRUST IN THE LEGAL SYSTEM',\n",
       " 'PW150: TRUST IN THE POLICE',\n",
       " 'PW160: SATISFACTION WITH PERSONAL RELATIONSHIPS',\n",
       " 'PW170: PERSONAL MATTERS (ANYONE TO DISCUSS WITH)',\n",
       " 'PW180: HELP FROM OTHERS',\n",
       " 'PW190: TRUST IN OTHERS',\n",
       " 'PW200: SATISFACTION WITH RECREATIONAL OR GREEN AREAS',\n",
       " 'PW210: SATISFACTION WITH LIVING ENVIRONMENT',\n",
       " 'PW220: PHYSICAL SECURITY']"
      ]
     },
     "execution_count": 71,
     "metadata": {},
     "output_type": "execute_result"
    }
   ],
   "source": [
    "#subsets\n",
    "background = ['PB140: YEAR OF BIRTH','PB150: SEX','PB190: MARITAL STATUS','PB200: CONSENSUAL UNION', 'PB220A: CITIZENSHIP']\n",
    "\n",
    "education = ['PE010: CURRENT EDUCATION ACTIVITY', 'PE040: HIGHEST ISCED LEVEL ATTAINED']\n",
    "\n",
    "work = ['PL031: SELF-DEFINED CURRENT ECONOMIC STATUS', 'PL035: WORKED AT LEAST 1 HOUR DURING THE PREVIOUS WEEK', 'PL051: OCCUPATION (ISCO-08 (COM))', 'PL150: MANAGERIAL POSITION']\n",
    "\n",
    "health = ['PH010: GENERAL HEALTH',\n",
    " 'PH020: SUFFER FROM ANY A CHRONIC (LONG-STANDING) ILLNESS OR CONDITION',\n",
    " 'PH030: LIMITATION IN ACTIVITIES BECAUSE OF HEALTH PROBLEMS',\n",
    " 'PH040: UNMET NEED FOR MEDICAL EXAMINATION OR TREATMENT',\n",
    " 'PH060: UNMET NEED FOR DENTAL EXAMINATION OR TREATMENT']\n",
    "\n",
    "job= ['PY010G_PY020G_PY021G_PY050G: EMPLOYEE INCOME',\n",
    "       'PY035G: CONTRIBUTIONS TO INDIVIDUAL PRIVATE PENSION PLANS',\n",
    "      'PY080G: PENSION FROM INDIVIDUAL PRIVATE PLANS',\n",
    "      \"PY090G++: SOCIAL BENEFITS\"]\n",
    "jobdiff=['PY010G_PY020G_PY021G_PY050G: EMPLOYEE INCOME',\n",
    "       'PY035G: CONTRIBUTIONS TO INDIVIDUAL PRIVATE PENSION PLANS',\n",
    "      'PY080G: PENSION FROM INDIVIDUAL PRIVATE PLANS',\n",
    "       'PY090G: UNEMPLOYMENT BENEFITS', 'PY100G: OLD-AGE BENEFITS',\n",
    "       'PY110G: SURVIVOR’ BENEFITS', 'PY120G: SICKNESS BENEFITS',\n",
    "       'PY130G: DISABILITY BENEFITS', 'PY140G: EDUCATION-RELATED ALLOWANCES']\n",
    "\n",
    "\n",
    "bneeds= ['PD020: Replace worn-out clothes by some new (not second-hand) ones',\n",
    "       'PD030: Two pairs of properly fitting shoes',\n",
    "       'PD050: Get-together with friends/family (relatives) for a drink/meal at least once a month',\n",
    "       'PD060: Regularly participate in a leisure activity',\n",
    "       'PD070: Spend a small amount of money each week on yourself',\n",
    "       'PD080: Internet connection for personal use at home']\n",
    "\n",
    "\n",
    "sat =['PW010: OVERALL LIFE SATISFACTION', 'PW020: MEANING OF LIFE',\n",
    "       'PW030: SATISFACTION WITH FINANCIAL SITUATION',\n",
    "       'PW040: SATISFACTION WITH ACCOMMODATION', 'PW050: BEING VERY NERVOUS',\n",
    "       'PW060: FEELING DOWN IN THE DUMPS', 'PW070: FEELING CALM AND PEACEFUL',\n",
    "       'PW080: FEELING DOWNHEARTED OR DEPRESSED', 'PW090: BEING HAPPY',\n",
    "       'PW120: SATISFACTION WITH TIME USE',\n",
    "       'PW130: TRUST IN THE POLITICAL SYSTEM',\n",
    "       'PW140: TRUST IN THE LEGAL SYSTEM', 'PW150: TRUST IN THE POLICE',\n",
    "       'PW160: SATISFACTION WITH PERSONAL RELATIONSHIPS',\n",
    "       'PW170: PERSONAL MATTERS (ANYONE TO DISCUSS WITH)',\n",
    "       'PW180: HELP FROM OTHERS', 'PW190: TRUST IN OTHERS',\n",
    "       'PW200: SATISFACTION WITH RECREATIONAL OR GREEN AREAS',\n",
    "       'PW210: SATISFACTION WITH LIVING ENVIRONMENT',\n",
    "       'PW220: PHYSICAL SECURITY']\n",
    "\n",
    "subsets= [background,education,work,health,job,bneeds, sat]\n",
    "columns = []\n",
    "for x in subsets:\n",
    "    for y in x:\n",
    "        columns.append (y)\n",
    "columns"
   ]
  },
  {
   "cell_type": "code",
   "execution_count": 72,
   "metadata": {},
   "outputs": [
    {
     "data": {
      "text/html": [
       "<div>\n",
       "<style scoped>\n",
       "    .dataframe tbody tr th:only-of-type {\n",
       "        vertical-align: middle;\n",
       "    }\n",
       "\n",
       "    .dataframe tbody tr th {\n",
       "        vertical-align: top;\n",
       "    }\n",
       "\n",
       "    .dataframe thead th {\n",
       "        text-align: right;\n",
       "    }\n",
       "</style>\n",
       "<table border=\"1\" class=\"dataframe\">\n",
       "  <thead>\n",
       "    <tr style=\"text-align: right;\">\n",
       "      <th></th>\n",
       "      <th>PB030: PERSONAL ID</th>\n",
       "      <th>PB020: COUNTRY</th>\n",
       "      <th>PB010: YEAR OF THE SURVEY</th>\n",
       "      <th>PB140: YEAR OF BIRTH</th>\n",
       "      <th>PB150: SEX</th>\n",
       "      <th>PB190: MARITAL STATUS</th>\n",
       "      <th>PB200: CONSENSUAL UNION</th>\n",
       "      <th>PB220A: CITIZENSHIP</th>\n",
       "      <th>PE010: CURRENT EDUCATION ACTIVITY</th>\n",
       "      <th>PE040: HIGHEST ISCED LEVEL ATTAINED</th>\n",
       "      <th>...</th>\n",
       "      <th>PW130: TRUST IN THE POLITICAL SYSTEM</th>\n",
       "      <th>PW140: TRUST IN THE LEGAL SYSTEM</th>\n",
       "      <th>PW150: TRUST IN THE POLICE</th>\n",
       "      <th>PW160: SATISFACTION WITH PERSONAL RELATIONSHIPS</th>\n",
       "      <th>PW170: PERSONAL MATTERS (ANYONE TO DISCUSS WITH)</th>\n",
       "      <th>PW180: HELP FROM OTHERS</th>\n",
       "      <th>PW190: TRUST IN OTHERS</th>\n",
       "      <th>PW200: SATISFACTION WITH RECREATIONAL OR GREEN AREAS</th>\n",
       "      <th>PW210: SATISFACTION WITH LIVING ENVIRONMENT</th>\n",
       "      <th>PW220: PHYSICAL SECURITY</th>\n",
       "    </tr>\n",
       "  </thead>\n",
       "  <tbody>\n",
       "    <tr>\n",
       "      <td>0</td>\n",
       "      <td>35601</td>\n",
       "      <td>DE</td>\n",
       "      <td>2013</td>\n",
       "      <td>1977</td>\n",
       "      <td>1</td>\n",
       "      <td>2.0</td>\n",
       "      <td>3</td>\n",
       "      <td>0</td>\n",
       "      <td>2</td>\n",
       "      <td>3.0</td>\n",
       "      <td>...</td>\n",
       "      <td>3.0</td>\n",
       "      <td>6.0</td>\n",
       "      <td>10.0</td>\n",
       "      <td>8.0</td>\n",
       "      <td>2.0</td>\n",
       "      <td>1.0</td>\n",
       "      <td>-1.0</td>\n",
       "      <td>7.0</td>\n",
       "      <td>8.0</td>\n",
       "      <td>-1.0</td>\n",
       "    </tr>\n",
       "    <tr>\n",
       "      <td>1</td>\n",
       "      <td>44701</td>\n",
       "      <td>DE</td>\n",
       "      <td>2013</td>\n",
       "      <td>1936</td>\n",
       "      <td>1</td>\n",
       "      <td>2.0</td>\n",
       "      <td>1</td>\n",
       "      <td>0</td>\n",
       "      <td>2</td>\n",
       "      <td>2.0</td>\n",
       "      <td>...</td>\n",
       "      <td>7.0</td>\n",
       "      <td>4.0</td>\n",
       "      <td>-1.0</td>\n",
       "      <td>8.0</td>\n",
       "      <td>1.0</td>\n",
       "      <td>1.0</td>\n",
       "      <td>8.0</td>\n",
       "      <td>0.0</td>\n",
       "      <td>6.0</td>\n",
       "      <td>2.0</td>\n",
       "    </tr>\n",
       "    <tr>\n",
       "      <td>2</td>\n",
       "      <td>59901</td>\n",
       "      <td>DE</td>\n",
       "      <td>2013</td>\n",
       "      <td>1952</td>\n",
       "      <td>2</td>\n",
       "      <td>2.0</td>\n",
       "      <td>3</td>\n",
       "      <td>0</td>\n",
       "      <td>1</td>\n",
       "      <td>5.0</td>\n",
       "      <td>...</td>\n",
       "      <td>3.0</td>\n",
       "      <td>8.0</td>\n",
       "      <td>9.0</td>\n",
       "      <td>10.0</td>\n",
       "      <td>1.0</td>\n",
       "      <td>1.0</td>\n",
       "      <td>-1.0</td>\n",
       "      <td>10.0</td>\n",
       "      <td>6.0</td>\n",
       "      <td>2.0</td>\n",
       "    </tr>\n",
       "    <tr>\n",
       "      <td>3</td>\n",
       "      <td>71101</td>\n",
       "      <td>DE</td>\n",
       "      <td>2013</td>\n",
       "      <td>1938</td>\n",
       "      <td>2</td>\n",
       "      <td>2.0</td>\n",
       "      <td>3</td>\n",
       "      <td>0</td>\n",
       "      <td>2</td>\n",
       "      <td>2.0</td>\n",
       "      <td>...</td>\n",
       "      <td>5.0</td>\n",
       "      <td>7.0</td>\n",
       "      <td>5.0</td>\n",
       "      <td>8.0</td>\n",
       "      <td>1.0</td>\n",
       "      <td>-1.0</td>\n",
       "      <td>6.0</td>\n",
       "      <td>9.0</td>\n",
       "      <td>5.0</td>\n",
       "      <td>3.0</td>\n",
       "    </tr>\n",
       "    <tr>\n",
       "      <td>4</td>\n",
       "      <td>79501</td>\n",
       "      <td>DE</td>\n",
       "      <td>2013</td>\n",
       "      <td>1950</td>\n",
       "      <td>2</td>\n",
       "      <td>5.0</td>\n",
       "      <td>3</td>\n",
       "      <td>0</td>\n",
       "      <td>2</td>\n",
       "      <td>3.0</td>\n",
       "      <td>...</td>\n",
       "      <td>0.0</td>\n",
       "      <td>2.0</td>\n",
       "      <td>-1.0</td>\n",
       "      <td>2.0</td>\n",
       "      <td>1.0</td>\n",
       "      <td>-1.0</td>\n",
       "      <td>5.0</td>\n",
       "      <td>2.0</td>\n",
       "      <td>10.0</td>\n",
       "      <td>1.0</td>\n",
       "    </tr>\n",
       "  </tbody>\n",
       "</table>\n",
       "<p>5 rows × 55 columns</p>\n",
       "</div>"
      ],
      "text/plain": [
       "   PB030: PERSONAL ID PB020: COUNTRY  PB010: YEAR OF THE SURVEY  \\\n",
       "0               35601             DE                       2013   \n",
       "1               44701             DE                       2013   \n",
       "2               59901             DE                       2013   \n",
       "3               71101             DE                       2013   \n",
       "4               79501             DE                       2013   \n",
       "\n",
       "   PB140: YEAR OF BIRTH  PB150: SEX  PB190: MARITAL STATUS  \\\n",
       "0                  1977           1                    2.0   \n",
       "1                  1936           1                    2.0   \n",
       "2                  1952           2                    2.0   \n",
       "3                  1938           2                    2.0   \n",
       "4                  1950           2                    5.0   \n",
       "\n",
       "   PB200: CONSENSUAL UNION  PB220A: CITIZENSHIP  \\\n",
       "0                        3                    0   \n",
       "1                        1                    0   \n",
       "2                        3                    0   \n",
       "3                        3                    0   \n",
       "4                        3                    0   \n",
       "\n",
       "   PE010: CURRENT EDUCATION ACTIVITY  PE040: HIGHEST ISCED LEVEL ATTAINED  \\\n",
       "0                                  2                                  3.0   \n",
       "1                                  2                                  2.0   \n",
       "2                                  1                                  5.0   \n",
       "3                                  2                                  2.0   \n",
       "4                                  2                                  3.0   \n",
       "\n",
       "   ...  PW130: TRUST IN THE POLITICAL SYSTEM  \\\n",
       "0  ...                                   3.0   \n",
       "1  ...                                   7.0   \n",
       "2  ...                                   3.0   \n",
       "3  ...                                   5.0   \n",
       "4  ...                                   0.0   \n",
       "\n",
       "   PW140: TRUST IN THE LEGAL SYSTEM  PW150: TRUST IN THE POLICE  \\\n",
       "0                               6.0                        10.0   \n",
       "1                               4.0                        -1.0   \n",
       "2                               8.0                         9.0   \n",
       "3                               7.0                         5.0   \n",
       "4                               2.0                        -1.0   \n",
       "\n",
       "   PW160: SATISFACTION WITH PERSONAL RELATIONSHIPS  \\\n",
       "0                                              8.0   \n",
       "1                                              8.0   \n",
       "2                                             10.0   \n",
       "3                                              8.0   \n",
       "4                                              2.0   \n",
       "\n",
       "   PW170: PERSONAL MATTERS (ANYONE TO DISCUSS WITH)  PW180: HELP FROM OTHERS  \\\n",
       "0                                               2.0                      1.0   \n",
       "1                                               1.0                      1.0   \n",
       "2                                               1.0                      1.0   \n",
       "3                                               1.0                     -1.0   \n",
       "4                                               1.0                     -1.0   \n",
       "\n",
       "   PW190: TRUST IN OTHERS  \\\n",
       "0                    -1.0   \n",
       "1                     8.0   \n",
       "2                    -1.0   \n",
       "3                     6.0   \n",
       "4                     5.0   \n",
       "\n",
       "   PW200: SATISFACTION WITH RECREATIONAL OR GREEN AREAS  \\\n",
       "0                                                7.0      \n",
       "1                                                0.0      \n",
       "2                                               10.0      \n",
       "3                                                9.0      \n",
       "4                                                2.0      \n",
       "\n",
       "   PW210: SATISFACTION WITH LIVING ENVIRONMENT  PW220: PHYSICAL SECURITY  \n",
       "0                                          8.0                      -1.0  \n",
       "1                                          6.0                       2.0  \n",
       "2                                          6.0                       2.0  \n",
       "3                                          5.0                       3.0  \n",
       "4                                         10.0                       1.0  \n",
       "\n",
       "[5 rows x 55 columns]"
      ]
     },
     "execution_count": 72,
     "metadata": {},
     "output_type": "execute_result"
    }
   ],
   "source": [
    "ds.head()"
   ]
  },
  {
   "cell_type": "markdown",
   "metadata": {},
   "source": [
    "Load raw datas"
   ]
  },
  {
   "cell_type": "code",
   "execution_count": 73,
   "metadata": {},
   "outputs": [],
   "source": [
    "### refresh ds\n",
    "def reload():\n",
    "    return pd.read_csv(\"./data/DE_2013p_EUSILC.csv\")\n",
    "\n",
    "\n",
    "    #return pd.read_csv('./data/datamax_cleaned.csv', index_col=0)"
   ]
  },
  {
   "cell_type": "code",
   "execution_count": 74,
   "metadata": {},
   "outputs": [
    {
     "data": {
      "text/html": [
       "<div>\n",
       "<style scoped>\n",
       "    .dataframe tbody tr th:only-of-type {\n",
       "        vertical-align: middle;\n",
       "    }\n",
       "\n",
       "    .dataframe tbody tr th {\n",
       "        vertical-align: top;\n",
       "    }\n",
       "\n",
       "    .dataframe thead th {\n",
       "        text-align: right;\n",
       "    }\n",
       "</style>\n",
       "<table border=\"1\" class=\"dataframe\">\n",
       "  <thead>\n",
       "    <tr style=\"text-align: right;\">\n",
       "      <th></th>\n",
       "      <th>PB010</th>\n",
       "      <th>PB020</th>\n",
       "      <th>PB030</th>\n",
       "      <th>PB040</th>\n",
       "      <th>PB100</th>\n",
       "      <th>PB110</th>\n",
       "      <th>PB120</th>\n",
       "      <th>PB140</th>\n",
       "      <th>PB150</th>\n",
       "      <th>PB190</th>\n",
       "      <th>...</th>\n",
       "      <th>PW130</th>\n",
       "      <th>PW140</th>\n",
       "      <th>PW150</th>\n",
       "      <th>PW160</th>\n",
       "      <th>PW170</th>\n",
       "      <th>PW180</th>\n",
       "      <th>PW190</th>\n",
       "      <th>PW200</th>\n",
       "      <th>PW210</th>\n",
       "      <th>PW220</th>\n",
       "    </tr>\n",
       "  </thead>\n",
       "  <tbody>\n",
       "    <tr>\n",
       "      <td>0</td>\n",
       "      <td>2013</td>\n",
       "      <td>DE</td>\n",
       "      <td>35601</td>\n",
       "      <td>3057.583187</td>\n",
       "      <td>2</td>\n",
       "      <td>2013</td>\n",
       "      <td>45</td>\n",
       "      <td>1977</td>\n",
       "      <td>1</td>\n",
       "      <td>2.0</td>\n",
       "      <td>...</td>\n",
       "      <td>3.0</td>\n",
       "      <td>6.0</td>\n",
       "      <td>10.0</td>\n",
       "      <td>8.0</td>\n",
       "      <td>2.0</td>\n",
       "      <td>1.0</td>\n",
       "      <td>NaN</td>\n",
       "      <td>7.0</td>\n",
       "      <td>8.0</td>\n",
       "      <td>NaN</td>\n",
       "    </tr>\n",
       "    <tr>\n",
       "      <td>1</td>\n",
       "      <td>2013</td>\n",
       "      <td>DE</td>\n",
       "      <td>44701</td>\n",
       "      <td>3057.583187</td>\n",
       "      <td>3</td>\n",
       "      <td>2013</td>\n",
       "      <td>15</td>\n",
       "      <td>1936</td>\n",
       "      <td>1</td>\n",
       "      <td>2.0</td>\n",
       "      <td>...</td>\n",
       "      <td>7.0</td>\n",
       "      <td>4.0</td>\n",
       "      <td>99.0</td>\n",
       "      <td>8.0</td>\n",
       "      <td>1.0</td>\n",
       "      <td>1.0</td>\n",
       "      <td>8.0</td>\n",
       "      <td>0.0</td>\n",
       "      <td>6.0</td>\n",
       "      <td>2.0</td>\n",
       "    </tr>\n",
       "    <tr>\n",
       "      <td>2</td>\n",
       "      <td>2013</td>\n",
       "      <td>DE</td>\n",
       "      <td>59901</td>\n",
       "      <td>3057.583187</td>\n",
       "      <td>2</td>\n",
       "      <td>2013</td>\n",
       "      <td>45</td>\n",
       "      <td>1952</td>\n",
       "      <td>2</td>\n",
       "      <td>2.0</td>\n",
       "      <td>...</td>\n",
       "      <td>3.0</td>\n",
       "      <td>8.0</td>\n",
       "      <td>9.0</td>\n",
       "      <td>10.0</td>\n",
       "      <td>1.0</td>\n",
       "      <td>1.0</td>\n",
       "      <td>NaN</td>\n",
       "      <td>10.0</td>\n",
       "      <td>6.0</td>\n",
       "      <td>2.0</td>\n",
       "    </tr>\n",
       "    <tr>\n",
       "      <td>3</td>\n",
       "      <td>2013</td>\n",
       "      <td>DE</td>\n",
       "      <td>71101</td>\n",
       "      <td>3057.583187</td>\n",
       "      <td>2</td>\n",
       "      <td>2013</td>\n",
       "      <td>15</td>\n",
       "      <td>1938</td>\n",
       "      <td>2</td>\n",
       "      <td>2.0</td>\n",
       "      <td>...</td>\n",
       "      <td>5.0</td>\n",
       "      <td>7.0</td>\n",
       "      <td>5.0</td>\n",
       "      <td>8.0</td>\n",
       "      <td>1.0</td>\n",
       "      <td>NaN</td>\n",
       "      <td>6.0</td>\n",
       "      <td>9.0</td>\n",
       "      <td>5.0</td>\n",
       "      <td>3.0</td>\n",
       "    </tr>\n",
       "    <tr>\n",
       "      <td>4</td>\n",
       "      <td>2013</td>\n",
       "      <td>DE</td>\n",
       "      <td>79501</td>\n",
       "      <td>3057.583187</td>\n",
       "      <td>2</td>\n",
       "      <td>2013</td>\n",
       "      <td>25</td>\n",
       "      <td>1950</td>\n",
       "      <td>2</td>\n",
       "      <td>5.0</td>\n",
       "      <td>...</td>\n",
       "      <td>0.0</td>\n",
       "      <td>2.0</td>\n",
       "      <td>NaN</td>\n",
       "      <td>2.0</td>\n",
       "      <td>1.0</td>\n",
       "      <td>NaN</td>\n",
       "      <td>5.0</td>\n",
       "      <td>2.0</td>\n",
       "      <td>10.0</td>\n",
       "      <td>1.0</td>\n",
       "    </tr>\n",
       "  </tbody>\n",
       "</table>\n",
       "<p>5 rows × 64 columns</p>\n",
       "</div>"
      ],
      "text/plain": [
       "   PB010 PB020  PB030        PB040  PB100  PB110  PB120  PB140  PB150  PB190  \\\n",
       "0   2013    DE  35601  3057.583187      2   2013     45   1977      1    2.0   \n",
       "1   2013    DE  44701  3057.583187      3   2013     15   1936      1    2.0   \n",
       "2   2013    DE  59901  3057.583187      2   2013     45   1952      2    2.0   \n",
       "3   2013    DE  71101  3057.583187      2   2013     15   1938      2    2.0   \n",
       "4   2013    DE  79501  3057.583187      2   2013     25   1950      2    5.0   \n",
       "\n",
       "   ...  PW130 PW140  PW150  PW160  PW170  PW180  PW190  PW200  PW210  PW220  \n",
       "0  ...    3.0   6.0   10.0    8.0    2.0    1.0    NaN    7.0    8.0    NaN  \n",
       "1  ...    7.0   4.0   99.0    8.0    1.0    1.0    8.0    0.0    6.0    2.0  \n",
       "2  ...    3.0   8.0    9.0   10.0    1.0    1.0    NaN   10.0    6.0    2.0  \n",
       "3  ...    5.0   7.0    5.0    8.0    1.0    NaN    6.0    9.0    5.0    3.0  \n",
       "4  ...    0.0   2.0    NaN    2.0    1.0    NaN    5.0    2.0   10.0    1.0  \n",
       "\n",
       "[5 rows x 64 columns]"
      ]
     },
     "execution_count": 74,
     "metadata": {},
     "output_type": "execute_result"
    }
   ],
   "source": [
    "data= reload()\n",
    "data=data.dropna(thresh=len(data)*0.8, axis=1)\n",
    "\n",
    "data.head()"
   ]
  },
  {
   "cell_type": "code",
   "execution_count": 75,
   "metadata": {},
   "outputs": [],
   "source": [
    "### drop columns because not of interest \n",
    "\n",
    "columnstodrop=['PB040', 'PB100',\n",
    "               'PB110','PB120', 'PB020', \"PB220A\"]\n",
    "\n",
    "data.drop(columnstodrop, axis=1, inplace=True)"
   ]
  },
  {
   "cell_type": "code",
   "execution_count": 76,
   "metadata": {},
   "outputs": [],
   "source": [
    "data.dropna(inplace=True)\n",
    "### drop to many?"
   ]
  },
  {
   "cell_type": "markdown",
   "metadata": {},
   "source": [
    "Define X and y"
   ]
  },
  {
   "cell_type": "code",
   "execution_count": 77,
   "metadata": {},
   "outputs": [
    {
     "data": {
      "text/plain": [
       "\"\\n## use raw data\\nXCol=list(data.columns) ## take all otherwise: columns\\noutcomelist = 'PW010' ## 'PW010: OVERALL LIFE SATISFACTION'\\nXCol.remove(outcomelist)\\nYCol=outcomelist\\nX = data[XCol]\\ny= data[YCol]\\n\""
      ]
     },
     "execution_count": 77,
     "metadata": {},
     "output_type": "execute_result"
    }
   ],
   "source": [
    "\"\"\"\n",
    "## use raw data\n",
    "XCol=list(data.columns) ## take all otherwise: columns\n",
    "outcomelist = 'PW010' ## 'PW010: OVERALL LIFE SATISFACTION'\n",
    "XCol.remove(outcomelist)\n",
    "YCol=outcomelist\n",
    "X = data[XCol]\n",
    "y= data[YCol]\n",
    "\"\"\""
   ]
  },
  {
   "cell_type": "markdown",
   "metadata": {},
   "source": [
    "PCA /ICA"
   ]
  },
  {
   "cell_type": "code",
   "execution_count": 78,
   "metadata": {},
   "outputs": [],
   "source": [
    "### use cleanded\n",
    "data = ds\n",
    "XCol= columns #\n",
    "outcomelist = 'PW010: OVERALL LIFE SATISFACTION'\n",
    "XCol.remove(outcomelist)\n",
    "YCol=outcomelist\n",
    "X = data[XCol]\n",
    "y= data[YCol]"
   ]
  },
  {
   "cell_type": "code",
   "execution_count": 79,
   "metadata": {},
   "outputs": [],
   "source": [
    "data['PB140: YEAR OF BIRTH']=data['PB140: YEAR OF BIRTH'].apply(lambda x: 2020-x)\n"
   ]
  },
  {
   "cell_type": "code",
   "execution_count": 80,
   "metadata": {},
   "outputs": [
    {
     "data": {
      "text/html": [
       "<div>\n",
       "<style scoped>\n",
       "    .dataframe tbody tr th:only-of-type {\n",
       "        vertical-align: middle;\n",
       "    }\n",
       "\n",
       "    .dataframe tbody tr th {\n",
       "        vertical-align: top;\n",
       "    }\n",
       "\n",
       "    .dataframe thead th {\n",
       "        text-align: right;\n",
       "    }\n",
       "</style>\n",
       "<table border=\"1\" class=\"dataframe\">\n",
       "  <thead>\n",
       "    <tr style=\"text-align: right;\">\n",
       "      <th></th>\n",
       "      <th>PB140: YEAR OF BIRTH</th>\n",
       "      <th>PB150: SEX</th>\n",
       "      <th>PB190: MARITAL STATUS</th>\n",
       "      <th>PB200: CONSENSUAL UNION</th>\n",
       "      <th>PB220A: CITIZENSHIP</th>\n",
       "      <th>PE010: CURRENT EDUCATION ACTIVITY</th>\n",
       "      <th>PE040: HIGHEST ISCED LEVEL ATTAINED</th>\n",
       "      <th>PL031: SELF-DEFINED CURRENT ECONOMIC STATUS</th>\n",
       "      <th>PL035: WORKED AT LEAST 1 HOUR DURING THE PREVIOUS WEEK</th>\n",
       "      <th>PL051: OCCUPATION (ISCO-08 (COM))</th>\n",
       "      <th>...</th>\n",
       "      <th>PW130: TRUST IN THE POLITICAL SYSTEM</th>\n",
       "      <th>PW140: TRUST IN THE LEGAL SYSTEM</th>\n",
       "      <th>PW150: TRUST IN THE POLICE</th>\n",
       "      <th>PW160: SATISFACTION WITH PERSONAL RELATIONSHIPS</th>\n",
       "      <th>PW170: PERSONAL MATTERS (ANYONE TO DISCUSS WITH)</th>\n",
       "      <th>PW180: HELP FROM OTHERS</th>\n",
       "      <th>PW190: TRUST IN OTHERS</th>\n",
       "      <th>PW200: SATISFACTION WITH RECREATIONAL OR GREEN AREAS</th>\n",
       "      <th>PW210: SATISFACTION WITH LIVING ENVIRONMENT</th>\n",
       "      <th>PW220: PHYSICAL SECURITY</th>\n",
       "    </tr>\n",
       "  </thead>\n",
       "  <tbody>\n",
       "    <tr>\n",
       "      <td>0</td>\n",
       "      <td>43</td>\n",
       "      <td>1</td>\n",
       "      <td>2.0</td>\n",
       "      <td>3</td>\n",
       "      <td>0</td>\n",
       "      <td>2</td>\n",
       "      <td>3.0</td>\n",
       "      <td>1.0</td>\n",
       "      <td>2</td>\n",
       "      <td>52.0</td>\n",
       "      <td>...</td>\n",
       "      <td>3.0</td>\n",
       "      <td>6.0</td>\n",
       "      <td>10.0</td>\n",
       "      <td>8.0</td>\n",
       "      <td>2.0</td>\n",
       "      <td>1.0</td>\n",
       "      <td>-1.0</td>\n",
       "      <td>7.0</td>\n",
       "      <td>8.0</td>\n",
       "      <td>-1.0</td>\n",
       "    </tr>\n",
       "    <tr>\n",
       "      <td>1</td>\n",
       "      <td>84</td>\n",
       "      <td>1</td>\n",
       "      <td>2.0</td>\n",
       "      <td>1</td>\n",
       "      <td>0</td>\n",
       "      <td>2</td>\n",
       "      <td>2.0</td>\n",
       "      <td>7.0</td>\n",
       "      <td>1</td>\n",
       "      <td>62.0</td>\n",
       "      <td>...</td>\n",
       "      <td>7.0</td>\n",
       "      <td>4.0</td>\n",
       "      <td>-1.0</td>\n",
       "      <td>8.0</td>\n",
       "      <td>1.0</td>\n",
       "      <td>1.0</td>\n",
       "      <td>8.0</td>\n",
       "      <td>0.0</td>\n",
       "      <td>6.0</td>\n",
       "      <td>2.0</td>\n",
       "    </tr>\n",
       "    <tr>\n",
       "      <td>2</td>\n",
       "      <td>68</td>\n",
       "      <td>2</td>\n",
       "      <td>2.0</td>\n",
       "      <td>3</td>\n",
       "      <td>0</td>\n",
       "      <td>1</td>\n",
       "      <td>5.0</td>\n",
       "      <td>11.0</td>\n",
       "      <td>2</td>\n",
       "      <td>23.0</td>\n",
       "      <td>...</td>\n",
       "      <td>3.0</td>\n",
       "      <td>8.0</td>\n",
       "      <td>9.0</td>\n",
       "      <td>10.0</td>\n",
       "      <td>1.0</td>\n",
       "      <td>1.0</td>\n",
       "      <td>-1.0</td>\n",
       "      <td>10.0</td>\n",
       "      <td>6.0</td>\n",
       "      <td>2.0</td>\n",
       "    </tr>\n",
       "    <tr>\n",
       "      <td>3</td>\n",
       "      <td>82</td>\n",
       "      <td>2</td>\n",
       "      <td>2.0</td>\n",
       "      <td>3</td>\n",
       "      <td>0</td>\n",
       "      <td>2</td>\n",
       "      <td>2.0</td>\n",
       "      <td>7.0</td>\n",
       "      <td>1</td>\n",
       "      <td>51.0</td>\n",
       "      <td>...</td>\n",
       "      <td>5.0</td>\n",
       "      <td>7.0</td>\n",
       "      <td>5.0</td>\n",
       "      <td>8.0</td>\n",
       "      <td>1.0</td>\n",
       "      <td>-1.0</td>\n",
       "      <td>6.0</td>\n",
       "      <td>9.0</td>\n",
       "      <td>5.0</td>\n",
       "      <td>3.0</td>\n",
       "    </tr>\n",
       "    <tr>\n",
       "      <td>4</td>\n",
       "      <td>70</td>\n",
       "      <td>2</td>\n",
       "      <td>5.0</td>\n",
       "      <td>3</td>\n",
       "      <td>0</td>\n",
       "      <td>2</td>\n",
       "      <td>3.0</td>\n",
       "      <td>1.0</td>\n",
       "      <td>1</td>\n",
       "      <td>44.0</td>\n",
       "      <td>...</td>\n",
       "      <td>0.0</td>\n",
       "      <td>2.0</td>\n",
       "      <td>-1.0</td>\n",
       "      <td>2.0</td>\n",
       "      <td>1.0</td>\n",
       "      <td>-1.0</td>\n",
       "      <td>5.0</td>\n",
       "      <td>2.0</td>\n",
       "      <td>10.0</td>\n",
       "      <td>1.0</td>\n",
       "    </tr>\n",
       "  </tbody>\n",
       "</table>\n",
       "<p>5 rows × 45 columns</p>\n",
       "</div>"
      ],
      "text/plain": [
       "   PB140: YEAR OF BIRTH  PB150: SEX  PB190: MARITAL STATUS  \\\n",
       "0                    43           1                    2.0   \n",
       "1                    84           1                    2.0   \n",
       "2                    68           2                    2.0   \n",
       "3                    82           2                    2.0   \n",
       "4                    70           2                    5.0   \n",
       "\n",
       "   PB200: CONSENSUAL UNION  PB220A: CITIZENSHIP  \\\n",
       "0                        3                    0   \n",
       "1                        1                    0   \n",
       "2                        3                    0   \n",
       "3                        3                    0   \n",
       "4                        3                    0   \n",
       "\n",
       "   PE010: CURRENT EDUCATION ACTIVITY  PE040: HIGHEST ISCED LEVEL ATTAINED  \\\n",
       "0                                  2                                  3.0   \n",
       "1                                  2                                  2.0   \n",
       "2                                  1                                  5.0   \n",
       "3                                  2                                  2.0   \n",
       "4                                  2                                  3.0   \n",
       "\n",
       "   PL031: SELF-DEFINED CURRENT ECONOMIC STATUS  \\\n",
       "0                                          1.0   \n",
       "1                                          7.0   \n",
       "2                                         11.0   \n",
       "3                                          7.0   \n",
       "4                                          1.0   \n",
       "\n",
       "   PL035: WORKED AT LEAST 1 HOUR DURING THE PREVIOUS WEEK  \\\n",
       "0                                                  2        \n",
       "1                                                  1        \n",
       "2                                                  2        \n",
       "3                                                  1        \n",
       "4                                                  1        \n",
       "\n",
       "   PL051: OCCUPATION (ISCO-08 (COM))  ...  \\\n",
       "0                               52.0  ...   \n",
       "1                               62.0  ...   \n",
       "2                               23.0  ...   \n",
       "3                               51.0  ...   \n",
       "4                               44.0  ...   \n",
       "\n",
       "   PW130: TRUST IN THE POLITICAL SYSTEM  PW140: TRUST IN THE LEGAL SYSTEM  \\\n",
       "0                                   3.0                               6.0   \n",
       "1                                   7.0                               4.0   \n",
       "2                                   3.0                               8.0   \n",
       "3                                   5.0                               7.0   \n",
       "4                                   0.0                               2.0   \n",
       "\n",
       "   PW150: TRUST IN THE POLICE  \\\n",
       "0                        10.0   \n",
       "1                        -1.0   \n",
       "2                         9.0   \n",
       "3                         5.0   \n",
       "4                        -1.0   \n",
       "\n",
       "   PW160: SATISFACTION WITH PERSONAL RELATIONSHIPS  \\\n",
       "0                                              8.0   \n",
       "1                                              8.0   \n",
       "2                                             10.0   \n",
       "3                                              8.0   \n",
       "4                                              2.0   \n",
       "\n",
       "   PW170: PERSONAL MATTERS (ANYONE TO DISCUSS WITH)  PW180: HELP FROM OTHERS  \\\n",
       "0                                               2.0                      1.0   \n",
       "1                                               1.0                      1.0   \n",
       "2                                               1.0                      1.0   \n",
       "3                                               1.0                     -1.0   \n",
       "4                                               1.0                     -1.0   \n",
       "\n",
       "   PW190: TRUST IN OTHERS  \\\n",
       "0                    -1.0   \n",
       "1                     8.0   \n",
       "2                    -1.0   \n",
       "3                     6.0   \n",
       "4                     5.0   \n",
       "\n",
       "   PW200: SATISFACTION WITH RECREATIONAL OR GREEN AREAS  \\\n",
       "0                                                7.0      \n",
       "1                                                0.0      \n",
       "2                                               10.0      \n",
       "3                                                9.0      \n",
       "4                                                2.0      \n",
       "\n",
       "   PW210: SATISFACTION WITH LIVING ENVIRONMENT  PW220: PHYSICAL SECURITY  \n",
       "0                                          8.0                      -1.0  \n",
       "1                                          6.0                       2.0  \n",
       "2                                          6.0                       2.0  \n",
       "3                                          5.0                       3.0  \n",
       "4                                         10.0                       1.0  \n",
       "\n",
       "[5 rows x 45 columns]"
      ]
     },
     "execution_count": 80,
     "metadata": {},
     "output_type": "execute_result"
    }
   ],
   "source": [
    "data[XCol].head()"
   ]
  },
  {
   "cell_type": "code",
   "execution_count": 81,
   "metadata": {},
   "outputs": [],
   "source": [
    "# Create a PCA that will retain 99% of variance\n",
    "pca = PCA(n_components=\"mle\", whiten=True, svd_solver='full')\n",
    "transformer = FastICA(n_components=7,random_state=0)\n",
    "\n",
    "# Conduct PCA\n",
    "features_pca = pca.fit_transform(X)\n",
    "features_ica =  transformer.fit_transform(X)\n"
   ]
  },
  {
   "cell_type": "code",
   "execution_count": 82,
   "metadata": {
    "scrolled": false
   },
   "outputs": [
    {
     "data": {
      "text/plain": [
       "(19463, 7)"
      ]
     },
     "execution_count": 82,
     "metadata": {},
     "output_type": "execute_result"
    }
   ],
   "source": [
    "features_ica.shape"
   ]
  },
  {
   "cell_type": "code",
   "execution_count": 83,
   "metadata": {},
   "outputs": [
    {
     "data": {
      "text/html": [
       "<div>\n",
       "<style scoped>\n",
       "    .dataframe tbody tr th:only-of-type {\n",
       "        vertical-align: middle;\n",
       "    }\n",
       "\n",
       "    .dataframe tbody tr th {\n",
       "        vertical-align: top;\n",
       "    }\n",
       "\n",
       "    .dataframe thead th {\n",
       "        text-align: right;\n",
       "    }\n",
       "</style>\n",
       "<table border=\"1\" class=\"dataframe\">\n",
       "  <thead>\n",
       "    <tr style=\"text-align: right;\">\n",
       "      <th></th>\n",
       "      <th>0</th>\n",
       "      <th>1</th>\n",
       "      <th>2</th>\n",
       "      <th>3</th>\n",
       "      <th>4</th>\n",
       "      <th>5</th>\n",
       "      <th>6</th>\n",
       "    </tr>\n",
       "  </thead>\n",
       "  <tbody>\n",
       "    <tr>\n",
       "      <td>count</td>\n",
       "      <td>1.946300e+04</td>\n",
       "      <td>1.946300e+04</td>\n",
       "      <td>1.946300e+04</td>\n",
       "      <td>1.946300e+04</td>\n",
       "      <td>1.946300e+04</td>\n",
       "      <td>1.946300e+04</td>\n",
       "      <td>1.946300e+04</td>\n",
       "    </tr>\n",
       "    <tr>\n",
       "      <td>mean</td>\n",
       "      <td>-8.442238e-18</td>\n",
       "      <td>4.406229e-17</td>\n",
       "      <td>-7.059040e-20</td>\n",
       "      <td>-3.167711e-19</td>\n",
       "      <td>1.863266e-17</td>\n",
       "      <td>2.523557e-19</td>\n",
       "      <td>-1.457616e-17</td>\n",
       "    </tr>\n",
       "    <tr>\n",
       "      <td>std</td>\n",
       "      <td>7.168136e-03</td>\n",
       "      <td>7.168136e-03</td>\n",
       "      <td>7.168136e-03</td>\n",
       "      <td>7.168136e-03</td>\n",
       "      <td>7.168136e-03</td>\n",
       "      <td>7.168136e-03</td>\n",
       "      <td>7.168136e-03</td>\n",
       "    </tr>\n",
       "    <tr>\n",
       "      <td>min</td>\n",
       "      <td>-1.492278e-02</td>\n",
       "      <td>-2.219250e-02</td>\n",
       "      <td>-1.151247e-02</td>\n",
       "      <td>-6.066908e-04</td>\n",
       "      <td>-1.503075e-01</td>\n",
       "      <td>-3.282613e-03</td>\n",
       "      <td>-4.446149e-02</td>\n",
       "    </tr>\n",
       "    <tr>\n",
       "      <td>25%</td>\n",
       "      <td>-4.867294e-03</td>\n",
       "      <td>-6.258929e-03</td>\n",
       "      <td>-5.375307e-03</td>\n",
       "      <td>-4.881013e-04</td>\n",
       "      <td>-8.190526e-04</td>\n",
       "      <td>-3.163062e-03</td>\n",
       "      <td>-2.986116e-03</td>\n",
       "    </tr>\n",
       "    <tr>\n",
       "      <td>50%</td>\n",
       "      <td>-1.466615e-03</td>\n",
       "      <td>-5.551411e-04</td>\n",
       "      <td>-2.827963e-03</td>\n",
       "      <td>-4.031143e-04</td>\n",
       "      <td>1.277355e-03</td>\n",
       "      <td>-3.039595e-03</td>\n",
       "      <td>1.350294e-03</td>\n",
       "    </tr>\n",
       "    <tr>\n",
       "      <td>75%</td>\n",
       "      <td>4.314570e-03</td>\n",
       "      <td>6.217341e-03</td>\n",
       "      <td>5.375456e-03</td>\n",
       "      <td>-3.374857e-04</td>\n",
       "      <td>3.554372e-03</td>\n",
       "      <td>7.488951e-04</td>\n",
       "      <td>4.000223e-03</td>\n",
       "    </tr>\n",
       "    <tr>\n",
       "      <td>max</td>\n",
       "      <td>1.909461e-02</td>\n",
       "      <td>1.428118e-02</td>\n",
       "      <td>1.505049e-02</td>\n",
       "      <td>5.034432e-01</td>\n",
       "      <td>1.103122e-02</td>\n",
       "      <td>3.330572e-01</td>\n",
       "      <td>1.193757e-02</td>\n",
       "    </tr>\n",
       "  </tbody>\n",
       "</table>\n",
       "</div>"
      ],
      "text/plain": [
       "                  0             1             2             3             4  \\\n",
       "count  1.946300e+04  1.946300e+04  1.946300e+04  1.946300e+04  1.946300e+04   \n",
       "mean  -8.442238e-18  4.406229e-17 -7.059040e-20 -3.167711e-19  1.863266e-17   \n",
       "std    7.168136e-03  7.168136e-03  7.168136e-03  7.168136e-03  7.168136e-03   \n",
       "min   -1.492278e-02 -2.219250e-02 -1.151247e-02 -6.066908e-04 -1.503075e-01   \n",
       "25%   -4.867294e-03 -6.258929e-03 -5.375307e-03 -4.881013e-04 -8.190526e-04   \n",
       "50%   -1.466615e-03 -5.551411e-04 -2.827963e-03 -4.031143e-04  1.277355e-03   \n",
       "75%    4.314570e-03  6.217341e-03  5.375456e-03 -3.374857e-04  3.554372e-03   \n",
       "max    1.909461e-02  1.428118e-02  1.505049e-02  5.034432e-01  1.103122e-02   \n",
       "\n",
       "                  5             6  \n",
       "count  1.946300e+04  1.946300e+04  \n",
       "mean   2.523557e-19 -1.457616e-17  \n",
       "std    7.168136e-03  7.168136e-03  \n",
       "min   -3.282613e-03 -4.446149e-02  \n",
       "25%   -3.163062e-03 -2.986116e-03  \n",
       "50%   -3.039595e-03  1.350294e-03  \n",
       "75%    7.488951e-04  4.000223e-03  \n",
       "max    3.330572e-01  1.193757e-02  "
      ]
     },
     "execution_count": 83,
     "metadata": {},
     "output_type": "execute_result"
    }
   ],
   "source": [
    "data=pd.DataFrame(features_ica)\n",
    "data.describe()"
   ]
  },
  {
   "cell_type": "code",
   "execution_count": 84,
   "metadata": {},
   "outputs": [
    {
     "data": {
      "text/html": [
       "<div>\n",
       "<style scoped>\n",
       "    .dataframe tbody tr th:only-of-type {\n",
       "        vertical-align: middle;\n",
       "    }\n",
       "\n",
       "    .dataframe tbody tr th {\n",
       "        vertical-align: top;\n",
       "    }\n",
       "\n",
       "    .dataframe thead th {\n",
       "        text-align: right;\n",
       "    }\n",
       "</style>\n",
       "<table border=\"1\" class=\"dataframe\">\n",
       "  <thead>\n",
       "    <tr style=\"text-align: right;\">\n",
       "      <th></th>\n",
       "      <th>0</th>\n",
       "      <th>1</th>\n",
       "      <th>2</th>\n",
       "      <th>3</th>\n",
       "      <th>4</th>\n",
       "      <th>5</th>\n",
       "      <th>6</th>\n",
       "      <th>7</th>\n",
       "      <th>8</th>\n",
       "      <th>9</th>\n",
       "      <th>...</th>\n",
       "      <th>34</th>\n",
       "      <th>35</th>\n",
       "      <th>36</th>\n",
       "      <th>37</th>\n",
       "      <th>38</th>\n",
       "      <th>39</th>\n",
       "      <th>40</th>\n",
       "      <th>41</th>\n",
       "      <th>42</th>\n",
       "      <th>43</th>\n",
       "    </tr>\n",
       "  </thead>\n",
       "  <tbody>\n",
       "    <tr>\n",
       "      <td>count</td>\n",
       "      <td>1.946300e+04</td>\n",
       "      <td>1.946300e+04</td>\n",
       "      <td>1.946300e+04</td>\n",
       "      <td>1.946300e+04</td>\n",
       "      <td>1.946300e+04</td>\n",
       "      <td>1.946300e+04</td>\n",
       "      <td>1.946300e+04</td>\n",
       "      <td>1.946300e+04</td>\n",
       "      <td>1.946300e+04</td>\n",
       "      <td>1.946300e+04</td>\n",
       "      <td>...</td>\n",
       "      <td>1.946300e+04</td>\n",
       "      <td>1.946300e+04</td>\n",
       "      <td>1.946300e+04</td>\n",
       "      <td>1.946300e+04</td>\n",
       "      <td>1.946300e+04</td>\n",
       "      <td>1.946300e+04</td>\n",
       "      <td>1.946300e+04</td>\n",
       "      <td>1.946300e+04</td>\n",
       "      <td>1.946300e+04</td>\n",
       "      <td>1.946300e+04</td>\n",
       "    </tr>\n",
       "    <tr>\n",
       "      <td>mean</td>\n",
       "      <td>-3.241568e-16</td>\n",
       "      <td>-7.565651e-17</td>\n",
       "      <td>-1.213691e-17</td>\n",
       "      <td>-1.344605e-18</td>\n",
       "      <td>-4.788454e-16</td>\n",
       "      <td>-7.085176e-15</td>\n",
       "      <td>-2.150226e-17</td>\n",
       "      <td>-1.086408e-16</td>\n",
       "      <td>-1.403252e-17</td>\n",
       "      <td>1.324419e-16</td>\n",
       "      <td>...</td>\n",
       "      <td>1.638724e-16</td>\n",
       "      <td>-6.957504e-17</td>\n",
       "      <td>2.956069e-16</td>\n",
       "      <td>2.759286e-16</td>\n",
       "      <td>-1.907624e-16</td>\n",
       "      <td>-1.586929e-16</td>\n",
       "      <td>-1.142837e-16</td>\n",
       "      <td>9.293405e-17</td>\n",
       "      <td>2.981296e-16</td>\n",
       "      <td>3.521249e-17</td>\n",
       "    </tr>\n",
       "    <tr>\n",
       "      <td>std</td>\n",
       "      <td>1.000000e+00</td>\n",
       "      <td>1.000000e+00</td>\n",
       "      <td>1.000000e+00</td>\n",
       "      <td>1.000000e+00</td>\n",
       "      <td>1.000000e+00</td>\n",
       "      <td>1.000000e+00</td>\n",
       "      <td>1.000000e+00</td>\n",
       "      <td>1.000000e+00</td>\n",
       "      <td>1.000000e+00</td>\n",
       "      <td>1.000000e+00</td>\n",
       "      <td>...</td>\n",
       "      <td>1.000000e+00</td>\n",
       "      <td>1.000000e+00</td>\n",
       "      <td>1.000000e+00</td>\n",
       "      <td>1.000000e+00</td>\n",
       "      <td>1.000000e+00</td>\n",
       "      <td>1.000000e+00</td>\n",
       "      <td>1.000000e+00</td>\n",
       "      <td>1.000000e+00</td>\n",
       "      <td>1.000000e+00</td>\n",
       "      <td>1.000000e+00</td>\n",
       "    </tr>\n",
       "    <tr>\n",
       "      <td>min</td>\n",
       "      <td>-2.964832e+00</td>\n",
       "      <td>-9.306241e-01</td>\n",
       "      <td>-1.423415e+00</td>\n",
       "      <td>-9.227472e-02</td>\n",
       "      <td>-2.394807e+00</td>\n",
       "      <td>-2.565819e+00</td>\n",
       "      <td>-1.534324e+00</td>\n",
       "      <td>-1.916694e+00</td>\n",
       "      <td>-2.194439e+00</td>\n",
       "      <td>-1.985390e+00</td>\n",
       "      <td>...</td>\n",
       "      <td>-9.744286e-01</td>\n",
       "      <td>-2.165889e+00</td>\n",
       "      <td>-2.115689e+00</td>\n",
       "      <td>-7.739913e-01</td>\n",
       "      <td>-1.341694e+00</td>\n",
       "      <td>-9.102163e-01</td>\n",
       "      <td>-6.019898e-01</td>\n",
       "      <td>-2.344854e+00</td>\n",
       "      <td>-1.572899e+00</td>\n",
       "      <td>-4.625990e-01</td>\n",
       "    </tr>\n",
       "    <tr>\n",
       "      <td>25%</td>\n",
       "      <td>-7.131660e-01</td>\n",
       "      <td>-6.400480e-01</td>\n",
       "      <td>-4.408457e-01</td>\n",
       "      <td>-8.743737e-02</td>\n",
       "      <td>-5.045373e-01</td>\n",
       "      <td>-7.511379e-01</td>\n",
       "      <td>-7.506569e-01</td>\n",
       "      <td>-8.062937e-01</td>\n",
       "      <td>-6.103556e-01</td>\n",
       "      <td>-7.284562e-01</td>\n",
       "      <td>...</td>\n",
       "      <td>-7.876100e-01</td>\n",
       "      <td>-9.439097e-01</td>\n",
       "      <td>-8.627968e-01</td>\n",
       "      <td>-3.770494e-01</td>\n",
       "      <td>-5.779003e-01</td>\n",
       "      <td>-5.207266e-01</td>\n",
       "      <td>-3.291940e-01</td>\n",
       "      <td>-4.066425e-01</td>\n",
       "      <td>-4.688027e-01</td>\n",
       "      <td>-2.766800e-01</td>\n",
       "    </tr>\n",
       "    <tr>\n",
       "      <td>50%</td>\n",
       "      <td>-4.291571e-01</td>\n",
       "      <td>-2.279236e-01</td>\n",
       "      <td>-4.162489e-01</td>\n",
       "      <td>-7.016229e-02</td>\n",
       "      <td>2.495426e-01</td>\n",
       "      <td>-8.283605e-02</td>\n",
       "      <td>-3.939529e-01</td>\n",
       "      <td>-2.196105e-01</td>\n",
       "      <td>-1.330766e-01</td>\n",
       "      <td>-3.079454e-01</td>\n",
       "      <td>...</td>\n",
       "      <td>-6.655354e-01</td>\n",
       "      <td>2.423249e-01</td>\n",
       "      <td>-3.286381e-01</td>\n",
       "      <td>-2.142832e-01</td>\n",
       "      <td>-4.869560e-01</td>\n",
       "      <td>-4.460302e-01</td>\n",
       "      <td>-2.543947e-01</td>\n",
       "      <td>-3.519362e-01</td>\n",
       "      <td>-2.490030e-01</td>\n",
       "      <td>-2.373290e-01</td>\n",
       "    </tr>\n",
       "    <tr>\n",
       "      <td>75%</td>\n",
       "      <td>5.915674e-01</td>\n",
       "      <td>2.854243e-01</td>\n",
       "      <td>1.034547e-01</td>\n",
       "      <td>-3.619530e-02</td>\n",
       "      <td>6.664302e-01</td>\n",
       "      <td>7.686659e-01</td>\n",
       "      <td>7.451892e-01</td>\n",
       "      <td>7.470607e-01</td>\n",
       "      <td>4.990422e-01</td>\n",
       "      <td>4.668119e-01</td>\n",
       "      <td>...</td>\n",
       "      <td>1.267316e+00</td>\n",
       "      <td>8.995661e-01</td>\n",
       "      <td>9.737394e-01</td>\n",
       "      <td>-6.275933e-02</td>\n",
       "      <td>-3.531081e-01</td>\n",
       "      <td>-3.148830e-01</td>\n",
       "      <td>-1.341181e-01</td>\n",
       "      <td>-2.856906e-01</td>\n",
       "      <td>-4.158828e-02</td>\n",
       "      <td>-1.956186e-01</td>\n",
       "    </tr>\n",
       "    <tr>\n",
       "      <td>max</td>\n",
       "      <td>5.660268e+00</td>\n",
       "      <td>1.864953e+01</td>\n",
       "      <td>4.645856e+01</td>\n",
       "      <td>7.021641e+01</td>\n",
       "      <td>2.644110e+00</td>\n",
       "      <td>9.495413e+00</td>\n",
       "      <td>2.084891e+00</td>\n",
       "      <td>3.204216e+00</td>\n",
       "      <td>2.566722e+00</td>\n",
       "      <td>2.717839e+00</td>\n",
       "      <td>...</td>\n",
       "      <td>1.625742e+00</td>\n",
       "      <td>4.167793e+00</td>\n",
       "      <td>4.081716e+00</td>\n",
       "      <td>6.844987e+00</td>\n",
       "      <td>2.150568e+00</td>\n",
       "      <td>2.495710e+00</td>\n",
       "      <td>8.665112e+00</td>\n",
       "      <td>2.689034e+00</td>\n",
       "      <td>4.173276e+00</td>\n",
       "      <td>4.313628e+00</td>\n",
       "    </tr>\n",
       "  </tbody>\n",
       "</table>\n",
       "<p>8 rows × 44 columns</p>\n",
       "</div>"
      ],
      "text/plain": [
       "                 0             1             2             3             4   \\\n",
       "count  1.946300e+04  1.946300e+04  1.946300e+04  1.946300e+04  1.946300e+04   \n",
       "mean  -3.241568e-16 -7.565651e-17 -1.213691e-17 -1.344605e-18 -4.788454e-16   \n",
       "std    1.000000e+00  1.000000e+00  1.000000e+00  1.000000e+00  1.000000e+00   \n",
       "min   -2.964832e+00 -9.306241e-01 -1.423415e+00 -9.227472e-02 -2.394807e+00   \n",
       "25%   -7.131660e-01 -6.400480e-01 -4.408457e-01 -8.743737e-02 -5.045373e-01   \n",
       "50%   -4.291571e-01 -2.279236e-01 -4.162489e-01 -7.016229e-02  2.495426e-01   \n",
       "75%    5.915674e-01  2.854243e-01  1.034547e-01 -3.619530e-02  6.664302e-01   \n",
       "max    5.660268e+00  1.864953e+01  4.645856e+01  7.021641e+01  2.644110e+00   \n",
       "\n",
       "                 5             6             7             8             9   \\\n",
       "count  1.946300e+04  1.946300e+04  1.946300e+04  1.946300e+04  1.946300e+04   \n",
       "mean  -7.085176e-15 -2.150226e-17 -1.086408e-16 -1.403252e-17  1.324419e-16   \n",
       "std    1.000000e+00  1.000000e+00  1.000000e+00  1.000000e+00  1.000000e+00   \n",
       "min   -2.565819e+00 -1.534324e+00 -1.916694e+00 -2.194439e+00 -1.985390e+00   \n",
       "25%   -7.511379e-01 -7.506569e-01 -8.062937e-01 -6.103556e-01 -7.284562e-01   \n",
       "50%   -8.283605e-02 -3.939529e-01 -2.196105e-01 -1.330766e-01 -3.079454e-01   \n",
       "75%    7.686659e-01  7.451892e-01  7.470607e-01  4.990422e-01  4.668119e-01   \n",
       "max    9.495413e+00  2.084891e+00  3.204216e+00  2.566722e+00  2.717839e+00   \n",
       "\n",
       "       ...            34            35            36            37  \\\n",
       "count  ...  1.946300e+04  1.946300e+04  1.946300e+04  1.946300e+04   \n",
       "mean   ...  1.638724e-16 -6.957504e-17  2.956069e-16  2.759286e-16   \n",
       "std    ...  1.000000e+00  1.000000e+00  1.000000e+00  1.000000e+00   \n",
       "min    ... -9.744286e-01 -2.165889e+00 -2.115689e+00 -7.739913e-01   \n",
       "25%    ... -7.876100e-01 -9.439097e-01 -8.627968e-01 -3.770494e-01   \n",
       "50%    ... -6.655354e-01  2.423249e-01 -3.286381e-01 -2.142832e-01   \n",
       "75%    ...  1.267316e+00  8.995661e-01  9.737394e-01 -6.275933e-02   \n",
       "max    ...  1.625742e+00  4.167793e+00  4.081716e+00  6.844987e+00   \n",
       "\n",
       "                 38            39            40            41            42  \\\n",
       "count  1.946300e+04  1.946300e+04  1.946300e+04  1.946300e+04  1.946300e+04   \n",
       "mean  -1.907624e-16 -1.586929e-16 -1.142837e-16  9.293405e-17  2.981296e-16   \n",
       "std    1.000000e+00  1.000000e+00  1.000000e+00  1.000000e+00  1.000000e+00   \n",
       "min   -1.341694e+00 -9.102163e-01 -6.019898e-01 -2.344854e+00 -1.572899e+00   \n",
       "25%   -5.779003e-01 -5.207266e-01 -3.291940e-01 -4.066425e-01 -4.688027e-01   \n",
       "50%   -4.869560e-01 -4.460302e-01 -2.543947e-01 -3.519362e-01 -2.490030e-01   \n",
       "75%   -3.531081e-01 -3.148830e-01 -1.341181e-01 -2.856906e-01 -4.158828e-02   \n",
       "max    2.150568e+00  2.495710e+00  8.665112e+00  2.689034e+00  4.173276e+00   \n",
       "\n",
       "                 43  \n",
       "count  1.946300e+04  \n",
       "mean   3.521249e-17  \n",
       "std    1.000000e+00  \n",
       "min   -4.625990e-01  \n",
       "25%   -2.766800e-01  \n",
       "50%   -2.373290e-01  \n",
       "75%   -1.956186e-01  \n",
       "max    4.313628e+00  \n",
       "\n",
       "[8 rows x 44 columns]"
      ]
     },
     "execution_count": 84,
     "metadata": {},
     "output_type": "execute_result"
    }
   ],
   "source": [
    "datpa=pd.DataFrame(features_pca)\n",
    "datpa.describe()"
   ]
  },
  {
   "cell_type": "markdown",
   "metadata": {},
   "source": [
    "create dummies"
   ]
  },
  {
   "cell_type": "code",
   "execution_count": 85,
   "metadata": {},
   "outputs": [
    {
     "data": {
      "text/plain": [
       "\"categorical= ['PB150: SEX', 'PB190: MARITAL STATUS',\\n       'PB200: CONSENSUAL UNION', 'PB220A: CITIZENSHIP',\\n       'PE010: CURRENT EDUCATION ACTIVITY',\\n       'PL031: SELF-DEFINED CURRENT ECONOMIC STATUS',\\n       'PL035: WORKED AT LEAST 1 HOUR DURING THE PREVIOUS WEEK',\\n       'PL051: OCCUPATION (ISCO-08 (COM))', 'PL150: MANAGERIAL POSITION',\\n        'PH030: LIMITATION IN ACTIVITIES BECAUSE OF HEALTH PROBLEMS',\\n       'PH040: UNMET NEED FOR MEDICAL EXAMINATION OR TREATMENT',\\n       'PH060: UNMET NEED FOR DENTAL EXAMINATION OR TREATMENT',\\n       'PD020: Replace worn-out clothes by some new (not second-hand) ones',\\n       'PD030: Two pairs of properly fitting shoes',\\n       'PD050: Get-together with friends/family (relatives) for a drink/meal at least once a month',\\n       'PD060: Regularly participate in a leisure activity',\\n       'PD070: Spend a small amount of money each week on yourself',\\n       'PD080: Internet connection for personal use at home',\\n      ]\\n\\ncreate_dummy=set(featureslist).intersection(categorical)\\n\\ndata_dummy = pd.get_dummies(data, columns=create_dummy, drop_first=True)\\ndata_dummy.columns\\n\""
      ]
     },
     "execution_count": 85,
     "metadata": {},
     "output_type": "execute_result"
    }
   ],
   "source": [
    "\"\"\"categorical= ['PB150: SEX', 'PB190: MARITAL STATUS',\n",
    "       'PB200: CONSENSUAL UNION', 'PB220A: CITIZENSHIP',\n",
    "       'PE010: CURRENT EDUCATION ACTIVITY',\n",
    "       'PL031: SELF-DEFINED CURRENT ECONOMIC STATUS',\n",
    "       'PL035: WORKED AT LEAST 1 HOUR DURING THE PREVIOUS WEEK',\n",
    "       'PL051: OCCUPATION (ISCO-08 (COM))', 'PL150: MANAGERIAL POSITION',\n",
    "        'PH030: LIMITATION IN ACTIVITIES BECAUSE OF HEALTH PROBLEMS',\n",
    "       'PH040: UNMET NEED FOR MEDICAL EXAMINATION OR TREATMENT',\n",
    "       'PH060: UNMET NEED FOR DENTAL EXAMINATION OR TREATMENT',\n",
    "       'PD020: Replace worn-out clothes by some new (not second-hand) ones',\n",
    "       'PD030: Two pairs of properly fitting shoes',\n",
    "       'PD050: Get-together with friends/family (relatives) for a drink/meal at least once a month',\n",
    "       'PD060: Regularly participate in a leisure activity',\n",
    "       'PD070: Spend a small amount of money each week on yourself',\n",
    "       'PD080: Internet connection for personal use at home',\n",
    "      ]\n",
    "\n",
    "create_dummy=set(featureslist).intersection(categorical)\n",
    "\n",
    "data_dummy = pd.get_dummies(data, columns=create_dummy, drop_first=True)\n",
    "data_dummy.columns\n",
    "\"\"\""
   ]
  },
  {
   "cell_type": "code",
   "execution_count": 86,
   "metadata": {},
   "outputs": [
    {
     "data": {
      "text/plain": [
       "'# use dummy:\\ndata = data_dummy\\n\\n# not use dummy:\\n#data = data =pd.merge(features, outcome, left_index=True, right_index=True)\\n'"
      ]
     },
     "execution_count": 86,
     "metadata": {},
     "output_type": "execute_result"
    }
   ],
   "source": [
    "\"\"\"# use dummy:\n",
    "data = data_dummy\n",
    "\n",
    "# not use dummy:\n",
    "#data = data =pd.merge(features, outcome, left_index=True, right_index=True)\n",
    "\"\"\""
   ]
  },
  {
   "cell_type": "markdown",
   "metadata": {},
   "source": [
    "# 2. Regression"
   ]
  },
  {
   "cell_type": "markdown",
   "metadata": {},
   "source": [
    "#### <font color=red>here decide how to bin y: </font>"
   ]
  },
  {
   "cell_type": "code",
   "execution_count": 87,
   "metadata": {
    "scrolled": true
   },
   "outputs": [],
   "source": [
    "#y_binned=y.apply(lambda x: 0if (x <=5) & (x!=-1) else 1)\n",
    "#y_binned.unique()"
   ]
  },
  {
   "cell_type": "code",
   "execution_count": 88,
   "metadata": {
    "scrolled": true
   },
   "outputs": [],
   "source": [
    "#y_binned.hist()\n"
   ]
  },
  {
   "cell_type": "markdown",
   "metadata": {},
   "source": [
    "## 2.2. Scale"
   ]
  },
  {
   "cell_type": "markdown",
   "metadata": {},
   "source": [
    "#### <font color=red>here decide to scale x or not and if yes which one: </font>"
   ]
  },
  {
   "cell_type": "code",
   "execution_count": 89,
   "metadata": {},
   "outputs": [
    {
     "data": {
      "text/plain": [
       "(19463, 45)"
      ]
     },
     "execution_count": 89,
     "metadata": {},
     "output_type": "execute_result"
    }
   ],
   "source": [
    "### scaler\n",
    "scaler = StandardScaler()\n",
    "X_std = scaler.fit_transform(X)\n",
    "X_std.shape\n"
   ]
  },
  {
   "cell_type": "code",
   "execution_count": 90,
   "metadata": {
    "scrolled": true
   },
   "outputs": [
    {
     "data": {
      "text/plain": [
       "(19463, 45)"
      ]
     },
     "execution_count": 90,
     "metadata": {},
     "output_type": "execute_result"
    }
   ],
   "source": [
    "scaler = MinMaxScaler(feature_range=(0, 1))\n",
    "X_minmax = scaler.fit_transform(X)\n",
    "X_minmax.shape\n"
   ]
  },
  {
   "cell_type": "markdown",
   "metadata": {},
   "source": [
    "## 2.3 Split"
   ]
  },
  {
   "cell_type": "markdown",
   "metadata": {},
   "source": [
    "## 2.4 run different models"
   ]
  },
  {
   "cell_type": "markdown",
   "metadata": {},
   "source": [
    "#### a)  Linear Regression Model"
   ]
  },
  {
   "cell_type": "code",
   "execution_count": 91,
   "metadata": {},
   "outputs": [
    {
     "data": {
      "text/plain": [
       "'\\nlm = LinearRegression()\\nmodel = lm.fit(X_train,y_train)\\n\\nprint(\"Intercept: \", lm.intercept_)\\nprint(\"Coef: \", lm.coef_)\\n\\ny_pred  = lm.predict(X_test)\\n'"
      ]
     },
     "execution_count": 91,
     "metadata": {},
     "output_type": "execute_result"
    }
   ],
   "source": [
    "\"\"\"\n",
    "lm = LinearRegression()\n",
    "model = lm.fit(X_train,y_train)\n",
    "\n",
    "print(\"Intercept: \", lm.intercept_)\n",
    "print(\"Coef: \", lm.coef_)\n",
    "\n",
    "y_pred  = lm.predict(X_test)\n",
    "\"\"\""
   ]
  },
  {
   "cell_type": "code",
   "execution_count": 92,
   "metadata": {},
   "outputs": [],
   "source": [
    "#mean_absolute_error(y_test, y_pred)"
   ]
  },
  {
   "cell_type": "code",
   "execution_count": 93,
   "metadata": {},
   "outputs": [],
   "source": [
    "#mean_squared_error(y_test, y_pred)"
   ]
  },
  {
   "cell_type": "code",
   "execution_count": 94,
   "metadata": {},
   "outputs": [],
   "source": [
    "#r2_score(y_test, y_pred)"
   ]
  },
  {
   "cell_type": "markdown",
   "metadata": {},
   "source": [
    "## Split for polynomial"
   ]
  },
  {
   "cell_type": "code",
   "execution_count": 95,
   "metadata": {
    "scrolled": true
   },
   "outputs": [],
   "source": [
    "## with features_pca\n",
    "X_train, X_test, y_train, y_test = train_test_split(features_pca[:,:10], y, test_size=0.2)"
   ]
  },
  {
   "cell_type": "code",
   "execution_count": 96,
   "metadata": {},
   "outputs": [
    {
     "data": {
      "text/plain": [
       "<matplotlib.axes._subplots.AxesSubplot at 0x188973dbe48>"
      ]
     },
     "execution_count": 96,
     "metadata": {},
     "output_type": "execute_result"
    },
    {
     "data": {
      "image/png": "[encoded data removed]",
      "text/plain": [
       "<Figure size 432x288 with 1 Axes>"
      ]
     },
     "metadata": {
      "needs_background": "light"
     },
     "output_type": "display_data"
    }
   ],
   "source": [
    "y_train.hist()"
   ]
  },
  {
   "cell_type": "markdown",
   "metadata": {},
   "source": [
    "#### c)  Taylor (pipeline)"
   ]
  },
  {
   "cell_type": "code",
   "execution_count": 97,
   "metadata": {
    "scrolled": true
   },
   "outputs": [
    {
     "data": {
      "text/plain": [
       "'for k in range(1,7):\\n    poly_model = make_pipeline (StandardScaler(), PolynomialFeatures(degree=k), LinearRegression())# include_bias = False, interaction_only = True\\n    model = poly_model.fit(X_train, y_train)\\n    \\n    \\n    #print(poly_model.score(X_test, y_test))\\n\\n    y_pred  = poly_model.predict(X_test)\\n    print(k, mean_squared_error(y_test, y_pred), r2_score(y_test, y_pred))\\n'"
      ]
     },
     "execution_count": 97,
     "metadata": {},
     "output_type": "execute_result"
    }
   ],
   "source": [
    "\"\"\"for k in range(1,7):\n",
    "    poly_model = make_pipeline (StandardScaler(), PolynomialFeatures(degree=k), LinearRegression())# include_bias = False, interaction_only = True\n",
    "    model = poly_model.fit(X_train, y_train)\n",
    "    \n",
    "    \n",
    "    #print(poly_model.score(X_test, y_test))\n",
    "\n",
    "    y_pred  = poly_model.predict(X_test)\n",
    "    print(k, mean_squared_error(y_test, y_pred), r2_score(y_test, y_pred))\n",
    "\"\"\""
   ]
  },
  {
   "cell_type": "code",
   "execution_count": 98,
   "metadata": {},
   "outputs": [
    {
     "data": {
      "text/plain": [
       "'\\nResult with features pca all\\n1 12.639222470953477 -0.004191237106780044\\n2 13.596191359963083 -0.0802227948023353\\n...\\n\\nResult with 20 columns of the pca\\n1 12.691280289024979 0.0005084332200716579\\n2 12.847189383387747 -0.011770062049994978\\n3 740.225607485154 -57.295872074920545\\n...\\n\\nResult with 10 columns of the pca\\n1 12.79045153818512 -0.0007991417943655765\\n2 12.835876597887085 -0.004353462033175326\\n3 13.669013797103895 -0.0695429505734253\\n4 2918698854143.3833 -228375933378.8603\\n5 1.8400454397274128e+17 -1.4397583161502128e+16\\n'"
      ]
     },
     "execution_count": 98,
     "metadata": {},
     "output_type": "execute_result"
    }
   ],
   "source": [
    "\"\"\"\n",
    "Result with features pca all\n",
    "1 12.639222470953477 -0.004191237106780044\n",
    "2 13.596191359963083 -0.0802227948023353\n",
    "...\n",
    "\n",
    "Result with 20 columns of the pca\n",
    "1 12.691280289024979 0.0005084332200716579\n",
    "2 12.847189383387747 -0.011770062049994978\n",
    "3 740.225607485154 -57.295872074920545\n",
    "...\n",
    "\n",
    "Result with 10 columns of the pca\n",
    "1 12.79045153818512 -0.0007991417943655765\n",
    "2 12.835876597887085 -0.004353462033175326\n",
    "3 13.669013797103895 -0.0695429505734253\n",
    "4 2918698854143.3833 -228375933378.8603\n",
    "5 1.8400454397274128e+17 -1.4397583161502128e+16\n",
    "\"\"\""
   ]
  },
  {
   "cell_type": "code",
   "execution_count": 99,
   "metadata": {},
   "outputs": [
    {
     "data": {
      "text/plain": [
       "5.722578987927048"
      ]
     },
     "execution_count": 99,
     "metadata": {},
     "output_type": "execute_result"
    }
   ],
   "source": [
    "mean_absolute_error(y_test, y_pred)"
   ]
  },
  {
   "cell_type": "code",
   "execution_count": 100,
   "metadata": {
    "scrolled": true
   },
   "outputs": [
    {
     "data": {
      "text/plain": [
       "39.44669920369895"
      ]
     },
     "execution_count": 100,
     "metadata": {},
     "output_type": "execute_result"
    }
   ],
   "source": [
    "mean_squared_error(y_test, y_pred)"
   ]
  },
  {
   "cell_type": "code",
   "execution_count": 101,
   "metadata": {},
   "outputs": [
    {
     "data": {
      "text/plain": [
       "-2.084028860693102"
      ]
     },
     "execution_count": 101,
     "metadata": {},
     "output_type": "execute_result"
    }
   ],
   "source": [
    "r2_score(y_test, y_pred)"
   ]
  },
  {
   "cell_type": "markdown",
   "metadata": {},
   "source": [
    "#### c)  Regression Tree"
   ]
  },
  {
   "cell_type": "code",
   "execution_count": 102,
   "metadata": {},
   "outputs": [
    {
     "data": {
      "text/plain": [
       "-0.9744564647637044"
      ]
     },
     "execution_count": 102,
     "metadata": {},
     "output_type": "execute_result"
    }
   ],
   "source": [
    "regr = DecisionTreeRegressor(random_state = 29)\n",
    "\n",
    "model = regr.fit(X_train, y_train)\n",
    "\n",
    "y_pred  = regr.predict(X_test)\n",
    "regr.score(X_test, y_test)"
   ]
  },
  {
   "cell_type": "code",
   "execution_count": 103,
   "metadata": {},
   "outputs": [],
   "source": [
    "#r = export_text(regr, feature_names=list(X.columns))\n",
    "#print(r)"
   ]
  },
  {
   "cell_type": "code",
   "execution_count": 104,
   "metadata": {},
   "outputs": [
    {
     "data": {
      "text/plain": [
       "3.7677883380426405"
      ]
     },
     "execution_count": 104,
     "metadata": {},
     "output_type": "execute_result"
    }
   ],
   "source": [
    "mean_absolute_error(y_test, y_pred)"
   ]
  },
  {
   "cell_type": "code",
   "execution_count": 105,
   "metadata": {},
   "outputs": [
    {
     "data": {
      "text/plain": [
       "25.25455946570768"
      ]
     },
     "execution_count": 105,
     "metadata": {},
     "output_type": "execute_result"
    }
   ],
   "source": [
    "mean_squared_error(y_test, y_pred)"
   ]
  },
  {
   "cell_type": "code",
   "execution_count": 106,
   "metadata": {},
   "outputs": [
    {
     "data": {
      "text/plain": [
       "-0.9744564647637044"
      ]
     },
     "execution_count": 106,
     "metadata": {},
     "output_type": "execute_result"
    }
   ],
   "source": [
    "r2_score(y_test, y_pred)\n"
   ]
  },
  {
   "cell_type": "markdown",
   "metadata": {},
   "source": [
    "In the rare cases you get a negative r squared value, you should probably rethink your regression analysis, especially if you are forcing an intercept."
   ]
  },
  {
   "cell_type": "markdown",
   "metadata": {},
   "source": [
    "#### d)  KNeighborsRegressor"
   ]
  },
  {
   "cell_type": "code",
   "execution_count": 107,
   "metadata": {},
   "outputs": [],
   "source": [
    "knnr = KNeighborsRegressor(n_neighbors = 3)\n",
    "\n",
    "model = knnr.fit(X_train, y_train)  #fit the model\n",
    "y_pred = knnr.predict(X_test)\n"
   ]
  },
  {
   "cell_type": "code",
   "execution_count": 108,
   "metadata": {},
   "outputs": [
    {
     "data": {
      "text/plain": [
       "3.262265604931929"
      ]
     },
     "execution_count": 108,
     "metadata": {},
     "output_type": "execute_result"
    }
   ],
   "source": [
    "mean_absolute_error(y_test, y_pred)"
   ]
  },
  {
   "cell_type": "code",
   "execution_count": 109,
   "metadata": {},
   "outputs": [
    {
     "data": {
      "text/plain": [
       "17.11567771213289"
      ]
     },
     "execution_count": 109,
     "metadata": {},
     "output_type": "execute_result"
    }
   ],
   "source": [
    "mean_squared_error(y_test, y_pred)"
   ]
  },
  {
   "cell_type": "code",
   "execution_count": 110,
   "metadata": {},
   "outputs": [
    {
     "data": {
      "text/plain": [
       "-0.3381409623644711"
      ]
     },
     "execution_count": 110,
     "metadata": {},
     "output_type": "execute_result"
    }
   ],
   "source": [
    "r2_score(y_test, y_pred)"
   ]
  },
  {
   "cell_type": "markdown",
   "metadata": {},
   "source": [
    "# 3. optimize recursive feature elimination (RFE)"
   ]
  },
  {
   "cell_type": "code",
   "execution_count": 111,
   "metadata": {},
   "outputs": [],
   "source": [
    "## recursive feature elimination.\n",
    "# initialize an RFE model using the `auto_model` linear regression model. Set `n_features_to_select=3`"
   ]
  },
  {
   "cell_type": "markdown",
   "metadata": {},
   "source": [
    "Fit the model and print the ranking"
   ]
  },
  {
   "cell_type": "code",
   "execution_count": 112,
   "metadata": {},
   "outputs": [
    {
     "data": {
      "text/plain": [
       "'auto_model = LinearRegression()\\nselector = RFE(auto_model, 5, step=1)\\nmodel = selector.fit(X_test,y_test)\\n\\n\\nselector.ranking_\\n#selector.support_'"
      ]
     },
     "execution_count": 112,
     "metadata": {},
     "output_type": "execute_result"
    }
   ],
   "source": [
    "\"\"\"auto_model = LinearRegression()\n",
    "selector = RFE(auto_model, 5, step=1)\n",
    "model = selector.fit(X_test,y_test)\n",
    "\n",
    "\n",
    "selector.ranking_\n",
    "#selector.support_\"\"\""
   ]
  },
  {
   "cell_type": "code",
   "execution_count": null,
   "metadata": {},
   "outputs": [],
   "source": []
  },
  {
   "cell_type": "code",
   "execution_count": 113,
   "metadata": {},
   "outputs": [
    {
     "data": {
      "text/plain": [
       "'rfe_col = []\\nfor x in range(len(X.columns)):\\n    if selector.ranking_[x]<=10:\\n        rfe_col.append(X.columns[x])\\nprint(len(rfe_col))\\nrfe_col'"
      ]
     },
     "execution_count": 113,
     "metadata": {},
     "output_type": "execute_result"
    }
   ],
   "source": [
    "\"\"\"rfe_col = []\n",
    "for x in range(len(X.columns)):\n",
    "    if selector.ranking_[x]<=10:\n",
    "        rfe_col.append(X.columns[x])\n",
    "print(len(rfe_col))\n",
    "rfe_col\"\"\""
   ]
  },
  {
   "cell_type": "code",
   "execution_count": null,
   "metadata": {},
   "outputs": [],
   "source": []
  },
  {
   "cell_type": "markdown",
   "metadata": {},
   "source": [
    "## 2. Classification"
   ]
  },
  {
   "cell_type": "markdown",
   "metadata": {},
   "source": [
    "### 2.1.1 prepare data"
   ]
  },
  {
   "cell_type": "code",
   "execution_count": 114,
   "metadata": {},
   "outputs": [
    {
     "data": {
      "text/plain": [
       "\"\\n### use raw data\\nXCol=list(data.columns) ## take all otherwise: columns\\noutcomelist = 'PW010' ## \\nXCol.remove(outcomelist)\\nYCol=outcomelist\\n\""
      ]
     },
     "execution_count": 114,
     "metadata": {},
     "output_type": "execute_result"
    }
   ],
   "source": [
    "\"\"\"\n",
    "### use raw data\n",
    "XCol=list(data.columns) ## take all otherwise: columns\n",
    "outcomelist = 'PW010' ## \n",
    "XCol.remove(outcomelist)\n",
    "YCol=outcomelist\n",
    "\"\"\""
   ]
  },
  {
   "cell_type": "code",
   "execution_count": 115,
   "metadata": {},
   "outputs": [],
   "source": [
    "## with features_ica\n",
    "#X =data[XCol]\n",
    "#y= data[YCol]"
   ]
  },
  {
   "cell_type": "code",
   "execution_count": 117,
   "metadata": {
    "scrolled": true
   },
   "outputs": [],
   "source": [
    "\n",
    "### use cleanded\n",
    "data = ds\n",
    "XCol= columns #\n",
    "outcomelist = 'PW010: OVERALL LIFE SATISFACTION'\n",
    "#XCol.remove(outcomelist)\n",
    "YCol=outcomelist\n",
    "X = data[XCol]\n",
    "y= data[YCol]\n"
   ]
  },
  {
   "cell_type": "code",
   "execution_count": 118,
   "metadata": {},
   "outputs": [],
   "source": [
    "## binning\n",
    "data['Y_class']= data[YCol].apply(lambda x: 1 if x>5 else 0)"
   ]
  },
  {
   "cell_type": "code",
   "execution_count": 141,
   "metadata": {},
   "outputs": [
    {
     "name": "stdout",
     "output_type": "stream",
     "text": [
      "1    0.674459\n",
      "0    0.325541\n",
      "Name: Y_class, dtype: float64\n"
     ]
    },
    {
     "data": {
      "image/png": "[encoded data removed]",
      "text/plain": [
       "<Figure size 432x288 with 1 Axes>"
      ]
     },
     "metadata": {
      "needs_background": "light"
     },
     "output_type": "display_data"
    }
   ],
   "source": [
    "data['Y_class'].hist()\n",
    "print(data['Y_class'].value_counts(normalize=True))\n",
    "y=data['Y_class']\n",
    "## --> balanced?"
   ]
  },
  {
   "cell_type": "code",
   "execution_count": 120,
   "metadata": {},
   "outputs": [
    {
     "name": "stdout",
     "output_type": "stream",
     "text": [
      "45\n",
      "PW010: OVERALL LIFE SATISFACTION\n"
     ]
    }
   ],
   "source": [
    "print(len(XCol))\n",
    "print(YCol)"
   ]
  },
  {
   "cell_type": "code",
   "execution_count": 121,
   "metadata": {},
   "outputs": [
    {
     "data": {
      "text/plain": [
       "(15570, 45)"
      ]
     },
     "execution_count": 121,
     "metadata": {},
     "output_type": "execute_result"
    }
   ],
   "source": [
    "X_train, X_test, y_train, y_test = train_test_split(X, y, test_size=0.2)\n",
    "X_train.shape\n"
   ]
  },
  {
   "cell_type": "markdown",
   "metadata": {},
   "source": [
    "#### a) Logistic Regression"
   ]
  },
  {
   "cell_type": "code",
   "execution_count": 122,
   "metadata": {},
   "outputs": [
    {
     "name": "stderr",
     "output_type": "stream",
     "text": [
      "C:\\Users\\haenni\\AppData\\Local\\Continuum\\anaconda3\\lib\\site-packages\\sklearn\\linear_model\\logistic.py:432: FutureWarning: Default solver will be changed to 'lbfgs' in 0.22. Specify a solver to silence this warning.\n",
      "  FutureWarning)\n"
     ]
    }
   ],
   "source": [
    "lr = LogisticRegression()\n",
    "lr.fit(X_train,y_train)\n",
    "\n",
    "y_pred=lr.predict(X_test)"
   ]
  },
  {
   "cell_type": "code",
   "execution_count": 123,
   "metadata": {},
   "outputs": [
    {
     "data": {
      "text/plain": [
       "0.6660673002825584"
      ]
     },
     "execution_count": 123,
     "metadata": {},
     "output_type": "execute_result"
    }
   ],
   "source": [
    "acc = lr.score(X_test,y_test)\n",
    "acc"
   ]
  },
  {
   "cell_type": "code",
   "execution_count": 124,
   "metadata": {},
   "outputs": [
    {
     "name": "stdout",
     "output_type": "stream",
     "text": [
      "accuracy: 66.61\n",
      "precision: nan\n"
     ]
    },
    {
     "name": "stderr",
     "output_type": "stream",
     "text": [
      "C:\\Users\\haenni\\AppData\\Local\\Continuum\\anaconda3\\lib\\site-packages\\ipykernel_launcher.py:4: RuntimeWarning: invalid value encountered in longlong_scalars\n",
      "  after removing the cwd from sys.path.\n"
     ]
    },
    {
     "data": {
      "text/plain": [
       "array([[   0, 1300],\n",
       "       [   0, 2593]], dtype=int64)"
      ]
     },
     "execution_count": 124,
     "metadata": {},
     "output_type": "execute_result"
    }
   ],
   "source": [
    "conf=confusion_matrix(y_test, y_pred)\n",
    "\n",
    "print( \"accuracy: \"  + str(round((conf[1,1]+conf[0,0])/ conf.sum()*100,2)))\n",
    "print( \"precision: \" +str(round((conf[0,0])/ (conf[1,0]+conf[0,0])*100,2)))\n",
    "\n",
    "conf\n",
    "\n",
    "#tn,fp,fn,tp = confusion_matrix(y_test, y_pred).flatten()\n",
    "### it predicts all as 1..."
   ]
  },
  {
   "cell_type": "markdown",
   "metadata": {},
   "source": [
    "#### b) DecisionTree Classify"
   ]
  },
  {
   "cell_type": "code",
   "execution_count": 125,
   "metadata": {},
   "outputs": [
    {
     "name": "stdout",
     "output_type": "stream",
     "text": [
      "accuracy: 56.95\n",
      "precision: 35.29\n",
      "recall: 67.53\n"
     ]
    },
    {
     "data": {
      "text/plain": [
       "array([[ 451,  849],\n",
       "       [ 827, 1766]], dtype=int64)"
      ]
     },
     "execution_count": 125,
     "metadata": {},
     "output_type": "execute_result"
    }
   ],
   "source": [
    "dtc = DecisionTreeClassifier(class_weight= 'balanced', max_features= 29, splitter= 'best')#class_weight='balanced'max_features= 10, \n",
    "dtc.fit(X_train, y_train)\n",
    "y_pred = dtc.predict(X_test)\n",
    "conf=confusion_matrix(y_test, y_pred)\n",
    "\n",
    "print( \"accuracy: \"  + str(round((conf[1,1]+conf[0,0])/ conf.sum()*100,2)))\n",
    "print( \"precision: \" +str(round((conf[0,0])/ (conf[1,0]+conf[0,0])*100,2)))\n",
    "print( \"recall: \" +str(round((conf[1,1])/ (conf[0,1]+conf[1,1])*100,2)))\n",
    "conf"
   ]
  },
  {
   "cell_type": "code",
   "execution_count": 136,
   "metadata": {},
   "outputs": [
    {
     "data": {
      "text/plain": [
       "{'class_weight': 'balanced', 'max_features': 6, 'splitter': 'best'}"
      ]
     },
     "execution_count": 136,
     "metadata": {},
     "output_type": "execute_result"
    }
   ],
   "source": [
    "\n",
    "param_grid={'splitter': ['best','random'], 'class_weight': [\"balanced\"], 'max_features': range(1,30)}\n",
    "dtc = DecisionTreeClassifier()\n",
    "dtc_cv = GridSearchCV(dtc, param_grid, scoring='accuracy',  cv=7,  n_jobs=-1)#eed = True,\n",
    "dtc_cv.fit(X_train, y_train)\n",
    "dtc_cv.best_params_"
   ]
  },
  {
   "cell_type": "code",
   "execution_count": null,
   "metadata": {},
   "outputs": [],
   "source": []
  },
  {
   "cell_type": "code",
   "execution_count": 138,
   "metadata": {},
   "outputs": [
    {
     "name": "stdout",
     "output_type": "stream",
     "text": [
      "accuracy: 55.59\n",
      "precision: 33.41\n",
      "recall: 66.62\n"
     ]
    },
    {
     "data": {
      "text/plain": [
       "array([[ 432,  868],\n",
       "       [ 861, 1732]], dtype=int64)"
      ]
     },
     "execution_count": 138,
     "metadata": {},
     "output_type": "execute_result"
    }
   ],
   "source": [
    "dtc = DecisionTreeClassifier(class_weight='balanced' ,max_features= 6, splitter= 'best')#class_weight='balanced'max_features= 10, \n",
    "dtc.fit(X_train, y_train)\n",
    "y_pred = dtc.predict(X_test)\n",
    "conf=confusion_matrix(y_test, y_pred)\n",
    "\n",
    "print( \"accuracy: \"  + str(round((conf[1,1]+conf[0,0])/ conf.sum()*100,2)))\n",
    "print( \"precision: \" +str(round((conf[0,0])/ (conf[1,0]+conf[0,0])*100,2)))\n",
    "print( \"recall: \" +str(round((conf[1,1])/ (conf[0,1]+conf[1,1])*100,2)))\n",
    "conf"
   ]
  },
  {
   "cell_type": "code",
   "execution_count": null,
   "metadata": {},
   "outputs": [],
   "source": [
    "## try with pca"
   ]
  },
  {
   "cell_type": "code",
   "execution_count": 50,
   "metadata": {},
   "outputs": [],
   "source": [
    "#data = ds\n",
    "outcomelist = 'PW010: OVERALL LIFE SATISFACTION'\n",
    "X = features_pca\n",
    "y= data[YCol]"
   ]
  },
  {
   "cell_type": "code",
   "execution_count": 51,
   "metadata": {},
   "outputs": [],
   "source": [
    "## binning\n",
    "data['Y_class']= data[YCol].apply(lambda x: 1 if x>5 else 0)\n",
    "y=data['Y_class']"
   ]
  },
  {
   "cell_type": "code",
   "execution_count": 52,
   "metadata": {},
   "outputs": [
    {
     "data": {
      "text/plain": [
       "(15570, 44)"
      ]
     },
     "execution_count": 52,
     "metadata": {},
     "output_type": "execute_result"
    }
   ],
   "source": [
    "X_train, X_test, y_train, y_test = train_test_split(X, y, test_size=0.2)\n",
    "X_train.shape"
   ]
  },
  {
   "cell_type": "code",
   "execution_count": 53,
   "metadata": {},
   "outputs": [
    {
     "name": "stdout",
     "output_type": "stream",
     "text": [
      "accuracy: 55.07\n",
      "precision: 30.78\n",
      "recall: 66.97\n"
     ]
    },
    {
     "data": {
      "text/plain": [
       "array([[ 394,  863],\n",
       "       [ 886, 1750]], dtype=int64)"
      ]
     },
     "execution_count": 53,
     "metadata": {},
     "output_type": "execute_result"
    }
   ],
   "source": [
    "dtc = DecisionTreeClassifier(class_weight= 'balanced', max_features= 29, splitter= 'best')#class_weight='balanced'max_features= 10, \n",
    "dtc.fit(X_train, y_train)\n",
    "y_pred = dtc.predict(X_test)\n",
    "conf=confusion_matrix(y_test, y_pred)\n",
    "print( \"accuracy: \"  + str(round((conf[1,1]+conf[0,0])/ conf.sum()*100,2)))\n",
    "print( \"precision: \" +str(round((conf[0,0])/ (conf[1,0]+conf[0,0])*100,2)))\n",
    "print( \"recall: \" +str(round((conf[1,1])/ (conf[0,1]+conf[1,1])*100,2)))\n",
    "conf"
   ]
  },
  {
   "cell_type": "code",
   "execution_count": 54,
   "metadata": {},
   "outputs": [
    {
     "name": "stderr",
     "output_type": "stream",
     "text": [
      "C:\\Users\\haenni\\AppData\\Local\\Continuum\\anaconda3\\lib\\site-packages\\sklearn\\model_selection\\_split.py:1978: FutureWarning: The default value of cv will change from 3 to 5 in version 0.22. Specify it explicitly to silence this warning.\n",
      "  warnings.warn(CV_WARNING, FutureWarning)\n"
     ]
    },
    {
     "data": {
      "text/plain": [
       "{'class_weight': 'balanced', 'max_features': 12, 'splitter': 'best'}"
      ]
     },
     "execution_count": 54,
     "metadata": {},
     "output_type": "execute_result"
    }
   ],
   "source": [
    "param_grid={'splitter': ['best','random'], 'class_weight': [\"balanced\"], 'max_features': range(4,30)}\n",
    "dtc = DecisionTreeClassifier()\n",
    "dtc_cv = GridSearchCV(dtc, param_grid)\n",
    "dtc_cv.fit(X_train, y_train)\n",
    "dtc_cv.best_params_"
   ]
  },
  {
   "cell_type": "code",
   "execution_count": null,
   "metadata": {},
   "outputs": [],
   "source": []
  },
  {
   "cell_type": "code",
   "execution_count": null,
   "metadata": {},
   "outputs": [],
   "source": []
  },
  {
   "cell_type": "markdown",
   "metadata": {},
   "source": [
    "#### c) Support Vector Maschine"
   ]
  },
  {
   "cell_type": "code",
   "execution_count": 359,
   "metadata": {},
   "outputs": [
    {
     "name": "stderr",
     "output_type": "stream",
     "text": [
      "C:\\Users\\haenni\\AppData\\Local\\Continuum\\anaconda3\\lib\\site-packages\\sklearn\\svm\\base.py:193: FutureWarning: The default value of gamma will change from 'auto' to 'scale' in version 0.22 to account better for unscaled features. Set gamma explicitly to 'auto' or 'scale' to avoid this warning.\n",
      "  \"avoid this warning.\", FutureWarning)\n"
     ]
    }
   ],
   "source": [
    "svm = SVC()\n",
    "svm.fit(X_train, y_train)\n",
    "y_pred = svm.predict(X_test)\n"
   ]
  },
  {
   "cell_type": "code",
   "execution_count": 291,
   "metadata": {},
   "outputs": [
    {
     "name": "stdout",
     "output_type": "stream",
     "text": [
      "SVM Algorithm Test Accuracy 79.48%\n"
     ]
    }
   ],
   "source": [
    "acc = svm.score(X_test,y_test)*100\n",
    "print(f\"SVM Algorithm Test Accuracy {round(acc, 2)}%\")"
   ]
  },
  {
   "cell_type": "code",
   "execution_count": 292,
   "metadata": {},
   "outputs": [
    {
     "name": "stdout",
     "output_type": "stream",
     "text": [
      "accuracy: 79.48\n",
      "precision: 79.48\n"
     ]
    },
    {
     "data": {
      "text/plain": [
       "array([[3094,    0],\n",
       "       [ 799,    0]], dtype=int64)"
      ]
     },
     "execution_count": 292,
     "metadata": {},
     "output_type": "execute_result"
    }
   ],
   "source": [
    "conf=confusion_matrix(y_test, y_pred)\n",
    "\n",
    "print( \"accuracy: \"  + str(round((conf[1,1]+conf[0,0])/ conf.sum()*100,2)))\n",
    "print( \"precision: \" +str(round((conf[0,0])/ (conf[1,0]+conf[0,0])*100,2)))\n",
    "conf"
   ]
  },
  {
   "cell_type": "markdown",
   "metadata": {},
   "source": []
  },
  {
   "cell_type": "markdown",
   "metadata": {},
   "source": [
    "#### d) K-Nearest Neighbour"
   ]
  },
  {
   "cell_type": "code",
   "execution_count": 360,
   "metadata": {},
   "outputs": [],
   "source": [
    "knn = KNeighborsClassifier(n_neighbors = 2)  # n_neighbors means k\n",
    "knn.fit(X_train, y_train)\n",
    "y_pred = knn.predict(X_test)"
   ]
  },
  {
   "cell_type": "code",
   "execution_count": 361,
   "metadata": {},
   "outputs": [
    {
     "data": {
      "text/plain": [
       "76.75314667351657"
      ]
     },
     "execution_count": 361,
     "metadata": {},
     "output_type": "execute_result"
    }
   ],
   "source": [
    "acc = knn.score(X_test, y_test)*100\n",
    "acc"
   ]
  },
  {
   "cell_type": "code",
   "execution_count": 362,
   "metadata": {},
   "outputs": [
    {
     "name": "stdout",
     "output_type": "stream",
     "text": [
      "accuracy: 76.75\n",
      "precision: 79.09\n"
     ]
    },
    {
     "data": {
      "text/plain": [
       "array([[2951,  125],\n",
       "       [ 780,   37]], dtype=int64)"
      ]
     },
     "execution_count": 362,
     "metadata": {},
     "output_type": "execute_result"
    }
   ],
   "source": [
    "conf=confusion_matrix(y_test, y_pred)\n",
    "\n",
    "print( \"accuracy: \"  + str(round((conf[1,1]+conf[0,0])/ conf.sum()*100,2)))\n",
    "print( \"precision: \" +str(round((conf[0,0])/ (conf[1,0]+conf[0,0])*100,2)))\n",
    "conf"
   ]
  },
  {
   "cell_type": "raw",
   "metadata": {},
   "source": [
    "### conclusion\n",
    "\n",
    "- Decision Tree classifier  and K-Nehigbours have the most balanced confusion matrix.\n",
    "- The results are pretty much the same for the cleaned and the raw datas\n",
    "- because i only end up with 457 raws with the raw data, i contiune the optimizing of the model with the cleaned data"
   ]
  },
  {
   "cell_type": "code",
   "execution_count": null,
   "metadata": {},
   "outputs": [],
   "source": []
  },
  {
   "cell_type": "markdown",
   "metadata": {},
   "source": [
    "Process\t(backup)\n",
    "\n",
    "•\tSimbalance checking (undersampling, oversamplingML umbalanced data lib)\n",
    "\n",
    "•\tSplit --> X_tr, y_tr, / X_ts,  y_ts\n",
    "\n",
    "•\tTry few models (with different algorithms) (<-- pipeline)\n",
    "\n",
    "    –\tInitialization\n",
    "\n",
    "    –\tFit / predict\n",
    "\n",
    "    –\tEvaluation (overfitting / underfitting)\n",
    "\n",
    "•\tChoose best option based on requirements\n",
    "\n",
    "•\tOptimize the model\n",
    "\n",
    "    –\tCross -validation\n",
    "\n",
    "    –\tTry few models (with same way to approach problem)\n",
    "\n",
    "        o\tInit\n",
    "\n",
    "        o\tFit.(predict)\n",
    "\n",
    "        o\tEvaluation\n",
    "\n",
    "    –\tHpyertuning\n"
   ]
  },
  {
   "cell_type": "markdown",
   "metadata": {},
   "source": [
    "##### Optimize Model"
   ]
  },
  {
   "cell_type": "code",
   "execution_count": null,
   "metadata": {},
   "outputs": [],
   "source": [
    "#### b) DecisionTree Classify\n",
    "\n",
    "dtc = DecisionTreeClassifier()\n",
    "dtc.fit(X_train, y_train)\n",
    "y_pred = dtc.predict(X_test)\n",
    "\n",
    "acc = dtc.score(X_test, y_test)*100\n",
    "print(f\"Decision Tree Test Accuracy {round(acc, 2)}%\")\n",
    "\n",
    "conf=confusion_matrix(y_test, y_pred)\n",
    "\n",
    "print( \"accuracy: \"  + str(round((conf[1,1]+conf[0,0])/ conf.sum()*100,2)))\n",
    "print( \"precision: \" +str(round((conf[0,0])/ (conf[1,0]+conf[0,0])*100,2)))\n",
    "\n",
    "conf"
   ]
  },
  {
   "cell_type": "code",
   "execution_count": null,
   "metadata": {},
   "outputs": [],
   "source": [
    "\"\"\"\n",
    "# example for KNN\n",
    "param_grid = {'n_neighbors': np.arange(1,15)} \n",
    "knn = neighbors.KNeighborsClassifier()\n",
    "knn_cv = GridSearchCV(knn, param_grid, cv=5)\n",
    "knn_cv.fit(X,y)\n",
    "knn_cv.best_params_\n",
    "\"\"\""
   ]
  },
  {
   "cell_type": "code",
   "execution_count": 370,
   "metadata": {},
   "outputs": [
    {
     "name": "stderr",
     "output_type": "stream",
     "text": [
      "C:\\Users\\haenni\\AppData\\Local\\Continuum\\anaconda3\\lib\\site-packages\\sklearn\\model_selection\\_split.py:1978: FutureWarning: The default value of cv will change from 3 to 5 in version 0.22. Specify it explicitly to silence this warning.\n",
      "  warnings.warn(CV_WARNING, FutureWarning)\n"
     ]
    },
    {
     "data": {
      "text/plain": [
       "{'class_weight': 'balanced'}"
      ]
     },
     "execution_count": 370,
     "metadata": {},
     "output_type": "execute_result"
    }
   ],
   "source": []
  },
  {
   "cell_type": "code",
   "execution_count": null,
   "metadata": {},
   "outputs": [],
   "source": []
  }
 ],
 "metadata": {
  "kernelspec": {
   "display_name": "Python 3",
   "language": "python",
   "name": "python3"
  },
  "language_info": {
   "codemirror_mode": {
    "name": "ipython",
    "version": 3
   },
   "file_extension": ".py",
   "mimetype": "text/x-python",
   "name": "python",
   "nbconvert_exporter": "python",
   "pygments_lexer": "ipython3",
   "version": "3.7.4"
  }
 },
 "nbformat": 4,
 "nbformat_minor": 2
}
