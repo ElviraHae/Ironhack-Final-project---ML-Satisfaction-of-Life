{
 "cells": [
  {
   "cell_type": "code",
   "execution_count": null,
   "metadata": {},
   "outputs": [],
   "source": []
  },
  {
   "cell_type": "code",
   "execution_count": 193,
   "metadata": {},
   "outputs": [],
   "source": [
    "import numpy as np\n",
    "import pandas as pd\n",
    "import matplotlib.pyplot as plt\n",
    "import seaborn as sns\n",
    "\n",
    "from pandas_profiling import ProfileReport"
   ]
  },
  {
   "cell_type": "code",
   "execution_count": 194,
   "metadata": {},
   "outputs": [],
   "source": [
    "## classification ml:\n",
    "from sklearn.linear_model import LogisticRegression\n",
    "from sklearn.model_selection import train_test_split\n",
    "from sklearn.metrics import accuracy_score\n",
    "from sklearn.tree import DecisionTreeClassifier\n",
    "from sklearn.svm import SVC\n",
    "from sklearn.neighbors import KNeighborsClassifier\n",
    "from sklearn.metrics import confusion_matrix"
   ]
  },
  {
   "cell_type": "code",
   "execution_count": 195,
   "metadata": {},
   "outputs": [],
   "source": [
    "## regression ml\n",
    "from sklearn.linear_model import LinearRegression\n",
    "from sklearn.datasets import load_boston\n",
    "from sklearn.preprocessing import PolynomialFeatures, StandardScaler\n",
    "from sklearn.model_selection import train_test_split\n",
    "from sklearn.pipeline import make_pipeline\n",
    "from sklearn.tree import DecisionTreeRegressor\n",
    "from sklearn.tree.export import export_text\n",
    "from sklearn.neighbors import KNeighborsRegressor"
   ]
  },
  {
   "cell_type": "code",
   "execution_count": 196,
   "metadata": {},
   "outputs": [],
   "source": [
    "### evaluation\n",
    "from sklearn.metrics import mean_absolute_error\n",
    "from sklearn.metrics import mean_squared_error\n",
    "from sklearn.metrics import r2_score"
   ]
  },
  {
   "cell_type": "code",
   "execution_count": 197,
   "metadata": {},
   "outputs": [],
   "source": [
    "### optimize model\n",
    "from sklearn.feature_selection import RFE"
   ]
  },
  {
   "cell_type": "code",
   "execution_count": 198,
   "metadata": {},
   "outputs": [],
   "source": [
    "ds = pd.read_csv('./data/life_satisfaction_cleaned.csv', index_col=0)"
   ]
  },
  {
   "cell_type": "markdown",
   "metadata": {},
   "source": [
    "# 1. Data Exploration"
   ]
  },
  {
   "cell_type": "markdown",
   "metadata": {},
   "source": [
    "## 2.1. Descriptive Statistics"
   ]
  },
  {
   "cell_type": "code",
   "execution_count": 199,
   "metadata": {
    "scrolled": true
   },
   "outputs": [
    {
     "data": {
      "text/html": [
       "<div>\n",
       "<style scoped>\n",
       "    .dataframe tbody tr th:only-of-type {\n",
       "        vertical-align: middle;\n",
       "    }\n",
       "\n",
       "    .dataframe tbody tr th {\n",
       "        vertical-align: top;\n",
       "    }\n",
       "\n",
       "    .dataframe thead th {\n",
       "        text-align: right;\n",
       "    }\n",
       "</style>\n",
       "<table border=\"1\" class=\"dataframe\">\n",
       "  <thead>\n",
       "    <tr style=\"text-align: right;\">\n",
       "      <th></th>\n",
       "      <th>PB030: PERSONAL ID</th>\n",
       "      <th>PB020: COUNTRY</th>\n",
       "      <th>PB010: YEAR OF THE SURVEY</th>\n",
       "      <th>PB140: YEAR OF BIRTH</th>\n",
       "      <th>PB150: SEX</th>\n",
       "      <th>PB190: MARITAL STATUS</th>\n",
       "      <th>PB200: CONSENSUAL UNION</th>\n",
       "      <th>PB220A: CITIZENSHIP</th>\n",
       "      <th>PE010: CURRENT EDUCATION ACTIVITY</th>\n",
       "      <th>PE040: HIGHEST ISCED LEVEL ATTAINED</th>\n",
       "      <th>...</th>\n",
       "      <th>PY120G: SICKNESS BENEFITS</th>\n",
       "      <th>PY130G: DISABILITY BENEFITS</th>\n",
       "      <th>PY140G: EDUCATION-RELATED ALLOWANCES</th>\n",
       "      <th>PD020: Replace worn-out clothes by some new (not second-hand) ones</th>\n",
       "      <th>PD030: Two pairs of properly fitting shoes</th>\n",
       "      <th>PD050: Get-together with friends/family (relatives) for a drink/meal at least once a month</th>\n",
       "      <th>PD060: Regularly participate in a leisure activity</th>\n",
       "      <th>PD070: Spend a small amount of money each week on yourself</th>\n",
       "      <th>PD080: Internet connection for personal use at home</th>\n",
       "      <th>PW010: OVERALL LIFE SATISFACTION</th>\n",
       "    </tr>\n",
       "  </thead>\n",
       "  <tbody>\n",
       "    <tr>\n",
       "      <td>0</td>\n",
       "      <td>35601</td>\n",
       "      <td>DE</td>\n",
       "      <td>2013</td>\n",
       "      <td>1977</td>\n",
       "      <td>1</td>\n",
       "      <td>2.0</td>\n",
       "      <td>3</td>\n",
       "      <td>0</td>\n",
       "      <td>2</td>\n",
       "      <td>3.0</td>\n",
       "      <td>...</td>\n",
       "      <td>0.0</td>\n",
       "      <td>0.0</td>\n",
       "      <td>0.0</td>\n",
       "      <td>1.0</td>\n",
       "      <td>1.0</td>\n",
       "      <td>3.0</td>\n",
       "      <td>1.0</td>\n",
       "      <td>1.0</td>\n",
       "      <td>1.0</td>\n",
       "      <td>8.0</td>\n",
       "    </tr>\n",
       "    <tr>\n",
       "      <td>1</td>\n",
       "      <td>44701</td>\n",
       "      <td>DE</td>\n",
       "      <td>2013</td>\n",
       "      <td>1936</td>\n",
       "      <td>1</td>\n",
       "      <td>2.0</td>\n",
       "      <td>1</td>\n",
       "      <td>0</td>\n",
       "      <td>2</td>\n",
       "      <td>2.0</td>\n",
       "      <td>...</td>\n",
       "      <td>0.0</td>\n",
       "      <td>0.0</td>\n",
       "      <td>0.0</td>\n",
       "      <td>2.0</td>\n",
       "      <td>3.0</td>\n",
       "      <td>1.0</td>\n",
       "      <td>1.0</td>\n",
       "      <td>1.0</td>\n",
       "      <td>1.0</td>\n",
       "      <td>7.0</td>\n",
       "    </tr>\n",
       "    <tr>\n",
       "      <td>2</td>\n",
       "      <td>59901</td>\n",
       "      <td>DE</td>\n",
       "      <td>2013</td>\n",
       "      <td>1952</td>\n",
       "      <td>2</td>\n",
       "      <td>2.0</td>\n",
       "      <td>3</td>\n",
       "      <td>0</td>\n",
       "      <td>1</td>\n",
       "      <td>5.0</td>\n",
       "      <td>...</td>\n",
       "      <td>0.0</td>\n",
       "      <td>0.0</td>\n",
       "      <td>0.0</td>\n",
       "      <td>3.0</td>\n",
       "      <td>1.0</td>\n",
       "      <td>1.0</td>\n",
       "      <td>1.0</td>\n",
       "      <td>1.0</td>\n",
       "      <td>1.0</td>\n",
       "      <td>7.0</td>\n",
       "    </tr>\n",
       "    <tr>\n",
       "      <td>3</td>\n",
       "      <td>71101</td>\n",
       "      <td>DE</td>\n",
       "      <td>2013</td>\n",
       "      <td>1938</td>\n",
       "      <td>2</td>\n",
       "      <td>2.0</td>\n",
       "      <td>3</td>\n",
       "      <td>0</td>\n",
       "      <td>2</td>\n",
       "      <td>2.0</td>\n",
       "      <td>...</td>\n",
       "      <td>0.0</td>\n",
       "      <td>0.0</td>\n",
       "      <td>0.0</td>\n",
       "      <td>3.0</td>\n",
       "      <td>1.0</td>\n",
       "      <td>1.0</td>\n",
       "      <td>3.0</td>\n",
       "      <td>1.0</td>\n",
       "      <td>1.0</td>\n",
       "      <td>6.0</td>\n",
       "    </tr>\n",
       "    <tr>\n",
       "      <td>4</td>\n",
       "      <td>79501</td>\n",
       "      <td>DE</td>\n",
       "      <td>2013</td>\n",
       "      <td>1950</td>\n",
       "      <td>2</td>\n",
       "      <td>5.0</td>\n",
       "      <td>3</td>\n",
       "      <td>0</td>\n",
       "      <td>2</td>\n",
       "      <td>3.0</td>\n",
       "      <td>...</td>\n",
       "      <td>0.0</td>\n",
       "      <td>0.0</td>\n",
       "      <td>0.0</td>\n",
       "      <td>1.0</td>\n",
       "      <td>1.0</td>\n",
       "      <td>2.0</td>\n",
       "      <td>1.0</td>\n",
       "      <td>1.0</td>\n",
       "      <td>3.0</td>\n",
       "      <td>10.0</td>\n",
       "    </tr>\n",
       "  </tbody>\n",
       "</table>\n",
       "<p>5 rows × 36 columns</p>\n",
       "</div>"
      ],
      "text/plain": [
       "   PB030: PERSONAL ID PB020: COUNTRY  PB010: YEAR OF THE SURVEY  \\\n",
       "0               35601             DE                       2013   \n",
       "1               44701             DE                       2013   \n",
       "2               59901             DE                       2013   \n",
       "3               71101             DE                       2013   \n",
       "4               79501             DE                       2013   \n",
       "\n",
       "   PB140: YEAR OF BIRTH  PB150: SEX  PB190: MARITAL STATUS  \\\n",
       "0                  1977           1                    2.0   \n",
       "1                  1936           1                    2.0   \n",
       "2                  1952           2                    2.0   \n",
       "3                  1938           2                    2.0   \n",
       "4                  1950           2                    5.0   \n",
       "\n",
       "   PB200: CONSENSUAL UNION  PB220A: CITIZENSHIP  \\\n",
       "0                        3                    0   \n",
       "1                        1                    0   \n",
       "2                        3                    0   \n",
       "3                        3                    0   \n",
       "4                        3                    0   \n",
       "\n",
       "   PE010: CURRENT EDUCATION ACTIVITY  PE040: HIGHEST ISCED LEVEL ATTAINED  \\\n",
       "0                                  2                                  3.0   \n",
       "1                                  2                                  2.0   \n",
       "2                                  1                                  5.0   \n",
       "3                                  2                                  2.0   \n",
       "4                                  2                                  3.0   \n",
       "\n",
       "   ...  PY120G: SICKNESS BENEFITS  PY130G: DISABILITY BENEFITS  \\\n",
       "0  ...                        0.0                          0.0   \n",
       "1  ...                        0.0                          0.0   \n",
       "2  ...                        0.0                          0.0   \n",
       "3  ...                        0.0                          0.0   \n",
       "4  ...                        0.0                          0.0   \n",
       "\n",
       "   PY140G: EDUCATION-RELATED ALLOWANCES  \\\n",
       "0                                   0.0   \n",
       "1                                   0.0   \n",
       "2                                   0.0   \n",
       "3                                   0.0   \n",
       "4                                   0.0   \n",
       "\n",
       "   PD020: Replace worn-out clothes by some new (not second-hand) ones  \\\n",
       "0                                                1.0                    \n",
       "1                                                2.0                    \n",
       "2                                                3.0                    \n",
       "3                                                3.0                    \n",
       "4                                                1.0                    \n",
       "\n",
       "   PD030: Two pairs of properly fitting shoes  \\\n",
       "0                                         1.0   \n",
       "1                                         3.0   \n",
       "2                                         1.0   \n",
       "3                                         1.0   \n",
       "4                                         1.0   \n",
       "\n",
       "   PD050: Get-together with friends/family (relatives) for a drink/meal at least once a month  \\\n",
       "0                                                3.0                                            \n",
       "1                                                1.0                                            \n",
       "2                                                1.0                                            \n",
       "3                                                1.0                                            \n",
       "4                                                2.0                                            \n",
       "\n",
       "   PD060: Regularly participate in a leisure activity  \\\n",
       "0                                                1.0    \n",
       "1                                                1.0    \n",
       "2                                                1.0    \n",
       "3                                                3.0    \n",
       "4                                                1.0    \n",
       "\n",
       "   PD070: Spend a small amount of money each week on yourself  \\\n",
       "0                                                1.0            \n",
       "1                                                1.0            \n",
       "2                                                1.0            \n",
       "3                                                1.0            \n",
       "4                                                1.0            \n",
       "\n",
       "   PD080: Internet connection for personal use at home  \\\n",
       "0                                                1.0     \n",
       "1                                                1.0     \n",
       "2                                                1.0     \n",
       "3                                                1.0     \n",
       "4                                                3.0     \n",
       "\n",
       "   PW010: OVERALL LIFE SATISFACTION  \n",
       "0                               8.0  \n",
       "1                               7.0  \n",
       "2                               7.0  \n",
       "3                               6.0  \n",
       "4                              10.0  \n",
       "\n",
       "[5 rows x 36 columns]"
      ]
     },
     "execution_count": 199,
     "metadata": {},
     "output_type": "execute_result"
    }
   ],
   "source": [
    "ds.head()"
   ]
  },
  {
   "cell_type": "code",
   "execution_count": 200,
   "metadata": {},
   "outputs": [
    {
     "data": {
      "text/plain": [
       "Index(['PB030: PERSONAL ID', 'PB020: COUNTRY', 'PB010: YEAR OF THE SURVEY',\n",
       "       'PB140: YEAR OF BIRTH', 'PB150: SEX', 'PB190: MARITAL STATUS',\n",
       "       'PB200: CONSENSUAL UNION', 'PB220A: CITIZENSHIP',\n",
       "       'PE010: CURRENT EDUCATION ACTIVITY',\n",
       "       'PE040: HIGHEST ISCED LEVEL ATTAINED',\n",
       "       'PL031: SELF-DEFINED CURRENT ECONOMIC STATUS',\n",
       "       'PL035: WORKED AT LEAST 1 HOUR DURING THE PREVIOUS WEEK',\n",
       "       'PL051: OCCUPATION (ISCO-08 (COM))', 'PL150: MANAGERIAL POSITION',\n",
       "       'PH010: GENERAL HEALTH',\n",
       "       'PH020: SUFFER FROM ANY A CHRONIC (LONG-STANDING) ILLNESS OR CONDITION',\n",
       "       'PH030: LIMITATION IN ACTIVITIES BECAUSE OF HEALTH PROBLEMS',\n",
       "       'PH040: UNMET NEED FOR MEDICAL EXAMINATION OR TREATMENT',\n",
       "       'PH060: UNMET NEED FOR DENTAL EXAMINATION OR TREATMENT',\n",
       "       'PY010G_PY020G_PY021G_PY050G: EMPLOYEE INCOME',\n",
       "       'PY035G: CONTRIBUTIONS TO INDIVIDUAL PRIVATE PENSION PLANS',\n",
       "       'PY080G: PENSION FROM INDIVIDUAL PRIVATE PLANS',\n",
       "       'PY090G++: SOCIAL BENEFITS', 'PY090G: UNEMPLOYMENT BENEFITS',\n",
       "       'PY100G: OLD-AGE BENEFITS', 'PY110G: SURVIVOR’ BENEFITS',\n",
       "       'PY120G: SICKNESS BENEFITS', 'PY130G: DISABILITY BENEFITS',\n",
       "       'PY140G: EDUCATION-RELATED ALLOWANCES',\n",
       "       'PD020: Replace worn-out clothes by some new (not second-hand) ones',\n",
       "       'PD030: Two pairs of properly fitting shoes',\n",
       "       'PD050: Get-together with friends/family (relatives) for a drink/meal at least once a month',\n",
       "       'PD060: Regularly participate in a leisure activity',\n",
       "       'PD070: Spend a small amount of money each week on yourself',\n",
       "       'PD080: Internet connection for personal use at home',\n",
       "       'PW010: OVERALL LIFE SATISFACTION'],\n",
       "      dtype='object')"
      ]
     },
     "execution_count": 200,
     "metadata": {},
     "output_type": "execute_result"
    }
   ],
   "source": [
    "ds.columns"
   ]
  },
  {
   "cell_type": "code",
   "execution_count": 201,
   "metadata": {},
   "outputs": [
    {
     "data": {
      "text/plain": [
       "PB030: PERSONAL ID                                                                              int64\n",
       "PB020: COUNTRY                                                                                 object\n",
       "PB010: YEAR OF THE SURVEY                                                                       int64\n",
       "PB140: YEAR OF BIRTH                                                                            int64\n",
       "PB150: SEX                                                                                      int64\n",
       "PB190: MARITAL STATUS                                                                         float64\n",
       "PB200: CONSENSUAL UNION                                                                         int64\n",
       "PB220A: CITIZENSHIP                                                                             int64\n",
       "PE010: CURRENT EDUCATION ACTIVITY                                                               int64\n",
       "PE040: HIGHEST ISCED LEVEL ATTAINED                                                           float64\n",
       "PL031: SELF-DEFINED CURRENT ECONOMIC STATUS                                                   float64\n",
       "PL035: WORKED AT LEAST 1 HOUR DURING THE PREVIOUS WEEK                                          int64\n",
       "PL051: OCCUPATION (ISCO-08 (COM))                                                             float64\n",
       "PL150: MANAGERIAL POSITION                                                                    float64\n",
       "PH010: GENERAL HEALTH                                                                         float64\n",
       "PH020: SUFFER FROM ANY A CHRONIC (LONG-STANDING) ILLNESS OR CONDITION                         float64\n",
       "PH030: LIMITATION IN ACTIVITIES BECAUSE OF HEALTH PROBLEMS                                    float64\n",
       "PH040: UNMET NEED FOR MEDICAL EXAMINATION OR TREATMENT                                          int64\n",
       "PH060: UNMET NEED FOR DENTAL EXAMINATION OR TREATMENT                                           int64\n",
       "PY010G_PY020G_PY021G_PY050G: EMPLOYEE INCOME                                                  float64\n",
       "PY035G: CONTRIBUTIONS TO INDIVIDUAL PRIVATE PENSION PLANS                                       int64\n",
       "PY080G: PENSION FROM INDIVIDUAL PRIVATE PLANS                                                 float64\n",
       "PY090G++: SOCIAL BENEFITS                                                                     float64\n",
       "PY090G: UNEMPLOYMENT BENEFITS                                                                 float64\n",
       "PY100G: OLD-AGE BENEFITS                                                                      float64\n",
       "PY110G: SURVIVOR’ BENEFITS                                                                    float64\n",
       "PY120G: SICKNESS BENEFITS                                                                     float64\n",
       "PY130G: DISABILITY BENEFITS                                                                   float64\n",
       "PY140G: EDUCATION-RELATED ALLOWANCES                                                          float64\n",
       "PD020: Replace worn-out clothes by some new (not second-hand) ones                            float64\n",
       "PD030: Two pairs of properly fitting shoes                                                    float64\n",
       "PD050: Get-together with friends/family (relatives) for a drink/meal at least once a month    float64\n",
       "PD060: Regularly participate in a leisure activity                                            float64\n",
       "PD070: Spend a small amount of money each week on yourself                                    float64\n",
       "PD080: Internet connection for personal use at home                                           float64\n",
       "PW010: OVERALL LIFE SATISFACTION                                                              float64\n",
       "dtype: object"
      ]
     },
     "execution_count": 201,
     "metadata": {},
     "output_type": "execute_result"
    }
   ],
   "source": [
    "ds.dtypes"
   ]
  },
  {
   "cell_type": "code",
   "execution_count": 202,
   "metadata": {},
   "outputs": [],
   "source": [
    "# should i change float to int? at the moment i dont care if they are floats or int"
   ]
  },
  {
   "cell_type": "code",
   "execution_count": 203,
   "metadata": {},
   "outputs": [],
   "source": [
    "#from pandas_profiling import ProfileReport\n",
    "\n",
    "#profile = ProfileReport(ds, title='Pandas Profiling Report')\n",
    "\n",
    "#profile.to_notebook_iframe()\n"
   ]
  },
  {
   "cell_type": "markdown",
   "metadata": {},
   "source": [
    "##### conclusion\n",
    "per column\n",
    "- PB010 YEAR_of Survey: singel value, only needed, if i add more datas --> drop colum\n",
    "- PB020 COUntry: same as with year--> drop column\n",
    "- PB150_sex: almost equally balanced\n",
    "- PH...healt: a lot of 8 = \"dont know\" --> test to drop them? or to change to other value?s\n",
    "\n",
    "\n",
    "overall: \n",
    "- a lot of imbalanced data --> check later if balancing needed\n",
    "- a lot of categorical data, but not all within the same range  --> try to use different scaler later\n",
    "- some categorical data have a meaning (1-10), where 10 is better. other like \"self defined curent status\" / \"occupation\": no meaning\n",
    "- a lot of skeewed datas, because either 0 or a value --> use other scaler?\n",
    "- correlation --> pca/ica"
   ]
  },
  {
   "cell_type": "code",
   "execution_count": 204,
   "metadata": {},
   "outputs": [],
   "source": [
    "ds1 = ds.drop('PB010: YEAR OF THE SURVEY', axis=1)"
   ]
  },
  {
   "cell_type": "code",
   "execution_count": 205,
   "metadata": {},
   "outputs": [],
   "source": [
    "ds1 = ds.drop('PB020: COUNTRY', axis=1)"
   ]
  },
  {
   "cell_type": "markdown",
   "metadata": {},
   "source": [
    "### 2.2. Correlation "
   ]
  },
  {
   "cell_type": "code",
   "execution_count": 206,
   "metadata": {},
   "outputs": [
    {
     "data": {
      "text/plain": [
       "<matplotlib.axes._subplots.AxesSubplot at 0x21b2f092c88>"
      ]
     },
     "execution_count": 206,
     "metadata": {},
     "output_type": "execute_result"
    },
    {
     "data": {
      "image/png": "[encoded data removed]",
      "text/plain": [
       "<Figure size 720x720 with 2 Axes>"
      ]
     },
     "metadata": {
      "needs_background": "light"
     },
     "output_type": "display_data"
    }
   ],
   "source": [
    "plt.figure(figsize =(10,10))\n",
    "corr = ds.corr()\n",
    "mask = np.triu(np.ones_like(corr, dtype=np.bool))\n",
    "sns.heatmap(corr, cmap='coolwarm', annot = False, linewidth=0.5, mask=mask)"
   ]
  },
  {
   "cell_type": "code",
   "execution_count": 207,
   "metadata": {},
   "outputs": [
    {
     "data": {
      "text/plain": [
       "'\\nProblems?\\n- income is negative correlated with employment status --> makes sense because unemployed have 0 income\\n- year of birth is correlated with old-age benefit --> makes sense, only old people get old age benefit\\n- since old age benefit is the biggest part of social benefit, there is also negative correlation between social benefits and \\n- year of birth is correlated with martial status:-)\\n- social benefits is correlated with \"individuals\" of social benefits --> ok, because i only want to keep either on or the other -- see next section\\n\\nPro:\\n- \\'PW010: OVERALL LIFE SATISFACTION\\' is not highly correlated with any of thefeatures, this means that we need a complex model to predict and cant only use one column for that\\n'"
      ]
     },
     "execution_count": 207,
     "metadata": {},
     "output_type": "execute_result"
    }
   ],
   "source": [
    "\"\"\"\n",
    "Problems?\n",
    "- income is negative correlated with employment status --> makes sense because unemployed have 0 income\n",
    "- year of birth is correlated with old-age benefit --> makes sense, only old people get old age benefit\n",
    "- since old age benefit is the biggest part of social benefit, there is also negative correlation between social benefits and \n",
    "- year of birth is correlated with martial status:-)\n",
    "- social benefits is correlated with \"individuals\" of social benefits --> ok, because i only want to keep either on or the other -- see next section\n",
    "\n",
    "Pro:\n",
    "- 'PW010: OVERALL LIFE SATISFACTION' is not highly correlated with any of thefeatures, this means that we need a complex model to predict and cant only use one column for that\n",
    "\"\"\"\n"
   ]
  },
  {
   "cell_type": "markdown",
   "metadata": {},
   "source": [
    "### 2.3 further preparation of the dataset"
   ]
  },
  {
   "cell_type": "code",
   "execution_count": 208,
   "metadata": {},
   "outputs": [
    {
     "data": {
      "text/plain": [
       "Index(['PB030: PERSONAL ID', 'PB010: YEAR OF THE SURVEY',\n",
       "       'PB140: YEAR OF BIRTH', 'PB150: SEX', 'PB190: MARITAL STATUS',\n",
       "       'PB200: CONSENSUAL UNION', 'PB220A: CITIZENSHIP',\n",
       "       'PE010: CURRENT EDUCATION ACTIVITY',\n",
       "       'PE040: HIGHEST ISCED LEVEL ATTAINED',\n",
       "       'PL031: SELF-DEFINED CURRENT ECONOMIC STATUS',\n",
       "       'PL035: WORKED AT LEAST 1 HOUR DURING THE PREVIOUS WEEK',\n",
       "       'PL051: OCCUPATION (ISCO-08 (COM))', 'PL150: MANAGERIAL POSITION',\n",
       "       'PH010: GENERAL HEALTH',\n",
       "       'PH020: SUFFER FROM ANY A CHRONIC (LONG-STANDING) ILLNESS OR CONDITION',\n",
       "       'PH030: LIMITATION IN ACTIVITIES BECAUSE OF HEALTH PROBLEMS',\n",
       "       'PH040: UNMET NEED FOR MEDICAL EXAMINATION OR TREATMENT',\n",
       "       'PH060: UNMET NEED FOR DENTAL EXAMINATION OR TREATMENT',\n",
       "       'PY010G_PY020G_PY021G_PY050G: EMPLOYEE INCOME',\n",
       "       'PY035G: CONTRIBUTIONS TO INDIVIDUAL PRIVATE PENSION PLANS',\n",
       "       'PY080G: PENSION FROM INDIVIDUAL PRIVATE PLANS',\n",
       "       'PY090G++: SOCIAL BENEFITS', 'PY090G: UNEMPLOYMENT BENEFITS',\n",
       "       'PY100G: OLD-AGE BENEFITS', 'PY110G: SURVIVOR’ BENEFITS',\n",
       "       'PY120G: SICKNESS BENEFITS', 'PY130G: DISABILITY BENEFITS',\n",
       "       'PY140G: EDUCATION-RELATED ALLOWANCES',\n",
       "       'PD020: Replace worn-out clothes by some new (not second-hand) ones',\n",
       "       'PD030: Two pairs of properly fitting shoes',\n",
       "       'PD050: Get-together with friends/family (relatives) for a drink/meal at least once a month',\n",
       "       'PD060: Regularly participate in a leisure activity',\n",
       "       'PD070: Spend a small amount of money each week on yourself',\n",
       "       'PD080: Internet connection for personal use at home',\n",
       "       'PW010: OVERALL LIFE SATISFACTION'],\n",
       "      dtype='object')"
      ]
     },
     "execution_count": 208,
     "metadata": {},
     "output_type": "execute_result"
    }
   ],
   "source": [
    "ds1.columns"
   ]
  },
  {
   "cell_type": "code",
   "execution_count": 209,
   "metadata": {},
   "outputs": [],
   "source": [
    "### create booleans for categorical variables\n",
    "create_dummy= ['PB150: SEX', 'PB190: MARITAL STATUS',\n",
    "       'PB200: CONSENSUAL UNION', 'PB220A: CITIZENSHIP',\n",
    "       'PE010: CURRENT EDUCATION ACTIVITY',\n",
    "       'PL031: SELF-DEFINED CURRENT ECONOMIC STATUS',\n",
    "       'PL035: WORKED AT LEAST 1 HOUR DURING THE PREVIOUS WEEK',\n",
    "       'PL051: OCCUPATION (ISCO-08 (COM))', 'PL150: MANAGERIAL POSITION',\n",
    "       'PH030: LIMITATION IN ACTIVITIES BECAUSE OF HEALTH PROBLEMS',\n",
    "       'PH040: UNMET NEED FOR MEDICAL EXAMINATION OR TREATMENT',\n",
    "       'PH060: UNMET NEED FOR DENTAL EXAMINATION OR TREATMENT',\n",
    "       'PD020: Replace worn-out clothes by some new (not second-hand) ones',\n",
    "       'PD030: Two pairs of properly fitting shoes',\n",
    "       'PD050: Get-together with friends/family (relatives) for a drink/meal at least once a month',\n",
    "       'PD060: Regularly participate in a leisure activity',\n",
    "       'PD070: Spend a small amount of money each week on yourself',\n",
    "       'PD080: Internet connection for personal use at home',\n",
    "      ]\n",
    "\n",
    "\n",
    "ds1 = pd.get_dummies(ds1, columns=create_dummy, drop_first=True)\n"
   ]
  },
  {
   "cell_type": "code",
   "execution_count": null,
   "metadata": {},
   "outputs": [],
   "source": []
  },
  {
   "cell_type": "code",
   "execution_count": 210,
   "metadata": {
    "scrolled": true
   },
   "outputs": [],
   "source": [
    "## social benefits are in twice --> split into 2 datasets:\n",
    "\n",
    "ds_1= ds1.drop(axis = 1, columns=['PY090G: UNEMPLOYMENT BENEFITS',\n",
    "       'PY100G: OLD-AGE BENEFITS', 'PY110G: SURVIVOR’ BENEFITS',\n",
    "       'PY120G: SICKNESS BENEFITS', 'PY130G: DISABILITY BENEFITS',\n",
    "       'PY140G: EDUCATION-RELATED ALLOWANCES'])\n",
    "ds_m = ds1.drop(axis = 1, columns=['PY090G++: SOCIAL BENEFITS'])"
   ]
  },
  {
   "cell_type": "code",
   "execution_count": 211,
   "metadata": {
    "scrolled": true
   },
   "outputs": [
    {
     "name": "stdout",
     "output_type": "stream",
     "text": [
      "(19492, 97)\n",
      "(19492, 92)\n"
     ]
    }
   ],
   "source": [
    "print(ds_m.shape)\n",
    "print(ds_1.shape)"
   ]
  },
  {
   "cell_type": "markdown",
   "metadata": {},
   "source": [
    "# Maschine Learning supervised"
   ]
  },
  {
   "cell_type": "markdown",
   "metadata": {},
   "source": [
    "# 1. Regression"
   ]
  },
  {
   "cell_type": "markdown",
   "metadata": {},
   "source": [
    "#### <font color=red>here decide to keep or drop nan: </font>"
   ]
  },
  {
   "cell_type": "code",
   "execution_count": 280,
   "metadata": {},
   "outputs": [],
   "source": [
    "data = ds_1[ds_1['PW010: OVERALL LIFE SATISFACTION']>=0]\n",
    "#data=ds_1"
   ]
  },
  {
   "cell_type": "code",
   "execution_count": 281,
   "metadata": {},
   "outputs": [],
   "source": [
    "XCol=list(data.columns)\n",
    "XCol.remove('PW010: OVERALL LIFE SATISFACTION')\n",
    "YCol=['PW010: OVERALL LIFE SATISFACTION']"
   ]
  },
  {
   "cell_type": "code",
   "execution_count": 282,
   "metadata": {},
   "outputs": [],
   "source": [
    "X = data[XCol]\n",
    "y= data[YCol]"
   ]
  },
  {
   "cell_type": "markdown",
   "metadata": {},
   "source": [
    "•\timbalance checking (undersampling, oversamplingML umbalanced data lib)\n",
    "\n",
    "•\tSplit --> X_tr, y_tr, / X_ts,  y_ts\n",
    "\n",
    "•\tTry few models (with different algorithms) (<-- pipeline)\n",
    "\n",
    "    –\tInitialization\n",
    "\n",
    "    –\tFit / predict\n",
    "\n",
    "    –\tEvaluation (overfitting / underfitting)\n",
    "\n",
    "•\tChoose best option based on requirements\n",
    "\n",
    "•\tOptimize the model\n",
    "\n",
    "    –\tCross -validation\n",
    "\n",
    "    –\tTry few models (with same way to approach problem)\n",
    "\n",
    "        o\tInit\n",
    "\n",
    "        o\tFit.(predict)\n",
    "\n",
    "        o\tEvaluation\n",
    "\n",
    "    –\tHpyertuning\n"
   ]
  },
  {
   "cell_type": "markdown",
   "metadata": {},
   "source": [
    "### 2.1 Test for imbalancing in Y"
   ]
  },
  {
   "cell_type": "code",
   "execution_count": 283,
   "metadata": {},
   "outputs": [
    {
     "data": {
      "text/plain": [
       "['PW010: OVERALL LIFE SATISFACTION']"
      ]
     },
     "execution_count": 283,
     "metadata": {},
     "output_type": "execute_result"
    }
   ],
   "source": [
    "YCol"
   ]
  },
  {
   "cell_type": "code",
   "execution_count": 284,
   "metadata": {
    "scrolled": true
   },
   "outputs": [
    {
     "data": {
      "text/plain": [
       "array([[<matplotlib.axes._subplots.AxesSubplot object at 0x0000021B2CB8A0C8>]],\n",
       "      dtype=object)"
      ]
     },
     "execution_count": 284,
     "metadata": {},
     "output_type": "execute_result"
    },
    {
     "data": {
      "image/png": "[encoded data removed]",
      "text/plain": [
       "<Figure size 432x288 with 1 Axes>"
      ]
     },
     "metadata": {
      "needs_background": "light"
     },
     "output_type": "display_data"
    }
   ],
   "source": [
    "y.hist()\n",
    "\n",
    "## it is very imbalanced  --> bin the values bellow 5 and change *dont know\" to other value"
   ]
  },
  {
   "cell_type": "code",
   "execution_count": 285,
   "metadata": {},
   "outputs": [],
   "source": [
    "#y.loc[(y['PW010: OVERALL LIFE SATISFACTION']==-1), 'PW010: OVERALL LIFE SATISFACTION']= X"
   ]
  },
  {
   "cell_type": "markdown",
   "metadata": {},
   "source": [
    "#### <font color=red>here decide how to bin: </font>"
   ]
  },
  {
   "cell_type": "code",
   "execution_count": 291,
   "metadata": {
    "scrolled": true
   },
   "outputs": [
    {
     "name": "stderr",
     "output_type": "stream",
     "text": [
      "C:\\Users\\haenni\\AppData\\Local\\Continuum\\anaconda3\\lib\\site-packages\\ipykernel_launcher.py:1: SettingWithCopyWarning: \n",
      "A value is trying to be set on a copy of a slice from a DataFrame.\n",
      "Try using .loc[row_indexer,col_indexer] = value instead\n",
      "\n",
      "See the caveats in the documentation: http://pandas.pydata.org/pandas-docs/stable/user_guide/indexing.html#returning-a-view-versus-a-copy\n",
      "  \"\"\"Entry point for launching an IPython kernel.\n",
      "C:\\Users\\haenni\\AppData\\Local\\Continuum\\anaconda3\\lib\\site-packages\\ipykernel_launcher.py:2: SettingWithCopyWarning: \n",
      "A value is trying to be set on a copy of a slice from a DataFrame.\n",
      "Try using .loc[row_indexer,col_indexer] = value instead\n",
      "\n",
      "See the caveats in the documentation: http://pandas.pydata.org/pandas-docs/stable/user_guide/indexing.html#returning-a-view-versus-a-copy\n",
      "  \n"
     ]
    },
    {
     "data": {
      "text/plain": [
       "array([ 8. ,  6.5, 10. ,  4.5,  9. ])"
      ]
     },
     "execution_count": 291,
     "metadata": {},
     "output_type": "execute_result"
    }
   ],
   "source": [
    "y['bin'] =y['PW010: OVERALL LIFE SATISFACTION'].apply(lambda x: 4.5 if (x <=5) & (x!=-1) else x)\n",
    "y['bin'] =y['bin'].apply(lambda x: 6.5 if ((x ==6) | (x==7)) else x)\n",
    "y['bin'].unique()"
   ]
  },
  {
   "cell_type": "code",
   "execution_count": 292,
   "metadata": {
    "scrolled": true
   },
   "outputs": [
    {
     "data": {
      "text/plain": [
       "<matplotlib.axes._subplots.AxesSubplot at 0x21b2c315508>"
      ]
     },
     "execution_count": 292,
     "metadata": {},
     "output_type": "execute_result"
    },
    {
     "data": {
      "image/png": "[encoded data removed]",
      "text/plain": [
       "<Figure size 432x288 with 1 Axes>"
      ]
     },
     "metadata": {
      "needs_background": "light"
     },
     "output_type": "display_data"
    }
   ],
   "source": [
    "y['bin'].hist()\n"
   ]
  },
  {
   "cell_type": "markdown",
   "metadata": {},
   "source": [
    "#### <font color=red>here decide to take binned y or not: </font>"
   ]
  },
  {
   "cell_type": "code",
   "execution_count": 293,
   "metadata": {},
   "outputs": [],
   "source": [
    "ytogo=y['bin']\n",
    "#ytogo=y['PW010: OVERALL LIFE SATISFACTION']\n"
   ]
  },
  {
   "cell_type": "markdown",
   "metadata": {},
   "source": [
    "#### <font color=red>here decide to scale x or not: </font>"
   ]
  },
  {
   "cell_type": "code",
   "execution_count": 294,
   "metadata": {},
   "outputs": [],
   "source": [
    "### scaler\n",
    "scaler = StandardScaler()\n",
    "X_std = scaler.fit_transform(X)"
   ]
  },
  {
   "cell_type": "markdown",
   "metadata": {},
   "source": [
    "### 2.2. split dataset"
   ]
  },
  {
   "cell_type": "code",
   "execution_count": 341,
   "metadata": {},
   "outputs": [],
   "source": [
    "X_train, X_test, y_train, y_test = train_test_split(X, ytogo, test_size=0.3)"
   ]
  },
  {
   "cell_type": "markdown",
   "metadata": {},
   "source": [
    "### 2.3 Try few models (with different algorithms) (<-- pipeline)"
   ]
  },
  {
   "cell_type": "markdown",
   "metadata": {},
   "source": [
    "#### a) Prepare Model "
   ]
  },
  {
   "cell_type": "code",
   "execution_count": 266,
   "metadata": {},
   "outputs": [],
   "source": [
    "## prepare interaction term\n",
    "for d in range(2):\n",
    "    interaction = PolynomialFeatures(degree = d, include_bias = False, interaction_only = True)\n",
    "    X_inter = interaction.fit_transform(X_train)"
   ]
  },
  {
   "cell_type": "markdown",
   "metadata": {},
   "source": [
    "#### b)  Linear Regression Model"
   ]
  },
  {
   "cell_type": "code",
   "execution_count": 342,
   "metadata": {},
   "outputs": [
    {
     "name": "stdout",
     "output_type": "stream",
     "text": [
      "Intercept:  7.333882812807578\n",
      "Coef:  [-3.32590939e-04 -3.43474732e-01  7.94053049e-02 -1.97850956e-01\n",
      "  1.92432977e-01 -3.12352513e-02 -1.24324223e-01 -1.86820894e-01\n",
      " -2.55505779e-01 -4.25818822e-01  2.22727236e-01  3.93420150e-01\n",
      " -5.83841239e-01  2.13443390e-01]\n"
     ]
    }
   ],
   "source": [
    "\n",
    "lm = LinearRegression()\n",
    "model = lm.fit(X_train,y_train)\n",
    "\n",
    "print(\"Intercept: \", lm.intercept_)\n",
    "print(\"Coef: \", lm.coef_)\n",
    "\n",
    "y_pred  = lm.predict(X_test)\n"
   ]
  },
  {
   "cell_type": "code",
   "execution_count": 343,
   "metadata": {},
   "outputs": [
    {
     "data": {
      "text/plain": [
       "2.9280095277804725"
      ]
     },
     "execution_count": 343,
     "metadata": {},
     "output_type": "execute_result"
    }
   ],
   "source": [
    "mean_squared_error(y_test, y_pred)"
   ]
  },
  {
   "cell_type": "code",
   "execution_count": 345,
   "metadata": {},
   "outputs": [
    {
     "data": {
      "text/plain": [
       "7.851529129976331e-05"
      ]
     },
     "execution_count": 345,
     "metadata": {},
     "output_type": "execute_result"
    }
   ],
   "source": [
    "r2_score(y_test, y_pred)"
   ]
  },
  {
   "cell_type": "markdown",
   "metadata": {},
   "source": [
    "#### c)  Taylor (pipeline)"
   ]
  },
  {
   "cell_type": "code",
   "execution_count": 346,
   "metadata": {},
   "outputs": [
    {
     "name": "stdout",
     "output_type": "stream",
     "text": [
      "-1.6218780801684416e+24\n"
     ]
    }
   ],
   "source": [
    "#for k in range(1,8):\n",
    "poly_model = make_pipeline (StandardScaler(), PolynomialFeatures(degree=2, include_bias = False, interaction_only = True), LinearRegression())\n",
    "\n",
    "model = poly_model.fit(X_train, y_train)\n",
    "\n",
    "    \n",
    "print(poly_model.score(X_test, y_test))\n",
    "\n",
    "y_pred  = poly_model.predict(X_test)\n"
   ]
  },
  {
   "cell_type": "code",
   "execution_count": 347,
   "metadata": {},
   "outputs": [
    {
     "data": {
      "text/plain": [
       "4.7492473601714375e+24"
      ]
     },
     "execution_count": 347,
     "metadata": {},
     "output_type": "execute_result"
    }
   ],
   "source": [
    "mean_squared_error(y_test, y_pred)"
   ]
  },
  {
   "cell_type": "code",
   "execution_count": 348,
   "metadata": {},
   "outputs": [
    {
     "data": {
      "text/plain": [
       "-1.6218780801684416e+24"
      ]
     },
     "execution_count": 348,
     "metadata": {},
     "output_type": "execute_result"
    }
   ],
   "source": [
    "r2_score(y_test, y_pred)"
   ]
  },
  {
   "cell_type": "markdown",
   "metadata": {},
   "source": [
    "#### c)  Regression Tree"
   ]
  },
  {
   "cell_type": "code",
   "execution_count": 349,
   "metadata": {},
   "outputs": [
    {
     "data": {
      "text/plain": [
       "-0.0006616187898162984"
      ]
     },
     "execution_count": 349,
     "metadata": {},
     "output_type": "execute_result"
    }
   ],
   "source": [
    "regr = DecisionTreeRegressor(random_state = 29)\n",
    "\n",
    "model = regr.fit(X_train, y_train)\n",
    "\n",
    "y_pred  = regr.predict(X_test)\n",
    "regr.score(X_test, y_test)"
   ]
  },
  {
   "cell_type": "code",
   "execution_count": 350,
   "metadata": {},
   "outputs": [],
   "source": [
    "r = export_text(regr, feature_names=list(X.columns))\n",
    "#print(r)"
   ]
  },
  {
   "cell_type": "code",
   "execution_count": 351,
   "metadata": {},
   "outputs": [
    {
     "data": {
      "text/plain": [
       "2.9301768175872063"
      ]
     },
     "execution_count": 351,
     "metadata": {},
     "output_type": "execute_result"
    }
   ],
   "source": [
    "mean_squared_error(y_test, y_pred)"
   ]
  },
  {
   "cell_type": "code",
   "execution_count": 326,
   "metadata": {},
   "outputs": [
    {
     "data": {
      "text/plain": [
       "-0.017124323243350448"
      ]
     },
     "execution_count": 326,
     "metadata": {},
     "output_type": "execute_result"
    }
   ],
   "source": [
    "r2_score(y_test, y_pred)"
   ]
  },
  {
   "cell_type": "markdown",
   "metadata": {},
   "source": [
    "In the rare cases you get a negative r squared value, you should probably rethink your regression analysis, especially if you are forcing an intercept."
   ]
  },
  {
   "cell_type": "markdown",
   "metadata": {},
   "source": [
    "#### d)  KNeighborsRegressor"
   ]
  },
  {
   "cell_type": "code",
   "execution_count": 352,
   "metadata": {},
   "outputs": [],
   "source": [
    "knnr = KNeighborsRegressor(n_neighbors = 3)\n",
    "\n",
    "model = knnr.fit(X_train, y_train)  #fit the model\n",
    "y_pred = knnr.predict(X_test)\n"
   ]
  },
  {
   "cell_type": "code",
   "execution_count": 353,
   "metadata": {},
   "outputs": [
    {
     "data": {
      "text/plain": [
       "3.383062302730891"
      ]
     },
     "execution_count": 353,
     "metadata": {},
     "output_type": "execute_result"
    }
   ],
   "source": [
    "mean_squared_error(y_test, y_pred)"
   ]
  },
  {
   "cell_type": "code",
   "execution_count": 354,
   "metadata": {},
   "outputs": [
    {
     "data": {
      "text/plain": [
       "-0.15532297573258824"
      ]
     },
     "execution_count": 354,
     "metadata": {},
     "output_type": "execute_result"
    }
   ],
   "source": [
    "r2_score(y_test, y_pred)"
   ]
  },
  {
   "cell_type": "markdown",
   "metadata": {},
   "source": [
    "#### <font color=red>huge means squared_error and negative r squared for binned and unbinned y\n",
    "     also failed with drop nan, but way better!\n",
    "    also failed with feature elimination\n",
    "\n",
    "</font>"
   ]
  },
  {
   "cell_type": "markdown",
   "metadata": {},
   "source": [
    "# 2.2 optimize recursive feature elimination (RFE)"
   ]
  },
  {
   "cell_type": "code",
   "execution_count": null,
   "metadata": {},
   "outputs": [],
   "source": [
    "## recursive feature elimination.\n",
    "# initialize an RFE model using the `auto_model` linear regression model. Set `n_features_to_select=3`"
   ]
  },
  {
   "cell_type": "markdown",
   "metadata": {},
   "source": [
    "Fit the model and print the ranking"
   ]
  },
  {
   "cell_type": "code",
   "execution_count": 355,
   "metadata": {},
   "outputs": [],
   "source": [
    "# Your code here:\n",
    "auto_model = LinearRegression()\n",
    "selector = RFE(auto_model, 5, step=1)\n",
    "model = selector.fit(X_train,y_train)"
   ]
  },
  {
   "cell_type": "code",
   "execution_count": 356,
   "metadata": {},
   "outputs": [
    {
     "data": {
      "text/plain": [
       "array([10,  1,  8,  5,  4,  9,  7,  6,  1,  1,  2,  1,  1,  3])"
      ]
     },
     "execution_count": 356,
     "metadata": {},
     "output_type": "execute_result"
    }
   ],
   "source": [
    "# Your code here:\n",
    "selector.ranking_\n",
    "#selector.support_"
   ]
  },
  {
   "cell_type": "code",
   "execution_count": 357,
   "metadata": {},
   "outputs": [
    {
     "name": "stdout",
     "output_type": "stream",
     "text": [
      "14\n"
     ]
    },
    {
     "data": {
      "text/plain": [
       "['PB220A: CITIZENSHIP_1',\n",
       " 'PL031: SELF-DEFINED CURRENT ECONOMIC STATUS_4.0',\n",
       " 'PL031: SELF-DEFINED CURRENT ECONOMIC STATUS_11.0',\n",
       " 'PL051: OCCUPATION (ISCO-08 (COM))_12.0',\n",
       " 'PL051: OCCUPATION (ISCO-08 (COM))_14.0',\n",
       " 'PL051: OCCUPATION (ISCO-08 (COM))_22.0',\n",
       " 'PL051: OCCUPATION (ISCO-08 (COM))_26.0',\n",
       " 'PL051: OCCUPATION (ISCO-08 (COM))_54.0',\n",
       " 'PL051: OCCUPATION (ISCO-08 (COM))_72.0',\n",
       " 'PL051: OCCUPATION (ISCO-08 (COM))_73.0',\n",
       " 'PL051: OCCUPATION (ISCO-08 (COM))_75.0',\n",
       " 'PL051: OCCUPATION (ISCO-08 (COM))_82.0',\n",
       " 'PL051: OCCUPATION (ISCO-08 (COM))_92.0',\n",
       " 'PL051: OCCUPATION (ISCO-08 (COM))_96.0']"
      ]
     },
     "execution_count": 357,
     "metadata": {},
     "output_type": "execute_result"
    }
   ],
   "source": [
    "columns=[]\n",
    "for x in range(len(X.columns)):\n",
    "    if selector.ranking_[x]<=10:\n",
    "        columns.append(X.columns[x])\n",
    "print(len(columns))\n",
    "columns"
   ]
  },
  {
   "cell_type": "code",
   "execution_count": 338,
   "metadata": {},
   "outputs": [],
   "source": [
    "X=data[columns]\n",
    "\n",
    "## --> run above again"
   ]
  },
  {
   "cell_type": "code",
   "execution_count": null,
   "metadata": {},
   "outputs": [],
   "source": []
  },
  {
   "cell_type": "code",
   "execution_count": null,
   "metadata": {},
   "outputs": [],
   "source": []
  },
  {
   "cell_type": "code",
   "execution_count": null,
   "metadata": {},
   "outputs": [],
   "source": []
  },
  {
   "cell_type": "code",
   "execution_count": null,
   "metadata": {},
   "outputs": [],
   "source": []
  },
  {
   "cell_type": "code",
   "execution_count": null,
   "metadata": {},
   "outputs": [],
   "source": []
  },
  {
   "cell_type": "code",
   "execution_count": null,
   "metadata": {},
   "outputs": [],
   "source": []
  },
  {
   "cell_type": "code",
   "execution_count": null,
   "metadata": {},
   "outputs": [],
   "source": []
  },
  {
   "cell_type": "code",
   "execution_count": null,
   "metadata": {},
   "outputs": [],
   "source": []
  },
  {
   "cell_type": "code",
   "execution_count": null,
   "metadata": {},
   "outputs": [],
   "source": []
  },
  {
   "cell_type": "code",
   "execution_count": null,
   "metadata": {},
   "outputs": [],
   "source": []
  },
  {
   "cell_type": "code",
   "execution_count": null,
   "metadata": {},
   "outputs": [],
   "source": []
  },
  {
   "cell_type": "code",
   "execution_count": null,
   "metadata": {},
   "outputs": [],
   "source": []
  },
  {
   "cell_type": "code",
   "execution_count": null,
   "metadata": {},
   "outputs": [],
   "source": []
  },
  {
   "cell_type": "code",
   "execution_count": null,
   "metadata": {},
   "outputs": [],
   "source": []
  },
  {
   "cell_type": "code",
   "execution_count": null,
   "metadata": {},
   "outputs": [],
   "source": []
  },
  {
   "cell_type": "code",
   "execution_count": null,
   "metadata": {},
   "outputs": [],
   "source": []
  },
  {
   "cell_type": "code",
   "execution_count": null,
   "metadata": {},
   "outputs": [],
   "source": []
  },
  {
   "cell_type": "code",
   "execution_count": null,
   "metadata": {},
   "outputs": [],
   "source": []
  },
  {
   "cell_type": "code",
   "execution_count": null,
   "metadata": {},
   "outputs": [],
   "source": []
  },
  {
   "cell_type": "code",
   "execution_count": null,
   "metadata": {},
   "outputs": [],
   "source": []
  },
  {
   "cell_type": "code",
   "execution_count": null,
   "metadata": {},
   "outputs": [],
   "source": []
  },
  {
   "cell_type": "code",
   "execution_count": null,
   "metadata": {},
   "outputs": [],
   "source": []
  },
  {
   "cell_type": "code",
   "execution_count": null,
   "metadata": {},
   "outputs": [],
   "source": []
  },
  {
   "cell_type": "code",
   "execution_count": null,
   "metadata": {},
   "outputs": [],
   "source": []
  },
  {
   "cell_type": "code",
   "execution_count": null,
   "metadata": {},
   "outputs": [],
   "source": []
  },
  {
   "cell_type": "code",
   "execution_count": null,
   "metadata": {},
   "outputs": [],
   "source": []
  },
  {
   "cell_type": "code",
   "execution_count": null,
   "metadata": {},
   "outputs": [],
   "source": []
  },
  {
   "cell_type": "code",
   "execution_count": null,
   "metadata": {},
   "outputs": [],
   "source": []
  },
  {
   "cell_type": "code",
   "execution_count": null,
   "metadata": {},
   "outputs": [],
   "source": []
  },
  {
   "cell_type": "code",
   "execution_count": null,
   "metadata": {},
   "outputs": [],
   "source": []
  },
  {
   "cell_type": "code",
   "execution_count": null,
   "metadata": {},
   "outputs": [],
   "source": []
  },
  {
   "cell_type": "markdown",
   "metadata": {},
   "source": [
    "## 1. Classification"
   ]
  },
  {
   "cell_type": "markdown",
   "metadata": {},
   "source": [
    "## 2.1 first try"
   ]
  },
  {
   "cell_type": "code",
   "execution_count": null,
   "metadata": {},
   "outputs": [],
   "source": []
  },
  {
   "cell_type": "markdown",
   "metadata": {},
   "source": [
    "### 2.1.1 prepare data"
   ]
  },
  {
   "cell_type": "code",
   "execution_count": 392,
   "metadata": {},
   "outputs": [
    {
     "data": {
      "text/plain": [
       "3301"
      ]
     },
     "execution_count": 392,
     "metadata": {},
     "output_type": "execute_result"
    }
   ],
   "source": [
    "# change outcome variable to a 2 classification variable:\n",
    "# drop 99\n",
    "# based on ds_1\n",
    "data = ds_1\n",
    "\n",
    "data =data[data['PW010: OVERALL LIFE SATISFACTION']!=-1]\n",
    "data.shape\n",
    "ds_1.shape[0]-data.shape[0]"
   ]
  },
  {
   "cell_type": "code",
   "execution_count": 394,
   "metadata": {},
   "outputs": [
    {
     "name": "stderr",
     "output_type": "stream",
     "text": [
      "C:\\Users\\haenni\\AppData\\Local\\Continuum\\anaconda3\\lib\\site-packages\\ipykernel_launcher.py:1: SettingWithCopyWarning: \n",
      "A value is trying to be set on a copy of a slice from a DataFrame.\n",
      "Try using .loc[row_indexer,col_indexer] = value instead\n",
      "\n",
      "See the caveats in the documentation: http://pandas.pydata.org/pandas-docs/stable/user_guide/indexing.html#returning-a-view-versus-a-copy\n",
      "  \"\"\"Entry point for launching an IPython kernel.\n"
     ]
    }
   ],
   "source": [
    "data['Y_class']= data['PW010: OVERALL LIFE SATISFACTION'].apply(lambda x: 1 if x>=8 else 0)"
   ]
  },
  {
   "cell_type": "code",
   "execution_count": 395,
   "metadata": {},
   "outputs": [
    {
     "data": {
      "text/plain": [
       "1    9130\n",
       "0    7061\n",
       "Name: Y_class, dtype: int64"
      ]
     },
     "execution_count": 395,
     "metadata": {},
     "output_type": "execute_result"
    },
    {
     "data": {
      "image/png": "[encoded data removed]",
      "text/plain": [
       "<Figure size 432x288 with 1 Axes>"
      ]
     },
     "metadata": {
      "needs_background": "light"
     },
     "output_type": "display_data"
    }
   ],
   "source": [
    "data['Y_class'].hist()\n",
    "data['Y_class'].value_counts()\n",
    "## --> balanced more or less"
   ]
  },
  {
   "cell_type": "code",
   "execution_count": 396,
   "metadata": {},
   "outputs": [
    {
     "name": "stdout",
     "output_type": "stream",
     "text": [
      "91\n",
      "Y_class\n"
     ]
    }
   ],
   "source": [
    "XCol=data.columns[:-2]\n",
    "YCol=data.columns[-1]\n",
    "\n",
    "print(len(XCol))\n",
    "print(YCol)"
   ]
  },
  {
   "cell_type": "code",
   "execution_count": 412,
   "metadata": {},
   "outputs": [
    {
     "data": {
      "text/plain": [
       "(16191,)"
      ]
     },
     "execution_count": 412,
     "metadata": {},
     "output_type": "execute_result"
    }
   ],
   "source": [
    "X = data[XCol]\n",
    "y= data[YCol]"
   ]
  },
  {
   "cell_type": "code",
   "execution_count": 398,
   "metadata": {},
   "outputs": [
    {
     "data": {
      "text/plain": [
       "(4858, 91)"
      ]
     },
     "execution_count": 398,
     "metadata": {},
     "output_type": "execute_result"
    }
   ],
   "source": [
    "X_train, X_test, y_train, y_test = train_test_split(X, y, test_size=0.3)\n",
    "X_train.shape\n",
    "X_test.shape\n"
   ]
  },
  {
   "cell_type": "markdown",
   "metadata": {},
   "source": [
    "#### a) Logistic Regression"
   ]
  },
  {
   "cell_type": "code",
   "execution_count": 399,
   "metadata": {},
   "outputs": [
    {
     "name": "stderr",
     "output_type": "stream",
     "text": [
      "C:\\Users\\haenni\\AppData\\Local\\Continuum\\anaconda3\\lib\\site-packages\\sklearn\\linear_model\\logistic.py:432: FutureWarning: Default solver will be changed to 'lbfgs' in 0.22. Specify a solver to silence this warning.\n",
      "  FutureWarning)\n"
     ]
    }
   ],
   "source": [
    "lr = LogisticRegression()\n",
    "lr.fit(X_train,y_train)\n",
    "\n",
    "\n",
    "y_pred=lr.predict(X_test)"
   ]
  },
  {
   "cell_type": "code",
   "execution_count": 400,
   "metadata": {},
   "outputs": [
    {
     "data": {
      "text/plain": [
       "0.5586661177439275"
      ]
     },
     "execution_count": 400,
     "metadata": {},
     "output_type": "execute_result"
    }
   ],
   "source": [
    "acc = lr.score(X_test,y_test)\n",
    "acc"
   ]
  },
  {
   "cell_type": "code",
   "execution_count": 417,
   "metadata": {},
   "outputs": [
    {
     "name": "stdout",
     "output_type": "stream",
     "text": [
      "accuracy: 55.87\n",
      "precision: nan\n"
     ]
    },
    {
     "name": "stderr",
     "output_type": "stream",
     "text": [
      "C:\\Users\\haenni\\AppData\\Local\\Continuum\\anaconda3\\lib\\site-packages\\ipykernel_launcher.py:4: RuntimeWarning: invalid value encountered in longlong_scalars\n",
      "  after removing the cwd from sys.path.\n"
     ]
    },
    {
     "data": {
      "text/plain": [
       "0"
      ]
     },
     "execution_count": 417,
     "metadata": {},
     "output_type": "execute_result"
    }
   ],
   "source": [
    "conf=confusion_matrix(y_test, y_pred)\n",
    "\n",
    "print( \"accuracy: \"  + str(round((conf[1,1]+conf[0,0])/ conf.sum()*100,2)))\n",
    "print( \"precision: \" +str(round((conf[0,0])/ (conf[1,0]+conf[0,0])*100,2)))\n",
    "\n",
    "conf\n",
    "\n",
    "tn,fp,fn,tp = confusion_matrix(y_test, y_pred).flatten()\n",
    "### it predicts all as 1..."
   ]
  },
  {
   "cell_type": "markdown",
   "metadata": {},
   "source": [
    "#### b) DecisionTree Classify"
   ]
  },
  {
   "cell_type": "code",
   "execution_count": 419,
   "metadata": {},
   "outputs": [],
   "source": [
    "dtc = DecisionTreeClassifier()\n",
    "dtc.fit(X_train, y_train)\n",
    "y_pred = dtc.predict(X_test)"
   ]
  },
  {
   "cell_type": "code",
   "execution_count": 420,
   "metadata": {},
   "outputs": [
    {
     "name": "stdout",
     "output_type": "stream",
     "text": [
      "Decision Tree Test Accuracy 100.0%\n"
     ]
    }
   ],
   "source": [
    "acc = dtc.score(X_test, y_test)*100\n",
    "print(f\"Decision Tree Test Accuracy {round(acc, 2)}%\")"
   ]
  },
  {
   "cell_type": "code",
   "execution_count": 421,
   "metadata": {},
   "outputs": [
    {
     "name": "stdout",
     "output_type": "stream",
     "text": [
      "accuracy: 100.0\n",
      "precision: 100.0\n"
     ]
    },
    {
     "data": {
      "text/plain": [
       "array([[2144,    0],\n",
       "       [   0, 2714]], dtype=int64)"
      ]
     },
     "execution_count": 421,
     "metadata": {},
     "output_type": "execute_result"
    }
   ],
   "source": [
    "conf=confusion_matrix(y_test, y_pred)\n",
    "\n",
    "print( \"accuracy: \"  + str(round((conf[1,1]+conf[0,0])/ conf.sum()*100,2)))\n",
    "print( \"precision: \" +str(round((conf[0,0])/ (conf[1,0]+conf[0,0])*100,2)))\n",
    "\n",
    "conf"
   ]
  },
  {
   "cell_type": "code",
   "execution_count": null,
   "metadata": {},
   "outputs": [],
   "source": [
    "## overfitting!!!"
   ]
  },
  {
   "cell_type": "code",
   "execution_count": null,
   "metadata": {},
   "outputs": [],
   "source": []
  },
  {
   "cell_type": "markdown",
   "metadata": {},
   "source": [
    "#### c) Support Vector Maschine"
   ]
  },
  {
   "cell_type": "code",
   "execution_count": 375,
   "metadata": {},
   "outputs": [
    {
     "name": "stderr",
     "output_type": "stream",
     "text": [
      "C:\\Users\\haenni\\AppData\\Local\\Continuum\\anaconda3\\lib\\site-packages\\sklearn\\svm\\base.py:193: FutureWarning: The default value of gamma will change from 'auto' to 'scale' in version 0.22 to account better for unscaled features. Set gamma explicitly to 'auto' or 'scale' to avoid this warning.\n",
      "  \"avoid this warning.\", FutureWarning)\n"
     ]
    }
   ],
   "source": [
    "svm = SVC()\n",
    "svm.fit(X_train, y_train)\n",
    "y_pred = svm.predict(X_test)"
   ]
  },
  {
   "cell_type": "code",
   "execution_count": 376,
   "metadata": {},
   "outputs": [
    {
     "name": "stdout",
     "output_type": "stream",
     "text": [
      "SVM Algorithm Test Accuracy 57.39%\n"
     ]
    }
   ],
   "source": [
    "acc = svm.score(X_test,y_test)*100\n",
    "print(f\"SVM Algorithm Test Accuracy {round(acc, 2)}%\")"
   ]
  },
  {
   "cell_type": "code",
   "execution_count": 377,
   "metadata": {},
   "outputs": [
    {
     "name": "stdout",
     "output_type": "stream",
     "text": [
      "accuracy: 57.39\n",
      "precision: nan\n"
     ]
    },
    {
     "name": "stderr",
     "output_type": "stream",
     "text": [
      "C:\\Users\\haenni\\AppData\\Local\\Continuum\\anaconda3\\lib\\site-packages\\ipykernel_launcher.py:4: RuntimeWarning: invalid value encountered in longlong_scalars\n",
      "  after removing the cwd from sys.path.\n"
     ]
    }
   ],
   "source": [
    "conf=confusion_matrix(y_test, y_pred)\n",
    "\n",
    "print( \"accuracy: \"  + str(round((conf[1,1]+conf[0,0])/ conf.sum()*100,2)))\n",
    "print( \"precision: \" +str(round((conf[0,0])/ (conf[1,0]+conf[0,0])*100,2)))"
   ]
  },
  {
   "cell_type": "code",
   "execution_count": null,
   "metadata": {},
   "outputs": [],
   "source": []
  },
  {
   "cell_type": "markdown",
   "metadata": {},
   "source": [
    "#### d) K-Nearest Neighbour"
   ]
  },
  {
   "cell_type": "code",
   "execution_count": 378,
   "metadata": {},
   "outputs": [],
   "source": [
    "knn = KNeighborsClassifier(n_neighbors = 2)  # n_neighbors means k\n",
    "knn.fit(X_train, y_train)\n",
    "y_pred = knn.predict(X_test)"
   ]
  },
  {
   "cell_type": "code",
   "execution_count": 379,
   "metadata": {},
   "outputs": [
    {
     "data": {
      "text/plain": [
       "47.61218608480856"
      ]
     },
     "execution_count": 379,
     "metadata": {},
     "output_type": "execute_result"
    }
   ],
   "source": [
    "acc = knn.score(X_test, y_test)*100\n",
    "acc"
   ]
  },
  {
   "cell_type": "code",
   "execution_count": null,
   "metadata": {},
   "outputs": [],
   "source": [
    "conf=confusion_matrix(y_test, y_pred)\n",
    "\n",
    "print( \"accuracy: \"  + str(round((conf[1,1]+conf[0,0])/ conf.sum()*100,2)))\n",
    "print( \"precision: \" +str(round((conf[0,0])/ (conf[1,0]+conf[0,0])*100,2)))\n"
   ]
  },
  {
   "cell_type": "code",
   "execution_count": null,
   "metadata": {},
   "outputs": [],
   "source": []
  },
  {
   "cell_type": "markdown",
   "metadata": {},
   "source": [
    "Sammelsurium zum optimieren:\n",
    "- dummies für social benefits einzelne\n",
    "- die einzelnen social benefits brauchen\n",
    "- log from y!"
   ]
  },
  {
   "cell_type": "code",
   "execution_count": null,
   "metadata": {},
   "outputs": [],
   "source": []
  }
 ],
 "metadata": {
  "kernelspec": {
   "display_name": "Python 3",
   "language": "python",
   "name": "python3"
  },
  "language_info": {
   "codemirror_mode": {
    "name": "ipython",
    "version": 3
   },
   "file_extension": ".py",
   "mimetype": "text/x-python",
   "name": "python",
   "nbconvert_exporter": "python",
   "pygments_lexer": "ipython3",
   "version": "3.7.4"
  }
 },
 "nbformat": 4,
 "nbformat_minor": 2
}
